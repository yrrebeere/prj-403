{
 "cells": [
  {
   "cell_type": "code",
   "execution_count": 1,
   "id": "ce823506adcaf033",
   "metadata": {
    "ExecuteTime": {
     "end_time": "2023-11-25T13:29:21.453838Z",
     "start_time": "2023-11-25T13:29:19.631210Z"
    }
   },
   "outputs": [],
   "source": [
    "import pandas as pd\n",
    "from prophet import Prophet\n",
    "from sklearn.metrics import mean_squared_error, mean_squared_log_error\n",
    "import numpy as np"
   ]
  },
  {
   "cell_type": "code",
   "execution_count": 2,
   "id": "b87a0d157cdcd68b",
   "metadata": {
    "ExecuteTime": {
     "end_time": "2023-11-25T13:29:21.557583Z",
     "start_time": "2023-11-25T13:29:21.454701Z"
    }
   },
   "outputs": [],
   "source": [
    "df = pd.read_csv('../../Data/Pharmacy/D4.csv', parse_dates=['date'], dayfirst=True)"
   ]
  },
  {
   "cell_type": "code",
   "execution_count": 3,
   "id": "5a61066dc25543ac",
   "metadata": {
    "ExecuteTime": {
     "end_time": "2023-11-25T13:29:21.562230Z",
     "start_time": "2023-11-25T13:29:21.558002Z"
    }
   },
   "outputs": [],
   "source": [
    "df.rename(columns={'date': 'ds', 'looseqty': 'y'}, inplace=True)"
   ]
  },
  {
   "cell_type": "code",
   "execution_count": 4,
   "id": "596010518e5791d4",
   "metadata": {
    "ExecuteTime": {
     "end_time": "2023-11-25T13:30:39.298670Z",
     "start_time": "2023-11-25T13:30:39.286127Z"
    }
   },
   "outputs": [
    {
     "data": {
      "text/plain": [
       "6053"
      ]
     },
     "execution_count": 4,
     "metadata": {},
     "output_type": "execute_result"
    }
   ],
   "source": [
    "unique_products = df['itemname'].unique()\n",
    "unique_products.size"
   ]
  },
  {
   "cell_type": "code",
   "execution_count": 5,
   "id": "5cc883dbdf5ff185",
   "metadata": {
    "ExecuteTime": {
     "end_time": "2023-11-25T13:29:21.582612Z",
     "start_time": "2023-11-25T13:29:21.568008Z"
    }
   },
   "outputs": [],
   "source": [
    "total_sales_by_product = df.groupby('itemname')['y'].sum().reset_index()"
   ]
  },
  {
   "cell_type": "code",
   "execution_count": 6,
   "id": "3afc86087d93df57",
   "metadata": {
    "ExecuteTime": {
     "end_time": "2023-11-24T20:49:47.712971Z",
     "start_time": "2023-11-24T20:49:47.710173Z"
    }
   },
   "outputs": [],
   "source": [
    "top_10_products = total_sales_by_product.nlargest(10, 'y')['itemname'].tolist()"
   ]
  },
  {
   "cell_type": "code",
   "execution_count": 7,
   "id": "3b34de02db82dacf",
   "metadata": {
    "ExecuteTime": {
     "end_time": "2023-11-24T20:49:47.716723Z",
     "start_time": "2023-11-24T20:49:47.714067Z"
    }
   },
   "outputs": [
    {
     "data": {
      "text/plain": [
       "['PANADOL TAB',\n",
       " 'LOPRIN 75MG TAB',\n",
       " \"SURBEX Z TAB(30'S)\",\n",
       " 'GLUCOPHAGE 500MG TAB',\n",
       " 'FACE MASK  3 PLY  GREEN  RS(5)',\n",
       " \"DISPRIN 300MG TAB (600'S)\",\n",
       " \"CALPOL TAB (200'S)\",\n",
       " 'PANADOL EXTRA TAB',\n",
       " 'METHYCOBAL TAB',\n",
       " 'NUBEROL FORTE TAB']"
      ]
     },
     "execution_count": 7,
     "metadata": {},
     "output_type": "execute_result"
    }
   ],
   "source": [
    "top_10_products"
   ]
  },
  {
   "cell_type": "code",
   "execution_count": 8,
   "id": "63e636c65c57ce69",
   "metadata": {
    "ExecuteTime": {
     "end_time": "2023-11-24T20:49:47.719906Z",
     "start_time": "2023-11-24T20:49:47.717389Z"
    }
   },
   "outputs": [],
   "source": [
    "models = {}\n",
    "predictions = {}\n",
    "rmse_scores = {}\n",
    "rmsle_scores = {}"
   ]
  },
  {
   "cell_type": "code",
   "execution_count": 9,
   "id": "bca100ed82cff14f",
   "metadata": {
    "ExecuteTime": {
     "end_time": "2023-11-24T20:49:49.102474Z",
     "start_time": "2023-11-24T20:49:47.725139Z"
    }
   },
   "outputs": [
    {
     "name": "stderr",
     "output_type": "stream",
     "text": [
      "02:16:09 - cmdstanpy - INFO - Chain [1] start processing\n",
      "02:16:09 - cmdstanpy - INFO - Chain [1] done processing\n",
      "02:16:09 - cmdstanpy - INFO - Chain [1] start processing\n",
      "02:16:09 - cmdstanpy - INFO - Chain [1] done processing\n",
      "02:16:10 - cmdstanpy - INFO - Chain [1] start processing\n",
      "02:16:10 - cmdstanpy - INFO - Chain [1] done processing\n"
     ]
    },
    {
     "name": "stdout",
     "output_type": "stream",
     "text": [
      "\n",
      "RMSE for PANADOL TAB: 451.3002894214666\n",
      "RMSLE for PANADOL TAB: 1.449161742068069\n",
      "\n",
      "RMSE for LOPRIN 75MG TAB: 52.66517706332909\n",
      "RMSLE for LOPRIN 75MG TAB: 0.8198845680482802\n"
     ]
    },
    {
     "name": "stderr",
     "output_type": "stream",
     "text": [
      "02:16:10 - cmdstanpy - INFO - Chain [1] start processing\n",
      "02:16:10 - cmdstanpy - INFO - Chain [1] done processing\n",
      "02:16:10 - cmdstanpy - INFO - Chain [1] start processing\n",
      "02:16:10 - cmdstanpy - INFO - Chain [1] done processing\n"
     ]
    },
    {
     "name": "stdout",
     "output_type": "stream",
     "text": [
      "\n",
      "RMSE for SURBEX Z TAB(30'S): 51.675049026206686\n",
      "RMSLE for SURBEX Z TAB(30'S): 0.8403581403162298\n",
      "\n",
      "RMSE for GLUCOPHAGE 500MG TAB: 51.15314793486179\n",
      "RMSLE for GLUCOPHAGE 500MG TAB: 0.8840147737925206\n"
     ]
    },
    {
     "name": "stderr",
     "output_type": "stream",
     "text": [
      "02:16:10 - cmdstanpy - INFO - Chain [1] start processing\n",
      "02:16:10 - cmdstanpy - INFO - Chain [1] done processing\n",
      "02:16:10 - cmdstanpy - INFO - Chain [1] start processing\n",
      "02:16:10 - cmdstanpy - INFO - Chain [1] done processing\n"
     ]
    },
    {
     "name": "stdout",
     "output_type": "stream",
     "text": [
      "\n",
      "RMSE for FACE MASK  3 PLY  GREEN  RS(5): 93.51550739858368\n",
      "RMSLE for FACE MASK  3 PLY  GREEN  RS(5): 0.9510361935653933\n",
      "\n",
      "RMSE for DISPRIN 300MG TAB (600'S): 69.37346495085586\n",
      "RMSLE for DISPRIN 300MG TAB (600'S): 2.656094501643137\n"
     ]
    },
    {
     "name": "stderr",
     "output_type": "stream",
     "text": [
      "02:16:10 - cmdstanpy - INFO - Chain [1] start processing\n",
      "02:16:10 - cmdstanpy - INFO - Chain [1] done processing\n",
      "02:16:10 - cmdstanpy - INFO - Chain [1] start processing\n",
      "02:16:10 - cmdstanpy - INFO - Chain [1] done processing\n"
     ]
    },
    {
     "name": "stdout",
     "output_type": "stream",
     "text": [
      "\n",
      "RMSE for CALPOL TAB (200'S): 83.17048367876455\n",
      "RMSLE for CALPOL TAB (200'S): 3.7088403000747254\n",
      "\n",
      "RMSE for PANADOL EXTRA TAB: 57.13100694441406\n",
      "RMSLE for PANADOL EXTRA TAB: 1.1875023458530114\n"
     ]
    },
    {
     "name": "stderr",
     "output_type": "stream",
     "text": [
      "02:16:10 - cmdstanpy - INFO - Chain [1] start processing\n",
      "02:16:10 - cmdstanpy - INFO - Chain [1] done processing\n"
     ]
    },
    {
     "name": "stdout",
     "output_type": "stream",
     "text": [
      "\n",
      "RMSE for METHYCOBAL TAB: 34.53889343574355\n",
      "RMSLE for METHYCOBAL TAB: 0.8022049117750772\n",
      "\n",
      "RMSE for NUBEROL FORTE TAB: 25.039545651691686\n",
      "RMSLE for NUBEROL FORTE TAB: 0.5509621497620908\n"
     ]
    }
   ],
   "source": [
    "for product in top_10_products:\n",
    "    product_data = df[df['itemname'] == product]\n",
    "\n",
    "    try:\n",
    "        model = Prophet()\n",
    "        model.fit(product_data)\n",
    "    \n",
    "        future = model.make_future_dataframe(periods=len(product_data))\n",
    "    \n",
    "        forecast = model.predict(future)\n",
    "    \n",
    "        models[product] = model\n",
    "        predictions[product] = forecast\n",
    "    \n",
    "        actual_values = product_data['y'].values\n",
    "        predicted_values = forecast.tail(len(product_data))['yhat'].values\n",
    "        \n",
    "        predicted_values = np.maximum(predicted_values, 0)\n",
    "    \n",
    "        rmse = np.sqrt(mean_squared_error(actual_values, predicted_values))\n",
    "        rmsle = np.sqrt(mean_squared_log_error(actual_values, predicted_values))\n",
    "        \n",
    "        rmse_scores[product] = rmse\n",
    "        rmsle_scores[product] = rmsle\n",
    "    \n",
    "        print(f\"\\nRMSE for {product}: {rmse}\")\n",
    "        print(f\"RMSLE for {product}: {rmsle}\")\n",
    "\n",
    "    except Exception as e:\n",
    "        print(f\"\\nError processing {product}: {e}\\n\")\n"
   ]
  },
  {
   "cell_type": "code",
   "execution_count": 10,
   "id": "e2dc14a57e07d09",
   "metadata": {
    "ExecuteTime": {
     "end_time": "2023-11-24T20:49:49.104705Z",
     "start_time": "2023-11-24T20:49:49.101987Z"
    }
   },
   "outputs": [],
   "source": [
    "average_rmse = np.mean(list(rmse_scores.values()))\n",
    "average_rmsle = np.mean(list(rmsle_scores.values()))"
   ]
  },
  {
   "cell_type": "code",
   "execution_count": 11,
   "id": "46beeceb",
   "metadata": {},
   "outputs": [
    {
     "name": "stdout",
     "output_type": "stream",
     "text": [
      "Average RMSE for the top 10 products: 96.95625655059175\n",
      "Average RMSLE for the top 10 products: 1.3850059626898534\n"
     ]
    }
   ],
   "source": [
    "print(f\"Average RMSE for the top 10 products: {average_rmse}\")\n",
    "print(f\"Average RMSLE for the top 10 products: {average_rmsle}\")"
   ]
  }
 ],
 "metadata": {
  "kernelspec": {
   "display_name": "Python 3 (ipykernel)",
   "language": "python",
   "name": "python3"
  },
  "language_info": {
   "codemirror_mode": {
    "name": "ipython",
    "version": 3
   },
   "file_extension": ".py",
   "mimetype": "text/x-python",
   "name": "python",
   "nbconvert_exporter": "python",
   "pygments_lexer": "ipython3",
   "version": "3.11.5"
  }
 },
 "nbformat": 4,
 "nbformat_minor": 5
}
