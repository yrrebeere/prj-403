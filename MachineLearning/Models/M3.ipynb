{
 "cells": [
  {
   "cell_type": "code",
   "execution_count": 1,
   "outputs": [],
   "source": [
    "import pandas as pd\n",
    "from prophet import Prophet\n",
    "from sklearn.metrics import mean_squared_log_error\n",
    "import numpy as np"
   ],
   "metadata": {
    "collapsed": false,
    "ExecuteTime": {
     "end_time": "2023-11-24T20:49:47.597245Z",
     "start_time": "2023-11-24T20:49:46.750942Z"
    }
   },
   "id": "ce823506adcaf033"
  },
  {
   "cell_type": "code",
   "execution_count": 2,
   "outputs": [],
   "source": [
    "df = pd.read_csv('../../Data/Pharmacy/D4.csv', parse_dates=['date'], dayfirst=True)"
   ],
   "metadata": {
    "collapsed": false,
    "ExecuteTime": {
     "end_time": "2023-11-24T20:49:47.688989Z",
     "start_time": "2023-11-24T20:49:47.597962Z"
    }
   },
   "id": "b87a0d157cdcd68b"
  },
  {
   "cell_type": "code",
   "execution_count": 3,
   "outputs": [],
   "source": [
    "df.rename(columns={'date': 'ds', 'looseqty': 'y'}, inplace=True)"
   ],
   "metadata": {
    "collapsed": false,
    "ExecuteTime": {
     "end_time": "2023-11-24T20:49:47.692222Z",
     "start_time": "2023-11-24T20:49:47.689617Z"
    }
   },
   "id": "5a61066dc25543ac"
  },
  {
   "cell_type": "code",
   "execution_count": 4,
   "outputs": [],
   "source": [
    "total_sales_by_product = df.groupby('itemname')['y'].sum().reset_index()"
   ],
   "metadata": {
    "collapsed": false,
    "ExecuteTime": {
     "end_time": "2023-11-24T20:49:47.707985Z",
     "start_time": "2023-11-24T20:49:47.696025Z"
    }
   },
   "id": "5cc883dbdf5ff185"
  },
  {
   "cell_type": "code",
   "execution_count": 5,
   "outputs": [],
   "source": [
    "top_10_products = total_sales_by_product.nlargest(10, 'y')['itemname'].tolist()"
   ],
   "metadata": {
    "collapsed": false,
    "ExecuteTime": {
     "end_time": "2023-11-24T20:49:47.712971Z",
     "start_time": "2023-11-24T20:49:47.710173Z"
    }
   },
   "id": "3afc86087d93df57"
  },
  {
   "cell_type": "code",
   "execution_count": 6,
   "outputs": [
    {
     "data": {
      "text/plain": "['PANADOL TAB',\n 'LOPRIN 75MG TAB',\n \"SURBEX Z TAB(30'S)\",\n 'GLUCOPHAGE 500MG TAB',\n 'FACE MASK  3 PLY  GREEN  RS(5)',\n \"DISPRIN 300MG TAB (600'S)\",\n \"CALPOL TAB (200'S)\",\n 'PANADOL EXTRA TAB',\n 'METHYCOBAL TAB',\n 'NUBEROL FORTE TAB']"
     },
     "execution_count": 6,
     "metadata": {},
     "output_type": "execute_result"
    }
   ],
   "source": [
    "top_10_products"
   ],
   "metadata": {
    "collapsed": false,
    "ExecuteTime": {
     "end_time": "2023-11-24T20:49:47.716723Z",
     "start_time": "2023-11-24T20:49:47.714067Z"
    }
   },
   "id": "3b34de02db82dacf"
  },
  {
   "cell_type": "code",
   "execution_count": 7,
   "outputs": [],
   "source": [
    "models = {}\n",
    "predictions = {}\n",
    "rmsle_scores = {}"
   ],
   "metadata": {
    "collapsed": false,
    "ExecuteTime": {
     "end_time": "2023-11-24T20:49:47.719906Z",
     "start_time": "2023-11-24T20:49:47.717389Z"
    }
   },
   "id": "63e636c65c57ce69"
  },
  {
   "cell_type": "code",
   "execution_count": 8,
   "outputs": [
    {
     "name": "stderr",
     "output_type": "stream",
     "text": [
      "01:49:47 - cmdstanpy - INFO - Chain [1] start processing\n",
      "01:49:47 - cmdstanpy - INFO - Chain [1] done processing\n",
      "01:49:47 - cmdstanpy - INFO - Chain [1] start processing\n",
      "01:49:47 - cmdstanpy - INFO - Chain [1] done processing\n",
      "01:49:48 - cmdstanpy - INFO - Chain [1] start processing\n",
      "01:49:48 - cmdstanpy - INFO - Chain [1] done processing\n"
     ]
    },
    {
     "name": "stdout",
     "output_type": "stream",
     "text": [
      "RMSLE for PANADOL TAB: 1.449161742068069\n",
      "RMSLE for LOPRIN 75MG TAB: 0.8198845680482802\n"
     ]
    },
    {
     "name": "stderr",
     "output_type": "stream",
     "text": [
      "01:49:48 - cmdstanpy - INFO - Chain [1] start processing\n",
      "01:49:48 - cmdstanpy - INFO - Chain [1] done processing\n",
      "01:49:48 - cmdstanpy - INFO - Chain [1] start processing\n",
      "01:49:48 - cmdstanpy - INFO - Chain [1] done processing\n"
     ]
    },
    {
     "name": "stdout",
     "output_type": "stream",
     "text": [
      "RMSLE for SURBEX Z TAB(30'S): 0.8403581403162298\n",
      "RMSLE for GLUCOPHAGE 500MG TAB: 0.8840147737925206\n"
     ]
    },
    {
     "name": "stderr",
     "output_type": "stream",
     "text": [
      "01:49:48 - cmdstanpy - INFO - Chain [1] start processing\n",
      "01:49:48 - cmdstanpy - INFO - Chain [1] done processing\n",
      "01:49:48 - cmdstanpy - INFO - Chain [1] start processing\n",
      "01:49:48 - cmdstanpy - INFO - Chain [1] done processing\n"
     ]
    },
    {
     "name": "stdout",
     "output_type": "stream",
     "text": [
      "RMSLE for FACE MASK  3 PLY  GREEN  RS(5): 0.9510361935653933\n",
      "\n",
      "Error processing DISPRIN 300MG TAB (600'S): Mean Squared Logarithmic Error cannot be used when targets contain negative values.\n"
     ]
    },
    {
     "name": "stderr",
     "output_type": "stream",
     "text": [
      "01:49:48 - cmdstanpy - INFO - Chain [1] start processing\n",
      "01:49:48 - cmdstanpy - INFO - Chain [1] done processing\n",
      "01:49:48 - cmdstanpy - INFO - Chain [1] start processing\n",
      "01:49:48 - cmdstanpy - INFO - Chain [1] done processing\n"
     ]
    },
    {
     "name": "stdout",
     "output_type": "stream",
     "text": [
      "\n",
      "Error processing CALPOL TAB (200'S): Mean Squared Logarithmic Error cannot be used when targets contain negative values.\n",
      "\n",
      "RMSLE for PANADOL EXTRA TAB: 1.1875023458530114\n"
     ]
    },
    {
     "name": "stderr",
     "output_type": "stream",
     "text": [
      "01:49:48 - cmdstanpy - INFO - Chain [1] start processing\n",
      "01:49:48 - cmdstanpy - INFO - Chain [1] done processing\n"
     ]
    },
    {
     "name": "stdout",
     "output_type": "stream",
     "text": [
      "RMSLE for METHYCOBAL TAB: 0.8022049117750772\n",
      "RMSLE for NUBEROL FORTE TAB: 0.5509621497620908\n"
     ]
    }
   ],
   "source": [
    "for product in top_10_products:\n",
    "    product_data = df[df['itemname'] == product]\n",
    "\n",
    "    try:\n",
    "        model = Prophet()\n",
    "        model.fit(product_data)\n",
    "    \n",
    "        future = model.make_future_dataframe(periods=len(product_data))\n",
    "    \n",
    "        forecast = model.predict(future)\n",
    "    \n",
    "        models[product] = model\n",
    "        predictions[product] = forecast\n",
    "    \n",
    "        actual_values = product_data['y'].values\n",
    "        predicted_values = forecast.tail(len(product_data))['yhat'].values\n",
    "    \n",
    "        rmsle = np.sqrt(mean_squared_log_error(actual_values, predicted_values))\n",
    "        rmsle_scores[product] = rmsle\n",
    "    \n",
    "        print(f\"RMSLE for {product}: {rmsle}\")\n",
    "\n",
    "    except Exception as e:\n",
    "        print(f\"\\nError processing {product}: {e}\\n\")\n"
   ],
   "metadata": {
    "collapsed": false,
    "ExecuteTime": {
     "end_time": "2023-11-24T20:49:49.102474Z",
     "start_time": "2023-11-24T20:49:47.725139Z"
    }
   },
   "id": "bca100ed82cff14f"
  },
  {
   "cell_type": "code",
   "execution_count": 9,
   "outputs": [
    {
     "name": "stdout",
     "output_type": "stream",
     "text": [
      "Average RMSLE for the top 10 products: 0.935640603147584\n"
     ]
    }
   ],
   "source": [
    "average_rmsle = np.mean(list(rmsle_scores.values()))\n",
    "print(f\"Average RMSLE for the top 10 products: {average_rmsle}\")"
   ],
   "metadata": {
    "collapsed": false,
    "ExecuteTime": {
     "end_time": "2023-11-24T20:49:49.104705Z",
     "start_time": "2023-11-24T20:49:49.101987Z"
    }
   },
   "id": "e2dc14a57e07d09"
  },
  {
   "cell_type": "code",
   "execution_count": 9,
   "outputs": [],
   "source": [],
   "metadata": {
    "collapsed": false,
    "ExecuteTime": {
     "end_time": "2023-11-24T20:49:49.106361Z",
     "start_time": "2023-11-24T20:49:49.103921Z"
    }
   },
   "id": "3a18195e5bf271f1"
  }
 ],
 "metadata": {
  "kernelspec": {
   "display_name": "Python 3",
   "language": "python",
   "name": "python3"
  },
  "language_info": {
   "codemirror_mode": {
    "name": "ipython",
    "version": 2
   },
   "file_extension": ".py",
   "mimetype": "text/x-python",
   "name": "python",
   "nbconvert_exporter": "python",
   "pygments_lexer": "ipython2",
   "version": "2.7.6"
  }
 },
 "nbformat": 4,
 "nbformat_minor": 5
}
