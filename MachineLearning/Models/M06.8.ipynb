{
 "cells": [
  {
   "cell_type": "code",
   "execution_count": null,
   "id": "69857d25",
   "metadata": {},
   "outputs": [],
   "source": [
    "import pandas as pd\n",
    "import numpy as np\n",
    "from darts import TimeSeries\n",
    "from darts.models import XGBModel\n",
    "from sklearn.metrics import mean_squared_error, mean_squared_log_error\n",
    "import matplotlib.pyplot as plt"
   ]
  },
  {
   "cell_type": "code",
   "execution_count": null,
   "id": "357e05b1",
   "metadata": {},
   "outputs": [],
   "source": [
    "df = pd.read_csv(\"../../Data/Kaggle/StoreSales/train_darts.csv\", parse_dates=[\"date\"])"
   ]
  },
  {
   "cell_type": "code",
   "execution_count": null,
   "id": "11c12468",
   "metadata": {},
   "outputs": [],
   "source": [
    "df.head()"
   ]
  },
  {
   "cell_type": "code",
   "execution_count": null,
   "id": "9e97fa15",
   "metadata": {},
   "outputs": [],
   "source": [
    "unique_combinations = df[['store_nbr', 'family']].drop_duplicates()"
   ]
  },
  {
   "cell_type": "code",
   "execution_count": null,
   "id": "babbe7b1",
   "metadata": {},
   "outputs": [],
   "source": [
    "total_rmse = 0\n",
    "total_rmsle = 0\n",
    "num_models = 0"
   ]
  },
  {
   "cell_type": "code",
   "execution_count": null,
   "id": "38901250",
   "metadata": {},
   "outputs": [],
   "source": [
    "trained_models = {}"
   ]
  },
  {
   "cell_type": "code",
   "execution_count": null,
   "id": "c6d9ee58",
   "metadata": {},
   "outputs": [],
   "source": [
    "for index, row in unique_combinations.iterrows():\n",
    "    store_nbr = row['store_nbr']\n",
    "    family = row['family']\n",
    "    \n",
    "    print(f\"\\nTraining model for store {store_nbr} and family {family}...\")\n",
    "    \n",
    "    df_subset = df[(df['store_nbr'] == store_nbr) & (df['family'] == family)]\n",
    "    \n",
    "    dcoilwtico_series = TimeSeries.from_dataframe(df_subset, value_cols=[\"dcoilwtico\"])\n",
    "    \n",
    "    ts = TimeSeries.from_dataframe(df_subset, value_cols=[\"sales\"])\n",
    "\n",
    "    training_size = int(len(ts) - 30)\n",
    "    \n",
    "    train = ts[:training_size]\n",
    "    val = ts[training_size:]\n",
    "    \n",
    "    len_future_covariates = len(val)\n",
    "    future_covariates_lags = list(range(len_future_covariates))\n",
    "\n",
    "    model = XGBModel(lags=30, lags_future_covariates=future_covariates_lags, output_chunk_length=30)\n",
    "    model.fit(train, future_covariates=dcoilwtico_series)\n",
    "\n",
    "    trained_models[(store_nbr, family)] = model\n",
    "\n",
    "    predictions = model.predict(n=len(val))\n",
    "\n",
    "    val = val.pd_series().tolist()\n",
    "    predictions = predictions.pd_series().tolist()\n",
    "\n",
    "    predictions = np.maximum(predictions, 0)\n",
    "\n",
    "    rmse = np.sqrt(mean_squared_error(val, predictions))\n",
    "    rmsle = np.sqrt(mean_squared_error(np.log1p(val), np.log1p(predictions)))\n",
    "\n",
    "    total_rmse += rmse\n",
    "    total_rmsle += rmsle\n",
    "    num_models += 1\n",
    "\n",
    "    print(f\"Root Mean Squared Error (RMSE): {rmse}\")\n",
    "    print(f\"Root Mean Squared Logarithmic Error (RMSLE): {rmsle}\")\n",
    "\n",
    "    plt.figure(figsize=(12, 6))\n",
    "    plt.plot(val, label='Actual')\n",
    "    plt.plot(predictions, label='Predictions')\n",
    "    plt.title(f\"Model for store {store_nbr} and family {family}\")\n",
    "    plt.legend()\n",
    "    plt.savefig(f\"XGBoost/Monthly/Oil_M06.6_store{store_nbr}_family{family}.png\")\n",
    "    plt.close()"
   ]
  },
  {
   "cell_type": "code",
   "execution_count": null,
   "id": "fbc7a814",
   "metadata": {},
   "outputs": [],
   "source": [
    "avg_rmse = total_rmse / num_models\n",
    "avg_rmsle = total_rmsle / num_models"
   ]
  },
  {
   "cell_type": "code",
   "execution_count": null,
   "id": "6641992c",
   "metadata": {},
   "outputs": [],
   "source": [
    "print(f\"Average Root Mean Squared Error (RMSE) across all models: {avg_rmse}\")\n",
    "print(f\"Average Root Mean Squared Logarithmic Error (RMSLE) across all models: {avg_rmsle}\")"
   ]
  }
 ],
 "metadata": {
  "kernelspec": {
   "display_name": "Python 3 (ipykernel)",
   "language": "python",
   "name": "python3"
  },
  "language_info": {
   "codemirror_mode": {
    "name": "ipython",
    "version": 3
   },
   "file_extension": ".py",
   "mimetype": "text/x-python",
   "name": "python",
   "nbconvert_exporter": "python",
   "pygments_lexer": "ipython3",
   "version": "3.11.5"
  }
 },
 "nbformat": 4,
 "nbformat_minor": 5
}
