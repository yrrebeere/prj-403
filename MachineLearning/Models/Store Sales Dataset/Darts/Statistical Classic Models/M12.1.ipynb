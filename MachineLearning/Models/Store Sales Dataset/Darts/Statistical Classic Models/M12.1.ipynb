{
 "cells": [
  {
   "cell_type": "code",
   "execution_count": 1,
   "id": "127e7cf2",
   "metadata": {},
   "outputs": [],
   "source": [
    "import pandas as pd\n",
    "from darts import TimeSeries\n",
    "from darts.models import ExponentialSmoothing\n",
    "from darts.metrics import rmse, rmsle\n",
    "import matplotlib.pyplot as plt"
   ]
  },
  {
   "cell_type": "code",
   "execution_count": 2,
   "id": "21be3db5",
   "metadata": {},
   "outputs": [],
   "source": [
    "df = pd.read_csv(\"../../Data/Kaggle/StoreSales/darts_multivariate.csv\", parse_dates=[\"date\"])"
   ]
  },
  {
   "cell_type": "code",
   "execution_count": 3,
   "id": "ceded3f7",
   "metadata": {},
   "outputs": [
    {
     "data": {
      "text/html": [
       "<div>\n",
       "<style scoped>\n",
       "    .dataframe tbody tr th:only-of-type {\n",
       "        vertical-align: middle;\n",
       "    }\n",
       "\n",
       "    .dataframe tbody tr th {\n",
       "        vertical-align: top;\n",
       "    }\n",
       "\n",
       "    .dataframe thead th {\n",
       "        text-align: right;\n",
       "    }\n",
       "</style>\n",
       "<table border=\"1\" class=\"dataframe\">\n",
       "  <thead>\n",
       "    <tr style=\"text-align: right;\">\n",
       "      <th></th>\n",
       "      <th>date</th>\n",
       "      <th>store_nbr</th>\n",
       "      <th>family</th>\n",
       "      <th>sales</th>\n",
       "      <th>onpromotion</th>\n",
       "      <th>typeholiday</th>\n",
       "      <th>dcoilwtico</th>\n",
       "      <th>city</th>\n",
       "      <th>state</th>\n",
       "      <th>typestores</th>\n",
       "      <th>cluster</th>\n",
       "      <th>day_of_week</th>\n",
       "      <th>day</th>\n",
       "      <th>month</th>\n",
       "      <th>year</th>\n",
       "    </tr>\n",
       "  </thead>\n",
       "  <tbody>\n",
       "    <tr>\n",
       "      <th>0</th>\n",
       "      <td>2013-01-01</td>\n",
       "      <td>8</td>\n",
       "      <td>30</td>\n",
       "      <td>0.0</td>\n",
       "      <td>0</td>\n",
       "      <td>3</td>\n",
       "      <td>93.140000</td>\n",
       "      <td>18</td>\n",
       "      <td>12</td>\n",
       "      <td>3</td>\n",
       "      <td>8</td>\n",
       "      <td>2</td>\n",
       "      <td>1</td>\n",
       "      <td>1</td>\n",
       "      <td>2013</td>\n",
       "    </tr>\n",
       "    <tr>\n",
       "      <th>1</th>\n",
       "      <td>2013-01-02</td>\n",
       "      <td>8</td>\n",
       "      <td>30</td>\n",
       "      <td>0.0</td>\n",
       "      <td>0</td>\n",
       "      <td>4</td>\n",
       "      <td>93.140000</td>\n",
       "      <td>18</td>\n",
       "      <td>12</td>\n",
       "      <td>3</td>\n",
       "      <td>8</td>\n",
       "      <td>3</td>\n",
       "      <td>2</td>\n",
       "      <td>1</td>\n",
       "      <td>2013</td>\n",
       "    </tr>\n",
       "    <tr>\n",
       "      <th>2</th>\n",
       "      <td>2013-01-03</td>\n",
       "      <td>8</td>\n",
       "      <td>30</td>\n",
       "      <td>0.0</td>\n",
       "      <td>0</td>\n",
       "      <td>4</td>\n",
       "      <td>92.970000</td>\n",
       "      <td>18</td>\n",
       "      <td>12</td>\n",
       "      <td>3</td>\n",
       "      <td>8</td>\n",
       "      <td>4</td>\n",
       "      <td>3</td>\n",
       "      <td>1</td>\n",
       "      <td>2013</td>\n",
       "    </tr>\n",
       "    <tr>\n",
       "      <th>3</th>\n",
       "      <td>2013-01-04</td>\n",
       "      <td>8</td>\n",
       "      <td>30</td>\n",
       "      <td>0.0</td>\n",
       "      <td>0</td>\n",
       "      <td>4</td>\n",
       "      <td>93.120000</td>\n",
       "      <td>18</td>\n",
       "      <td>12</td>\n",
       "      <td>3</td>\n",
       "      <td>8</td>\n",
       "      <td>5</td>\n",
       "      <td>4</td>\n",
       "      <td>1</td>\n",
       "      <td>2013</td>\n",
       "    </tr>\n",
       "    <tr>\n",
       "      <th>4</th>\n",
       "      <td>2013-01-05</td>\n",
       "      <td>8</td>\n",
       "      <td>30</td>\n",
       "      <td>0.0</td>\n",
       "      <td>0</td>\n",
       "      <td>4</td>\n",
       "      <td>93.159203</td>\n",
       "      <td>18</td>\n",
       "      <td>12</td>\n",
       "      <td>3</td>\n",
       "      <td>8</td>\n",
       "      <td>6</td>\n",
       "      <td>5</td>\n",
       "      <td>1</td>\n",
       "      <td>2013</td>\n",
       "    </tr>\n",
       "  </tbody>\n",
       "</table>\n",
       "</div>"
      ],
      "text/plain": [
       "        date  store_nbr  family  sales  onpromotion  typeholiday  dcoilwtico  \\\n",
       "0 2013-01-01          8      30    0.0            0            3   93.140000   \n",
       "1 2013-01-02          8      30    0.0            0            4   93.140000   \n",
       "2 2013-01-03          8      30    0.0            0            4   92.970000   \n",
       "3 2013-01-04          8      30    0.0            0            4   93.120000   \n",
       "4 2013-01-05          8      30    0.0            0            4   93.159203   \n",
       "\n",
       "   city  state  typestores  cluster  day_of_week  day  month  year  \n",
       "0    18     12           3        8            2    1      1  2013  \n",
       "1    18     12           3        8            3    2      1  2013  \n",
       "2    18     12           3        8            4    3      1  2013  \n",
       "3    18     12           3        8            5    4      1  2013  \n",
       "4    18     12           3        8            6    5      1  2013  "
      ]
     },
     "execution_count": 3,
     "metadata": {},
     "output_type": "execute_result"
    }
   ],
   "source": [
    "df.head()"
   ]
  },
  {
   "cell_type": "code",
   "execution_count": 4,
   "id": "85aae157",
   "metadata": {},
   "outputs": [],
   "source": [
    "ts = TimeSeries.from_dataframe(df, value_cols=[\"sales\"])"
   ]
  },
  {
   "cell_type": "code",
   "execution_count": 5,
   "id": "dece0211",
   "metadata": {},
   "outputs": [],
   "source": [
    "training_size = len(ts) - 16"
   ]
  },
  {
   "cell_type": "code",
   "execution_count": 6,
   "id": "418049f4",
   "metadata": {},
   "outputs": [],
   "source": [
    "train = ts[:training_size]\n",
    "val = ts[training_size:]"
   ]
  },
  {
   "cell_type": "code",
   "execution_count": 7,
   "id": "b8050313-f36e-4d18-b992-acbe6e4ba719",
   "metadata": {},
   "outputs": [
    {
     "name": "stderr",
     "output_type": "stream",
     "text": [
      "/Users/yrrebeere/anaconda3/lib/python3.11/site-packages/statsmodels/tsa/holtwinters/model.py:918: ConvergenceWarning: Optimization failed to converge. Check mle_retvals.\n",
      "  warnings.warn(\n"
     ]
    },
    {
     "data": {
      "text/plain": [
       "ExponentialSmoothing(trend=ModelMode.ADDITIVE, damped=False, seasonal=SeasonalityMode.ADDITIVE, seasonal_periods=None, random_state=0, kwargs=None)"
      ]
     },
     "execution_count": 7,
     "metadata": {},
     "output_type": "execute_result"
    }
   ],
   "source": [
    "model = ExponentialSmoothing()\n",
    "model.fit(train)"
   ]
  },
  {
   "cell_type": "code",
   "execution_count": 8,
   "id": "1f6409d8",
   "metadata": {},
   "outputs": [],
   "source": [
    "predictions = model.predict(n=len(val))"
   ]
  },
  {
   "cell_type": "code",
   "execution_count": 9,
   "id": "3776fe30",
   "metadata": {},
   "outputs": [],
   "source": [
    "rmse = rmse(val, predictions)\n",
    "rmsle = rmsle(val, predictions)"
   ]
  },
  {
   "cell_type": "code",
   "execution_count": 10,
   "id": "e00d6846-c0be-4cb9-b43e-d608fb6217d6",
   "metadata": {},
   "outputs": [],
   "source": [
    "val = val.pd_series().tolist()\n",
    "predictions = predictions.pd_series().tolist()"
   ]
  },
  {
   "cell_type": "code",
   "execution_count": 11,
   "id": "5e632b37",
   "metadata": {},
   "outputs": [
    {
     "name": "stdout",
     "output_type": "stream",
     "text": [
      "Root Mean Squared Error (RMSE): 1155.9268194396186\n",
      "Root Mean Squared Logarithmic Error (RMSLE): 0.24834295769922735\n"
     ]
    }
   ],
   "source": [
    "print(f\"Root Mean Squared Error (RMSE): {rmse}\")\n",
    "print(f\"Root Mean Squared Logarithmic Error (RMSLE): {rmsle}\")"
   ]
  },
  {
   "cell_type": "code",
   "execution_count": 12,
   "id": "4745addb",
   "metadata": {},
   "outputs": [
    {
     "data": {
      "image/png": "[encoded data removed]",
      "text/plain": [
       "<Figure size 1200x600 with 1 Axes>"
      ]
     },
     "metadata": {},
     "output_type": "display_data"
    }
   ],
   "source": [
    "plt.figure(figsize=(12, 6))\n",
    "plt.plot(val, label='Actual')\n",
    "plt.plot(predictions, label='Predictions')\n",
    "plt.legend()\n",
    "plt.show()"
   ]
  },
  {
   "cell_type": "code",
   "execution_count": null,
   "id": "3ebbc138",
   "metadata": {},
   "outputs": [],
   "source": []
  }
 ],
 "metadata": {
  "kernelspec": {
   "display_name": "Python 3 (ipykernel)",
   "language": "python",
   "name": "python3"
  },
  "language_info": {
   "codemirror_mode": {
    "name": "ipython",
    "version": 3
   },
   "file_extension": ".py",
   "mimetype": "text/x-python",
   "name": "python",
   "nbconvert_exporter": "python",
   "pygments_lexer": "ipython3",
   "version": "3.11.0"
  }
 },
 "nbformat": 4,
 "nbformat_minor": 5
}
