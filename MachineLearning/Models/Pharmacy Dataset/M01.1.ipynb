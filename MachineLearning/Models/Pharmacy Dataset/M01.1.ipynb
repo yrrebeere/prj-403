{
 "cells": [
  {
   "cell_type": "code",
   "execution_count": 1,
   "id": "7d3e1d86",
   "metadata": {
    "ExecuteTime": {
     "end_time": "2023-11-24T19:47:24.739310Z",
     "start_time": "2023-11-24T19:47:24.028641Z"
    }
   },
   "outputs": [],
   "source": [
    "import pandas as pd\n",
    "import numpy as np\n",
    "from sklearn.ensemble import RandomForestRegressor\n",
    "from sklearn.metrics import mean_squared_error, mean_squared_log_error"
   ]
  },
  {
   "cell_type": "code",
   "execution_count": 2,
   "id": "9e8af795",
   "metadata": {
    "ExecuteTime": {
     "end_time": "2023-11-24T19:47:24.746504Z",
     "start_time": "2023-11-24T19:47:24.740088Z"
    }
   },
   "outputs": [],
   "source": [
    "df = pd.read_csv('../../Data/Pharmacy/D4.csv')"
   ]
  },
  {
   "cell_type": "code",
   "execution_count": 3,
   "id": "17c3a7b5",
   "metadata": {
    "ExecuteTime": {
     "end_time": "2023-11-24T19:47:24.754358Z",
     "start_time": "2023-11-24T19:47:24.748437Z"
    }
   },
   "outputs": [
    {
     "data": {
      "text/html": [
       "<div>\n",
       "<style scoped>\n",
       "    .dataframe tbody tr th:only-of-type {\n",
       "        vertical-align: middle;\n",
       "    }\n",
       "\n",
       "    .dataframe tbody tr th {\n",
       "        vertical-align: top;\n",
       "    }\n",
       "\n",
       "    .dataframe thead th {\n",
       "        text-align: right;\n",
       "    }\n",
       "</style>\n",
       "<table border=\"1\" class=\"dataframe\">\n",
       "  <thead>\n",
       "    <tr style=\"text-align: right;\">\n",
       "      <th></th>\n",
       "      <th>date</th>\n",
       "      <th>itemname</th>\n",
       "      <th>packunits</th>\n",
       "      <th>expiry</th>\n",
       "      <th>price</th>\n",
       "      <th>looseqty</th>\n",
       "    </tr>\n",
       "  </thead>\n",
       "  <tbody>\n",
       "    <tr>\n",
       "      <th>0</th>\n",
       "      <td>01/07/2022</td>\n",
       "      <td>10CC SHIFA D/SYRINGE(UNJT)(BM)</td>\n",
       "      <td>100</td>\n",
       "      <td>12/12/24</td>\n",
       "      <td>30.00</td>\n",
       "      <td>6</td>\n",
       "    </tr>\n",
       "    <tr>\n",
       "      <th>1</th>\n",
       "      <td>01/07/2022</td>\n",
       "      <td>1CC BD  SYRINGE</td>\n",
       "      <td>100</td>\n",
       "      <td>12/12/24</td>\n",
       "      <td>30.00</td>\n",
       "      <td>1</td>\n",
       "    </tr>\n",
       "    <tr>\n",
       "      <th>2</th>\n",
       "      <td>01/07/2022</td>\n",
       "      <td>3CC SYRINGE INJEKT</td>\n",
       "      <td>100</td>\n",
       "      <td>3/1/24</td>\n",
       "      <td>15.00</td>\n",
       "      <td>3</td>\n",
       "    </tr>\n",
       "    <tr>\n",
       "      <th>3</th>\n",
       "      <td>01/07/2022</td>\n",
       "      <td>ACCU CHECK LANCET (CHINA)</td>\n",
       "      <td>200</td>\n",
       "      <td>12/12/24</td>\n",
       "      <td>3.00</td>\n",
       "      <td>50</td>\n",
       "    </tr>\n",
       "    <tr>\n",
       "      <th>4</th>\n",
       "      <td>01/07/2022</td>\n",
       "      <td>ACDERMIN GEL</td>\n",
       "      <td>1</td>\n",
       "      <td>5/1/23</td>\n",
       "      <td>278.44</td>\n",
       "      <td>1</td>\n",
       "    </tr>\n",
       "  </tbody>\n",
       "</table>\n",
       "</div>"
      ],
      "text/plain": [
       "         date                        itemname  packunits    expiry   price  \\\n",
       "0  01/07/2022  10CC SHIFA D/SYRINGE(UNJT)(BM)        100  12/12/24   30.00   \n",
       "1  01/07/2022                 1CC BD  SYRINGE        100  12/12/24   30.00   \n",
       "2  01/07/2022              3CC SYRINGE INJEKT        100    3/1/24   15.00   \n",
       "3  01/07/2022       ACCU CHECK LANCET (CHINA)        200  12/12/24    3.00   \n",
       "4  01/07/2022                    ACDERMIN GEL          1    5/1/23  278.44   \n",
       "\n",
       "   looseqty  \n",
       "0         6  \n",
       "1         1  \n",
       "2         3  \n",
       "3        50  \n",
       "4         1  "
      ]
     },
     "execution_count": 3,
     "metadata": {},
     "output_type": "execute_result"
    }
   ],
   "source": [
    "df.head()"
   ]
  },
  {
   "cell_type": "code",
   "execution_count": 4,
   "id": "a550ea8b",
   "metadata": {},
   "outputs": [
    {
     "data": {
      "text/plain": [
       "(213056, 6)"
      ]
     },
     "execution_count": 4,
     "metadata": {},
     "output_type": "execute_result"
    }
   ],
   "source": [
    "df.shape"
   ]
  },
  {
   "cell_type": "code",
   "execution_count": 5,
   "id": "62239e03",
   "metadata": {
    "ExecuteTime": {
     "end_time": "2023-11-24T19:47:24.756327Z",
     "start_time": "2023-11-24T19:47:24.754516Z"
    }
   },
   "outputs": [],
   "source": [
    "X = df[['date', 'itemname', 'packunits', 'expiry', 'price']]\n",
    "y = df['looseqty']"
   ]
  },
  {
   "cell_type": "code",
   "execution_count": 6,
   "id": "2a4140ac",
   "metadata": {
    "ExecuteTime": {
     "end_time": "2023-11-24T19:47:24.764590Z",
     "start_time": "2023-11-24T19:47:24.758068Z"
    }
   },
   "outputs": [],
   "source": [
    "X = pd.get_dummies(X)"
   ]
  },
  {
   "cell_type": "code",
   "execution_count": 7,
   "id": "84654f8c",
   "metadata": {},
   "outputs": [
    {
     "data": {
      "text/plain": [
       "(213056, 7477)"
      ]
     },
     "execution_count": 7,
     "metadata": {},
     "output_type": "execute_result"
    }
   ],
   "source": [
    "X.shape"
   ]
  },
  {
   "cell_type": "code",
   "execution_count": 8,
   "id": "3cbfb76d",
   "metadata": {},
   "outputs": [],
   "source": [
    "split_index = int(0.8 * len(df))"
   ]
  },
  {
   "cell_type": "code",
   "execution_count": 9,
   "id": "a7aa1b70",
   "metadata": {},
   "outputs": [],
   "source": [
    "X_train, X_test = X[:split_index], X[split_index:]\n",
    "y_train, y_test = y[:split_index], y[split_index:]"
   ]
  },
  {
   "cell_type": "code",
   "execution_count": 10,
   "id": "421512c2",
   "metadata": {
    "ExecuteTime": {
     "end_time": "2023-11-24T19:47:24.789499Z",
     "start_time": "2023-11-24T19:47:24.765070Z"
    }
   },
   "outputs": [],
   "source": [
    "rf_model = RandomForestRegressor(n_estimators=100, random_state=42)"
   ]
  },
  {
   "cell_type": "code",
   "execution_count": null,
   "id": "38b3147f",
   "metadata": {
    "ExecuteTime": {
     "end_time": "2023-11-24T19:47:25.413010Z",
     "start_time": "2023-11-24T19:47:25.287821Z"
    }
   },
   "outputs": [],
   "source": [
    "rf_model.fit(X_train, y_train)"
   ]
  },
  {
   "cell_type": "code",
   "execution_count": null,
   "id": "2b37a829",
   "metadata": {
    "ExecuteTime": {
     "end_time": "2023-11-24T19:47:25.418522Z",
     "start_time": "2023-11-24T19:47:25.413651Z"
    }
   },
   "outputs": [],
   "source": [
    "y_pred = rf_model.predict(X_test)"
   ]
  },
  {
   "cell_type": "code",
   "execution_count": null,
   "id": "67f4b786",
   "metadata": {
    "ExecuteTime": {
     "end_time": "2023-11-24T19:47:25.420499Z",
     "start_time": "2023-11-24T19:47:25.419575Z"
    }
   },
   "outputs": [],
   "source": [
    "rmse = np.sqrt(mean_squared_error(y_test, y_pred))\n",
    "rmsle = np.sqrt(mean_squared_log_error(y_test, y_pred))"
   ]
  },
  {
   "cell_type": "code",
   "execution_count": null,
   "id": "31597862",
   "metadata": {
    "ExecuteTime": {
     "end_time": "2023-11-24T19:47:25.423080Z",
     "start_time": "2023-11-24T19:47:25.421109Z"
    }
   },
   "outputs": [],
   "source": [
    "print(f\"Root Mean Squared Error (RMSE): {rmse}\")\n",
    "print(f\"Root Mean Squared Logarithmic Error (RMSLE): {rmsle}\")"
   ]
  },
  {
   "cell_type": "code",
   "execution_count": null,
   "id": "dc967663",
   "metadata": {},
   "outputs": [],
   "source": []
  }
 ],
 "metadata": {
  "kernelspec": {
   "display_name": "Python 3 (ipykernel)",
   "language": "python",
   "name": "python3"
  },
  "language_info": {
   "codemirror_mode": {
    "name": "ipython",
    "version": 3
   },
   "file_extension": ".py",
   "mimetype": "text/x-python",
   "name": "python",
   "nbconvert_exporter": "python",
   "pygments_lexer": "ipython3",
   "version": "3.11.5"
  }
 },
 "nbformat": 4,
 "nbformat_minor": 5
}
