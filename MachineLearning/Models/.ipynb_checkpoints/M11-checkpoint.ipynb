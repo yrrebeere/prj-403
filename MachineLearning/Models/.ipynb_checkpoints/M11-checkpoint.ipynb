{
 "cells": [
  {
   "cell_type": "code",
   "execution_count": 1,
   "id": "d9cd6eec",
   "metadata": {},
   "outputs": [],
   "source": [
    "import numpy as np\n",
    "import pandas as pd\n",
    "from sklearn.model_selection import train_test_split\n",
    "from sklearn.preprocessing import MinMaxScaler\n",
    "from keras.models import Sequential\n",
    "from keras.layers import LSTM, Dense\n",
    "from sklearn.metrics import mean_squared_error"
   ]
  },
  {
   "cell_type": "code",
   "execution_count": 2,
   "id": "69a32cf1",
   "metadata": {},
   "outputs": [],
   "source": [
    "df = pd.read_csv('../../Data/Kaggle/StoreSales/new_train.csv')"
   ]
  },
  {
   "cell_type": "code",
   "execution_count": 3,
   "id": "18e7e782",
   "metadata": {},
   "outputs": [],
   "source": [
    "df['date'] = pd.to_datetime(df['date'])\n",
    "df = df.set_index('date')"
   ]
  },
  {
   "cell_type": "code",
   "execution_count": 4,
   "id": "047c1f64",
   "metadata": {},
   "outputs": [],
   "source": [
    "scaler = MinMaxScaler()\n",
    "df['sales_scaled'] = scaler.fit_transform(df['sales'].values.reshape(-1, 1))"
   ]
  },
  {
   "cell_type": "code",
   "execution_count": 5,
   "id": "8b6adc16",
   "metadata": {},
   "outputs": [],
   "source": [
    "sequence_length = 10\n",
    "sequences = []\n",
    "targets = []"
   ]
  },
  {
   "cell_type": "code",
   "execution_count": 6,
   "id": "f48fc395",
   "metadata": {},
   "outputs": [],
   "source": [
    "for i in range(len(df) - sequence_length):\n",
    "    sequences.append(df['sales_scaled'].values[i:i+sequence_length])\n",
    "    targets.append(df['sales_scaled'].values[i+sequence_length])"
   ]
  },
  {
   "cell_type": "code",
   "execution_count": 7,
   "id": "56ec4e22",
   "metadata": {},
   "outputs": [],
   "source": [
    "X = np.array(sequences)\n",
    "y = np.array(targets)"
   ]
  },
  {
   "cell_type": "code",
   "execution_count": 8,
   "id": "bef112f6",
   "metadata": {},
   "outputs": [],
   "source": [
    "X_train, X_test, y_train, y_test = train_test_split(X, y, test_size=0.2, random_state=42)"
   ]
  },
  {
   "cell_type": "code",
   "execution_count": 9,
   "id": "920cf61d",
   "metadata": {},
   "outputs": [],
   "source": [
    "X_train = X_train.reshape(X_train.shape[0], sequence_length, 1)\n",
    "X_test = X_test.reshape(X_test.shape[0], sequence_length, 1)"
   ]
  },
  {
   "cell_type": "code",
   "execution_count": 10,
   "id": "eb4df7c7",
   "metadata": {},
   "outputs": [],
   "source": [
    "model = Sequential()\n",
    "model.add(LSTM(50, input_shape=(sequence_length, 1)))\n",
    "model.add(Dense(1))\n",
    "model.compile(optimizer='adam', loss='mean_squared_error')"
   ]
  },
  {
   "cell_type": "code",
   "execution_count": 11,
   "id": "a6bceb04",
   "metadata": {},
   "outputs": [
    {
     "name": "stdout",
     "output_type": "stream",
     "text": [
      "Epoch 1/50\n",
      "241/241 [==============================] - 21s 86ms/step - loss: 7.7446e-05 - val_loss: 7.4108e-05\n",
      "Epoch 2/50\n",
      "241/241 [==============================] - 21s 87ms/step - loss: 7.5544e-05 - val_loss: 7.4223e-05\n",
      "Epoch 3/50\n",
      "241/241 [==============================] - 21s 87ms/step - loss: 7.5523e-05 - val_loss: 7.3513e-05\n",
      "Epoch 4/50\n",
      "241/241 [==============================] - 21s 89ms/step - loss: 7.5441e-05 - val_loss: 7.3657e-05\n",
      "Epoch 5/50\n",
      "241/241 [==============================] - 21s 89ms/step - loss: 7.5431e-05 - val_loss: 7.3507e-05\n",
      "Epoch 6/50\n",
      "241/241 [==============================] - 21s 87ms/step - loss: 7.5464e-05 - val_loss: 7.3497e-05\n",
      "Epoch 7/50\n",
      "241/241 [==============================] - 21s 87ms/step - loss: 7.5396e-05 - val_loss: 7.3558e-05\n",
      "Epoch 8/50\n",
      "241/241 [==============================] - 21s 88ms/step - loss: 7.5328e-05 - val_loss: 7.3433e-05\n",
      "Epoch 9/50\n",
      "241/241 [==============================] - 21s 88ms/step - loss: 7.5315e-05 - val_loss: 7.3362e-05\n",
      "Epoch 10/50\n",
      "241/241 [==============================] - 22s 92ms/step - loss: 7.5337e-05 - val_loss: 7.3344e-05\n",
      "Epoch 11/50\n",
      "241/241 [==============================] - 22s 91ms/step - loss: 7.5269e-05 - val_loss: 7.3876e-05\n",
      "Epoch 12/50\n",
      "241/241 [==============================] - 22s 90ms/step - loss: 7.5306e-05 - val_loss: 7.3303e-05\n",
      "Epoch 13/50\n",
      "241/241 [==============================] - 22s 92ms/step - loss: 7.5295e-05 - val_loss: 7.3924e-05\n",
      "Epoch 14/50\n",
      "241/241 [==============================] - 21s 88ms/step - loss: 7.5292e-05 - val_loss: 7.3387e-05\n",
      "Epoch 15/50\n",
      "241/241 [==============================] - 21s 88ms/step - loss: 7.5235e-05 - val_loss: 7.4202e-05\n",
      "Epoch 16/50\n",
      "241/241 [==============================] - 22s 91ms/step - loss: 7.5255e-05 - val_loss: 7.3348e-05\n",
      "Epoch 17/50\n",
      "241/241 [==============================] - 22s 91ms/step - loss: 7.5200e-05 - val_loss: 7.3572e-05\n",
      "Epoch 18/50\n",
      "241/241 [==============================] - 22s 92ms/step - loss: 7.5214e-05 - val_loss: 7.3208e-05\n",
      "Epoch 19/50\n",
      "241/241 [==============================] - 22s 92ms/step - loss: 7.5167e-05 - val_loss: 7.3353e-05\n",
      "Epoch 20/50\n",
      "241/241 [==============================] - 22s 92ms/step - loss: 7.5134e-05 - val_loss: 7.3145e-05\n",
      "Epoch 21/50\n",
      "241/241 [==============================] - 22s 90ms/step - loss: 7.5096e-05 - val_loss: 7.3143e-05\n",
      "Epoch 22/50\n",
      "241/241 [==============================] - 22s 90ms/step - loss: 7.5049e-05 - val_loss: 7.3187e-05\n",
      "Epoch 23/50\n",
      "241/241 [==============================] - 22s 92ms/step - loss: 7.4955e-05 - val_loss: 7.2979e-05\n",
      "Epoch 24/50\n",
      "241/241 [==============================] - 22s 93ms/step - loss: 7.4197e-05 - val_loss: 7.1434e-05\n",
      "Epoch 25/50\n",
      "241/241 [==============================] - 22s 90ms/step - loss: 7.1314e-05 - val_loss: 6.9075e-05\n",
      "Epoch 26/50\n",
      "241/241 [==============================] - 22s 89ms/step - loss: 7.0583e-05 - val_loss: 6.8541e-05\n",
      "Epoch 27/50\n",
      "241/241 [==============================] - 22s 90ms/step - loss: 7.0398e-05 - val_loss: 6.9150e-05\n",
      "Epoch 28/50\n",
      "241/241 [==============================] - 22s 91ms/step - loss: 7.0205e-05 - val_loss: 6.8481e-05\n",
      "Epoch 29/50\n",
      "241/241 [==============================] - 22s 90ms/step - loss: 6.9986e-05 - val_loss: 6.7879e-05\n",
      "Epoch 30/50\n",
      "241/241 [==============================] - 22s 90ms/step - loss: 6.7900e-05 - val_loss: 6.4010e-05\n",
      "Epoch 31/50\n",
      "241/241 [==============================] - 21s 88ms/step - loss: 6.2721e-05 - val_loss: 5.8476e-05\n",
      "Epoch 32/50\n",
      "241/241 [==============================] - 22s 89ms/step - loss: 5.6053e-05 - val_loss: 5.1336e-05\n",
      "Epoch 33/50\n",
      "241/241 [==============================] - 21s 88ms/step - loss: 4.8831e-05 - val_loss: 4.7723e-05\n",
      "Epoch 34/50\n",
      "241/241 [==============================] - 21s 89ms/step - loss: 4.4051e-05 - val_loss: 4.0886e-05\n",
      "Epoch 35/50\n",
      "241/241 [==============================] - 21s 87ms/step - loss: 4.1175e-05 - val_loss: 3.8796e-05\n",
      "Epoch 36/50\n",
      "241/241 [==============================] - 22s 91ms/step - loss: 3.9638e-05 - val_loss: 3.8909e-05\n",
      "Epoch 37/50\n",
      "241/241 [==============================] - 22s 89ms/step - loss: 3.8201e-05 - val_loss: 3.6191e-05\n",
      "Epoch 38/50\n",
      "241/241 [==============================] - 22s 93ms/step - loss: 3.6994e-05 - val_loss: 3.4376e-05\n",
      "Epoch 39/50\n",
      "241/241 [==============================] - 23s 93ms/step - loss: 3.5774e-05 - val_loss: 3.5564e-05\n",
      "Epoch 40/50\n",
      "241/241 [==============================] - 23s 97ms/step - loss: 3.4963e-05 - val_loss: 3.2642e-05\n",
      "Epoch 41/50\n",
      "241/241 [==============================] - 22s 91ms/step - loss: 3.4100e-05 - val_loss: 3.6500e-05\n",
      "Epoch 42/50\n",
      "241/241 [==============================] - 24s 98ms/step - loss: 3.3515e-05 - val_loss: 3.1450e-05\n",
      "Epoch 43/50\n",
      "241/241 [==============================] - 22s 89ms/step - loss: 3.2981e-05 - val_loss: 3.2608e-05\n",
      "Epoch 44/50\n",
      "241/241 [==============================] - 22s 91ms/step - loss: 3.2462e-05 - val_loss: 3.0583e-05\n",
      "Epoch 45/50\n",
      "241/241 [==============================] - 22s 90ms/step - loss: 3.2010e-05 - val_loss: 3.0096e-05\n",
      "Epoch 46/50\n",
      "241/241 [==============================] - 22s 89ms/step - loss: 3.1468e-05 - val_loss: 3.1011e-05\n",
      "Epoch 47/50\n",
      "241/241 [==============================] - 22s 91ms/step - loss: 3.1021e-05 - val_loss: 2.9320e-05\n",
      "Epoch 48/50\n",
      "241/241 [==============================] - 22s 91ms/step - loss: 3.0596e-05 - val_loss: 3.1492e-05\n",
      "Epoch 49/50\n",
      "241/241 [==============================] - 21s 89ms/step - loss: 3.0182e-05 - val_loss: 2.8682e-05\n",
      "Epoch 50/50\n",
      "241/241 [==============================] - 22s 91ms/step - loss: 2.9649e-05 - val_loss: 2.7764e-05\n"
     ]
    },
    {
     "data": {
      "text/plain": [
       "<keras.src.callbacks.History at 0x2d4d04cd0>"
      ]
     },
     "execution_count": 11,
     "metadata": {},
     "output_type": "execute_result"
    }
   ],
   "source": [
    "model.fit(X_train, y_train, epochs=50, batch_size=10000, validation_data=(X_test, y_test))"
   ]
  },
  {
   "cell_type": "code",
   "execution_count": 12,
   "id": "cd64c9bd",
   "metadata": {},
   "outputs": [
    {
     "name": "stdout",
     "output_type": "stream",
     "text": [
      "18756/18756 [==============================] - 9s 489us/step\n"
     ]
    }
   ],
   "source": [
    "y_pred = model.predict(X_test)"
   ]
  },
  {
   "cell_type": "code",
   "execution_count": 13,
   "id": "c40f32b4",
   "metadata": {},
   "outputs": [],
   "source": [
    "y_pred = scaler.inverse_transform(y_pred)"
   ]
  },
  {
   "cell_type": "code",
   "execution_count": 14,
   "id": "a5279662",
   "metadata": {},
   "outputs": [],
   "source": [
    "y_test_original = scaler.inverse_transform(y_test.reshape(-1, 1))"
   ]
  },
  {
   "cell_type": "code",
   "execution_count": 16,
   "id": "7d9211b4",
   "metadata": {},
   "outputs": [],
   "source": [
    "rmse = np.sqrt(mean_squared_error(y_test_original, y_pred))"
   ]
  },
  {
   "cell_type": "code",
   "execution_count": 17,
   "id": "cfbafab7",
   "metadata": {},
   "outputs": [
    {
     "name": "stdout",
     "output_type": "stream",
     "text": [
      "RMSE: 657.1482406035723\n"
     ]
    }
   ],
   "source": [
    "print(f'RMSE: {rmse}')"
   ]
  },
  {
   "cell_type": "code",
   "execution_count": null,
   "id": "f2cbaa61",
   "metadata": {},
   "outputs": [],
   "source": []
  }
 ],
 "metadata": {
  "kernelspec": {
   "display_name": "Python 3 (ipykernel)",
   "language": "python",
   "name": "python3"
  },
  "language_info": {
   "codemirror_mode": {
    "name": "ipython",
    "version": 3
   },
   "file_extension": ".py",
   "mimetype": "text/x-python",
   "name": "python",
   "nbconvert_exporter": "python",
   "pygments_lexer": "ipython3",
   "version": "3.11.5"
  }
 },
 "nbformat": 4,
 "nbformat_minor": 5
}
