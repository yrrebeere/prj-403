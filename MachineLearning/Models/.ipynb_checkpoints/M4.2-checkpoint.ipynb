{
 "cells": [
  {
   "cell_type": "code",
   "execution_count": 1,
   "id": "c8547a436eefa8b0",
   "metadata": {
    "ExecuteTime": {
     "end_time": "2023-12-04T19:44:23.826658Z",
     "start_time": "2023-12-04T19:44:20.919234Z"
    }
   },
   "outputs": [],
   "source": [
    "import pandas as pd\n",
    "import numpy as np\n",
    "from sklearn.preprocessing import MinMaxScaler\n",
    "from tensorflow.keras.models import Sequential\n",
    "from tensorflow.keras.layers import GRU, Dense\n",
    "from sklearn.metrics import mean_squared_error\n",
    "import matplotlib.pyplot as plt"
   ]
  },
  {
   "cell_type": "code",
   "execution_count": 2,
   "id": "c53533f6670a43ad",
   "metadata": {
    "ExecuteTime": {
     "end_time": "2023-12-04T19:44:23.837517Z",
     "start_time": "2023-12-04T19:44:23.827458Z"
    }
   },
   "outputs": [],
   "source": [
    "df = pd.read_csv('../../Data/Pharmacy/D5.csv')"
   ]
  },
  {
   "cell_type": "code",
   "execution_count": 3,
   "id": "94e4a35acb139c95",
   "metadata": {
    "ExecuteTime": {
     "end_time": "2023-12-04T19:44:23.838Z",
     "start_time": "2023-12-04T19:44:23.831195Z"
    }
   },
   "outputs": [
    {
     "data": {
      "text/html": [
       "<div>\n",
       "<style scoped>\n",
       "    .dataframe tbody tr th:only-of-type {\n",
       "        vertical-align: middle;\n",
       "    }\n",
       "\n",
       "    .dataframe tbody tr th {\n",
       "        vertical-align: top;\n",
       "    }\n",
       "\n",
       "    .dataframe thead th {\n",
       "        text-align: right;\n",
       "    }\n",
       "</style>\n",
       "<table border=\"1\" class=\"dataframe\">\n",
       "  <thead>\n",
       "    <tr style=\"text-align: right;\">\n",
       "      <th></th>\n",
       "      <th>date</th>\n",
       "      <th>itemname</th>\n",
       "      <th>packunits</th>\n",
       "      <th>expiry</th>\n",
       "      <th>price</th>\n",
       "      <th>looseqty</th>\n",
       "    </tr>\n",
       "  </thead>\n",
       "  <tbody>\n",
       "    <tr>\n",
       "      <th>0</th>\n",
       "      <td>01/07/2022</td>\n",
       "      <td>PANADOL TAB</td>\n",
       "      <td>200</td>\n",
       "      <td>4/25/24</td>\n",
       "      <td>1.70</td>\n",
       "      <td>60</td>\n",
       "    </tr>\n",
       "    <tr>\n",
       "      <th>1</th>\n",
       "      <td>02/07/2022</td>\n",
       "      <td>PANADOL TAB</td>\n",
       "      <td>200</td>\n",
       "      <td>4/25/24</td>\n",
       "      <td>1.70</td>\n",
       "      <td>70</td>\n",
       "    </tr>\n",
       "    <tr>\n",
       "      <th>2</th>\n",
       "      <td>03/07/2022</td>\n",
       "      <td>PANADOL TAB</td>\n",
       "      <td>200</td>\n",
       "      <td>4/25/24</td>\n",
       "      <td>1.70</td>\n",
       "      <td>55</td>\n",
       "    </tr>\n",
       "    <tr>\n",
       "      <th>3</th>\n",
       "      <td>05/07/2022</td>\n",
       "      <td>PANADOL TAB</td>\n",
       "      <td>200</td>\n",
       "      <td>4/25/24</td>\n",
       "      <td>1.45</td>\n",
       "      <td>20</td>\n",
       "    </tr>\n",
       "    <tr>\n",
       "      <th>4</th>\n",
       "      <td>08/07/2022</td>\n",
       "      <td>PANADOL TAB</td>\n",
       "      <td>200</td>\n",
       "      <td>4/25/24</td>\n",
       "      <td>1.70</td>\n",
       "      <td>70</td>\n",
       "    </tr>\n",
       "  </tbody>\n",
       "</table>\n",
       "</div>"
      ],
      "text/plain": [
       "         date     itemname  packunits   expiry  price  looseqty\n",
       "0  01/07/2022  PANADOL TAB        200  4/25/24   1.70        60\n",
       "1  02/07/2022  PANADOL TAB        200  4/25/24   1.70        70\n",
       "2  03/07/2022  PANADOL TAB        200  4/25/24   1.70        55\n",
       "3  05/07/2022  PANADOL TAB        200  4/25/24   1.45        20\n",
       "4  08/07/2022  PANADOL TAB        200  4/25/24   1.70        70"
      ]
     },
     "execution_count": 3,
     "metadata": {},
     "output_type": "execute_result"
    }
   ],
   "source": [
    "df.head()"
   ]
  },
  {
   "cell_type": "code",
   "execution_count": 4,
   "id": "1bce205e0e82c87d",
   "metadata": {
    "ExecuteTime": {
     "end_time": "2023-12-04T19:44:23.838938Z",
     "start_time": "2023-12-04T19:44:23.836897Z"
    }
   },
   "outputs": [],
   "source": [
    "df['date'] = pd.to_datetime(df['date'], format='%d/%m/%Y')\n",
    "df.set_index('date', inplace=True)"
   ]
  },
  {
   "cell_type": "code",
   "execution_count": 5,
   "id": "12718d14c82b02d9",
   "metadata": {
    "ExecuteTime": {
     "end_time": "2023-12-04T19:44:23.841291Z",
     "start_time": "2023-12-04T19:44:23.839606Z"
    }
   },
   "outputs": [],
   "source": [
    "target_variable = 'looseqty'\n",
    "df = df[[target_variable]]"
   ]
  },
  {
   "cell_type": "code",
   "execution_count": 6,
   "id": "63ebd66b982c50e2",
   "metadata": {
    "ExecuteTime": {
     "end_time": "2023-12-04T19:44:23.844002Z",
     "start_time": "2023-12-04T19:44:23.842573Z"
    }
   },
   "outputs": [],
   "source": [
    "scaler = MinMaxScaler()\n",
    "df_scaled = scaler.fit_transform(df)"
   ]
  },
  {
   "cell_type": "code",
   "execution_count": 7,
   "id": "cbebf1e9fefe4121",
   "metadata": {
    "ExecuteTime": {
     "end_time": "2023-12-04T19:44:23.855003Z",
     "start_time": "2023-12-04T19:44:23.844589Z"
    }
   },
   "outputs": [],
   "source": [
    "def create_sequences(data, seq_length):\n",
    "    sequences = []\n",
    "    for i in range(len(data) - seq_length):\n",
    "        seq = data[i:i + seq_length]\n",
    "        sequences.append(seq)\n",
    "    return np.array(sequences)"
   ]
  },
  {
   "cell_type": "code",
   "execution_count": 8,
   "id": "fcd6efa111e4d5d7",
   "metadata": {
    "ExecuteTime": {
     "end_time": "2023-12-04T19:44:23.860177Z",
     "start_time": "2023-12-04T19:44:23.846331Z"
    }
   },
   "outputs": [],
   "source": [
    "sequence_length = 10"
   ]
  },
  {
   "cell_type": "code",
   "execution_count": 9,
   "id": "ee00c74d2c21be6b",
   "metadata": {
    "ExecuteTime": {
     "end_time": "2023-12-04T19:44:23.860286Z",
     "start_time": "2023-12-04T19:44:23.848098Z"
    }
   },
   "outputs": [],
   "source": [
    "sequences = create_sequences(df_scaled, sequence_length)"
   ]
  },
  {
   "cell_type": "code",
   "execution_count": 10,
   "id": "e22caf8eb69f6bf5",
   "metadata": {
    "ExecuteTime": {
     "end_time": "2023-12-04T19:44:23.860335Z",
     "start_time": "2023-12-04T19:44:23.850063Z"
    }
   },
   "outputs": [],
   "source": [
    "train_size = int(len(sequences) * 0.8)\n",
    "train, test = sequences[:train_size], sequences[train_size:]"
   ]
  },
  {
   "cell_type": "code",
   "execution_count": 11,
   "id": "2b88debbb507e9",
   "metadata": {
    "ExecuteTime": {
     "end_time": "2023-12-04T19:44:23.860374Z",
     "start_time": "2023-12-04T19:44:23.852538Z"
    }
   },
   "outputs": [],
   "source": [
    "X_train, y_train = train[:, :-1], train[:, -1]\n",
    "X_test, y_test = test[:, :-1], test[:, -1]"
   ]
  },
  {
   "cell_type": "code",
   "execution_count": 12,
   "id": "387cf03f6dce7cb5",
   "metadata": {
    "ExecuteTime": {
     "end_time": "2023-12-04T19:44:23.860696Z",
     "start_time": "2023-12-04T19:44:23.854080Z"
    }
   },
   "outputs": [],
   "source": [
    "X_train = X_train.reshape((X_train.shape[0], X_train.shape[1], 1))\n",
    "X_test = X_test.reshape((X_test.shape[0], X_test.shape[1], 1))"
   ]
  },
  {
   "cell_type": "code",
   "execution_count": 13,
   "id": "2d511ad28510ea8c",
   "metadata": {
    "ExecuteTime": {
     "end_time": "2023-12-04T19:44:23.910659Z",
     "start_time": "2023-12-04T19:44:23.856416Z"
    }
   },
   "outputs": [],
   "source": [
    "model = Sequential()\n",
    "model.add(GRU(50, activation='relu', input_shape=(X_train.shape[1], 1)))\n",
    "model.add(Dense(1))\n",
    "model.compile(optimizer='adam', loss='mse')"
   ]
  },
  {
   "cell_type": "code",
   "execution_count": 14,
   "id": "ec13f33cac40190e",
   "metadata": {
    "ExecuteTime": {
     "end_time": "2023-12-04T19:44:25.422310Z",
     "start_time": "2023-12-04T19:44:23.910839Z"
    }
   },
   "outputs": [
    {
     "name": "stdout",
     "output_type": "stream",
     "text": [
      "Epoch 1/50\n",
      "9/9 - 0s - loss: 0.0643 - val_loss: 0.1094 - 369ms/epoch - 41ms/step\n",
      "Epoch 2/50\n",
      "9/9 - 0s - loss: 0.0307 - val_loss: 0.0499 - 18ms/epoch - 2ms/step\n",
      "Epoch 3/50\n",
      "9/9 - 0s - loss: 0.0160 - val_loss: 0.0261 - 18ms/epoch - 2ms/step\n",
      "Epoch 4/50\n",
      "9/9 - 0s - loss: 0.0156 - val_loss: 0.0247 - 17ms/epoch - 2ms/step\n",
      "Epoch 5/50\n",
      "9/9 - 0s - loss: 0.0134 - val_loss: 0.0289 - 17ms/epoch - 2ms/step\n",
      "Epoch 6/50\n",
      "9/9 - 0s - loss: 0.0129 - val_loss: 0.0294 - 17ms/epoch - 2ms/step\n",
      "Epoch 7/50\n",
      "9/9 - 0s - loss: 0.0119 - val_loss: 0.0235 - 17ms/epoch - 2ms/step\n",
      "Epoch 8/50\n",
      "9/9 - 0s - loss: 0.0114 - val_loss: 0.0251 - 17ms/epoch - 2ms/step\n",
      "Epoch 9/50\n",
      "9/9 - 0s - loss: 0.0110 - val_loss: 0.0237 - 17ms/epoch - 2ms/step\n",
      "Epoch 10/50\n",
      "9/9 - 0s - loss: 0.0107 - val_loss: 0.0233 - 17ms/epoch - 2ms/step\n",
      "Epoch 11/50\n",
      "9/9 - 0s - loss: 0.0107 - val_loss: 0.0229 - 18ms/epoch - 2ms/step\n",
      "Epoch 12/50\n",
      "9/9 - 0s - loss: 0.0106 - val_loss: 0.0235 - 18ms/epoch - 2ms/step\n",
      "Epoch 13/50\n",
      "9/9 - 0s - loss: 0.0107 - val_loss: 0.0226 - 18ms/epoch - 2ms/step\n",
      "Epoch 14/50\n",
      "9/9 - 0s - loss: 0.0105 - val_loss: 0.0229 - 18ms/epoch - 2ms/step\n",
      "Epoch 15/50\n",
      "9/9 - 0s - loss: 0.0104 - val_loss: 0.0228 - 18ms/epoch - 2ms/step\n",
      "Epoch 16/50\n",
      "9/9 - 0s - loss: 0.0106 - val_loss: 0.0228 - 18ms/epoch - 2ms/step\n",
      "Epoch 17/50\n",
      "9/9 - 0s - loss: 0.0105 - val_loss: 0.0225 - 18ms/epoch - 2ms/step\n",
      "Epoch 18/50\n",
      "9/9 - 0s - loss: 0.0105 - val_loss: 0.0231 - 18ms/epoch - 2ms/step\n",
      "Epoch 19/50\n",
      "9/9 - 0s - loss: 0.0104 - val_loss: 0.0225 - 19ms/epoch - 2ms/step\n",
      "Epoch 20/50\n",
      "9/9 - 0s - loss: 0.0103 - val_loss: 0.0229 - 20ms/epoch - 2ms/step\n",
      "Epoch 21/50\n",
      "9/9 - 0s - loss: 0.0103 - val_loss: 0.0225 - 19ms/epoch - 2ms/step\n",
      "Epoch 22/50\n",
      "9/9 - 0s - loss: 0.0104 - val_loss: 0.0228 - 19ms/epoch - 2ms/step\n",
      "Epoch 23/50\n",
      "9/9 - 0s - loss: 0.0103 - val_loss: 0.0227 - 18ms/epoch - 2ms/step\n",
      "Epoch 24/50\n",
      "9/9 - 0s - loss: 0.0103 - val_loss: 0.0226 - 18ms/epoch - 2ms/step\n",
      "Epoch 25/50\n",
      "9/9 - 0s - loss: 0.0102 - val_loss: 0.0231 - 18ms/epoch - 2ms/step\n",
      "Epoch 26/50\n",
      "9/9 - 0s - loss: 0.0104 - val_loss: 0.0228 - 19ms/epoch - 2ms/step\n",
      "Epoch 27/50\n",
      "9/9 - 0s - loss: 0.0103 - val_loss: 0.0224 - 22ms/epoch - 2ms/step\n",
      "Epoch 28/50\n",
      "9/9 - 0s - loss: 0.0103 - val_loss: 0.0233 - 20ms/epoch - 2ms/step\n",
      "Epoch 29/50\n",
      "9/9 - 0s - loss: 0.0103 - val_loss: 0.0226 - 19ms/epoch - 2ms/step\n",
      "Epoch 30/50\n",
      "9/9 - 0s - loss: 0.0103 - val_loss: 0.0227 - 19ms/epoch - 2ms/step\n",
      "Epoch 31/50\n",
      "9/9 - 0s - loss: 0.0102 - val_loss: 0.0230 - 19ms/epoch - 2ms/step\n",
      "Epoch 32/50\n",
      "9/9 - 0s - loss: 0.0102 - val_loss: 0.0228 - 18ms/epoch - 2ms/step\n",
      "Epoch 33/50\n",
      "9/9 - 0s - loss: 0.0103 - val_loss: 0.0230 - 18ms/epoch - 2ms/step\n",
      "Epoch 34/50\n",
      "9/9 - 0s - loss: 0.0102 - val_loss: 0.0227 - 18ms/epoch - 2ms/step\n",
      "Epoch 35/50\n",
      "9/9 - 0s - loss: 0.0102 - val_loss: 0.0228 - 18ms/epoch - 2ms/step\n",
      "Epoch 36/50\n",
      "9/9 - 0s - loss: 0.0103 - val_loss: 0.0230 - 18ms/epoch - 2ms/step\n",
      "Epoch 37/50\n",
      "9/9 - 0s - loss: 0.0103 - val_loss: 0.0228 - 18ms/epoch - 2ms/step\n",
      "Epoch 38/50\n",
      "9/9 - 0s - loss: 0.0104 - val_loss: 0.0233 - 18ms/epoch - 2ms/step\n",
      "Epoch 39/50\n",
      "9/9 - 0s - loss: 0.0102 - val_loss: 0.0226 - 18ms/epoch - 2ms/step\n",
      "Epoch 40/50\n",
      "9/9 - 0s - loss: 0.0103 - val_loss: 0.0228 - 18ms/epoch - 2ms/step\n",
      "Epoch 41/50\n",
      "9/9 - 0s - loss: 0.0102 - val_loss: 0.0228 - 18ms/epoch - 2ms/step\n",
      "Epoch 42/50\n",
      "9/9 - 0s - loss: 0.0103 - val_loss: 0.0228 - 18ms/epoch - 2ms/step\n",
      "Epoch 43/50\n",
      "9/9 - 0s - loss: 0.0103 - val_loss: 0.0236 - 18ms/epoch - 2ms/step\n",
      "Epoch 44/50\n",
      "9/9 - 0s - loss: 0.0102 - val_loss: 0.0226 - 18ms/epoch - 2ms/step\n",
      "Epoch 45/50\n",
      "9/9 - 0s - loss: 0.0103 - val_loss: 0.0228 - 18ms/epoch - 2ms/step\n",
      "Epoch 46/50\n",
      "9/9 - 0s - loss: 0.0103 - val_loss: 0.0232 - 18ms/epoch - 2ms/step\n",
      "Epoch 47/50\n",
      "9/9 - 0s - loss: 0.0102 - val_loss: 0.0229 - 18ms/epoch - 2ms/step\n",
      "Epoch 48/50\n",
      "9/9 - 0s - loss: 0.0102 - val_loss: 0.0229 - 18ms/epoch - 2ms/step\n",
      "Epoch 49/50\n",
      "9/9 - 0s - loss: 0.0102 - val_loss: 0.0229 - 18ms/epoch - 2ms/step\n",
      "Epoch 50/50\n",
      "9/9 - 0s - loss: 0.0102 - val_loss: 0.0229 - 18ms/epoch - 2ms/step\n"
     ]
    },
    {
     "data": {
      "text/plain": [
       "<keras.src.callbacks.History at 0x17a8d8910>"
      ]
     },
     "execution_count": 14,
     "metadata": {},
     "output_type": "execute_result"
    }
   ],
   "source": [
    "model.fit(X_train, y_train, epochs=50, batch_size=32, validation_data=(X_test, y_test), verbose=2)"
   ]
  },
  {
   "cell_type": "code",
   "execution_count": 15,
   "id": "d66df75851bdef80",
   "metadata": {
    "ExecuteTime": {
     "end_time": "2023-12-04T19:44:25.488076Z",
     "start_time": "2023-12-04T19:44:25.405378Z"
    }
   },
   "outputs": [
    {
     "name": "stdout",
     "output_type": "stream",
     "text": [
      "3/3 [==============================] - 0s 856us/step\n"
     ]
    }
   ],
   "source": [
    "y_pred = model.predict(X_test)"
   ]
  },
  {
   "cell_type": "code",
   "execution_count": 16,
   "id": "d6be879b2e790f1",
   "metadata": {
    "ExecuteTime": {
     "end_time": "2023-12-04T19:44:25.488744Z",
     "start_time": "2023-12-04T19:44:25.483219Z"
    }
   },
   "outputs": [],
   "source": [
    "y_pred_inv = scaler.inverse_transform(np.concatenate((X_test[:, -1, :], y_pred), axis=1))[:, -1]"
   ]
  },
  {
   "cell_type": "code",
   "execution_count": 17,
   "id": "c732f8eef6f7f381",
   "metadata": {
    "ExecuteTime": {
     "end_time": "2023-12-04T19:44:25.488814Z",
     "start_time": "2023-12-04T19:44:25.485322Z"
    }
   },
   "outputs": [],
   "source": [
    "y_test_inv = scaler.inverse_transform(np.concatenate((X_test[:, -1, :], y_test.reshape(-1, 1)), axis=1))[:, -1]"
   ]
  },
  {
   "cell_type": "code",
   "execution_count": 18,
   "id": "4feb8ee088bc9f57",
   "metadata": {
    "ExecuteTime": {
     "end_time": "2023-12-04T19:44:25.489845Z",
     "start_time": "2023-12-04T19:44:25.487675Z"
    }
   },
   "outputs": [],
   "source": [
    "rmse = np.sqrt(mean_squared_error(y_test_inv, y_pred_inv))\n",
    "rmsle = np.sqrt(mean_squared_error(np.log1p(y_test_inv), np.log1p(y_pred_inv)))"
   ]
  },
  {
   "cell_type": "code",
   "execution_count": 19,
   "id": "f0b27d48311ff369",
   "metadata": {
    "ExecuteTime": {
     "end_time": "2023-12-04T19:44:25.492318Z",
     "start_time": "2023-12-04T19:44:25.489625Z"
    }
   },
   "outputs": [
    {
     "name": "stdout",
     "output_type": "stream",
     "text": [
      "Root Mean Squared Error (RMSE): 137.2803728457543\n",
      "Root Mean Squared Logarithmic Error (RMSLE): 0.32572063927800055\n"
     ]
    }
   ],
   "source": [
    "print(f\"Root Mean Squared Error (RMSE): {rmse}\")\n",
    "print(f\"Root Mean Squared Logarithmic Error (RMSLE): {rmsle}\")"
   ]
  },
  {
   "cell_type": "code",
   "execution_count": 20,
   "id": "initial_id",
   "metadata": {
    "ExecuteTime": {
     "end_time": "2023-12-04T19:44:25.571838Z",
     "start_time": "2023-12-04T19:44:25.492071Z"
    }
   },
   "outputs": [
    {
     "data": {
      "image/png": "[encoded data removed]",
      "text/plain": [
       "<Figure size 1200x600 with 1 Axes>"
      ]
     },
     "metadata": {},
     "output_type": "display_data"
    }
   ],
   "source": [
    "plt.figure(figsize=(12, 6))\n",
    "plt.plot(y_test_inv, label='Actual')\n",
    "plt.plot(y_pred_inv, label='Predictions')\n",
    "plt.legend()\n",
    "plt.show()"
   ]
  }
 ],
 "metadata": {
  "kernelspec": {
   "display_name": "Python 3 (ipykernel)",
   "language": "python",
   "name": "python3"
  },
  "language_info": {
   "codemirror_mode": {
    "name": "ipython",
    "version": 3
   },
   "file_extension": ".py",
   "mimetype": "text/x-python",
   "name": "python",
   "nbconvert_exporter": "python",
   "pygments_lexer": "ipython3",
   "version": "3.11.5"
  }
 },
 "nbformat": 4,
 "nbformat_minor": 5
}
