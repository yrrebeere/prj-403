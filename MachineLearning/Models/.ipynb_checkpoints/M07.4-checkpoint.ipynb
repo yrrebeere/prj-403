{
 "cells": [
  {
   "cell_type": "code",
   "execution_count": 1,
   "id": "d0855685",
   "metadata": {},
   "outputs": [],
   "source": [
    "import pandas as pd\n",
    "import numpy as np\n",
    "from darts import TimeSeries\n",
    "from darts.models import Prophet\n",
    "from sklearn.metrics import mean_squared_error, mean_squared_log_error\n",
    "import matplotlib.pyplot as plt"
   ]
  },
  {
   "cell_type": "code",
   "execution_count": 2,
   "id": "8d79b5de",
   "metadata": {},
   "outputs": [],
   "source": [
    "df = pd.read_csv(\"../../Data/Kaggle/StoreSales/train_darts.csv\", parse_dates=[\"date\"])"
   ]
  },
  {
   "cell_type": "code",
   "execution_count": 3,
   "id": "4ede64c5",
   "metadata": {},
   "outputs": [],
   "source": [
    "df.set_index('date', inplace=True)"
   ]
  },
  {
   "cell_type": "code",
   "execution_count": 4,
   "id": "866081ab",
   "metadata": {},
   "outputs": [
    {
     "data": {
      "text/html": [
       "<div>\n",
       "<style scoped>\n",
       "    .dataframe tbody tr th:only-of-type {\n",
       "        vertical-align: middle;\n",
       "    }\n",
       "\n",
       "    .dataframe tbody tr th {\n",
       "        vertical-align: top;\n",
       "    }\n",
       "\n",
       "    .dataframe thead th {\n",
       "        text-align: right;\n",
       "    }\n",
       "</style>\n",
       "<table border=\"1\" class=\"dataframe\">\n",
       "  <thead>\n",
       "    <tr style=\"text-align: right;\">\n",
       "      <th></th>\n",
       "      <th>store_nbr</th>\n",
       "      <th>family</th>\n",
       "      <th>sales</th>\n",
       "      <th>onpromotion</th>\n",
       "      <th>typeholiday</th>\n",
       "      <th>dcoilwtico</th>\n",
       "      <th>city</th>\n",
       "      <th>state</th>\n",
       "      <th>typestores</th>\n",
       "      <th>cluster</th>\n",
       "      <th>day_of_week</th>\n",
       "      <th>day</th>\n",
       "      <th>month</th>\n",
       "      <th>year</th>\n",
       "    </tr>\n",
       "    <tr>\n",
       "      <th>date</th>\n",
       "      <th></th>\n",
       "      <th></th>\n",
       "      <th></th>\n",
       "      <th></th>\n",
       "      <th></th>\n",
       "      <th></th>\n",
       "      <th></th>\n",
       "      <th></th>\n",
       "      <th></th>\n",
       "      <th></th>\n",
       "      <th></th>\n",
       "      <th></th>\n",
       "      <th></th>\n",
       "      <th></th>\n",
       "    </tr>\n",
       "  </thead>\n",
       "  <tbody>\n",
       "    <tr>\n",
       "      <th>2013-01-01</th>\n",
       "      <td>1</td>\n",
       "      <td>0</td>\n",
       "      <td>0.0</td>\n",
       "      <td>0</td>\n",
       "      <td>3</td>\n",
       "      <td>93.14</td>\n",
       "      <td>18</td>\n",
       "      <td>12</td>\n",
       "      <td>3</td>\n",
       "      <td>13</td>\n",
       "      <td>2</td>\n",
       "      <td>1</td>\n",
       "      <td>1</td>\n",
       "      <td>2013</td>\n",
       "    </tr>\n",
       "    <tr>\n",
       "      <th>2013-01-01</th>\n",
       "      <td>1</td>\n",
       "      <td>1</td>\n",
       "      <td>0.0</td>\n",
       "      <td>0</td>\n",
       "      <td>3</td>\n",
       "      <td>93.14</td>\n",
       "      <td>18</td>\n",
       "      <td>12</td>\n",
       "      <td>3</td>\n",
       "      <td>13</td>\n",
       "      <td>2</td>\n",
       "      <td>1</td>\n",
       "      <td>1</td>\n",
       "      <td>2013</td>\n",
       "    </tr>\n",
       "    <tr>\n",
       "      <th>2013-01-01</th>\n",
       "      <td>1</td>\n",
       "      <td>2</td>\n",
       "      <td>0.0</td>\n",
       "      <td>0</td>\n",
       "      <td>3</td>\n",
       "      <td>93.14</td>\n",
       "      <td>18</td>\n",
       "      <td>12</td>\n",
       "      <td>3</td>\n",
       "      <td>13</td>\n",
       "      <td>2</td>\n",
       "      <td>1</td>\n",
       "      <td>1</td>\n",
       "      <td>2013</td>\n",
       "    </tr>\n",
       "    <tr>\n",
       "      <th>2013-01-01</th>\n",
       "      <td>1</td>\n",
       "      <td>3</td>\n",
       "      <td>0.0</td>\n",
       "      <td>0</td>\n",
       "      <td>3</td>\n",
       "      <td>93.14</td>\n",
       "      <td>18</td>\n",
       "      <td>12</td>\n",
       "      <td>3</td>\n",
       "      <td>13</td>\n",
       "      <td>2</td>\n",
       "      <td>1</td>\n",
       "      <td>1</td>\n",
       "      <td>2013</td>\n",
       "    </tr>\n",
       "    <tr>\n",
       "      <th>2013-01-01</th>\n",
       "      <td>1</td>\n",
       "      <td>4</td>\n",
       "      <td>0.0</td>\n",
       "      <td>0</td>\n",
       "      <td>3</td>\n",
       "      <td>93.14</td>\n",
       "      <td>18</td>\n",
       "      <td>12</td>\n",
       "      <td>3</td>\n",
       "      <td>13</td>\n",
       "      <td>2</td>\n",
       "      <td>1</td>\n",
       "      <td>1</td>\n",
       "      <td>2013</td>\n",
       "    </tr>\n",
       "  </tbody>\n",
       "</table>\n",
       "</div>"
      ],
      "text/plain": [
       "            store_nbr  family  sales  onpromotion  typeholiday  dcoilwtico  \\\n",
       "date                                                                         \n",
       "2013-01-01          1       0    0.0            0            3       93.14   \n",
       "2013-01-01          1       1    0.0            0            3       93.14   \n",
       "2013-01-01          1       2    0.0            0            3       93.14   \n",
       "2013-01-01          1       3    0.0            0            3       93.14   \n",
       "2013-01-01          1       4    0.0            0            3       93.14   \n",
       "\n",
       "            city  state  typestores  cluster  day_of_week  day  month  year  \n",
       "date                                                                         \n",
       "2013-01-01    18     12           3       13            2    1      1  2013  \n",
       "2013-01-01    18     12           3       13            2    1      1  2013  \n",
       "2013-01-01    18     12           3       13            2    1      1  2013  \n",
       "2013-01-01    18     12           3       13            2    1      1  2013  \n",
       "2013-01-01    18     12           3       13            2    1      1  2013  "
      ]
     },
     "execution_count": 4,
     "metadata": {},
     "output_type": "execute_result"
    }
   ],
   "source": [
    "df.head()"
   ]
  },
  {
   "cell_type": "code",
   "execution_count": 5,
   "id": "8e03bc83",
   "metadata": {},
   "outputs": [],
   "source": [
    "unique_combinations = df[['store_nbr', 'family']].drop_duplicates()"
   ]
  },
  {
   "cell_type": "code",
   "execution_count": 6,
   "id": "e292c071",
   "metadata": {},
   "outputs": [],
   "source": [
    "total_rmse = 0\n",
    "total_rmsle = 0\n",
    "num_models = 0"
   ]
  },
  {
   "cell_type": "code",
   "execution_count": 7,
   "id": "70255741",
   "metadata": {},
   "outputs": [],
   "source": [
    "trained_models = {}"
   ]
  },
  {
   "cell_type": "code",
   "execution_count": 8,
   "id": "886848b5",
   "metadata": {},
   "outputs": [],
   "source": [
    "included_stores = {5, 8, 16, 19, 22, 25, 33, 37, 41, 47, 51}\n",
    "excluded_families = {1, 4, 14, 17, 19, 20, 31}"
   ]
  },
  {
   "cell_type": "code",
   "execution_count": 9,
   "id": "cbf37a5c",
   "metadata": {},
   "outputs": [
    {
     "name": "stderr",
     "output_type": "stream",
     "text": [
      "01:38:13 - cmdstanpy - INFO - Chain [1] start processing\n"
     ]
    },
    {
     "name": "stdout",
     "output_type": "stream",
     "text": [
      "\n",
      "Training model for store 16 and family 0...\n"
     ]
    },
    {
     "name": "stderr",
     "output_type": "stream",
     "text": [
      "01:38:14 - cmdstanpy - INFO - Chain [1] done processing\n",
      "01:38:14 - cmdstanpy - INFO - Chain [1] start processing\n",
      "01:38:14 - cmdstanpy - INFO - Chain [1] done processing\n",
      "01:38:14 - cmdstanpy - INFO - Chain [1] start processing\n"
     ]
    },
    {
     "name": "stdout",
     "output_type": "stream",
     "text": [
      "Root Mean Squared Error (RMSE): 3.691484452942153\n",
      "Root Mean Squared Logarithmic Error (RMSLE): 0.8160230956069527\n",
      "\n",
      "Training model for store 16 and family 2...\n",
      "Root Mean Squared Error (RMSE): 1.8226300409518443\n",
      "Root Mean Squared Logarithmic Error (RMSLE): 0.6638886432070068\n",
      "\n",
      "Training model for store 16 and family 3...\n"
     ]
    },
    {
     "name": "stderr",
     "output_type": "stream",
     "text": [
      "01:38:14 - cmdstanpy - INFO - Chain [1] done processing\n",
      "01:38:14 - cmdstanpy - INFO - Chain [1] start processing\n",
      "01:38:14 - cmdstanpy - INFO - Chain [1] done processing\n"
     ]
    },
    {
     "name": "stdout",
     "output_type": "stream",
     "text": [
      "Root Mean Squared Error (RMSE): 425.8131765857124\n",
      "Root Mean Squared Logarithmic Error (RMSLE): 0.311104187107769\n",
      "\n",
      "Training model for store 16 and family 5...\n",
      "Root Mean Squared Error (RMSE): 30.587101030500254\n",
      "Root Mean Squared Logarithmic Error (RMSLE): 0.19518050211455593\n",
      "\n",
      "Training model for store 16 and family 6...\n"
     ]
    },
    {
     "name": "stderr",
     "output_type": "stream",
     "text": [
      "01:38:14 - cmdstanpy - INFO - Chain [1] start processing\n",
      "01:38:14 - cmdstanpy - INFO - Chain [1] done processing\n",
      "01:38:14 - cmdstanpy - INFO - Chain [1] start processing\n",
      "01:38:14 - cmdstanpy - INFO - Chain [1] done processing\n"
     ]
    },
    {
     "name": "stdout",
     "output_type": "stream",
     "text": [
      "Root Mean Squared Error (RMSE): 4.114048907369651\n",
      "Root Mean Squared Logarithmic Error (RMSLE): 0.7717794420888859\n",
      "\n",
      "Training model for store 16 and family 7...\n",
      "Root Mean Squared Error (RMSE): 561.2822058492825\n",
      "Root Mean Squared Logarithmic Error (RMSLE): 0.5143063350158521\n",
      "\n",
      "Training model for store 16 and family 8...\n"
     ]
    },
    {
     "name": "stderr",
     "output_type": "stream",
     "text": [
      "01:38:15 - cmdstanpy - INFO - Chain [1] start processing\n",
      "01:38:15 - cmdstanpy - INFO - Chain [1] done processing\n",
      "01:38:15 - cmdstanpy - INFO - Chain [1] start processing\n",
      "01:38:15 - cmdstanpy - INFO - Chain [1] done processing\n"
     ]
    },
    {
     "name": "stdout",
     "output_type": "stream",
     "text": [
      "Root Mean Squared Error (RMSE): 53.07517587937339\n",
      "Root Mean Squared Logarithmic Error (RMSLE): 0.20074405813491708\n",
      "\n",
      "Training model for store 16 and family 9...\n",
      "Root Mean Squared Error (RMSE): 33.952269885916664\n",
      "Root Mean Squared Logarithmic Error (RMSLE): 0.22457835116508001\n",
      "\n",
      "Training model for store 16 and family 10...\n"
     ]
    },
    {
     "name": "stderr",
     "output_type": "stream",
     "text": [
      "01:38:15 - cmdstanpy - INFO - Chain [1] start processing\n",
      "01:38:15 - cmdstanpy - INFO - Chain [1] done processing\n",
      "01:38:15 - cmdstanpy - INFO - Chain [1] start processing\n",
      "01:38:15 - cmdstanpy - INFO - Chain [1] done processing\n",
      "01:38:15 - cmdstanpy - INFO - Chain [1] start processing\n"
     ]
    },
    {
     "name": "stdout",
     "output_type": "stream",
     "text": [
      "Root Mean Squared Error (RMSE): 87.19794844678897\n",
      "Root Mean Squared Logarithmic Error (RMSLE): 0.4102949140696277\n",
      "\n",
      "Training model for store 16 and family 11...\n",
      "Root Mean Squared Error (RMSE): 15.907963461177262\n",
      "Root Mean Squared Logarithmic Error (RMSLE): 0.4052375882376931\n",
      "\n",
      "Training model for store 16 and family 12...\n"
     ]
    },
    {
     "name": "stderr",
     "output_type": "stream",
     "text": [
      "01:38:15 - cmdstanpy - INFO - Chain [1] done processing\n",
      "01:38:15 - cmdstanpy - INFO - Chain [1] start processing\n",
      "01:38:15 - cmdstanpy - INFO - Chain [1] done processing\n",
      "01:38:15 - cmdstanpy - INFO - Chain [1] start processing\n"
     ]
    },
    {
     "name": "stdout",
     "output_type": "stream",
     "text": [
      "Root Mean Squared Error (RMSE): 454.78037231122914\n",
      "Root Mean Squared Logarithmic Error (RMSLE): 0.2136183696885859\n",
      "\n",
      "Training model for store 16 and family 13...\n",
      "Root Mean Squared Error (RMSE): 4.4287831659782855\n",
      "Root Mean Squared Logarithmic Error (RMSLE): 0.7820086910713708\n",
      "\n",
      "Training model for store 16 and family 15...\n"
     ]
    },
    {
     "name": "stderr",
     "output_type": "stream",
     "text": [
      "01:38:16 - cmdstanpy - INFO - Chain [1] done processing\n",
      "01:38:16 - cmdstanpy - INFO - Chain [1] start processing\n",
      "01:38:16 - cmdstanpy - INFO - Chain [1] done processing\n"
     ]
    },
    {
     "name": "stdout",
     "output_type": "stream",
     "text": [
      "Root Mean Squared Error (RMSE): 7.204188001906558\n",
      "Root Mean Squared Logarithmic Error (RMSLE): 0.6074850811500582\n",
      "\n",
      "Training model for store 16 and family 16...\n",
      "Root Mean Squared Error (RMSE): 6.370398936136676\n",
      "Root Mean Squared Logarithmic Error (RMSLE): 0.4680609206558049\n",
      "\n",
      "Training model for store 16 and family 18...\n"
     ]
    },
    {
     "name": "stderr",
     "output_type": "stream",
     "text": [
      "01:38:16 - cmdstanpy - INFO - Chain [1] start processing\n",
      "01:38:16 - cmdstanpy - INFO - Chain [1] done processing\n",
      "01:38:16 - cmdstanpy - INFO - Chain [1] start processing\n",
      "01:38:16 - cmdstanpy - INFO - Chain [1] done processing\n"
     ]
    },
    {
     "name": "stdout",
     "output_type": "stream",
     "text": [
      "Root Mean Squared Error (RMSE): 58.701983760368584\n",
      "Root Mean Squared Logarithmic Error (RMSLE): 0.3401549507443782\n",
      "\n",
      "Training model for store 16 and family 21...\n",
      "Root Mean Squared Error (RMSE): 2.5063624867534875\n",
      "Root Mean Squared Logarithmic Error (RMSLE): 0.6739564058296111\n",
      "\n",
      "Training model for store 16 and family 22...\n"
     ]
    },
    {
     "name": "stderr",
     "output_type": "stream",
     "text": [
      "01:38:16 - cmdstanpy - INFO - Chain [1] start processing\n",
      "01:38:16 - cmdstanpy - INFO - Chain [1] done processing\n",
      "01:38:16 - cmdstanpy - INFO - Chain [1] start processing\n",
      "01:38:16 - cmdstanpy - INFO - Chain [1] done processing\n",
      "01:38:16 - cmdstanpy - INFO - Chain [1] start processing\n"
     ]
    },
    {
     "name": "stdout",
     "output_type": "stream",
     "text": [
      "Root Mean Squared Error (RMSE): 22.869583354779646\n",
      "Root Mean Squared Logarithmic Error (RMSLE): 0.8013819180924985\n",
      "\n",
      "Training model for store 16 and family 23...\n",
      "Root Mean Squared Error (RMSE): 1.4630521361404865\n",
      "Root Mean Squared Logarithmic Error (RMSLE): 0.5446229671174427\n",
      "\n",
      "Training model for store 16 and family 24...\n"
     ]
    },
    {
     "name": "stderr",
     "output_type": "stream",
     "text": [
      "01:38:17 - cmdstanpy - INFO - Chain [1] done processing\n",
      "01:38:17 - cmdstanpy - INFO - Chain [1] start processing\n",
      "01:38:17 - cmdstanpy - INFO - Chain [1] done processing\n"
     ]
    },
    {
     "name": "stdout",
     "output_type": "stream",
     "text": [
      "Root Mean Squared Error (RMSE): 13.983079295569027\n",
      "Root Mean Squared Logarithmic Error (RMSLE): 0.25233873436771126\n",
      "\n",
      "Training model for store 16 and family 25...\n",
      "Root Mean Squared Error (RMSE): 33.00496427348087\n",
      "Root Mean Squared Logarithmic Error (RMSLE): 0.25737662878329587\n",
      "\n",
      "Training model for store 16 and family 26...\n"
     ]
    },
    {
     "name": "stderr",
     "output_type": "stream",
     "text": [
      "01:38:17 - cmdstanpy - INFO - Chain [1] start processing\n",
      "01:38:17 - cmdstanpy - INFO - Chain [1] done processing\n",
      "01:38:17 - cmdstanpy - INFO - Chain [1] start processing\n",
      "01:38:17 - cmdstanpy - INFO - Chain [1] done processing\n",
      "01:38:17 - cmdstanpy - INFO - Chain [1] start processing\n"
     ]
    },
    {
     "name": "stdout",
     "output_type": "stream",
     "text": [
      "Root Mean Squared Error (RMSE): 1.0493848638272896\n",
      "Root Mean Squared Logarithmic Error (RMSLE): 0.5456379809622032\n",
      "\n",
      "Training model for store 16 and family 27...\n",
      "Root Mean Squared Error (RMSE): 2.2370775073920504\n",
      "Root Mean Squared Logarithmic Error (RMSLE): 0.57447123693693\n",
      "\n",
      "Training model for store 16 and family 28...\n"
     ]
    },
    {
     "name": "stderr",
     "output_type": "stream",
     "text": [
      "01:38:17 - cmdstanpy - INFO - Chain [1] done processing\n",
      "01:38:17 - cmdstanpy - INFO - Chain [1] start processing\n",
      "01:38:17 - cmdstanpy - INFO - Chain [1] done processing\n",
      "01:38:17 - cmdstanpy - INFO - Chain [1] start processing\n"
     ]
    },
    {
     "name": "stdout",
     "output_type": "stream",
     "text": [
      "Root Mean Squared Error (RMSE): 22.954659946765357\n",
      "Root Mean Squared Logarithmic Error (RMSLE): 0.3018502631337155\n",
      "\n",
      "Training model for store 16 and family 29...\n",
      "Root Mean Squared Error (RMSE): 10.092348235911976\n",
      "Root Mean Squared Logarithmic Error (RMSLE): 0.2904316441133345\n",
      "\n",
      "Training model for store 16 and family 30...\n"
     ]
    },
    {
     "name": "stderr",
     "output_type": "stream",
     "text": [
      "01:38:17 - cmdstanpy - INFO - Chain [1] done processing\n",
      "01:38:17 - cmdstanpy - INFO - Chain [1] start processing\n",
      "01:38:17 - cmdstanpy - INFO - Chain [1] done processing\n",
      "01:38:18 - cmdstanpy - INFO - Chain [1] start processing\n"
     ]
    },
    {
     "name": "stdout",
     "output_type": "stream",
     "text": [
      "Root Mean Squared Error (RMSE): 176.4784802310807\n",
      "Root Mean Squared Logarithmic Error (RMSLE): 0.30119458875029237\n",
      "\n",
      "Training model for store 16 and family 32...\n",
      "Root Mean Squared Error (RMSE): 2.013052954794075\n",
      "Root Mean Squared Logarithmic Error (RMSLE): 0.7899419553163336\n",
      "\n",
      "Training model for store 19 and family 0...\n"
     ]
    },
    {
     "name": "stderr",
     "output_type": "stream",
     "text": [
      "01:38:18 - cmdstanpy - INFO - Chain [1] done processing\n",
      "01:38:18 - cmdstanpy - INFO - Chain [1] start processing\n",
      "01:38:18 - cmdstanpy - INFO - Chain [1] done processing\n",
      "01:38:18 - cmdstanpy - INFO - Chain [1] start processing\n"
     ]
    },
    {
     "name": "stdout",
     "output_type": "stream",
     "text": [
      "Root Mean Squared Error (RMSE): 3.83411675969468\n",
      "Root Mean Squared Logarithmic Error (RMSLE): 0.6201083759157693\n",
      "\n",
      "Training model for store 19 and family 2...\n",
      "Root Mean Squared Error (RMSE): 1.9248037310484296\n",
      "Root Mean Squared Logarithmic Error (RMSLE): 0.40015018961832044\n",
      "\n",
      "Training model for store 19 and family 3...\n"
     ]
    },
    {
     "name": "stderr",
     "output_type": "stream",
     "text": [
      "01:38:18 - cmdstanpy - INFO - Chain [1] done processing\n",
      "01:38:18 - cmdstanpy - INFO - Chain [1] start processing\n",
      "01:38:18 - cmdstanpy - INFO - Chain [1] done processing\n",
      "01:38:18 - cmdstanpy - INFO - Chain [1] start processing\n"
     ]
    },
    {
     "name": "stdout",
     "output_type": "stream",
     "text": [
      "Root Mean Squared Error (RMSE): 391.4944899018445\n",
      "Root Mean Squared Logarithmic Error (RMSLE): 0.15266370823962344\n",
      "\n",
      "Training model for store 19 and family 5...\n",
      "Root Mean Squared Error (RMSE): 50.324893751600285\n",
      "Root Mean Squared Logarithmic Error (RMSLE): 0.2659092441947605\n",
      "\n",
      "Training model for store 19 and family 6...\n"
     ]
    },
    {
     "name": "stderr",
     "output_type": "stream",
     "text": [
      "01:38:18 - cmdstanpy - INFO - Chain [1] done processing\n",
      "01:38:18 - cmdstanpy - INFO - Chain [1] start processing\n",
      "01:38:18 - cmdstanpy - INFO - Chain [1] done processing\n",
      "01:38:18 - cmdstanpy - INFO - Chain [1] start processing\n"
     ]
    },
    {
     "name": "stdout",
     "output_type": "stream",
     "text": [
      "Root Mean Squared Error (RMSE): 3.5726839432906723\n",
      "Root Mean Squared Logarithmic Error (RMSLE): 0.7046518567157402\n",
      "\n",
      "Training model for store 19 and family 7...\n",
      "Root Mean Squared Error (RMSE): 221.91592726767914\n",
      "Root Mean Squared Logarithmic Error (RMSLE): 0.2005424257150679\n",
      "\n",
      "Training model for store 19 and family 8...\n"
     ]
    },
    {
     "name": "stderr",
     "output_type": "stream",
     "text": [
      "01:38:18 - cmdstanpy - INFO - Chain [1] done processing\n",
      "01:38:18 - cmdstanpy - INFO - Chain [1] start processing\n",
      "01:38:19 - cmdstanpy - INFO - Chain [1] done processing\n"
     ]
    },
    {
     "name": "stdout",
     "output_type": "stream",
     "text": [
      "Root Mean Squared Error (RMSE): 53.51191990590092\n",
      "Root Mean Squared Logarithmic Error (RMSLE): 0.14403898090941097\n",
      "\n",
      "Training model for store 19 and family 9...\n",
      "Root Mean Squared Error (RMSE): 45.91200536003061\n",
      "Root Mean Squared Logarithmic Error (RMSLE): 0.1672042837065841\n",
      "\n",
      "Training model for store 19 and family 10...\n"
     ]
    },
    {
     "name": "stderr",
     "output_type": "stream",
     "text": [
      "01:38:19 - cmdstanpy - INFO - Chain [1] start processing\n",
      "01:38:19 - cmdstanpy - INFO - Chain [1] done processing\n",
      "01:38:19 - cmdstanpy - INFO - Chain [1] start processing\n",
      "01:38:19 - cmdstanpy - INFO - Chain [1] done processing\n",
      "01:38:19 - cmdstanpy - INFO - Chain [1] start processing\n"
     ]
    },
    {
     "name": "stdout",
     "output_type": "stream",
     "text": [
      "Root Mean Squared Error (RMSE): 25.657535282779424\n",
      "Root Mean Squared Logarithmic Error (RMSLE): 0.44713684781851115\n",
      "\n",
      "Training model for store 19 and family 11...\n",
      "Root Mean Squared Error (RMSE): 30.090255051061245\n",
      "Root Mean Squared Logarithmic Error (RMSLE): 0.5461501166519664\n",
      "\n",
      "Training model for store 19 and family 12...\n"
     ]
    },
    {
     "name": "stderr",
     "output_type": "stream",
     "text": [
      "01:38:19 - cmdstanpy - INFO - Chain [1] done processing\n",
      "01:38:19 - cmdstanpy - INFO - Chain [1] start processing\n",
      "01:38:19 - cmdstanpy - INFO - Chain [1] done processing\n"
     ]
    },
    {
     "name": "stdout",
     "output_type": "stream",
     "text": [
      "Root Mean Squared Error (RMSE): 390.9521148407591\n",
      "Root Mean Squared Logarithmic Error (RMSLE): 0.11746247296060378\n",
      "\n",
      "Training model for store 19 and family 13...\n",
      "Root Mean Squared Error (RMSE): 44.29064586257914\n",
      "Root Mean Squared Logarithmic Error (RMSLE): 1.117663414028111\n",
      "\n",
      "Training model for store 19 and family 15...\n"
     ]
    },
    {
     "name": "stderr",
     "output_type": "stream",
     "text": [
      "01:38:19 - cmdstanpy - INFO - Chain [1] start processing\n",
      "01:38:19 - cmdstanpy - INFO - Chain [1] done processing\n",
      "01:38:19 - cmdstanpy - INFO - Chain [1] start processing\n",
      "01:38:19 - cmdstanpy - INFO - Chain [1] done processing\n",
      "01:38:20 - cmdstanpy - INFO - Chain [1] start processing\n"
     ]
    },
    {
     "name": "stdout",
     "output_type": "stream",
     "text": [
      "Root Mean Squared Error (RMSE): 12.8553377208143\n",
      "Root Mean Squared Logarithmic Error (RMSLE): 0.7265135364856898\n",
      "\n",
      "Training model for store 19 and family 16...\n",
      "Root Mean Squared Error (RMSE): 21.80093419657824\n",
      "Root Mean Squared Logarithmic Error (RMSLE): 0.609477679185403\n",
      "\n",
      "Training model for store 19 and family 18...\n"
     ]
    },
    {
     "name": "stderr",
     "output_type": "stream",
     "text": [
      "01:38:20 - cmdstanpy - INFO - Chain [1] done processing\n",
      "01:38:20 - cmdstanpy - INFO - Chain [1] start processing\n",
      "01:38:20 - cmdstanpy - INFO - Chain [1] done processing\n"
     ]
    },
    {
     "name": "stdout",
     "output_type": "stream",
     "text": [
      "Root Mean Squared Error (RMSE): 56.83378607106157\n",
      "Root Mean Squared Logarithmic Error (RMSLE): 0.3002447564218936\n",
      "\n",
      "Training model for store 19 and family 21...\n",
      "Root Mean Squared Error (RMSE): 3.054745013943723\n",
      "Root Mean Squared Logarithmic Error (RMSLE): 0.685285011143011\n",
      "\n",
      "Training model for store 19 and family 22...\n"
     ]
    },
    {
     "name": "stderr",
     "output_type": "stream",
     "text": [
      "01:38:20 - cmdstanpy - INFO - Chain [1] start processing\n",
      "01:38:20 - cmdstanpy - INFO - Chain [1] done processing\n",
      "01:38:20 - cmdstanpy - INFO - Chain [1] start processing\n",
      "01:38:20 - cmdstanpy - INFO - Chain [1] done processing\n"
     ]
    },
    {
     "name": "stdout",
     "output_type": "stream",
     "text": [
      "Root Mean Squared Error (RMSE): 39.822262949331936\n",
      "Root Mean Squared Logarithmic Error (RMSLE): 0.7412487282332434\n",
      "\n",
      "Training model for store 19 and family 23...\n",
      "Root Mean Squared Error (RMSE): 2.300931270240485\n",
      "Root Mean Squared Logarithmic Error (RMSLE): 0.5948973579196875\n",
      "\n",
      "Training model for store 19 and family 24...\n"
     ]
    },
    {
     "name": "stderr",
     "output_type": "stream",
     "text": [
      "01:38:20 - cmdstanpy - INFO - Chain [1] start processing\n",
      "01:38:20 - cmdstanpy - INFO - Chain [1] done processing\n",
      "01:38:20 - cmdstanpy - INFO - Chain [1] start processing\n",
      "01:38:20 - cmdstanpy - INFO - Chain [1] done processing\n",
      "01:38:20 - cmdstanpy - INFO - Chain [1] start processing\n"
     ]
    },
    {
     "name": "stdout",
     "output_type": "stream",
     "text": [
      "Root Mean Squared Error (RMSE): 32.25364664518681\n",
      "Root Mean Squared Logarithmic Error (RMSLE): 0.20309620996255365\n",
      "\n",
      "Training model for store 19 and family 25...\n",
      "Root Mean Squared Error (RMSE): 36.931586544778376\n",
      "Root Mean Squared Logarithmic Error (RMSLE): 0.21435266973230155\n",
      "\n",
      "Training model for store 19 and family 26...\n"
     ]
    },
    {
     "name": "stderr",
     "output_type": "stream",
     "text": [
      "01:38:20 - cmdstanpy - INFO - Chain [1] done processing\n",
      "01:38:20 - cmdstanpy - INFO - Chain [1] start processing\n",
      "01:38:21 - cmdstanpy - INFO - Chain [1] done processing\n",
      "01:38:21 - cmdstanpy - INFO - Chain [1] start processing\n"
     ]
    },
    {
     "name": "stdout",
     "output_type": "stream",
     "text": [
      "Root Mean Squared Error (RMSE): 1.2890415315922235\n",
      "Root Mean Squared Logarithmic Error (RMSLE): 0.6218539218664061\n",
      "\n",
      "Training model for store 19 and family 27...\n",
      "Root Mean Squared Error (RMSE): 3.1550002090377736\n",
      "Root Mean Squared Logarithmic Error (RMSLE): 0.6438254988615733\n",
      "\n",
      "Training model for store 19 and family 28...\n"
     ]
    },
    {
     "name": "stderr",
     "output_type": "stream",
     "text": [
      "01:38:21 - cmdstanpy - INFO - Chain [1] done processing\n",
      "01:38:21 - cmdstanpy - INFO - Chain [1] start processing\n",
      "01:38:21 - cmdstanpy - INFO - Chain [1] done processing\n",
      "01:38:21 - cmdstanpy - INFO - Chain [1] start processing\n"
     ]
    },
    {
     "name": "stdout",
     "output_type": "stream",
     "text": [
      "Root Mean Squared Error (RMSE): 32.822824685883106\n",
      "Root Mean Squared Logarithmic Error (RMSLE): 0.2502226766247828\n",
      "\n",
      "Training model for store 19 and family 29...\n",
      "Root Mean Squared Error (RMSE): 8.637390110609088\n",
      "Root Mean Squared Logarithmic Error (RMSLE): 0.30956825378241654\n",
      "\n",
      "Training model for store 19 and family 30...\n"
     ]
    },
    {
     "name": "stderr",
     "output_type": "stream",
     "text": [
      "01:38:21 - cmdstanpy - INFO - Chain [1] done processing\n",
      "01:38:21 - cmdstanpy - INFO - Chain [1] start processing\n",
      "01:38:21 - cmdstanpy - INFO - Chain [1] done processing\n",
      "01:38:21 - cmdstanpy - INFO - Chain [1] start processing\n"
     ]
    },
    {
     "name": "stdout",
     "output_type": "stream",
     "text": [
      "Root Mean Squared Error (RMSE): 86.74488043175153\n",
      "Root Mean Squared Logarithmic Error (RMSLE): 0.1998983988090077\n",
      "\n",
      "Training model for store 19 and family 32...\n",
      "Root Mean Squared Error (RMSE): 3.225383356626182\n",
      "Root Mean Squared Logarithmic Error (RMSLE): 0.5944995080406187\n",
      "\n",
      "Training model for store 22 and family 0...\n"
     ]
    },
    {
     "name": "stderr",
     "output_type": "stream",
     "text": [
      "01:38:21 - cmdstanpy - INFO - Chain [1] done processing\n",
      "01:38:21 - cmdstanpy - INFO - Chain [1] start processing\n",
      "01:38:21 - cmdstanpy - INFO - Chain [1] done processing\n"
     ]
    },
    {
     "name": "stdout",
     "output_type": "stream",
     "text": [
      "Root Mean Squared Error (RMSE): 2.5734504837462904\n",
      "Root Mean Squared Logarithmic Error (RMSLE): 0.5246631718245307\n",
      "\n",
      "Training model for store 22 and family 2...\n",
      "Root Mean Squared Error (RMSE): 2.160644174628912\n",
      "Root Mean Squared Logarithmic Error (RMSLE): 0.6214884924691341\n",
      "\n",
      "Training model for store 22 and family 3...\n"
     ]
    },
    {
     "name": "stderr",
     "output_type": "stream",
     "text": [
      "01:38:22 - cmdstanpy - INFO - Chain [1] start processing\n",
      "01:38:22 - cmdstanpy - INFO - Chain [1] done processing\n",
      "01:38:22 - cmdstanpy - INFO - Chain [1] start processing\n",
      "01:38:22 - cmdstanpy - INFO - Chain [1] done processing\n"
     ]
    },
    {
     "name": "stdout",
     "output_type": "stream",
     "text": [
      "Root Mean Squared Error (RMSE): 455.48761592948057\n",
      "Root Mean Squared Logarithmic Error (RMSLE): 0.26290251518471064\n",
      "\n",
      "Training model for store 22 and family 5...\n",
      "Root Mean Squared Error (RMSE): 66.33971022357\n",
      "Root Mean Squared Logarithmic Error (RMSLE): 0.35305199872256804\n",
      "\n",
      "Training model for store 22 and family 6...\n"
     ]
    },
    {
     "name": "stderr",
     "output_type": "stream",
     "text": [
      "01:38:22 - cmdstanpy - INFO - Chain [1] start processing\n",
      "01:38:22 - cmdstanpy - INFO - Chain [1] done processing\n",
      "01:38:22 - cmdstanpy - INFO - Chain [1] start processing\n",
      "01:38:22 - cmdstanpy - INFO - Chain [1] done processing\n"
     ]
    },
    {
     "name": "stdout",
     "output_type": "stream",
     "text": [
      "Root Mean Squared Error (RMSE): 7.203007368129966\n",
      "Root Mean Squared Logarithmic Error (RMSLE): 0.609560179327461\n",
      "\n",
      "Training model for store 22 and family 7...\n",
      "Root Mean Squared Error (RMSE): 347.31083220707393\n",
      "Root Mean Squared Logarithmic Error (RMSLE): 0.4036833151915496\n",
      "\n",
      "Training model for store 22 and family 8...\n"
     ]
    },
    {
     "name": "stderr",
     "output_type": "stream",
     "text": [
      "01:38:22 - cmdstanpy - INFO - Chain [1] start processing\n",
      "01:38:22 - cmdstanpy - INFO - Chain [1] done processing\n",
      "01:38:22 - cmdstanpy - INFO - Chain [1] start processing\n",
      "01:38:22 - cmdstanpy - INFO - Chain [1] done processing\n"
     ]
    },
    {
     "name": "stdout",
     "output_type": "stream",
     "text": [
      "Root Mean Squared Error (RMSE): 42.76341279765104\n",
      "Root Mean Squared Logarithmic Error (RMSLE): 0.12934886579173435\n",
      "\n",
      "Training model for store 22 and family 9...\n",
      "Root Mean Squared Error (RMSE): 29.17343900172507\n",
      "Root Mean Squared Logarithmic Error (RMSLE): 0.20209318878454657\n",
      "\n",
      "Training model for store 22 and family 10...\n"
     ]
    },
    {
     "name": "stderr",
     "output_type": "stream",
     "text": [
      "01:38:23 - cmdstanpy - INFO - Chain [1] start processing\n",
      "01:38:23 - cmdstanpy - INFO - Chain [1] done processing\n",
      "01:38:23 - cmdstanpy - INFO - Chain [1] start processing\n",
      "01:38:23 - cmdstanpy - INFO - Chain [1] done processing\n",
      "01:38:23 - cmdstanpy - INFO - Chain [1] start processing\n"
     ]
    },
    {
     "name": "stdout",
     "output_type": "stream",
     "text": [
      "Root Mean Squared Error (RMSE): 28.411722216512484\n",
      "Root Mean Squared Logarithmic Error (RMSLE): 0.4978731628088537\n",
      "\n",
      "Training model for store 22 and family 11...\n",
      "Root Mean Squared Error (RMSE): 30.55942638991186\n",
      "Root Mean Squared Logarithmic Error (RMSLE): 0.4705873769079398\n",
      "\n",
      "Training model for store 22 and family 12...\n"
     ]
    },
    {
     "name": "stderr",
     "output_type": "stream",
     "text": [
      "01:38:23 - cmdstanpy - INFO - Chain [1] done processing\n",
      "01:38:23 - cmdstanpy - INFO - Chain [1] start processing\n",
      "01:38:23 - cmdstanpy - INFO - Chain [1] done processing\n",
      "01:38:23 - cmdstanpy - INFO - Chain [1] start processing\n"
     ]
    },
    {
     "name": "stdout",
     "output_type": "stream",
     "text": [
      "Root Mean Squared Error (RMSE): 467.44637986814274\n",
      "Root Mean Squared Logarithmic Error (RMSLE): 0.17763380599345055\n",
      "\n",
      "Training model for store 22 and family 13...\n",
      "Root Mean Squared Error (RMSE): 11.036023001195554\n",
      "Root Mean Squared Logarithmic Error (RMSLE): 0.6628993491645391\n",
      "\n",
      "Training model for store 22 and family 15...\n"
     ]
    },
    {
     "name": "stderr",
     "output_type": "stream",
     "text": [
      "01:38:23 - cmdstanpy - INFO - Chain [1] done processing\n",
      "01:38:23 - cmdstanpy - INFO - Chain [1] start processing\n",
      "01:38:24 - cmdstanpy - INFO - Chain [1] done processing\n"
     ]
    },
    {
     "name": "stdout",
     "output_type": "stream",
     "text": [
      "Root Mean Squared Error (RMSE): 15.431907967255308\n",
      "Root Mean Squared Logarithmic Error (RMSLE): 0.6498382700907948\n",
      "\n",
      "Training model for store 22 and family 16...\n",
      "Root Mean Squared Error (RMSE): 7.684905483499582\n",
      "Root Mean Squared Logarithmic Error (RMSLE): 0.41683918182017754\n",
      "\n",
      "Training model for store 22 and family 18...\n"
     ]
    },
    {
     "name": "stderr",
     "output_type": "stream",
     "text": [
      "01:38:24 - cmdstanpy - INFO - Chain [1] start processing\n",
      "01:38:24 - cmdstanpy - INFO - Chain [1] done processing\n",
      "01:38:24 - cmdstanpy - INFO - Chain [1] start processing\n",
      "01:38:24 - cmdstanpy - INFO - Chain [1] done processing\n"
     ]
    },
    {
     "name": "stdout",
     "output_type": "stream",
     "text": [
      "Root Mean Squared Error (RMSE): 38.183445869177426\n",
      "Root Mean Squared Logarithmic Error (RMSLE): 0.23009859937680813\n",
      "\n",
      "Training model for store 22 and family 21...\n"
     ]
    },
    {
     "name": "stderr",
     "output_type": "stream",
     "text": [
      "01:38:24 - cmdstanpy - INFO - Chain [1] start processing\n",
      "01:38:24 - cmdstanpy - INFO - Chain [1] done processing\n",
      "01:38:24 - cmdstanpy - INFO - Chain [1] start processing\n"
     ]
    },
    {
     "name": "stdout",
     "output_type": "stream",
     "text": [
      "Root Mean Squared Error (RMSE): 3.439552983297642\n",
      "Root Mean Squared Logarithmic Error (RMSLE): 0.6829845341001686\n",
      "\n",
      "Training model for store 22 and family 22...\n",
      "Root Mean Squared Error (RMSE): 138.54316742532112\n",
      "Root Mean Squared Logarithmic Error (RMSLE): 0.9139087960646636\n",
      "\n",
      "Training model for store 22 and family 23...\n"
     ]
    },
    {
     "name": "stderr",
     "output_type": "stream",
     "text": [
      "01:38:24 - cmdstanpy - INFO - Chain [1] done processing\n",
      "01:38:24 - cmdstanpy - INFO - Chain [1] start processing\n",
      "01:38:24 - cmdstanpy - INFO - Chain [1] done processing\n",
      "01:38:24 - cmdstanpy - INFO - Chain [1] start processing\n"
     ]
    },
    {
     "name": "stdout",
     "output_type": "stream",
     "text": [
      "Root Mean Squared Error (RMSE): 1.658456861882463\n",
      "Root Mean Squared Logarithmic Error (RMSLE): 0.5248201486088101\n",
      "\n",
      "Training model for store 22 and family 24...\n",
      "Root Mean Squared Error (RMSE): 38.493080780858286\n",
      "Root Mean Squared Logarithmic Error (RMSLE): 0.3899443252275927\n",
      "\n",
      "Training model for store 22 and family 25...\n"
     ]
    },
    {
     "name": "stderr",
     "output_type": "stream",
     "text": [
      "01:38:24 - cmdstanpy - INFO - Chain [1] done processing\n",
      "01:38:25 - cmdstanpy - INFO - Chain [1] start processing\n",
      "01:38:25 - cmdstanpy - INFO - Chain [1] done processing\n"
     ]
    },
    {
     "name": "stdout",
     "output_type": "stream",
     "text": [
      "Root Mean Squared Error (RMSE): 41.19025334192518\n",
      "Root Mean Squared Logarithmic Error (RMSLE): 0.26078769480646785\n",
      "\n",
      "Training model for store 22 and family 26...\n",
      "Root Mean Squared Error (RMSE): 1.2179508745317889\n",
      "Root Mean Squared Logarithmic Error (RMSLE): 0.569342414214267\n",
      "\n",
      "Training model for store 22 and family 27...\n"
     ]
    },
    {
     "name": "stderr",
     "output_type": "stream",
     "text": [
      "01:38:25 - cmdstanpy - INFO - Chain [1] start processing\n",
      "01:38:25 - cmdstanpy - INFO - Chain [1] done processing\n",
      "01:38:25 - cmdstanpy - INFO - Chain [1] start processing\n",
      "01:38:25 - cmdstanpy - INFO - Chain [1] done processing\n"
     ]
    },
    {
     "name": "stdout",
     "output_type": "stream",
     "text": [
      "Root Mean Squared Error (RMSE): 3.3320714385061425\n",
      "Root Mean Squared Logarithmic Error (RMSLE): 0.4931022941697857\n",
      "\n",
      "Training model for store 22 and family 28...\n",
      "Root Mean Squared Error (RMSE): 75.39483573728677\n",
      "Root Mean Squared Logarithmic Error (RMSLE): 0.45014884730796934\n",
      "\n",
      "Training model for store 22 and family 29...\n"
     ]
    },
    {
     "name": "stderr",
     "output_type": "stream",
     "text": [
      "01:38:25 - cmdstanpy - INFO - Chain [1] start processing\n",
      "01:38:25 - cmdstanpy - INFO - Chain [1] done processing\n",
      "01:38:25 - cmdstanpy - INFO - Chain [1] start processing\n",
      "01:38:25 - cmdstanpy - INFO - Chain [1] done processing\n"
     ]
    },
    {
     "name": "stdout",
     "output_type": "stream",
     "text": [
      "Root Mean Squared Error (RMSE): 18.31598725207332\n",
      "Root Mean Squared Logarithmic Error (RMSLE): 0.5462648388148271\n",
      "\n",
      "Training model for store 22 and family 30...\n",
      "Root Mean Squared Error (RMSE): 233.12951837485136\n",
      "Root Mean Squared Logarithmic Error (RMSLE): 0.3674013918690466\n",
      "\n",
      "Training model for store 22 and family 32...\n"
     ]
    },
    {
     "name": "stderr",
     "output_type": "stream",
     "text": [
      "01:38:25 - cmdstanpy - INFO - Chain [1] start processing\n",
      "01:38:25 - cmdstanpy - INFO - Chain [1] done processing\n",
      "01:38:25 - cmdstanpy - INFO - Chain [1] start processing\n",
      "01:38:26 - cmdstanpy - INFO - Chain [1] done processing\n",
      "01:38:26 - cmdstanpy - INFO - Chain [1] start processing\n"
     ]
    },
    {
     "name": "stdout",
     "output_type": "stream",
     "text": [
      "Root Mean Squared Error (RMSE): 4.006923472655153\n",
      "Root Mean Squared Logarithmic Error (RMSLE): 0.8681347557277536\n",
      "\n",
      "Training model for store 25 and family 0...\n",
      "Root Mean Squared Error (RMSE): 2.591869077464255\n",
      "Root Mean Squared Logarithmic Error (RMSLE): 0.7047154518704266\n",
      "\n",
      "Training model for store 25 and family 2...\n"
     ]
    },
    {
     "name": "stderr",
     "output_type": "stream",
     "text": [
      "01:38:26 - cmdstanpy - INFO - Chain [1] done processing\n",
      "01:38:26 - cmdstanpy - INFO - Chain [1] start processing\n",
      "01:38:26 - cmdstanpy - INFO - Chain [1] done processing\n",
      "01:38:26 - cmdstanpy - INFO - Chain [1] start processing\n"
     ]
    },
    {
     "name": "stdout",
     "output_type": "stream",
     "text": [
      "Root Mean Squared Error (RMSE): 2.3673670271992564\n",
      "Root Mean Squared Logarithmic Error (RMSLE): 0.5703819736527624\n",
      "\n",
      "Training model for store 25 and family 3...\n",
      "Root Mean Squared Error (RMSE): 837.1170763470998\n",
      "Root Mean Squared Logarithmic Error (RMSLE): 0.2681808437088555\n",
      "\n",
      "Training model for store 25 and family 5...\n"
     ]
    },
    {
     "name": "stderr",
     "output_type": "stream",
     "text": [
      "01:38:26 - cmdstanpy - INFO - Chain [1] done processing\n",
      "01:38:26 - cmdstanpy - INFO - Chain [1] start processing\n",
      "01:38:26 - cmdstanpy - INFO - Chain [1] done processing\n",
      "01:38:26 - cmdstanpy - INFO - Chain [1] start processing\n"
     ]
    },
    {
     "name": "stdout",
     "output_type": "stream",
     "text": [
      "Root Mean Squared Error (RMSE): 108.47230205107907\n",
      "Root Mean Squared Logarithmic Error (RMSLE): 0.2194205397282719\n",
      "\n",
      "Training model for store 25 and family 6...\n",
      "Root Mean Squared Error (RMSE): 5.101548828787053\n",
      "Root Mean Squared Logarithmic Error (RMSLE): 0.4795909691528182\n",
      "\n",
      "Training model for store 25 and family 7...\n"
     ]
    },
    {
     "name": "stderr",
     "output_type": "stream",
     "text": [
      "01:38:26 - cmdstanpy - INFO - Chain [1] done processing\n",
      "01:38:26 - cmdstanpy - INFO - Chain [1] start processing\n",
      "01:38:26 - cmdstanpy - INFO - Chain [1] done processing\n"
     ]
    },
    {
     "name": "stdout",
     "output_type": "stream",
     "text": [
      "Root Mean Squared Error (RMSE): 155.4694351875811\n",
      "Root Mean Squared Logarithmic Error (RMSLE): 0.27437751466072036\n",
      "\n",
      "Training model for store 25 and family 8...\n",
      "Root Mean Squared Error (RMSE): 195.06168064592848\n",
      "Root Mean Squared Logarithmic Error (RMSLE): 0.2291782416318661\n",
      "\n",
      "Training model for store 25 and family 9...\n"
     ]
    },
    {
     "name": "stderr",
     "output_type": "stream",
     "text": [
      "01:38:26 - cmdstanpy - INFO - Chain [1] start processing\n",
      "01:38:26 - cmdstanpy - INFO - Chain [1] done processing\n",
      "01:38:27 - cmdstanpy - INFO - Chain [1] start processing\n",
      "01:38:27 - cmdstanpy - INFO - Chain [1] done processing\n",
      "01:38:27 - cmdstanpy - INFO - Chain [1] start processing\n"
     ]
    },
    {
     "name": "stdout",
     "output_type": "stream",
     "text": [
      "Root Mean Squared Error (RMSE): 38.57686025543796\n",
      "Root Mean Squared Logarithmic Error (RMSLE): 0.22690500550590323\n",
      "\n",
      "Training model for store 25 and family 10...\n",
      "Root Mean Squared Error (RMSE): 51.2415762440142\n",
      "Root Mean Squared Logarithmic Error (RMSLE): 0.28725405014805006\n",
      "\n",
      "Training model for store 25 and family 11...\n"
     ]
    },
    {
     "name": "stderr",
     "output_type": "stream",
     "text": [
      "01:38:27 - cmdstanpy - INFO - Chain [1] done processing\n",
      "01:38:27 - cmdstanpy - INFO - Chain [1] start processing\n",
      "01:38:27 - cmdstanpy - INFO - Chain [1] done processing\n"
     ]
    },
    {
     "name": "stdout",
     "output_type": "stream",
     "text": [
      "Root Mean Squared Error (RMSE): 71.58431213653755\n",
      "Root Mean Squared Logarithmic Error (RMSLE): 0.5816664222905199\n",
      "\n",
      "Training model for store 25 and family 12...\n",
      "Root Mean Squared Error (RMSE): 501.4020754332314\n",
      "Root Mean Squared Logarithmic Error (RMSLE): 0.19924269051919283\n",
      "\n",
      "Training model for store 25 and family 13...\n"
     ]
    },
    {
     "name": "stderr",
     "output_type": "stream",
     "text": [
      "01:38:27 - cmdstanpy - INFO - Chain [1] start processing\n",
      "01:38:27 - cmdstanpy - INFO - Chain [1] done processing\n",
      "01:38:27 - cmdstanpy - INFO - Chain [1] start processing\n",
      "01:38:27 - cmdstanpy - INFO - Chain [1] done processing\n",
      "01:38:27 - cmdstanpy - INFO - Chain [1] start processing\n"
     ]
    },
    {
     "name": "stdout",
     "output_type": "stream",
     "text": [
      "Root Mean Squared Error (RMSE): 14.634742880842646\n",
      "Root Mean Squared Logarithmic Error (RMSLE): 0.4616972785967243\n",
      "\n",
      "Training model for store 25 and family 15...\n",
      "Root Mean Squared Error (RMSE): 14.701417129888455\n",
      "Root Mean Squared Logarithmic Error (RMSLE): 0.6727708820293666\n",
      "\n",
      "Training model for store 25 and family 16...\n"
     ]
    },
    {
     "name": "stderr",
     "output_type": "stream",
     "text": [
      "01:38:27 - cmdstanpy - INFO - Chain [1] done processing\n",
      "01:38:27 - cmdstanpy - INFO - Chain [1] start processing\n",
      "01:38:27 - cmdstanpy - INFO - Chain [1] done processing\n",
      "01:38:28 - cmdstanpy - INFO - Chain [1] start processing\n"
     ]
    },
    {
     "name": "stdout",
     "output_type": "stream",
     "text": [
      "Root Mean Squared Error (RMSE): 11.431701484414825\n",
      "Root Mean Squared Logarithmic Error (RMSLE): 0.5796570948653147\n",
      "\n",
      "Training model for store 25 and family 18...\n",
      "Root Mean Squared Error (RMSE): 39.86578917188933\n",
      "Root Mean Squared Logarithmic Error (RMSLE): 0.255115157255355\n",
      "\n",
      "Training model for store 25 and family 21...\n"
     ]
    },
    {
     "name": "stderr",
     "output_type": "stream",
     "text": [
      "01:38:28 - cmdstanpy - INFO - Chain [1] done processing\n",
      "01:38:28 - cmdstanpy - INFO - Chain [1] start processing\n",
      "01:38:28 - cmdstanpy - INFO - Chain [1] done processing\n",
      "01:38:28 - cmdstanpy - INFO - Chain [1] start processing\n"
     ]
    },
    {
     "name": "stdout",
     "output_type": "stream",
     "text": [
      "Root Mean Squared Error (RMSE): 4.295516259211193\n",
      "Root Mean Squared Logarithmic Error (RMSLE): 0.7874767548463774\n",
      "\n",
      "Training model for store 25 and family 22...\n",
      "Root Mean Squared Error (RMSE): 195.52063476893122\n",
      "Root Mean Squared Logarithmic Error (RMSLE): 0.6099396000964389\n",
      "\n",
      "Training model for store 25 and family 23...\n"
     ]
    },
    {
     "name": "stderr",
     "output_type": "stream",
     "text": [
      "01:38:28 - cmdstanpy - INFO - Chain [1] done processing\n",
      "01:38:28 - cmdstanpy - INFO - Chain [1] start processing\n",
      "01:38:28 - cmdstanpy - INFO - Chain [1] done processing\n"
     ]
    },
    {
     "name": "stdout",
     "output_type": "stream",
     "text": [
      "Root Mean Squared Error (RMSE): 9.430301048448168\n",
      "Root Mean Squared Logarithmic Error (RMSLE): 0.7007830532244818\n",
      "\n",
      "Training model for store 25 and family 24...\n",
      "Root Mean Squared Error (RMSE): 74.60695115531679\n",
      "Root Mean Squared Logarithmic Error (RMSLE): 0.26071176967040777\n",
      "\n",
      "Training model for store 25 and family 25...\n"
     ]
    },
    {
     "name": "stderr",
     "output_type": "stream",
     "text": [
      "01:38:28 - cmdstanpy - INFO - Chain [1] start processing\n",
      "01:38:28 - cmdstanpy - INFO - Chain [1] done processing\n",
      "01:38:28 - cmdstanpy - INFO - Chain [1] start processing\n",
      "01:38:28 - cmdstanpy - INFO - Chain [1] done processing\n",
      "01:38:28 - cmdstanpy - INFO - Chain [1] start processing\n"
     ]
    },
    {
     "name": "stdout",
     "output_type": "stream",
     "text": [
      "Root Mean Squared Error (RMSE): 30.419598319354794\n",
      "Root Mean Squared Logarithmic Error (RMSLE): 0.22283839831586347\n",
      "\n",
      "Training model for store 25 and family 26...\n",
      "Root Mean Squared Error (RMSE): 3.0319105258993604\n",
      "Root Mean Squared Logarithmic Error (RMSLE): 0.47428335891762213\n",
      "\n",
      "Training model for store 25 and family 27...\n"
     ]
    },
    {
     "name": "stderr",
     "output_type": "stream",
     "text": [
      "01:38:28 - cmdstanpy - INFO - Chain [1] done processing\n",
      "01:38:29 - cmdstanpy - INFO - Chain [1] start processing\n",
      "01:38:29 - cmdstanpy - INFO - Chain [1] done processing\n"
     ]
    },
    {
     "name": "stdout",
     "output_type": "stream",
     "text": [
      "Root Mean Squared Error (RMSE): 4.93448875476037\n",
      "Root Mean Squared Logarithmic Error (RMSLE): 0.6776830963952267\n",
      "\n",
      "Training model for store 25 and family 28...\n",
      "Root Mean Squared Error (RMSE): 43.16351005802508\n",
      "Root Mean Squared Logarithmic Error (RMSLE): 0.2021168323122256\n",
      "\n",
      "Training model for store 25 and family 29...\n"
     ]
    },
    {
     "name": "stderr",
     "output_type": "stream",
     "text": [
      "01:38:29 - cmdstanpy - INFO - Chain [1] start processing\n",
      "01:38:29 - cmdstanpy - INFO - Chain [1] done processing\n",
      "01:38:29 - cmdstanpy - INFO - Chain [1] start processing\n",
      "01:38:29 - cmdstanpy - INFO - Chain [1] done processing\n",
      "01:38:29 - cmdstanpy - INFO - Chain [1] start processing\n"
     ]
    },
    {
     "name": "stdout",
     "output_type": "stream",
     "text": [
      "Root Mean Squared Error (RMSE): 12.11327338144183\n",
      "Root Mean Squared Logarithmic Error (RMSLE): 0.2812438002541548\n",
      "\n",
      "Training model for store 25 and family 30...\n",
      "Root Mean Squared Error (RMSE): 670.6156669390185\n",
      "Root Mean Squared Logarithmic Error (RMSLE): 0.35772250095871916\n",
      "\n",
      "Training model for store 25 and family 32...\n"
     ]
    },
    {
     "name": "stderr",
     "output_type": "stream",
     "text": [
      "01:38:29 - cmdstanpy - INFO - Chain [1] done processing\n",
      "01:38:29 - cmdstanpy - INFO - Chain [1] start processing\n",
      "01:38:29 - cmdstanpy - INFO - Chain [1] done processing\n",
      "01:38:29 - cmdstanpy - INFO - Chain [1] start processing\n"
     ]
    },
    {
     "name": "stdout",
     "output_type": "stream",
     "text": [
      "Root Mean Squared Error (RMSE): 3.73720059497571\n",
      "Root Mean Squared Logarithmic Error (RMSLE): 0.6728005257350166\n",
      "\n",
      "Training model for store 33 and family 0...\n",
      "Root Mean Squared Error (RMSE): 4.329778252508103\n",
      "Root Mean Squared Logarithmic Error (RMSLE): 0.5412341450596564\n",
      "\n",
      "Training model for store 33 and family 2...\n"
     ]
    },
    {
     "name": "stderr",
     "output_type": "stream",
     "text": [
      "01:38:29 - cmdstanpy - INFO - Chain [1] done processing\n",
      "01:38:29 - cmdstanpy - INFO - Chain [1] start processing\n",
      "01:38:29 - cmdstanpy - INFO - Chain [1] done processing\n"
     ]
    },
    {
     "name": "stdout",
     "output_type": "stream",
     "text": [
      "Root Mean Squared Error (RMSE): 1.9374572163639405\n",
      "Root Mean Squared Logarithmic Error (RMSLE): 0.6441848684617612\n",
      "\n",
      "Training model for store 33 and family 3...\n",
      "Root Mean Squared Error (RMSE): 1004.1121856401076\n",
      "Root Mean Squared Logarithmic Error (RMSLE): 0.33388309788237003\n",
      "\n",
      "Training model for store 33 and family 5...\n"
     ]
    },
    {
     "name": "stderr",
     "output_type": "stream",
     "text": [
      "01:38:30 - cmdstanpy - INFO - Chain [1] start processing\n",
      "01:38:30 - cmdstanpy - INFO - Chain [1] done processing\n",
      "01:38:30 - cmdstanpy - INFO - Chain [1] start processing\n",
      "01:38:30 - cmdstanpy - INFO - Chain [1] done processing\n",
      "01:38:30 - cmdstanpy - INFO - Chain [1] start processing\n"
     ]
    },
    {
     "name": "stdout",
     "output_type": "stream",
     "text": [
      "Root Mean Squared Error (RMSE): 36.54104818247748\n",
      "Root Mean Squared Logarithmic Error (RMSLE): 0.15938141885754062\n",
      "\n",
      "Training model for store 33 and family 6...\n",
      "Root Mean Squared Error (RMSE): 8.867422888117376\n",
      "Root Mean Squared Logarithmic Error (RMSLE): 0.9520716115990546\n",
      "\n",
      "Training model for store 33 and family 7...\n"
     ]
    },
    {
     "name": "stderr",
     "output_type": "stream",
     "text": [
      "01:38:30 - cmdstanpy - INFO - Chain [1] done processing\n",
      "01:38:30 - cmdstanpy - INFO - Chain [1] start processing\n",
      "01:38:30 - cmdstanpy - INFO - Chain [1] done processing\n"
     ]
    },
    {
     "name": "stdout",
     "output_type": "stream",
     "text": [
      "Root Mean Squared Error (RMSE): 262.0793037654948\n",
      "Root Mean Squared Logarithmic Error (RMSLE): 0.2365544611921092\n",
      "\n",
      "Training model for store 33 and family 8...\n",
      "Root Mean Squared Error (RMSE): 82.82620662250484\n",
      "Root Mean Squared Logarithmic Error (RMSLE): 0.20640939101652486\n",
      "\n",
      "Training model for store 33 and family 9...\n"
     ]
    },
    {
     "name": "stderr",
     "output_type": "stream",
     "text": [
      "01:38:30 - cmdstanpy - INFO - Chain [1] start processing\n",
      "01:38:30 - cmdstanpy - INFO - Chain [1] done processing\n",
      "01:38:30 - cmdstanpy - INFO - Chain [1] start processing\n",
      "01:38:30 - cmdstanpy - INFO - Chain [1] done processing\n",
      "01:38:30 - cmdstanpy - INFO - Chain [1] start processing\n"
     ]
    },
    {
     "name": "stdout",
     "output_type": "stream",
     "text": [
      "Root Mean Squared Error (RMSE): 41.04147281100633\n",
      "Root Mean Squared Logarithmic Error (RMSLE): 0.21765625221874865\n",
      "\n",
      "Training model for store 33 and family 10...\n",
      "Root Mean Squared Error (RMSE): 159.98362860783695\n",
      "Root Mean Squared Logarithmic Error (RMSLE): 0.5345685476518763\n",
      "\n",
      "Training model for store 33 and family 11...\n"
     ]
    },
    {
     "name": "stderr",
     "output_type": "stream",
     "text": [
      "01:38:31 - cmdstanpy - INFO - Chain [1] done processing\n",
      "01:38:31 - cmdstanpy - INFO - Chain [1] start processing\n",
      "01:38:31 - cmdstanpy - INFO - Chain [1] done processing\n",
      "01:38:31 - cmdstanpy - INFO - Chain [1] start processing\n"
     ]
    },
    {
     "name": "stdout",
     "output_type": "stream",
     "text": [
      "Root Mean Squared Error (RMSE): 39.83886529101123\n",
      "Root Mean Squared Logarithmic Error (RMSLE): 0.6327284781706062\n",
      "\n",
      "Training model for store 33 and family 12...\n",
      "Root Mean Squared Error (RMSE): 497.22899447317997\n",
      "Root Mean Squared Logarithmic Error (RMSLE): 0.15770796369945533\n",
      "\n",
      "Training model for store 33 and family 13...\n"
     ]
    },
    {
     "name": "stderr",
     "output_type": "stream",
     "text": [
      "01:38:31 - cmdstanpy - INFO - Chain [1] done processing\n",
      "01:38:31 - cmdstanpy - INFO - Chain [1] start processing\n",
      "01:38:31 - cmdstanpy - INFO - Chain [1] done processing\n",
      "01:38:31 - cmdstanpy - INFO - Chain [1] start processing\n"
     ]
    },
    {
     "name": "stdout",
     "output_type": "stream",
     "text": [
      "Root Mean Squared Error (RMSE): 3.1689110026115284\n",
      "Root Mean Squared Logarithmic Error (RMSLE): 0.6287189374770823\n",
      "\n",
      "Training model for store 33 and family 15...\n",
      "Root Mean Squared Error (RMSE): 20.152966740725155\n",
      "Root Mean Squared Logarithmic Error (RMSLE): 0.5722911120238425\n",
      "\n",
      "Training model for store 33 and family 16...\n"
     ]
    },
    {
     "name": "stderr",
     "output_type": "stream",
     "text": [
      "01:38:31 - cmdstanpy - INFO - Chain [1] done processing\n",
      "01:38:31 - cmdstanpy - INFO - Chain [1] start processing\n",
      "01:38:31 - cmdstanpy - INFO - Chain [1] done processing\n"
     ]
    },
    {
     "name": "stdout",
     "output_type": "stream",
     "text": [
      "Root Mean Squared Error (RMSE): 7.201356244442218\n",
      "Root Mean Squared Logarithmic Error (RMSLE): 0.42755852889975055\n",
      "\n",
      "Training model for store 33 and family 18...\n",
      "Root Mean Squared Error (RMSE): 92.88856626291947\n",
      "Root Mean Squared Logarithmic Error (RMSLE): 0.32179065149449715\n",
      "\n",
      "Training model for store 33 and family 21...\n"
     ]
    },
    {
     "name": "stderr",
     "output_type": "stream",
     "text": [
      "01:38:31 - cmdstanpy - INFO - Chain [1] start processing\n",
      "01:38:31 - cmdstanpy - INFO - Chain [1] done processing\n",
      "01:38:32 - cmdstanpy - INFO - Chain [1] start processing\n",
      "01:38:32 - cmdstanpy - INFO - Chain [1] done processing\n",
      "01:38:32 - cmdstanpy - INFO - Chain [1] start processing\n"
     ]
    },
    {
     "name": "stdout",
     "output_type": "stream",
     "text": [
      "Root Mean Squared Error (RMSE): 5.550137716964945\n",
      "Root Mean Squared Logarithmic Error (RMSLE): 0.3875254185289664\n",
      "\n",
      "Training model for store 33 and family 22...\n",
      "Root Mean Squared Error (RMSE): 55.87940600208797\n",
      "Root Mean Squared Logarithmic Error (RMSLE): 1.3448252227137891\n",
      "\n",
      "Training model for store 33 and family 23...\n"
     ]
    },
    {
     "name": "stderr",
     "output_type": "stream",
     "text": [
      "01:38:32 - cmdstanpy - INFO - Chain [1] done processing\n",
      "01:38:32 - cmdstanpy - INFO - Chain [1] start processing\n",
      "01:38:32 - cmdstanpy - INFO - Chain [1] done processing\n",
      "01:38:32 - cmdstanpy - INFO - Chain [1] start processing\n"
     ]
    },
    {
     "name": "stdout",
     "output_type": "stream",
     "text": [
      "Root Mean Squared Error (RMSE): 1.2427458840772279\n",
      "Root Mean Squared Logarithmic Error (RMSLE): 0.5330388866843062\n",
      "\n",
      "Training model for store 33 and family 24...\n",
      "Root Mean Squared Error (RMSE): 57.11044904443941\n",
      "Root Mean Squared Logarithmic Error (RMSLE): 0.2761545436619829\n",
      "\n",
      "Training model for store 33 and family 25...\n"
     ]
    },
    {
     "name": "stderr",
     "output_type": "stream",
     "text": [
      "01:38:32 - cmdstanpy - INFO - Chain [1] done processing\n",
      "01:38:32 - cmdstanpy - INFO - Chain [1] start processing\n",
      "01:38:32 - cmdstanpy - INFO - Chain [1] done processing\n"
     ]
    },
    {
     "name": "stdout",
     "output_type": "stream",
     "text": [
      "Root Mean Squared Error (RMSE): 48.8647960897232\n",
      "Root Mean Squared Logarithmic Error (RMSLE): 0.2171693101436122\n",
      "\n",
      "Training model for store 33 and family 26...\n",
      "Root Mean Squared Error (RMSE): 1.8469915342051657\n",
      "Root Mean Squared Logarithmic Error (RMSLE): 0.7205809500481789\n",
      "\n",
      "Training model for store 33 and family 27...\n"
     ]
    },
    {
     "name": "stderr",
     "output_type": "stream",
     "text": [
      "01:38:32 - cmdstanpy - INFO - Chain [1] start processing\n",
      "01:38:32 - cmdstanpy - INFO - Chain [1] done processing\n",
      "01:38:32 - cmdstanpy - INFO - Chain [1] start processing\n",
      "01:38:32 - cmdstanpy - INFO - Chain [1] done processing\n"
     ]
    },
    {
     "name": "stdout",
     "output_type": "stream",
     "text": [
      "Root Mean Squared Error (RMSE): 3.196204577308794\n",
      "Root Mean Squared Logarithmic Error (RMSLE): 0.6785914370300506\n",
      "\n",
      "Training model for store 33 and family 28...\n",
      "Root Mean Squared Error (RMSE): 81.78474472060306\n",
      "Root Mean Squared Logarithmic Error (RMSLE): 0.3772931300553905\n",
      "\n",
      "Training model for store 33 and family 29...\n"
     ]
    },
    {
     "name": "stderr",
     "output_type": "stream",
     "text": [
      "01:38:33 - cmdstanpy - INFO - Chain [1] start processing\n",
      "01:38:33 - cmdstanpy - INFO - Chain [1] done processing\n",
      "01:38:33 - cmdstanpy - INFO - Chain [1] start processing\n",
      "01:38:33 - cmdstanpy - INFO - Chain [1] done processing\n"
     ]
    },
    {
     "name": "stdout",
     "output_type": "stream",
     "text": [
      "Root Mean Squared Error (RMSE): 14.800331813916191\n",
      "Root Mean Squared Logarithmic Error (RMSLE): 0.6947783769627893\n",
      "\n",
      "Training model for store 33 and family 30...\n",
      "Root Mean Squared Error (RMSE): 381.8102791330958\n",
      "Root Mean Squared Logarithmic Error (RMSLE): 0.2528724212506629\n",
      "\n",
      "Training model for store 33 and family 32...\n"
     ]
    },
    {
     "name": "stderr",
     "output_type": "stream",
     "text": [
      "01:38:33 - cmdstanpy - INFO - Chain [1] start processing\n",
      "01:38:33 - cmdstanpy - INFO - Chain [1] done processing\n",
      "01:38:33 - cmdstanpy - INFO - Chain [1] start processing\n",
      "01:38:33 - cmdstanpy - INFO - Chain [1] done processing\n",
      "01:38:33 - cmdstanpy - INFO - Chain [1] start processing\n"
     ]
    },
    {
     "name": "stdout",
     "output_type": "stream",
     "text": [
      "Root Mean Squared Error (RMSE): 1.2569065196957945\n",
      "Root Mean Squared Logarithmic Error (RMSLE): 0.5160022870716423\n",
      "\n",
      "Training model for store 37 and family 0...\n",
      "Root Mean Squared Error (RMSE): 3.258078339731643\n",
      "Root Mean Squared Logarithmic Error (RMSLE): 0.6765184579405213\n",
      "\n",
      "Training model for store 37 and family 2...\n"
     ]
    },
    {
     "name": "stderr",
     "output_type": "stream",
     "text": [
      "01:38:33 - cmdstanpy - INFO - Chain [1] done processing\n",
      "01:38:33 - cmdstanpy - INFO - Chain [1] start processing\n",
      "01:38:33 - cmdstanpy - INFO - Chain [1] done processing\n",
      "01:38:33 - cmdstanpy - INFO - Chain [1] start processing\n"
     ]
    },
    {
     "name": "stdout",
     "output_type": "stream",
     "text": [
      "Root Mean Squared Error (RMSE): 3.8652203863046077\n",
      "Root Mean Squared Logarithmic Error (RMSLE): 0.5314487687303834\n",
      "\n",
      "Training model for store 37 and family 3...\n",
      "Root Mean Squared Error (RMSE): 578.8744013227059\n",
      "Root Mean Squared Logarithmic Error (RMSLE): 0.20194178890448547\n",
      "\n",
      "Training model for store 37 and family 5...\n"
     ]
    },
    {
     "name": "stderr",
     "output_type": "stream",
     "text": [
      "01:38:33 - cmdstanpy - INFO - Chain [1] done processing\n",
      "01:38:34 - cmdstanpy - INFO - Chain [1] start processing\n",
      "01:38:34 - cmdstanpy - INFO - Chain [1] done processing\n"
     ]
    },
    {
     "name": "stdout",
     "output_type": "stream",
     "text": [
      "Root Mean Squared Error (RMSE): 107.76326063731806\n",
      "Root Mean Squared Logarithmic Error (RMSLE): 0.21965495641828042\n",
      "\n",
      "Training model for store 37 and family 6...\n",
      "Root Mean Squared Error (RMSE): 4.811155314803495\n",
      "Root Mean Squared Logarithmic Error (RMSLE): 0.6269895172456865\n",
      "\n",
      "Training model for store 37 and family 7...\n"
     ]
    },
    {
     "name": "stderr",
     "output_type": "stream",
     "text": [
      "01:38:34 - cmdstanpy - INFO - Chain [1] start processing\n",
      "01:38:34 - cmdstanpy - INFO - Chain [1] done processing\n",
      "01:38:34 - cmdstanpy - INFO - Chain [1] start processing\n",
      "01:38:34 - cmdstanpy - INFO - Chain [1] done processing\n"
     ]
    },
    {
     "name": "stdout",
     "output_type": "stream",
     "text": [
      "Root Mean Squared Error (RMSE): 176.41271084302775\n",
      "Root Mean Squared Logarithmic Error (RMSLE): 0.20703042481404335\n",
      "\n",
      "Training model for store 37 and family 8...\n",
      "Root Mean Squared Error (RMSE): 120.4259891275298\n",
      "Root Mean Squared Logarithmic Error (RMSLE): 0.14886638389425946\n",
      "\n",
      "Training model for store 37 and family 9...\n"
     ]
    },
    {
     "name": "stderr",
     "output_type": "stream",
     "text": [
      "01:38:34 - cmdstanpy - INFO - Chain [1] start processing\n",
      "01:38:34 - cmdstanpy - INFO - Chain [1] done processing\n",
      "01:38:34 - cmdstanpy - INFO - Chain [1] start processing\n",
      "01:38:34 - cmdstanpy - INFO - Chain [1] done processing\n"
     ]
    },
    {
     "name": "stdout",
     "output_type": "stream",
     "text": [
      "Root Mean Squared Error (RMSE): 27.79859282164839\n",
      "Root Mean Squared Logarithmic Error (RMSLE): 0.18964122614623297\n",
      "\n",
      "Training model for store 37 and family 10...\n"
     ]
    },
    {
     "name": "stderr",
     "output_type": "stream",
     "text": [
      "01:38:34 - cmdstanpy - INFO - Chain [1] start processing\n",
      "01:38:35 - cmdstanpy - INFO - Chain [1] done processing\n"
     ]
    },
    {
     "name": "stdout",
     "output_type": "stream",
     "text": [
      "Root Mean Squared Error (RMSE): 21.250044387731133\n",
      "Root Mean Squared Logarithmic Error (RMSLE): 0.18809777669516634\n",
      "\n",
      "Training model for store 37 and family 11...\n",
      "Root Mean Squared Error (RMSE): 41.84890316037731\n",
      "Root Mean Squared Logarithmic Error (RMSLE): 0.4750699491493144\n",
      "\n",
      "Training model for store 37 and family 12...\n"
     ]
    },
    {
     "name": "stderr",
     "output_type": "stream",
     "text": [
      "01:38:35 - cmdstanpy - INFO - Chain [1] start processing\n",
      "01:38:35 - cmdstanpy - INFO - Chain [1] done processing\n",
      "01:38:35 - cmdstanpy - INFO - Chain [1] start processing\n",
      "01:38:35 - cmdstanpy - INFO - Chain [1] done processing\n",
      "01:38:35 - cmdstanpy - INFO - Chain [1] start processing\n"
     ]
    },
    {
     "name": "stdout",
     "output_type": "stream",
     "text": [
      "Root Mean Squared Error (RMSE): 549.3978698785955\n",
      "Root Mean Squared Logarithmic Error (RMSLE): 0.17847857815302937\n",
      "\n",
      "Training model for store 37 and family 13...\n",
      "Root Mean Squared Error (RMSE): 27.963513885085355\n",
      "Root Mean Squared Logarithmic Error (RMSLE): 0.4482297776478749\n",
      "\n",
      "Training model for store 37 and family 15...\n"
     ]
    },
    {
     "name": "stderr",
     "output_type": "stream",
     "text": [
      "01:38:35 - cmdstanpy - INFO - Chain [1] done processing\n",
      "01:38:35 - cmdstanpy - INFO - Chain [1] start processing\n",
      "01:38:35 - cmdstanpy - INFO - Chain [1] done processing\n"
     ]
    },
    {
     "name": "stdout",
     "output_type": "stream",
     "text": [
      "Root Mean Squared Error (RMSE): 19.415738964270975\n",
      "Root Mean Squared Logarithmic Error (RMSLE): 0.5875552226289256\n",
      "\n",
      "Training model for store 37 and family 16...\n"
     ]
    },
    {
     "name": "stderr",
     "output_type": "stream",
     "text": [
      "01:38:35 - cmdstanpy - INFO - Chain [1] start processing\n",
      "01:38:35 - cmdstanpy - INFO - Chain [1] done processing\n",
      "01:38:35 - cmdstanpy - INFO - Chain [1] start processing\n"
     ]
    },
    {
     "name": "stdout",
     "output_type": "stream",
     "text": [
      "Root Mean Squared Error (RMSE): 21.887577313144963\n",
      "Root Mean Squared Logarithmic Error (RMSLE): 0.4670697470242991\n",
      "\n",
      "Training model for store 37 and family 18...\n",
      "Root Mean Squared Error (RMSE): 51.046830908516306\n",
      "Root Mean Squared Logarithmic Error (RMSLE): 0.21951254158314745\n",
      "\n",
      "Training model for store 37 and family 21...\n"
     ]
    },
    {
     "name": "stderr",
     "output_type": "stream",
     "text": [
      "01:38:36 - cmdstanpy - INFO - Chain [1] done processing\n",
      "01:38:36 - cmdstanpy - INFO - Chain [1] start processing\n",
      "01:38:36 - cmdstanpy - INFO - Chain [1] done processing\n",
      "01:38:36 - cmdstanpy - INFO - Chain [1] start processing\n"
     ]
    },
    {
     "name": "stdout",
     "output_type": "stream",
     "text": [
      "Root Mean Squared Error (RMSE): 3.87153309829943\n",
      "Root Mean Squared Logarithmic Error (RMSLE): 1.1031976060473652\n",
      "\n",
      "Training model for store 37 and family 22...\n",
      "Root Mean Squared Error (RMSE): 32.361546618871024\n",
      "Root Mean Squared Logarithmic Error (RMSLE): 0.5449600767490279\n",
      "\n",
      "Training model for store 37 and family 23...\n"
     ]
    },
    {
     "name": "stderr",
     "output_type": "stream",
     "text": [
      "01:38:36 - cmdstanpy - INFO - Chain [1] done processing\n",
      "01:38:36 - cmdstanpy - INFO - Chain [1] start processing\n",
      "01:38:36 - cmdstanpy - INFO - Chain [1] done processing\n",
      "01:38:36 - cmdstanpy - INFO - Chain [1] start processing\n"
     ]
    },
    {
     "name": "stdout",
     "output_type": "stream",
     "text": [
      "Root Mean Squared Error (RMSE): 4.813286548509358\n",
      "Root Mean Squared Logarithmic Error (RMSLE): 0.5175960111019886\n",
      "\n",
      "Training model for store 37 and family 24...\n",
      "Root Mean Squared Error (RMSE): 41.714490775741325\n",
      "Root Mean Squared Logarithmic Error (RMSLE): 0.17037416795263358\n",
      "\n",
      "Training model for store 37 and family 25...\n"
     ]
    },
    {
     "name": "stderr",
     "output_type": "stream",
     "text": [
      "01:38:36 - cmdstanpy - INFO - Chain [1] done processing\n",
      "01:38:36 - cmdstanpy - INFO - Chain [1] start processing\n",
      "01:38:36 - cmdstanpy - INFO - Chain [1] done processing\n",
      "01:38:36 - cmdstanpy - INFO - Chain [1] start processing\n"
     ]
    },
    {
     "name": "stdout",
     "output_type": "stream",
     "text": [
      "Root Mean Squared Error (RMSE): 89.65353511033716\n",
      "Root Mean Squared Logarithmic Error (RMSLE): 0.2949872258837674\n",
      "\n",
      "Training model for store 37 and family 26...\n",
      "Root Mean Squared Error (RMSE): 6.298687778098892\n",
      "Root Mean Squared Logarithmic Error (RMSLE): 0.4172344793792809\n",
      "\n",
      "Training model for store 37 and family 27...\n"
     ]
    },
    {
     "name": "stderr",
     "output_type": "stream",
     "text": [
      "01:38:36 - cmdstanpy - INFO - Chain [1] done processing\n",
      "01:38:36 - cmdstanpy - INFO - Chain [1] start processing\n",
      "01:38:37 - cmdstanpy - INFO - Chain [1] done processing\n"
     ]
    },
    {
     "name": "stdout",
     "output_type": "stream",
     "text": [
      "Root Mean Squared Error (RMSE): 4.764818367188234\n",
      "Root Mean Squared Logarithmic Error (RMSLE): 0.31964659818657787\n",
      "\n",
      "Training model for store 37 and family 28...\n",
      "Root Mean Squared Error (RMSE): 27.75129867414202\n",
      "Root Mean Squared Logarithmic Error (RMSLE): 0.10952292867173893\n",
      "\n",
      "Training model for store 37 and family 29...\n"
     ]
    },
    {
     "name": "stderr",
     "output_type": "stream",
     "text": [
      "01:38:37 - cmdstanpy - INFO - Chain [1] start processing\n",
      "01:38:37 - cmdstanpy - INFO - Chain [1] done processing\n",
      "01:38:37 - cmdstanpy - INFO - Chain [1] start processing\n",
      "01:38:37 - cmdstanpy - INFO - Chain [1] done processing\n",
      "01:38:37 - cmdstanpy - INFO - Chain [1] start processing\n"
     ]
    },
    {
     "name": "stdout",
     "output_type": "stream",
     "text": [
      "Root Mean Squared Error (RMSE): 27.986863113748402\n",
      "Root Mean Squared Logarithmic Error (RMSLE): 0.3715825760480016\n",
      "\n",
      "Training model for store 37 and family 30...\n",
      "Root Mean Squared Error (RMSE): 757.7147197931544\n",
      "Root Mean Squared Logarithmic Error (RMSLE): 0.2755039669397866\n",
      "\n",
      "Training model for store 37 and family 32...\n"
     ]
    },
    {
     "name": "stderr",
     "output_type": "stream",
     "text": [
      "01:38:37 - cmdstanpy - INFO - Chain [1] done processing\n",
      "01:38:37 - cmdstanpy - INFO - Chain [1] start processing\n",
      "01:38:37 - cmdstanpy - INFO - Chain [1] done processing\n",
      "01:38:37 - cmdstanpy - INFO - Chain [1] start processing\n"
     ]
    },
    {
     "name": "stdout",
     "output_type": "stream",
     "text": [
      "Root Mean Squared Error (RMSE): 4.205004322204255\n",
      "Root Mean Squared Logarithmic Error (RMSLE): 0.34080141929011587\n",
      "\n",
      "Training model for store 41 and family 0...\n",
      "Root Mean Squared Error (RMSE): 3.4917494373137377\n",
      "Root Mean Squared Logarithmic Error (RMSLE): 0.46170498078067196\n",
      "\n",
      "Training model for store 41 and family 2...\n"
     ]
    },
    {
     "name": "stderr",
     "output_type": "stream",
     "text": [
      "01:38:37 - cmdstanpy - INFO - Chain [1] done processing\n",
      "01:38:37 - cmdstanpy - INFO - Chain [1] start processing\n",
      "01:38:37 - cmdstanpy - INFO - Chain [1] done processing\n"
     ]
    },
    {
     "name": "stdout",
     "output_type": "stream",
     "text": [
      "Root Mean Squared Error (RMSE): 3.403307155621672\n",
      "Root Mean Squared Logarithmic Error (RMSLE): 0.39353001216219985\n",
      "\n",
      "Training model for store 41 and family 3...\n",
      "Root Mean Squared Error (RMSE): 940.647863941199\n",
      "Root Mean Squared Logarithmic Error (RMSLE): 0.3213270951172644\n",
      "\n",
      "Training model for store 41 and family 5...\n"
     ]
    },
    {
     "name": "stderr",
     "output_type": "stream",
     "text": [
      "01:38:37 - cmdstanpy - INFO - Chain [1] start processing\n",
      "01:38:38 - cmdstanpy - INFO - Chain [1] done processing\n",
      "01:38:38 - cmdstanpy - INFO - Chain [1] start processing\n",
      "01:38:38 - cmdstanpy - INFO - Chain [1] done processing\n"
     ]
    },
    {
     "name": "stdout",
     "output_type": "stream",
     "text": [
      "Root Mean Squared Error (RMSE): 70.62541423222643\n",
      "Root Mean Squared Logarithmic Error (RMSLE): 0.14833774008835052\n",
      "\n",
      "Training model for store 41 and family 6...\n",
      "Root Mean Squared Error (RMSE): 6.006138428901593\n",
      "Root Mean Squared Logarithmic Error (RMSLE): 0.6659579717548345\n",
      "\n",
      "Training model for store 41 and family 7...\n"
     ]
    },
    {
     "name": "stderr",
     "output_type": "stream",
     "text": [
      "01:38:38 - cmdstanpy - INFO - Chain [1] start processing\n",
      "01:38:38 - cmdstanpy - INFO - Chain [1] done processing\n",
      "01:38:38 - cmdstanpy - INFO - Chain [1] start processing\n",
      "01:38:38 - cmdstanpy - INFO - Chain [1] done processing\n",
      "01:38:38 - cmdstanpy - INFO - Chain [1] start processing\n"
     ]
    },
    {
     "name": "stdout",
     "output_type": "stream",
     "text": [
      "Root Mean Squared Error (RMSE): 540.394419226127\n",
      "Root Mean Squared Logarithmic Error (RMSLE): 0.3583149820539906\n",
      "\n",
      "Training model for store 41 and family 8...\n",
      "Root Mean Squared Error (RMSE): 108.15021085015728\n",
      "Root Mean Squared Logarithmic Error (RMSLE): 0.15806397972019945\n",
      "\n",
      "Training model for store 41 and family 9...\n"
     ]
    },
    {
     "name": "stderr",
     "output_type": "stream",
     "text": [
      "01:38:38 - cmdstanpy - INFO - Chain [1] done processing\n",
      "01:38:38 - cmdstanpy - INFO - Chain [1] start processing\n",
      "01:38:38 - cmdstanpy - INFO - Chain [1] done processing\n"
     ]
    },
    {
     "name": "stdout",
     "output_type": "stream",
     "text": [
      "Root Mean Squared Error (RMSE): 40.678785489983\n",
      "Root Mean Squared Logarithmic Error (RMSLE): 0.18406907589859842\n",
      "\n",
      "Training model for store 41 and family 10...\n",
      "Root Mean Squared Error (RMSE): 22.805242681435875\n",
      "Root Mean Squared Logarithmic Error (RMSLE): 0.18343744079089108\n",
      "\n",
      "Training model for store 41 and family 11...\n"
     ]
    },
    {
     "name": "stderr",
     "output_type": "stream",
     "text": [
      "01:38:38 - cmdstanpy - INFO - Chain [1] start processing\n",
      "01:38:38 - cmdstanpy - INFO - Chain [1] done processing\n",
      "01:38:39 - cmdstanpy - INFO - Chain [1] start processing\n",
      "01:38:39 - cmdstanpy - INFO - Chain [1] done processing\n"
     ]
    },
    {
     "name": "stdout",
     "output_type": "stream",
     "text": [
      "Root Mean Squared Error (RMSE): 62.556735953781846\n",
      "Root Mean Squared Logarithmic Error (RMSLE): 0.45919797841852816\n",
      "\n",
      "Training model for store 41 and family 12...\n",
      "Root Mean Squared Error (RMSE): 762.1583353354403\n",
      "Root Mean Squared Logarithmic Error (RMSLE): 0.18286014419328164\n",
      "\n",
      "Training model for store 41 and family 13...\n"
     ]
    },
    {
     "name": "stderr",
     "output_type": "stream",
     "text": [
      "01:38:39 - cmdstanpy - INFO - Chain [1] start processing\n",
      "01:38:39 - cmdstanpy - INFO - Chain [1] done processing\n",
      "01:38:39 - cmdstanpy - INFO - Chain [1] start processing\n",
      "01:38:39 - cmdstanpy - INFO - Chain [1] done processing\n"
     ]
    },
    {
     "name": "stdout",
     "output_type": "stream",
     "text": [
      "Root Mean Squared Error (RMSE): 35.12604649530878\n",
      "Root Mean Squared Logarithmic Error (RMSLE): 0.5486928879037074\n",
      "\n",
      "Training model for store 41 and family 15...\n",
      "Root Mean Squared Error (RMSE): 12.389398022246418\n",
      "Root Mean Squared Logarithmic Error (RMSLE): 0.4667487408606529\n",
      "\n",
      "Training model for store 41 and family 16...\n"
     ]
    },
    {
     "name": "stderr",
     "output_type": "stream",
     "text": [
      "01:38:39 - cmdstanpy - INFO - Chain [1] start processing\n",
      "01:38:39 - cmdstanpy - INFO - Chain [1] done processing\n",
      "01:38:39 - cmdstanpy - INFO - Chain [1] start processing\n",
      "01:38:39 - cmdstanpy - INFO - Chain [1] done processing\n"
     ]
    },
    {
     "name": "stdout",
     "output_type": "stream",
     "text": [
      "Root Mean Squared Error (RMSE): 24.37834581823383\n",
      "Root Mean Squared Logarithmic Error (RMSLE): 0.4709997999444527\n",
      "\n",
      "Training model for store 41 and family 18...\n",
      "Root Mean Squared Error (RMSE): 55.178225184100526\n",
      "Root Mean Squared Logarithmic Error (RMSLE): 0.20183020844338778\n",
      "\n",
      "Training model for store 41 and family 21...\n"
     ]
    },
    {
     "name": "stderr",
     "output_type": "stream",
     "text": [
      "01:38:39 - cmdstanpy - INFO - Chain [1] start processing\n",
      "01:38:39 - cmdstanpy - INFO - Chain [1] done processing\n",
      "01:38:40 - cmdstanpy - INFO - Chain [1] start processing\n",
      "01:38:40 - cmdstanpy - INFO - Chain [1] done processing\n",
      "01:38:40 - cmdstanpy - INFO - Chain [1] start processing\n"
     ]
    },
    {
     "name": "stdout",
     "output_type": "stream",
     "text": [
      "Root Mean Squared Error (RMSE): 4.640625241168422\n",
      "Root Mean Squared Logarithmic Error (RMSLE): 0.5283328994762345\n",
      "\n",
      "Training model for store 41 and family 22...\n",
      "Root Mean Squared Error (RMSE): 150.77738967849\n",
      "Root Mean Squared Logarithmic Error (RMSLE): 0.9006203420079252\n",
      "\n",
      "Training model for store 41 and family 23...\n"
     ]
    },
    {
     "name": "stderr",
     "output_type": "stream",
     "text": [
      "01:38:40 - cmdstanpy - INFO - Chain [1] done processing\n",
      "01:38:40 - cmdstanpy - INFO - Chain [1] start processing\n"
     ]
    },
    {
     "name": "stdout",
     "output_type": "stream",
     "text": [
      "Root Mean Squared Error (RMSE): 6.086428548581131\n",
      "Root Mean Squared Logarithmic Error (RMSLE): 0.44553608401159933\n",
      "\n",
      "Training model for store 41 and family 24...\n"
     ]
    },
    {
     "name": "stderr",
     "output_type": "stream",
     "text": [
      "01:38:40 - cmdstanpy - INFO - Chain [1] done processing\n",
      "01:38:40 - cmdstanpy - INFO - Chain [1] start processing\n",
      "01:38:40 - cmdstanpy - INFO - Chain [1] done processing\n",
      "01:38:40 - cmdstanpy - INFO - Chain [1] start processing\n"
     ]
    },
    {
     "name": "stdout",
     "output_type": "stream",
     "text": [
      "Root Mean Squared Error (RMSE): 58.792131567552296\n",
      "Root Mean Squared Logarithmic Error (RMSLE): 0.2133342425721779\n",
      "\n",
      "Training model for store 41 and family 25...\n",
      "Root Mean Squared Error (RMSE): 324.61093246201443\n",
      "Root Mean Squared Logarithmic Error (RMSLE): 0.5110146507095442\n",
      "\n",
      "Training model for store 41 and family 26...\n"
     ]
    },
    {
     "name": "stderr",
     "output_type": "stream",
     "text": [
      "01:38:40 - cmdstanpy - INFO - Chain [1] done processing\n",
      "01:38:40 - cmdstanpy - INFO - Chain [1] start processing\n",
      "01:38:40 - cmdstanpy - INFO - Chain [1] done processing\n",
      "01:38:40 - cmdstanpy - INFO - Chain [1] start processing\n"
     ]
    },
    {
     "name": "stdout",
     "output_type": "stream",
     "text": [
      "Root Mean Squared Error (RMSE): 4.381404846238481\n",
      "Root Mean Squared Logarithmic Error (RMSLE): 0.3274339957882807\n",
      "\n",
      "Training model for store 41 and family 27...\n",
      "Root Mean Squared Error (RMSE): 3.5800543310449786\n",
      "Root Mean Squared Logarithmic Error (RMSLE): 0.4192743777356597\n",
      "\n",
      "Training model for store 41 and family 28...\n"
     ]
    },
    {
     "name": "stderr",
     "output_type": "stream",
     "text": [
      "01:38:40 - cmdstanpy - INFO - Chain [1] done processing\n",
      "01:38:41 - cmdstanpy - INFO - Chain [1] start processing\n",
      "01:38:41 - cmdstanpy - INFO - Chain [1] done processing\n"
     ]
    },
    {
     "name": "stdout",
     "output_type": "stream",
     "text": [
      "Root Mean Squared Error (RMSE): 28.235994886261622\n",
      "Root Mean Squared Logarithmic Error (RMSLE): 0.14020377842439039\n",
      "\n",
      "Training model for store 41 and family 29...\n",
      "Root Mean Squared Error (RMSE): 13.907953689052462\n",
      "Root Mean Squared Logarithmic Error (RMSLE): 0.20342041078616424\n",
      "\n",
      "Training model for store 41 and family 30...\n"
     ]
    },
    {
     "name": "stderr",
     "output_type": "stream",
     "text": [
      "01:38:41 - cmdstanpy - INFO - Chain [1] start processing\n",
      "01:38:41 - cmdstanpy - INFO - Chain [1] done processing\n",
      "01:38:41 - cmdstanpy - INFO - Chain [1] start processing\n",
      "01:38:41 - cmdstanpy - INFO - Chain [1] done processing\n",
      "01:38:41 - cmdstanpy - INFO - Chain [1] start processing\n"
     ]
    },
    {
     "name": "stdout",
     "output_type": "stream",
     "text": [
      "Root Mean Squared Error (RMSE): 453.3329928520297\n",
      "Root Mean Squared Logarithmic Error (RMSLE): 0.21551558027388282\n",
      "\n",
      "Training model for store 41 and family 32...\n",
      "Root Mean Squared Error (RMSE): 4.20968201514993\n",
      "Root Mean Squared Logarithmic Error (RMSLE): 0.5791638118763783\n",
      "\n",
      "Training model for store 47 and family 0...\n"
     ]
    },
    {
     "name": "stderr",
     "output_type": "stream",
     "text": [
      "01:38:41 - cmdstanpy - INFO - Chain [1] done processing\n",
      "01:38:41 - cmdstanpy - INFO - Chain [1] start processing\n",
      "01:38:41 - cmdstanpy - INFO - Chain [1] done processing\n",
      "01:38:41 - cmdstanpy - INFO - Chain [1] start processing\n"
     ]
    },
    {
     "name": "stdout",
     "output_type": "stream",
     "text": [
      "Root Mean Squared Error (RMSE): 6.009357646613823\n",
      "Root Mean Squared Logarithmic Error (RMSLE): 0.4312011312473783\n",
      "\n",
      "Training model for store 47 and family 2...\n",
      "Root Mean Squared Error (RMSE): 6.153884366610312\n",
      "Root Mean Squared Logarithmic Error (RMSLE): 0.29820675116478096\n",
      "\n",
      "Training model for store 47 and family 3...\n"
     ]
    },
    {
     "name": "stderr",
     "output_type": "stream",
     "text": [
      "01:38:41 - cmdstanpy - INFO - Chain [1] done processing\n",
      "01:38:41 - cmdstanpy - INFO - Chain [1] start processing\n",
      "01:38:42 - cmdstanpy - INFO - Chain [1] done processing\n"
     ]
    },
    {
     "name": "stdout",
     "output_type": "stream",
     "text": [
      "Root Mean Squared Error (RMSE): 1566.807307286455\n",
      "Root Mean Squared Logarithmic Error (RMSLE): 0.17461435788175775\n",
      "\n",
      "Training model for store 47 and family 5...\n",
      "Root Mean Squared Error (RMSE): 163.53040685470236\n",
      "Root Mean Squared Logarithmic Error (RMSLE): 0.12664350565673543\n",
      "\n",
      "Training model for store 47 and family 6...\n"
     ]
    },
    {
     "name": "stderr",
     "output_type": "stream",
     "text": [
      "01:38:42 - cmdstanpy - INFO - Chain [1] start processing\n",
      "01:38:42 - cmdstanpy - INFO - Chain [1] done processing\n",
      "01:38:42 - cmdstanpy - INFO - Chain [1] start processing\n",
      "01:38:42 - cmdstanpy - INFO - Chain [1] done processing\n",
      "01:38:42 - cmdstanpy - INFO - Chain [1] start processing\n"
     ]
    },
    {
     "name": "stdout",
     "output_type": "stream",
     "text": [
      "Root Mean Squared Error (RMSE): 9.368968856606537\n",
      "Root Mean Squared Logarithmic Error (RMSLE): 0.4379819524937945\n",
      "\n",
      "Training model for store 47 and family 7...\n",
      "Root Mean Squared Error (RMSE): 475.6193675988335\n",
      "Root Mean Squared Logarithmic Error (RMSLE): 0.18349253903072257\n",
      "\n",
      "Training model for store 47 and family 8...\n"
     ]
    },
    {
     "name": "stderr",
     "output_type": "stream",
     "text": [
      "01:38:42 - cmdstanpy - INFO - Chain [1] done processing\n",
      "01:38:42 - cmdstanpy - INFO - Chain [1] start processing\n",
      "01:38:42 - cmdstanpy - INFO - Chain [1] done processing\n",
      "01:38:42 - cmdstanpy - INFO - Chain [1] start processing\n"
     ]
    },
    {
     "name": "stdout",
     "output_type": "stream",
     "text": [
      "Root Mean Squared Error (RMSE): 309.06853394562506\n",
      "Root Mean Squared Logarithmic Error (RMSLE): 0.13308065935476077\n",
      "\n",
      "Training model for store 47 and family 9...\n",
      "Root Mean Squared Error (RMSE): 111.16063699619903\n",
      "Root Mean Squared Logarithmic Error (RMSLE): 0.15304772565017896\n",
      "\n",
      "Training model for store 47 and family 10...\n"
     ]
    },
    {
     "name": "stderr",
     "output_type": "stream",
     "text": [
      "01:38:42 - cmdstanpy - INFO - Chain [1] done processing\n",
      "01:38:42 - cmdstanpy - INFO - Chain [1] start processing\n",
      "01:38:42 - cmdstanpy - INFO - Chain [1] done processing\n",
      "01:38:43 - cmdstanpy - INFO - Chain [1] start processing\n"
     ]
    },
    {
     "name": "stdout",
     "output_type": "stream",
     "text": [
      "Root Mean Squared Error (RMSE): 50.41143004703921\n",
      "Root Mean Squared Logarithmic Error (RMSLE): 0.11896485134961679\n",
      "\n",
      "Training model for store 47 and family 11...\n",
      "Root Mean Squared Error (RMSE): 85.27805048409472\n",
      "Root Mean Squared Logarithmic Error (RMSLE): 0.30486197299012047\n",
      "\n",
      "Training model for store 47 and family 12...\n"
     ]
    },
    {
     "name": "stderr",
     "output_type": "stream",
     "text": [
      "01:38:43 - cmdstanpy - INFO - Chain [1] done processing\n",
      "01:38:43 - cmdstanpy - INFO - Chain [1] start processing\n",
      "01:38:43 - cmdstanpy - INFO - Chain [1] done processing\n",
      "01:38:43 - cmdstanpy - INFO - Chain [1] start processing\n"
     ]
    },
    {
     "name": "stdout",
     "output_type": "stream",
     "text": [
      "Root Mean Squared Error (RMSE): 1699.6804533717298\n",
      "Root Mean Squared Logarithmic Error (RMSLE): 0.15417477059078388\n",
      "\n",
      "Training model for store 47 and family 13...\n",
      "Root Mean Squared Error (RMSE): 14.642506706943191\n",
      "Root Mean Squared Logarithmic Error (RMSLE): 0.25108887433167604\n",
      "\n",
      "Training model for store 47 and family 15...\n"
     ]
    },
    {
     "name": "stderr",
     "output_type": "stream",
     "text": [
      "01:38:43 - cmdstanpy - INFO - Chain [1] done processing\n",
      "01:38:43 - cmdstanpy - INFO - Chain [1] start processing\n",
      "01:38:43 - cmdstanpy - INFO - Chain [1] done processing\n",
      "01:38:43 - cmdstanpy - INFO - Chain [1] start processing\n"
     ]
    },
    {
     "name": "stdout",
     "output_type": "stream",
     "text": [
      "Root Mean Squared Error (RMSE): 35.20403683198677\n",
      "Root Mean Squared Logarithmic Error (RMSLE): 0.49348750721553664\n",
      "\n",
      "Training model for store 47 and family 16...\n",
      "Root Mean Squared Error (RMSE): 27.10278232561088\n",
      "Root Mean Squared Logarithmic Error (RMSLE): 0.31791203975233434\n",
      "\n",
      "Training model for store 47 and family 18...\n"
     ]
    },
    {
     "name": "stderr",
     "output_type": "stream",
     "text": [
      "01:38:43 - cmdstanpy - INFO - Chain [1] done processing\n",
      "01:38:43 - cmdstanpy - INFO - Chain [1] start processing\n",
      "01:38:43 - cmdstanpy - INFO - Chain [1] done processing\n",
      "01:38:43 - cmdstanpy - INFO - Chain [1] start processing\n"
     ]
    },
    {
     "name": "stdout",
     "output_type": "stream",
     "text": [
      "Root Mean Squared Error (RMSE): 137.20320725095516\n",
      "Root Mean Squared Logarithmic Error (RMSLE): 0.20485815245078776\n",
      "\n",
      "Training model for store 47 and family 21...\n",
      "Root Mean Squared Error (RMSE): 12.985285975551585\n",
      "Root Mean Squared Logarithmic Error (RMSLE): 0.7896602398706464\n",
      "\n",
      "Training model for store 47 and family 22...\n"
     ]
    },
    {
     "name": "stderr",
     "output_type": "stream",
     "text": [
      "01:38:43 - cmdstanpy - INFO - Chain [1] done processing\n",
      "01:38:43 - cmdstanpy - INFO - Chain [1] start processing\n",
      "01:38:44 - cmdstanpy - INFO - Chain [1] done processing\n"
     ]
    },
    {
     "name": "stdout",
     "output_type": "stream",
     "text": [
      "Root Mean Squared Error (RMSE): 64.69794553782512\n",
      "Root Mean Squared Logarithmic Error (RMSLE): 0.38217987395830716\n",
      "\n",
      "Training model for store 47 and family 23...\n",
      "Root Mean Squared Error (RMSE): 5.96303162117088\n",
      "Root Mean Squared Logarithmic Error (RMSLE): 0.3965135078069736\n",
      "\n",
      "Training model for store 47 and family 24...\n"
     ]
    },
    {
     "name": "stderr",
     "output_type": "stream",
     "text": [
      "01:38:44 - cmdstanpy - INFO - Chain [1] start processing\n",
      "01:38:44 - cmdstanpy - INFO - Chain [1] done processing\n",
      "01:38:44 - cmdstanpy - INFO - Chain [1] start processing\n",
      "01:38:44 - cmdstanpy - INFO - Chain [1] done processing\n",
      "01:38:44 - cmdstanpy - INFO - Chain [1] start processing\n"
     ]
    },
    {
     "name": "stdout",
     "output_type": "stream",
     "text": [
      "Root Mean Squared Error (RMSE): 159.23458837372493\n",
      "Root Mean Squared Logarithmic Error (RMSLE): 0.1376619501325002\n",
      "\n",
      "Training model for store 47 and family 25...\n",
      "Root Mean Squared Error (RMSE): 133.30527219424587\n",
      "Root Mean Squared Logarithmic Error (RMSLE): 0.16910790314058236\n",
      "\n",
      "Training model for store 47 and family 26...\n"
     ]
    },
    {
     "name": "stderr",
     "output_type": "stream",
     "text": [
      "01:38:44 - cmdstanpy - INFO - Chain [1] done processing\n",
      "01:38:44 - cmdstanpy - INFO - Chain [1] start processing\n",
      "01:38:44 - cmdstanpy - INFO - Chain [1] done processing\n",
      "01:38:44 - cmdstanpy - INFO - Chain [1] start processing\n"
     ]
    },
    {
     "name": "stdout",
     "output_type": "stream",
     "text": [
      "Root Mean Squared Error (RMSE): 9.630432091423053\n",
      "Root Mean Squared Logarithmic Error (RMSLE): 0.4287129650490597\n",
      "\n",
      "Training model for store 47 and family 27...\n",
      "Root Mean Squared Error (RMSE): 9.871486015114856\n",
      "Root Mean Squared Logarithmic Error (RMSLE): 0.3411742733972599\n",
      "\n",
      "Training model for store 47 and family 28...\n"
     ]
    },
    {
     "name": "stderr",
     "output_type": "stream",
     "text": [
      "01:38:44 - cmdstanpy - INFO - Chain [1] done processing\n",
      "01:38:44 - cmdstanpy - INFO - Chain [1] start processing\n",
      "01:38:44 - cmdstanpy - INFO - Chain [1] done processing\n",
      "01:38:44 - cmdstanpy - INFO - Chain [1] start processing\n"
     ]
    },
    {
     "name": "stdout",
     "output_type": "stream",
     "text": [
      "Root Mean Squared Error (RMSE): 189.98022844951444\n",
      "Root Mean Squared Logarithmic Error (RMSLE): 0.16310294474385562\n",
      "\n",
      "Training model for store 47 and family 29...\n",
      "Root Mean Squared Error (RMSE): 52.29654437074543\n",
      "Root Mean Squared Logarithmic Error (RMSLE): 0.20225984587334706\n",
      "\n",
      "Training model for store 47 and family 30...\n"
     ]
    },
    {
     "name": "stderr",
     "output_type": "stream",
     "text": [
      "01:38:45 - cmdstanpy - INFO - Chain [1] done processing\n",
      "01:38:45 - cmdstanpy - INFO - Chain [1] start processing\n",
      "01:38:45 - cmdstanpy - INFO - Chain [1] done processing\n"
     ]
    },
    {
     "name": "stdout",
     "output_type": "stream",
     "text": [
      "Root Mean Squared Error (RMSE): 1262.213315250385\n",
      "Root Mean Squared Logarithmic Error (RMSLE): 0.21597185338176406\n",
      "\n",
      "Training model for store 47 and family 32...\n",
      "Root Mean Squared Error (RMSE): 12.939449165567455\n",
      "Root Mean Squared Logarithmic Error (RMSLE): 0.1582333816830787\n",
      "\n",
      "Training model for store 5 and family 0...\n"
     ]
    },
    {
     "name": "stderr",
     "output_type": "stream",
     "text": [
      "01:38:45 - cmdstanpy - INFO - Chain [1] start processing\n",
      "01:38:45 - cmdstanpy - INFO - Chain [1] done processing\n",
      "01:38:45 - cmdstanpy - INFO - Chain [1] start processing\n",
      "01:38:45 - cmdstanpy - INFO - Chain [1] done processing\n",
      "01:38:45 - cmdstanpy - INFO - Chain [1] start processing\n"
     ]
    },
    {
     "name": "stdout",
     "output_type": "stream",
     "text": [
      "Root Mean Squared Error (RMSE): 3.2666385609640973\n",
      "Root Mean Squared Logarithmic Error (RMSLE): 0.4841662026349879\n",
      "\n",
      "Training model for store 5 and family 2...\n",
      "Root Mean Squared Error (RMSE): 4.101079945517594\n",
      "Root Mean Squared Logarithmic Error (RMSLE): 0.5212251919855774\n",
      "\n",
      "Training model for store 5 and family 3...\n"
     ]
    },
    {
     "name": "stderr",
     "output_type": "stream",
     "text": [
      "01:38:45 - cmdstanpy - INFO - Chain [1] done processing\n",
      "01:38:45 - cmdstanpy - INFO - Chain [1] start processing\n",
      "01:38:45 - cmdstanpy - INFO - Chain [1] done processing\n"
     ]
    },
    {
     "name": "stdout",
     "output_type": "stream",
     "text": [
      "Root Mean Squared Error (RMSE): 386.88672012987115\n",
      "Root Mean Squared Logarithmic Error (RMSLE): 0.20256741943509585\n",
      "\n",
      "Training model for store 5 and family 5...\n",
      "Root Mean Squared Error (RMSE): 48.23874580327218\n",
      "Root Mean Squared Logarithmic Error (RMSLE): 0.1393198178837896\n",
      "\n",
      "Training model for store 5 and family 6...\n"
     ]
    },
    {
     "name": "stderr",
     "output_type": "stream",
     "text": [
      "01:38:45 - cmdstanpy - INFO - Chain [1] start processing\n",
      "01:38:45 - cmdstanpy - INFO - Chain [1] done processing\n",
      "01:38:46 - cmdstanpy - INFO - Chain [1] start processing\n",
      "01:38:46 - cmdstanpy - INFO - Chain [1] done processing\n"
     ]
    },
    {
     "name": "stdout",
     "output_type": "stream",
     "text": [
      "Root Mean Squared Error (RMSE): 9.604949406581435\n",
      "Root Mean Squared Logarithmic Error (RMSLE): 0.416880673851411\n",
      "\n",
      "Training model for store 5 and family 7...\n",
      "Root Mean Squared Error (RMSE): 173.07845553453947\n",
      "Root Mean Squared Logarithmic Error (RMSLE): 0.1850351533882603\n",
      "\n",
      "Training model for store 5 and family 8...\n"
     ]
    },
    {
     "name": "stderr",
     "output_type": "stream",
     "text": [
      "01:38:46 - cmdstanpy - INFO - Chain [1] start processing\n",
      "01:38:46 - cmdstanpy - INFO - Chain [1] done processing\n",
      "01:38:46 - cmdstanpy - INFO - Chain [1] start processing\n",
      "01:38:46 - cmdstanpy - INFO - Chain [1] done processing\n",
      "01:38:46 - cmdstanpy - INFO - Chain [1] start processing\n"
     ]
    },
    {
     "name": "stdout",
     "output_type": "stream",
     "text": [
      "Root Mean Squared Error (RMSE): 67.43250740938997\n",
      "Root Mean Squared Logarithmic Error (RMSLE): 0.1260638736233125\n",
      "\n",
      "Training model for store 5 and family 9...\n",
      "Root Mean Squared Error (RMSE): 36.665309795432414\n",
      "Root Mean Squared Logarithmic Error (RMSLE): 0.1649785975713524\n",
      "\n",
      "Training model for store 5 and family 10...\n"
     ]
    },
    {
     "name": "stderr",
     "output_type": "stream",
     "text": [
      "01:38:46 - cmdstanpy - INFO - Chain [1] done processing\n",
      "01:38:46 - cmdstanpy - INFO - Chain [1] start processing\n",
      "01:38:46 - cmdstanpy - INFO - Chain [1] done processing\n",
      "01:38:46 - cmdstanpy - INFO - Chain [1] start processing\n"
     ]
    },
    {
     "name": "stdout",
     "output_type": "stream",
     "text": [
      "Root Mean Squared Error (RMSE): 16.025232246185293\n",
      "Root Mean Squared Logarithmic Error (RMSLE): 0.20522734274229118\n",
      "\n",
      "Training model for store 5 and family 11...\n",
      "Root Mean Squared Error (RMSE): 38.48601053642996\n",
      "Root Mean Squared Logarithmic Error (RMSLE): 0.47742801808822\n",
      "\n",
      "Training model for store 5 and family 12...\n"
     ]
    },
    {
     "name": "stderr",
     "output_type": "stream",
     "text": [
      "01:38:46 - cmdstanpy - INFO - Chain [1] done processing\n",
      "01:38:46 - cmdstanpy - INFO - Chain [1] start processing\n",
      "01:38:47 - cmdstanpy - INFO - Chain [1] done processing\n"
     ]
    },
    {
     "name": "stdout",
     "output_type": "stream",
     "text": [
      "Root Mean Squared Error (RMSE): 322.53331646055983\n",
      "Root Mean Squared Logarithmic Error (RMSLE): 0.10847999183584497\n",
      "\n",
      "Training model for store 5 and family 13...\n",
      "Root Mean Squared Error (RMSE): 63.59351752879364\n",
      "Root Mean Squared Logarithmic Error (RMSLE): 1.1108022750301576\n",
      "\n",
      "Training model for store 5 and family 15...\n"
     ]
    },
    {
     "name": "stderr",
     "output_type": "stream",
     "text": [
      "01:38:47 - cmdstanpy - INFO - Chain [1] start processing\n",
      "01:38:47 - cmdstanpy - INFO - Chain [1] done processing\n",
      "01:38:47 - cmdstanpy - INFO - Chain [1] start processing\n",
      "01:38:47 - cmdstanpy - INFO - Chain [1] done processing\n"
     ]
    },
    {
     "name": "stdout",
     "output_type": "stream",
     "text": [
      "Root Mean Squared Error (RMSE): 9.666621544731884\n",
      "Root Mean Squared Logarithmic Error (RMSLE): 0.3175754924350892\n",
      "\n",
      "Training model for store 5 and family 16...\n",
      "Root Mean Squared Error (RMSE): 20.625723003694944\n",
      "Root Mean Squared Logarithmic Error (RMSLE): 0.7457972978069142\n",
      "\n",
      "Training model for store 5 and family 18...\n"
     ]
    },
    {
     "name": "stderr",
     "output_type": "stream",
     "text": [
      "01:38:47 - cmdstanpy - INFO - Chain [1] start processing\n",
      "01:38:47 - cmdstanpy - INFO - Chain [1] done processing\n",
      "01:38:47 - cmdstanpy - INFO - Chain [1] start processing\n",
      "01:38:47 - cmdstanpy - INFO - Chain [1] done processing\n",
      "01:38:47 - cmdstanpy - INFO - Chain [1] start processing\n"
     ]
    },
    {
     "name": "stdout",
     "output_type": "stream",
     "text": [
      "Root Mean Squared Error (RMSE): 40.98942613131564\n",
      "Root Mean Squared Logarithmic Error (RMSLE): 0.16783970558405803\n",
      "\n",
      "Training model for store 5 and family 21...\n",
      "Root Mean Squared Error (RMSE): 5.594499996496803\n",
      "Root Mean Squared Logarithmic Error (RMSLE): 0.47437182020207724\n",
      "\n",
      "Training model for store 5 and family 22...\n"
     ]
    },
    {
     "name": "stderr",
     "output_type": "stream",
     "text": [
      "01:38:47 - cmdstanpy - INFO - Chain [1] done processing\n",
      "01:38:47 - cmdstanpy - INFO - Chain [1] start processing\n",
      "01:38:47 - cmdstanpy - INFO - Chain [1] done processing\n"
     ]
    },
    {
     "name": "stdout",
     "output_type": "stream",
     "text": [
      "Root Mean Squared Error (RMSE): 25.2829796687991\n",
      "Root Mean Squared Logarithmic Error (RMSLE): 0.6305444282595454\n",
      "\n",
      "Training model for store 5 and family 23...\n",
      "Root Mean Squared Error (RMSE): 4.212058229385232\n",
      "Root Mean Squared Logarithmic Error (RMSLE): 0.5613597633296615\n",
      "\n",
      "Training model for store 5 and family 24...\n"
     ]
    },
    {
     "name": "stderr",
     "output_type": "stream",
     "text": [
      "01:38:48 - cmdstanpy - INFO - Chain [1] start processing\n",
      "01:38:48 - cmdstanpy - INFO - Chain [1] done processing\n",
      "01:38:48 - cmdstanpy - INFO - Chain [1] start processing\n",
      "01:38:48 - cmdstanpy - INFO - Chain [1] done processing\n"
     ]
    },
    {
     "name": "stdout",
     "output_type": "stream",
     "text": [
      "Root Mean Squared Error (RMSE): 45.27262925051073\n",
      "Root Mean Squared Logarithmic Error (RMSLE): 0.1799390432642372\n",
      "\n",
      "Training model for store 5 and family 25...\n",
      "Root Mean Squared Error (RMSE): 52.991365180099436\n",
      "Root Mean Squared Logarithmic Error (RMSLE): 0.21308977307073468\n",
      "\n",
      "Training model for store 5 and family 26...\n"
     ]
    },
    {
     "name": "stderr",
     "output_type": "stream",
     "text": [
      "01:38:48 - cmdstanpy - INFO - Chain [1] start processing\n",
      "01:38:48 - cmdstanpy - INFO - Chain [1] done processing\n",
      "01:38:48 - cmdstanpy - INFO - Chain [1] start processing\n",
      "01:38:48 - cmdstanpy - INFO - Chain [1] done processing\n"
     ]
    },
    {
     "name": "stdout",
     "output_type": "stream",
     "text": [
      "Root Mean Squared Error (RMSE): 2.3450738539061327\n",
      "Root Mean Squared Logarithmic Error (RMSLE): 0.6959235134415503\n",
      "\n",
      "Training model for store 5 and family 27...\n",
      "Root Mean Squared Error (RMSE): 3.075924826842323\n",
      "Root Mean Squared Logarithmic Error (RMSLE): 0.37434165816574005\n",
      "\n",
      "Training model for store 5 and family 28...\n"
     ]
    },
    {
     "name": "stderr",
     "output_type": "stream",
     "text": [
      "01:38:48 - cmdstanpy - INFO - Chain [1] start processing\n",
      "01:38:48 - cmdstanpy - INFO - Chain [1] done processing\n",
      "01:38:48 - cmdstanpy - INFO - Chain [1] start processing\n",
      "01:38:48 - cmdstanpy - INFO - Chain [1] done processing\n",
      "01:38:48 - cmdstanpy - INFO - Chain [1] start processing\n"
     ]
    },
    {
     "name": "stdout",
     "output_type": "stream",
     "text": [
      "Root Mean Squared Error (RMSE): 37.52793353336921\n",
      "Root Mean Squared Logarithmic Error (RMSLE): 0.16525387947072492\n",
      "\n",
      "Training model for store 5 and family 29...\n",
      "Root Mean Squared Error (RMSE): 11.416568412272602\n",
      "Root Mean Squared Logarithmic Error (RMSLE): 0.18885701436810712\n",
      "\n",
      "Training model for store 5 and family 30...\n"
     ]
    },
    {
     "name": "stderr",
     "output_type": "stream",
     "text": [
      "01:38:48 - cmdstanpy - INFO - Chain [1] done processing\n",
      "01:38:49 - cmdstanpy - INFO - Chain [1] start processing\n",
      "01:38:49 - cmdstanpy - INFO - Chain [1] done processing\n",
      "01:38:49 - cmdstanpy - INFO - Chain [1] start processing\n"
     ]
    },
    {
     "name": "stdout",
     "output_type": "stream",
     "text": [
      "Root Mean Squared Error (RMSE): 296.22260246116684\n",
      "Root Mean Squared Logarithmic Error (RMSLE): 0.17839274959900894\n",
      "\n",
      "Training model for store 5 and family 32...\n",
      "Root Mean Squared Error (RMSE): 4.163531427484945\n",
      "Root Mean Squared Logarithmic Error (RMSLE): 0.38719125856514236\n",
      "\n",
      "Training model for store 51 and family 0...\n"
     ]
    },
    {
     "name": "stderr",
     "output_type": "stream",
     "text": [
      "01:38:49 - cmdstanpy - INFO - Chain [1] done processing\n",
      "01:38:49 - cmdstanpy - INFO - Chain [1] start processing\n",
      "01:38:49 - cmdstanpy - INFO - Chain [1] done processing\n",
      "01:38:49 - cmdstanpy - INFO - Chain [1] start processing\n"
     ]
    },
    {
     "name": "stdout",
     "output_type": "stream",
     "text": [
      "Root Mean Squared Error (RMSE): 3.154303592684713\n",
      "Root Mean Squared Logarithmic Error (RMSLE): 0.34828060255542126\n",
      "\n",
      "Training model for store 51 and family 2...\n",
      "Root Mean Squared Error (RMSE): 2.9156480407417846\n",
      "Root Mean Squared Logarithmic Error (RMSLE): 0.5212057753974472\n",
      "\n",
      "Training model for store 51 and family 3...\n"
     ]
    },
    {
     "name": "stderr",
     "output_type": "stream",
     "text": [
      "01:38:49 - cmdstanpy - INFO - Chain [1] done processing\n",
      "01:38:49 - cmdstanpy - INFO - Chain [1] start processing\n",
      "01:38:49 - cmdstanpy - INFO - Chain [1] done processing\n"
     ]
    },
    {
     "name": "stdout",
     "output_type": "stream",
     "text": [
      "Root Mean Squared Error (RMSE): 729.2548266260766\n",
      "Root Mean Squared Logarithmic Error (RMSLE): 0.15591816373838993\n",
      "\n",
      "Training model for store 51 and family 5...\n",
      "Root Mean Squared Error (RMSE): 125.12432018770818\n",
      "Root Mean Squared Logarithmic Error (RMSLE): 0.14326668661061506\n",
      "\n",
      "Training model for store 51 and family 6...\n"
     ]
    },
    {
     "name": "stderr",
     "output_type": "stream",
     "text": [
      "01:38:49 - cmdstanpy - INFO - Chain [1] start processing\n",
      "01:38:49 - cmdstanpy - INFO - Chain [1] done processing\n",
      "01:38:50 - cmdstanpy - INFO - Chain [1] start processing\n",
      "01:38:50 - cmdstanpy - INFO - Chain [1] done processing\n",
      "01:38:50 - cmdstanpy - INFO - Chain [1] start processing\n"
     ]
    },
    {
     "name": "stdout",
     "output_type": "stream",
     "text": [
      "Root Mean Squared Error (RMSE): 6.366336492460259\n",
      "Root Mean Squared Logarithmic Error (RMSLE): 0.6905813773164143\n",
      "\n",
      "Training model for store 51 and family 7...\n",
      "Root Mean Squared Error (RMSE): 155.23161628992406\n",
      "Root Mean Squared Logarithmic Error (RMSLE): 0.11242171652313135\n",
      "\n",
      "Training model for store 51 and family 8...\n"
     ]
    },
    {
     "name": "stderr",
     "output_type": "stream",
     "text": [
      "01:38:50 - cmdstanpy - INFO - Chain [1] done processing\n",
      "01:38:50 - cmdstanpy - INFO - Chain [1] start processing\n",
      "01:38:50 - cmdstanpy - INFO - Chain [1] done processing\n"
     ]
    },
    {
     "name": "stdout",
     "output_type": "stream",
     "text": [
      "Root Mean Squared Error (RMSE): 164.585509803584\n",
      "Root Mean Squared Logarithmic Error (RMSLE): 0.10174551388217937\n",
      "\n",
      "Training model for store 51 and family 9...\n",
      "Root Mean Squared Error (RMSE): 43.641287892811604\n",
      "Root Mean Squared Logarithmic Error (RMSLE): 0.15780861262135454\n",
      "\n",
      "Training model for store 51 and family 10...\n"
     ]
    },
    {
     "name": "stderr",
     "output_type": "stream",
     "text": [
      "01:38:50 - cmdstanpy - INFO - Chain [1] start processing\n",
      "01:38:50 - cmdstanpy - INFO - Chain [1] done processing\n",
      "01:38:50 - cmdstanpy - INFO - Chain [1] start processing\n",
      "01:38:50 - cmdstanpy - INFO - Chain [1] done processing\n",
      "01:38:50 - cmdstanpy - INFO - Chain [1] start processing\n"
     ]
    },
    {
     "name": "stdout",
     "output_type": "stream",
     "text": [
      "Root Mean Squared Error (RMSE): 41.01071601246081\n",
      "Root Mean Squared Logarithmic Error (RMSLE): 0.11741182694481\n",
      "\n",
      "Training model for store 51 and family 11...\n",
      "Root Mean Squared Error (RMSE): 56.378681109714215\n",
      "Root Mean Squared Logarithmic Error (RMSLE): 0.22546168486677842\n",
      "\n",
      "Training model for store 51 and family 12...\n"
     ]
    },
    {
     "name": "stderr",
     "output_type": "stream",
     "text": [
      "01:38:50 - cmdstanpy - INFO - Chain [1] done processing\n",
      "01:38:50 - cmdstanpy - INFO - Chain [1] start processing\n",
      "01:38:51 - cmdstanpy - INFO - Chain [1] done processing\n",
      "01:38:51 - cmdstanpy - INFO - Chain [1] start processing\n"
     ]
    },
    {
     "name": "stdout",
     "output_type": "stream",
     "text": [
      "Root Mean Squared Error (RMSE): 653.4171988299629\n",
      "Root Mean Squared Logarithmic Error (RMSLE): 0.12351190794403051\n",
      "\n",
      "Training model for store 51 and family 13...\n",
      "Root Mean Squared Error (RMSE): 25.336014521613464\n",
      "Root Mean Squared Logarithmic Error (RMSLE): 0.5505463695284475\n",
      "\n",
      "Training model for store 51 and family 15...\n"
     ]
    },
    {
     "name": "stderr",
     "output_type": "stream",
     "text": [
      "01:38:51 - cmdstanpy - INFO - Chain [1] done processing\n",
      "01:38:51 - cmdstanpy - INFO - Chain [1] start processing\n",
      "01:38:51 - cmdstanpy - INFO - Chain [1] done processing\n"
     ]
    },
    {
     "name": "stdout",
     "output_type": "stream",
     "text": [
      "Root Mean Squared Error (RMSE): 18.727132934373913\n",
      "Root Mean Squared Logarithmic Error (RMSLE): 0.5332536784891239\n",
      "\n",
      "Training model for store 51 and family 16...\n",
      "Root Mean Squared Error (RMSE): 30.851301627959018\n",
      "Root Mean Squared Logarithmic Error (RMSLE): 0.6816717145484052\n",
      "\n",
      "Training model for store 51 and family 18...\n"
     ]
    },
    {
     "name": "stderr",
     "output_type": "stream",
     "text": [
      "01:38:51 - cmdstanpy - INFO - Chain [1] start processing\n",
      "01:38:51 - cmdstanpy - INFO - Chain [1] done processing\n",
      "01:38:51 - cmdstanpy - INFO - Chain [1] start processing\n",
      "01:38:51 - cmdstanpy - INFO - Chain [1] done processing\n",
      "01:38:51 - cmdstanpy - INFO - Chain [1] start processing\n"
     ]
    },
    {
     "name": "stdout",
     "output_type": "stream",
     "text": [
      "Root Mean Squared Error (RMSE): 52.29538817892338\n",
      "Root Mean Squared Logarithmic Error (RMSLE): 0.14975769290108157\n",
      "\n",
      "Training model for store 51 and family 21...\n",
      "Root Mean Squared Error (RMSE): 4.709298975445228\n",
      "Root Mean Squared Logarithmic Error (RMSLE): 0.6248982732748242\n",
      "\n",
      "Training model for store 51 and family 22...\n"
     ]
    },
    {
     "name": "stderr",
     "output_type": "stream",
     "text": [
      "01:38:51 - cmdstanpy - INFO - Chain [1] done processing\n",
      "01:38:51 - cmdstanpy - INFO - Chain [1] start processing\n",
      "01:38:51 - cmdstanpy - INFO - Chain [1] done processing\n"
     ]
    },
    {
     "name": "stdout",
     "output_type": "stream",
     "text": [
      "Root Mean Squared Error (RMSE): 67.6191658966428\n",
      "Root Mean Squared Logarithmic Error (RMSLE): 0.6284184969589274\n",
      "\n",
      "Training model for store 51 and family 23...\n",
      "Root Mean Squared Error (RMSE): 4.419005358464385\n",
      "Root Mean Squared Logarithmic Error (RMSLE): 0.35553866830164393\n",
      "\n",
      "Training model for store 51 and family 24...\n"
     ]
    },
    {
     "name": "stderr",
     "output_type": "stream",
     "text": [
      "01:38:52 - cmdstanpy - INFO - Chain [1] start processing\n",
      "01:38:52 - cmdstanpy - INFO - Chain [1] done processing\n",
      "01:38:52 - cmdstanpy - INFO - Chain [1] start processing\n",
      "01:38:52 - cmdstanpy - INFO - Chain [1] done processing\n",
      "01:38:52 - cmdstanpy - INFO - Chain [1] start processing\n"
     ]
    },
    {
     "name": "stdout",
     "output_type": "stream",
     "text": [
      "Root Mean Squared Error (RMSE): 107.56890346911753\n",
      "Root Mean Squared Logarithmic Error (RMSLE): 0.1271609342916297\n",
      "\n",
      "Training model for store 51 and family 25...\n",
      "Root Mean Squared Error (RMSE): 67.28302824099633\n",
      "Root Mean Squared Logarithmic Error (RMSLE): 0.2049228916025418\n",
      "\n",
      "Training model for store 51 and family 26...\n"
     ]
    },
    {
     "name": "stderr",
     "output_type": "stream",
     "text": [
      "01:38:52 - cmdstanpy - INFO - Chain [1] done processing\n",
      "01:38:52 - cmdstanpy - INFO - Chain [1] start processing\n",
      "01:38:52 - cmdstanpy - INFO - Chain [1] done processing\n",
      "01:38:52 - cmdstanpy - INFO - Chain [1] start processing\n"
     ]
    },
    {
     "name": "stdout",
     "output_type": "stream",
     "text": [
      "Root Mean Squared Error (RMSE): 7.880557855116649\n",
      "Root Mean Squared Logarithmic Error (RMSLE): 0.3729532619668566\n",
      "\n",
      "Training model for store 51 and family 27...\n",
      "Root Mean Squared Error (RMSE): 6.2638550884449335\n",
      "Root Mean Squared Logarithmic Error (RMSLE): 0.5348327481881611\n",
      "\n",
      "Training model for store 51 and family 28...\n"
     ]
    },
    {
     "name": "stderr",
     "output_type": "stream",
     "text": [
      "01:38:52 - cmdstanpy - INFO - Chain [1] done processing\n",
      "01:38:52 - cmdstanpy - INFO - Chain [1] start processing\n",
      "01:38:52 - cmdstanpy - INFO - Chain [1] done processing\n"
     ]
    },
    {
     "name": "stdout",
     "output_type": "stream",
     "text": [
      "Root Mean Squared Error (RMSE): 680.4614264324233\n",
      "Root Mean Squared Logarithmic Error (RMSLE): 0.4994562393373445\n",
      "\n",
      "Training model for store 51 and family 29...\n",
      "Root Mean Squared Error (RMSE): 26.235604196947477\n",
      "Root Mean Squared Logarithmic Error (RMSLE): 0.18924163122260107\n",
      "\n",
      "Training model for store 51 and family 30...\n"
     ]
    },
    {
     "name": "stderr",
     "output_type": "stream",
     "text": [
      "01:38:52 - cmdstanpy - INFO - Chain [1] start processing\n",
      "01:38:52 - cmdstanpy - INFO - Chain [1] done processing\n",
      "01:38:53 - cmdstanpy - INFO - Chain [1] start processing\n",
      "01:38:53 - cmdstanpy - INFO - Chain [1] done processing\n",
      "01:38:53 - cmdstanpy - INFO - Chain [1] start processing\n"
     ]
    },
    {
     "name": "stdout",
     "output_type": "stream",
     "text": [
      "Root Mean Squared Error (RMSE): 1384.5154621652362\n",
      "Root Mean Squared Logarithmic Error (RMSLE): 0.2467651030673152\n",
      "\n",
      "Training model for store 51 and family 32...\n",
      "Root Mean Squared Error (RMSE): 11.959992748818937\n",
      "Root Mean Squared Logarithmic Error (RMSLE): 0.23708447652216227\n",
      "\n",
      "Training model for store 8 and family 0...\n"
     ]
    },
    {
     "name": "stderr",
     "output_type": "stream",
     "text": [
      "01:38:53 - cmdstanpy - INFO - Chain [1] done processing\n",
      "01:38:53 - cmdstanpy - INFO - Chain [1] start processing\n",
      "01:38:53 - cmdstanpy - INFO - Chain [1] done processing\n",
      "01:38:53 - cmdstanpy - INFO - Chain [1] start processing\n"
     ]
    },
    {
     "name": "stdout",
     "output_type": "stream",
     "text": [
      "Root Mean Squared Error (RMSE): 3.838174070088665\n",
      "Root Mean Squared Logarithmic Error (RMSLE): 0.6286756488208973\n",
      "\n",
      "Training model for store 8 and family 2...\n",
      "Root Mean Squared Error (RMSE): 4.292892786213565\n",
      "Root Mean Squared Logarithmic Error (RMSLE): 0.41807461042611777\n",
      "\n",
      "Training model for store 8 and family 3...\n"
     ]
    },
    {
     "name": "stderr",
     "output_type": "stream",
     "text": [
      "01:38:53 - cmdstanpy - INFO - Chain [1] done processing\n",
      "01:38:53 - cmdstanpy - INFO - Chain [1] start processing\n",
      "01:38:53 - cmdstanpy - INFO - Chain [1] done processing\n"
     ]
    },
    {
     "name": "stdout",
     "output_type": "stream",
     "text": [
      "Root Mean Squared Error (RMSE): 672.6580896864963\n",
      "Root Mean Squared Logarithmic Error (RMSLE): 0.14379900620871103\n",
      "\n",
      "Training model for store 8 and family 5...\n",
      "Root Mean Squared Error (RMSE): 137.5683100472485\n",
      "Root Mean Squared Logarithmic Error (RMSLE): 0.15458466853972144\n",
      "\n",
      "Training model for store 8 and family 6...\n"
     ]
    },
    {
     "name": "stderr",
     "output_type": "stream",
     "text": [
      "01:38:53 - cmdstanpy - INFO - Chain [1] start processing\n",
      "01:38:54 - cmdstanpy - INFO - Chain [1] done processing\n",
      "01:38:54 - cmdstanpy - INFO - Chain [1] start processing\n",
      "01:38:54 - cmdstanpy - INFO - Chain [1] done processing\n"
     ]
    },
    {
     "name": "stdout",
     "output_type": "stream",
     "text": [
      "Root Mean Squared Error (RMSE): 6.739997187361597\n",
      "Root Mean Squared Logarithmic Error (RMSLE): 0.34917735180861253\n",
      "\n",
      "Training model for store 8 and family 7...\n",
      "Root Mean Squared Error (RMSE): 202.97444957029302\n",
      "Root Mean Squared Logarithmic Error (RMSLE): 0.16589292743637682\n",
      "\n",
      "Training model for store 8 and family 8...\n"
     ]
    },
    {
     "name": "stderr",
     "output_type": "stream",
     "text": [
      "01:38:54 - cmdstanpy - INFO - Chain [1] start processing\n",
      "01:38:54 - cmdstanpy - INFO - Chain [1] done processing\n",
      "01:38:54 - cmdstanpy - INFO - Chain [1] start processing\n",
      "01:38:54 - cmdstanpy - INFO - Chain [1] done processing\n",
      "01:38:54 - cmdstanpy - INFO - Chain [1] start processing\n"
     ]
    },
    {
     "name": "stdout",
     "output_type": "stream",
     "text": [
      "Root Mean Squared Error (RMSE): 187.89306387090227\n",
      "Root Mean Squared Logarithmic Error (RMSLE): 0.12873615084191917\n",
      "\n",
      "Training model for store 8 and family 9...\n",
      "Root Mean Squared Error (RMSE): 40.71691663550991\n",
      "Root Mean Squared Logarithmic Error (RMSLE): 0.14252827385571737\n",
      "\n",
      "Training model for store 8 and family 10...\n"
     ]
    },
    {
     "name": "stderr",
     "output_type": "stream",
     "text": [
      "01:38:54 - cmdstanpy - INFO - Chain [1] done processing\n",
      "01:38:54 - cmdstanpy - INFO - Chain [1] start processing\n",
      "01:38:54 - cmdstanpy - INFO - Chain [1] done processing\n"
     ]
    },
    {
     "name": "stdout",
     "output_type": "stream",
     "text": [
      "Root Mean Squared Error (RMSE): 34.461877547976904\n",
      "Root Mean Squared Logarithmic Error (RMSLE): 0.1050419473978841\n",
      "\n",
      "Training model for store 8 and family 11...\n"
     ]
    },
    {
     "name": "stderr",
     "output_type": "stream",
     "text": [
      "01:38:54 - cmdstanpy - INFO - Chain [1] start processing\n",
      "01:38:55 - cmdstanpy - INFO - Chain [1] done processing\n"
     ]
    },
    {
     "name": "stdout",
     "output_type": "stream",
     "text": [
      "Root Mean Squared Error (RMSE): 38.07472070173664\n",
      "Root Mean Squared Logarithmic Error (RMSLE): 0.25067215324806413\n",
      "\n",
      "Training model for store 8 and family 12...\n",
      "Root Mean Squared Error (RMSE): 596.3834696172339\n",
      "Root Mean Squared Logarithmic Error (RMSLE): 0.1167787279199466\n",
      "\n",
      "Training model for store 8 and family 13...\n"
     ]
    },
    {
     "name": "stderr",
     "output_type": "stream",
     "text": [
      "01:38:55 - cmdstanpy - INFO - Chain [1] start processing\n",
      "01:38:55 - cmdstanpy - INFO - Chain [1] done processing\n",
      "01:38:55 - cmdstanpy - INFO - Chain [1] start processing\n",
      "01:38:55 - cmdstanpy - INFO - Chain [1] done processing\n",
      "01:38:55 - cmdstanpy - INFO - Chain [1] start processing\n"
     ]
    },
    {
     "name": "stdout",
     "output_type": "stream",
     "text": [
      "Root Mean Squared Error (RMSE): 14.925423021805273\n",
      "Root Mean Squared Logarithmic Error (RMSLE): 0.36265003426608927\n",
      "\n",
      "Training model for store 8 and family 15...\n",
      "Root Mean Squared Error (RMSE): 16.408251155256096\n",
      "Root Mean Squared Logarithmic Error (RMSLE): 0.3895083506210577\n",
      "\n",
      "Training model for store 8 and family 16...\n"
     ]
    },
    {
     "name": "stderr",
     "output_type": "stream",
     "text": [
      "01:38:55 - cmdstanpy - INFO - Chain [1] done processing\n",
      "01:38:55 - cmdstanpy - INFO - Chain [1] start processing\n",
      "01:38:55 - cmdstanpy - INFO - Chain [1] done processing\n"
     ]
    },
    {
     "name": "stdout",
     "output_type": "stream",
     "text": [
      "Root Mean Squared Error (RMSE): 54.072660571093024\n",
      "Root Mean Squared Logarithmic Error (RMSLE): 0.6648401412590619\n",
      "\n",
      "Training model for store 8 and family 18...\n",
      "Root Mean Squared Error (RMSE): 87.2910038259098\n",
      "Root Mean Squared Logarithmic Error (RMSLE): 0.2415791627147275\n",
      "\n",
      "Training model for store 8 and family 21...\n"
     ]
    },
    {
     "name": "stderr",
     "output_type": "stream",
     "text": [
      "01:38:55 - cmdstanpy - INFO - Chain [1] start processing\n",
      "01:38:55 - cmdstanpy - INFO - Chain [1] done processing\n",
      "01:38:55 - cmdstanpy - INFO - Chain [1] start processing\n",
      "01:38:55 - cmdstanpy - INFO - Chain [1] done processing\n",
      "01:38:55 - cmdstanpy - INFO - Chain [1] start processing\n"
     ]
    },
    {
     "name": "stdout",
     "output_type": "stream",
     "text": [
      "Root Mean Squared Error (RMSE): 11.490653078469254\n",
      "Root Mean Squared Logarithmic Error (RMSLE): 0.5175173896133002\n",
      "\n",
      "Training model for store 8 and family 22...\n",
      "Root Mean Squared Error (RMSE): 43.62981712609894\n",
      "Root Mean Squared Logarithmic Error (RMSLE): 0.5201317860335736\n",
      "\n",
      "Training model for store 8 and family 23...\n"
     ]
    },
    {
     "name": "stderr",
     "output_type": "stream",
     "text": [
      "01:38:56 - cmdstanpy - INFO - Chain [1] done processing\n",
      "01:38:56 - cmdstanpy - INFO - Chain [1] start processing\n",
      "01:38:56 - cmdstanpy - INFO - Chain [1] done processing\n",
      "01:38:56 - cmdstanpy - INFO - Chain [1] start processing\n"
     ]
    },
    {
     "name": "stdout",
     "output_type": "stream",
     "text": [
      "Root Mean Squared Error (RMSE): 7.376645708945986\n",
      "Root Mean Squared Logarithmic Error (RMSLE): 0.38543844819080675\n",
      "\n",
      "Training model for store 8 and family 24...\n",
      "Root Mean Squared Error (RMSE): 85.72665383537715\n",
      "Root Mean Squared Logarithmic Error (RMSLE): 0.16582369038443145\n",
      "\n",
      "Training model for store 8 and family 25...\n"
     ]
    },
    {
     "name": "stderr",
     "output_type": "stream",
     "text": [
      "01:38:56 - cmdstanpy - INFO - Chain [1] done processing\n",
      "01:38:56 - cmdstanpy - INFO - Chain [1] start processing\n",
      "01:38:56 - cmdstanpy - INFO - Chain [1] done processing\n",
      "01:38:56 - cmdstanpy - INFO - Chain [1] start processing\n"
     ]
    },
    {
     "name": "stdout",
     "output_type": "stream",
     "text": [
      "Root Mean Squared Error (RMSE): 48.909201558379046\n",
      "Root Mean Squared Logarithmic Error (RMSLE): 0.1494604309065212\n",
      "\n",
      "Training model for store 8 and family 26...\n",
      "Root Mean Squared Error (RMSE): 8.301941095794444\n",
      "Root Mean Squared Logarithmic Error (RMSLE): 0.43438436535076913\n",
      "\n",
      "Training model for store 8 and family 27...\n"
     ]
    },
    {
     "name": "stderr",
     "output_type": "stream",
     "text": [
      "01:38:56 - cmdstanpy - INFO - Chain [1] done processing\n",
      "01:38:56 - cmdstanpy - INFO - Chain [1] start processing\n",
      "01:38:56 - cmdstanpy - INFO - Chain [1] done processing\n",
      "01:38:56 - cmdstanpy - INFO - Chain [1] start processing\n"
     ]
    },
    {
     "name": "stdout",
     "output_type": "stream",
     "text": [
      "Root Mean Squared Error (RMSE): 7.4694088753989245\n",
      "Root Mean Squared Logarithmic Error (RMSLE): 0.38420844976563145\n",
      "\n",
      "Training model for store 8 and family 28...\n",
      "Root Mean Squared Error (RMSE): 76.86248125026654\n",
      "Root Mean Squared Logarithmic Error (RMSLE): 0.11225746582379051\n",
      "\n",
      "Training model for store 8 and family 29...\n"
     ]
    },
    {
     "name": "stderr",
     "output_type": "stream",
     "text": [
      "01:38:56 - cmdstanpy - INFO - Chain [1] done processing\n",
      "01:38:56 - cmdstanpy - INFO - Chain [1] start processing\n",
      "01:38:56 - cmdstanpy - INFO - Chain [1] done processing\n",
      "01:38:57 - cmdstanpy - INFO - Chain [1] start processing\n"
     ]
    },
    {
     "name": "stdout",
     "output_type": "stream",
     "text": [
      "Root Mean Squared Error (RMSE): 34.2057935105278\n",
      "Root Mean Squared Logarithmic Error (RMSLE): 0.21275371339435528\n",
      "\n",
      "Training model for store 8 and family 30...\n",
      "Root Mean Squared Error (RMSE): 1168.494487074244\n",
      "Root Mean Squared Logarithmic Error (RMSLE): 0.24869100113030007\n",
      "\n",
      "Training model for store 8 and family 32...\n"
     ]
    },
    {
     "name": "stderr",
     "output_type": "stream",
     "text": [
      "01:38:57 - cmdstanpy - INFO - Chain [1] done processing\n"
     ]
    },
    {
     "name": "stdout",
     "output_type": "stream",
     "text": [
      "Root Mean Squared Error (RMSE): 11.907329867396768\n",
      "Root Mean Squared Logarithmic Error (RMSLE): 0.3013867222792102\n"
     ]
    }
   ],
   "source": [
    "for index, row in unique_combinations.iterrows():\n",
    "    store_nbr = row['store_nbr']\n",
    "    family = row['family']\n",
    "    \n",
    "    if store_nbr in included_stores and family not in excluded_families:\n",
    "    \n",
    "        print(f\"\\nTraining model for store {store_nbr} and family {family}...\")\n",
    "\n",
    "        df_subset = df[(df['store_nbr'] == store_nbr) & (df['family'] == family)]\n",
    "\n",
    "        ts = TimeSeries.from_dataframe(df_subset, value_cols=[\"sales\"], freq='d')\n",
    "\n",
    "        training_size = int(len(ts) - 30)\n",
    "        \n",
    "        train = ts[:training_size]\n",
    "        val = ts[training_size:]\n",
    "\n",
    "        model = Prophet()\n",
    "        model.fit(train)\n",
    "\n",
    "        trained_models[(store_nbr, family)] = model\n",
    "\n",
    "        predictions = model.predict(n=len(val))\n",
    "\n",
    "        val = val.pd_series().tolist()\n",
    "        predictions = predictions.pd_series().tolist()\n",
    "\n",
    "        predictions = np.maximum(predictions, 0)\n",
    "\n",
    "        nan_indices = np.isnan(val)\n",
    "        nan_count = np.sum(nan_indices)\n",
    "\n",
    "        val = np.nan_to_num(val, nan=0.0)\n",
    "\n",
    "        rmse = np.sqrt(mean_squared_error(val, predictions))\n",
    "        rmsle = np.sqrt(mean_squared_error(np.log1p(val), np.log1p(predictions)))\n",
    "\n",
    "        total_rmse += rmse\n",
    "        total_rmsle += rmsle\n",
    "        num_models += 1\n",
    "        \n",
    "        model.save(f\"SavedModels/Prophet/P_S{store_nbr}P{family}.pkl\")\n",
    "\n",
    "        print(f\"Root Mean Squared Error (RMSE): {rmse}\")\n",
    "        print(f\"Root Mean Squared Logarithmic Error (RMSLE): {rmsle}\")"
   ]
  },
  {
   "cell_type": "code",
   "execution_count": 10,
   "id": "2e81b540",
   "metadata": {},
   "outputs": [],
   "source": [
    "avg_rmse = total_rmse / num_models\n",
    "avg_rmsle = total_rmsle / num_models"
   ]
  },
  {
   "cell_type": "code",
   "execution_count": 11,
   "id": "d0e7a8f5",
   "metadata": {},
   "outputs": [
    {
     "name": "stdout",
     "output_type": "stream",
     "text": [
      "Average Root Mean Squared Error (RMSE) across all models: 121.2851339470812\n",
      "Average Root Mean Squared Logarithmic Error (RMSLE) across all models: 0.39293375484357906\n"
     ]
    }
   ],
   "source": [
    "print(f\"Average Root Mean Squared Error (RMSE) across all models: {avg_rmse}\")\n",
    "print(f\"Average Root Mean Squared Logarithmic Error (RMSLE) across all models: {avg_rmsle}\")"
   ]
  }
 ],
 "metadata": {
  "kernelspec": {
   "display_name": "Python 3 (ipykernel)",
   "language": "python",
   "name": "python3"
  },
  "language_info": {
   "codemirror_mode": {
    "name": "ipython",
    "version": 3
   },
   "file_extension": ".py",
   "mimetype": "text/x-python",
   "name": "python",
   "nbconvert_exporter": "python",
   "pygments_lexer": "ipython3",
   "version": "3.11.5"
  }
 },
 "nbformat": 4,
 "nbformat_minor": 5
}
