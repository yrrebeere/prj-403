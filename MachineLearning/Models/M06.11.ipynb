{
 "cells": [
  {
   "cell_type": "code",
   "execution_count": null,
   "id": "69857d25",
   "metadata": {},
   "outputs": [],
   "source": [
    "import pandas as pd\n",
    "import numpy as np\n",
    "from darts import TimeSeries\n",
    "from darts.models import XGBModel\n",
    "from sklearn.metrics import mean_squared_error, mean_squared_log_error\n",
    "import matplotlib.pyplot as plt\n",
    "from darts import concatenate"
   ]
  },
  {
   "cell_type": "code",
   "execution_count": null,
   "id": "357e05b1",
   "metadata": {},
   "outputs": [],
   "source": [
    "df = pd.read_csv(\"../../Data/Kaggle/StoreSales/train_darts.csv\", parse_dates=[\"date\"])"
   ]
  },
  {
   "cell_type": "code",
   "execution_count": null,
   "id": "11c12468",
   "metadata": {},
   "outputs": [],
   "source": [
    "df.head()"
   ]
  },
  {
   "cell_type": "code",
   "execution_count": null,
   "id": "9e97fa15",
   "metadata": {},
   "outputs": [],
   "source": [
    "unique_combinations = df[['store_nbr', 'family']].drop_duplicates()"
   ]
  },
  {
   "cell_type": "code",
   "execution_count": null,
   "id": "babbe7b1",
   "metadata": {},
   "outputs": [],
   "source": [
    "total_rmse = 0\n",
    "total_rmsle = 0\n",
    "num_models = 0"
   ]
  },
  {
   "cell_type": "code",
   "execution_count": null,
   "id": "38901250",
   "metadata": {},
   "outputs": [],
   "source": [
    "all_train_series = []\n",
    "all_val_series = []\n",
    "all_future_covariates = []"
   ]
  },
  {
   "cell_type": "code",
   "execution_count": null,
   "id": "c6d9ee58",
   "metadata": {},
   "outputs": [],
   "source": [
    "for index, row in unique_combinations.iterrows():\n",
    "    store_nbr = row['store_nbr']\n",
    "    family = row['family']\n",
    "    \n",
    "    df_subset = df[(df['store_nbr'] == store_nbr) & (df['family'] == family)]\n",
    "    \n",
    "    ts = TimeSeries.from_dataframe(df_subset, value_cols=[\"sales\"])\n",
    "    \n",
    "    dcoilwtico_ts = TimeSeries.from_dataframe(df_subset, value_cols=[\"dcoilwtico\"])\n",
    "    onpromotion_ts = TimeSeries.from_dataframe(df_subset, value_cols=[\"onpromotion\"])\n",
    "    typeholiday_ts = TimeSeries.from_dataframe(df_subset, value_cols=[\"typeholiday\"])\n",
    "    day_of_week_ts = TimeSeries.from_dataframe(df_subset, value_cols=[\"day_of_week\"])\n",
    "    day_ts = TimeSeries.from_dataframe(df_subset, value_cols=[\"day\"])\n",
    "    month_ts = TimeSeries.from_dataframe(df_subset, value_cols=[\"month\"])\n",
    "    year_ts = TimeSeries.from_dataframe(df_subset, value_cols=[\"year\"])\n",
    "    \n",
    "    future_covariates = concatenate([dcoilwtico_ts,\n",
    "                          onpromotion_ts,\n",
    "                          typeholiday_ts,\n",
    "                          day_of_week_ts,\n",
    "                          day_ts,\n",
    "                          month_ts,\n",
    "                          year_ts], axis=1)\n",
    "\n",
    "    training_size = int(len(ts) - 30)\n",
    "    \n",
    "    train = ts[:training_size]\n",
    "    val = ts[training_size:]\n",
    "    \n",
    "    all_train_series.append(train)\n",
    "    all_val_series.append(val)\n",
    "    all_future_covariates.append(future_covariates)"
   ]
  },
  {
   "cell_type": "code",
   "execution_count": null,
   "id": "e8c275ff",
   "metadata": {},
   "outputs": [],
   "source": [
    "len_future_covariates = 30\n",
    "future_covariates_lags = list(range(len_future_covariates))"
   ]
  },
  {
   "cell_type": "code",
   "execution_count": null,
   "id": "28715869",
   "metadata": {},
   "outputs": [],
   "source": [
    "batch_size = 1"
   ]
  },
  {
   "cell_type": "code",
   "execution_count": null,
   "id": "2eb9f564",
   "metadata": {},
   "outputs": [],
   "source": [
    "num_samples = len(all_train_series)\n",
    "num_batches = (num_samples + batch_size - 1) // batch_size"
   ]
  },
  {
   "cell_type": "code",
   "execution_count": null,
   "id": "5dec0315",
   "metadata": {},
   "outputs": [],
   "source": [
    "model = XGBModel(lags=2, lags_future_covariates=future_covariates_lags, output_chunk_length=30)"
   ]
  },
  {
   "cell_type": "code",
   "execution_count": null,
   "id": "ad08a67a",
   "metadata": {},
   "outputs": [],
   "source": [
    "for i in range(num_batches):\n",
    "    start_idx = i * batch_size\n",
    "    end_idx = min((i + 1) * batch_size, num_samples)\n",
    "    \n",
    "    batch_train_series = all_train_series[start_idx:end_idx]\n",
    "    batch_future_covariates = all_future_covariates[start_idx:end_idx]\n",
    "    \n",
    "    model.fit(batch_train_series, future_covariates=batch_future_covariates)\n",
    "    \n",
    "    print(f\"Batch {i + 1}/{num_batches} completed.\")"
   ]
  },
  {
   "cell_type": "code",
   "execution_count": null,
   "id": "30c7adc0",
   "metadata": {},
   "outputs": [],
   "source": [
    "for i in range(1782):\n",
    "    predictions = model.predict(n=30, series=all_train_series[i])\n",
    "    \n",
    "    val = all_val_series[i].pd_series().tolist()\n",
    "    predictions = predictions.pd_series().tolist()\n",
    "    \n",
    "    predictions = np.maximum(predictions, 0)\n",
    "    \n",
    "    rmse = np.sqrt(mean_squared_error(val, predictions))\n",
    "    rmsle = np.sqrt(mean_squared_error(np.log1p(val), np.log1p(predictions)))\n",
    "    \n",
    "    total_rmse += rmse\n",
    "    total_rmsle += rmsle\n",
    "    num_models += 1\n",
    "    \n",
    "    print(f\"\\nRoot Mean Squared Error (RMSE): {rmse}\")\n",
    "    print(f\"Root Mean Squared Logarithmic Error (RMSLE): {rmsle}\")"
   ]
  },
  {
   "cell_type": "code",
   "execution_count": null,
   "id": "fbc7a814",
   "metadata": {},
   "outputs": [],
   "source": [
    "avg_rmse = total_rmse / num_models\n",
    "avg_rmsle = total_rmsle / num_models"
   ]
  },
  {
   "cell_type": "code",
   "execution_count": null,
   "id": "6641992c",
   "metadata": {},
   "outputs": [],
   "source": [
    "print(f\"Average Root Mean Squared Error (RMSE) across all models: {avg_rmse}\")\n",
    "print(f\"Average Root Mean Squared Logarithmic Error (RMSLE) across all models: {avg_rmsle}\")"
   ]
  }
 ],
 "metadata": {
  "kernelspec": {
   "display_name": "Python 3 (ipykernel)",
   "language": "python",
   "name": "python3"
  },
  "language_info": {
   "codemirror_mode": {
    "name": "ipython",
    "version": 3
   },
   "file_extension": ".py",
   "mimetype": "text/x-python",
   "name": "python",
   "nbconvert_exporter": "python",
   "pygments_lexer": "ipython3",
   "version": "3.11.5"
  }
 },
 "nbformat": 4,
 "nbformat_minor": 5
}
