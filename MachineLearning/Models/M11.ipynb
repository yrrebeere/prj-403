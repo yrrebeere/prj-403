{
 "cells": [
  {
   "cell_type": "code",
   "execution_count": 1,
   "id": "d9cd6eec",
   "metadata": {},
   "outputs": [],
   "source": [
    "import numpy as np\n",
    "import pandas as pd\n",
    "from sklearn.model_selection import train_test_split\n",
    "from sklearn.preprocessing import MinMaxScaler\n",
    "from keras.models import Sequential\n",
    "from keras.layers import LSTM, Dense\n",
    "from sklearn.metrics import mean_squared_error"
   ]
  },
  {
   "cell_type": "code",
   "execution_count": 2,
   "id": "69a32cf1",
   "metadata": {},
   "outputs": [],
   "source": [
    "train = pd.read_csv(\"../../Data/Kaggle/StoreSales/new_train.csv\")\n",
    "test = pd.read_csv(\"../../Data/Kaggle/StoreSales/new_test.csv\")"
   ]
  },
  {
   "cell_type": "code",
   "execution_count": 3,
   "id": "6d797523",
   "metadata": {},
   "outputs": [
    {
     "data": {
      "text/html": [
       "<div>\n",
       "<style scoped>\n",
       "    .dataframe tbody tr th:only-of-type {\n",
       "        vertical-align: middle;\n",
       "    }\n",
       "\n",
       "    .dataframe tbody tr th {\n",
       "        vertical-align: top;\n",
       "    }\n",
       "\n",
       "    .dataframe thead th {\n",
       "        text-align: right;\n",
       "    }\n",
       "</style>\n",
       "<table border=\"1\" class=\"dataframe\">\n",
       "  <thead>\n",
       "    <tr style=\"text-align: right;\">\n",
       "      <th></th>\n",
       "      <th>store_nbr</th>\n",
       "      <th>family</th>\n",
       "      <th>sales</th>\n",
       "      <th>onpromotion</th>\n",
       "      <th>typeholiday</th>\n",
       "      <th>dcoilwtico</th>\n",
       "      <th>city</th>\n",
       "      <th>state</th>\n",
       "      <th>typestores</th>\n",
       "      <th>cluster</th>\n",
       "      <th>day_of_week</th>\n",
       "      <th>day</th>\n",
       "      <th>month</th>\n",
       "      <th>year</th>\n",
       "    </tr>\n",
       "  </thead>\n",
       "  <tbody>\n",
       "    <tr>\n",
       "      <th>0</th>\n",
       "      <td>1</td>\n",
       "      <td>AUTOMOTIVE</td>\n",
       "      <td>0.0</td>\n",
       "      <td>0</td>\n",
       "      <td>Holiday</td>\n",
       "      <td>93.14</td>\n",
       "      <td>Quito</td>\n",
       "      <td>Pichincha</td>\n",
       "      <td>D</td>\n",
       "      <td>13</td>\n",
       "      <td>2</td>\n",
       "      <td>1</td>\n",
       "      <td>1</td>\n",
       "      <td>2013</td>\n",
       "    </tr>\n",
       "    <tr>\n",
       "      <th>1</th>\n",
       "      <td>1</td>\n",
       "      <td>BABY CARE</td>\n",
       "      <td>0.0</td>\n",
       "      <td>0</td>\n",
       "      <td>Holiday</td>\n",
       "      <td>93.14</td>\n",
       "      <td>Quito</td>\n",
       "      <td>Pichincha</td>\n",
       "      <td>D</td>\n",
       "      <td>13</td>\n",
       "      <td>2</td>\n",
       "      <td>1</td>\n",
       "      <td>1</td>\n",
       "      <td>2013</td>\n",
       "    </tr>\n",
       "    <tr>\n",
       "      <th>2</th>\n",
       "      <td>1</td>\n",
       "      <td>BEAUTY</td>\n",
       "      <td>0.0</td>\n",
       "      <td>0</td>\n",
       "      <td>Holiday</td>\n",
       "      <td>93.14</td>\n",
       "      <td>Quito</td>\n",
       "      <td>Pichincha</td>\n",
       "      <td>D</td>\n",
       "      <td>13</td>\n",
       "      <td>2</td>\n",
       "      <td>1</td>\n",
       "      <td>1</td>\n",
       "      <td>2013</td>\n",
       "    </tr>\n",
       "    <tr>\n",
       "      <th>3</th>\n",
       "      <td>1</td>\n",
       "      <td>BEVERAGES</td>\n",
       "      <td>0.0</td>\n",
       "      <td>0</td>\n",
       "      <td>Holiday</td>\n",
       "      <td>93.14</td>\n",
       "      <td>Quito</td>\n",
       "      <td>Pichincha</td>\n",
       "      <td>D</td>\n",
       "      <td>13</td>\n",
       "      <td>2</td>\n",
       "      <td>1</td>\n",
       "      <td>1</td>\n",
       "      <td>2013</td>\n",
       "    </tr>\n",
       "    <tr>\n",
       "      <th>4</th>\n",
       "      <td>1</td>\n",
       "      <td>BOOKS</td>\n",
       "      <td>0.0</td>\n",
       "      <td>0</td>\n",
       "      <td>Holiday</td>\n",
       "      <td>93.14</td>\n",
       "      <td>Quito</td>\n",
       "      <td>Pichincha</td>\n",
       "      <td>D</td>\n",
       "      <td>13</td>\n",
       "      <td>2</td>\n",
       "      <td>1</td>\n",
       "      <td>1</td>\n",
       "      <td>2013</td>\n",
       "    </tr>\n",
       "  </tbody>\n",
       "</table>\n",
       "</div>"
      ],
      "text/plain": [
       "   store_nbr      family  sales  onpromotion typeholiday  dcoilwtico   city  \\\n",
       "0          1  AUTOMOTIVE    0.0            0     Holiday       93.14  Quito   \n",
       "1          1   BABY CARE    0.0            0     Holiday       93.14  Quito   \n",
       "2          1      BEAUTY    0.0            0     Holiday       93.14  Quito   \n",
       "3          1   BEVERAGES    0.0            0     Holiday       93.14  Quito   \n",
       "4          1       BOOKS    0.0            0     Holiday       93.14  Quito   \n",
       "\n",
       "       state typestores  cluster  day_of_week  day  month  year  \n",
       "0  Pichincha          D       13            2    1      1  2013  \n",
       "1  Pichincha          D       13            2    1      1  2013  \n",
       "2  Pichincha          D       13            2    1      1  2013  \n",
       "3  Pichincha          D       13            2    1      1  2013  \n",
       "4  Pichincha          D       13            2    1      1  2013  "
      ]
     },
     "execution_count": 3,
     "metadata": {},
     "output_type": "execute_result"
    }
   ],
   "source": [
    "train.head()"
   ]
  },
  {
   "cell_type": "code",
   "execution_count": 4,
   "id": "fa87a4cd",
   "metadata": {},
   "outputs": [
    {
     "data": {
      "text/html": [
       "<div>\n",
       "<style scoped>\n",
       "    .dataframe tbody tr th:only-of-type {\n",
       "        vertical-align: middle;\n",
       "    }\n",
       "\n",
       "    .dataframe tbody tr th {\n",
       "        vertical-align: top;\n",
       "    }\n",
       "\n",
       "    .dataframe thead th {\n",
       "        text-align: right;\n",
       "    }\n",
       "</style>\n",
       "<table border=\"1\" class=\"dataframe\">\n",
       "  <thead>\n",
       "    <tr style=\"text-align: right;\">\n",
       "      <th></th>\n",
       "      <th>store_nbr</th>\n",
       "      <th>family</th>\n",
       "      <th>onpromotion</th>\n",
       "      <th>typeholiday</th>\n",
       "      <th>dcoilwtico</th>\n",
       "      <th>city</th>\n",
       "      <th>state</th>\n",
       "      <th>typestores</th>\n",
       "      <th>cluster</th>\n",
       "      <th>day_of_week</th>\n",
       "      <th>day</th>\n",
       "      <th>month</th>\n",
       "      <th>year</th>\n",
       "    </tr>\n",
       "  </thead>\n",
       "  <tbody>\n",
       "    <tr>\n",
       "      <th>0</th>\n",
       "      <td>1</td>\n",
       "      <td>AUTOMOTIVE</td>\n",
       "      <td>0</td>\n",
       "      <td>NDay</td>\n",
       "      <td>46.8</td>\n",
       "      <td>Quito</td>\n",
       "      <td>Pichincha</td>\n",
       "      <td>D</td>\n",
       "      <td>13</td>\n",
       "      <td>3</td>\n",
       "      <td>16</td>\n",
       "      <td>8</td>\n",
       "      <td>2017</td>\n",
       "    </tr>\n",
       "    <tr>\n",
       "      <th>1</th>\n",
       "      <td>1</td>\n",
       "      <td>BABY CARE</td>\n",
       "      <td>0</td>\n",
       "      <td>NDay</td>\n",
       "      <td>46.8</td>\n",
       "      <td>Quito</td>\n",
       "      <td>Pichincha</td>\n",
       "      <td>D</td>\n",
       "      <td>13</td>\n",
       "      <td>3</td>\n",
       "      <td>16</td>\n",
       "      <td>8</td>\n",
       "      <td>2017</td>\n",
       "    </tr>\n",
       "    <tr>\n",
       "      <th>2</th>\n",
       "      <td>1</td>\n",
       "      <td>BEAUTY</td>\n",
       "      <td>2</td>\n",
       "      <td>NDay</td>\n",
       "      <td>46.8</td>\n",
       "      <td>Quito</td>\n",
       "      <td>Pichincha</td>\n",
       "      <td>D</td>\n",
       "      <td>13</td>\n",
       "      <td>3</td>\n",
       "      <td>16</td>\n",
       "      <td>8</td>\n",
       "      <td>2017</td>\n",
       "    </tr>\n",
       "    <tr>\n",
       "      <th>3</th>\n",
       "      <td>1</td>\n",
       "      <td>BEVERAGES</td>\n",
       "      <td>20</td>\n",
       "      <td>NDay</td>\n",
       "      <td>46.8</td>\n",
       "      <td>Quito</td>\n",
       "      <td>Pichincha</td>\n",
       "      <td>D</td>\n",
       "      <td>13</td>\n",
       "      <td>3</td>\n",
       "      <td>16</td>\n",
       "      <td>8</td>\n",
       "      <td>2017</td>\n",
       "    </tr>\n",
       "    <tr>\n",
       "      <th>4</th>\n",
       "      <td>1</td>\n",
       "      <td>BOOKS</td>\n",
       "      <td>0</td>\n",
       "      <td>NDay</td>\n",
       "      <td>46.8</td>\n",
       "      <td>Quito</td>\n",
       "      <td>Pichincha</td>\n",
       "      <td>D</td>\n",
       "      <td>13</td>\n",
       "      <td>3</td>\n",
       "      <td>16</td>\n",
       "      <td>8</td>\n",
       "      <td>2017</td>\n",
       "    </tr>\n",
       "  </tbody>\n",
       "</table>\n",
       "</div>"
      ],
      "text/plain": [
       "   store_nbr      family  onpromotion typeholiday  dcoilwtico   city  \\\n",
       "0          1  AUTOMOTIVE            0        NDay        46.8  Quito   \n",
       "1          1   BABY CARE            0        NDay        46.8  Quito   \n",
       "2          1      BEAUTY            2        NDay        46.8  Quito   \n",
       "3          1   BEVERAGES           20        NDay        46.8  Quito   \n",
       "4          1       BOOKS            0        NDay        46.8  Quito   \n",
       "\n",
       "       state typestores  cluster  day_of_week  day  month  year  \n",
       "0  Pichincha          D       13            3   16      8  2017  \n",
       "1  Pichincha          D       13            3   16      8  2017  \n",
       "2  Pichincha          D       13            3   16      8  2017  \n",
       "3  Pichincha          D       13            3   16      8  2017  \n",
       "4  Pichincha          D       13            3   16      8  2017  "
      ]
     },
     "execution_count": 4,
     "metadata": {},
     "output_type": "execute_result"
    }
   ],
   "source": [
    "test.head()"
   ]
  },
  {
   "cell_type": "code",
   "execution_count": 5,
   "id": "047c1f64",
   "metadata": {},
   "outputs": [],
   "source": [
    "scaler = MinMaxScaler()\n",
    "train['sales_scaled'] = scaler.fit_transform(train['sales'].values.reshape(-1, 1))"
   ]
  },
  {
   "cell_type": "code",
   "execution_count": 6,
   "id": "8b6adc16",
   "metadata": {},
   "outputs": [],
   "source": [
    "sequence_length = 10\n",
    "sequences = []\n",
    "targets = []"
   ]
  },
  {
   "cell_type": "code",
   "execution_count": 7,
   "id": "f48fc395",
   "metadata": {},
   "outputs": [],
   "source": [
    "for i in range(len(train) - sequence_length):\n",
    "    sequences.append(train['sales_scaled'].values[i:i+sequence_length])\n",
    "    targets.append(train['sales_scaled'].values[i+sequence_length])"
   ]
  },
  {
   "cell_type": "code",
   "execution_count": 9,
   "id": "bef112f6",
   "metadata": {},
   "outputs": [],
   "source": [
    "X_train, X_test, y_train, y_test = train_test_split(X, y, test_size=0.2, random_state=42)"
   ]
  },
  {
   "cell_type": "code",
   "execution_count": 10,
   "id": "920cf61d",
   "metadata": {},
   "outputs": [],
   "source": [
    "X_train = X_train.reshape(X_train.shape[0], sequence_length, 1)\n",
    "X_test = X_test.reshape(X_test.shape[0], sequence_length, 1)"
   ]
  },
  {
   "cell_type": "code",
   "execution_count": 11,
   "id": "eb4df7c7",
   "metadata": {},
   "outputs": [],
   "source": [
    "model = Sequential()\n",
    "model.add(LSTM(50, input_shape=(sequence_length, 1)))\n",
    "model.add(Dense(1))\n",
    "model.compile(optimizer='adam', loss='mean_squared_error')"
   ]
  },
  {
   "cell_type": "code",
   "execution_count": 12,
   "id": "a6bceb04",
   "metadata": {},
   "outputs": [
    {
     "name": "stdout",
     "output_type": "stream",
     "text": [
      "Epoch 1/50\n",
      "241/241 [==============================] - 23s 91ms/step - loss: 7.6902e-05 - val_loss: 7.3608e-05\n",
      "Epoch 2/50\n",
      "241/241 [==============================] - 22s 92ms/step - loss: 7.5561e-05 - val_loss: 7.3574e-05\n",
      "Epoch 3/50\n",
      "241/241 [==============================] - 22s 93ms/step - loss: 7.5511e-05 - val_loss: 7.3518e-05\n",
      "Epoch 4/50\n",
      "241/241 [==============================] - 22s 90ms/step - loss: 7.5449e-05 - val_loss: 7.3462e-05\n",
      "Epoch 5/50\n",
      "241/241 [==============================] - 22s 92ms/step - loss: 7.5460e-05 - val_loss: 7.3447e-05\n",
      "Epoch 6/50\n",
      "241/241 [==============================] - 22s 93ms/step - loss: 7.5379e-05 - val_loss: 7.3895e-05\n",
      "Epoch 7/50\n",
      "241/241 [==============================] - 22s 91ms/step - loss: 7.5390e-05 - val_loss: 7.3402e-05\n",
      "Epoch 8/50\n",
      "241/241 [==============================] - 22s 92ms/step - loss: 7.5372e-05 - val_loss: 7.3374e-05\n",
      "Epoch 9/50\n",
      "241/241 [==============================] - 22s 89ms/step - loss: 7.5304e-05 - val_loss: 7.3644e-05\n",
      "Epoch 10/50\n",
      "241/241 [==============================] - 22s 92ms/step - loss: 7.5326e-05 - val_loss: 7.3433e-05\n",
      "Epoch 11/50\n",
      "241/241 [==============================] - 22s 93ms/step - loss: 7.5323e-05 - val_loss: 7.3810e-05\n",
      "Epoch 12/50\n",
      "241/241 [==============================] - 22s 93ms/step - loss: 7.5281e-05 - val_loss: 7.3407e-05\n",
      "Epoch 13/50\n",
      "241/241 [==============================] - 22s 92ms/step - loss: 7.5277e-05 - val_loss: 7.3292e-05\n",
      "Epoch 14/50\n",
      "241/241 [==============================] - 22s 91ms/step - loss: 7.5251e-05 - val_loss: 7.3280e-05\n",
      "Epoch 15/50\n",
      "241/241 [==============================] - 22s 90ms/step - loss: 7.5237e-05 - val_loss: 7.3349e-05\n",
      "Epoch 16/50\n",
      "241/241 [==============================] - 22s 93ms/step - loss: 7.5214e-05 - val_loss: 7.3338e-05\n",
      "Epoch 17/50\n",
      "241/241 [==============================] - 22s 93ms/step - loss: 7.5196e-05 - val_loss: 7.3229e-05\n",
      "Epoch 18/50\n",
      "241/241 [==============================] - 23s 94ms/step - loss: 7.5205e-05 - val_loss: 7.3240e-05\n",
      "Epoch 19/50\n",
      "241/241 [==============================] - 23s 94ms/step - loss: 7.5154e-05 - val_loss: 7.3194e-05\n",
      "Epoch 20/50\n",
      "241/241 [==============================] - 23s 97ms/step - loss: 7.5141e-05 - val_loss: 7.3159e-05\n",
      "Epoch 21/50\n",
      "241/241 [==============================] - 23s 95ms/step - loss: 7.5108e-05 - val_loss: 7.3203e-05\n",
      "Epoch 22/50\n",
      "241/241 [==============================] - 23s 95ms/step - loss: 7.5080e-05 - val_loss: 7.3146e-05\n",
      "Epoch 23/50\n",
      "241/241 [==============================] - 23s 94ms/step - loss: 7.4981e-05 - val_loss: 7.3256e-05\n",
      "Epoch 24/50\n",
      "241/241 [==============================] - 23s 96ms/step - loss: 7.4715e-05 - val_loss: 7.2347e-05\n",
      "Epoch 25/50\n",
      "241/241 [==============================] - 23s 94ms/step - loss: 7.2433e-05 - val_loss: 6.9556e-05\n",
      "Epoch 26/50\n",
      "241/241 [==============================] - 23s 94ms/step - loss: 7.0658e-05 - val_loss: 6.9234e-05\n",
      "Epoch 27/50\n",
      "241/241 [==============================] - 23s 95ms/step - loss: 7.0355e-05 - val_loss: 6.8498e-05\n",
      "Epoch 28/50\n",
      "241/241 [==============================] - 23s 94ms/step - loss: 7.0241e-05 - val_loss: 6.8216e-05\n",
      "Epoch 29/50\n",
      "241/241 [==============================] - 23s 97ms/step - loss: 7.0031e-05 - val_loss: 6.8301e-05\n",
      "Epoch 30/50\n",
      "241/241 [==============================] - 23s 97ms/step - loss: 6.9783e-05 - val_loss: 6.7824e-05\n",
      "Epoch 31/50\n",
      "241/241 [==============================] - 23s 96ms/step - loss: 6.7095e-05 - val_loss: 6.2232e-05\n",
      "Epoch 32/50\n",
      "241/241 [==============================] - 23s 95ms/step - loss: 6.2081e-05 - val_loss: 5.8720e-05\n",
      "Epoch 33/50\n",
      "241/241 [==============================] - 23s 97ms/step - loss: 5.6847e-05 - val_loss: 5.2075e-05\n",
      "Epoch 34/50\n",
      "241/241 [==============================] - 23s 94ms/step - loss: 5.1324e-05 - val_loss: 4.8456e-05\n",
      "Epoch 35/50\n",
      "241/241 [==============================] - 23s 94ms/step - loss: 4.6717e-05 - val_loss: 4.2802e-05\n",
      "Epoch 36/50\n",
      "241/241 [==============================] - 23s 97ms/step - loss: 4.3347e-05 - val_loss: 4.1197e-05\n",
      "Epoch 37/50\n",
      "241/241 [==============================] - 23s 97ms/step - loss: 4.1461e-05 - val_loss: 4.0169e-05\n",
      "Epoch 38/50\n",
      "241/241 [==============================] - 22s 92ms/step - loss: 3.9836e-05 - val_loss: 3.8179e-05\n",
      "Epoch 39/50\n",
      "241/241 [==============================] - 23s 94ms/step - loss: 3.8641e-05 - val_loss: 3.7008e-05\n",
      "Epoch 40/50\n",
      "241/241 [==============================] - 23s 94ms/step - loss: 3.7364e-05 - val_loss: 3.6032e-05\n",
      "Epoch 41/50\n",
      "241/241 [==============================] - 23s 96ms/step - loss: 3.6385e-05 - val_loss: 3.5264e-05\n",
      "Epoch 42/50\n",
      "241/241 [==============================] - 22s 92ms/step - loss: 3.5615e-05 - val_loss: 3.3948e-05\n",
      "Epoch 43/50\n",
      "241/241 [==============================] - 23s 96ms/step - loss: 3.4864e-05 - val_loss: 3.3316e-05\n",
      "Epoch 44/50\n",
      "241/241 [==============================] - 23s 95ms/step - loss: 3.4300e-05 - val_loss: 3.2976e-05\n",
      "Epoch 45/50\n",
      "241/241 [==============================] - 23s 96ms/step - loss: 3.3594e-05 - val_loss: 3.2087e-05\n",
      "Epoch 46/50\n",
      "241/241 [==============================] - 23s 96ms/step - loss: 3.3122e-05 - val_loss: 3.1162e-05\n",
      "Epoch 47/50\n",
      "241/241 [==============================] - 23s 96ms/step - loss: 3.2437e-05 - val_loss: 3.0444e-05\n",
      "Epoch 48/50\n",
      "241/241 [==============================] - 23s 96ms/step - loss: 3.1850e-05 - val_loss: 3.4943e-05\n",
      "Epoch 49/50\n",
      "241/241 [==============================] - 23s 95ms/step - loss: 3.1298e-05 - val_loss: 2.9251e-05\n",
      "Epoch 50/50\n",
      "241/241 [==============================] - 23s 96ms/step - loss: 3.0619e-05 - val_loss: 2.8990e-05\n"
     ]
    },
    {
     "data": {
      "text/plain": [
       "<keras.src.callbacks.History at 0x2805f3790>"
      ]
     },
     "execution_count": 12,
     "metadata": {},
     "output_type": "execute_result"
    }
   ],
   "source": [
    "model.fit(X_train, y_train, epochs=50, batch_size=10000, validation_data=(X_test, y_test))"
   ]
  },
  {
   "cell_type": "code",
   "execution_count": 13,
   "id": "cd64c9bd",
   "metadata": {},
   "outputs": [
    {
     "name": "stdout",
     "output_type": "stream",
     "text": [
      "18756/18756 [==============================] - 9s 489us/step\n"
     ]
    }
   ],
   "source": [
    "y_pred = model.predict(X_test)"
   ]
  },
  {
   "cell_type": "code",
   "execution_count": 14,
   "id": "c40f32b4",
   "metadata": {},
   "outputs": [],
   "source": [
    "y_pred = scaler.inverse_transform(y_pred)"
   ]
  },
  {
   "cell_type": "code",
   "execution_count": 15,
   "id": "a5279662",
   "metadata": {},
   "outputs": [],
   "source": [
    "y_test_original = scaler.inverse_transform(y_test.reshape(-1, 1))"
   ]
  },
  {
   "cell_type": "code",
   "execution_count": 16,
   "id": "7d9211b4",
   "metadata": {},
   "outputs": [],
   "source": [
    "rmse = np.sqrt(mean_squared_error(y_test_original, y_pred))"
   ]
  },
  {
   "cell_type": "code",
   "execution_count": 17,
   "id": "cfbafab7",
   "metadata": {},
   "outputs": [
    {
     "name": "stdout",
     "output_type": "stream",
     "text": [
      "RMSE: 671.5031739102241\n"
     ]
    }
   ],
   "source": [
    "print(f'RMSE: {rmse}')"
   ]
  },
  {
   "cell_type": "code",
   "execution_count": 19,
   "id": "f2cbaa61",
   "metadata": {},
   "outputs": [
    {
     "data": {
      "text/plain": [
       "['joblib/M11.joblib']"
      ]
     },
     "execution_count": 19,
     "metadata": {},
     "output_type": "execute_result"
    }
   ],
   "source": [
    "from joblib import dump, load\n",
    "\n",
    "dump(model, 'joblib/M11.joblib')"
   ]
  },
  {
   "cell_type": "code",
   "execution_count": null,
   "id": "12c0ff56",
   "metadata": {},
   "outputs": [],
   "source": []
  },
  {
   "cell_type": "code",
   "execution_count": null,
   "id": "eddf562d",
   "metadata": {},
   "outputs": [],
   "source": []
  },
  {
   "cell_type": "code",
   "execution_count": null,
   "id": "c291c7a5",
   "metadata": {},
   "outputs": [],
   "source": []
  }
 ],
 "metadata": {
  "kernelspec": {
   "display_name": "Python 3 (ipykernel)",
   "language": "python",
   "name": "python3"
  },
  "language_info": {
   "codemirror_mode": {
    "name": "ipython",
    "version": 3
   },
   "file_extension": ".py",
   "mimetype": "text/x-python",
   "name": "python",
   "nbconvert_exporter": "python",
   "pygments_lexer": "ipython3",
   "version": "3.11.5"
  }
 },
 "nbformat": 4,
 "nbformat_minor": 5
}
