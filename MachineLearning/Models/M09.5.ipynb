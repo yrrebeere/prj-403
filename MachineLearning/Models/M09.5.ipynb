{
 "cells": [
  {
   "cell_type": "code",
   "execution_count": null,
   "id": "69857d25",
   "metadata": {},
   "outputs": [],
   "source": [
    "import pandas as pd\n",
    "import numpy as np\n",
    "from darts import TimeSeries\n",
    "from darts.models import RandomForest\n",
    "from darts.models import XGBModel\n",
    "from darts.models import Prophet\n",
    "from darts.models import LightGBMModel\n",
    "from sklearn.metrics import mean_squared_error, mean_squared_log_error\n",
    "import matplotlib.pyplot as plt"
   ]
  },
  {
   "cell_type": "code",
   "execution_count": null,
   "id": "357e05b1",
   "metadata": {},
   "outputs": [],
   "source": [
    "df = pd.read_csv(\"../../Data/Kaggle/StoreSales/train_darts_univariate.csv\", parse_dates=[\"date\"])"
   ]
  },
  {
   "cell_type": "code",
   "execution_count": null,
   "id": "11c12468",
   "metadata": {},
   "outputs": [],
   "source": [
    "df.head()"
   ]
  },
  {
   "cell_type": "code",
   "execution_count": null,
   "id": "9e97fa15",
   "metadata": {},
   "outputs": [],
   "source": [
    "unique_combinations = df[['store_nbr', 'family']].drop_duplicates()"
   ]
  },
  {
   "cell_type": "code",
   "execution_count": null,
   "id": "babbe7b1",
   "metadata": {},
   "outputs": [],
   "source": [
    "total_rmse = 0\n",
    "total_rmsle = 0\n",
    "num_models = 0"
   ]
  },
  {
   "cell_type": "code",
   "execution_count": null,
   "id": "38901250",
   "metadata": {},
   "outputs": [],
   "source": [
    "trained_models_rf = {}\n",
    "trained_models_xgb = {}\n",
    "trained_models_p = {}\n",
    "trained_models_lgbm = {}"
   ]
  },
  {
   "cell_type": "code",
   "execution_count": null,
   "id": "c6d9ee58",
   "metadata": {},
   "outputs": [],
   "source": [
    "for index, row in unique_combinations.iterrows():\n",
    "    store_nbr = row['store_nbr']\n",
    "    family = row['family']\n",
    "    \n",
    "    print(f\"\\nTraining model for store {store_nbr} and family {family}...\")\n",
    "    \n",
    "    df_subset = df[(df['store_nbr'] == store_nbr) & (df['family'] == family)]\n",
    "    \n",
    "    df_subset_p = df_subset.copy()\n",
    "    \n",
    "    df_subset_p.set_index('date', inplace=True)\n",
    "    \n",
    "    ts = TimeSeries.from_dataframe(df_subset, value_cols=[\"sales\"])\n",
    "    \n",
    "    ts_p = TimeSeries.from_dataframe(df_subset_p, value_cols=[\"sales\"], freq='d')\n",
    "\n",
    "    split_ratio = 0.8\n",
    "    training_size = int(len(ts) * split_ratio)\n",
    "    train = ts[:training_size]\n",
    "    val = ts[training_size:]\n",
    "    \n",
    "    train_p = ts_p[:training_size]\n",
    "    val_p = ts_p[training_size:]\n",
    "    \n",
    "    model_rf = RandomForest(lags=2)\n",
    "    model_xgb = XGBModel(lags=2)\n",
    "    model_p = Prophet()\n",
    "    model_lgbm = LightGBMModel(lags=2)\n",
    "    \n",
    "    model_rf.fit(train)\n",
    "    model_xgb.fit(train)\n",
    "    model_p.fit(train_p)\n",
    "    model_lgbm.fit(train)\n",
    "\n",
    "    trained_models_rf[(store_nbr, family)] = model_rf\n",
    "    trained_models_xgb[(store_nbr, family)] = model_xgb\n",
    "    trained_models_p[(store_nbr, family)] = model_p\n",
    "    trained_models_lgbm[(store_nbr, family)] = model_lgbm\n",
    "\n",
    "    predictions_rf = model_rf.predict(n=len(val))\n",
    "    predictions_xgb = model_xgb.predict(n=len(val))\n",
    "    predictions_p = model_p.predict(n=len(val))\n",
    "    predictions_lgbm = model_lgbm.predict(n=len(val))\n",
    "\n",
    "    val = val.pd_series().tolist()\n",
    "    val_p = val_p.pd_series().tolist()\n",
    "    \n",
    "    predictions_rf = predictions_rf.pd_series().tolist()\n",
    "    predictions_xgb = predictions_xgb.pd_series().tolist()\n",
    "    predictions_p = predictions_p.pd_series().tolist()\n",
    "    predictions_lgbm = predictions_lgbm.pd_series().tolist()\n",
    "\n",
    "    predictions_rf = np.maximum(predictions_rf, 0)\n",
    "    predictions_xgb = np.maximum(predictions_xgb, 0)\n",
    "    predictions_p = np.maximum(predictions_p, 0)\n",
    "    predictions_lgbm = np.maximum(predictions_lgbm, 0)\n",
    "\n",
    "    rmse_rf = np.sqrt(mean_squared_error(val, predictions_rf))\n",
    "    rmsle_rf = np.sqrt(mean_squared_error(np.log1p(val), np.log1p(predictions_rf)))\n",
    "    \n",
    "    rmse_xgb = np.sqrt(mean_squared_error(val, predictions_xgb))\n",
    "    rmsle_xgb = np.sqrt(mean_squared_error(np.log1p(val), np.log1p(predictions_xgb)))\n",
    "    \n",
    "    rmse_p = np.sqrt(mean_squared_error(val, predictions_p))\n",
    "    rmsle_p = np.sqrt(mean_squared_error(np.log1p(val), np.log1p(predictions_p)))\n",
    "    \n",
    "    rmse_lgbm = np.sqrt(mean_squared_error(val, predictions_lgbm))\n",
    "    rmsle_lgbm = np.sqrt(mean_squared_error(np.log1p(val), np.log1p(predictions_lgbm)))\n",
    "    \n",
    "    rmse = min(rmse_rf, rmse_xgb, rmse_p, rmse_lgbm)\n",
    "    rmsle = min(rmsle_rf, rmsle_xgb, rmse_p, rmsle_lgbm)\n",
    "\n",
    "    total_rmse += rmse\n",
    "    total_rmsle += rmsle\n",
    "    num_models += 1\n",
    "\n",
    "    print(f\"Root Mean Squared Error (RMSE): {rmse}\")\n",
    "    print(f\"Root Mean Squared Logarithmic Error (RMSLE): {rmsle}\")\n",
    "\n",
    "#     plt.figure(figsize=(12, 6))\n",
    "#     plt.plot(val, label='Actual')\n",
    "#     plt.plot(predictions, label='Predictions')\n",
    "#     plt.title(f\"Model for store {store_nbr} and family {family}\")\n",
    "#     plt.legend()\n",
    "#     plt.savefig(f\"plots/M09.5store{store_nbr}_family{family}.png\")\n",
    "#     plt.close()"
   ]
  },
  {
   "cell_type": "code",
   "execution_count": null,
   "id": "fbc7a814",
   "metadata": {},
   "outputs": [],
   "source": [
    "avg_rmse = total_rmse / num_models\n",
    "avg_rmsle = total_rmsle / num_models"
   ]
  },
  {
   "cell_type": "code",
   "execution_count": null,
   "id": "6641992c",
   "metadata": {},
   "outputs": [],
   "source": [
    "print(f\"Average Root Mean Squared Error (RMSE) across all models: {avg_rmse}\")\n",
    "print(f\"Average Root Mean Squared Logarithmic Error (RMSLE) across all models: {avg_rmsle}\")"
   ]
  }
 ],
 "metadata": {
  "kernelspec": {
   "display_name": "Python 3 (ipykernel)",
   "language": "python",
   "name": "python3"
  },
  "language_info": {
   "codemirror_mode": {
    "name": "ipython",
    "version": 3
   },
   "file_extension": ".py",
   "mimetype": "text/x-python",
   "name": "python",
   "nbconvert_exporter": "python",
   "pygments_lexer": "ipython3",
   "version": "3.11.5"
  }
 },
 "nbformat": 4,
 "nbformat_minor": 5
}
