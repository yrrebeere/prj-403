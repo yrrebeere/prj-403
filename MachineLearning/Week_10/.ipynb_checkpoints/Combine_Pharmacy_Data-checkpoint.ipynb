{
 "cells": [
  {
   "cell_type": "code",
   "execution_count": 1,
   "id": "4e8e8806",
   "metadata": {},
   "outputs": [],
   "source": [
    "import pandas as pd\n",
    "import glob"
   ]
  },
  {
   "cell_type": "code",
   "execution_count": 2,
   "id": "39fd29c6",
   "metadata": {},
   "outputs": [],
   "source": [
    "csv_files_path = '../../Data/Pharmacy/'"
   ]
  },
  {
   "cell_type": "code",
   "execution_count": 3,
   "id": "9bc777e6",
   "metadata": {},
   "outputs": [],
   "source": [
    "csv_files = sorted(glob.glob(csv_files_path + '*.csv'))"
   ]
  },
  {
   "cell_type": "code",
   "execution_count": 4,
   "id": "aa9765f6",
   "metadata": {},
   "outputs": [],
   "source": [
    "combined_data = pd.DataFrame()"
   ]
  },
  {
   "cell_type": "code",
   "execution_count": 5,
   "id": "3cc5b62e",
   "metadata": {},
   "outputs": [
    {
     "name": "stderr",
     "output_type": "stream",
     "text": [
      "/var/folders/2l/20nw0y015f5g5lbv09m0rccr0000gn/T/ipykernel_2767/3185661341.py:2: DtypeWarning: Columns (1) have mixed types. Specify dtype option on import or set low_memory=False.\n",
      "  month_data = pd.read_csv(csv_file)\n"
     ]
    }
   ],
   "source": [
    "for csv_file in csv_files:\n",
    "    month_data = pd.read_csv(csv_file)\n",
    "    combined_data = pd.concat([combined_data, month_data], ignore_index=True)"
   ]
  },
  {
   "cell_type": "code",
   "execution_count": 6,
   "id": "9f9a1940",
   "metadata": {},
   "outputs": [],
   "source": [
    "combined_data.to_csv('../../Data/Pharmacy/Combined.csv', index=False)"
   ]
  },
  {
   "cell_type": "code",
   "execution_count": null,
   "id": "401d91fd",
   "metadata": {},
   "outputs": [],
   "source": []
  }
 ],
 "metadata": {
  "kernelspec": {
   "display_name": "Python 3 (ipykernel)",
   "language": "python",
   "name": "python3"
  },
  "language_info": {
   "codemirror_mode": {
    "name": "ipython",
    "version": 3
   },
   "file_extension": ".py",
   "mimetype": "text/x-python",
   "name": "python",
   "nbconvert_exporter": "python",
   "pygments_lexer": "ipython3",
   "version": "3.11.2"
  }
 },
 "nbformat": 4,
 "nbformat_minor": 5
}
