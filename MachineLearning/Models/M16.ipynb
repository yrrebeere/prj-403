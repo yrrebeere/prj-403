{
 "cells": [
  {
   "cell_type": "code",
   "execution_count": 1,
   "id": "ed045456",
   "metadata": {},
   "outputs": [],
   "source": [
    "import numpy as np\n",
    "import pandas as pd\n",
    "from sklearn.model_selection import train_test_split\n",
    "from sklearn.preprocessing import StandardScaler\n",
    "from keras.models import Sequential\n",
    "from keras.layers import SimpleRNN, LSTM, Dense, Activation\n",
    "from sklearn.metrics import mean_squared_error"
   ]
  },
  {
   "cell_type": "code",
   "execution_count": 2,
   "id": "fea263cc",
   "metadata": {},
   "outputs": [],
   "source": [
    "train = pd.read_csv(\"../../Data/Kaggle/StoreSales/processed_train.csv\")\n",
    "test = pd.read_csv(\"../../Data/Kaggle/StoreSales/processed_test.csv\")"
   ]
  },
  {
   "cell_type": "code",
   "execution_count": 3,
   "id": "4e46d40d",
   "metadata": {},
   "outputs": [
    {
     "data": {
      "text/html": [
       "<div>\n",
       "<style scoped>\n",
       "    .dataframe tbody tr th:only-of-type {\n",
       "        vertical-align: middle;\n",
       "    }\n",
       "\n",
       "    .dataframe tbody tr th {\n",
       "        vertical-align: top;\n",
       "    }\n",
       "\n",
       "    .dataframe thead th {\n",
       "        text-align: right;\n",
       "    }\n",
       "</style>\n",
       "<table border=\"1\" class=\"dataframe\">\n",
       "  <thead>\n",
       "    <tr style=\"text-align: right;\">\n",
       "      <th></th>\n",
       "      <th>id</th>\n",
       "      <th>store_nbr</th>\n",
       "      <th>family</th>\n",
       "      <th>sales</th>\n",
       "      <th>onpromotion</th>\n",
       "      <th>typeholiday</th>\n",
       "      <th>dcoilwtico</th>\n",
       "      <th>city</th>\n",
       "      <th>state</th>\n",
       "      <th>typestores</th>\n",
       "      <th>cluster</th>\n",
       "      <th>day_of_week</th>\n",
       "      <th>day</th>\n",
       "      <th>month</th>\n",
       "      <th>year</th>\n",
       "    </tr>\n",
       "  </thead>\n",
       "  <tbody>\n",
       "    <tr>\n",
       "      <th>0</th>\n",
       "      <td>0</td>\n",
       "      <td>1</td>\n",
       "      <td>0</td>\n",
       "      <td>0.0</td>\n",
       "      <td>0</td>\n",
       "      <td>3</td>\n",
       "      <td>93.14</td>\n",
       "      <td>18</td>\n",
       "      <td>12</td>\n",
       "      <td>3</td>\n",
       "      <td>13</td>\n",
       "      <td>2</td>\n",
       "      <td>1</td>\n",
       "      <td>1</td>\n",
       "      <td>2013</td>\n",
       "    </tr>\n",
       "    <tr>\n",
       "      <th>1</th>\n",
       "      <td>1</td>\n",
       "      <td>1</td>\n",
       "      <td>1</td>\n",
       "      <td>0.0</td>\n",
       "      <td>0</td>\n",
       "      <td>3</td>\n",
       "      <td>93.14</td>\n",
       "      <td>18</td>\n",
       "      <td>12</td>\n",
       "      <td>3</td>\n",
       "      <td>13</td>\n",
       "      <td>2</td>\n",
       "      <td>1</td>\n",
       "      <td>1</td>\n",
       "      <td>2013</td>\n",
       "    </tr>\n",
       "    <tr>\n",
       "      <th>2</th>\n",
       "      <td>2</td>\n",
       "      <td>1</td>\n",
       "      <td>2</td>\n",
       "      <td>0.0</td>\n",
       "      <td>0</td>\n",
       "      <td>3</td>\n",
       "      <td>93.14</td>\n",
       "      <td>18</td>\n",
       "      <td>12</td>\n",
       "      <td>3</td>\n",
       "      <td>13</td>\n",
       "      <td>2</td>\n",
       "      <td>1</td>\n",
       "      <td>1</td>\n",
       "      <td>2013</td>\n",
       "    </tr>\n",
       "    <tr>\n",
       "      <th>3</th>\n",
       "      <td>3</td>\n",
       "      <td>1</td>\n",
       "      <td>3</td>\n",
       "      <td>0.0</td>\n",
       "      <td>0</td>\n",
       "      <td>3</td>\n",
       "      <td>93.14</td>\n",
       "      <td>18</td>\n",
       "      <td>12</td>\n",
       "      <td>3</td>\n",
       "      <td>13</td>\n",
       "      <td>2</td>\n",
       "      <td>1</td>\n",
       "      <td>1</td>\n",
       "      <td>2013</td>\n",
       "    </tr>\n",
       "    <tr>\n",
       "      <th>4</th>\n",
       "      <td>4</td>\n",
       "      <td>1</td>\n",
       "      <td>4</td>\n",
       "      <td>0.0</td>\n",
       "      <td>0</td>\n",
       "      <td>3</td>\n",
       "      <td>93.14</td>\n",
       "      <td>18</td>\n",
       "      <td>12</td>\n",
       "      <td>3</td>\n",
       "      <td>13</td>\n",
       "      <td>2</td>\n",
       "      <td>1</td>\n",
       "      <td>1</td>\n",
       "      <td>2013</td>\n",
       "    </tr>\n",
       "  </tbody>\n",
       "</table>\n",
       "</div>"
      ],
      "text/plain": [
       "   id  store_nbr  family  sales  onpromotion  typeholiday  dcoilwtico  city  \\\n",
       "0   0          1       0    0.0            0            3       93.14    18   \n",
       "1   1          1       1    0.0            0            3       93.14    18   \n",
       "2   2          1       2    0.0            0            3       93.14    18   \n",
       "3   3          1       3    0.0            0            3       93.14    18   \n",
       "4   4          1       4    0.0            0            3       93.14    18   \n",
       "\n",
       "   state  typestores  cluster  day_of_week  day  month  year  \n",
       "0     12           3       13            2    1      1  2013  \n",
       "1     12           3       13            2    1      1  2013  \n",
       "2     12           3       13            2    1      1  2013  \n",
       "3     12           3       13            2    1      1  2013  \n",
       "4     12           3       13            2    1      1  2013  "
      ]
     },
     "execution_count": 3,
     "metadata": {},
     "output_type": "execute_result"
    }
   ],
   "source": [
    "train.head()"
   ]
  },
  {
   "cell_type": "code",
   "execution_count": 4,
   "id": "bfe85980",
   "metadata": {},
   "outputs": [
    {
     "data": {
      "text/html": [
       "<div>\n",
       "<style scoped>\n",
       "    .dataframe tbody tr th:only-of-type {\n",
       "        vertical-align: middle;\n",
       "    }\n",
       "\n",
       "    .dataframe tbody tr th {\n",
       "        vertical-align: top;\n",
       "    }\n",
       "\n",
       "    .dataframe thead th {\n",
       "        text-align: right;\n",
       "    }\n",
       "</style>\n",
       "<table border=\"1\" class=\"dataframe\">\n",
       "  <thead>\n",
       "    <tr style=\"text-align: right;\">\n",
       "      <th></th>\n",
       "      <th>id</th>\n",
       "      <th>store_nbr</th>\n",
       "      <th>family</th>\n",
       "      <th>onpromotion</th>\n",
       "      <th>typeholiday</th>\n",
       "      <th>dcoilwtico</th>\n",
       "      <th>city</th>\n",
       "      <th>state</th>\n",
       "      <th>typestores</th>\n",
       "      <th>cluster</th>\n",
       "      <th>day_of_week</th>\n",
       "      <th>day</th>\n",
       "      <th>month</th>\n",
       "      <th>year</th>\n",
       "    </tr>\n",
       "  </thead>\n",
       "  <tbody>\n",
       "    <tr>\n",
       "      <th>0</th>\n",
       "      <td>3000888</td>\n",
       "      <td>1</td>\n",
       "      <td>0</td>\n",
       "      <td>0</td>\n",
       "      <td>4</td>\n",
       "      <td>46.8</td>\n",
       "      <td>18</td>\n",
       "      <td>12</td>\n",
       "      <td>3</td>\n",
       "      <td>13</td>\n",
       "      <td>3</td>\n",
       "      <td>16</td>\n",
       "      <td>8</td>\n",
       "      <td>2017</td>\n",
       "    </tr>\n",
       "    <tr>\n",
       "      <th>1</th>\n",
       "      <td>3000889</td>\n",
       "      <td>1</td>\n",
       "      <td>1</td>\n",
       "      <td>0</td>\n",
       "      <td>4</td>\n",
       "      <td>46.8</td>\n",
       "      <td>18</td>\n",
       "      <td>12</td>\n",
       "      <td>3</td>\n",
       "      <td>13</td>\n",
       "      <td>3</td>\n",
       "      <td>16</td>\n",
       "      <td>8</td>\n",
       "      <td>2017</td>\n",
       "    </tr>\n",
       "    <tr>\n",
       "      <th>2</th>\n",
       "      <td>3000890</td>\n",
       "      <td>1</td>\n",
       "      <td>2</td>\n",
       "      <td>2</td>\n",
       "      <td>4</td>\n",
       "      <td>46.8</td>\n",
       "      <td>18</td>\n",
       "      <td>12</td>\n",
       "      <td>3</td>\n",
       "      <td>13</td>\n",
       "      <td>3</td>\n",
       "      <td>16</td>\n",
       "      <td>8</td>\n",
       "      <td>2017</td>\n",
       "    </tr>\n",
       "    <tr>\n",
       "      <th>3</th>\n",
       "      <td>3000891</td>\n",
       "      <td>1</td>\n",
       "      <td>3</td>\n",
       "      <td>20</td>\n",
       "      <td>4</td>\n",
       "      <td>46.8</td>\n",
       "      <td>18</td>\n",
       "      <td>12</td>\n",
       "      <td>3</td>\n",
       "      <td>13</td>\n",
       "      <td>3</td>\n",
       "      <td>16</td>\n",
       "      <td>8</td>\n",
       "      <td>2017</td>\n",
       "    </tr>\n",
       "    <tr>\n",
       "      <th>4</th>\n",
       "      <td>3000892</td>\n",
       "      <td>1</td>\n",
       "      <td>4</td>\n",
       "      <td>0</td>\n",
       "      <td>4</td>\n",
       "      <td>46.8</td>\n",
       "      <td>18</td>\n",
       "      <td>12</td>\n",
       "      <td>3</td>\n",
       "      <td>13</td>\n",
       "      <td>3</td>\n",
       "      <td>16</td>\n",
       "      <td>8</td>\n",
       "      <td>2017</td>\n",
       "    </tr>\n",
       "  </tbody>\n",
       "</table>\n",
       "</div>"
      ],
      "text/plain": [
       "        id  store_nbr  family  onpromotion  typeholiday  dcoilwtico  city  \\\n",
       "0  3000888          1       0            0            4        46.8    18   \n",
       "1  3000889          1       1            0            4        46.8    18   \n",
       "2  3000890          1       2            2            4        46.8    18   \n",
       "3  3000891          1       3           20            4        46.8    18   \n",
       "4  3000892          1       4            0            4        46.8    18   \n",
       "\n",
       "   state  typestores  cluster  day_of_week  day  month  year  \n",
       "0     12           3       13            3   16      8  2017  \n",
       "1     12           3       13            3   16      8  2017  \n",
       "2     12           3       13            3   16      8  2017  \n",
       "3     12           3       13            3   16      8  2017  \n",
       "4     12           3       13            3   16      8  2017  "
      ]
     },
     "execution_count": 4,
     "metadata": {},
     "output_type": "execute_result"
    }
   ],
   "source": [
    "test.head()"
   ]
  },
  {
   "cell_type": "code",
   "execution_count": 5,
   "id": "019c4ce3",
   "metadata": {},
   "outputs": [],
   "source": [
    "X = train.drop(['id','sales'], axis=1)\n",
    "y = train['sales']"
   ]
  },
  {
   "cell_type": "code",
   "execution_count": 6,
   "id": "ef763fe7",
   "metadata": {},
   "outputs": [],
   "source": [
    "X_train, X_test, y_train, y_test = train_test_split(X, y, test_size=0.2, random_state=42)"
   ]
  },
  {
   "cell_type": "code",
   "execution_count": 7,
   "id": "231d2e9e",
   "metadata": {},
   "outputs": [],
   "source": [
    "scaler = StandardScaler()\n",
    "X_train_scaled = scaler.fit_transform(X_train)\n",
    "X_test_scaled = scaler.transform(X_test)"
   ]
  },
  {
   "cell_type": "code",
   "execution_count": 8,
   "id": "4963e0cd",
   "metadata": {},
   "outputs": [],
   "source": [
    "time_steps = 10"
   ]
  },
  {
   "cell_type": "code",
   "execution_count": 9,
   "id": "5db7bbaf",
   "metadata": {},
   "outputs": [],
   "source": [
    "X_train_reshaped = []\n",
    "y_train_reshaped = []"
   ]
  },
  {
   "cell_type": "code",
   "execution_count": 10,
   "id": "e97893e4",
   "metadata": {},
   "outputs": [],
   "source": [
    "for i in range(len(X_train_scaled) - time_steps):\n",
    "    X_train_reshaped.append(X_train_scaled[i:i + time_steps])\n",
    "    y_train_reshaped.append(y_train.values[i + time_steps])"
   ]
  },
  {
   "cell_type": "code",
   "execution_count": 11,
   "id": "71a38973",
   "metadata": {},
   "outputs": [],
   "source": [
    "X_train_reshaped = np.array(X_train_reshaped)\n",
    "y_train_reshaped = np.array(y_train_reshaped)"
   ]
  },
  {
   "cell_type": "code",
   "execution_count": 12,
   "id": "36a9c153",
   "metadata": {},
   "outputs": [],
   "source": [
    "X_test_reshaped = []\n",
    "y_test_reshaped = []"
   ]
  },
  {
   "cell_type": "code",
   "execution_count": 13,
   "id": "31f02a83",
   "metadata": {},
   "outputs": [],
   "source": [
    "for i in range(len(X_test_scaled) - time_steps):\n",
    "    X_test_reshaped.append(X_test_scaled[i:i + time_steps])\n",
    "    y_test_reshaped.append(y_test.values[i + time_steps])"
   ]
  },
  {
   "cell_type": "code",
   "execution_count": 14,
   "id": "23dcda16",
   "metadata": {},
   "outputs": [],
   "source": [
    "X_test_reshaped = np.array(X_test_reshaped)\n",
    "y_test_reshaped = np.array(y_test_reshaped)"
   ]
  },
  {
   "cell_type": "code",
   "execution_count": 15,
   "id": "9a307699",
   "metadata": {},
   "outputs": [],
   "source": [
    "model = Sequential()\n",
    "model.add(LSTM(50, input_shape=(X_train_reshaped.shape[1], X_train_reshaped.shape[2]), return_sequences=True))\n",
    "model.add(LSTM(50, return_sequences=True))\n",
    "model.add(LSTM(50))\n",
    "model.add(Dense(1))\n",
    "model.add(Activation('relu'))\n",
    "model.compile(optimizer='adam', loss='mean_squared_error')"
   ]
  },
  {
   "cell_type": "code",
   "execution_count": 16,
   "id": "907b8082",
   "metadata": {},
   "outputs": [
    {
     "name": "stdout",
     "output_type": "stream",
     "text": [
      "Epoch 1/10\n",
      "193/193 [==============================] - 64s 322ms/step - loss: 1323250.6250 - val_loss: 1332164.7500\n",
      "Epoch 2/10\n",
      "193/193 [==============================] - 63s 324ms/step - loss: 1315320.3750 - val_loss: 1325543.0000\n",
      "Epoch 3/10\n",
      "193/193 [==============================] - 57s 296ms/step - loss: 1308918.0000 - val_loss: 1319348.5000\n",
      "Epoch 4/10\n",
      "193/193 [==============================] - 60s 310ms/step - loss: 1302880.5000 - val_loss: 1313470.7500\n",
      "Epoch 5/10\n",
      "193/193 [==============================] - 60s 309ms/step - loss: 1297135.3750 - val_loss: 1307865.8750\n",
      "Epoch 6/10\n",
      "193/193 [==============================] - 63s 329ms/step - loss: 1291637.3750 - val_loss: 1302502.8750\n",
      "Epoch 7/10\n",
      "193/193 [==============================] - 66s 342ms/step - loss: 1286394.7500 - val_loss: 1297377.2500\n",
      "Epoch 8/10\n",
      "193/193 [==============================] - 63s 324ms/step - loss: 1281377.6250 - val_loss: 1292480.0000\n",
      "Epoch 9/10\n",
      "193/193 [==============================] - 58s 300ms/step - loss: 1276571.7500 - val_loss: 1287783.8750\n",
      "Epoch 10/10\n",
      "193/193 [==============================] - 61s 317ms/step - loss: 1271974.6250 - val_loss: 1283298.3750\n"
     ]
    },
    {
     "data": {
      "text/plain": [
       "<keras.src.callbacks.History at 0x2cd347810>"
      ]
     },
     "execution_count": 16,
     "metadata": {},
     "output_type": "execute_result"
    }
   ],
   "source": [
    "model.fit(X_train_reshaped, y_train_reshaped, epochs=10, batch_size=10000, validation_split=0.2)"
   ]
  },
  {
   "cell_type": "code",
   "execution_count": 17,
   "id": "c65a303b",
   "metadata": {},
   "outputs": [
    {
     "name": "stdout",
     "output_type": "stream",
     "text": [
      "18756/18756 [==============================] - 25s 1ms/step - loss: 1309183.5000\n",
      "Test Loss: 1309183.5\n"
     ]
    }
   ],
   "source": [
    "test_loss = model.evaluate(X_test_reshaped, y_test_reshaped)\n",
    "print(f'Test Loss: {test_loss}')"
   ]
  },
  {
   "cell_type": "code",
   "execution_count": 18,
   "id": "49c41255",
   "metadata": {},
   "outputs": [
    {
     "name": "stdout",
     "output_type": "stream",
     "text": [
      "18756/18756 [==============================] - 24s 1ms/step\n"
     ]
    }
   ],
   "source": [
    "y_pred = model.predict(X_test_reshaped)"
   ]
  },
  {
   "cell_type": "code",
   "execution_count": 19,
   "id": "14325c2b",
   "metadata": {},
   "outputs": [
    {
     "name": "stderr",
     "output_type": "stream",
     "text": [
      "/Users/yrrebeere/anaconda3/lib/python3.11/site-packages/keras/src/engine/training.py:3103: UserWarning: You are saving your model as an HDF5 file via `model.save()`. This file format is considered legacy. We recommend using instead the native Keras format, e.g. `model.save('my_model.keras')`.\n",
      "  saving_api.save_model(\n"
     ]
    }
   ],
   "source": [
    "model.save('M16.h5')"
   ]
  },
  {
   "cell_type": "code",
   "execution_count": 20,
   "id": "06ec5462",
   "metadata": {},
   "outputs": [
    {
     "name": "stdout",
     "output_type": "stream",
     "text": [
      "RMSE: 1144.1946307898331\n"
     ]
    }
   ],
   "source": [
    "rmse = np.sqrt(mean_squared_error(y_test_reshaped, y_pred))\n",
    "print(\"RMSE:\", rmse)"
   ]
  },
  {
   "cell_type": "code",
   "execution_count": null,
   "id": "a51affb7",
   "metadata": {},
   "outputs": [],
   "source": []
  }
 ],
 "metadata": {
  "kernelspec": {
   "display_name": "Python 3 (ipykernel)",
   "language": "python",
   "name": "python3"
  },
  "language_info": {
   "codemirror_mode": {
    "name": "ipython",
    "version": 3
   },
   "file_extension": ".py",
   "mimetype": "text/x-python",
   "name": "python",
   "nbconvert_exporter": "python",
   "pygments_lexer": "ipython3",
   "version": "3.11.5"
  }
 },
 "nbformat": 4,
 "nbformat_minor": 5
}
