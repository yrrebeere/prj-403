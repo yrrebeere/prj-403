{
 "cells": [
  {
   "cell_type": "code",
   "execution_count": 1,
   "id": "d9cd6eec",
   "metadata": {},
   "outputs": [],
   "source": [
    "import numpy as np\n",
    "import pandas as pd\n",
    "from sklearn.preprocessing import MinMaxScaler\n",
    "from keras.models import Sequential\n",
    "from keras.layers import LSTM, Dense\n",
    "from sklearn.metrics import mean_squared_error"
   ]
  },
  {
   "cell_type": "code",
   "execution_count": 2,
   "id": "69a32cf1",
   "metadata": {},
   "outputs": [],
   "source": [
    "train = pd.read_csv(\"../../Data/Kaggle/StoreSales/processed_train.csv\")\n",
    "test = pd.read_csv(\"../../Data/Kaggle/StoreSales/processed_test.csv\")"
   ]
  },
  {
   "cell_type": "code",
   "execution_count": 3,
   "id": "6d797523",
   "metadata": {
    "scrolled": true
   },
   "outputs": [
    {
     "data": {
      "text/html": [
       "<div>\n",
       "<style scoped>\n",
       "    .dataframe tbody tr th:only-of-type {\n",
       "        vertical-align: middle;\n",
       "    }\n",
       "\n",
       "    .dataframe tbody tr th {\n",
       "        vertical-align: top;\n",
       "    }\n",
       "\n",
       "    .dataframe thead th {\n",
       "        text-align: right;\n",
       "    }\n",
       "</style>\n",
       "<table border=\"1\" class=\"dataframe\">\n",
       "  <thead>\n",
       "    <tr style=\"text-align: right;\">\n",
       "      <th></th>\n",
       "      <th>id</th>\n",
       "      <th>store_nbr</th>\n",
       "      <th>family</th>\n",
       "      <th>sales</th>\n",
       "      <th>onpromotion</th>\n",
       "      <th>typeholiday</th>\n",
       "      <th>dcoilwtico</th>\n",
       "      <th>city</th>\n",
       "      <th>state</th>\n",
       "      <th>typestores</th>\n",
       "      <th>cluster</th>\n",
       "      <th>day_of_week</th>\n",
       "      <th>day</th>\n",
       "      <th>month</th>\n",
       "      <th>year</th>\n",
       "    </tr>\n",
       "  </thead>\n",
       "  <tbody>\n",
       "    <tr>\n",
       "      <th>0</th>\n",
       "      <td>0</td>\n",
       "      <td>1</td>\n",
       "      <td>0</td>\n",
       "      <td>0.0</td>\n",
       "      <td>0</td>\n",
       "      <td>3</td>\n",
       "      <td>93.14</td>\n",
       "      <td>18</td>\n",
       "      <td>12</td>\n",
       "      <td>3</td>\n",
       "      <td>13</td>\n",
       "      <td>2</td>\n",
       "      <td>1</td>\n",
       "      <td>1</td>\n",
       "      <td>2013</td>\n",
       "    </tr>\n",
       "    <tr>\n",
       "      <th>1</th>\n",
       "      <td>1</td>\n",
       "      <td>1</td>\n",
       "      <td>1</td>\n",
       "      <td>0.0</td>\n",
       "      <td>0</td>\n",
       "      <td>3</td>\n",
       "      <td>93.14</td>\n",
       "      <td>18</td>\n",
       "      <td>12</td>\n",
       "      <td>3</td>\n",
       "      <td>13</td>\n",
       "      <td>2</td>\n",
       "      <td>1</td>\n",
       "      <td>1</td>\n",
       "      <td>2013</td>\n",
       "    </tr>\n",
       "    <tr>\n",
       "      <th>2</th>\n",
       "      <td>2</td>\n",
       "      <td>1</td>\n",
       "      <td>2</td>\n",
       "      <td>0.0</td>\n",
       "      <td>0</td>\n",
       "      <td>3</td>\n",
       "      <td>93.14</td>\n",
       "      <td>18</td>\n",
       "      <td>12</td>\n",
       "      <td>3</td>\n",
       "      <td>13</td>\n",
       "      <td>2</td>\n",
       "      <td>1</td>\n",
       "      <td>1</td>\n",
       "      <td>2013</td>\n",
       "    </tr>\n",
       "    <tr>\n",
       "      <th>3</th>\n",
       "      <td>3</td>\n",
       "      <td>1</td>\n",
       "      <td>3</td>\n",
       "      <td>0.0</td>\n",
       "      <td>0</td>\n",
       "      <td>3</td>\n",
       "      <td>93.14</td>\n",
       "      <td>18</td>\n",
       "      <td>12</td>\n",
       "      <td>3</td>\n",
       "      <td>13</td>\n",
       "      <td>2</td>\n",
       "      <td>1</td>\n",
       "      <td>1</td>\n",
       "      <td>2013</td>\n",
       "    </tr>\n",
       "    <tr>\n",
       "      <th>4</th>\n",
       "      <td>4</td>\n",
       "      <td>1</td>\n",
       "      <td>4</td>\n",
       "      <td>0.0</td>\n",
       "      <td>0</td>\n",
       "      <td>3</td>\n",
       "      <td>93.14</td>\n",
       "      <td>18</td>\n",
       "      <td>12</td>\n",
       "      <td>3</td>\n",
       "      <td>13</td>\n",
       "      <td>2</td>\n",
       "      <td>1</td>\n",
       "      <td>1</td>\n",
       "      <td>2013</td>\n",
       "    </tr>\n",
       "  </tbody>\n",
       "</table>\n",
       "</div>"
      ],
      "text/plain": [
       "   id  store_nbr  family  sales  onpromotion  typeholiday  dcoilwtico  city  \\\n",
       "0   0          1       0    0.0            0            3       93.14    18   \n",
       "1   1          1       1    0.0            0            3       93.14    18   \n",
       "2   2          1       2    0.0            0            3       93.14    18   \n",
       "3   3          1       3    0.0            0            3       93.14    18   \n",
       "4   4          1       4    0.0            0            3       93.14    18   \n",
       "\n",
       "   state  typestores  cluster  day_of_week  day  month  year  \n",
       "0     12           3       13            2    1      1  2013  \n",
       "1     12           3       13            2    1      1  2013  \n",
       "2     12           3       13            2    1      1  2013  \n",
       "3     12           3       13            2    1      1  2013  \n",
       "4     12           3       13            2    1      1  2013  "
      ]
     },
     "execution_count": 3,
     "metadata": {},
     "output_type": "execute_result"
    }
   ],
   "source": [
    "train.head()"
   ]
  },
  {
   "cell_type": "code",
   "execution_count": 4,
   "id": "fa87a4cd",
   "metadata": {},
   "outputs": [
    {
     "data": {
      "text/html": [
       "<div>\n",
       "<style scoped>\n",
       "    .dataframe tbody tr th:only-of-type {\n",
       "        vertical-align: middle;\n",
       "    }\n",
       "\n",
       "    .dataframe tbody tr th {\n",
       "        vertical-align: top;\n",
       "    }\n",
       "\n",
       "    .dataframe thead th {\n",
       "        text-align: right;\n",
       "    }\n",
       "</style>\n",
       "<table border=\"1\" class=\"dataframe\">\n",
       "  <thead>\n",
       "    <tr style=\"text-align: right;\">\n",
       "      <th></th>\n",
       "      <th>id</th>\n",
       "      <th>store_nbr</th>\n",
       "      <th>family</th>\n",
       "      <th>onpromotion</th>\n",
       "      <th>typeholiday</th>\n",
       "      <th>dcoilwtico</th>\n",
       "      <th>city</th>\n",
       "      <th>state</th>\n",
       "      <th>typestores</th>\n",
       "      <th>cluster</th>\n",
       "      <th>day_of_week</th>\n",
       "      <th>day</th>\n",
       "      <th>month</th>\n",
       "      <th>year</th>\n",
       "    </tr>\n",
       "  </thead>\n",
       "  <tbody>\n",
       "    <tr>\n",
       "      <th>0</th>\n",
       "      <td>3000888</td>\n",
       "      <td>1</td>\n",
       "      <td>0</td>\n",
       "      <td>0</td>\n",
       "      <td>4</td>\n",
       "      <td>46.8</td>\n",
       "      <td>18</td>\n",
       "      <td>12</td>\n",
       "      <td>3</td>\n",
       "      <td>13</td>\n",
       "      <td>3</td>\n",
       "      <td>16</td>\n",
       "      <td>8</td>\n",
       "      <td>2017</td>\n",
       "    </tr>\n",
       "    <tr>\n",
       "      <th>1</th>\n",
       "      <td>3000889</td>\n",
       "      <td>1</td>\n",
       "      <td>1</td>\n",
       "      <td>0</td>\n",
       "      <td>4</td>\n",
       "      <td>46.8</td>\n",
       "      <td>18</td>\n",
       "      <td>12</td>\n",
       "      <td>3</td>\n",
       "      <td>13</td>\n",
       "      <td>3</td>\n",
       "      <td>16</td>\n",
       "      <td>8</td>\n",
       "      <td>2017</td>\n",
       "    </tr>\n",
       "    <tr>\n",
       "      <th>2</th>\n",
       "      <td>3000890</td>\n",
       "      <td>1</td>\n",
       "      <td>2</td>\n",
       "      <td>2</td>\n",
       "      <td>4</td>\n",
       "      <td>46.8</td>\n",
       "      <td>18</td>\n",
       "      <td>12</td>\n",
       "      <td>3</td>\n",
       "      <td>13</td>\n",
       "      <td>3</td>\n",
       "      <td>16</td>\n",
       "      <td>8</td>\n",
       "      <td>2017</td>\n",
       "    </tr>\n",
       "    <tr>\n",
       "      <th>3</th>\n",
       "      <td>3000891</td>\n",
       "      <td>1</td>\n",
       "      <td>3</td>\n",
       "      <td>20</td>\n",
       "      <td>4</td>\n",
       "      <td>46.8</td>\n",
       "      <td>18</td>\n",
       "      <td>12</td>\n",
       "      <td>3</td>\n",
       "      <td>13</td>\n",
       "      <td>3</td>\n",
       "      <td>16</td>\n",
       "      <td>8</td>\n",
       "      <td>2017</td>\n",
       "    </tr>\n",
       "    <tr>\n",
       "      <th>4</th>\n",
       "      <td>3000892</td>\n",
       "      <td>1</td>\n",
       "      <td>4</td>\n",
       "      <td>0</td>\n",
       "      <td>4</td>\n",
       "      <td>46.8</td>\n",
       "      <td>18</td>\n",
       "      <td>12</td>\n",
       "      <td>3</td>\n",
       "      <td>13</td>\n",
       "      <td>3</td>\n",
       "      <td>16</td>\n",
       "      <td>8</td>\n",
       "      <td>2017</td>\n",
       "    </tr>\n",
       "  </tbody>\n",
       "</table>\n",
       "</div>"
      ],
      "text/plain": [
       "        id  store_nbr  family  onpromotion  typeholiday  dcoilwtico  city  \\\n",
       "0  3000888          1       0            0            4        46.8    18   \n",
       "1  3000889          1       1            0            4        46.8    18   \n",
       "2  3000890          1       2            2            4        46.8    18   \n",
       "3  3000891          1       3           20            4        46.8    18   \n",
       "4  3000892          1       4            0            4        46.8    18   \n",
       "\n",
       "   state  typestores  cluster  day_of_week  day  month  year  \n",
       "0     12           3       13            3   16      8  2017  \n",
       "1     12           3       13            3   16      8  2017  \n",
       "2     12           3       13            3   16      8  2017  \n",
       "3     12           3       13            3   16      8  2017  \n",
       "4     12           3       13            3   16      8  2017  "
      ]
     },
     "execution_count": 4,
     "metadata": {},
     "output_type": "execute_result"
    }
   ],
   "source": [
    "test.head()"
   ]
  },
  {
   "cell_type": "code",
   "execution_count": 5,
   "id": "7568815f",
   "metadata": {},
   "outputs": [],
   "source": [
    "features = train.drop(['id','sales'], axis=1)\n",
    "target = train['sales']"
   ]
  },
  {
   "cell_type": "code",
   "execution_count": 6,
   "id": "8c7382d5",
   "metadata": {},
   "outputs": [
    {
     "data": {
      "text/plain": [
       "(3000888, 13)"
      ]
     },
     "execution_count": 6,
     "metadata": {},
     "output_type": "execute_result"
    }
   ],
   "source": [
    "features.shape"
   ]
  },
  {
   "cell_type": "code",
   "execution_count": 7,
   "id": "31629ac5",
   "metadata": {},
   "outputs": [
    {
     "data": {
      "text/plain": [
       "(3000888,)"
      ]
     },
     "execution_count": 7,
     "metadata": {},
     "output_type": "execute_result"
    }
   ],
   "source": [
    "target.shape"
   ]
  },
  {
   "cell_type": "code",
   "execution_count": 8,
   "id": "047c1f64",
   "metadata": {},
   "outputs": [],
   "source": [
    "scaler = MinMaxScaler()\n",
    "scaled_features = scaler.fit_transform(features)"
   ]
  },
  {
   "cell_type": "code",
   "execution_count": 9,
   "id": "534ae3af",
   "metadata": {},
   "outputs": [
    {
     "data": {
      "text/plain": [
       "(3000888, 13)"
      ]
     },
     "execution_count": 9,
     "metadata": {},
     "output_type": "execute_result"
    }
   ],
   "source": [
    "scaled_features.shape"
   ]
  },
  {
   "cell_type": "code",
   "execution_count": 10,
   "id": "ce01e765",
   "metadata": {},
   "outputs": [],
   "source": [
    "sequence_length = 10"
   ]
  },
  {
   "cell_type": "code",
   "execution_count": 11,
   "id": "8b6adc16",
   "metadata": {},
   "outputs": [],
   "source": [
    "sequences = []"
   ]
  },
  {
   "cell_type": "code",
   "execution_count": 12,
   "id": "f48fc395",
   "metadata": {},
   "outputs": [],
   "source": [
    "for i in range(len(scaled_features) - sequence_length):\n",
    "    seq = scaled_features[i:i+sequence_length]\n",
    "    sequences.append(seq)"
   ]
  },
  {
   "cell_type": "code",
   "execution_count": 13,
   "id": "da3e5061",
   "metadata": {},
   "outputs": [],
   "source": [
    "sequences = np.array(sequences)\n",
    "target = np.array(target)"
   ]
  },
  {
   "cell_type": "code",
   "execution_count": 14,
   "id": "24412d69",
   "metadata": {},
   "outputs": [
    {
     "data": {
      "text/plain": [
       "(3000878, 10, 13)"
      ]
     },
     "execution_count": 14,
     "metadata": {},
     "output_type": "execute_result"
    }
   ],
   "source": [
    "sequences.shape"
   ]
  },
  {
   "cell_type": "code",
   "execution_count": 15,
   "id": "acec42da",
   "metadata": {},
   "outputs": [
    {
     "data": {
      "text/plain": [
       "3000888"
      ]
     },
     "execution_count": 15,
     "metadata": {},
     "output_type": "execute_result"
    }
   ],
   "source": [
    "target.size"
   ]
  },
  {
   "cell_type": "code",
   "execution_count": 16,
   "id": "89236954",
   "metadata": {},
   "outputs": [],
   "source": [
    "min_length = min(len(sequences), len(target))\n",
    "sequences = sequences[:min_length]\n",
    "target = target[:min_length]"
   ]
  },
  {
   "cell_type": "code",
   "execution_count": 17,
   "id": "eb4df7c7",
   "metadata": {},
   "outputs": [],
   "source": [
    "model = Sequential()\n",
    "model.add(LSTM(units=50, input_shape=(sequences.shape[1], sequences.shape[2])))\n",
    "model.add(Dense(units=1))\n",
    "\n",
    "model.compile(optimizer='adam', loss='mean_squared_error')"
   ]
  },
  {
   "cell_type": "code",
   "execution_count": 18,
   "id": "a6bceb04",
   "metadata": {},
   "outputs": [
    {
     "name": "stdout",
     "output_type": "stream",
     "text": [
      "Epoch 1/50\n",
      "301/301 [==============================] - 25s 78ms/step - loss: 1332168.2500\n",
      "Epoch 2/50\n",
      "301/301 [==============================] - 25s 82ms/step - loss: 1320648.2500\n",
      "Epoch 3/50\n",
      "301/301 [==============================] - 23s 78ms/step - loss: 1310986.0000\n",
      "Epoch 4/50\n",
      "301/301 [==============================] - 23s 76ms/step - loss: 1302070.5000\n",
      "Epoch 5/50\n",
      "301/301 [==============================] - 23s 76ms/step - loss: 1293783.6250\n",
      "Epoch 6/50\n",
      "301/301 [==============================] - 23s 78ms/step - loss: 1286067.2500\n",
      "Epoch 7/50\n",
      "301/301 [==============================] - 23s 76ms/step - loss: 1278873.3750\n",
      "Epoch 8/50\n",
      "301/301 [==============================] - 23s 76ms/step - loss: 1272172.5000\n",
      "Epoch 9/50\n",
      "301/301 [==============================] - 23s 75ms/step - loss: 1265937.6250\n",
      "Epoch 10/50\n",
      "301/301 [==============================] - 23s 75ms/step - loss: 1260151.7500\n",
      "Epoch 11/50\n",
      "301/301 [==============================] - 22s 74ms/step - loss: 1254797.5000\n",
      "Epoch 12/50\n",
      "301/301 [==============================] - 22s 75ms/step - loss: 1249846.1250\n",
      "Epoch 13/50\n",
      "301/301 [==============================] - 23s 75ms/step - loss: 1245291.7500\n",
      "Epoch 14/50\n",
      "301/301 [==============================] - 23s 76ms/step - loss: 1241122.7500\n",
      "Epoch 15/50\n",
      "301/301 [==============================] - 23s 75ms/step - loss: 1237320.6250\n",
      "Epoch 16/50\n",
      "301/301 [==============================] - 23s 75ms/step - loss: 1233870.7500\n",
      "Epoch 17/50\n",
      "301/301 [==============================] - 23s 76ms/step - loss: 1230766.6250\n",
      "Epoch 18/50\n",
      "301/301 [==============================] - 23s 76ms/step - loss: 1227997.1250\n",
      "Epoch 19/50\n",
      "301/301 [==============================] - 23s 76ms/step - loss: 1225543.0000\n",
      "Epoch 20/50\n",
      "301/301 [==============================] - 23s 76ms/step - loss: 1223388.2500\n",
      "Epoch 21/50\n",
      "301/301 [==============================] - 23s 77ms/step - loss: 1221521.7500\n",
      "Epoch 22/50\n",
      "301/301 [==============================] - 23s 76ms/step - loss: 1219930.0000\n",
      "Epoch 23/50\n",
      "301/301 [==============================] - 23s 76ms/step - loss: 1218598.2500\n",
      "Epoch 24/50\n",
      "301/301 [==============================] - 23s 76ms/step - loss: 1217498.6250\n",
      "Epoch 25/50\n",
      "301/301 [==============================] - 23s 75ms/step - loss: 1216618.7500\n",
      "Epoch 26/50\n",
      "301/301 [==============================] - 23s 76ms/step - loss: 1215930.5000\n",
      "Epoch 27/50\n",
      "301/301 [==============================] - 23s 75ms/step - loss: 1215410.7500\n",
      "Epoch 28/50\n",
      "301/301 [==============================] - 23s 75ms/step - loss: 1215034.5000\n",
      "Epoch 29/50\n",
      "301/301 [==============================] - 23s 76ms/step - loss: 1214775.1250\n",
      "Epoch 30/50\n",
      "301/301 [==============================] - 23s 75ms/step - loss: 1214606.0000\n",
      "Epoch 31/50\n",
      "301/301 [==============================] - 23s 75ms/step - loss: 1214504.2500\n",
      "Epoch 32/50\n",
      "301/301 [==============================] - 23s 75ms/step - loss: 1208673.1250\n",
      "Epoch 33/50\n",
      "301/301 [==============================] - 22s 75ms/step - loss: 1161932.6250\n",
      "Epoch 34/50\n",
      "301/301 [==============================] - 23s 76ms/step - loss: 1149867.3750\n",
      "Epoch 35/50\n",
      "301/301 [==============================] - 23s 75ms/step - loss: 1143367.6250\n",
      "Epoch 36/50\n",
      "301/301 [==============================] - 23s 77ms/step - loss: 1137907.6250\n",
      "Epoch 37/50\n",
      "301/301 [==============================] - 23s 77ms/step - loss: 1135140.7500\n",
      "Epoch 38/50\n",
      "301/301 [==============================] - 23s 76ms/step - loss: 1129925.8750\n",
      "Epoch 39/50\n",
      "301/301 [==============================] - 23s 76ms/step - loss: 1124809.0000\n",
      "Epoch 40/50\n",
      "301/301 [==============================] - 23s 76ms/step - loss: 1118942.3750\n",
      "Epoch 41/50\n",
      "301/301 [==============================] - 23s 76ms/step - loss: 1110874.5000\n",
      "Epoch 42/50\n",
      "301/301 [==============================] - 23s 76ms/step - loss: 1084262.1250\n",
      "Epoch 43/50\n",
      "301/301 [==============================] - 23s 77ms/step - loss: 1072139.3750\n",
      "Epoch 44/50\n",
      "301/301 [==============================] - 23s 75ms/step - loss: 1064581.8750\n",
      "Epoch 45/50\n",
      "301/301 [==============================] - 23s 75ms/step - loss: 1057933.0000\n",
      "Epoch 46/50\n",
      "301/301 [==============================] - 23s 76ms/step - loss: 1052178.0000\n",
      "Epoch 47/50\n",
      "301/301 [==============================] - 23s 78ms/step - loss: 1041497.6250\n",
      "Epoch 48/50\n",
      "301/301 [==============================] - 23s 76ms/step - loss: 1038484.2500\n",
      "Epoch 49/50\n",
      "301/301 [==============================] - 23s 77ms/step - loss: 1037828.8125\n",
      "Epoch 50/50\n",
      "301/301 [==============================] - 23s 77ms/step - loss: 1022168.0000\n"
     ]
    },
    {
     "data": {
      "text/plain": [
       "<keras.src.callbacks.History at 0x2f0350f10>"
      ]
     },
     "execution_count": 18,
     "metadata": {},
     "output_type": "execute_result"
    }
   ],
   "source": [
    "model.fit(sequences, target, epochs=50, batch_size=10000)"
   ]
  },
  {
   "cell_type": "code",
   "execution_count": 19,
   "id": "f2cbaa61",
   "metadata": {},
   "outputs": [
    {
     "data": {
      "text/plain": [
       "['joblib/M12.joblib']"
      ]
     },
     "execution_count": 19,
     "metadata": {},
     "output_type": "execute_result"
    }
   ],
   "source": [
    "from joblib import dump, load\n",
    "\n",
    "dump(model, 'joblib/M12.joblib')"
   ]
  },
  {
   "cell_type": "code",
   "execution_count": 20,
   "id": "b60865df",
   "metadata": {},
   "outputs": [],
   "source": [
    "test_data = test.drop('id', axis=1)"
   ]
  },
  {
   "cell_type": "code",
   "execution_count": 21,
   "id": "dcbbf5e2",
   "metadata": {},
   "outputs": [
    {
     "data": {
      "text/html": [
       "<div>\n",
       "<style scoped>\n",
       "    .dataframe tbody tr th:only-of-type {\n",
       "        vertical-align: middle;\n",
       "    }\n",
       "\n",
       "    .dataframe tbody tr th {\n",
       "        vertical-align: top;\n",
       "    }\n",
       "\n",
       "    .dataframe thead th {\n",
       "        text-align: right;\n",
       "    }\n",
       "</style>\n",
       "<table border=\"1\" class=\"dataframe\">\n",
       "  <thead>\n",
       "    <tr style=\"text-align: right;\">\n",
       "      <th></th>\n",
       "      <th>store_nbr</th>\n",
       "      <th>family</th>\n",
       "      <th>onpromotion</th>\n",
       "      <th>typeholiday</th>\n",
       "      <th>dcoilwtico</th>\n",
       "      <th>city</th>\n",
       "      <th>state</th>\n",
       "      <th>typestores</th>\n",
       "      <th>cluster</th>\n",
       "      <th>day_of_week</th>\n",
       "      <th>day</th>\n",
       "      <th>month</th>\n",
       "      <th>year</th>\n",
       "    </tr>\n",
       "  </thead>\n",
       "  <tbody>\n",
       "    <tr>\n",
       "      <th>0</th>\n",
       "      <td>1</td>\n",
       "      <td>0</td>\n",
       "      <td>0</td>\n",
       "      <td>4</td>\n",
       "      <td>46.8</td>\n",
       "      <td>18</td>\n",
       "      <td>12</td>\n",
       "      <td>3</td>\n",
       "      <td>13</td>\n",
       "      <td>3</td>\n",
       "      <td>16</td>\n",
       "      <td>8</td>\n",
       "      <td>2017</td>\n",
       "    </tr>\n",
       "    <tr>\n",
       "      <th>1</th>\n",
       "      <td>1</td>\n",
       "      <td>1</td>\n",
       "      <td>0</td>\n",
       "      <td>4</td>\n",
       "      <td>46.8</td>\n",
       "      <td>18</td>\n",
       "      <td>12</td>\n",
       "      <td>3</td>\n",
       "      <td>13</td>\n",
       "      <td>3</td>\n",
       "      <td>16</td>\n",
       "      <td>8</td>\n",
       "      <td>2017</td>\n",
       "    </tr>\n",
       "    <tr>\n",
       "      <th>2</th>\n",
       "      <td>1</td>\n",
       "      <td>2</td>\n",
       "      <td>2</td>\n",
       "      <td>4</td>\n",
       "      <td>46.8</td>\n",
       "      <td>18</td>\n",
       "      <td>12</td>\n",
       "      <td>3</td>\n",
       "      <td>13</td>\n",
       "      <td>3</td>\n",
       "      <td>16</td>\n",
       "      <td>8</td>\n",
       "      <td>2017</td>\n",
       "    </tr>\n",
       "    <tr>\n",
       "      <th>3</th>\n",
       "      <td>1</td>\n",
       "      <td>3</td>\n",
       "      <td>20</td>\n",
       "      <td>4</td>\n",
       "      <td>46.8</td>\n",
       "      <td>18</td>\n",
       "      <td>12</td>\n",
       "      <td>3</td>\n",
       "      <td>13</td>\n",
       "      <td>3</td>\n",
       "      <td>16</td>\n",
       "      <td>8</td>\n",
       "      <td>2017</td>\n",
       "    </tr>\n",
       "    <tr>\n",
       "      <th>4</th>\n",
       "      <td>1</td>\n",
       "      <td>4</td>\n",
       "      <td>0</td>\n",
       "      <td>4</td>\n",
       "      <td>46.8</td>\n",
       "      <td>18</td>\n",
       "      <td>12</td>\n",
       "      <td>3</td>\n",
       "      <td>13</td>\n",
       "      <td>3</td>\n",
       "      <td>16</td>\n",
       "      <td>8</td>\n",
       "      <td>2017</td>\n",
       "    </tr>\n",
       "  </tbody>\n",
       "</table>\n",
       "</div>"
      ],
      "text/plain": [
       "   store_nbr  family  onpromotion  typeholiday  dcoilwtico  city  state  \\\n",
       "0          1       0            0            4        46.8    18     12   \n",
       "1          1       1            0            4        46.8    18     12   \n",
       "2          1       2            2            4        46.8    18     12   \n",
       "3          1       3           20            4        46.8    18     12   \n",
       "4          1       4            0            4        46.8    18     12   \n",
       "\n",
       "   typestores  cluster  day_of_week  day  month  year  \n",
       "0           3       13            3   16      8  2017  \n",
       "1           3       13            3   16      8  2017  \n",
       "2           3       13            3   16      8  2017  \n",
       "3           3       13            3   16      8  2017  \n",
       "4           3       13            3   16      8  2017  "
      ]
     },
     "execution_count": 21,
     "metadata": {},
     "output_type": "execute_result"
    }
   ],
   "source": [
    "test_data.head()"
   ]
  },
  {
   "cell_type": "code",
   "execution_count": 22,
   "id": "2aa8a489",
   "metadata": {},
   "outputs": [],
   "source": [
    "scaled_test_features = scaler.transform(test_data)"
   ]
  },
  {
   "cell_type": "code",
   "execution_count": 23,
   "id": "483d25dd",
   "metadata": {},
   "outputs": [],
   "source": [
    "test_sequences = []"
   ]
  },
  {
   "cell_type": "code",
   "execution_count": 24,
   "id": "e0efa0a1",
   "metadata": {},
   "outputs": [],
   "source": [
    "for i in range(len(scaled_test_features) - sequence_length):\n",
    "    seq = scaled_test_features[i:i+sequence_length]\n",
    "    test_sequences.append(seq)"
   ]
  },
  {
   "cell_type": "code",
   "execution_count": 25,
   "id": "8c6a2438",
   "metadata": {},
   "outputs": [],
   "source": [
    "test_sequences = np.array(test_sequences)"
   ]
  },
  {
   "cell_type": "code",
   "execution_count": 26,
   "id": "7b1c0014",
   "metadata": {},
   "outputs": [
    {
     "name": "stdout",
     "output_type": "stream",
     "text": [
      "891/891 [==============================] - 1s 514us/step\n"
     ]
    }
   ],
   "source": [
    "test_predictions = model.predict(test_sequences)"
   ]
  },
  {
   "cell_type": "code",
   "execution_count": 27,
   "id": "3cea911e",
   "metadata": {},
   "outputs": [],
   "source": [
    "test_predictions = np.maximum(test_predictions, 0)"
   ]
  },
  {
   "cell_type": "code",
   "execution_count": 28,
   "id": "43763bb0",
   "metadata": {},
   "outputs": [],
   "source": [
    "test_predictions = np.concatenate([np.zeros(10),test_predictions.flatten()])"
   ]
  },
  {
   "cell_type": "code",
   "execution_count": 29,
   "id": "eedfbe9a",
   "metadata": {},
   "outputs": [],
   "source": [
    "submission = pd.DataFrame({'id': test['id'], 'sales': test_predictions.flatten()})"
   ]
  },
  {
   "cell_type": "code",
   "execution_count": 30,
   "id": "f7d127b3",
   "metadata": {},
   "outputs": [],
   "source": [
    "submission.to_csv('../../Data/Kaggle/StoreSales/submission_lstm.csv', index=False)"
   ]
  },
  {
   "cell_type": "code",
   "execution_count": 33,
   "id": "af2442cc",
   "metadata": {},
   "outputs": [
    {
     "data": {
      "text/plain": [
       "['joblib/scaler.joblib']"
      ]
     },
     "execution_count": 33,
     "metadata": {},
     "output_type": "execute_result"
    }
   ],
   "source": [
    "import joblib\n",
    "\n",
    "joblib.dump(scaler, 'joblib/scaler.joblib')"
   ]
  },
  {
   "cell_type": "code",
   "execution_count": null,
   "id": "b2323963",
   "metadata": {},
   "outputs": [],
   "source": []
  }
 ],
 "metadata": {
  "kernelspec": {
   "display_name": "Python 3 (ipykernel)",
   "language": "python",
   "name": "python3"
  },
  "language_info": {
   "codemirror_mode": {
    "name": "ipython",
    "version": 3
   },
   "file_extension": ".py",
   "mimetype": "text/x-python",
   "name": "python",
   "nbconvert_exporter": "python",
   "pygments_lexer": "ipython3",
   "version": "3.11.5"
  }
 },
 "nbformat": 4,
 "nbformat_minor": 5
}
