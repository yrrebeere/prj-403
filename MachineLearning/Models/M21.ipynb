{
 "cells": [
  {
   "cell_type": "code",
   "execution_count": 1,
   "id": "dac38a14",
   "metadata": {},
   "outputs": [],
   "source": [
    "import tensorflow as tf\n",
    "import pandas as pd\n",
    "import numpy as np"
   ]
  },
  {
   "cell_type": "code",
   "execution_count": 2,
   "id": "d7b6f1b2",
   "metadata": {},
   "outputs": [],
   "source": [
    "df = pd.read_csv(\"../../Data/Kaggle/StoreSales/processed_train_v2.csv\")"
   ]
  },
  {
   "cell_type": "code",
   "execution_count": 3,
   "id": "00fad4ef",
   "metadata": {},
   "outputs": [
    {
     "data": {
      "text/html": [
       "<div>\n",
       "<style scoped>\n",
       "    .dataframe tbody tr th:only-of-type {\n",
       "        vertical-align: middle;\n",
       "    }\n",
       "\n",
       "    .dataframe tbody tr th {\n",
       "        vertical-align: top;\n",
       "    }\n",
       "\n",
       "    .dataframe thead th {\n",
       "        text-align: right;\n",
       "    }\n",
       "</style>\n",
       "<table border=\"1\" class=\"dataframe\">\n",
       "  <thead>\n",
       "    <tr style=\"text-align: right;\">\n",
       "      <th></th>\n",
       "      <th>id</th>\n",
       "      <th>date</th>\n",
       "      <th>store_nbr</th>\n",
       "      <th>family</th>\n",
       "      <th>sales</th>\n",
       "      <th>onpromotion</th>\n",
       "      <th>typeholiday</th>\n",
       "      <th>dcoilwtico</th>\n",
       "      <th>city</th>\n",
       "      <th>state</th>\n",
       "      <th>typestores</th>\n",
       "      <th>cluster</th>\n",
       "      <th>day_of_week</th>\n",
       "      <th>day</th>\n",
       "      <th>month</th>\n",
       "      <th>year</th>\n",
       "    </tr>\n",
       "  </thead>\n",
       "  <tbody>\n",
       "    <tr>\n",
       "      <th>0</th>\n",
       "      <td>0</td>\n",
       "      <td>2013-01-01</td>\n",
       "      <td>1</td>\n",
       "      <td>0</td>\n",
       "      <td>0.000</td>\n",
       "      <td>0</td>\n",
       "      <td>3</td>\n",
       "      <td>93.14</td>\n",
       "      <td>18</td>\n",
       "      <td>12</td>\n",
       "      <td>3</td>\n",
       "      <td>13</td>\n",
       "      <td>2</td>\n",
       "      <td>1</td>\n",
       "      <td>1</td>\n",
       "      <td>2013</td>\n",
       "    </tr>\n",
       "    <tr>\n",
       "      <th>1</th>\n",
       "      <td>1</td>\n",
       "      <td>2013-01-01</td>\n",
       "      <td>1</td>\n",
       "      <td>1</td>\n",
       "      <td>0.000</td>\n",
       "      <td>0</td>\n",
       "      <td>3</td>\n",
       "      <td>93.14</td>\n",
       "      <td>18</td>\n",
       "      <td>12</td>\n",
       "      <td>3</td>\n",
       "      <td>13</td>\n",
       "      <td>2</td>\n",
       "      <td>1</td>\n",
       "      <td>1</td>\n",
       "      <td>2013</td>\n",
       "    </tr>\n",
       "    <tr>\n",
       "      <th>2</th>\n",
       "      <td>2</td>\n",
       "      <td>2013-01-01</td>\n",
       "      <td>1</td>\n",
       "      <td>2</td>\n",
       "      <td>0.000</td>\n",
       "      <td>0</td>\n",
       "      <td>3</td>\n",
       "      <td>93.14</td>\n",
       "      <td>18</td>\n",
       "      <td>12</td>\n",
       "      <td>3</td>\n",
       "      <td>13</td>\n",
       "      <td>2</td>\n",
       "      <td>1</td>\n",
       "      <td>1</td>\n",
       "      <td>2013</td>\n",
       "    </tr>\n",
       "    <tr>\n",
       "      <th>3</th>\n",
       "      <td>3</td>\n",
       "      <td>2013-01-01</td>\n",
       "      <td>1</td>\n",
       "      <td>3</td>\n",
       "      <td>0.000</td>\n",
       "      <td>0</td>\n",
       "      <td>3</td>\n",
       "      <td>93.14</td>\n",
       "      <td>18</td>\n",
       "      <td>12</td>\n",
       "      <td>3</td>\n",
       "      <td>13</td>\n",
       "      <td>2</td>\n",
       "      <td>1</td>\n",
       "      <td>1</td>\n",
       "      <td>2013</td>\n",
       "    </tr>\n",
       "    <tr>\n",
       "      <th>4</th>\n",
       "      <td>4</td>\n",
       "      <td>2013-01-01</td>\n",
       "      <td>1</td>\n",
       "      <td>4</td>\n",
       "      <td>0.000</td>\n",
       "      <td>0</td>\n",
       "      <td>3</td>\n",
       "      <td>93.14</td>\n",
       "      <td>18</td>\n",
       "      <td>12</td>\n",
       "      <td>3</td>\n",
       "      <td>13</td>\n",
       "      <td>2</td>\n",
       "      <td>1</td>\n",
       "      <td>1</td>\n",
       "      <td>2013</td>\n",
       "    </tr>\n",
       "    <tr>\n",
       "      <th>...</th>\n",
       "      <td>...</td>\n",
       "      <td>...</td>\n",
       "      <td>...</td>\n",
       "      <td>...</td>\n",
       "      <td>...</td>\n",
       "      <td>...</td>\n",
       "      <td>...</td>\n",
       "      <td>...</td>\n",
       "      <td>...</td>\n",
       "      <td>...</td>\n",
       "      <td>...</td>\n",
       "      <td>...</td>\n",
       "      <td>...</td>\n",
       "      <td>...</td>\n",
       "      <td>...</td>\n",
       "      <td>...</td>\n",
       "    </tr>\n",
       "    <tr>\n",
       "      <th>3000883</th>\n",
       "      <td>3000883</td>\n",
       "      <td>2017-08-15</td>\n",
       "      <td>9</td>\n",
       "      <td>28</td>\n",
       "      <td>438.133</td>\n",
       "      <td>0</td>\n",
       "      <td>3</td>\n",
       "      <td>47.57</td>\n",
       "      <td>18</td>\n",
       "      <td>12</td>\n",
       "      <td>1</td>\n",
       "      <td>6</td>\n",
       "      <td>2</td>\n",
       "      <td>15</td>\n",
       "      <td>8</td>\n",
       "      <td>2017</td>\n",
       "    </tr>\n",
       "    <tr>\n",
       "      <th>3000884</th>\n",
       "      <td>3000884</td>\n",
       "      <td>2017-08-15</td>\n",
       "      <td>9</td>\n",
       "      <td>29</td>\n",
       "      <td>154.553</td>\n",
       "      <td>1</td>\n",
       "      <td>3</td>\n",
       "      <td>47.57</td>\n",
       "      <td>18</td>\n",
       "      <td>12</td>\n",
       "      <td>1</td>\n",
       "      <td>6</td>\n",
       "      <td>2</td>\n",
       "      <td>15</td>\n",
       "      <td>8</td>\n",
       "      <td>2017</td>\n",
       "    </tr>\n",
       "    <tr>\n",
       "      <th>3000885</th>\n",
       "      <td>3000885</td>\n",
       "      <td>2017-08-15</td>\n",
       "      <td>9</td>\n",
       "      <td>30</td>\n",
       "      <td>2419.729</td>\n",
       "      <td>148</td>\n",
       "      <td>3</td>\n",
       "      <td>47.57</td>\n",
       "      <td>18</td>\n",
       "      <td>12</td>\n",
       "      <td>1</td>\n",
       "      <td>6</td>\n",
       "      <td>2</td>\n",
       "      <td>15</td>\n",
       "      <td>8</td>\n",
       "      <td>2017</td>\n",
       "    </tr>\n",
       "    <tr>\n",
       "      <th>3000886</th>\n",
       "      <td>3000886</td>\n",
       "      <td>2017-08-15</td>\n",
       "      <td>9</td>\n",
       "      <td>31</td>\n",
       "      <td>121.000</td>\n",
       "      <td>8</td>\n",
       "      <td>3</td>\n",
       "      <td>47.57</td>\n",
       "      <td>18</td>\n",
       "      <td>12</td>\n",
       "      <td>1</td>\n",
       "      <td>6</td>\n",
       "      <td>2</td>\n",
       "      <td>15</td>\n",
       "      <td>8</td>\n",
       "      <td>2017</td>\n",
       "    </tr>\n",
       "    <tr>\n",
       "      <th>3000887</th>\n",
       "      <td>3000887</td>\n",
       "      <td>2017-08-15</td>\n",
       "      <td>9</td>\n",
       "      <td>32</td>\n",
       "      <td>16.000</td>\n",
       "      <td>0</td>\n",
       "      <td>3</td>\n",
       "      <td>47.57</td>\n",
       "      <td>18</td>\n",
       "      <td>12</td>\n",
       "      <td>1</td>\n",
       "      <td>6</td>\n",
       "      <td>2</td>\n",
       "      <td>15</td>\n",
       "      <td>8</td>\n",
       "      <td>2017</td>\n",
       "    </tr>\n",
       "  </tbody>\n",
       "</table>\n",
       "<p>3000888 rows × 16 columns</p>\n",
       "</div>"
      ],
      "text/plain": [
       "              id        date  store_nbr  family     sales  onpromotion  \\\n",
       "0              0  2013-01-01          1       0     0.000            0   \n",
       "1              1  2013-01-01          1       1     0.000            0   \n",
       "2              2  2013-01-01          1       2     0.000            0   \n",
       "3              3  2013-01-01          1       3     0.000            0   \n",
       "4              4  2013-01-01          1       4     0.000            0   \n",
       "...          ...         ...        ...     ...       ...          ...   \n",
       "3000883  3000883  2017-08-15          9      28   438.133            0   \n",
       "3000884  3000884  2017-08-15          9      29   154.553            1   \n",
       "3000885  3000885  2017-08-15          9      30  2419.729          148   \n",
       "3000886  3000886  2017-08-15          9      31   121.000            8   \n",
       "3000887  3000887  2017-08-15          9      32    16.000            0   \n",
       "\n",
       "         typeholiday  dcoilwtico  city  state  typestores  cluster  \\\n",
       "0                  3       93.14    18     12           3       13   \n",
       "1                  3       93.14    18     12           3       13   \n",
       "2                  3       93.14    18     12           3       13   \n",
       "3                  3       93.14    18     12           3       13   \n",
       "4                  3       93.14    18     12           3       13   \n",
       "...              ...         ...   ...    ...         ...      ...   \n",
       "3000883            3       47.57    18     12           1        6   \n",
       "3000884            3       47.57    18     12           1        6   \n",
       "3000885            3       47.57    18     12           1        6   \n",
       "3000886            3       47.57    18     12           1        6   \n",
       "3000887            3       47.57    18     12           1        6   \n",
       "\n",
       "         day_of_week  day  month  year  \n",
       "0                  2    1      1  2013  \n",
       "1                  2    1      1  2013  \n",
       "2                  2    1      1  2013  \n",
       "3                  2    1      1  2013  \n",
       "4                  2    1      1  2013  \n",
       "...              ...  ...    ...   ...  \n",
       "3000883            2   15      8  2017  \n",
       "3000884            2   15      8  2017  \n",
       "3000885            2   15      8  2017  \n",
       "3000886            2   15      8  2017  \n",
       "3000887            2   15      8  2017  \n",
       "\n",
       "[3000888 rows x 16 columns]"
      ]
     },
     "execution_count": 3,
     "metadata": {},
     "output_type": "execute_result"
    }
   ],
   "source": [
    "df"
   ]
  },
  {
   "cell_type": "code",
   "execution_count": 4,
   "id": "36186bf5",
   "metadata": {},
   "outputs": [],
   "source": [
    "df.index = pd.to_datetime(df['date'])"
   ]
  },
  {
   "cell_type": "code",
   "execution_count": 5,
   "id": "97048b74",
   "metadata": {},
   "outputs": [
    {
     "data": {
      "text/html": [
       "<div>\n",
       "<style scoped>\n",
       "    .dataframe tbody tr th:only-of-type {\n",
       "        vertical-align: middle;\n",
       "    }\n",
       "\n",
       "    .dataframe tbody tr th {\n",
       "        vertical-align: top;\n",
       "    }\n",
       "\n",
       "    .dataframe thead th {\n",
       "        text-align: right;\n",
       "    }\n",
       "</style>\n",
       "<table border=\"1\" class=\"dataframe\">\n",
       "  <thead>\n",
       "    <tr style=\"text-align: right;\">\n",
       "      <th></th>\n",
       "      <th>id</th>\n",
       "      <th>date</th>\n",
       "      <th>store_nbr</th>\n",
       "      <th>family</th>\n",
       "      <th>sales</th>\n",
       "      <th>onpromotion</th>\n",
       "      <th>typeholiday</th>\n",
       "      <th>dcoilwtico</th>\n",
       "      <th>city</th>\n",
       "      <th>state</th>\n",
       "      <th>typestores</th>\n",
       "      <th>cluster</th>\n",
       "      <th>day_of_week</th>\n",
       "      <th>day</th>\n",
       "      <th>month</th>\n",
       "      <th>year</th>\n",
       "    </tr>\n",
       "    <tr>\n",
       "      <th>date</th>\n",
       "      <th></th>\n",
       "      <th></th>\n",
       "      <th></th>\n",
       "      <th></th>\n",
       "      <th></th>\n",
       "      <th></th>\n",
       "      <th></th>\n",
       "      <th></th>\n",
       "      <th></th>\n",
       "      <th></th>\n",
       "      <th></th>\n",
       "      <th></th>\n",
       "      <th></th>\n",
       "      <th></th>\n",
       "      <th></th>\n",
       "      <th></th>\n",
       "    </tr>\n",
       "  </thead>\n",
       "  <tbody>\n",
       "    <tr>\n",
       "      <th>2013-01-01</th>\n",
       "      <td>0</td>\n",
       "      <td>2013-01-01</td>\n",
       "      <td>1</td>\n",
       "      <td>0</td>\n",
       "      <td>0.0</td>\n",
       "      <td>0</td>\n",
       "      <td>3</td>\n",
       "      <td>93.14</td>\n",
       "      <td>18</td>\n",
       "      <td>12</td>\n",
       "      <td>3</td>\n",
       "      <td>13</td>\n",
       "      <td>2</td>\n",
       "      <td>1</td>\n",
       "      <td>1</td>\n",
       "      <td>2013</td>\n",
       "    </tr>\n",
       "    <tr>\n",
       "      <th>2013-01-01</th>\n",
       "      <td>1</td>\n",
       "      <td>2013-01-01</td>\n",
       "      <td>1</td>\n",
       "      <td>1</td>\n",
       "      <td>0.0</td>\n",
       "      <td>0</td>\n",
       "      <td>3</td>\n",
       "      <td>93.14</td>\n",
       "      <td>18</td>\n",
       "      <td>12</td>\n",
       "      <td>3</td>\n",
       "      <td>13</td>\n",
       "      <td>2</td>\n",
       "      <td>1</td>\n",
       "      <td>1</td>\n",
       "      <td>2013</td>\n",
       "    </tr>\n",
       "    <tr>\n",
       "      <th>2013-01-01</th>\n",
       "      <td>2</td>\n",
       "      <td>2013-01-01</td>\n",
       "      <td>1</td>\n",
       "      <td>2</td>\n",
       "      <td>0.0</td>\n",
       "      <td>0</td>\n",
       "      <td>3</td>\n",
       "      <td>93.14</td>\n",
       "      <td>18</td>\n",
       "      <td>12</td>\n",
       "      <td>3</td>\n",
       "      <td>13</td>\n",
       "      <td>2</td>\n",
       "      <td>1</td>\n",
       "      <td>1</td>\n",
       "      <td>2013</td>\n",
       "    </tr>\n",
       "    <tr>\n",
       "      <th>2013-01-01</th>\n",
       "      <td>3</td>\n",
       "      <td>2013-01-01</td>\n",
       "      <td>1</td>\n",
       "      <td>3</td>\n",
       "      <td>0.0</td>\n",
       "      <td>0</td>\n",
       "      <td>3</td>\n",
       "      <td>93.14</td>\n",
       "      <td>18</td>\n",
       "      <td>12</td>\n",
       "      <td>3</td>\n",
       "      <td>13</td>\n",
       "      <td>2</td>\n",
       "      <td>1</td>\n",
       "      <td>1</td>\n",
       "      <td>2013</td>\n",
       "    </tr>\n",
       "    <tr>\n",
       "      <th>2013-01-01</th>\n",
       "      <td>4</td>\n",
       "      <td>2013-01-01</td>\n",
       "      <td>1</td>\n",
       "      <td>4</td>\n",
       "      <td>0.0</td>\n",
       "      <td>0</td>\n",
       "      <td>3</td>\n",
       "      <td>93.14</td>\n",
       "      <td>18</td>\n",
       "      <td>12</td>\n",
       "      <td>3</td>\n",
       "      <td>13</td>\n",
       "      <td>2</td>\n",
       "      <td>1</td>\n",
       "      <td>1</td>\n",
       "      <td>2013</td>\n",
       "    </tr>\n",
       "  </tbody>\n",
       "</table>\n",
       "</div>"
      ],
      "text/plain": [
       "            id        date  store_nbr  family  sales  onpromotion  \\\n",
       "date                                                                \n",
       "2013-01-01   0  2013-01-01          1       0    0.0            0   \n",
       "2013-01-01   1  2013-01-01          1       1    0.0            0   \n",
       "2013-01-01   2  2013-01-01          1       2    0.0            0   \n",
       "2013-01-01   3  2013-01-01          1       3    0.0            0   \n",
       "2013-01-01   4  2013-01-01          1       4    0.0            0   \n",
       "\n",
       "            typeholiday  dcoilwtico  city  state  typestores  cluster  \\\n",
       "date                                                                    \n",
       "2013-01-01            3       93.14    18     12           3       13   \n",
       "2013-01-01            3       93.14    18     12           3       13   \n",
       "2013-01-01            3       93.14    18     12           3       13   \n",
       "2013-01-01            3       93.14    18     12           3       13   \n",
       "2013-01-01            3       93.14    18     12           3       13   \n",
       "\n",
       "            day_of_week  day  month  year  \n",
       "date                                       \n",
       "2013-01-01            2    1      1  2013  \n",
       "2013-01-01            2    1      1  2013  \n",
       "2013-01-01            2    1      1  2013  \n",
       "2013-01-01            2    1      1  2013  \n",
       "2013-01-01            2    1      1  2013  "
      ]
     },
     "execution_count": 5,
     "metadata": {},
     "output_type": "execute_result"
    }
   ],
   "source": [
    "df.head()"
   ]
  },
  {
   "cell_type": "code",
   "execution_count": 6,
   "id": "a9650a02",
   "metadata": {},
   "outputs": [],
   "source": [
    "sales = df['sales']"
   ]
  },
  {
   "cell_type": "code",
   "execution_count": 7,
   "id": "e85ffed8",
   "metadata": {},
   "outputs": [
    {
     "data": {
      "text/plain": [
       "<Axes: xlabel='date'>"
      ]
     },
     "execution_count": 7,
     "metadata": {},
     "output_type": "execute_result"
    },
    {
     "data": {
      "image/png": "[encoded data removed]",
      "text/plain": [
       "<Figure size 640x480 with 1 Axes>"
      ]
     },
     "metadata": {},
     "output_type": "display_data"
    }
   ],
   "source": [
    "sales.plot()"
   ]
  },
  {
   "cell_type": "code",
   "execution_count": 8,
   "id": "1ddeaa3b",
   "metadata": {},
   "outputs": [],
   "source": [
    "def df_to_X_y(df, window_size=7):\n",
    "  df_as_np = df.to_numpy()\n",
    "  X = []\n",
    "  y = []\n",
    "  for i in range(len(df_as_np)-window_size):\n",
    "    row = [[a] for a in df_as_np[i:i+window_size]]\n",
    "    X.append(row)\n",
    "    label = df_as_np[i+window_size]\n",
    "    y.append(label)\n",
    "  return np.array(X), np.array(y)"
   ]
  },
  {
   "cell_type": "code",
   "execution_count": 9,
   "id": "c0042bec",
   "metadata": {},
   "outputs": [],
   "source": [
    "WINDOW_SIZE = 7"
   ]
  },
  {
   "cell_type": "code",
   "execution_count": 10,
   "id": "d5e91fd3",
   "metadata": {},
   "outputs": [],
   "source": [
    "X1, y1 = df_to_X_y(sales, WINDOW_SIZE)"
   ]
  },
  {
   "cell_type": "code",
   "execution_count": 11,
   "id": "8bdd8209",
   "metadata": {},
   "outputs": [
    {
     "data": {
      "text/plain": [
       "((3000881, 7, 1), (3000881,))"
      ]
     },
     "execution_count": 11,
     "metadata": {},
     "output_type": "execute_result"
    }
   ],
   "source": [
    "X1.shape, y1.shape"
   ]
  },
  {
   "cell_type": "code",
   "execution_count": 12,
   "id": "34f629be",
   "metadata": {},
   "outputs": [],
   "source": [
    "X_train1, y_train1 = X1[:2400710], y1[:2400710]\n",
    "X_val1, y_val1 = X1[2400710:2700799], y1[2400710:2700799]\n",
    "X_test1, y_test1 = X1[2700799:], y1[2700799:]"
   ]
  },
  {
   "cell_type": "code",
   "execution_count": 13,
   "id": "861bcc5d",
   "metadata": {},
   "outputs": [
    {
     "data": {
      "text/plain": [
       "((2400710, 7, 1),\n",
       " (2400710,),\n",
       " (300089, 7, 1),\n",
       " (300089,),\n",
       " (300082, 7, 1),\n",
       " (300082,))"
      ]
     },
     "execution_count": 13,
     "metadata": {},
     "output_type": "execute_result"
    }
   ],
   "source": [
    "X_train1.shape, y_train1.shape, X_val1.shape, y_val1.shape, X_test1.shape, y_test1.shape"
   ]
  },
  {
   "cell_type": "code",
   "execution_count": 14,
   "id": "46fb26a6",
   "metadata": {},
   "outputs": [],
   "source": [
    "from tensorflow.keras.models import Sequential, load_model\n",
    "from tensorflow.keras.layers import *\n",
    "from tensorflow.keras.callbacks import ModelCheckpoint\n",
    "from tensorflow.keras.losses import MeanSquaredError\n",
    "from tensorflow.keras.metrics import RootMeanSquaredError\n",
    "from tensorflow.keras.optimizers import Adam"
   ]
  },
  {
   "cell_type": "code",
   "execution_count": 15,
   "id": "017d79ff",
   "metadata": {},
   "outputs": [],
   "source": [
    "model1 = Sequential()\n",
    "model1.add(InputLayer((7, 1)))\n",
    "model1.add(LSTM(64))\n",
    "model1.add(Dense(8, 'relu'))\n",
    "model1.add(Dense(1, 'relu'))"
   ]
  },
  {
   "cell_type": "code",
   "execution_count": 16,
   "id": "cf44bb08",
   "metadata": {},
   "outputs": [
    {
     "name": "stdout",
     "output_type": "stream",
     "text": [
      "Model: \"sequential\"\n",
      "_________________________________________________________________\n",
      " Layer (type)                Output Shape              Param #   \n",
      "=================================================================\n",
      " lstm (LSTM)                 (None, 64)                16896     \n",
      "                                                                 \n",
      " dense (Dense)               (None, 8)                 520       \n",
      "                                                                 \n",
      " dense_1 (Dense)             (None, 1)                 9         \n",
      "                                                                 \n",
      "=================================================================\n",
      "Total params: 17425 (68.07 KB)\n",
      "Trainable params: 17425 (68.07 KB)\n",
      "Non-trainable params: 0 (0.00 Byte)\n",
      "_________________________________________________________________\n"
     ]
    }
   ],
   "source": [
    "model1.summary()"
   ]
  },
  {
   "cell_type": "code",
   "execution_count": 17,
   "id": "51853479",
   "metadata": {},
   "outputs": [],
   "source": [
    "cp1 = ModelCheckpoint('model1/', save_best_only=True)"
   ]
  },
  {
   "cell_type": "code",
   "execution_count": 18,
   "id": "fe88e75e",
   "metadata": {},
   "outputs": [
    {
     "name": "stderr",
     "output_type": "stream",
     "text": [
      "WARNING:absl:At this time, the v2.11+ optimizer `tf.keras.optimizers.Adam` runs slowly on M1/M2 Macs, please use the legacy Keras optimizer instead, located at `tf.keras.optimizers.legacy.Adam`.\n"
     ]
    }
   ],
   "source": [
    "model1.compile(loss=MeanSquaredError(), optimizer=Adam(learning_rate=0.0001), metrics=[RootMeanSquaredError()])"
   ]
  },
  {
   "cell_type": "code",
   "execution_count": 19,
   "id": "6af963db",
   "metadata": {},
   "outputs": [
    {
     "name": "stdout",
     "output_type": "stream",
     "text": [
      "Epoch 1/10\n",
      "2401/2401 [==============================] - ETA: 0s - loss: 1148932.0000 - root_mean_squared_error: 1071.8824INFO:tensorflow:Assets written to: model1/assets\n"
     ]
    },
    {
     "name": "stderr",
     "output_type": "stream",
     "text": [
      "INFO:tensorflow:Assets written to: model1/assets\n"
     ]
    },
    {
     "name": "stdout",
     "output_type": "stream",
     "text": [
      "2401/2401 [==============================] - 31s 13ms/step - loss: 1148932.0000 - root_mean_squared_error: 1071.8824 - val_loss: 2051859.7500 - val_root_mean_squared_error: 1432.4314\n",
      "Epoch 2/10\n",
      "2400/2401 [============================>.] - ETA: 0s - loss: 1126518.6250 - root_mean_squared_error: 1061.3759INFO:tensorflow:Assets written to: model1/assets\n"
     ]
    },
    {
     "name": "stderr",
     "output_type": "stream",
     "text": [
      "INFO:tensorflow:Assets written to: model1/assets\n"
     ]
    },
    {
     "name": "stdout",
     "output_type": "stream",
     "text": [
      "2401/2401 [==============================] - 31s 13ms/step - loss: 1126563.0000 - root_mean_squared_error: 1061.3967 - val_loss: 2014181.8750 - val_root_mean_squared_error: 1419.2186\n",
      "Epoch 3/10\n",
      "2398/2401 [============================>.] - ETA: 0s - loss: 1099423.7500 - root_mean_squared_error: 1048.5341INFO:tensorflow:Assets written to: model1/assets\n"
     ]
    },
    {
     "name": "stderr",
     "output_type": "stream",
     "text": [
      "INFO:tensorflow:Assets written to: model1/assets\n"
     ]
    },
    {
     "name": "stdout",
     "output_type": "stream",
     "text": [
      "2401/2401 [==============================] - 31s 13ms/step - loss: 1099643.5000 - root_mean_squared_error: 1048.6389 - val_loss: 1971155.6250 - val_root_mean_squared_error: 1403.9785\n",
      "Epoch 4/10\n",
      "2400/2401 [============================>.] - ETA: 0s - loss: 1073622.3750 - root_mean_squared_error: 1036.1575INFO:tensorflow:Assets written to: model1/assets\n"
     ]
    },
    {
     "name": "stderr",
     "output_type": "stream",
     "text": [
      "INFO:tensorflow:Assets written to: model1/assets\n"
     ]
    },
    {
     "name": "stdout",
     "output_type": "stream",
     "text": [
      "2401/2401 [==============================] - 31s 13ms/step - loss: 1073513.7500 - root_mean_squared_error: 1036.1051 - val_loss: 1929351.8750 - val_root_mean_squared_error: 1389.0111\n",
      "Epoch 5/10\n",
      "2399/2401 [============================>.] - ETA: 0s - loss: 1052758.1250 - root_mean_squared_error: 1026.0400INFO:tensorflow:Assets written to: model1/assets\n"
     ]
    },
    {
     "name": "stderr",
     "output_type": "stream",
     "text": [
      "INFO:tensorflow:Assets written to: model1/assets\n"
     ]
    },
    {
     "name": "stdout",
     "output_type": "stream",
     "text": [
      "2401/2401 [==============================] - 32s 13ms/step - loss: 1052763.1250 - root_mean_squared_error: 1026.0425 - val_loss: 1894673.5000 - val_root_mean_squared_error: 1376.4714\n",
      "Epoch 6/10\n",
      "2398/2401 [============================>.] - ETA: 0s - loss: 1040106.6250 - root_mean_squared_error: 1019.8562INFO:tensorflow:Assets written to: model1/assets\n"
     ]
    },
    {
     "name": "stderr",
     "output_type": "stream",
     "text": [
      "INFO:tensorflow:Assets written to: model1/assets\n"
     ]
    },
    {
     "name": "stdout",
     "output_type": "stream",
     "text": [
      "2401/2401 [==============================] - 31s 13ms/step - loss: 1040462.6250 - root_mean_squared_error: 1020.0307 - val_loss: 1871400.7500 - val_root_mean_squared_error: 1367.9915\n",
      "Epoch 7/10\n",
      "2399/2401 [============================>.] - ETA: 0s - loss: 1010712.7500 - root_mean_squared_error: 1005.3421INFO:tensorflow:Assets written to: model1/assets\n"
     ]
    },
    {
     "name": "stderr",
     "output_type": "stream",
     "text": [
      "INFO:tensorflow:Assets written to: model1/assets\n"
     ]
    },
    {
     "name": "stdout",
     "output_type": "stream",
     "text": [
      "2401/2401 [==============================] - 31s 13ms/step - loss: 1010874.8750 - root_mean_squared_error: 1005.4227 - val_loss: 1786290.1250 - val_root_mean_squared_error: 1336.5216\n",
      "Epoch 8/10\n",
      "2401/2401 [==============================] - ETA: 0s - loss: 939278.5625 - root_mean_squared_error: 969.1638INFO:tensorflow:Assets written to: model1/assets\n"
     ]
    },
    {
     "name": "stderr",
     "output_type": "stream",
     "text": [
      "INFO:tensorflow:Assets written to: model1/assets\n"
     ]
    },
    {
     "name": "stdout",
     "output_type": "stream",
     "text": [
      "2401/2401 [==============================] - 31s 13ms/step - loss: 939278.5625 - root_mean_squared_error: 969.1638 - val_loss: 1695032.2500 - val_root_mean_squared_error: 1301.9341\n",
      "Epoch 9/10\n",
      "2400/2401 [============================>.] - ETA: 0s - loss: 892617.8750 - root_mean_squared_error: 944.7845INFO:tensorflow:Assets written to: model1/assets\n"
     ]
    },
    {
     "name": "stderr",
     "output_type": "stream",
     "text": [
      "INFO:tensorflow:Assets written to: model1/assets\n"
     ]
    },
    {
     "name": "stdout",
     "output_type": "stream",
     "text": [
      "2401/2401 [==============================] - 31s 13ms/step - loss: 892513.7500 - root_mean_squared_error: 944.7294 - val_loss: 1637684.2500 - val_root_mean_squared_error: 1279.7203\n",
      "Epoch 10/10\n",
      "2400/2401 [============================>.] - ETA: 0s - loss: 851361.8125 - root_mean_squared_error: 922.6927INFO:tensorflow:Assets written to: model1/assets\n"
     ]
    },
    {
     "name": "stderr",
     "output_type": "stream",
     "text": [
      "INFO:tensorflow:Assets written to: model1/assets\n"
     ]
    },
    {
     "name": "stdout",
     "output_type": "stream",
     "text": [
      "\b\b\b\b\b\b\b\b\b\b\b\b\b\b\b\b\b\b\b\b\b\b\b\b\b\b\b\b\b\b\b\b\b\b\b\b\b\b\b\b\b\b\b\b\b\b\b\b\b\b\b\b\b\b\b\b\b\b\b\b\b\b\b\b\b\b\b\b\b\b\b\b\b\b\b\b\b\b\b\b\b\b\b\b\b\b\b\b\b\b\b\b\b\b\b\b\b\b\b\b\b\b\b\b\b\b\b\b\r",
      "2401/2401 [==============================] - 31s 13ms/step - loss: 851294.8750 - root_mean_squared_error: 922.6564 - val_loss: 1565114.6250 - val_root_mean_squared_error: 1251.0454\n"
     ]
    },
    {
     "data": {
      "text/plain": [
       "<keras.src.callbacks.History at 0x39d44cc10>"
      ]
     },
     "execution_count": 19,
     "metadata": {},
     "output_type": "execute_result"
    }
   ],
   "source": [
    "model1.fit(X_train1, y_train1, validation_data=(X_val1, y_val1), batch_size=1000, epochs=10, callbacks=[cp1])"
   ]
  },
  {
   "cell_type": "code",
   "execution_count": 20,
   "id": "b47734a0",
   "metadata": {},
   "outputs": [
    {
     "name": "stderr",
     "output_type": "stream",
     "text": [
      "WARNING:absl:At this time, the v2.11+ optimizer `tf.keras.optimizers.RestoredOptimizer` runs slowly on M1/M2 Macs, please use the legacy Keras optimizer instead, located at `tf.keras.optimizers.legacy.RestoredOptimizer`.\n",
      "WARNING:absl:At this time, the v2.11+ optimizer `tf.keras.optimizers.Adam` runs slowly on M1/M2 Macs, please use the legacy Keras optimizer instead, located at `tf.keras.optimizers.legacy.Adam`.\n"
     ]
    }
   ],
   "source": [
    "model1 = load_model('model1/')"
   ]
  },
  {
   "cell_type": "code",
   "execution_count": 38,
   "id": "8977e639",
   "metadata": {},
   "outputs": [],
   "source": [
    "import matplotlib.pyplot as plt\n",
    "from sklearn.metrics import mean_squared_error as mse\n",
    "\n",
    "def plot_predictions1(model, X, y, start=0, end=100):\n",
    "  predictions = model.predict(X).flatten()\n",
    "  df = pd.DataFrame(data={'Predictions':predictions, 'Actuals':y})\n",
    "  plt.plot(df['Predictions'][start:end])\n",
    "  plt.plot(df['Actuals'][start:end])\n",
    "  return"
   ]
  },
  {
   "cell_type": "code",
   "execution_count": 41,
   "id": "aed3a8cc",
   "metadata": {},
   "outputs": [
    {
     "name": "stdout",
     "output_type": "stream",
     "text": [
      "75023/75023 [==============================] - 35s 466us/step\n"
     ]
    },
    {
     "data": {
      "image/png": "[encoded data removed]",
      "text/plain": [
       "<Figure size 640x480 with 1 Axes>"
      ]
     },
     "metadata": {},
     "output_type": "display_data"
    }
   ],
   "source": [
    "plot_predictions1(model1, X_train1, y_train1, 4900, 5000)"
   ]
  },
  {
   "cell_type": "code",
   "execution_count": 42,
   "id": "418fe1c4",
   "metadata": {},
   "outputs": [
    {
     "name": "stdout",
     "output_type": "stream",
     "text": [
      "9378/9378 [==============================] - 5s 481us/step\n"
     ]
    },
    {
     "data": {
      "image/png": "[encoded data removed]",
      "text/plain": [
       "<Figure size 640x480 with 1 Axes>"
      ]
     },
     "metadata": {},
     "output_type": "display_data"
    }
   ],
   "source": [
    "plot_predictions1(model1, X_val1, y_val1, 900, 1000)"
   ]
  },
  {
   "cell_type": "code",
   "execution_count": 43,
   "id": "51d9a71c",
   "metadata": {},
   "outputs": [
    {
     "name": "stdout",
     "output_type": "stream",
     "text": [
      "9378/9378 [==============================] - 4s 473us/step\n"
     ]
    },
    {
     "data": {
      "image/png": "[encoded data removed]",
      "text/plain": [
       "<Figure size 640x480 with 1 Axes>"
      ]
     },
     "metadata": {},
     "output_type": "display_data"
    }
   ],
   "source": [
    "plot_predictions1(model1, X_test1, y_test1, 900, 1000)"
   ]
  },
  {
   "cell_type": "code",
   "execution_count": 49,
   "id": "7d134c40",
   "metadata": {},
   "outputs": [],
   "source": [
    "model2 = Sequential()\n",
    "model2.add(InputLayer((7, 1)))\n",
    "model2.add(GRU(64))\n",
    "model2.add(Dense(8, 'relu'))\n",
    "model2.add(Dense(1, 'relu'))"
   ]
  },
  {
   "cell_type": "code",
   "execution_count": 50,
   "id": "e75fbcd4",
   "metadata": {},
   "outputs": [
    {
     "name": "stdout",
     "output_type": "stream",
     "text": [
      "Model: \"sequential_3\"\n",
      "_________________________________________________________________\n",
      " Layer (type)                Output Shape              Param #   \n",
      "=================================================================\n",
      " gru_2 (GRU)                 (None, 64)                12864     \n",
      "                                                                 \n",
      " dense_6 (Dense)             (None, 8)                 520       \n",
      "                                                                 \n",
      " dense_7 (Dense)             (None, 1)                 9         \n",
      "                                                                 \n",
      "=================================================================\n",
      "Total params: 13393 (52.32 KB)\n",
      "Trainable params: 13393 (52.32 KB)\n",
      "Non-trainable params: 0 (0.00 Byte)\n",
      "_________________________________________________________________\n"
     ]
    }
   ],
   "source": [
    "model2.summary()"
   ]
  },
  {
   "cell_type": "code",
   "execution_count": 51,
   "id": "45121ff4",
   "metadata": {},
   "outputs": [
    {
     "name": "stderr",
     "output_type": "stream",
     "text": [
      "WARNING:absl:At this time, the v2.11+ optimizer `tf.keras.optimizers.Adam` runs slowly on M1/M2 Macs, please use the legacy Keras optimizer instead, located at `tf.keras.optimizers.legacy.Adam`.\n"
     ]
    }
   ],
   "source": [
    "cp2 = ModelCheckpoint('model2/', save_best_only=True)\n",
    "model2.compile(loss=MeanSquaredError(), optimizer=Adam(learning_rate=0.0001), metrics=[RootMeanSquaredError()])"
   ]
  },
  {
   "cell_type": "code",
   "execution_count": 53,
   "id": "51bb9cba",
   "metadata": {},
   "outputs": [
    {
     "name": "stdout",
     "output_type": "stream",
     "text": [
      "Epoch 1/10\n",
      "2400/2401 [============================>.] - ETA: 0s - loss: 1108310.0000 - root_mean_squared_error: 1052.7631INFO:tensorflow:Assets written to: model2/assets\n"
     ]
    },
    {
     "name": "stderr",
     "output_type": "stream",
     "text": [
      "INFO:tensorflow:Assets written to: model2/assets\n"
     ]
    },
    {
     "name": "stdout",
     "output_type": "stream",
     "text": [
      "2401/2401 [==============================] - 27s 11ms/step - loss: 1108272.6250 - root_mean_squared_error: 1052.7452 - val_loss: 1978856.0000 - val_root_mean_squared_error: 1406.7181\n",
      "Epoch 2/10\n",
      "2399/2401 [============================>.] - ETA: 0s - loss: 1074711.6250 - root_mean_squared_error: 1036.6830INFO:tensorflow:Assets written to: model2/assets\n"
     ]
    },
    {
     "name": "stderr",
     "output_type": "stream",
     "text": [
      "INFO:tensorflow:Assets written to: model2/assets\n"
     ]
    },
    {
     "name": "stdout",
     "output_type": "stream",
     "text": [
      "2401/2401 [==============================] - 27s 11ms/step - loss: 1074804.3750 - root_mean_squared_error: 1036.7278 - val_loss: 1926388.7500 - val_root_mean_squared_error: 1387.9441\n",
      "Epoch 3/10\n",
      "2400/2401 [============================>.] - ETA: 0s - loss: 1045779.6875 - root_mean_squared_error: 1022.6337INFO:tensorflow:Assets written to: model2/assets\n"
     ]
    },
    {
     "name": "stderr",
     "output_type": "stream",
     "text": [
      "INFO:tensorflow:Assets written to: model2/assets\n"
     ]
    },
    {
     "name": "stdout",
     "output_type": "stream",
     "text": [
      "2401/2401 [==============================] - 26s 11ms/step - loss: 1046076.7500 - root_mean_squared_error: 1022.7789 - val_loss: 1873921.7500 - val_root_mean_squared_error: 1368.9126\n",
      "Epoch 4/10\n",
      "2401/2401 [==============================] - ETA: 0s - loss: 1000222.7500 - root_mean_squared_error: 1000.1114INFO:tensorflow:Assets written to: model2/assets\n"
     ]
    },
    {
     "name": "stderr",
     "output_type": "stream",
     "text": [
      "INFO:tensorflow:Assets written to: model2/assets\n"
     ]
    },
    {
     "name": "stdout",
     "output_type": "stream",
     "text": [
      "2401/2401 [==============================] - 26s 11ms/step - loss: 1000222.7500 - root_mean_squared_error: 1000.1114 - val_loss: 1777867.2500 - val_root_mean_squared_error: 1333.3669\n",
      "Epoch 5/10\n",
      "2400/2401 [============================>.] - ETA: 0s - loss: 930486.1250 - root_mean_squared_error: 964.6171INFO:tensorflow:Assets written to: model2/assets\n"
     ]
    },
    {
     "name": "stderr",
     "output_type": "stream",
     "text": [
      "INFO:tensorflow:Assets written to: model2/assets\n"
     ]
    },
    {
     "name": "stdout",
     "output_type": "stream",
     "text": [
      "2401/2401 [==============================] - 26s 11ms/step - loss: 930525.0000 - root_mean_squared_error: 964.6372 - val_loss: 1669787.1250 - val_root_mean_squared_error: 1292.2024\n",
      "Epoch 6/10\n",
      "2396/2401 [============================>.] - ETA: 0s - loss: 855683.1250 - root_mean_squared_error: 925.0314INFO:tensorflow:Assets written to: model2/assets\n"
     ]
    },
    {
     "name": "stderr",
     "output_type": "stream",
     "text": [
      "INFO:tensorflow:Assets written to: model2/assets\n"
     ]
    },
    {
     "name": "stdout",
     "output_type": "stream",
     "text": [
      "2401/2401 [==============================] - 26s 11ms/step - loss: 855790.8125 - root_mean_squared_error: 925.0896 - val_loss: 1557018.1250 - val_root_mean_squared_error: 1247.8053\n",
      "Epoch 7/10\n",
      "2398/2401 [============================>.] - ETA: 0s - loss: 784905.2500 - root_mean_squared_error: 885.9488INFO:tensorflow:Assets written to: model2/assets\n"
     ]
    },
    {
     "name": "stderr",
     "output_type": "stream",
     "text": [
      "INFO:tensorflow:Assets written to: model2/assets\n"
     ]
    },
    {
     "name": "stdout",
     "output_type": "stream",
     "text": [
      "2401/2401 [==============================] - 26s 11ms/step - loss: 784588.6875 - root_mean_squared_error: 885.7701 - val_loss: 1453757.1250 - val_root_mean_squared_error: 1205.7185\n",
      "Epoch 8/10\n",
      "2401/2401 [==============================] - ETA: 0s - loss: 718747.8750 - root_mean_squared_error: 847.7900INFO:tensorflow:Assets written to: model2/assets\n"
     ]
    },
    {
     "name": "stderr",
     "output_type": "stream",
     "text": [
      "INFO:tensorflow:Assets written to: model2/assets\n"
     ]
    },
    {
     "name": "stdout",
     "output_type": "stream",
     "text": [
      "2401/2401 [==============================] - 26s 11ms/step - loss: 718747.8750 - root_mean_squared_error: 847.7900 - val_loss: 1345506.2500 - val_root_mean_squared_error: 1159.9596\n",
      "Epoch 9/10\n",
      "2400/2401 [============================>.] - ETA: 0s - loss: 656685.8750 - root_mean_squared_error: 810.3616INFO:tensorflow:Assets written to: model2/assets\n"
     ]
    },
    {
     "name": "stderr",
     "output_type": "stream",
     "text": [
      "INFO:tensorflow:Assets written to: model2/assets\n"
     ]
    },
    {
     "name": "stdout",
     "output_type": "stream",
     "text": [
      "2401/2401 [==============================] - 26s 11ms/step - loss: 656660.7500 - root_mean_squared_error: 810.3461 - val_loss: 1245866.3750 - val_root_mean_squared_error: 1116.1838\n",
      "Epoch 10/10\n",
      "2401/2401 [==============================] - ETA: 0s - loss: 597696.3750 - root_mean_squared_error: 773.1083INFO:tensorflow:Assets written to: model2/assets\n"
     ]
    },
    {
     "name": "stderr",
     "output_type": "stream",
     "text": [
      "INFO:tensorflow:Assets written to: model2/assets\n"
     ]
    },
    {
     "name": "stdout",
     "output_type": "stream",
     "text": [
      "\b\b\b\b\b\b\b\b\b\b\b\b\b\b\b\b\b\b\b\b\b\b\b\b\b\b\b\b\b\b\b\b\b\b\b\b\b\b\b\b\b\b\b\b\b\b\b\b\b\b\b\b\b\b\b\b\b\b\b\b\b\b\b\b\b\b\b\b\b\b\b\b\b\b\b\b\b\b\b\b\b\b\b\b\b\b\b\b\b\b\b\b\b\b\b\b\b\b\b\b\b\b\b\b\b\b\b\b\r",
      "2401/2401 [==============================] - 26s 11ms/step - loss: 597696.3750 - root_mean_squared_error: 773.1083 - val_loss: 1148273.5000 - val_root_mean_squared_error: 1071.5752\n"
     ]
    },
    {
     "data": {
      "text/plain": [
       "<keras.src.callbacks.History at 0x14e57b4d0>"
      ]
     },
     "execution_count": 53,
     "metadata": {},
     "output_type": "execute_result"
    }
   ],
   "source": [
    "model2.fit(X_train1, y_train1, validation_data=(X_val1, y_val1), batch_size=1000, epochs=10, callbacks=[cp2])"
   ]
  },
  {
   "cell_type": "code",
   "execution_count": 58,
   "id": "7c78b4fb",
   "metadata": {},
   "outputs": [],
   "source": [
    "df = df.drop(['id','date'], axis=1)"
   ]
  },
  {
   "cell_type": "code",
   "execution_count": 59,
   "id": "a614ec2d",
   "metadata": {},
   "outputs": [
    {
     "data": {
      "text/html": [
       "<div>\n",
       "<style scoped>\n",
       "    .dataframe tbody tr th:only-of-type {\n",
       "        vertical-align: middle;\n",
       "    }\n",
       "\n",
       "    .dataframe tbody tr th {\n",
       "        vertical-align: top;\n",
       "    }\n",
       "\n",
       "    .dataframe thead th {\n",
       "        text-align: right;\n",
       "    }\n",
       "</style>\n",
       "<table border=\"1\" class=\"dataframe\">\n",
       "  <thead>\n",
       "    <tr style=\"text-align: right;\">\n",
       "      <th></th>\n",
       "      <th>store_nbr</th>\n",
       "      <th>family</th>\n",
       "      <th>sales</th>\n",
       "      <th>onpromotion</th>\n",
       "      <th>typeholiday</th>\n",
       "      <th>dcoilwtico</th>\n",
       "      <th>city</th>\n",
       "      <th>state</th>\n",
       "      <th>typestores</th>\n",
       "      <th>cluster</th>\n",
       "      <th>day_of_week</th>\n",
       "      <th>day</th>\n",
       "      <th>month</th>\n",
       "      <th>year</th>\n",
       "    </tr>\n",
       "    <tr>\n",
       "      <th>date</th>\n",
       "      <th></th>\n",
       "      <th></th>\n",
       "      <th></th>\n",
       "      <th></th>\n",
       "      <th></th>\n",
       "      <th></th>\n",
       "      <th></th>\n",
       "      <th></th>\n",
       "      <th></th>\n",
       "      <th></th>\n",
       "      <th></th>\n",
       "      <th></th>\n",
       "      <th></th>\n",
       "      <th></th>\n",
       "    </tr>\n",
       "  </thead>\n",
       "  <tbody>\n",
       "    <tr>\n",
       "      <th>2013-01-01</th>\n",
       "      <td>1</td>\n",
       "      <td>0</td>\n",
       "      <td>0.0</td>\n",
       "      <td>0</td>\n",
       "      <td>3</td>\n",
       "      <td>93.14</td>\n",
       "      <td>18</td>\n",
       "      <td>12</td>\n",
       "      <td>3</td>\n",
       "      <td>13</td>\n",
       "      <td>2</td>\n",
       "      <td>1</td>\n",
       "      <td>1</td>\n",
       "      <td>2013</td>\n",
       "    </tr>\n",
       "    <tr>\n",
       "      <th>2013-01-01</th>\n",
       "      <td>1</td>\n",
       "      <td>1</td>\n",
       "      <td>0.0</td>\n",
       "      <td>0</td>\n",
       "      <td>3</td>\n",
       "      <td>93.14</td>\n",
       "      <td>18</td>\n",
       "      <td>12</td>\n",
       "      <td>3</td>\n",
       "      <td>13</td>\n",
       "      <td>2</td>\n",
       "      <td>1</td>\n",
       "      <td>1</td>\n",
       "      <td>2013</td>\n",
       "    </tr>\n",
       "    <tr>\n",
       "      <th>2013-01-01</th>\n",
       "      <td>1</td>\n",
       "      <td>2</td>\n",
       "      <td>0.0</td>\n",
       "      <td>0</td>\n",
       "      <td>3</td>\n",
       "      <td>93.14</td>\n",
       "      <td>18</td>\n",
       "      <td>12</td>\n",
       "      <td>3</td>\n",
       "      <td>13</td>\n",
       "      <td>2</td>\n",
       "      <td>1</td>\n",
       "      <td>1</td>\n",
       "      <td>2013</td>\n",
       "    </tr>\n",
       "    <tr>\n",
       "      <th>2013-01-01</th>\n",
       "      <td>1</td>\n",
       "      <td>3</td>\n",
       "      <td>0.0</td>\n",
       "      <td>0</td>\n",
       "      <td>3</td>\n",
       "      <td>93.14</td>\n",
       "      <td>18</td>\n",
       "      <td>12</td>\n",
       "      <td>3</td>\n",
       "      <td>13</td>\n",
       "      <td>2</td>\n",
       "      <td>1</td>\n",
       "      <td>1</td>\n",
       "      <td>2013</td>\n",
       "    </tr>\n",
       "    <tr>\n",
       "      <th>2013-01-01</th>\n",
       "      <td>1</td>\n",
       "      <td>4</td>\n",
       "      <td>0.0</td>\n",
       "      <td>0</td>\n",
       "      <td>3</td>\n",
       "      <td>93.14</td>\n",
       "      <td>18</td>\n",
       "      <td>12</td>\n",
       "      <td>3</td>\n",
       "      <td>13</td>\n",
       "      <td>2</td>\n",
       "      <td>1</td>\n",
       "      <td>1</td>\n",
       "      <td>2013</td>\n",
       "    </tr>\n",
       "  </tbody>\n",
       "</table>\n",
       "</div>"
      ],
      "text/plain": [
       "            store_nbr  family  sales  onpromotion  typeholiday  dcoilwtico  \\\n",
       "date                                                                         \n",
       "2013-01-01          1       0    0.0            0            3       93.14   \n",
       "2013-01-01          1       1    0.0            0            3       93.14   \n",
       "2013-01-01          1       2    0.0            0            3       93.14   \n",
       "2013-01-01          1       3    0.0            0            3       93.14   \n",
       "2013-01-01          1       4    0.0            0            3       93.14   \n",
       "\n",
       "            city  state  typestores  cluster  day_of_week  day  month  year  \n",
       "date                                                                         \n",
       "2013-01-01    18     12           3       13            2    1      1  2013  \n",
       "2013-01-01    18     12           3       13            2    1      1  2013  \n",
       "2013-01-01    18     12           3       13            2    1      1  2013  \n",
       "2013-01-01    18     12           3       13            2    1      1  2013  \n",
       "2013-01-01    18     12           3       13            2    1      1  2013  "
      ]
     },
     "execution_count": 59,
     "metadata": {},
     "output_type": "execute_result"
    }
   ],
   "source": [
    "df.head()"
   ]
  },
  {
   "cell_type": "code",
   "execution_count": 61,
   "id": "b19aa941",
   "metadata": {},
   "outputs": [],
   "source": [
    "def df_to_X_y2(df, window_size=7):\n",
    "  df_as_np = df.to_numpy()\n",
    "  X = []\n",
    "  y = []\n",
    "  for i in range(len(df_as_np)-window_size):\n",
    "    row = [r for r in df_as_np[i:i+window_size]]\n",
    "    X.append(row)\n",
    "    label = df_as_np[i+window_size][0]\n",
    "    y.append(label)\n",
    "  return np.array(X), np.array(y)"
   ]
  },
  {
   "cell_type": "code",
   "execution_count": 63,
   "id": "26691ec8",
   "metadata": {},
   "outputs": [],
   "source": [
    "X2, y2 = df_to_X_y2(df)"
   ]
  },
  {
   "cell_type": "code",
   "execution_count": 64,
   "id": "772ff6d4",
   "metadata": {},
   "outputs": [
    {
     "data": {
      "text/plain": [
       "((3000881, 7, 14), (3000881,))"
      ]
     },
     "execution_count": 64,
     "metadata": {},
     "output_type": "execute_result"
    }
   ],
   "source": [
    "X2.shape, y2.shape"
   ]
  },
  {
   "cell_type": "code",
   "execution_count": 65,
   "id": "3de43a11",
   "metadata": {},
   "outputs": [],
   "source": [
    "X_train2, y_train2 = X2[:2400710], y2[:2400710]\n",
    "X_val2, y_val2 = X2[2400710:2700799], y2[2400710:2700799]\n",
    "X_test2, y_test2 = X2[2700799:], y2[2700799:]"
   ]
  },
  {
   "cell_type": "code",
   "execution_count": 66,
   "id": "a74029fc",
   "metadata": {},
   "outputs": [
    {
     "data": {
      "text/plain": [
       "((2400710, 7, 14),\n",
       " (2400710,),\n",
       " (300089, 7, 14),\n",
       " (300089,),\n",
       " (300082, 7, 14),\n",
       " (300082,))"
      ]
     },
     "execution_count": 66,
     "metadata": {},
     "output_type": "execute_result"
    }
   ],
   "source": [
    "X_train2.shape, y_train2.shape, X_val2.shape, y_val2.shape, X_test2.shape, y_test2.shape"
   ]
  },
  {
   "cell_type": "code",
   "execution_count": 67,
   "id": "507b7ad6",
   "metadata": {},
   "outputs": [],
   "source": [
    "model3 = Sequential()\n",
    "model3.add(InputLayer((7, 14)))\n",
    "model3.add(LSTM(64))\n",
    "model3.add(Dense(8, 'relu'))\n",
    "model3.add(Dense(1, 'relu'))"
   ]
  },
  {
   "cell_type": "code",
   "execution_count": 68,
   "id": "073b5754",
   "metadata": {},
   "outputs": [
    {
     "name": "stdout",
     "output_type": "stream",
     "text": [
      "Model: \"sequential_4\"\n",
      "_________________________________________________________________\n",
      " Layer (type)                Output Shape              Param #   \n",
      "=================================================================\n",
      " lstm_1 (LSTM)               (None, 64)                20224     \n",
      "                                                                 \n",
      " dense_8 (Dense)             (None, 8)                 520       \n",
      "                                                                 \n",
      " dense_9 (Dense)             (None, 1)                 9         \n",
      "                                                                 \n",
      "=================================================================\n",
      "Total params: 20753 (81.07 KB)\n",
      "Trainable params: 20753 (81.07 KB)\n",
      "Non-trainable params: 0 (0.00 Byte)\n",
      "_________________________________________________________________\n"
     ]
    }
   ],
   "source": [
    "model3.summary()"
   ]
  },
  {
   "cell_type": "code",
   "execution_count": 69,
   "id": "8cd9a51b",
   "metadata": {},
   "outputs": [],
   "source": [
    "cp3 = ModelCheckpoint('model3/', save_best_only=True)"
   ]
  },
  {
   "cell_type": "code",
   "execution_count": 70,
   "id": "602000f6",
   "metadata": {},
   "outputs": [
    {
     "name": "stderr",
     "output_type": "stream",
     "text": [
      "WARNING:absl:At this time, the v2.11+ optimizer `tf.keras.optimizers.Adam` runs slowly on M1/M2 Macs, please use the legacy Keras optimizer instead, located at `tf.keras.optimizers.legacy.Adam`.\n"
     ]
    }
   ],
   "source": [
    "model3.compile(loss=MeanSquaredError(), optimizer=Adam(learning_rate=0.0001), metrics=[RootMeanSquaredError()])"
   ]
  },
  {
   "cell_type": "code",
   "execution_count": 72,
   "id": "2e8e1e7a",
   "metadata": {},
   "outputs": [
    {
     "name": "stdout",
     "output_type": "stream",
     "text": [
      "Epoch 1/10\n",
      "75019/75023 [============================>.] - ETA: 0s - loss: 33.2198 - root_mean_squared_error: 5.7637INFO:tensorflow:Assets written to: model3/assets\n"
     ]
    },
    {
     "name": "stderr",
     "output_type": "stream",
     "text": [
      "INFO:tensorflow:Assets written to: model3/assets\n"
     ]
    },
    {
     "name": "stdout",
     "output_type": "stream",
     "text": [
      "75023/75023 [==============================] - 96s 1ms/step - loss: 33.2184 - root_mean_squared_error: 5.7635 - val_loss: 6.0313 - val_root_mean_squared_error: 2.4559\n",
      "Epoch 2/10\n",
      "74998/75023 [============================>.] - ETA: 0s - loss: 5.7245 - root_mean_squared_error: 2.3926INFO:tensorflow:Assets written to: model3/assets\n"
     ]
    },
    {
     "name": "stderr",
     "output_type": "stream",
     "text": [
      "INFO:tensorflow:Assets written to: model3/assets\n"
     ]
    },
    {
     "name": "stdout",
     "output_type": "stream",
     "text": [
      "75023/75023 [==============================] - 96s 1ms/step - loss: 5.7251 - root_mean_squared_error: 2.3927 - val_loss: 5.6094 - val_root_mean_squared_error: 2.3684\n",
      "Epoch 3/10\n",
      "74999/75023 [============================>.] - ETA: 0s - loss: 5.3618 - root_mean_squared_error: 2.3156INFO:tensorflow:Assets written to: model3/assets\n"
     ]
    },
    {
     "name": "stderr",
     "output_type": "stream",
     "text": [
      "INFO:tensorflow:Assets written to: model3/assets\n"
     ]
    },
    {
     "name": "stdout",
     "output_type": "stream",
     "text": [
      "75023/75023 [==============================] - 98s 1ms/step - loss: 5.3619 - root_mean_squared_error: 2.3156 - val_loss: 5.1216 - val_root_mean_squared_error: 2.2631\n",
      "Epoch 4/10\n",
      "75013/75023 [============================>.] - ETA: 0s - loss: 4.8845 - root_mean_squared_error: 2.2101INFO:tensorflow:Assets written to: model3/assets\n"
     ]
    },
    {
     "name": "stderr",
     "output_type": "stream",
     "text": [
      "INFO:tensorflow:Assets written to: model3/assets\n"
     ]
    },
    {
     "name": "stdout",
     "output_type": "stream",
     "text": [
      "75023/75023 [==============================] - 107s 1ms/step - loss: 4.8844 - root_mean_squared_error: 2.2101 - val_loss: 5.1158 - val_root_mean_squared_error: 2.2618\n",
      "Epoch 5/10\n",
      "75013/75023 [============================>.] - ETA: 0s - loss: 4.3894 - root_mean_squared_error: 2.0951INFO:tensorflow:Assets written to: model3/assets\n"
     ]
    },
    {
     "name": "stderr",
     "output_type": "stream",
     "text": [
      "INFO:tensorflow:Assets written to: model3/assets\n"
     ]
    },
    {
     "name": "stdout",
     "output_type": "stream",
     "text": [
      "75023/75023 [==============================] - 108s 1ms/step - loss: 4.3889 - root_mean_squared_error: 2.0950 - val_loss: 4.6837 - val_root_mean_squared_error: 2.1642\n",
      "Epoch 6/10\n",
      "75007/75023 [============================>.] - ETA: 0s - loss: 3.8842 - root_mean_squared_error: 1.9708INFO:tensorflow:Assets written to: model3/assets\n"
     ]
    },
    {
     "name": "stderr",
     "output_type": "stream",
     "text": [
      "INFO:tensorflow:Assets written to: model3/assets\n"
     ]
    },
    {
     "name": "stdout",
     "output_type": "stream",
     "text": [
      "75023/75023 [==============================] - 108s 1ms/step - loss: 3.8837 - root_mean_squared_error: 1.9707 - val_loss: 4.5349 - val_root_mean_squared_error: 2.1295\n",
      "Epoch 7/10\n",
      "75013/75023 [============================>.] - ETA: 0s - loss: 3.4204 - root_mean_squared_error: 1.8494INFO:tensorflow:Assets written to: model3/assets\n"
     ]
    },
    {
     "name": "stderr",
     "output_type": "stream",
     "text": [
      "INFO:tensorflow:Assets written to: model3/assets\n"
     ]
    },
    {
     "name": "stdout",
     "output_type": "stream",
     "text": [
      "75023/75023 [==============================] - 107s 1ms/step - loss: 3.4205 - root_mean_squared_error: 1.8495 - val_loss: 3.3270 - val_root_mean_squared_error: 1.8240\n",
      "Epoch 8/10\n",
      "75003/75023 [============================>.] - ETA: 0s - loss: 2.9230 - root_mean_squared_error: 1.7097INFO:tensorflow:Assets written to: model3/assets\n"
     ]
    },
    {
     "name": "stderr",
     "output_type": "stream",
     "text": [
      "INFO:tensorflow:Assets written to: model3/assets\n"
     ]
    },
    {
     "name": "stdout",
     "output_type": "stream",
     "text": [
      "75023/75023 [==============================] - 105s 1ms/step - loss: 2.9231 - root_mean_squared_error: 1.7097 - val_loss: 2.3538 - val_root_mean_squared_error: 1.5342\n",
      "Epoch 9/10\n",
      "75007/75023 [============================>.] - ETA: 0s - loss: 2.5721 - root_mean_squared_error: 1.6038INFO:tensorflow:Assets written to: model3/assets\n"
     ]
    },
    {
     "name": "stderr",
     "output_type": "stream",
     "text": [
      "INFO:tensorflow:Assets written to: model3/assets\n"
     ]
    },
    {
     "name": "stdout",
     "output_type": "stream",
     "text": [
      "75023/75023 [==============================] - 106s 1ms/step - loss: 2.5717 - root_mean_squared_error: 1.6037 - val_loss: 1.9150 - val_root_mean_squared_error: 1.3838\n",
      "Epoch 10/10\n",
      "74999/75023 [============================>.] - ETA: 0s - loss: 2.4119 - root_mean_squared_error: 1.5530INFO:tensorflow:Assets written to: model3/assets\n"
     ]
    },
    {
     "name": "stderr",
     "output_type": "stream",
     "text": [
      "INFO:tensorflow:Assets written to: model3/assets\n"
     ]
    },
    {
     "name": "stdout",
     "output_type": "stream",
     "text": [
      "\b\b\b\b\b\b\b\b\b\b\b\b\b\b\b\b\b\b\b\b\b\b\b\b\b\b\b\b\b\b\b\b\b\b\b\b\b\b\b\b\b\b\b\b\b\b\b\b\b\b\b\b\b\b\b\b\b\b\b\b\b\b\b\b\b\b\b\b\b\b\b\b\b\b\b\b\b\b\b\b\b\b\b\b\b\b\b\b\b\b\b\b\b\b\b\b\b\b\b\b\b\b\b\r",
      "75023/75023 [==============================] - 109s 1ms/step - loss: 2.4115 - root_mean_squared_error: 1.5529 - val_loss: 1.8977 - val_root_mean_squared_error: 1.3776\n"
     ]
    },
    {
     "data": {
      "text/plain": [
       "<keras.src.callbacks.History at 0x38fd8ce10>"
      ]
     },
     "execution_count": 72,
     "metadata": {},
     "output_type": "execute_result"
    }
   ],
   "source": [
    "model3.fit(X_train2, y_train2, validation_data=(X_val2, y_val2), epochs=10, callbacks=[cp3])"
   ]
  },
  {
   "cell_type": "code",
   "execution_count": null,
   "id": "feea7585",
   "metadata": {},
   "outputs": [],
   "source": []
  }
 ],
 "metadata": {
  "kernelspec": {
   "display_name": "Python 3 (ipykernel)",
   "language": "python",
   "name": "python3"
  },
  "language_info": {
   "codemirror_mode": {
    "name": "ipython",
    "version": 3
   },
   "file_extension": ".py",
   "mimetype": "text/x-python",
   "name": "python",
   "nbconvert_exporter": "python",
   "pygments_lexer": "ipython3",
   "version": "3.11.5"
  }
 },
 "nbformat": 4,
 "nbformat_minor": 5
}
