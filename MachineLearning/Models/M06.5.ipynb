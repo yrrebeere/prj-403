{
 "cells": [
  {
   "cell_type": "code",
   "execution_count": 1,
   "id": "127e7cf2",
   "metadata": {},
   "outputs": [],
   "source": [
    "import pandas as pd\n",
    "import numpy as np\n",
    "from darts import TimeSeries\n",
    "from darts.models import XGBModel\n",
    "from sklearn.metrics import mean_squared_error, mean_squared_log_error\n",
    "import matplotlib.pyplot as plt"
   ]
  },
  {
   "cell_type": "code",
   "execution_count": 2,
   "id": "21be3db5",
   "metadata": {},
   "outputs": [],
   "source": [
    "df = pd.read_csv(\"../../Data/Kaggle/StoreSales/darts_multivariate.csv\", parse_dates=[\"date\"])"
   ]
  },
  {
   "cell_type": "code",
   "execution_count": 3,
   "id": "ceded3f7",
   "metadata": {},
   "outputs": [
    {
     "data": {
      "text/html": [
       "<div>\n",
       "<style scoped>\n",
       "    .dataframe tbody tr th:only-of-type {\n",
       "        vertical-align: middle;\n",
       "    }\n",
       "\n",
       "    .dataframe tbody tr th {\n",
       "        vertical-align: top;\n",
       "    }\n",
       "\n",
       "    .dataframe thead th {\n",
       "        text-align: right;\n",
       "    }\n",
       "</style>\n",
       "<table border=\"1\" class=\"dataframe\">\n",
       "  <thead>\n",
       "    <tr style=\"text-align: right;\">\n",
       "      <th></th>\n",
       "      <th>date</th>\n",
       "      <th>store_nbr</th>\n",
       "      <th>family</th>\n",
       "      <th>sales</th>\n",
       "      <th>dcoilwtico</th>\n",
       "      <th>city</th>\n",
       "      <th>state</th>\n",
       "      <th>typestores</th>\n",
       "      <th>cluster</th>\n",
       "    </tr>\n",
       "  </thead>\n",
       "  <tbody>\n",
       "    <tr>\n",
       "      <th>0</th>\n",
       "      <td>2013-01-01</td>\n",
       "      <td>8</td>\n",
       "      <td>30</td>\n",
       "      <td>0.0</td>\n",
       "      <td>93.140000</td>\n",
       "      <td>18</td>\n",
       "      <td>12</td>\n",
       "      <td>3</td>\n",
       "      <td>8</td>\n",
       "    </tr>\n",
       "    <tr>\n",
       "      <th>1</th>\n",
       "      <td>2013-01-02</td>\n",
       "      <td>8</td>\n",
       "      <td>30</td>\n",
       "      <td>0.0</td>\n",
       "      <td>93.140000</td>\n",
       "      <td>18</td>\n",
       "      <td>12</td>\n",
       "      <td>3</td>\n",
       "      <td>8</td>\n",
       "    </tr>\n",
       "    <tr>\n",
       "      <th>2</th>\n",
       "      <td>2013-01-03</td>\n",
       "      <td>8</td>\n",
       "      <td>30</td>\n",
       "      <td>0.0</td>\n",
       "      <td>92.970000</td>\n",
       "      <td>18</td>\n",
       "      <td>12</td>\n",
       "      <td>3</td>\n",
       "      <td>8</td>\n",
       "    </tr>\n",
       "    <tr>\n",
       "      <th>3</th>\n",
       "      <td>2013-01-04</td>\n",
       "      <td>8</td>\n",
       "      <td>30</td>\n",
       "      <td>0.0</td>\n",
       "      <td>93.120000</td>\n",
       "      <td>18</td>\n",
       "      <td>12</td>\n",
       "      <td>3</td>\n",
       "      <td>8</td>\n",
       "    </tr>\n",
       "    <tr>\n",
       "      <th>4</th>\n",
       "      <td>2013-01-05</td>\n",
       "      <td>8</td>\n",
       "      <td>30</td>\n",
       "      <td>0.0</td>\n",
       "      <td>93.159203</td>\n",
       "      <td>18</td>\n",
       "      <td>12</td>\n",
       "      <td>3</td>\n",
       "      <td>8</td>\n",
       "    </tr>\n",
       "  </tbody>\n",
       "</table>\n",
       "</div>"
      ],
      "text/plain": [
       "        date  store_nbr  family  sales  dcoilwtico  city  state  typestores  \\\n",
       "0 2013-01-01          8      30    0.0   93.140000    18     12           3   \n",
       "1 2013-01-02          8      30    0.0   93.140000    18     12           3   \n",
       "2 2013-01-03          8      30    0.0   92.970000    18     12           3   \n",
       "3 2013-01-04          8      30    0.0   93.120000    18     12           3   \n",
       "4 2013-01-05          8      30    0.0   93.159203    18     12           3   \n",
       "\n",
       "   cluster  \n",
       "0        8  \n",
       "1        8  \n",
       "2        8  \n",
       "3        8  \n",
       "4        8  "
      ]
     },
     "execution_count": 3,
     "metadata": {},
     "output_type": "execute_result"
    }
   ],
   "source": [
    "df.head()"
   ]
  },
  {
   "cell_type": "code",
   "execution_count": 4,
   "id": "69898bd2",
   "metadata": {},
   "outputs": [],
   "source": [
    "future_cov = TimeSeries.from_dataframe(df, value_cols=[\"dcoilwtico\"])"
   ]
  },
  {
   "cell_type": "code",
   "execution_count": 5,
   "id": "85aae157",
   "metadata": {},
   "outputs": [],
   "source": [
    "ts = TimeSeries.from_dataframe(df, value_cols=[\"sales\"])"
   ]
  },
  {
   "cell_type": "code",
   "execution_count": 6,
   "id": "c0eb8d48",
   "metadata": {},
   "outputs": [],
   "source": [
    "training_size = len(ts) - 6"
   ]
  },
  {
   "cell_type": "code",
   "execution_count": 7,
   "id": "418049f4",
   "metadata": {},
   "outputs": [],
   "source": [
    "train = ts[:training_size]\n",
    "val = ts[training_size:]"
   ]
  },
  {
   "cell_type": "code",
   "execution_count": 8,
   "id": "5106c417",
   "metadata": {},
   "outputs": [
    {
     "data": {
      "text/plain": [
       "XGBModel(lags=2, lags_past_covariates=None, lags_future_covariates=[0, 1, 2, 3, 4, 5], output_chunk_length=6, add_encoders=None, likelihood=None, quantiles=None, random_state=None, multi_models=True, use_static_covariates=True)"
      ]
     },
     "execution_count": 8,
     "metadata": {},
     "output_type": "execute_result"
    }
   ],
   "source": [
    "model = XGBModel(lags=2, lags_future_covariates=[0,1,2,3,4,5], output_chunk_length=6)\n",
    "model.fit(train, future_covariates=future_cov)"
   ]
  },
  {
   "cell_type": "code",
   "execution_count": 9,
   "id": "1f6409d8",
   "metadata": {},
   "outputs": [],
   "source": [
    "predictions = model.predict(n=6)"
   ]
  },
  {
   "cell_type": "code",
   "execution_count": 10,
   "id": "a9473073",
   "metadata": {},
   "outputs": [],
   "source": [
    "val = val.pd_series().tolist()\n",
    "predictions = predictions.pd_series().tolist()"
   ]
  },
  {
   "cell_type": "code",
   "execution_count": 11,
   "id": "bca95e5f",
   "metadata": {},
   "outputs": [],
   "source": [
    "predictions = np.maximum(predictions, 0)"
   ]
  },
  {
   "cell_type": "code",
   "execution_count": 12,
   "id": "3776fe30",
   "metadata": {},
   "outputs": [],
   "source": [
    "rmse = np.sqrt(mean_squared_error(val, predictions))\n",
    "rmsle = np.sqrt(mean_squared_error(np.log1p(val), np.log1p(predictions)))"
   ]
  },
  {
   "cell_type": "code",
   "execution_count": 13,
   "id": "5e632b37",
   "metadata": {},
   "outputs": [
    {
     "name": "stdout",
     "output_type": "stream",
     "text": [
      "Root Mean Squared Error (RMSE): 681.7409193132884\n",
      "Root Mean Squared Logarithmic Error (RMSLE): 0.15664849985128124\n"
     ]
    }
   ],
   "source": [
    "print(f\"Root Mean Squared Error (RMSE): {rmse}\")\n",
    "print(f\"Root Mean Squared Logarithmic Error (RMSLE): {rmsle}\")"
   ]
  },
  {
   "cell_type": "code",
   "execution_count": 14,
   "id": "4745addb",
   "metadata": {},
   "outputs": [
    {
     "data": {
      "image/png": "[encoded data removed]",
      "text/plain": [
       "<Figure size 1200x600 with 1 Axes>"
      ]
     },
     "metadata": {},
     "output_type": "display_data"
    }
   ],
   "source": [
    "plt.figure(figsize=(12, 6))\n",
    "plt.plot(val, label='Actual')\n",
    "plt.plot(predictions, label='Predictions')\n",
    "plt.legend()\n",
    "plt.show()"
   ]
  },
  {
   "cell_type": "code",
   "execution_count": null,
   "id": "9baa6bb7",
   "metadata": {},
   "outputs": [],
   "source": []
  }
 ],
 "metadata": {
  "kernelspec": {
   "display_name": "Python 3 (ipykernel)",
   "language": "python",
   "name": "python3"
  },
  "language_info": {
   "codemirror_mode": {
    "name": "ipython",
    "version": 3
   },
   "file_extension": ".py",
   "mimetype": "text/x-python",
   "name": "python",
   "nbconvert_exporter": "python",
   "pygments_lexer": "ipython3",
   "version": "3.11.5"
  }
 },
 "nbformat": 4,
 "nbformat_minor": 5
}
