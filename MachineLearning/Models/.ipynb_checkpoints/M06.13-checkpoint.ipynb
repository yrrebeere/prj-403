{
 "cells": [
  {
   "cell_type": "code",
   "execution_count": null,
   "id": "69857d25",
   "metadata": {},
   "outputs": [],
   "source": [
    "import pandas as pd\n",
    "import numpy as np\n",
    "from darts import TimeSeries\n",
    "from darts.models import XGBModel\n",
    "from darts import concatenate"
   ]
  },
  {
   "cell_type": "code",
   "execution_count": null,
   "id": "357e05b1",
   "metadata": {},
   "outputs": [],
   "source": [
    "train = pd.read_csv(\"../../Data/Kaggle/StoreSales/train_darts.csv\", parse_dates=[\"date\"])"
   ]
  },
  {
   "cell_type": "code",
   "execution_count": null,
   "id": "11c12468",
   "metadata": {},
   "outputs": [],
   "source": [
    "train.head()"
   ]
  },
  {
   "cell_type": "code",
   "execution_count": null,
   "id": "9e97fa15",
   "metadata": {},
   "outputs": [],
   "source": [
    "unique_combinations = train[['store_nbr', 'family']].drop_duplicates()"
   ]
  },
  {
   "cell_type": "code",
   "execution_count": null,
   "id": "38901250",
   "metadata": {},
   "outputs": [],
   "source": [
    "predictions = {}"
   ]
  },
  {
   "cell_type": "code",
   "execution_count": null,
   "id": "c6d9ee58",
   "metadata": {},
   "outputs": [],
   "source": [
    "for index, row in unique_combinations.iterrows():\n",
    "    store_nbr = row['store_nbr']\n",
    "    family = row['family']\n",
    "    \n",
    "    print(f\"\\nTraining model for store {store_nbr} and family {family}...\")\n",
    "    \n",
    "    df_subset = train[(train['store_nbr'] == store_nbr) & (train['family'] == family)]\n",
    "    \n",
    "    ts = TimeSeries.from_dataframe(df_subset, value_cols=[\"sales\"])\n",
    "\n",
    "    dcoilwtico_ts = TimeSeries.from_dataframe(df_subset, value_cols=[\"dcoilwtico\"])\n",
    "    onpromotion_ts = TimeSeries.from_dataframe(df_subset, value_cols=[\"onpromotion\"])\n",
    "    typeholiday_ts = TimeSeries.from_dataframe(df_subset, value_cols=[\"typeholiday\"])\n",
    "    day_of_week_ts = TimeSeries.from_dataframe(df_subset, value_cols=[\"day_of_week\"])\n",
    "    day_ts = TimeSeries.from_dataframe(df_subset, value_cols=[\"day\"])\n",
    "    month_ts = TimeSeries.from_dataframe(df_subset, value_cols=[\"month\"])\n",
    "    year_ts = TimeSeries.from_dataframe(df_subset, value_cols=[\"year\"])\n",
    "    \n",
    "    past_cov = concatenate([dcoilwtico_ts,\n",
    "                          onpromotion_ts,\n",
    "                          typeholiday_ts,\n",
    "                          day_of_week_ts,\n",
    "                          day_ts,\n",
    "                          month_ts,\n",
    "                          year_ts], axis=1)\n",
    "\n",
    "    past_covariates_lags = list(range(-16, 0))\n",
    "\n",
    "    model = XGBModel(lags=2, lags_past_covariates=past_covariates_lags, output_chunk_length=16)\n",
    "    model.fit(ts, past_covariates=past_cov)\n",
    "\n",
    "    predictions[(store_nbr, family)] = model.predict(n=16)\n",
    "    predictions[(store_nbr, family)] = predictions[(store_nbr, family)].pd_series().tolist()\n",
    "    predictions[(store_nbr, family)] = np.maximum(predictions[(store_nbr, family)], 0)"
   ]
  },
  {
   "cell_type": "code",
   "execution_count": null,
   "id": "7b770704",
   "metadata": {},
   "outputs": [],
   "source": [
    "test = pd.read_csv(\"../../Data/Kaggle/StoreSales/test_darts_univariate.csv\", parse_dates=[\"date\"])"
   ]
  },
  {
   "cell_type": "code",
   "execution_count": null,
   "id": "366bf75b",
   "metadata": {},
   "outputs": [],
   "source": [
    "test.head()"
   ]
  },
  {
   "cell_type": "code",
   "execution_count": null,
   "id": "afcb1bcf",
   "metadata": {},
   "outputs": [],
   "source": [
    "test.tail()"
   ]
  },
  {
   "cell_type": "code",
   "execution_count": null,
   "id": "d0153e3e",
   "metadata": {},
   "outputs": [],
   "source": [
    "test_sales = []"
   ]
  },
  {
   "cell_type": "code",
   "execution_count": null,
   "id": "a52b478c",
   "metadata": {},
   "outputs": [],
   "source": [
    "for i in range(16):\n",
    "    for (store_nbr, family), prediction in predictions.items():\n",
    "        print(f\"Store {store_nbr}, Family {family} predictions: {prediction[i]}\")\n",
    "        test_sales.append(prediction[i])"
   ]
  },
  {
   "cell_type": "code",
   "execution_count": null,
   "id": "3ac4cc6a",
   "metadata": {},
   "outputs": [],
   "source": [
    "test['sales'] = test_sales"
   ]
  },
  {
   "cell_type": "code",
   "execution_count": null,
   "id": "13554567",
   "metadata": {},
   "outputs": [],
   "source": [
    "test.drop(columns=['date', 'store_nbr', 'family'], inplace=True)"
   ]
  },
  {
   "cell_type": "code",
   "execution_count": null,
   "id": "c47e3d56",
   "metadata": {},
   "outputs": [],
   "source": [
    "test.to_csv('submission.csv', index=False)"
   ]
  },
  {
   "cell_type": "code",
   "execution_count": null,
   "id": "a5f3373b",
   "metadata": {},
   "outputs": [],
   "source": []
  }
 ],
 "metadata": {
  "kernelspec": {
   "display_name": "Python 3 (ipykernel)",
   "language": "python",
   "name": "python3"
  },
  "language_info": {
   "codemirror_mode": {
    "name": "ipython",
    "version": 3
   },
   "file_extension": ".py",
   "mimetype": "text/x-python",
   "name": "python",
   "nbconvert_exporter": "python",
   "pygments_lexer": "ipython3",
   "version": "3.11.0"
  }
 },
 "nbformat": 4,
 "nbformat_minor": 5
}
