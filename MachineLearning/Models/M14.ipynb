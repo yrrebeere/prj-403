{
 "cells": [
  {
   "cell_type": "code",
   "execution_count": 1,
   "id": "1e293977",
   "metadata": {},
   "outputs": [],
   "source": [
    "import pandas as pd\n",
    "import numpy as np\n",
    "from joblib import load\n",
    "from tensorflow.keras.models import load_model"
   ]
  },
  {
   "cell_type": "code",
   "execution_count": 2,
   "id": "2193549c",
   "metadata": {},
   "outputs": [],
   "source": [
    "data = {\n",
    "        'store_nbr': 1,\n",
    "        'family': \"EGGS\",\n",
    "        'onpromotion': 0,\n",
    "        'typeholiday': \"Holiday\",\n",
    "        'dcoilwtico': 46.8,\n",
    "        'city': \"Quito\",\n",
    "        'state': \"Pichincha\",\n",
    "        'typestores': \"D\",\n",
    "        'cluster': 13,\n",
    "        'day_of_week': 3,\n",
    "        'day': 16,\n",
    "        'month': 8,\n",
    "        'year': 2017\n",
    "    }"
   ]
  },
  {
   "cell_type": "code",
   "execution_count": 3,
   "id": "18bfd6a2",
   "metadata": {},
   "outputs": [],
   "source": [
    "df = pd.DataFrame([data])"
   ]
  },
  {
   "cell_type": "code",
   "execution_count": 4,
   "id": "386f2825",
   "metadata": {},
   "outputs": [],
   "source": [
    "with open('joblib/family_encoder.pkl', 'rb') as file:\n",
    "    family_encoder = load(file)\n",
    "\n",
    "with open('joblib/typeholiday_encoder.pkl', 'rb') as file:\n",
    "    typeholiday_encoder = load(file)\n",
    "\n",
    "with open('joblib/city_encoder.pkl', 'rb') as file:\n",
    "    city_encoder = load(file)\n",
    "\n",
    "with open('joblib/state_encoder.pkl', 'rb') as file:\n",
    "    state_encoder = load(file)\n",
    "\n",
    "with open('joblib/typestores_encoder.pkl', 'rb') as file:\n",
    "    typestores_encoder = load(file)"
   ]
  },
  {
   "cell_type": "code",
   "execution_count": 5,
   "id": "156b3d0e",
   "metadata": {},
   "outputs": [],
   "source": [
    "df['family'] = family_encoder.transform([df['family'].iloc[0]])[0]\n",
    "df['typeholiday'] = typeholiday_encoder.transform([df['typeholiday'].iloc[0]])[0]\n",
    "df['city'] = city_encoder.transform([df['city'].iloc[0]])[0]\n",
    "df['state'] = state_encoder.transform([df['state'].iloc[0]])[0]\n",
    "df['typestores'] = typestores_encoder.transform([df['typestores'].iloc[0]])[0]"
   ]
  },
  {
   "cell_type": "code",
   "execution_count": 6,
   "id": "2e84f5b5",
   "metadata": {},
   "outputs": [],
   "source": [
    "features = [\n",
    "        'store_nbr',\n",
    "        'family',\n",
    "        'onpromotion',\n",
    "        'typeholiday',\n",
    "        'dcoilwtico',\n",
    "        'city', \n",
    "        'state',\n",
    "        'typestores',\n",
    "        'cluster',\n",
    "        'day_of_week',\n",
    "        'day',\n",
    "        'month',\n",
    "        'year',\n",
    "    ]"
   ]
  },
  {
   "cell_type": "code",
   "execution_count": 7,
   "id": "5f38c267",
   "metadata": {},
   "outputs": [],
   "source": [
    "X = df[features]"
   ]
  },
  {
   "cell_type": "code",
   "execution_count": 8,
   "id": "f0b962c4",
   "metadata": {},
   "outputs": [],
   "source": [
    "X = pd.concat([X] * 11, ignore_index=True)"
   ]
  },
  {
   "cell_type": "code",
   "execution_count": 9,
   "id": "cdb66390",
   "metadata": {},
   "outputs": [
    {
     "data": {
      "text/plain": [
       "(11, 13)"
      ]
     },
     "execution_count": 9,
     "metadata": {},
     "output_type": "execute_result"
    }
   ],
   "source": [
    "X.shape"
   ]
  },
  {
   "cell_type": "code",
   "execution_count": 10,
   "id": "2d7ade07",
   "metadata": {},
   "outputs": [],
   "source": [
    "scaler = load('joblib/scaler.joblib')"
   ]
  },
  {
   "cell_type": "code",
   "execution_count": 11,
   "id": "b113b6e0",
   "metadata": {},
   "outputs": [],
   "source": [
    "scaled_test_features = scaler.transform(X[features])"
   ]
  },
  {
   "cell_type": "code",
   "execution_count": 12,
   "id": "1379a621",
   "metadata": {},
   "outputs": [],
   "source": [
    "sequence_length = 10"
   ]
  },
  {
   "cell_type": "code",
   "execution_count": 13,
   "id": "56b92290",
   "metadata": {},
   "outputs": [],
   "source": [
    "test_sequences = []"
   ]
  },
  {
   "cell_type": "code",
   "execution_count": 14,
   "id": "7fbf6a8f",
   "metadata": {},
   "outputs": [],
   "source": [
    "for i in range(len(scaled_test_features) - sequence_length):\n",
    "    seq = scaled_test_features[i:i+sequence_length]\n",
    "    test_sequences.append(seq)"
   ]
  },
  {
   "cell_type": "code",
   "execution_count": 15,
   "id": "2df7135c",
   "metadata": {},
   "outputs": [],
   "source": [
    "test_sequences = np.array(test_sequences)"
   ]
  },
  {
   "cell_type": "code",
   "execution_count": 16,
   "id": "56bafb6c",
   "metadata": {},
   "outputs": [
    {
     "name": "stdout",
     "output_type": "stream",
     "text": [
      "(1, 10, 13)\n"
     ]
    }
   ],
   "source": [
    "print(test_sequences.shape)"
   ]
  },
  {
   "cell_type": "code",
   "execution_count": 17,
   "id": "d3b71c4f",
   "metadata": {},
   "outputs": [],
   "source": [
    "m12 = load_model('m12.h5')"
   ]
  },
  {
   "cell_type": "code",
   "execution_count": 18,
   "id": "e4492a11",
   "metadata": {},
   "outputs": [
    {
     "name": "stdout",
     "output_type": "stream",
     "text": [
      "1/1 [==============================] - 0s 171ms/step\n"
     ]
    }
   ],
   "source": [
    "prediction = m12.predict(test_sequences)"
   ]
  },
  {
   "cell_type": "code",
   "execution_count": 19,
   "id": "363b3894",
   "metadata": {},
   "outputs": [
    {
     "name": "stdout",
     "output_type": "stream",
     "text": [
      "[[632.55]]\n"
     ]
    }
   ],
   "source": [
    "print(prediction)"
   ]
  },
  {
   "cell_type": "code",
   "execution_count": null,
   "id": "71fb1c14",
   "metadata": {},
   "outputs": [],
   "source": []
  }
 ],
 "metadata": {
  "kernelspec": {
   "display_name": "Python 3 (ipykernel)",
   "language": "python",
   "name": "python3"
  },
  "language_info": {
   "codemirror_mode": {
    "name": "ipython",
    "version": 3
   },
   "file_extension": ".py",
   "mimetype": "text/x-python",
   "name": "python",
   "nbconvert_exporter": "python",
   "pygments_lexer": "ipython3",
   "version": "3.11.5"
  }
 },
 "nbformat": 4,
 "nbformat_minor": 5
}
