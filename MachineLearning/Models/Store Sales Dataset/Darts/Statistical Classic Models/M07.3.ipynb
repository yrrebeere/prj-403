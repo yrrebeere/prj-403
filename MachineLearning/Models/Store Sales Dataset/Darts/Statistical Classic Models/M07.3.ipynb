{
 "cells": [
  {
   "cell_type": "code",
   "execution_count": 1,
   "id": "d0855685",
   "metadata": {},
   "outputs": [],
   "source": [
    "import pandas as pd\n",
    "import numpy as np\n",
    "from darts import TimeSeries\n",
    "from darts.models import Prophet\n",
    "from sklearn.metrics import mean_squared_error, mean_squared_log_error\n",
    "import matplotlib.pyplot as plt"
   ]
  },
  {
   "cell_type": "code",
   "execution_count": 2,
   "id": "8d79b5de",
   "metadata": {},
   "outputs": [],
   "source": [
    "df = pd.read_csv(\"../../Data/Kaggle/StoreSales/train_darts_univariate.csv\", parse_dates=[\"date\"])"
   ]
  },
  {
   "cell_type": "code",
   "execution_count": 3,
   "id": "4ede64c5",
   "metadata": {},
   "outputs": [],
   "source": [
    "df.set_index('date', inplace=True)"
   ]
  },
  {
   "cell_type": "code",
   "execution_count": 4,
   "id": "866081ab",
   "metadata": {},
   "outputs": [
    {
     "data": {
      "text/html": [
       "<div>\n",
       "<style scoped>\n",
       "    .dataframe tbody tr th:only-of-type {\n",
       "        vertical-align: middle;\n",
       "    }\n",
       "\n",
       "    .dataframe tbody tr th {\n",
       "        vertical-align: top;\n",
       "    }\n",
       "\n",
       "    .dataframe thead th {\n",
       "        text-align: right;\n",
       "    }\n",
       "</style>\n",
       "<table border=\"1\" class=\"dataframe\">\n",
       "  <thead>\n",
       "    <tr style=\"text-align: right;\">\n",
       "      <th></th>\n",
       "      <th>store_nbr</th>\n",
       "      <th>family</th>\n",
       "      <th>sales</th>\n",
       "    </tr>\n",
       "    <tr>\n",
       "      <th>date</th>\n",
       "      <th></th>\n",
       "      <th></th>\n",
       "      <th></th>\n",
       "    </tr>\n",
       "  </thead>\n",
       "  <tbody>\n",
       "    <tr>\n",
       "      <th>2013-01-01</th>\n",
       "      <td>1</td>\n",
       "      <td>0</td>\n",
       "      <td>0.0</td>\n",
       "    </tr>\n",
       "    <tr>\n",
       "      <th>2013-01-01</th>\n",
       "      <td>1</td>\n",
       "      <td>1</td>\n",
       "      <td>0.0</td>\n",
       "    </tr>\n",
       "    <tr>\n",
       "      <th>2013-01-01</th>\n",
       "      <td>1</td>\n",
       "      <td>2</td>\n",
       "      <td>0.0</td>\n",
       "    </tr>\n",
       "    <tr>\n",
       "      <th>2013-01-01</th>\n",
       "      <td>1</td>\n",
       "      <td>3</td>\n",
       "      <td>0.0</td>\n",
       "    </tr>\n",
       "    <tr>\n",
       "      <th>2013-01-01</th>\n",
       "      <td>1</td>\n",
       "      <td>4</td>\n",
       "      <td>0.0</td>\n",
       "    </tr>\n",
       "  </tbody>\n",
       "</table>\n",
       "</div>"
      ],
      "text/plain": [
       "            store_nbr  family  sales\n",
       "date                                \n",
       "2013-01-01          1       0    0.0\n",
       "2013-01-01          1       1    0.0\n",
       "2013-01-01          1       2    0.0\n",
       "2013-01-01          1       3    0.0\n",
       "2013-01-01          1       4    0.0"
      ]
     },
     "execution_count": 4,
     "metadata": {},
     "output_type": "execute_result"
    }
   ],
   "source": [
    "df.head()"
   ]
  },
  {
   "cell_type": "code",
   "execution_count": 5,
   "id": "8e03bc83",
   "metadata": {},
   "outputs": [],
   "source": [
    "unique_combinations = df[['store_nbr', 'family']].drop_duplicates()"
   ]
  },
  {
   "cell_type": "code",
   "execution_count": 6,
   "id": "e292c071",
   "metadata": {},
   "outputs": [],
   "source": [
    "total_rmse = 0\n",
    "total_rmsle = 0\n",
    "num_models = 0"
   ]
  },
  {
   "cell_type": "code",
   "execution_count": 7,
   "id": "70255741",
   "metadata": {},
   "outputs": [],
   "source": [
    "trained_models = {}"
   ]
  },
  {
   "cell_type": "code",
   "execution_count": 8,
   "id": "cbf37a5c",
   "metadata": {},
   "outputs": [
    {
     "name": "stderr",
     "output_type": "stream",
     "text": [
      "14:54:14 - cmdstanpy - INFO - Chain [1] start processing\n",
      "14:54:14 - cmdstanpy - INFO - Chain [1] done processing\n"
     ]
    },
    {
     "name": "stdout",
     "output_type": "stream",
     "text": [
      "\n",
      "Training model for store 1 and family 0...\n",
      "There are 1 NaN values in the data.\n",
      "Root Mean Squared Error (RMSE): 2.937351960777551\n",
      "Root Mean Squared Logarithmic Error (RMSLE): 0.6787155402255381\n",
      "\n",
      "Training model for store 1 and family 1...\n",
      "There are 1 NaN values in the data.\n",
      "Root Mean Squared Error (RMSE): 0.0\n",
      "Root Mean Squared Logarithmic Error (RMSLE): 0.0\n",
      "\n",
      "Training model for store 1 and family 2...\n"
     ]
    },
    {
     "name": "stderr",
     "output_type": "stream",
     "text": [
      "14:54:14 - cmdstanpy - INFO - Chain [1] start processing\n",
      "14:54:14 - cmdstanpy - INFO - Chain [1] done processing\n",
      "14:54:15 - cmdstanpy - INFO - Chain [1] start processing\n"
     ]
    },
    {
     "name": "stdout",
     "output_type": "stream",
     "text": [
      "There are 1 NaN values in the data.\n",
      "Root Mean Squared Error (RMSE): 2.3082058778740606\n",
      "Root Mean Squared Logarithmic Error (RMSLE): 0.5465393319841179\n",
      "\n",
      "Training model for store 1 and family 3...\n"
     ]
    },
    {
     "name": "stderr",
     "output_type": "stream",
     "text": [
      "14:54:15 - cmdstanpy - INFO - Chain [1] done processing\n"
     ]
    },
    {
     "name": "stdout",
     "output_type": "stream",
     "text": [
      "There are 1 NaN values in the data.\n",
      "Root Mean Squared Error (RMSE): 437.7748678561846\n",
      "Root Mean Squared Logarithmic Error (RMSLE): 0.6053531680320735\n",
      "\n",
      "Training model for store 1 and family 4...\n",
      "There are 1 NaN values in the data.\n",
      "Root Mean Squared Error (RMSE): 1.229566720241983\n",
      "Root Mean Squared Logarithmic Error (RMSLE): 0.5963046157334358\n",
      "\n",
      "Training model for store 1 and family 5...\n"
     ]
    },
    {
     "name": "stderr",
     "output_type": "stream",
     "text": [
      "14:54:15 - cmdstanpy - INFO - Chain [1] start processing\n",
      "14:54:15 - cmdstanpy - INFO - Chain [1] done processing\n",
      "14:54:16 - cmdstanpy - INFO - Chain [1] start processing\n"
     ]
    },
    {
     "name": "stdout",
     "output_type": "stream",
     "text": [
      "There are 1 NaN values in the data.\n",
      "Root Mean Squared Error (RMSE): 86.07477438421203\n",
      "Root Mean Squared Logarithmic Error (RMSLE): 0.4934635982657524\n",
      "\n",
      "Training model for store 1 and family 6...\n"
     ]
    },
    {
     "name": "stderr",
     "output_type": "stream",
     "text": [
      "14:54:16 - cmdstanpy - INFO - Chain [1] done processing\n",
      "14:54:16 - cmdstanpy - INFO - Chain [1] start processing\n"
     ]
    },
    {
     "name": "stdout",
     "output_type": "stream",
     "text": [
      "There are 1 NaN values in the data.\n",
      "Root Mean Squared Error (RMSE): 12.714114634638321\n",
      "Root Mean Squared Logarithmic Error (RMSLE): 0.9092469520889807\n",
      "\n",
      "Training model for store 1 and family 7...\n"
     ]
    },
    {
     "name": "stderr",
     "output_type": "stream",
     "text": [
      "14:54:16 - cmdstanpy - INFO - Chain [1] done processing\n"
     ]
    },
    {
     "name": "stdout",
     "output_type": "stream",
     "text": [
      "There are 1 NaN values in the data.\n",
      "Root Mean Squared Error (RMSE): 134.43554136297558\n",
      "Root Mean Squared Logarithmic Error (RMSLE): 0.5019050390347662\n",
      "\n",
      "Training model for store 1 and family 8...\n"
     ]
    },
    {
     "name": "stderr",
     "output_type": "stream",
     "text": [
      "14:54:16 - cmdstanpy - INFO - Chain [1] start processing\n",
      "14:54:16 - cmdstanpy - INFO - Chain [1] done processing\n",
      "14:54:16 - cmdstanpy - INFO - Chain [1] start processing\n"
     ]
    },
    {
     "name": "stdout",
     "output_type": "stream",
     "text": [
      "There are 1 NaN values in the data.\n",
      "Root Mean Squared Error (RMSE): 147.47881853444702\n",
      "Root Mean Squared Logarithmic Error (RMSLE): 0.5393724598964826\n",
      "\n",
      "Training model for store 1 and family 9...\n"
     ]
    },
    {
     "name": "stderr",
     "output_type": "stream",
     "text": [
      "14:54:17 - cmdstanpy - INFO - Chain [1] done processing\n"
     ]
    },
    {
     "name": "stdout",
     "output_type": "stream",
     "text": [
      "There are 1 NaN values in the data.\n",
      "Root Mean Squared Error (RMSE): 36.707911954168985\n",
      "Root Mean Squared Logarithmic Error (RMSLE): 0.43323022271926426\n",
      "\n",
      "Training model for store 1 and family 10...\n"
     ]
    },
    {
     "name": "stderr",
     "output_type": "stream",
     "text": [
      "14:54:17 - cmdstanpy - INFO - Chain [1] start processing\n",
      "14:54:17 - cmdstanpy - INFO - Chain [1] done processing\n",
      "14:54:17 - cmdstanpy - INFO - Chain [1] start processing\n"
     ]
    },
    {
     "name": "stdout",
     "output_type": "stream",
     "text": [
      "There are 1 NaN values in the data.\n",
      "Root Mean Squared Error (RMSE): 25.73824461233129\n",
      "Root Mean Squared Logarithmic Error (RMSLE): 0.3829543002539525\n",
      "\n",
      "Training model for store 1 and family 11...\n"
     ]
    },
    {
     "name": "stderr",
     "output_type": "stream",
     "text": [
      "14:54:17 - cmdstanpy - INFO - Chain [1] done processing\n",
      "14:54:17 - cmdstanpy - INFO - Chain [1] start processing\n"
     ]
    },
    {
     "name": "stdout",
     "output_type": "stream",
     "text": [
      "There are 1 NaN values in the data.\n",
      "Root Mean Squared Error (RMSE): 103.69624210061991\n",
      "Root Mean Squared Logarithmic Error (RMSLE): 1.42843897472935\n",
      "\n",
      "Training model for store 1 and family 12...\n"
     ]
    },
    {
     "name": "stderr",
     "output_type": "stream",
     "text": [
      "14:54:17 - cmdstanpy - INFO - Chain [1] done processing\n",
      "14:54:18 - cmdstanpy - INFO - Chain [1] start processing\n"
     ]
    },
    {
     "name": "stdout",
     "output_type": "stream",
     "text": [
      "There are 1 NaN values in the data.\n",
      "Root Mean Squared Error (RMSE): 581.4622661856133\n",
      "Root Mean Squared Logarithmic Error (RMSLE): 0.6249379088529338\n",
      "\n",
      "Training model for store 1 and family 13...\n"
     ]
    },
    {
     "name": "stderr",
     "output_type": "stream",
     "text": [
      "14:54:18 - cmdstanpy - INFO - Chain [1] done processing\n",
      "14:54:18 - cmdstanpy - INFO - Chain [1] start processing\n"
     ]
    },
    {
     "name": "stdout",
     "output_type": "stream",
     "text": [
      "There are 1 NaN values in the data.\n",
      "Root Mean Squared Error (RMSE): 12.11286416435664\n",
      "Root Mean Squared Logarithmic Error (RMSLE): 0.8824470172026936\n",
      "\n",
      "Training model for store 1 and family 14...\n"
     ]
    },
    {
     "name": "stderr",
     "output_type": "stream",
     "text": [
      "14:54:18 - cmdstanpy - INFO - Chain [1] done processing\n",
      "14:54:18 - cmdstanpy - INFO - Chain [1] start processing\n"
     ]
    },
    {
     "name": "stdout",
     "output_type": "stream",
     "text": [
      "There are 1 NaN values in the data.\n",
      "Root Mean Squared Error (RMSE): 1.6558767789119915\n",
      "Root Mean Squared Logarithmic Error (RMSLE): 0.5950768623129569\n",
      "\n",
      "Training model for store 1 and family 15...\n"
     ]
    },
    {
     "name": "stderr",
     "output_type": "stream",
     "text": [
      "14:54:18 - cmdstanpy - INFO - Chain [1] done processing\n",
      "14:54:19 - cmdstanpy - INFO - Chain [1] start processing\n"
     ]
    },
    {
     "name": "stdout",
     "output_type": "stream",
     "text": [
      "There are 1 NaN values in the data.\n",
      "Root Mean Squared Error (RMSE): 15.321781554089316\n",
      "Root Mean Squared Logarithmic Error (RMSLE): 0.8161510174764451\n",
      "\n",
      "Training model for store 1 and family 16...\n"
     ]
    },
    {
     "name": "stderr",
     "output_type": "stream",
     "text": [
      "14:54:19 - cmdstanpy - INFO - Chain [1] done processing\n",
      "14:54:19 - cmdstanpy - INFO - Chain [1] start processing\n",
      "14:54:19 - cmdstanpy - INFO - Chain [1] done processing\n"
     ]
    },
    {
     "name": "stdout",
     "output_type": "stream",
     "text": [
      "There are 1 NaN values in the data.\n",
      "Root Mean Squared Error (RMSE): 11.786120689449149\n",
      "Root Mean Squared Logarithmic Error (RMSLE): 0.6616804946902105\n",
      "\n",
      "Training model for store 1 and family 17...\n"
     ]
    },
    {
     "name": "stderr",
     "output_type": "stream",
     "text": [
      "14:54:19 - cmdstanpy - INFO - Chain [1] start processing\n"
     ]
    },
    {
     "name": "stdout",
     "output_type": "stream",
     "text": [
      "There are 1 NaN values in the data.\n",
      "Root Mean Squared Error (RMSE): 0.7409951622425164\n",
      "Root Mean Squared Logarithmic Error (RMSLE): 0.4154707650169664\n",
      "\n",
      "Training model for store 1 and family 18...\n"
     ]
    },
    {
     "name": "stderr",
     "output_type": "stream",
     "text": [
      "14:54:19 - cmdstanpy - INFO - Chain [1] done processing\n",
      "14:54:20 - cmdstanpy - INFO - Chain [1] start processing\n"
     ]
    },
    {
     "name": "stdout",
     "output_type": "stream",
     "text": [
      "There are 1 NaN values in the data.\n",
      "Root Mean Squared Error (RMSE): 45.28876320926647\n",
      "Root Mean Squared Logarithmic Error (RMSLE): 0.5056982488258799\n",
      "\n",
      "Training model for store 1 and family 19...\n"
     ]
    },
    {
     "name": "stderr",
     "output_type": "stream",
     "text": [
      "14:54:20 - cmdstanpy - INFO - Chain [1] done processing\n",
      "14:54:20 - cmdstanpy - INFO - Chain [1] start processing\n"
     ]
    },
    {
     "name": "stdout",
     "output_type": "stream",
     "text": [
      "There are 1 NaN values in the data.\n",
      "Root Mean Squared Error (RMSE): 8.101038494816457\n",
      "Root Mean Squared Logarithmic Error (RMSLE): 0.64869434896894\n",
      "\n",
      "Training model for store 1 and family 20...\n"
     ]
    },
    {
     "name": "stderr",
     "output_type": "stream",
     "text": [
      "14:54:20 - cmdstanpy - INFO - Chain [1] done processing\n",
      "14:54:20 - cmdstanpy - INFO - Chain [1] start processing\n"
     ]
    },
    {
     "name": "stdout",
     "output_type": "stream",
     "text": [
      "There are 1 NaN values in the data.\n",
      "Root Mean Squared Error (RMSE): 14.070155738123256\n",
      "Root Mean Squared Logarithmic Error (RMSLE): 0.8974721825898162\n",
      "\n",
      "Training model for store 1 and family 21...\n"
     ]
    },
    {
     "name": "stderr",
     "output_type": "stream",
     "text": [
      "14:54:20 - cmdstanpy - INFO - Chain [1] done processing\n",
      "14:54:20 - cmdstanpy - INFO - Chain [1] start processing\n",
      "14:54:20 - cmdstanpy - INFO - Chain [1] done processing\n"
     ]
    },
    {
     "name": "stdout",
     "output_type": "stream",
     "text": [
      "There are 1 NaN values in the data.\n",
      "Root Mean Squared Error (RMSE): 7.134401283838924\n",
      "Root Mean Squared Logarithmic Error (RMSLE): 1.2572549228129692\n",
      "\n",
      "Training model for store 1 and family 22...\n"
     ]
    },
    {
     "name": "stderr",
     "output_type": "stream",
     "text": [
      "14:54:21 - cmdstanpy - INFO - Chain [1] start processing\n"
     ]
    },
    {
     "name": "stdout",
     "output_type": "stream",
     "text": [
      "There are 1 NaN values in the data.\n",
      "Root Mean Squared Error (RMSE): 45.50536455228008\n",
      "Root Mean Squared Logarithmic Error (RMSLE): 0.8176747013421576\n",
      "\n",
      "Training model for store 1 and family 23...\n"
     ]
    },
    {
     "name": "stderr",
     "output_type": "stream",
     "text": [
      "14:54:21 - cmdstanpy - INFO - Chain [1] done processing\n",
      "14:54:21 - cmdstanpy - INFO - Chain [1] start processing\n"
     ]
    },
    {
     "name": "stdout",
     "output_type": "stream",
     "text": [
      "There are 1 NaN values in the data.\n",
      "Root Mean Squared Error (RMSE): 5.314255842847249\n",
      "Root Mean Squared Logarithmic Error (RMSLE): 0.7480635481314865\n",
      "\n",
      "Training model for store 1 and family 24...\n"
     ]
    },
    {
     "name": "stderr",
     "output_type": "stream",
     "text": [
      "14:54:21 - cmdstanpy - INFO - Chain [1] done processing\n",
      "14:54:21 - cmdstanpy - INFO - Chain [1] start processing\n"
     ]
    },
    {
     "name": "stdout",
     "output_type": "stream",
     "text": [
      "There are 1 NaN values in the data.\n",
      "Root Mean Squared Error (RMSE): 95.70861986499635\n",
      "Root Mean Squared Logarithmic Error (RMSLE): 0.4608536061931615\n",
      "\n",
      "Training model for store 1 and family 25...\n"
     ]
    },
    {
     "name": "stderr",
     "output_type": "stream",
     "text": [
      "14:54:21 - cmdstanpy - INFO - Chain [1] done processing\n",
      "14:54:22 - cmdstanpy - INFO - Chain [1] start processing\n"
     ]
    },
    {
     "name": "stdout",
     "output_type": "stream",
     "text": [
      "There are 1 NaN values in the data.\n",
      "Root Mean Squared Error (RMSE): 53.47465581527416\n",
      "Root Mean Squared Logarithmic Error (RMSLE): 0.4958194155001211\n",
      "\n",
      "Training model for store 1 and family 26...\n"
     ]
    },
    {
     "name": "stderr",
     "output_type": "stream",
     "text": [
      "14:54:22 - cmdstanpy - INFO - Chain [1] done processing\n",
      "14:54:22 - cmdstanpy - INFO - Chain [1] start processing\n"
     ]
    },
    {
     "name": "stdout",
     "output_type": "stream",
     "text": [
      "There are 1 NaN values in the data.\n",
      "Root Mean Squared Error (RMSE): 3.2319207229627205\n",
      "Root Mean Squared Logarithmic Error (RMSLE): 0.5784019584737432\n",
      "\n",
      "Training model for store 1 and family 27...\n"
     ]
    },
    {
     "name": "stderr",
     "output_type": "stream",
     "text": [
      "14:54:22 - cmdstanpy - INFO - Chain [1] done processing\n",
      "14:54:22 - cmdstanpy - INFO - Chain [1] start processing\n"
     ]
    },
    {
     "name": "stdout",
     "output_type": "stream",
     "text": [
      "There are 1 NaN values in the data.\n",
      "Root Mean Squared Error (RMSE): 6.555089570442804\n",
      "Root Mean Squared Logarithmic Error (RMSLE): 0.7434692966176688\n",
      "\n",
      "Training model for store 1 and family 28...\n"
     ]
    },
    {
     "name": "stderr",
     "output_type": "stream",
     "text": [
      "14:54:22 - cmdstanpy - INFO - Chain [1] done processing\n",
      "14:54:22 - cmdstanpy - INFO - Chain [1] start processing\n"
     ]
    },
    {
     "name": "stdout",
     "output_type": "stream",
     "text": [
      "There are 1 NaN values in the data.\n",
      "Root Mean Squared Error (RMSE): 69.78063593526835\n",
      "Root Mean Squared Logarithmic Error (RMSLE): 0.4597243434512152\n",
      "\n",
      "Training model for store 1 and family 29...\n"
     ]
    },
    {
     "name": "stderr",
     "output_type": "stream",
     "text": [
      "14:54:23 - cmdstanpy - INFO - Chain [1] done processing\n"
     ]
    },
    {
     "name": "stdout",
     "output_type": "stream",
     "text": [
      "There are 1 NaN values in the data.\n",
      "Root Mean Squared Error (RMSE): 24.649256484009864\n",
      "Root Mean Squared Logarithmic Error (RMSLE): 0.41785520205122084\n",
      "\n",
      "Training model for store 1 and family 30...\n"
     ]
    },
    {
     "name": "stderr",
     "output_type": "stream",
     "text": [
      "14:54:23 - cmdstanpy - INFO - Chain [1] start processing\n",
      "14:54:23 - cmdstanpy - INFO - Chain [1] done processing\n",
      "14:54:23 - cmdstanpy - INFO - Chain [1] start processing\n"
     ]
    },
    {
     "name": "stdout",
     "output_type": "stream",
     "text": [
      "There are 1 NaN values in the data.\n",
      "Root Mean Squared Error (RMSE): 1103.5340645162134\n",
      "Root Mean Squared Logarithmic Error (RMSLE): 0.7673493685611624\n",
      "\n",
      "Training model for store 1 and family 31...\n"
     ]
    },
    {
     "name": "stderr",
     "output_type": "stream",
     "text": [
      "14:54:23 - cmdstanpy - INFO - Chain [1] done processing\n",
      "14:54:23 - cmdstanpy - INFO - Chain [1] start processing\n"
     ]
    },
    {
     "name": "stdout",
     "output_type": "stream",
     "text": [
      "There are 1 NaN values in the data.\n",
      "Root Mean Squared Error (RMSE): 0.5932924415577984\n",
      "Root Mean Squared Logarithmic Error (RMSLE): 0.37308116753456333\n",
      "\n",
      "Training model for store 1 and family 32...\n"
     ]
    },
    {
     "name": "stderr",
     "output_type": "stream",
     "text": [
      "14:54:24 - cmdstanpy - INFO - Chain [1] done processing\n",
      "14:54:24 - cmdstanpy - INFO - Chain [1] start processing\n"
     ]
    },
    {
     "name": "stdout",
     "output_type": "stream",
     "text": [
      "There are 1 NaN values in the data.\n",
      "Root Mean Squared Error (RMSE): 9.087565023847302\n",
      "Root Mean Squared Logarithmic Error (RMSLE): 0.3684180743036802\n",
      "\n",
      "Training model for store 10 and family 0...\n"
     ]
    },
    {
     "name": "stderr",
     "output_type": "stream",
     "text": [
      "14:54:24 - cmdstanpy - INFO - Chain [1] done processing\n",
      "14:54:24 - cmdstanpy - INFO - Chain [1] start processing\n"
     ]
    },
    {
     "name": "stdout",
     "output_type": "stream",
     "text": [
      "There are 1 NaN values in the data.\n",
      "Root Mean Squared Error (RMSE): 2.679279008566209\n",
      "Root Mean Squared Logarithmic Error (RMSLE): 0.7669155574721599\n",
      "\n",
      "Training model for store 10 and family 1...\n"
     ]
    },
    {
     "name": "stderr",
     "output_type": "stream",
     "text": [
      "14:54:24 - cmdstanpy - INFO - Chain [1] done processing\n",
      "14:54:24 - cmdstanpy - INFO - Chain [1] start processing\n",
      "14:54:24 - cmdstanpy - INFO - Chain [1] done processing\n"
     ]
    },
    {
     "name": "stdout",
     "output_type": "stream",
     "text": [
      "There are 1 NaN values in the data.\n",
      "Root Mean Squared Error (RMSE): 1.1673943331830892\n",
      "Root Mean Squared Logarithmic Error (RMSLE): 0.6911949566091294\n",
      "\n",
      "Training model for store 10 and family 2...\n"
     ]
    },
    {
     "name": "stderr",
     "output_type": "stream",
     "text": [
      "14:54:25 - cmdstanpy - INFO - Chain [1] start processing\n"
     ]
    },
    {
     "name": "stdout",
     "output_type": "stream",
     "text": [
      "There are 1 NaN values in the data.\n",
      "Root Mean Squared Error (RMSE): 1.5907177243061756\n",
      "Root Mean Squared Logarithmic Error (RMSLE): 0.6306973873195729\n",
      "\n",
      "Training model for store 10 and family 3...\n"
     ]
    },
    {
     "name": "stderr",
     "output_type": "stream",
     "text": [
      "14:54:25 - cmdstanpy - INFO - Chain [1] done processing\n"
     ]
    },
    {
     "name": "stdout",
     "output_type": "stream",
     "text": [
      "There are 1 NaN values in the data.\n",
      "Root Mean Squared Error (RMSE): 318.02330177456196\n",
      "Root Mean Squared Logarithmic Error (RMSLE): 0.6175833968901083\n",
      "\n",
      "Training model for store 10 and family 4...\n"
     ]
    },
    {
     "name": "stderr",
     "output_type": "stream",
     "text": [
      "14:54:25 - cmdstanpy - INFO - Chain [1] start processing\n",
      "14:54:25 - cmdstanpy - INFO - Chain [1] done processing\n"
     ]
    },
    {
     "name": "stdout",
     "output_type": "stream",
     "text": [
      "There are 1 NaN values in the data.\n",
      "Root Mean Squared Error (RMSE): 0.0\n",
      "Root Mean Squared Logarithmic Error (RMSLE): 0.0\n",
      "\n",
      "Training model for store 10 and family 5...\n"
     ]
    },
    {
     "name": "stderr",
     "output_type": "stream",
     "text": [
      "14:54:25 - cmdstanpy - INFO - Chain [1] start processing\n"
     ]
    },
    {
     "name": "stdout",
     "output_type": "stream",
     "text": [
      "There are 1 NaN values in the data.\n",
      "Root Mean Squared Error (RMSE): 27.17292889581715\n",
      "Root Mean Squared Logarithmic Error (RMSLE): 0.4486527756331998\n",
      "\n",
      "Training model for store 10 and family 6...\n"
     ]
    },
    {
     "name": "stderr",
     "output_type": "stream",
     "text": [
      "14:54:25 - cmdstanpy - INFO - Chain [1] done processing\n"
     ]
    },
    {
     "name": "stdout",
     "output_type": "stream",
     "text": [
      "There are 1 NaN values in the data.\n",
      "Root Mean Squared Error (RMSE): 4.0527520968251824\n",
      "Root Mean Squared Logarithmic Error (RMSLE): 0.9483279237480915\n",
      "\n",
      "Training model for store 10 and family 7...\n"
     ]
    },
    {
     "name": "stderr",
     "output_type": "stream",
     "text": [
      "14:54:26 - cmdstanpy - INFO - Chain [1] start processing\n",
      "14:54:26 - cmdstanpy - INFO - Chain [1] done processing\n",
      "14:54:26 - cmdstanpy - INFO - Chain [1] start processing\n"
     ]
    },
    {
     "name": "stdout",
     "output_type": "stream",
     "text": [
      "There are 1 NaN values in the data.\n",
      "Root Mean Squared Error (RMSE): 284.8654725513403\n",
      "Root Mean Squared Logarithmic Error (RMSLE): 0.6090879263172922\n",
      "\n",
      "Training model for store 10 and family 8...\n"
     ]
    },
    {
     "name": "stderr",
     "output_type": "stream",
     "text": [
      "14:54:26 - cmdstanpy - INFO - Chain [1] done processing\n",
      "14:54:26 - cmdstanpy - INFO - Chain [1] start processing\n"
     ]
    },
    {
     "name": "stdout",
     "output_type": "stream",
     "text": [
      "There are 1 NaN values in the data.\n",
      "Root Mean Squared Error (RMSE): 98.55483275309862\n",
      "Root Mean Squared Logarithmic Error (RMSLE): 0.5567348035122849\n",
      "\n",
      "Training model for store 10 and family 9...\n"
     ]
    },
    {
     "name": "stderr",
     "output_type": "stream",
     "text": [
      "14:54:27 - cmdstanpy - INFO - Chain [1] done processing\n",
      "14:54:27 - cmdstanpy - INFO - Chain [1] start processing\n"
     ]
    },
    {
     "name": "stdout",
     "output_type": "stream",
     "text": [
      "There are 1 NaN values in the data.\n",
      "Root Mean Squared Error (RMSE): 83.34390746940373\n",
      "Root Mean Squared Logarithmic Error (RMSLE): 0.5357587576508229\n",
      "\n",
      "Training model for store 10 and family 10...\n"
     ]
    },
    {
     "name": "stderr",
     "output_type": "stream",
     "text": [
      "14:54:27 - cmdstanpy - INFO - Chain [1] done processing\n",
      "14:54:27 - cmdstanpy - INFO - Chain [1] start processing\n"
     ]
    },
    {
     "name": "stdout",
     "output_type": "stream",
     "text": [
      "There are 1 NaN values in the data.\n",
      "Root Mean Squared Error (RMSE): 29.47798080330097\n",
      "Root Mean Squared Logarithmic Error (RMSLE): 0.7008467383323745\n",
      "\n",
      "Training model for store 10 and family 11...\n"
     ]
    },
    {
     "name": "stderr",
     "output_type": "stream",
     "text": [
      "14:54:27 - cmdstanpy - INFO - Chain [1] done processing\n",
      "14:54:27 - cmdstanpy - INFO - Chain [1] start processing\n"
     ]
    },
    {
     "name": "stdout",
     "output_type": "stream",
     "text": [
      "There are 1 NaN values in the data.\n",
      "Root Mean Squared Error (RMSE): 51.78004833273602\n",
      "Root Mean Squared Logarithmic Error (RMSLE): 1.5934200601039186\n",
      "\n",
      "Training model for store 10 and family 12...\n"
     ]
    },
    {
     "name": "stderr",
     "output_type": "stream",
     "text": [
      "14:54:27 - cmdstanpy - INFO - Chain [1] done processing\n",
      "14:54:28 - cmdstanpy - INFO - Chain [1] start processing\n"
     ]
    },
    {
     "name": "stdout",
     "output_type": "stream",
     "text": [
      "There are 1 NaN values in the data.\n",
      "Root Mean Squared Error (RMSE): 566.0490354657878\n",
      "Root Mean Squared Logarithmic Error (RMSLE): 0.6561104892295505\n",
      "\n",
      "Training model for store 10 and family 13...\n"
     ]
    },
    {
     "name": "stderr",
     "output_type": "stream",
     "text": [
      "14:54:28 - cmdstanpy - INFO - Chain [1] done processing\n",
      "14:54:28 - cmdstanpy - INFO - Chain [1] start processing\n"
     ]
    },
    {
     "name": "stdout",
     "output_type": "stream",
     "text": [
      "There are 1 NaN values in the data.\n",
      "Root Mean Squared Error (RMSE): 4.981067143782769\n",
      "Root Mean Squared Logarithmic Error (RMSLE): 0.7736237186864631\n",
      "\n",
      "Training model for store 10 and family 14...\n"
     ]
    },
    {
     "name": "stderr",
     "output_type": "stream",
     "text": [
      "14:54:28 - cmdstanpy - INFO - Chain [1] done processing\n",
      "14:54:28 - cmdstanpy - INFO - Chain [1] start processing\n"
     ]
    },
    {
     "name": "stdout",
     "output_type": "stream",
     "text": [
      "There are 1 NaN values in the data.\n",
      "Root Mean Squared Error (RMSE): 0.7953852518810018\n",
      "Root Mean Squared Logarithmic Error (RMSLE): 0.423977697595797\n",
      "\n",
      "Training model for store 10 and family 15...\n"
     ]
    },
    {
     "name": "stderr",
     "output_type": "stream",
     "text": [
      "14:54:28 - cmdstanpy - INFO - Chain [1] done processing\n",
      "14:54:28 - cmdstanpy - INFO - Chain [1] start processing\n"
     ]
    },
    {
     "name": "stdout",
     "output_type": "stream",
     "text": [
      "There are 1 NaN values in the data.\n",
      "Root Mean Squared Error (RMSE): 8.203806192498242\n",
      "Root Mean Squared Logarithmic Error (RMSLE): 0.766882889024983\n",
      "\n",
      "Training model for store 10 and family 16...\n"
     ]
    },
    {
     "name": "stderr",
     "output_type": "stream",
     "text": [
      "14:54:29 - cmdstanpy - INFO - Chain [1] done processing\n",
      "14:54:29 - cmdstanpy - INFO - Chain [1] start processing\n",
      "14:54:29 - cmdstanpy - INFO - Chain [1] done processing\n"
     ]
    },
    {
     "name": "stdout",
     "output_type": "stream",
     "text": [
      "There are 1 NaN values in the data.\n",
      "Root Mean Squared Error (RMSE): 7.307826049612825\n",
      "Root Mean Squared Logarithmic Error (RMSLE): 1.4370691288595847\n",
      "\n",
      "Training model for store 10 and family 17...\n"
     ]
    },
    {
     "name": "stderr",
     "output_type": "stream",
     "text": [
      "14:54:29 - cmdstanpy - INFO - Chain [1] start processing\n"
     ]
    },
    {
     "name": "stdout",
     "output_type": "stream",
     "text": [
      "There are 1 NaN values in the data.\n",
      "Root Mean Squared Error (RMSE): 0.3778397979191978\n",
      "Root Mean Squared Logarithmic Error (RMSLE): 0.2286450297820121\n",
      "\n",
      "Training model for store 10 and family 18...\n"
     ]
    },
    {
     "name": "stderr",
     "output_type": "stream",
     "text": [
      "14:54:29 - cmdstanpy - INFO - Chain [1] done processing\n",
      "14:54:29 - cmdstanpy - INFO - Chain [1] start processing\n"
     ]
    },
    {
     "name": "stdout",
     "output_type": "stream",
     "text": [
      "There are 1 NaN values in the data.\n",
      "Root Mean Squared Error (RMSE): 83.22628766767217\n",
      "Root Mean Squared Logarithmic Error (RMSLE): 0.6115302605607557\n",
      "\n",
      "Training model for store 10 and family 19...\n"
     ]
    },
    {
     "name": "stderr",
     "output_type": "stream",
     "text": [
      "14:54:29 - cmdstanpy - INFO - Chain [1] done processing\n",
      "14:54:30 - cmdstanpy - INFO - Chain [1] start processing\n"
     ]
    },
    {
     "name": "stdout",
     "output_type": "stream",
     "text": [
      "There are 1 NaN values in the data.\n",
      "Root Mean Squared Error (RMSE): 4.618544187433545\n",
      "Root Mean Squared Logarithmic Error (RMSLE): 0.8359121391990959\n",
      "\n",
      "Training model for store 10 and family 20...\n"
     ]
    },
    {
     "name": "stderr",
     "output_type": "stream",
     "text": [
      "14:54:30 - cmdstanpy - INFO - Chain [1] done processing\n",
      "14:54:30 - cmdstanpy - INFO - Chain [1] start processing\n"
     ]
    },
    {
     "name": "stdout",
     "output_type": "stream",
     "text": [
      "There are 1 NaN values in the data.\n",
      "Root Mean Squared Error (RMSE): 0.07072919671235378\n",
      "Root Mean Squared Logarithmic Error (RMSLE): 0.06331252512833088\n",
      "\n",
      "Training model for store 10 and family 21...\n"
     ]
    },
    {
     "name": "stderr",
     "output_type": "stream",
     "text": [
      "14:54:30 - cmdstanpy - INFO - Chain [1] done processing\n",
      "14:54:30 - cmdstanpy - INFO - Chain [1] start processing\n",
      "14:54:30 - cmdstanpy - INFO - Chain [1] done processing\n"
     ]
    },
    {
     "name": "stdout",
     "output_type": "stream",
     "text": [
      "There are 1 NaN values in the data.\n",
      "Root Mean Squared Error (RMSE): 3.117666093171622\n",
      "Root Mean Squared Logarithmic Error (RMSLE): 0.8628936827460724\n",
      "\n",
      "Training model for store 10 and family 22...\n"
     ]
    },
    {
     "name": "stderr",
     "output_type": "stream",
     "text": [
      "14:54:30 - cmdstanpy - INFO - Chain [1] start processing\n"
     ]
    },
    {
     "name": "stdout",
     "output_type": "stream",
     "text": [
      "There are 1 NaN values in the data.\n",
      "Root Mean Squared Error (RMSE): 10.98306483180166\n",
      "Root Mean Squared Logarithmic Error (RMSLE): 1.0579771886093114\n",
      "\n",
      "Training model for store 10 and family 23...\n"
     ]
    },
    {
     "name": "stderr",
     "output_type": "stream",
     "text": [
      "14:54:30 - cmdstanpy - INFO - Chain [1] done processing\n",
      "14:54:31 - cmdstanpy - INFO - Chain [1] start processing\n"
     ]
    },
    {
     "name": "stdout",
     "output_type": "stream",
     "text": [
      "There are 1 NaN values in the data.\n",
      "Root Mean Squared Error (RMSE): 0.8784689315135298\n",
      "Root Mean Squared Logarithmic Error (RMSLE): 0.5165277878142799\n",
      "\n",
      "Training model for store 10 and family 24...\n"
     ]
    },
    {
     "name": "stderr",
     "output_type": "stream",
     "text": [
      "14:54:31 - cmdstanpy - INFO - Chain [1] done processing\n",
      "14:54:31 - cmdstanpy - INFO - Chain [1] start processing\n"
     ]
    },
    {
     "name": "stdout",
     "output_type": "stream",
     "text": [
      "There are 1 NaN values in the data.\n",
      "Root Mean Squared Error (RMSE): 41.56482800225023\n",
      "Root Mean Squared Logarithmic Error (RMSLE): 0.4643597680789802\n",
      "\n",
      "Training model for store 10 and family 25...\n"
     ]
    },
    {
     "name": "stderr",
     "output_type": "stream",
     "text": [
      "14:54:31 - cmdstanpy - INFO - Chain [1] done processing\n",
      "14:54:31 - cmdstanpy - INFO - Chain [1] start processing\n"
     ]
    },
    {
     "name": "stdout",
     "output_type": "stream",
     "text": [
      "There are 1 NaN values in the data.\n",
      "Root Mean Squared Error (RMSE): 51.47147815398372\n",
      "Root Mean Squared Logarithmic Error (RMSLE): 0.4951961801567983\n",
      "\n",
      "Training model for store 10 and family 26...\n"
     ]
    },
    {
     "name": "stderr",
     "output_type": "stream",
     "text": [
      "14:54:31 - cmdstanpy - INFO - Chain [1] done processing\n"
     ]
    },
    {
     "name": "stdout",
     "output_type": "stream",
     "text": [
      "There are 1 NaN values in the data.\n",
      "Root Mean Squared Error (RMSE): 1.2275153783106802\n",
      "Root Mean Squared Logarithmic Error (RMSLE): 0.5379871011978777\n",
      "\n",
      "Training model for store 10 and family 27...\n"
     ]
    },
    {
     "name": "stderr",
     "output_type": "stream",
     "text": [
      "14:54:32 - cmdstanpy - INFO - Chain [1] start processing\n",
      "14:54:32 - cmdstanpy - INFO - Chain [1] done processing\n",
      "14:54:32 - cmdstanpy - INFO - Chain [1] start processing\n"
     ]
    },
    {
     "name": "stdout",
     "output_type": "stream",
     "text": [
      "There are 1 NaN values in the data.\n",
      "Root Mean Squared Error (RMSE): 3.559253451027142\n",
      "Root Mean Squared Logarithmic Error (RMSLE): 0.7661847699868098\n",
      "\n",
      "Training model for store 10 and family 28...\n"
     ]
    },
    {
     "name": "stderr",
     "output_type": "stream",
     "text": [
      "14:54:32 - cmdstanpy - INFO - Chain [1] done processing\n"
     ]
    },
    {
     "name": "stdout",
     "output_type": "stream",
     "text": [
      "There are 1 NaN values in the data.\n",
      "Root Mean Squared Error (RMSE): 46.22820965969105\n",
      "Root Mean Squared Logarithmic Error (RMSLE): 0.49866888692373584\n",
      "\n",
      "Training model for store 10 and family 29...\n"
     ]
    },
    {
     "name": "stderr",
     "output_type": "stream",
     "text": [
      "14:54:32 - cmdstanpy - INFO - Chain [1] start processing\n",
      "14:54:32 - cmdstanpy - INFO - Chain [1] done processing\n",
      "14:54:33 - cmdstanpy - INFO - Chain [1] start processing\n"
     ]
    },
    {
     "name": "stdout",
     "output_type": "stream",
     "text": [
      "There are 1 NaN values in the data.\n",
      "Root Mean Squared Error (RMSE): 17.04916759659286\n",
      "Root Mean Squared Logarithmic Error (RMSLE): 0.6168016455975955\n",
      "\n",
      "Training model for store 10 and family 30...\n"
     ]
    },
    {
     "name": "stderr",
     "output_type": "stream",
     "text": [
      "14:54:33 - cmdstanpy - INFO - Chain [1] done processing\n",
      "14:54:33 - cmdstanpy - INFO - Chain [1] start processing\n"
     ]
    },
    {
     "name": "stdout",
     "output_type": "stream",
     "text": [
      "There are 1 NaN values in the data.\n",
      "Root Mean Squared Error (RMSE): 91.92314875982406\n",
      "Root Mean Squared Logarithmic Error (RMSLE): 0.5645885949503481\n",
      "\n",
      "Training model for store 10 and family 31...\n"
     ]
    },
    {
     "name": "stderr",
     "output_type": "stream",
     "text": [
      "14:54:33 - cmdstanpy - INFO - Chain [1] done processing\n",
      "14:54:33 - cmdstanpy - INFO - Chain [1] start processing\n"
     ]
    },
    {
     "name": "stdout",
     "output_type": "stream",
     "text": [
      "There are 1 NaN values in the data.\n",
      "Root Mean Squared Error (RMSE): 4.577034225067339\n",
      "Root Mean Squared Logarithmic Error (RMSLE): 1.6756817373636541\n",
      "\n",
      "Training model for store 10 and family 32...\n"
     ]
    },
    {
     "name": "stderr",
     "output_type": "stream",
     "text": [
      "14:54:33 - cmdstanpy - INFO - Chain [1] done processing\n",
      "14:54:34 - cmdstanpy - INFO - Chain [1] start processing\n"
     ]
    },
    {
     "name": "stdout",
     "output_type": "stream",
     "text": [
      "There are 1 NaN values in the data.\n",
      "Root Mean Squared Error (RMSE): 4.266410199490146\n",
      "Root Mean Squared Logarithmic Error (RMSLE): 1.2254431296877546\n",
      "\n",
      "Training model for store 11 and family 0...\n"
     ]
    },
    {
     "name": "stderr",
     "output_type": "stream",
     "text": [
      "14:54:34 - cmdstanpy - INFO - Chain [1] done processing\n",
      "14:54:34 - cmdstanpy - INFO - Chain [1] start processing\n"
     ]
    },
    {
     "name": "stdout",
     "output_type": "stream",
     "text": [
      "There are 1 NaN values in the data.\n",
      "Root Mean Squared Error (RMSE): 4.226950631122314\n",
      "Root Mean Squared Logarithmic Error (RMSLE): 0.5957686423067297\n",
      "\n",
      "Training model for store 11 and family 1...\n"
     ]
    },
    {
     "name": "stderr",
     "output_type": "stream",
     "text": [
      "14:54:34 - cmdstanpy - INFO - Chain [1] done processing\n",
      "14:54:34 - cmdstanpy - INFO - Chain [1] start processing\n"
     ]
    },
    {
     "name": "stdout",
     "output_type": "stream",
     "text": [
      "There are 1 NaN values in the data.\n",
      "Root Mean Squared Error (RMSE): 0.8970900045209487\n",
      "Root Mean Squared Logarithmic Error (RMSLE): 0.47198409986692125\n",
      "\n",
      "Training model for store 11 and family 2...\n"
     ]
    },
    {
     "name": "stderr",
     "output_type": "stream",
     "text": [
      "14:54:34 - cmdstanpy - INFO - Chain [1] done processing\n",
      "14:54:34 - cmdstanpy - INFO - Chain [1] start processing\n"
     ]
    },
    {
     "name": "stdout",
     "output_type": "stream",
     "text": [
      "There are 1 NaN values in the data.\n",
      "Root Mean Squared Error (RMSE): 5.7191098617914875\n",
      "Root Mean Squared Logarithmic Error (RMSLE): 0.7689725812983302\n",
      "\n",
      "Training model for store 11 and family 3...\n"
     ]
    },
    {
     "name": "stderr",
     "output_type": "stream",
     "text": [
      "14:54:34 - cmdstanpy - INFO - Chain [1] done processing\n"
     ]
    },
    {
     "name": "stdout",
     "output_type": "stream",
     "text": [
      "There are 1 NaN values in the data.\n",
      "Root Mean Squared Error (RMSE): 999.438510358245\n",
      "Root Mean Squared Logarithmic Error (RMSLE): 0.697716200647804\n",
      "\n",
      "Training model for store 11 and family 4...\n",
      "There are 1 NaN values in the data.\n",
      "Root Mean Squared Error (RMSE): 0.0\n",
      "Root Mean Squared Logarithmic Error (RMSLE): 0.0\n"
     ]
    },
    {
     "name": "stderr",
     "output_type": "stream",
     "text": [
      "14:54:35 - cmdstanpy - INFO - Chain [1] start processing\n",
      "14:54:35 - cmdstanpy - INFO - Chain [1] done processing\n"
     ]
    },
    {
     "name": "stdout",
     "output_type": "stream",
     "text": [
      "\n",
      "Training model for store 11 and family 5...\n",
      "There are 1 NaN values in the data.\n",
      "Root Mean Squared Error (RMSE): 166.02925177785468\n",
      "Root Mean Squared Logarithmic Error (RMSLE): 0.5421613479255926\n"
     ]
    },
    {
     "name": "stderr",
     "output_type": "stream",
     "text": [
      "14:54:35 - cmdstanpy - INFO - Chain [1] start processing\n",
      "14:54:35 - cmdstanpy - INFO - Chain [1] done processing\n"
     ]
    },
    {
     "name": "stdout",
     "output_type": "stream",
     "text": [
      "\n",
      "Training model for store 11 and family 6...\n",
      "There are 1 NaN values in the data.\n",
      "Root Mean Squared Error (RMSE): 10.684589855519864\n",
      "Root Mean Squared Logarithmic Error (RMSLE): 0.7438650454065475\n"
     ]
    },
    {
     "name": "stderr",
     "output_type": "stream",
     "text": [
      "14:54:35 - cmdstanpy - INFO - Chain [1] start processing\n",
      "14:54:35 - cmdstanpy - INFO - Chain [1] done processing\n"
     ]
    },
    {
     "name": "stdout",
     "output_type": "stream",
     "text": [
      "\n",
      "Training model for store 11 and family 7...\n"
     ]
    },
    {
     "name": "stderr",
     "output_type": "stream",
     "text": [
      "14:54:36 - cmdstanpy - INFO - Chain [1] start processing\n"
     ]
    },
    {
     "name": "stdout",
     "output_type": "stream",
     "text": [
      "There are 1 NaN values in the data.\n",
      "Root Mean Squared Error (RMSE): 589.833819948276\n",
      "Root Mean Squared Logarithmic Error (RMSLE): 0.6524973714792163\n",
      "\n",
      "Training model for store 11 and family 8...\n"
     ]
    },
    {
     "name": "stderr",
     "output_type": "stream",
     "text": [
      "14:54:36 - cmdstanpy - INFO - Chain [1] done processing\n",
      "14:54:36 - cmdstanpy - INFO - Chain [1] start processing\n"
     ]
    },
    {
     "name": "stdout",
     "output_type": "stream",
     "text": [
      "There are 1 NaN values in the data.\n",
      "Root Mean Squared Error (RMSE): 161.4127273572462\n",
      "Root Mean Squared Logarithmic Error (RMSLE): 0.5584402968374667\n",
      "\n",
      "Training model for store 11 and family 9...\n"
     ]
    },
    {
     "name": "stderr",
     "output_type": "stream",
     "text": [
      "14:54:36 - cmdstanpy - INFO - Chain [1] done processing\n",
      "14:54:36 - cmdstanpy - INFO - Chain [1] start processing\n"
     ]
    },
    {
     "name": "stdout",
     "output_type": "stream",
     "text": [
      "There are 1 NaN values in the data.\n",
      "Root Mean Squared Error (RMSE): 135.2373363022322\n",
      "Root Mean Squared Logarithmic Error (RMSLE): 0.5474542470853173\n",
      "\n",
      "Training model for store 11 and family 10...\n"
     ]
    },
    {
     "name": "stderr",
     "output_type": "stream",
     "text": [
      "14:54:36 - cmdstanpy - INFO - Chain [1] done processing\n",
      "14:54:37 - cmdstanpy - INFO - Chain [1] start processing\n"
     ]
    },
    {
     "name": "stdout",
     "output_type": "stream",
     "text": [
      "There are 1 NaN values in the data.\n",
      "Root Mean Squared Error (RMSE): 128.6344603680021\n",
      "Root Mean Squared Logarithmic Error (RMSLE): 0.6896594096482881\n",
      "\n",
      "Training model for store 11 and family 11...\n"
     ]
    },
    {
     "name": "stderr",
     "output_type": "stream",
     "text": [
      "14:54:37 - cmdstanpy - INFO - Chain [1] done processing\n",
      "14:54:37 - cmdstanpy - INFO - Chain [1] start processing\n"
     ]
    },
    {
     "name": "stdout",
     "output_type": "stream",
     "text": [
      "There are 1 NaN values in the data.\n",
      "Root Mean Squared Error (RMSE): 93.32608717638895\n",
      "Root Mean Squared Logarithmic Error (RMSLE): 0.5869630625958203\n",
      "\n",
      "Training model for store 11 and family 12...\n"
     ]
    },
    {
     "name": "stderr",
     "output_type": "stream",
     "text": [
      "14:54:37 - cmdstanpy - INFO - Chain [1] done processing\n",
      "14:54:37 - cmdstanpy - INFO - Chain [1] start processing\n",
      "14:54:37 - cmdstanpy - INFO - Chain [1] done processing\n"
     ]
    },
    {
     "name": "stdout",
     "output_type": "stream",
     "text": [
      "There are 1 NaN values in the data.\n",
      "Root Mean Squared Error (RMSE): 1966.4458175981151\n",
      "Root Mean Squared Logarithmic Error (RMSLE): 0.7414010296308231\n",
      "\n",
      "Training model for store 11 and family 13...\n"
     ]
    },
    {
     "name": "stderr",
     "output_type": "stream",
     "text": [
      "14:54:37 - cmdstanpy - INFO - Chain [1] start processing\n",
      "14:54:37 - cmdstanpy - INFO - Chain [1] done processing\n"
     ]
    },
    {
     "name": "stdout",
     "output_type": "stream",
     "text": [
      "There are 1 NaN values in the data.\n",
      "Root Mean Squared Error (RMSE): 16.721250546167294\n",
      "Root Mean Squared Logarithmic Error (RMSLE): 0.7590364660351482\n",
      "\n",
      "Training model for store 11 and family 14...\n"
     ]
    },
    {
     "name": "stderr",
     "output_type": "stream",
     "text": [
      "14:54:38 - cmdstanpy - INFO - Chain [1] start processing\n"
     ]
    },
    {
     "name": "stdout",
     "output_type": "stream",
     "text": [
      "There are 1 NaN values in the data.\n",
      "Root Mean Squared Error (RMSE): 1.0076655821350646\n",
      "Root Mean Squared Logarithmic Error (RMSLE): 0.5073175072931666\n",
      "\n",
      "Training model for store 11 and family 15...\n"
     ]
    },
    {
     "name": "stderr",
     "output_type": "stream",
     "text": [
      "14:54:38 - cmdstanpy - INFO - Chain [1] done processing\n",
      "14:54:38 - cmdstanpy - INFO - Chain [1] start processing\n"
     ]
    },
    {
     "name": "stdout",
     "output_type": "stream",
     "text": [
      "There are 1 NaN values in the data.\n",
      "Root Mean Squared Error (RMSE): 29.162769470735267\n",
      "Root Mean Squared Logarithmic Error (RMSLE): 0.6267845640198647\n",
      "\n",
      "Training model for store 11 and family 16...\n"
     ]
    },
    {
     "name": "stderr",
     "output_type": "stream",
     "text": [
      "14:54:38 - cmdstanpy - INFO - Chain [1] done processing\n",
      "14:54:38 - cmdstanpy - INFO - Chain [1] start processing\n"
     ]
    },
    {
     "name": "stdout",
     "output_type": "stream",
     "text": [
      "There are 1 NaN values in the data.\n",
      "Root Mean Squared Error (RMSE): 22.073654525400745\n",
      "Root Mean Squared Logarithmic Error (RMSLE): 1.2985095600584255\n",
      "\n",
      "Training model for store 11 and family 17...\n"
     ]
    },
    {
     "name": "stderr",
     "output_type": "stream",
     "text": [
      "14:54:38 - cmdstanpy - INFO - Chain [1] done processing\n",
      "14:54:39 - cmdstanpy - INFO - Chain [1] start processing\n"
     ]
    },
    {
     "name": "stdout",
     "output_type": "stream",
     "text": [
      "There are 1 NaN values in the data.\n",
      "Root Mean Squared Error (RMSE): 0.6966539102740967\n",
      "Root Mean Squared Logarithmic Error (RMSLE): 0.3993903007518422\n",
      "\n",
      "Training model for store 11 and family 18...\n"
     ]
    },
    {
     "name": "stderr",
     "output_type": "stream",
     "text": [
      "14:54:39 - cmdstanpy - INFO - Chain [1] done processing\n",
      "14:54:39 - cmdstanpy - INFO - Chain [1] start processing\n"
     ]
    },
    {
     "name": "stdout",
     "output_type": "stream",
     "text": [
      "There are 1 NaN values in the data.\n",
      "Root Mean Squared Error (RMSE): 218.09626136584282\n",
      "Root Mean Squared Logarithmic Error (RMSLE): 0.63892991488271\n",
      "\n",
      "Training model for store 11 and family 19...\n"
     ]
    },
    {
     "name": "stderr",
     "output_type": "stream",
     "text": [
      "14:54:39 - cmdstanpy - INFO - Chain [1] done processing\n",
      "14:54:39 - cmdstanpy - INFO - Chain [1] start processing\n"
     ]
    },
    {
     "name": "stdout",
     "output_type": "stream",
     "text": [
      "There are 1 NaN values in the data.\n",
      "Root Mean Squared Error (RMSE): 8.89887831520385\n",
      "Root Mean Squared Logarithmic Error (RMSLE): 0.6912047917938912\n",
      "\n",
      "Training model for store 11 and family 20...\n"
     ]
    },
    {
     "name": "stderr",
     "output_type": "stream",
     "text": [
      "14:54:39 - cmdstanpy - INFO - Chain [1] done processing\n",
      "14:54:39 - cmdstanpy - INFO - Chain [1] start processing\n"
     ]
    },
    {
     "name": "stdout",
     "output_type": "stream",
     "text": [
      "There are 1 NaN values in the data.\n",
      "Root Mean Squared Error (RMSE): 6.0398177103447335\n",
      "Root Mean Squared Logarithmic Error (RMSLE): 0.8519950706348877\n",
      "\n",
      "Training model for store 11 and family 21...\n"
     ]
    },
    {
     "name": "stderr",
     "output_type": "stream",
     "text": [
      "14:54:40 - cmdstanpy - INFO - Chain [1] done processing\n",
      "14:54:40 - cmdstanpy - INFO - Chain [1] start processing\n"
     ]
    },
    {
     "name": "stdout",
     "output_type": "stream",
     "text": [
      "There are 1 NaN values in the data.\n",
      "Root Mean Squared Error (RMSE): 10.204104769852673\n",
      "Root Mean Squared Logarithmic Error (RMSLE): 2.056189781995415\n",
      "\n",
      "Training model for store 11 and family 22...\n"
     ]
    },
    {
     "name": "stderr",
     "output_type": "stream",
     "text": [
      "14:54:40 - cmdstanpy - INFO - Chain [1] done processing\n",
      "14:54:40 - cmdstanpy - INFO - Chain [1] start processing\n"
     ]
    },
    {
     "name": "stdout",
     "output_type": "stream",
     "text": [
      "There are 1 NaN values in the data.\n",
      "Root Mean Squared Error (RMSE): 35.19630703078879\n",
      "Root Mean Squared Logarithmic Error (RMSLE): 1.2758150226556801\n",
      "\n",
      "Training model for store 11 and family 23...\n"
     ]
    },
    {
     "name": "stderr",
     "output_type": "stream",
     "text": [
      "14:54:40 - cmdstanpy - INFO - Chain [1] done processing\n",
      "14:54:40 - cmdstanpy - INFO - Chain [1] start processing\n"
     ]
    },
    {
     "name": "stdout",
     "output_type": "stream",
     "text": [
      "There are 1 NaN values in the data.\n",
      "Root Mean Squared Error (RMSE): 3.954165668562099\n",
      "Root Mean Squared Logarithmic Error (RMSLE): 0.9384854838570263\n",
      "\n",
      "Training model for store 11 and family 24...\n"
     ]
    },
    {
     "name": "stderr",
     "output_type": "stream",
     "text": [
      "14:54:40 - cmdstanpy - INFO - Chain [1] done processing\n",
      "14:54:41 - cmdstanpy - INFO - Chain [1] start processing\n"
     ]
    },
    {
     "name": "stdout",
     "output_type": "stream",
     "text": [
      "There are 1 NaN values in the data.\n",
      "Root Mean Squared Error (RMSE): 143.80022515958655\n",
      "Root Mean Squared Logarithmic Error (RMSLE): 0.5418089367520851\n",
      "\n",
      "Training model for store 11 and family 25...\n"
     ]
    },
    {
     "name": "stderr",
     "output_type": "stream",
     "text": [
      "14:54:41 - cmdstanpy - INFO - Chain [1] done processing\n"
     ]
    },
    {
     "name": "stdout",
     "output_type": "stream",
     "text": [
      "There are 1 NaN values in the data.\n",
      "Root Mean Squared Error (RMSE): 153.7502846406644\n",
      "Root Mean Squared Logarithmic Error (RMSLE): 0.5859593445541621\n",
      "\n",
      "Training model for store 11 and family 26...\n"
     ]
    },
    {
     "name": "stderr",
     "output_type": "stream",
     "text": [
      "14:54:41 - cmdstanpy - INFO - Chain [1] start processing\n",
      "14:54:41 - cmdstanpy - INFO - Chain [1] done processing\n",
      "14:54:41 - cmdstanpy - INFO - Chain [1] start processing\n"
     ]
    },
    {
     "name": "stdout",
     "output_type": "stream",
     "text": [
      "There are 1 NaN values in the data.\n",
      "Root Mean Squared Error (RMSE): 1.8912205206447794\n",
      "Root Mean Squared Logarithmic Error (RMSLE): 0.5467863734515487\n",
      "\n",
      "Training model for store 11 and family 27...\n"
     ]
    },
    {
     "name": "stderr",
     "output_type": "stream",
     "text": [
      "14:54:41 - cmdstanpy - INFO - Chain [1] done processing\n",
      "14:54:42 - cmdstanpy - INFO - Chain [1] start processing\n"
     ]
    },
    {
     "name": "stdout",
     "output_type": "stream",
     "text": [
      "There are 1 NaN values in the data.\n",
      "Root Mean Squared Error (RMSE): 9.664091193356269\n",
      "Root Mean Squared Logarithmic Error (RMSLE): 0.5403691966129828\n",
      "\n",
      "Training model for store 11 and family 28...\n"
     ]
    },
    {
     "name": "stderr",
     "output_type": "stream",
     "text": [
      "14:54:42 - cmdstanpy - INFO - Chain [1] done processing\n",
      "14:54:42 - cmdstanpy - INFO - Chain [1] start processing\n"
     ]
    },
    {
     "name": "stdout",
     "output_type": "stream",
     "text": [
      "There are 1 NaN values in the data.\n",
      "Root Mean Squared Error (RMSE): 199.27574652042614\n",
      "Root Mean Squared Logarithmic Error (RMSLE): 0.6958866903405171\n",
      "\n",
      "Training model for store 11 and family 29...\n"
     ]
    },
    {
     "name": "stderr",
     "output_type": "stream",
     "text": [
      "14:54:42 - cmdstanpy - INFO - Chain [1] done processing\n",
      "14:54:42 - cmdstanpy - INFO - Chain [1] start processing\n"
     ]
    },
    {
     "name": "stdout",
     "output_type": "stream",
     "text": [
      "There are 1 NaN values in the data.\n",
      "Root Mean Squared Error (RMSE): 49.21436767624242\n",
      "Root Mean Squared Logarithmic Error (RMSLE): 0.703597898790457\n",
      "\n",
      "Training model for store 11 and family 30...\n"
     ]
    },
    {
     "name": "stderr",
     "output_type": "stream",
     "text": [
      "14:54:42 - cmdstanpy - INFO - Chain [1] done processing\n",
      "14:54:42 - cmdstanpy - INFO - Chain [1] start processing\n"
     ]
    },
    {
     "name": "stdout",
     "output_type": "stream",
     "text": [
      "There are 1 NaN values in the data.\n",
      "Root Mean Squared Error (RMSE): 757.7408671911471\n",
      "Root Mean Squared Logarithmic Error (RMSLE): 0.6970258522839803\n",
      "\n",
      "Training model for store 11 and family 31...\n"
     ]
    },
    {
     "name": "stderr",
     "output_type": "stream",
     "text": [
      "14:54:43 - cmdstanpy - INFO - Chain [1] done processing\n",
      "14:54:43 - cmdstanpy - INFO - Chain [1] start processing\n"
     ]
    },
    {
     "name": "stdout",
     "output_type": "stream",
     "text": [
      "There are 1 NaN values in the data.\n",
      "Root Mean Squared Error (RMSE): 7.668637028671155\n",
      "Root Mean Squared Logarithmic Error (RMSLE): 1.155652992732304\n",
      "\n",
      "Training model for store 11 and family 32...\n"
     ]
    },
    {
     "name": "stderr",
     "output_type": "stream",
     "text": [
      "14:54:43 - cmdstanpy - INFO - Chain [1] done processing\n",
      "14:54:43 - cmdstanpy - INFO - Chain [1] start processing\n"
     ]
    },
    {
     "name": "stdout",
     "output_type": "stream",
     "text": [
      "There are 1 NaN values in the data.\n",
      "Root Mean Squared Error (RMSE): 6.304148929882735\n",
      "Root Mean Squared Logarithmic Error (RMSLE): 0.6768043447456684\n",
      "\n",
      "Training model for store 12 and family 0...\n"
     ]
    },
    {
     "name": "stderr",
     "output_type": "stream",
     "text": [
      "14:54:43 - cmdstanpy - INFO - Chain [1] done processing\n",
      "14:54:43 - cmdstanpy - INFO - Chain [1] start processing\n"
     ]
    },
    {
     "name": "stdout",
     "output_type": "stream",
     "text": [
      "There are 1 NaN values in the data.\n",
      "Root Mean Squared Error (RMSE): 3.487196391986868\n",
      "Root Mean Squared Logarithmic Error (RMSLE): 0.6012138467126643\n",
      "\n",
      "Training model for store 12 and family 1...\n"
     ]
    },
    {
     "name": "stderr",
     "output_type": "stream",
     "text": [
      "14:54:43 - cmdstanpy - INFO - Chain [1] done processing\n"
     ]
    },
    {
     "name": "stdout",
     "output_type": "stream",
     "text": [
      "There are 1 NaN values in the data.\n",
      "Root Mean Squared Error (RMSE): 0.8608599307963753\n",
      "Root Mean Squared Logarithmic Error (RMSLE): 0.5715495665989024\n",
      "\n",
      "Training model for store 12 and family 2...\n"
     ]
    },
    {
     "name": "stderr",
     "output_type": "stream",
     "text": [
      "14:54:44 - cmdstanpy - INFO - Chain [1] start processing\n",
      "14:54:44 - cmdstanpy - INFO - Chain [1] done processing\n",
      "14:54:44 - cmdstanpy - INFO - Chain [1] start processing\n"
     ]
    },
    {
     "name": "stdout",
     "output_type": "stream",
     "text": [
      "There are 1 NaN values in the data.\n",
      "Root Mean Squared Error (RMSE): 1.5795361027116261\n",
      "Root Mean Squared Logarithmic Error (RMSLE): 0.598308978956788\n",
      "\n",
      "Training model for store 12 and family 3...\n"
     ]
    },
    {
     "name": "stderr",
     "output_type": "stream",
     "text": [
      "14:54:44 - cmdstanpy - INFO - Chain [1] done processing\n"
     ]
    },
    {
     "name": "stdout",
     "output_type": "stream",
     "text": [
      "There are 1 NaN values in the data.\n",
      "Root Mean Squared Error (RMSE): 380.9407454903059\n",
      "Root Mean Squared Logarithmic Error (RMSLE): 0.6250214350943615\n",
      "\n",
      "Training model for store 12 and family 4...\n",
      "There are 1 NaN values in the data.\n",
      "Root Mean Squared Error (RMSE): 0.0\n",
      "Root Mean Squared Logarithmic Error (RMSLE): 0.0\n"
     ]
    },
    {
     "name": "stderr",
     "output_type": "stream",
     "text": [
      "14:54:45 - cmdstanpy - INFO - Chain [1] start processing\n",
      "14:54:45 - cmdstanpy - INFO - Chain [1] done processing\n"
     ]
    },
    {
     "name": "stdout",
     "output_type": "stream",
     "text": [
      "\n",
      "Training model for store 12 and family 5...\n"
     ]
    },
    {
     "name": "stderr",
     "output_type": "stream",
     "text": [
      "14:54:45 - cmdstanpy - INFO - Chain [1] start processing\n"
     ]
    },
    {
     "name": "stdout",
     "output_type": "stream",
     "text": [
      "There are 1 NaN values in the data.\n",
      "Root Mean Squared Error (RMSE): 71.48156724110645\n",
      "Root Mean Squared Logarithmic Error (RMSLE): 0.4849728310790652\n",
      "\n",
      "Training model for store 12 and family 6...\n"
     ]
    },
    {
     "name": "stderr",
     "output_type": "stream",
     "text": [
      "14:54:45 - cmdstanpy - INFO - Chain [1] done processing\n",
      "14:54:45 - cmdstanpy - INFO - Chain [1] start processing\n"
     ]
    },
    {
     "name": "stdout",
     "output_type": "stream",
     "text": [
      "There are 1 NaN values in the data.\n",
      "Root Mean Squared Error (RMSE): 12.793430387572043\n",
      "Root Mean Squared Logarithmic Error (RMSLE): 0.802894097895011\n",
      "\n",
      "Training model for store 12 and family 7...\n"
     ]
    },
    {
     "name": "stderr",
     "output_type": "stream",
     "text": [
      "14:54:45 - cmdstanpy - INFO - Chain [1] done processing\n",
      "14:54:46 - cmdstanpy - INFO - Chain [1] start processing\n"
     ]
    },
    {
     "name": "stdout",
     "output_type": "stream",
     "text": [
      "There are 1 NaN values in the data.\n",
      "Root Mean Squared Error (RMSE): 439.4072863927794\n",
      "Root Mean Squared Logarithmic Error (RMSLE): 0.62343443880151\n",
      "\n",
      "Training model for store 12 and family 8...\n"
     ]
    },
    {
     "name": "stderr",
     "output_type": "stream",
     "text": [
      "14:54:46 - cmdstanpy - INFO - Chain [1] done processing\n",
      "14:54:46 - cmdstanpy - INFO - Chain [1] start processing\n"
     ]
    },
    {
     "name": "stdout",
     "output_type": "stream",
     "text": [
      "There are 1 NaN values in the data.\n",
      "Root Mean Squared Error (RMSE): 155.78115892223732\n",
      "Root Mean Squared Logarithmic Error (RMSLE): 0.5841395361166313\n",
      "\n",
      "Training model for store 12 and family 9...\n"
     ]
    },
    {
     "name": "stderr",
     "output_type": "stream",
     "text": [
      "14:54:46 - cmdstanpy - INFO - Chain [1] done processing\n",
      "14:54:46 - cmdstanpy - INFO - Chain [1] start processing\n"
     ]
    },
    {
     "name": "stdout",
     "output_type": "stream",
     "text": [
      "There are 1 NaN values in the data.\n",
      "Root Mean Squared Error (RMSE): 64.99285788444733\n",
      "Root Mean Squared Logarithmic Error (RMSLE): 0.5045654462461184\n",
      "\n",
      "Training model for store 12 and family 10...\n"
     ]
    },
    {
     "name": "stderr",
     "output_type": "stream",
     "text": [
      "14:54:46 - cmdstanpy - INFO - Chain [1] done processing\n",
      "14:54:46 - cmdstanpy - INFO - Chain [1] start processing\n"
     ]
    },
    {
     "name": "stdout",
     "output_type": "stream",
     "text": [
      "There are 1 NaN values in the data.\n",
      "Root Mean Squared Error (RMSE): 49.42448109776331\n",
      "Root Mean Squared Logarithmic Error (RMSLE): 0.741701806375257\n",
      "\n",
      "Training model for store 12 and family 11...\n"
     ]
    },
    {
     "name": "stderr",
     "output_type": "stream",
     "text": [
      "14:54:46 - cmdstanpy - INFO - Chain [1] done processing\n",
      "14:54:47 - cmdstanpy - INFO - Chain [1] start processing\n"
     ]
    },
    {
     "name": "stdout",
     "output_type": "stream",
     "text": [
      "There are 1 NaN values in the data.\n",
      "Root Mean Squared Error (RMSE): 43.02145302107348\n",
      "Root Mean Squared Logarithmic Error (RMSLE): 0.5485929576387139\n",
      "\n",
      "Training model for store 12 and family 12...\n"
     ]
    },
    {
     "name": "stderr",
     "output_type": "stream",
     "text": [
      "14:54:47 - cmdstanpy - INFO - Chain [1] done processing\n",
      "14:54:47 - cmdstanpy - INFO - Chain [1] start processing\n"
     ]
    },
    {
     "name": "stdout",
     "output_type": "stream",
     "text": [
      "There are 1 NaN values in the data.\n",
      "Root Mean Squared Error (RMSE): 576.921045086381\n",
      "Root Mean Squared Logarithmic Error (RMSLE): 0.6500072741123237\n",
      "\n",
      "Training model for store 12 and family 13...\n"
     ]
    },
    {
     "name": "stderr",
     "output_type": "stream",
     "text": [
      "14:54:47 - cmdstanpy - INFO - Chain [1] done processing\n",
      "14:54:47 - cmdstanpy - INFO - Chain [1] start processing\n"
     ]
    },
    {
     "name": "stdout",
     "output_type": "stream",
     "text": [
      "There are 1 NaN values in the data.\n",
      "Root Mean Squared Error (RMSE): 7.620068031291468\n",
      "Root Mean Squared Logarithmic Error (RMSLE): 0.7549228138172183\n",
      "\n",
      "Training model for store 12 and family 14...\n"
     ]
    },
    {
     "name": "stderr",
     "output_type": "stream",
     "text": [
      "14:54:47 - cmdstanpy - INFO - Chain [1] done processing\n",
      "14:54:48 - cmdstanpy - INFO - Chain [1] start processing\n"
     ]
    },
    {
     "name": "stdout",
     "output_type": "stream",
     "text": [
      "There are 1 NaN values in the data.\n",
      "Root Mean Squared Error (RMSE): 1.8423945873754908\n",
      "Root Mean Squared Logarithmic Error (RMSLE): 0.5919876105302927\n",
      "\n",
      "Training model for store 12 and family 15...\n"
     ]
    },
    {
     "name": "stderr",
     "output_type": "stream",
     "text": [
      "14:54:48 - cmdstanpy - INFO - Chain [1] done processing\n",
      "14:54:48 - cmdstanpy - INFO - Chain [1] start processing\n"
     ]
    },
    {
     "name": "stdout",
     "output_type": "stream",
     "text": [
      "There are 1 NaN values in the data.\n",
      "Root Mean Squared Error (RMSE): 10.950336332152947\n",
      "Root Mean Squared Logarithmic Error (RMSLE): 0.7064326414087772\n",
      "\n",
      "Training model for store 12 and family 16...\n"
     ]
    },
    {
     "name": "stderr",
     "output_type": "stream",
     "text": [
      "14:54:48 - cmdstanpy - INFO - Chain [1] done processing\n",
      "14:54:48 - cmdstanpy - INFO - Chain [1] start processing\n"
     ]
    },
    {
     "name": "stdout",
     "output_type": "stream",
     "text": [
      "There are 1 NaN values in the data.\n",
      "Root Mean Squared Error (RMSE): 7.421552578978686\n",
      "Root Mean Squared Logarithmic Error (RMSLE): 0.48729268694601735\n",
      "\n",
      "Training model for store 12 and family 17...\n"
     ]
    },
    {
     "name": "stderr",
     "output_type": "stream",
     "text": [
      "14:54:48 - cmdstanpy - INFO - Chain [1] done processing\n",
      "14:54:48 - cmdstanpy - INFO - Chain [1] start processing\n"
     ]
    },
    {
     "name": "stdout",
     "output_type": "stream",
     "text": [
      "There are 1 NaN values in the data.\n",
      "Root Mean Squared Error (RMSE): 0.5501366244874127\n",
      "Root Mean Squared Logarithmic Error (RMSLE): 0.33683116121231027\n",
      "\n",
      "Training model for store 12 and family 18...\n"
     ]
    },
    {
     "name": "stderr",
     "output_type": "stream",
     "text": [
      "14:54:48 - cmdstanpy - INFO - Chain [1] done processing\n",
      "14:54:49 - cmdstanpy - INFO - Chain [1] start processing\n"
     ]
    },
    {
     "name": "stdout",
     "output_type": "stream",
     "text": [
      "There are 1 NaN values in the data.\n",
      "Root Mean Squared Error (RMSE): 73.33664014445078\n",
      "Root Mean Squared Logarithmic Error (RMSLE): 0.5589897480259178\n",
      "\n",
      "Training model for store 12 and family 19...\n"
     ]
    },
    {
     "name": "stderr",
     "output_type": "stream",
     "text": [
      "14:54:49 - cmdstanpy - INFO - Chain [1] done processing\n",
      "14:54:49 - cmdstanpy - INFO - Chain [1] start processing\n"
     ]
    },
    {
     "name": "stdout",
     "output_type": "stream",
     "text": [
      "There are 1 NaN values in the data.\n",
      "Root Mean Squared Error (RMSE): 5.255868704022471\n",
      "Root Mean Squared Logarithmic Error (RMSLE): 1.2109663497736527\n",
      "\n",
      "Training model for store 12 and family 20...\n"
     ]
    },
    {
     "name": "stderr",
     "output_type": "stream",
     "text": [
      "14:54:49 - cmdstanpy - INFO - Chain [1] done processing\n",
      "14:54:49 - cmdstanpy - INFO - Chain [1] start processing\n"
     ]
    },
    {
     "name": "stdout",
     "output_type": "stream",
     "text": [
      "There are 1 NaN values in the data.\n",
      "Root Mean Squared Error (RMSE): 0.03385552026757707\n",
      "Root Mean Squared Logarithmic Error (RMSLE): 0.03231839498752142\n",
      "\n",
      "Training model for store 12 and family 21...\n"
     ]
    },
    {
     "name": "stderr",
     "output_type": "stream",
     "text": [
      "14:54:49 - cmdstanpy - INFO - Chain [1] done processing\n",
      "14:54:50 - cmdstanpy - INFO - Chain [1] start processing\n"
     ]
    },
    {
     "name": "stdout",
     "output_type": "stream",
     "text": [
      "There are 1 NaN values in the data.\n",
      "Root Mean Squared Error (RMSE): 5.266679712595406\n",
      "Root Mean Squared Logarithmic Error (RMSLE): 1.3980967755358904\n",
      "\n",
      "Training model for store 12 and family 22...\n"
     ]
    },
    {
     "name": "stderr",
     "output_type": "stream",
     "text": [
      "14:54:50 - cmdstanpy - INFO - Chain [1] done processing\n",
      "14:54:50 - cmdstanpy - INFO - Chain [1] start processing\n"
     ]
    },
    {
     "name": "stdout",
     "output_type": "stream",
     "text": [
      "There are 1 NaN values in the data.\n",
      "Root Mean Squared Error (RMSE): 30.02589778397779\n",
      "Root Mean Squared Logarithmic Error (RMSLE): 1.0511088684388008\n",
      "\n",
      "Training model for store 12 and family 23...\n"
     ]
    },
    {
     "name": "stderr",
     "output_type": "stream",
     "text": [
      "14:54:50 - cmdstanpy - INFO - Chain [1] done processing\n",
      "14:54:50 - cmdstanpy - INFO - Chain [1] start processing\n"
     ]
    },
    {
     "name": "stdout",
     "output_type": "stream",
     "text": [
      "There are 1 NaN values in the data.\n",
      "Root Mean Squared Error (RMSE): 1.6249598631904518\n",
      "Root Mean Squared Logarithmic Error (RMSLE): 0.6719598856174399\n",
      "\n",
      "Training model for store 12 and family 24...\n"
     ]
    },
    {
     "name": "stderr",
     "output_type": "stream",
     "text": [
      "14:54:50 - cmdstanpy - INFO - Chain [1] done processing\n",
      "14:54:51 - cmdstanpy - INFO - Chain [1] start processing\n"
     ]
    },
    {
     "name": "stdout",
     "output_type": "stream",
     "text": [
      "There are 1 NaN values in the data.\n",
      "Root Mean Squared Error (RMSE): 626.724594813393\n",
      "Root Mean Squared Logarithmic Error (RMSLE): 0.5451841486989857\n",
      "\n",
      "Training model for store 12 and family 25...\n"
     ]
    },
    {
     "name": "stderr",
     "output_type": "stream",
     "text": [
      "14:54:51 - cmdstanpy - INFO - Chain [1] done processing\n",
      "14:54:51 - cmdstanpy - INFO - Chain [1] start processing\n"
     ]
    },
    {
     "name": "stdout",
     "output_type": "stream",
     "text": [
      "There are 1 NaN values in the data.\n",
      "Root Mean Squared Error (RMSE): 50.864614200130866\n",
      "Root Mean Squared Logarithmic Error (RMSLE): 0.4900383936423686\n",
      "\n",
      "Training model for store 12 and family 26...\n"
     ]
    },
    {
     "name": "stderr",
     "output_type": "stream",
     "text": [
      "14:54:51 - cmdstanpy - INFO - Chain [1] done processing\n",
      "14:54:51 - cmdstanpy - INFO - Chain [1] start processing\n"
     ]
    },
    {
     "name": "stdout",
     "output_type": "stream",
     "text": [
      "There are 1 NaN values in the data.\n",
      "Root Mean Squared Error (RMSE): 1.446564325674835\n",
      "Root Mean Squared Logarithmic Error (RMSLE): 0.5473319083566945\n",
      "\n",
      "Training model for store 12 and family 27...\n"
     ]
    },
    {
     "name": "stderr",
     "output_type": "stream",
     "text": [
      "14:54:51 - cmdstanpy - INFO - Chain [1] done processing\n",
      "14:54:51 - cmdstanpy - INFO - Chain [1] start processing\n"
     ]
    },
    {
     "name": "stdout",
     "output_type": "stream",
     "text": [
      "There are 1 NaN values in the data.\n",
      "Root Mean Squared Error (RMSE): 4.238625856898544\n",
      "Root Mean Squared Logarithmic Error (RMSLE): 0.6381890794062761\n",
      "\n",
      "Training model for store 12 and family 28...\n"
     ]
    },
    {
     "name": "stderr",
     "output_type": "stream",
     "text": [
      "14:54:52 - cmdstanpy - INFO - Chain [1] done processing\n",
      "14:54:52 - cmdstanpy - INFO - Chain [1] start processing\n"
     ]
    },
    {
     "name": "stdout",
     "output_type": "stream",
     "text": [
      "There are 1 NaN values in the data.\n",
      "Root Mean Squared Error (RMSE): 62.21429909375878\n",
      "Root Mean Squared Logarithmic Error (RMSLE): 0.515872926867169\n",
      "\n",
      "Training model for store 12 and family 29...\n"
     ]
    },
    {
     "name": "stderr",
     "output_type": "stream",
     "text": [
      "14:54:52 - cmdstanpy - INFO - Chain [1] done processing\n",
      "14:54:52 - cmdstanpy - INFO - Chain [1] start processing\n"
     ]
    },
    {
     "name": "stdout",
     "output_type": "stream",
     "text": [
      "There are 1 NaN values in the data.\n",
      "Root Mean Squared Error (RMSE): 23.568333900647946\n",
      "Root Mean Squared Logarithmic Error (RMSLE): 0.572211507865026\n",
      "\n",
      "Training model for store 12 and family 30...\n"
     ]
    },
    {
     "name": "stderr",
     "output_type": "stream",
     "text": [
      "14:54:52 - cmdstanpy - INFO - Chain [1] done processing\n",
      "14:54:52 - cmdstanpy - INFO - Chain [1] start processing\n"
     ]
    },
    {
     "name": "stdout",
     "output_type": "stream",
     "text": [
      "There are 1 NaN values in the data.\n",
      "Root Mean Squared Error (RMSE): 113.5773785033037\n",
      "Root Mean Squared Logarithmic Error (RMSLE): 0.5565530588153625\n",
      "\n",
      "Training model for store 12 and family 31...\n"
     ]
    },
    {
     "name": "stderr",
     "output_type": "stream",
     "text": [
      "14:54:52 - cmdstanpy - INFO - Chain [1] done processing\n",
      "14:54:53 - cmdstanpy - INFO - Chain [1] start processing\n",
      "14:54:53 - cmdstanpy - INFO - Chain [1] done processing\n"
     ]
    },
    {
     "name": "stdout",
     "output_type": "stream",
     "text": [
      "There are 1 NaN values in the data.\n",
      "Root Mean Squared Error (RMSE): 1.9184724559237785\n",
      "Root Mean Squared Logarithmic Error (RMSLE): 0.5742914132706932\n",
      "\n",
      "Training model for store 12 and family 32...\n"
     ]
    },
    {
     "name": "stderr",
     "output_type": "stream",
     "text": [
      "14:54:53 - cmdstanpy - INFO - Chain [1] start processing\n"
     ]
    },
    {
     "name": "stdout",
     "output_type": "stream",
     "text": [
      "There are 1 NaN values in the data.\n",
      "Root Mean Squared Error (RMSE): 4.029420380599833\n",
      "Root Mean Squared Logarithmic Error (RMSLE): 0.7891031449035797\n",
      "\n",
      "Training model for store 13 and family 0...\n"
     ]
    },
    {
     "name": "stderr",
     "output_type": "stream",
     "text": [
      "14:54:53 - cmdstanpy - INFO - Chain [1] done processing\n"
     ]
    },
    {
     "name": "stdout",
     "output_type": "stream",
     "text": [
      "There are 1 NaN values in the data.\n",
      "Root Mean Squared Error (RMSE): 3.6032224772050285\n",
      "Root Mean Squared Logarithmic Error (RMSLE): 0.5309030350807763\n",
      "\n",
      "Training model for store 13 and family 1...\n",
      "There are 1 NaN values in the data.\n",
      "Root Mean Squared Error (RMSE): 0.0\n",
      "Root Mean Squared Logarithmic Error (RMSLE): 0.0\n"
     ]
    },
    {
     "name": "stderr",
     "output_type": "stream",
     "text": [
      "14:54:53 - cmdstanpy - INFO - Chain [1] start processing\n",
      "14:54:53 - cmdstanpy - INFO - Chain [1] done processing\n"
     ]
    },
    {
     "name": "stdout",
     "output_type": "stream",
     "text": [
      "\n",
      "Training model for store 13 and family 2...\n",
      "There are 1 NaN values in the data.\n",
      "Root Mean Squared Error (RMSE): 2.268346359209703\n",
      "Root Mean Squared Logarithmic Error (RMSLE): 0.6812349882543276\n"
     ]
    },
    {
     "name": "stderr",
     "output_type": "stream",
     "text": [
      "14:54:54 - cmdstanpy - INFO - Chain [1] start processing\n",
      "14:54:54 - cmdstanpy - INFO - Chain [1] done processing\n"
     ]
    },
    {
     "name": "stdout",
     "output_type": "stream",
     "text": [
      "\n",
      "Training model for store 13 and family 3...\n",
      "There are 1 NaN values in the data.\n",
      "Root Mean Squared Error (RMSE): 379.762888292915\n",
      "Root Mean Squared Logarithmic Error (RMSLE): 0.6192912550303225\n",
      "\n",
      "Training model for store 13 and family 4...\n",
      "There are 1 NaN values in the data.\n",
      "Root Mean Squared Error (RMSE): 0.0\n",
      "Root Mean Squared Logarithmic Error (RMSLE): 0.0\n",
      "\n",
      "Training model for store 13 and family 5...\n"
     ]
    },
    {
     "name": "stderr",
     "output_type": "stream",
     "text": [
      "14:54:54 - cmdstanpy - INFO - Chain [1] start processing\n",
      "14:54:54 - cmdstanpy - INFO - Chain [1] done processing\n",
      "14:54:54 - cmdstanpy - INFO - Chain [1] start processing\n"
     ]
    },
    {
     "name": "stdout",
     "output_type": "stream",
     "text": [
      "There are 1 NaN values in the data.\n",
      "Root Mean Squared Error (RMSE): 60.66438177077164\n",
      "Root Mean Squared Logarithmic Error (RMSLE): 0.6231215415666627\n",
      "\n",
      "Training model for store 13 and family 6...\n"
     ]
    },
    {
     "name": "stderr",
     "output_type": "stream",
     "text": [
      "14:54:55 - cmdstanpy - INFO - Chain [1] done processing\n",
      "14:54:55 - cmdstanpy - INFO - Chain [1] start processing\n"
     ]
    },
    {
     "name": "stdout",
     "output_type": "stream",
     "text": [
      "There are 1 NaN values in the data.\n",
      "Root Mean Squared Error (RMSE): 7.487232908933222\n",
      "Root Mean Squared Logarithmic Error (RMSLE): 0.779116004026442\n",
      "\n",
      "Training model for store 13 and family 7...\n"
     ]
    },
    {
     "name": "stderr",
     "output_type": "stream",
     "text": [
      "14:54:55 - cmdstanpy - INFO - Chain [1] done processing\n",
      "14:54:55 - cmdstanpy - INFO - Chain [1] start processing\n"
     ]
    },
    {
     "name": "stdout",
     "output_type": "stream",
     "text": [
      "There are 1 NaN values in the data.\n",
      "Root Mean Squared Error (RMSE): 377.534601404923\n",
      "Root Mean Squared Logarithmic Error (RMSLE): 0.7011195458433878\n",
      "\n",
      "Training model for store 13 and family 8...\n"
     ]
    },
    {
     "name": "stderr",
     "output_type": "stream",
     "text": [
      "14:54:55 - cmdstanpy - INFO - Chain [1] done processing\n",
      "14:54:55 - cmdstanpy - INFO - Chain [1] start processing\n"
     ]
    },
    {
     "name": "stdout",
     "output_type": "stream",
     "text": [
      "There are 1 NaN values in the data.\n",
      "Root Mean Squared Error (RMSE): 83.64925529912628\n",
      "Root Mean Squared Logarithmic Error (RMSLE): 0.517520707783377\n",
      "\n",
      "Training model for store 13 and family 9...\n"
     ]
    },
    {
     "name": "stderr",
     "output_type": "stream",
     "text": [
      "14:54:56 - cmdstanpy - INFO - Chain [1] done processing\n",
      "14:54:56 - cmdstanpy - INFO - Chain [1] start processing\n"
     ]
    },
    {
     "name": "stdout",
     "output_type": "stream",
     "text": [
      "There are 1 NaN values in the data.\n",
      "Root Mean Squared Error (RMSE): 55.33107457028105\n",
      "Root Mean Squared Logarithmic Error (RMSLE): 0.49964266927670437\n",
      "\n",
      "Training model for store 13 and family 10...\n"
     ]
    },
    {
     "name": "stderr",
     "output_type": "stream",
     "text": [
      "14:54:56 - cmdstanpy - INFO - Chain [1] done processing\n",
      "14:54:56 - cmdstanpy - INFO - Chain [1] start processing\n"
     ]
    },
    {
     "name": "stdout",
     "output_type": "stream",
     "text": [
      "There are 1 NaN values in the data.\n",
      "Root Mean Squared Error (RMSE): 40.086933197920246\n",
      "Root Mean Squared Logarithmic Error (RMSLE): 0.9153220836212906\n",
      "\n",
      "Training model for store 13 and family 11...\n"
     ]
    },
    {
     "name": "stderr",
     "output_type": "stream",
     "text": [
      "14:54:56 - cmdstanpy - INFO - Chain [1] done processing\n",
      "14:54:56 - cmdstanpy - INFO - Chain [1] start processing\n"
     ]
    },
    {
     "name": "stdout",
     "output_type": "stream",
     "text": [
      "There are 1 NaN values in the data.\n",
      "Root Mean Squared Error (RMSE): 42.08449633807783\n",
      "Root Mean Squared Logarithmic Error (RMSLE): 1.7507830273368676\n",
      "\n",
      "Training model for store 13 and family 12...\n"
     ]
    },
    {
     "name": "stderr",
     "output_type": "stream",
     "text": [
      "14:54:56 - cmdstanpy - INFO - Chain [1] done processing\n",
      "14:54:57 - cmdstanpy - INFO - Chain [1] start processing\n"
     ]
    },
    {
     "name": "stdout",
     "output_type": "stream",
     "text": [
      "There are 1 NaN values in the data.\n",
      "Root Mean Squared Error (RMSE): 710.6128302922496\n",
      "Root Mean Squared Logarithmic Error (RMSLE): 0.6499541731220966\n",
      "\n",
      "Training model for store 13 and family 13...\n"
     ]
    },
    {
     "name": "stderr",
     "output_type": "stream",
     "text": [
      "14:54:57 - cmdstanpy - INFO - Chain [1] done processing\n",
      "14:54:57 - cmdstanpy - INFO - Chain [1] start processing\n"
     ]
    },
    {
     "name": "stdout",
     "output_type": "stream",
     "text": [
      "There are 1 NaN values in the data.\n",
      "Root Mean Squared Error (RMSE): 9.11147097691396\n",
      "Root Mean Squared Logarithmic Error (RMSLE): 1.1640819215166152\n",
      "\n",
      "Training model for store 13 and family 14...\n"
     ]
    },
    {
     "name": "stderr",
     "output_type": "stream",
     "text": [
      "14:54:57 - cmdstanpy - INFO - Chain [1] done processing\n"
     ]
    },
    {
     "name": "stdout",
     "output_type": "stream",
     "text": [
      "There are 1 NaN values in the data.\n",
      "Root Mean Squared Error (RMSE): 3.1931760607311044\n",
      "Root Mean Squared Logarithmic Error (RMSLE): 0.4417750008131262\n",
      "\n",
      "Training model for store 13 and family 15...\n"
     ]
    },
    {
     "name": "stderr",
     "output_type": "stream",
     "text": [
      "14:54:57 - cmdstanpy - INFO - Chain [1] start processing\n",
      "14:54:57 - cmdstanpy - INFO - Chain [1] done processing\n",
      "14:54:58 - cmdstanpy - INFO - Chain [1] start processing\n"
     ]
    },
    {
     "name": "stdout",
     "output_type": "stream",
     "text": [
      "There are 1 NaN values in the data.\n",
      "Root Mean Squared Error (RMSE): 12.034294464728598\n",
      "Root Mean Squared Logarithmic Error (RMSLE): 0.728584330255108\n",
      "\n",
      "Training model for store 13 and family 16...\n"
     ]
    },
    {
     "name": "stderr",
     "output_type": "stream",
     "text": [
      "14:54:58 - cmdstanpy - INFO - Chain [1] done processing\n",
      "14:54:58 - cmdstanpy - INFO - Chain [1] start processing\n"
     ]
    },
    {
     "name": "stdout",
     "output_type": "stream",
     "text": [
      "There are 1 NaN values in the data.\n",
      "Root Mean Squared Error (RMSE): 11.070229139830108\n",
      "Root Mean Squared Logarithmic Error (RMSLE): 1.8378742621150315\n",
      "\n",
      "Training model for store 13 and family 17...\n"
     ]
    },
    {
     "name": "stderr",
     "output_type": "stream",
     "text": [
      "14:54:58 - cmdstanpy - INFO - Chain [1] done processing\n",
      "14:54:58 - cmdstanpy - INFO - Chain [1] start processing\n"
     ]
    },
    {
     "name": "stdout",
     "output_type": "stream",
     "text": [
      "There are 1 NaN values in the data.\n",
      "Root Mean Squared Error (RMSE): 0.27087245633759566\n",
      "Root Mean Squared Logarithmic Error (RMSLE): 0.1828686682909586\n",
      "\n",
      "Training model for store 13 and family 18...\n"
     ]
    },
    {
     "name": "stderr",
     "output_type": "stream",
     "text": [
      "14:54:58 - cmdstanpy - INFO - Chain [1] done processing\n",
      "14:54:59 - cmdstanpy - INFO - Chain [1] start processing\n"
     ]
    },
    {
     "name": "stdout",
     "output_type": "stream",
     "text": [
      "There are 1 NaN values in the data.\n",
      "Root Mean Squared Error (RMSE): 66.38309169364233\n",
      "Root Mean Squared Logarithmic Error (RMSLE): 0.5658485044151481\n",
      "\n",
      "Training model for store 13 and family 19...\n"
     ]
    },
    {
     "name": "stderr",
     "output_type": "stream",
     "text": [
      "14:54:59 - cmdstanpy - INFO - Chain [1] done processing\n",
      "14:54:59 - cmdstanpy - INFO - Chain [1] start processing\n"
     ]
    },
    {
     "name": "stdout",
     "output_type": "stream",
     "text": [
      "There are 1 NaN values in the data.\n",
      "Root Mean Squared Error (RMSE): 3.7164759216696237\n",
      "Root Mean Squared Logarithmic Error (RMSLE): 0.9869229608660127\n",
      "\n",
      "Training model for store 13 and family 20...\n"
     ]
    },
    {
     "name": "stderr",
     "output_type": "stream",
     "text": [
      "14:54:59 - cmdstanpy - INFO - Chain [1] done processing\n",
      "14:54:59 - cmdstanpy - INFO - Chain [1] start processing\n"
     ]
    },
    {
     "name": "stdout",
     "output_type": "stream",
     "text": [
      "There are 1 NaN values in the data.\n",
      "Root Mean Squared Error (RMSE): 0.03560918190076788\n",
      "Root Mean Squared Logarithmic Error (RMSLE): 0.033363470182285346\n",
      "\n",
      "Training model for store 13 and family 21...\n"
     ]
    },
    {
     "name": "stderr",
     "output_type": "stream",
     "text": [
      "14:54:59 - cmdstanpy - INFO - Chain [1] done processing\n",
      "14:55:00 - cmdstanpy - INFO - Chain [1] start processing\n"
     ]
    },
    {
     "name": "stdout",
     "output_type": "stream",
     "text": [
      "There are 1 NaN values in the data.\n",
      "Root Mean Squared Error (RMSE): 3.6414010939938146\n",
      "Root Mean Squared Logarithmic Error (RMSLE): 1.0206536574074159\n",
      "\n",
      "Training model for store 13 and family 22...\n"
     ]
    },
    {
     "name": "stderr",
     "output_type": "stream",
     "text": [
      "14:55:00 - cmdstanpy - INFO - Chain [1] done processing\n",
      "14:55:00 - cmdstanpy - INFO - Chain [1] start processing\n"
     ]
    },
    {
     "name": "stdout",
     "output_type": "stream",
     "text": [
      "There are 1 NaN values in the data.\n",
      "Root Mean Squared Error (RMSE): 31.503161424823713\n",
      "Root Mean Squared Logarithmic Error (RMSLE): 1.0094178671526643\n",
      "\n",
      "Training model for store 13 and family 23...\n"
     ]
    },
    {
     "name": "stderr",
     "output_type": "stream",
     "text": [
      "14:55:00 - cmdstanpy - INFO - Chain [1] done processing\n",
      "14:55:00 - cmdstanpy - INFO - Chain [1] start processing\n"
     ]
    },
    {
     "name": "stdout",
     "output_type": "stream",
     "text": [
      "There are 1 NaN values in the data.\n",
      "Root Mean Squared Error (RMSE): 1.4411956635653524\n",
      "Root Mean Squared Logarithmic Error (RMSLE): 0.6823510905199032\n",
      "\n",
      "Training model for store 13 and family 24...\n"
     ]
    },
    {
     "name": "stderr",
     "output_type": "stream",
     "text": [
      "14:55:00 - cmdstanpy - INFO - Chain [1] done processing\n",
      "14:55:00 - cmdstanpy - INFO - Chain [1] start processing\n"
     ]
    },
    {
     "name": "stdout",
     "output_type": "stream",
     "text": [
      "There are 1 NaN values in the data.\n",
      "Root Mean Squared Error (RMSE): 46.77225209768278\n",
      "Root Mean Squared Logarithmic Error (RMSLE): 0.45947026655485357\n",
      "\n",
      "Training model for store 13 and family 25...\n"
     ]
    },
    {
     "name": "stderr",
     "output_type": "stream",
     "text": [
      "14:55:01 - cmdstanpy - INFO - Chain [1] done processing\n",
      "14:55:01 - cmdstanpy - INFO - Chain [1] start processing\n"
     ]
    },
    {
     "name": "stdout",
     "output_type": "stream",
     "text": [
      "There are 1 NaN values in the data.\n",
      "Root Mean Squared Error (RMSE): 62.03489430692276\n",
      "Root Mean Squared Logarithmic Error (RMSLE): 0.49758084748198184\n",
      "\n",
      "Training model for store 13 and family 26...\n"
     ]
    },
    {
     "name": "stderr",
     "output_type": "stream",
     "text": [
      "14:55:01 - cmdstanpy - INFO - Chain [1] done processing\n",
      "14:55:01 - cmdstanpy - INFO - Chain [1] start processing\n"
     ]
    },
    {
     "name": "stdout",
     "output_type": "stream",
     "text": [
      "There are 1 NaN values in the data.\n",
      "Root Mean Squared Error (RMSE): 0.9148372267086656\n",
      "Root Mean Squared Logarithmic Error (RMSLE): 0.46324548117805575\n",
      "\n",
      "Training model for store 13 and family 27...\n"
     ]
    },
    {
     "name": "stderr",
     "output_type": "stream",
     "text": [
      "14:55:01 - cmdstanpy - INFO - Chain [1] done processing\n",
      "14:55:01 - cmdstanpy - INFO - Chain [1] start processing\n"
     ]
    },
    {
     "name": "stdout",
     "output_type": "stream",
     "text": [
      "There are 1 NaN values in the data.\n",
      "Root Mean Squared Error (RMSE): 4.56983265009202\n",
      "Root Mean Squared Logarithmic Error (RMSLE): 0.6027772823028773\n",
      "\n",
      "Training model for store 13 and family 28...\n"
     ]
    },
    {
     "name": "stderr",
     "output_type": "stream",
     "text": [
      "14:55:01 - cmdstanpy - INFO - Chain [1] done processing\n",
      "14:55:02 - cmdstanpy - INFO - Chain [1] start processing\n"
     ]
    },
    {
     "name": "stdout",
     "output_type": "stream",
     "text": [
      "There are 1 NaN values in the data.\n",
      "Root Mean Squared Error (RMSE): 37.06706261133598\n",
      "Root Mean Squared Logarithmic Error (RMSLE): 0.4935765635948475\n",
      "\n",
      "Training model for store 13 and family 29...\n"
     ]
    },
    {
     "name": "stderr",
     "output_type": "stream",
     "text": [
      "14:55:02 - cmdstanpy - INFO - Chain [1] done processing\n",
      "14:55:02 - cmdstanpy - INFO - Chain [1] start processing\n"
     ]
    },
    {
     "name": "stdout",
     "output_type": "stream",
     "text": [
      "There are 1 NaN values in the data.\n",
      "Root Mean Squared Error (RMSE): 16.937346876993693\n",
      "Root Mean Squared Logarithmic Error (RMSLE): 0.49571669621345493\n",
      "\n",
      "Training model for store 13 and family 30...\n"
     ]
    },
    {
     "name": "stderr",
     "output_type": "stream",
     "text": [
      "14:55:02 - cmdstanpy - INFO - Chain [1] done processing\n",
      "14:55:02 - cmdstanpy - INFO - Chain [1] start processing\n"
     ]
    },
    {
     "name": "stdout",
     "output_type": "stream",
     "text": [
      "There are 1 NaN values in the data.\n",
      "Root Mean Squared Error (RMSE): 72.31102635118897\n",
      "Root Mean Squared Logarithmic Error (RMSLE): 0.5420627956874116\n",
      "\n",
      "Training model for store 13 and family 31...\n"
     ]
    },
    {
     "name": "stderr",
     "output_type": "stream",
     "text": [
      "14:55:02 - cmdstanpy - INFO - Chain [1] done processing\n",
      "14:55:02 - cmdstanpy - INFO - Chain [1] start processing\n"
     ]
    },
    {
     "name": "stdout",
     "output_type": "stream",
     "text": [
      "There are 1 NaN values in the data.\n",
      "Root Mean Squared Error (RMSE): 2.0162113028851523\n",
      "Root Mean Squared Logarithmic Error (RMSLE): 0.5281998206752127\n",
      "\n",
      "Training model for store 13 and family 32...\n"
     ]
    },
    {
     "name": "stderr",
     "output_type": "stream",
     "text": [
      "14:55:03 - cmdstanpy - INFO - Chain [1] done processing\n",
      "14:55:03 - cmdstanpy - INFO - Chain [1] start processing\n"
     ]
    },
    {
     "name": "stdout",
     "output_type": "stream",
     "text": [
      "There are 1 NaN values in the data.\n",
      "Root Mean Squared Error (RMSE): 3.5000191837631123\n",
      "Root Mean Squared Logarithmic Error (RMSLE): 1.0400060304334189\n",
      "\n",
      "Training model for store 14 and family 0...\n"
     ]
    },
    {
     "name": "stderr",
     "output_type": "stream",
     "text": [
      "14:55:03 - cmdstanpy - INFO - Chain [1] done processing\n",
      "14:55:03 - cmdstanpy - INFO - Chain [1] start processing\n",
      "14:55:03 - cmdstanpy - INFO - Chain [1] done processing\n"
     ]
    },
    {
     "name": "stdout",
     "output_type": "stream",
     "text": [
      "There are 1 NaN values in the data.\n",
      "Root Mean Squared Error (RMSE): 3.6653422043279194\n",
      "Root Mean Squared Logarithmic Error (RMSLE): 0.7373620361875538\n",
      "\n",
      "Training model for store 14 and family 1...\n"
     ]
    },
    {
     "name": "stderr",
     "output_type": "stream",
     "text": [
      "14:55:03 - cmdstanpy - INFO - Chain [1] start processing\n"
     ]
    },
    {
     "name": "stdout",
     "output_type": "stream",
     "text": [
      "There are 1 NaN values in the data.\n",
      "Root Mean Squared Error (RMSE): 0.11051257040086274\n",
      "Root Mean Squared Logarithmic Error (RMSLE): 0.10394352323845774\n",
      "\n",
      "Training model for store 14 and family 2...\n"
     ]
    },
    {
     "name": "stderr",
     "output_type": "stream",
     "text": [
      "14:55:03 - cmdstanpy - INFO - Chain [1] done processing\n",
      "14:55:04 - cmdstanpy - INFO - Chain [1] start processing\n"
     ]
    },
    {
     "name": "stdout",
     "output_type": "stream",
     "text": [
      "There are 1 NaN values in the data.\n",
      "Root Mean Squared Error (RMSE): 1.9135069853715096\n",
      "Root Mean Squared Logarithmic Error (RMSLE): 0.7101303205935781\n",
      "\n",
      "Training model for store 14 and family 3...\n"
     ]
    },
    {
     "name": "stderr",
     "output_type": "stream",
     "text": [
      "14:55:04 - cmdstanpy - INFO - Chain [1] done processing\n"
     ]
    },
    {
     "name": "stdout",
     "output_type": "stream",
     "text": [
      "There are 1 NaN values in the data.\n",
      "Root Mean Squared Error (RMSE): 320.5864967110451\n",
      "Root Mean Squared Logarithmic Error (RMSLE): 0.6014546906382365\n",
      "\n",
      "Training model for store 14 and family 4...\n",
      "There are 1 NaN values in the data.\n",
      "Root Mean Squared Error (RMSE): 0.0\n",
      "Root Mean Squared Logarithmic Error (RMSLE): 0.0\n"
     ]
    },
    {
     "name": "stderr",
     "output_type": "stream",
     "text": [
      "14:55:04 - cmdstanpy - INFO - Chain [1] start processing\n",
      "14:55:04 - cmdstanpy - INFO - Chain [1] done processing\n"
     ]
    },
    {
     "name": "stdout",
     "output_type": "stream",
     "text": [
      "\n",
      "Training model for store 14 and family 5...\n"
     ]
    },
    {
     "name": "stderr",
     "output_type": "stream",
     "text": [
      "14:55:04 - cmdstanpy - INFO - Chain [1] start processing\n"
     ]
    },
    {
     "name": "stdout",
     "output_type": "stream",
     "text": [
      "There are 1 NaN values in the data.\n",
      "Root Mean Squared Error (RMSE): 40.66351135724114\n",
      "Root Mean Squared Logarithmic Error (RMSLE): 0.4462178286135349\n",
      "\n",
      "Training model for store 14 and family 6...\n"
     ]
    },
    {
     "name": "stderr",
     "output_type": "stream",
     "text": [
      "14:55:05 - cmdstanpy - INFO - Chain [1] done processing\n",
      "14:55:05 - cmdstanpy - INFO - Chain [1] start processing\n"
     ]
    },
    {
     "name": "stdout",
     "output_type": "stream",
     "text": [
      "There are 1 NaN values in the data.\n",
      "Root Mean Squared Error (RMSE): 7.15698314621105\n",
      "Root Mean Squared Logarithmic Error (RMSLE): 0.8378832705803626\n",
      "\n",
      "Training model for store 14 and family 7...\n"
     ]
    },
    {
     "name": "stderr",
     "output_type": "stream",
     "text": [
      "14:55:05 - cmdstanpy - INFO - Chain [1] done processing\n",
      "14:55:05 - cmdstanpy - INFO - Chain [1] start processing\n"
     ]
    },
    {
     "name": "stdout",
     "output_type": "stream",
     "text": [
      "There are 1 NaN values in the data.\n",
      "Root Mean Squared Error (RMSE): 838.5936231487982\n",
      "Root Mean Squared Logarithmic Error (RMSLE): 0.6925250009003702\n",
      "\n",
      "Training model for store 14 and family 8...\n"
     ]
    },
    {
     "name": "stderr",
     "output_type": "stream",
     "text": [
      "14:55:05 - cmdstanpy - INFO - Chain [1] done processing\n",
      "14:55:05 - cmdstanpy - INFO - Chain [1] start processing\n"
     ]
    },
    {
     "name": "stdout",
     "output_type": "stream",
     "text": [
      "There are 1 NaN values in the data.\n",
      "Root Mean Squared Error (RMSE): 141.26060063663007\n",
      "Root Mean Squared Logarithmic Error (RMSLE): 0.5703405869949751\n",
      "\n",
      "Training model for store 14 and family 9...\n"
     ]
    },
    {
     "name": "stderr",
     "output_type": "stream",
     "text": [
      "14:55:06 - cmdstanpy - INFO - Chain [1] done processing\n",
      "14:55:06 - cmdstanpy - INFO - Chain [1] start processing\n"
     ]
    },
    {
     "name": "stdout",
     "output_type": "stream",
     "text": [
      "There are 1 NaN values in the data.\n",
      "Root Mean Squared Error (RMSE): 95.44299535211691\n",
      "Root Mean Squared Logarithmic Error (RMSLE): 0.551765944942081\n",
      "\n",
      "Training model for store 14 and family 10...\n"
     ]
    },
    {
     "name": "stderr",
     "output_type": "stream",
     "text": [
      "14:55:06 - cmdstanpy - INFO - Chain [1] done processing\n",
      "14:55:06 - cmdstanpy - INFO - Chain [1] start processing\n"
     ]
    },
    {
     "name": "stdout",
     "output_type": "stream",
     "text": [
      "There are 1 NaN values in the data.\n",
      "Root Mean Squared Error (RMSE): 19.280541100627097\n",
      "Root Mean Squared Logarithmic Error (RMSLE): 0.5481584318089368\n",
      "\n",
      "Training model for store 14 and family 11...\n"
     ]
    },
    {
     "name": "stderr",
     "output_type": "stream",
     "text": [
      "14:55:06 - cmdstanpy - INFO - Chain [1] done processing\n",
      "14:55:06 - cmdstanpy - INFO - Chain [1] start processing\n"
     ]
    },
    {
     "name": "stdout",
     "output_type": "stream",
     "text": [
      "There are 1 NaN values in the data.\n",
      "Root Mean Squared Error (RMSE): 154.68510445441532\n",
      "Root Mean Squared Logarithmic Error (RMSLE): 1.0345162750801251\n",
      "\n",
      "Training model for store 14 and family 12...\n"
     ]
    },
    {
     "name": "stderr",
     "output_type": "stream",
     "text": [
      "14:55:06 - cmdstanpy - INFO - Chain [1] done processing\n",
      "14:55:07 - cmdstanpy - INFO - Chain [1] start processing\n"
     ]
    },
    {
     "name": "stdout",
     "output_type": "stream",
     "text": [
      "There are 1 NaN values in the data.\n",
      "Root Mean Squared Error (RMSE): 801.9741913776584\n",
      "Root Mean Squared Logarithmic Error (RMSLE): 0.6654689371748717\n",
      "\n",
      "Training model for store 14 and family 13...\n"
     ]
    },
    {
     "name": "stderr",
     "output_type": "stream",
     "text": [
      "14:55:07 - cmdstanpy - INFO - Chain [1] done processing\n",
      "14:55:07 - cmdstanpy - INFO - Chain [1] start processing\n"
     ]
    },
    {
     "name": "stdout",
     "output_type": "stream",
     "text": [
      "There are 1 NaN values in the data.\n",
      "Root Mean Squared Error (RMSE): 7.499527951439521\n",
      "Root Mean Squared Logarithmic Error (RMSLE): 0.9299329490507489\n",
      "\n",
      "Training model for store 14 and family 14...\n"
     ]
    },
    {
     "name": "stderr",
     "output_type": "stream",
     "text": [
      "14:55:07 - cmdstanpy - INFO - Chain [1] done processing\n",
      "14:55:07 - cmdstanpy - INFO - Chain [1] start processing\n"
     ]
    },
    {
     "name": "stdout",
     "output_type": "stream",
     "text": [
      "There are 1 NaN values in the data.\n",
      "Root Mean Squared Error (RMSE): 0.9301887407942832\n",
      "Root Mean Squared Logarithmic Error (RMSLE): 0.4937811536778575\n",
      "\n",
      "Training model for store 14 and family 15...\n"
     ]
    },
    {
     "name": "stderr",
     "output_type": "stream",
     "text": [
      "14:55:07 - cmdstanpy - INFO - Chain [1] done processing\n",
      "14:55:07 - cmdstanpy - INFO - Chain [1] start processing\n"
     ]
    },
    {
     "name": "stdout",
     "output_type": "stream",
     "text": [
      "There are 1 NaN values in the data.\n",
      "Root Mean Squared Error (RMSE): 30.358845756402076\n",
      "Root Mean Squared Logarithmic Error (RMSLE): 0.74279212229502\n",
      "\n",
      "Training model for store 14 and family 16...\n"
     ]
    },
    {
     "name": "stderr",
     "output_type": "stream",
     "text": [
      "14:55:07 - cmdstanpy - INFO - Chain [1] done processing\n",
      "14:55:08 - cmdstanpy - INFO - Chain [1] start processing\n"
     ]
    },
    {
     "name": "stdout",
     "output_type": "stream",
     "text": [
      "There are 1 NaN values in the data.\n",
      "Root Mean Squared Error (RMSE): 9.389753527394596\n",
      "Root Mean Squared Logarithmic Error (RMSLE): 0.5040997676212815\n",
      "\n",
      "Training model for store 14 and family 17...\n"
     ]
    },
    {
     "name": "stderr",
     "output_type": "stream",
     "text": [
      "14:55:08 - cmdstanpy - INFO - Chain [1] done processing\n",
      "14:55:08 - cmdstanpy - INFO - Chain [1] start processing\n"
     ]
    },
    {
     "name": "stdout",
     "output_type": "stream",
     "text": [
      "There are 1 NaN values in the data.\n",
      "Root Mean Squared Error (RMSE): 0.4509430787257805\n",
      "Root Mean Squared Logarithmic Error (RMSLE): 0.2915659472161982\n",
      "\n",
      "Training model for store 14 and family 18...\n"
     ]
    },
    {
     "name": "stderr",
     "output_type": "stream",
     "text": [
      "14:55:08 - cmdstanpy - INFO - Chain [1] done processing\n",
      "14:55:08 - cmdstanpy - INFO - Chain [1] start processing\n"
     ]
    },
    {
     "name": "stdout",
     "output_type": "stream",
     "text": [
      "There are 1 NaN values in the data.\n",
      "Root Mean Squared Error (RMSE): 121.8012152052755\n",
      "Root Mean Squared Logarithmic Error (RMSLE): 0.6463438981926352\n",
      "\n",
      "Training model for store 14 and family 19...\n"
     ]
    },
    {
     "name": "stderr",
     "output_type": "stream",
     "text": [
      "14:55:08 - cmdstanpy - INFO - Chain [1] done processing\n"
     ]
    },
    {
     "name": "stdout",
     "output_type": "stream",
     "text": [
      "There are 1 NaN values in the data.\n",
      "Root Mean Squared Error (RMSE): 2.7751711983114657\n",
      "Root Mean Squared Logarithmic Error (RMSLE): 0.861224729959725\n",
      "\n",
      "Training model for store 14 and family 20...\n",
      "There are 1 NaN values in the data.\n",
      "Root Mean Squared Error (RMSE): 0.0\n",
      "Root Mean Squared Logarithmic Error (RMSLE): 0.0\n"
     ]
    },
    {
     "name": "stderr",
     "output_type": "stream",
     "text": [
      "14:55:09 - cmdstanpy - INFO - Chain [1] start processing\n",
      "14:55:09 - cmdstanpy - INFO - Chain [1] done processing\n"
     ]
    },
    {
     "name": "stdout",
     "output_type": "stream",
     "text": [
      "\n",
      "Training model for store 14 and family 21...\n",
      "There are 1 NaN values in the data.\n",
      "Root Mean Squared Error (RMSE): 4.0828971308802195\n",
      "Root Mean Squared Logarithmic Error (RMSLE): 1.3532073872915262\n"
     ]
    },
    {
     "name": "stderr",
     "output_type": "stream",
     "text": [
      "14:55:09 - cmdstanpy - INFO - Chain [1] start processing\n",
      "14:55:09 - cmdstanpy - INFO - Chain [1] done processing\n"
     ]
    },
    {
     "name": "stdout",
     "output_type": "stream",
     "text": [
      "\n",
      "Training model for store 14 and family 22...\n"
     ]
    },
    {
     "name": "stderr",
     "output_type": "stream",
     "text": [
      "14:55:09 - cmdstanpy - INFO - Chain [1] start processing\n"
     ]
    },
    {
     "name": "stdout",
     "output_type": "stream",
     "text": [
      "There are 1 NaN values in the data.\n",
      "Root Mean Squared Error (RMSE): 23.774044452394303\n",
      "Root Mean Squared Logarithmic Error (RMSLE): 1.1032220123849699\n",
      "\n",
      "Training model for store 14 and family 23...\n"
     ]
    },
    {
     "name": "stderr",
     "output_type": "stream",
     "text": [
      "14:55:09 - cmdstanpy - INFO - Chain [1] done processing\n",
      "14:55:10 - cmdstanpy - INFO - Chain [1] start processing\n"
     ]
    },
    {
     "name": "stdout",
     "output_type": "stream",
     "text": [
      "There are 1 NaN values in the data.\n",
      "Root Mean Squared Error (RMSE): 1.8504965613399302\n",
      "Root Mean Squared Logarithmic Error (RMSLE): 0.7225444883690556\n",
      "\n",
      "Training model for store 14 and family 24...\n"
     ]
    },
    {
     "name": "stderr",
     "output_type": "stream",
     "text": [
      "14:55:10 - cmdstanpy - INFO - Chain [1] done processing\n",
      "14:55:10 - cmdstanpy - INFO - Chain [1] start processing\n"
     ]
    },
    {
     "name": "stdout",
     "output_type": "stream",
     "text": [
      "There are 1 NaN values in the data.\n",
      "Root Mean Squared Error (RMSE): 87.37533602114085\n",
      "Root Mean Squared Logarithmic Error (RMSLE): 0.541359452709537\n",
      "\n",
      "Training model for store 14 and family 25...\n"
     ]
    },
    {
     "name": "stderr",
     "output_type": "stream",
     "text": [
      "14:55:10 - cmdstanpy - INFO - Chain [1] done processing\n",
      "14:55:10 - cmdstanpy - INFO - Chain [1] start processing\n"
     ]
    },
    {
     "name": "stdout",
     "output_type": "stream",
     "text": [
      "There are 1 NaN values in the data.\n",
      "Root Mean Squared Error (RMSE): 81.76835676785932\n",
      "Root Mean Squared Logarithmic Error (RMSLE): 0.5071627164119789\n",
      "\n",
      "Training model for store 14 and family 26...\n"
     ]
    },
    {
     "name": "stderr",
     "output_type": "stream",
     "text": [
      "14:55:10 - cmdstanpy - INFO - Chain [1] done processing\n",
      "14:55:10 - cmdstanpy - INFO - Chain [1] start processing\n"
     ]
    },
    {
     "name": "stdout",
     "output_type": "stream",
     "text": [
      "There are 1 NaN values in the data.\n",
      "Root Mean Squared Error (RMSE): 1.1145811786120638\n",
      "Root Mean Squared Logarithmic Error (RMSLE): 0.5425166171369464\n",
      "\n",
      "Training model for store 14 and family 27...\n"
     ]
    },
    {
     "name": "stderr",
     "output_type": "stream",
     "text": [
      "14:55:11 - cmdstanpy - INFO - Chain [1] done processing\n",
      "14:55:11 - cmdstanpy - INFO - Chain [1] start processing\n"
     ]
    },
    {
     "name": "stdout",
     "output_type": "stream",
     "text": [
      "There are 1 NaN values in the data.\n",
      "Root Mean Squared Error (RMSE): 3.4994777721535333\n",
      "Root Mean Squared Logarithmic Error (RMSLE): 0.526766083629386\n",
      "\n",
      "Training model for store 14 and family 28...\n"
     ]
    },
    {
     "name": "stderr",
     "output_type": "stream",
     "text": [
      "14:55:11 - cmdstanpy - INFO - Chain [1] done processing\n",
      "14:55:11 - cmdstanpy - INFO - Chain [1] start processing\n"
     ]
    },
    {
     "name": "stdout",
     "output_type": "stream",
     "text": [
      "There are 1 NaN values in the data.\n",
      "Root Mean Squared Error (RMSE): 41.414608597733896\n",
      "Root Mean Squared Logarithmic Error (RMSLE): 0.741336192405731\n",
      "\n",
      "Training model for store 14 and family 29...\n"
     ]
    },
    {
     "name": "stderr",
     "output_type": "stream",
     "text": [
      "14:55:11 - cmdstanpy - INFO - Chain [1] done processing\n",
      "14:55:11 - cmdstanpy - INFO - Chain [1] start processing\n"
     ]
    },
    {
     "name": "stdout",
     "output_type": "stream",
     "text": [
      "There are 1 NaN values in the data.\n",
      "Root Mean Squared Error (RMSE): 23.28387283819001\n",
      "Root Mean Squared Logarithmic Error (RMSLE): 0.4393011448089688\n",
      "\n",
      "Training model for store 14 and family 30...\n"
     ]
    },
    {
     "name": "stderr",
     "output_type": "stream",
     "text": [
      "14:55:11 - cmdstanpy - INFO - Chain [1] done processing\n",
      "14:55:12 - cmdstanpy - INFO - Chain [1] start processing\n"
     ]
    },
    {
     "name": "stdout",
     "output_type": "stream",
     "text": [
      "There are 1 NaN values in the data.\n",
      "Root Mean Squared Error (RMSE): 113.11218529387513\n",
      "Root Mean Squared Logarithmic Error (RMSLE): 0.5450513909375884\n",
      "\n",
      "Training model for store 14 and family 31...\n"
     ]
    },
    {
     "name": "stderr",
     "output_type": "stream",
     "text": [
      "14:55:12 - cmdstanpy - INFO - Chain [1] done processing\n",
      "14:55:12 - cmdstanpy - INFO - Chain [1] start processing\n"
     ]
    },
    {
     "name": "stdout",
     "output_type": "stream",
     "text": [
      "There are 1 NaN values in the data.\n",
      "Root Mean Squared Error (RMSE): 1.1931154104428274\n",
      "Root Mean Squared Logarithmic Error (RMSLE): 0.44621574390968266\n",
      "\n",
      "Training model for store 14 and family 32...\n"
     ]
    },
    {
     "name": "stderr",
     "output_type": "stream",
     "text": [
      "14:55:12 - cmdstanpy - INFO - Chain [1] done processing\n",
      "14:55:12 - cmdstanpy - INFO - Chain [1] start processing\n"
     ]
    },
    {
     "name": "stdout",
     "output_type": "stream",
     "text": [
      "There are 1 NaN values in the data.\n",
      "Root Mean Squared Error (RMSE): 4.407826762058567\n",
      "Root Mean Squared Logarithmic Error (RMSLE): 0.8361729802651379\n",
      "\n",
      "Training model for store 15 and family 0...\n"
     ]
    },
    {
     "name": "stderr",
     "output_type": "stream",
     "text": [
      "14:55:12 - cmdstanpy - INFO - Chain [1] done processing\n",
      "14:55:13 - cmdstanpy - INFO - Chain [1] start processing\n"
     ]
    },
    {
     "name": "stdout",
     "output_type": "stream",
     "text": [
      "There are 1 NaN values in the data.\n",
      "Root Mean Squared Error (RMSE): 2.4802899689299105\n",
      "Root Mean Squared Logarithmic Error (RMSLE): 0.5740637824407344\n",
      "\n",
      "Training model for store 15 and family 1...\n"
     ]
    },
    {
     "name": "stderr",
     "output_type": "stream",
     "text": [
      "14:55:13 - cmdstanpy - INFO - Chain [1] done processing\n",
      "14:55:13 - cmdstanpy - INFO - Chain [1] start processing\n"
     ]
    },
    {
     "name": "stdout",
     "output_type": "stream",
     "text": [
      "There are 1 NaN values in the data.\n",
      "Root Mean Squared Error (RMSE): 2.5320980944673415\n",
      "Root Mean Squared Logarithmic Error (RMSLE): 0.9613653022567737\n",
      "\n",
      "Training model for store 15 and family 2...\n"
     ]
    },
    {
     "name": "stderr",
     "output_type": "stream",
     "text": [
      "14:55:13 - cmdstanpy - INFO - Chain [1] done processing\n",
      "14:55:13 - cmdstanpy - INFO - Chain [1] start processing\n"
     ]
    },
    {
     "name": "stdout",
     "output_type": "stream",
     "text": [
      "There are 1 NaN values in the data.\n",
      "Root Mean Squared Error (RMSE): 2.467029011344886\n",
      "Root Mean Squared Logarithmic Error (RMSLE): 0.6803693377603564\n",
      "\n",
      "Training model for store 15 and family 3...\n"
     ]
    },
    {
     "name": "stderr",
     "output_type": "stream",
     "text": [
      "14:55:13 - cmdstanpy - INFO - Chain [1] done processing\n"
     ]
    },
    {
     "name": "stdout",
     "output_type": "stream",
     "text": [
      "There are 1 NaN values in the data.\n",
      "Root Mean Squared Error (RMSE): 388.0340525368366\n",
      "Root Mean Squared Logarithmic Error (RMSLE): 0.6101026059252885\n",
      "\n",
      "Training model for store 15 and family 4...\n",
      "There are 1 NaN values in the data.\n",
      "Root Mean Squared Error (RMSE): 0.0\n",
      "Root Mean Squared Logarithmic Error (RMSLE): 0.0\n",
      "\n",
      "Training model for store 15 and family 5...\n"
     ]
    },
    {
     "name": "stderr",
     "output_type": "stream",
     "text": [
      "14:55:14 - cmdstanpy - INFO - Chain [1] start processing\n",
      "14:55:14 - cmdstanpy - INFO - Chain [1] done processing\n",
      "14:55:14 - cmdstanpy - INFO - Chain [1] start processing\n"
     ]
    },
    {
     "name": "stdout",
     "output_type": "stream",
     "text": [
      "There are 1 NaN values in the data.\n",
      "Root Mean Squared Error (RMSE): 55.158309746418325\n",
      "Root Mean Squared Logarithmic Error (RMSLE): 0.5076471054227282\n",
      "\n",
      "Training model for store 15 and family 6...\n"
     ]
    },
    {
     "name": "stderr",
     "output_type": "stream",
     "text": [
      "14:55:14 - cmdstanpy - INFO - Chain [1] done processing\n",
      "14:55:14 - cmdstanpy - INFO - Chain [1] start processing\n"
     ]
    },
    {
     "name": "stdout",
     "output_type": "stream",
     "text": [
      "There are 1 NaN values in the data.\n",
      "Root Mean Squared Error (RMSE): 5.111305306852147\n",
      "Root Mean Squared Logarithmic Error (RMSLE): 0.8620064470158493\n",
      "\n",
      "Training model for store 15 and family 7...\n"
     ]
    },
    {
     "name": "stderr",
     "output_type": "stream",
     "text": [
      "14:55:14 - cmdstanpy - INFO - Chain [1] done processing\n",
      "14:55:15 - cmdstanpy - INFO - Chain [1] start processing\n"
     ]
    },
    {
     "name": "stdout",
     "output_type": "stream",
     "text": [
      "There are 1 NaN values in the data.\n",
      "Root Mean Squared Error (RMSE): 346.7110645694404\n",
      "Root Mean Squared Logarithmic Error (RMSLE): 0.5785676832963387\n",
      "\n",
      "Training model for store 15 and family 8...\n"
     ]
    },
    {
     "name": "stderr",
     "output_type": "stream",
     "text": [
      "14:55:15 - cmdstanpy - INFO - Chain [1] done processing\n",
      "14:55:15 - cmdstanpy - INFO - Chain [1] start processing\n"
     ]
    },
    {
     "name": "stdout",
     "output_type": "stream",
     "text": [
      "There are 1 NaN values in the data.\n",
      "Root Mean Squared Error (RMSE): 74.79231181545924\n",
      "Root Mean Squared Logarithmic Error (RMSLE): 0.48835277506796104\n",
      "\n",
      "Training model for store 15 and family 9...\n"
     ]
    },
    {
     "name": "stderr",
     "output_type": "stream",
     "text": [
      "14:55:15 - cmdstanpy - INFO - Chain [1] done processing\n",
      "14:55:15 - cmdstanpy - INFO - Chain [1] start processing\n"
     ]
    },
    {
     "name": "stdout",
     "output_type": "stream",
     "text": [
      "There are 1 NaN values in the data.\n",
      "Root Mean Squared Error (RMSE): 106.37546546632828\n",
      "Root Mean Squared Logarithmic Error (RMSLE): 0.5717883517230854\n",
      "\n",
      "Training model for store 15 and family 10...\n"
     ]
    },
    {
     "name": "stderr",
     "output_type": "stream",
     "text": [
      "14:55:15 - cmdstanpy - INFO - Chain [1] done processing\n",
      "14:55:16 - cmdstanpy - INFO - Chain [1] start processing\n"
     ]
    },
    {
     "name": "stdout",
     "output_type": "stream",
     "text": [
      "There are 1 NaN values in the data.\n",
      "Root Mean Squared Error (RMSE): 51.51697682392251\n",
      "Root Mean Squared Logarithmic Error (RMSLE): 0.6081869835233152\n",
      "\n",
      "Training model for store 15 and family 11...\n"
     ]
    },
    {
     "name": "stderr",
     "output_type": "stream",
     "text": [
      "14:55:16 - cmdstanpy - INFO - Chain [1] done processing\n",
      "14:55:16 - cmdstanpy - INFO - Chain [1] start processing\n"
     ]
    },
    {
     "name": "stdout",
     "output_type": "stream",
     "text": [
      "There are 1 NaN values in the data.\n",
      "Root Mean Squared Error (RMSE): 65.06151800954584\n",
      "Root Mean Squared Logarithmic Error (RMSLE): 0.6223459537797931\n",
      "\n",
      "Training model for store 15 and family 12...\n"
     ]
    },
    {
     "name": "stderr",
     "output_type": "stream",
     "text": [
      "14:55:16 - cmdstanpy - INFO - Chain [1] done processing\n",
      "14:55:16 - cmdstanpy - INFO - Chain [1] start processing\n"
     ]
    },
    {
     "name": "stdout",
     "output_type": "stream",
     "text": [
      "There are 1 NaN values in the data.\n",
      "Root Mean Squared Error (RMSE): 563.965570365551\n",
      "Root Mean Squared Logarithmic Error (RMSLE): 0.6350756068723821\n",
      "\n",
      "Training model for store 15 and family 13...\n"
     ]
    },
    {
     "name": "stderr",
     "output_type": "stream",
     "text": [
      "14:55:16 - cmdstanpy - INFO - Chain [1] done processing\n",
      "14:55:17 - cmdstanpy - INFO - Chain [1] start processing\n"
     ]
    },
    {
     "name": "stdout",
     "output_type": "stream",
     "text": [
      "There are 1 NaN values in the data.\n",
      "Root Mean Squared Error (RMSE): 10.723588253730128\n",
      "Root Mean Squared Logarithmic Error (RMSLE): 1.8512826219046057\n",
      "\n",
      "Training model for store 15 and family 14...\n"
     ]
    },
    {
     "name": "stderr",
     "output_type": "stream",
     "text": [
      "14:55:17 - cmdstanpy - INFO - Chain [1] done processing\n",
      "14:55:17 - cmdstanpy - INFO - Chain [1] start processing\n"
     ]
    },
    {
     "name": "stdout",
     "output_type": "stream",
     "text": [
      "There are 1 NaN values in the data.\n",
      "Root Mean Squared Error (RMSE): 1.238906467621409\n",
      "Root Mean Squared Logarithmic Error (RMSLE): 0.5980575533902199\n",
      "\n",
      "Training model for store 15 and family 15...\n"
     ]
    },
    {
     "name": "stderr",
     "output_type": "stream",
     "text": [
      "14:55:17 - cmdstanpy - INFO - Chain [1] done processing\n",
      "14:55:17 - cmdstanpy - INFO - Chain [1] start processing\n"
     ]
    },
    {
     "name": "stdout",
     "output_type": "stream",
     "text": [
      "There are 1 NaN values in the data.\n",
      "Root Mean Squared Error (RMSE): 28.232945665649048\n",
      "Root Mean Squared Logarithmic Error (RMSLE): 1.2642934292844061\n",
      "\n",
      "Training model for store 15 and family 16...\n"
     ]
    },
    {
     "name": "stderr",
     "output_type": "stream",
     "text": [
      "14:55:17 - cmdstanpy - INFO - Chain [1] done processing\n",
      "14:55:17 - cmdstanpy - INFO - Chain [1] start processing\n"
     ]
    },
    {
     "name": "stdout",
     "output_type": "stream",
     "text": [
      "There are 1 NaN values in the data.\n",
      "Root Mean Squared Error (RMSE): 8.105408258637556\n",
      "Root Mean Squared Logarithmic Error (RMSLE): 0.48105015296764214\n",
      "\n",
      "Training model for store 15 and family 17...\n"
     ]
    },
    {
     "name": "stderr",
     "output_type": "stream",
     "text": [
      "14:55:17 - cmdstanpy - INFO - Chain [1] done processing\n",
      "14:55:18 - cmdstanpy - INFO - Chain [1] start processing\n"
     ]
    },
    {
     "name": "stdout",
     "output_type": "stream",
     "text": [
      "There are 1 NaN values in the data.\n",
      "Root Mean Squared Error (RMSE): 0.3019252264588904\n",
      "Root Mean Squared Logarithmic Error (RMSLE): 0.18806837225941306\n",
      "\n",
      "Training model for store 15 and family 18...\n"
     ]
    },
    {
     "name": "stderr",
     "output_type": "stream",
     "text": [
      "14:55:18 - cmdstanpy - INFO - Chain [1] done processing\n",
      "14:55:18 - cmdstanpy - INFO - Chain [1] start processing\n"
     ]
    },
    {
     "name": "stdout",
     "output_type": "stream",
     "text": [
      "There are 1 NaN values in the data.\n",
      "Root Mean Squared Error (RMSE): 95.03451025175431\n",
      "Root Mean Squared Logarithmic Error (RMSLE): 0.5704880120949011\n",
      "\n",
      "Training model for store 15 and family 19...\n"
     ]
    },
    {
     "name": "stderr",
     "output_type": "stream",
     "text": [
      "14:55:18 - cmdstanpy - INFO - Chain [1] done processing\n",
      "14:55:18 - cmdstanpy - INFO - Chain [1] start processing\n",
      "14:55:18 - cmdstanpy - INFO - Chain [1] done processing\n"
     ]
    },
    {
     "name": "stdout",
     "output_type": "stream",
     "text": [
      "There are 1 NaN values in the data.\n",
      "Root Mean Squared Error (RMSE): 6.4244217355496085\n",
      "Root Mean Squared Logarithmic Error (RMSLE): 0.7274016432704828\n",
      "\n",
      "Training model for store 15 and family 20...\n"
     ]
    },
    {
     "name": "stderr",
     "output_type": "stream",
     "text": [
      "14:55:18 - cmdstanpy - INFO - Chain [1] start processing\n"
     ]
    },
    {
     "name": "stdout",
     "output_type": "stream",
     "text": [
      "There are 1 NaN values in the data.\n",
      "Root Mean Squared Error (RMSE): 0.03974571799418573\n",
      "Root Mean Squared Logarithmic Error (RMSLE): 0.0368951334934487\n",
      "\n",
      "Training model for store 15 and family 21...\n"
     ]
    },
    {
     "name": "stderr",
     "output_type": "stream",
     "text": [
      "14:55:19 - cmdstanpy - INFO - Chain [1] done processing\n",
      "14:55:19 - cmdstanpy - INFO - Chain [1] start processing\n"
     ]
    },
    {
     "name": "stdout",
     "output_type": "stream",
     "text": [
      "There are 1 NaN values in the data.\n",
      "Root Mean Squared Error (RMSE): 3.656894197694336\n",
      "Root Mean Squared Logarithmic Error (RMSLE): 0.7409426850112019\n",
      "\n",
      "Training model for store 15 and family 22...\n"
     ]
    },
    {
     "name": "stderr",
     "output_type": "stream",
     "text": [
      "14:55:19 - cmdstanpy - INFO - Chain [1] done processing\n",
      "14:55:19 - cmdstanpy - INFO - Chain [1] start processing\n"
     ]
    },
    {
     "name": "stdout",
     "output_type": "stream",
     "text": [
      "There are 1 NaN values in the data.\n",
      "Root Mean Squared Error (RMSE): 16.631052207024226\n",
      "Root Mean Squared Logarithmic Error (RMSLE): 0.9538936407262656\n",
      "\n",
      "Training model for store 15 and family 23...\n"
     ]
    },
    {
     "name": "stderr",
     "output_type": "stream",
     "text": [
      "14:55:19 - cmdstanpy - INFO - Chain [1] done processing\n",
      "14:55:19 - cmdstanpy - INFO - Chain [1] start processing\n"
     ]
    },
    {
     "name": "stdout",
     "output_type": "stream",
     "text": [
      "There are 1 NaN values in the data.\n",
      "Root Mean Squared Error (RMSE): 1.8067154129525198\n",
      "Root Mean Squared Logarithmic Error (RMSLE): 0.6839627821264198\n",
      "\n",
      "Training model for store 15 and family 24...\n"
     ]
    },
    {
     "name": "stderr",
     "output_type": "stream",
     "text": [
      "14:55:19 - cmdstanpy - INFO - Chain [1] done processing\n",
      "14:55:20 - cmdstanpy - INFO - Chain [1] start processing\n"
     ]
    },
    {
     "name": "stdout",
     "output_type": "stream",
     "text": [
      "There are 1 NaN values in the data.\n",
      "Root Mean Squared Error (RMSE): 27.577712441918774\n",
      "Root Mean Squared Logarithmic Error (RMSLE): 0.4075327804323037\n",
      "\n",
      "Training model for store 15 and family 25...\n"
     ]
    },
    {
     "name": "stderr",
     "output_type": "stream",
     "text": [
      "14:55:20 - cmdstanpy - INFO - Chain [1] done processing\n",
      "14:55:20 - cmdstanpy - INFO - Chain [1] start processing\n",
      "14:55:20 - cmdstanpy - INFO - Chain [1] done processing\n"
     ]
    },
    {
     "name": "stdout",
     "output_type": "stream",
     "text": [
      "There are 1 NaN values in the data.\n",
      "Root Mean Squared Error (RMSE): 47.65027794949741\n",
      "Root Mean Squared Logarithmic Error (RMSLE): 0.46148855030016045\n",
      "\n",
      "Training model for store 15 and family 26...\n"
     ]
    },
    {
     "name": "stderr",
     "output_type": "stream",
     "text": [
      "14:55:20 - cmdstanpy - INFO - Chain [1] start processing\n"
     ]
    },
    {
     "name": "stdout",
     "output_type": "stream",
     "text": [
      "There are 1 NaN values in the data.\n",
      "Root Mean Squared Error (RMSE): 1.4285156240242434\n",
      "Root Mean Squared Logarithmic Error (RMSLE): 0.5536111942424546\n",
      "\n",
      "Training model for store 15 and family 27...\n"
     ]
    },
    {
     "name": "stderr",
     "output_type": "stream",
     "text": [
      "14:55:20 - cmdstanpy - INFO - Chain [1] done processing\n",
      "14:55:21 - cmdstanpy - INFO - Chain [1] start processing\n"
     ]
    },
    {
     "name": "stdout",
     "output_type": "stream",
     "text": [
      "There are 1 NaN values in the data.\n",
      "Root Mean Squared Error (RMSE): 3.3007177609642597\n",
      "Root Mean Squared Logarithmic Error (RMSLE): 0.53772056500986\n",
      "\n",
      "Training model for store 15 and family 28...\n"
     ]
    },
    {
     "name": "stderr",
     "output_type": "stream",
     "text": [
      "14:55:21 - cmdstanpy - INFO - Chain [1] done processing\n",
      "14:55:21 - cmdstanpy - INFO - Chain [1] start processing\n"
     ]
    },
    {
     "name": "stdout",
     "output_type": "stream",
     "text": [
      "There are 1 NaN values in the data.\n",
      "Root Mean Squared Error (RMSE): 50.380629582764186\n",
      "Root Mean Squared Logarithmic Error (RMSLE): 0.5506614301494642\n",
      "\n",
      "Training model for store 15 and family 29...\n"
     ]
    },
    {
     "name": "stderr",
     "output_type": "stream",
     "text": [
      "14:55:21 - cmdstanpy - INFO - Chain [1] done processing\n",
      "14:55:21 - cmdstanpy - INFO - Chain [1] start processing\n"
     ]
    },
    {
     "name": "stdout",
     "output_type": "stream",
     "text": [
      "There are 1 NaN values in the data.\n",
      "Root Mean Squared Error (RMSE): 14.094029649771436\n",
      "Root Mean Squared Logarithmic Error (RMSLE): 0.3958788450979516\n",
      "\n",
      "Training model for store 15 and family 30...\n"
     ]
    },
    {
     "name": "stderr",
     "output_type": "stream",
     "text": [
      "14:55:21 - cmdstanpy - INFO - Chain [1] done processing\n",
      "14:55:21 - cmdstanpy - INFO - Chain [1] start processing\n"
     ]
    },
    {
     "name": "stdout",
     "output_type": "stream",
     "text": [
      "There are 1 NaN values in the data.\n",
      "Root Mean Squared Error (RMSE): 184.5901043029173\n",
      "Root Mean Squared Logarithmic Error (RMSLE): 0.5597541444521785\n",
      "\n",
      "Training model for store 15 and family 31...\n"
     ]
    },
    {
     "name": "stderr",
     "output_type": "stream",
     "text": [
      "14:55:21 - cmdstanpy - INFO - Chain [1] done processing\n",
      "14:55:22 - cmdstanpy - INFO - Chain [1] start processing\n"
     ]
    },
    {
     "name": "stdout",
     "output_type": "stream",
     "text": [
      "There are 1 NaN values in the data.\n",
      "Root Mean Squared Error (RMSE): 2.6650929311728433\n",
      "Root Mean Squared Logarithmic Error (RMSLE): 1.117776208428199\n",
      "\n",
      "Training model for store 15 and family 32...\n"
     ]
    },
    {
     "name": "stderr",
     "output_type": "stream",
     "text": [
      "14:55:22 - cmdstanpy - INFO - Chain [1] done processing\n",
      "14:55:22 - cmdstanpy - INFO - Chain [1] start processing\n"
     ]
    },
    {
     "name": "stdout",
     "output_type": "stream",
     "text": [
      "There are 1 NaN values in the data.\n",
      "Root Mean Squared Error (RMSE): 4.361352979758767\n",
      "Root Mean Squared Logarithmic Error (RMSLE): 0.6583077473956166\n",
      "\n",
      "Training model for store 16 and family 0...\n"
     ]
    },
    {
     "name": "stderr",
     "output_type": "stream",
     "text": [
      "14:55:22 - cmdstanpy - INFO - Chain [1] done processing\n",
      "14:55:22 - cmdstanpy - INFO - Chain [1] start processing\n"
     ]
    },
    {
     "name": "stdout",
     "output_type": "stream",
     "text": [
      "There are 1 NaN values in the data.\n",
      "Root Mean Squared Error (RMSE): 3.0389515673449345\n",
      "Root Mean Squared Logarithmic Error (RMSLE): 0.6413056418233037\n",
      "\n",
      "Training model for store 16 and family 1...\n"
     ]
    },
    {
     "name": "stderr",
     "output_type": "stream",
     "text": [
      "14:55:22 - cmdstanpy - INFO - Chain [1] done processing\n",
      "14:55:23 - cmdstanpy - INFO - Chain [1] start processing\n"
     ]
    },
    {
     "name": "stdout",
     "output_type": "stream",
     "text": [
      "There are 1 NaN values in the data.\n",
      "Root Mean Squared Error (RMSE): 0.44001550324938926\n",
      "Root Mean Squared Logarithmic Error (RMSLE): 0.3295803479709796\n",
      "\n",
      "Training model for store 16 and family 2...\n"
     ]
    },
    {
     "name": "stderr",
     "output_type": "stream",
     "text": [
      "14:55:23 - cmdstanpy - INFO - Chain [1] done processing\n",
      "14:55:23 - cmdstanpy - INFO - Chain [1] start processing\n"
     ]
    },
    {
     "name": "stdout",
     "output_type": "stream",
     "text": [
      "There are 1 NaN values in the data.\n",
      "Root Mean Squared Error (RMSE): 1.3906824125813506\n",
      "Root Mean Squared Logarithmic Error (RMSLE): 0.6195171688545132\n",
      "\n",
      "Training model for store 16 and family 3...\n"
     ]
    },
    {
     "name": "stderr",
     "output_type": "stream",
     "text": [
      "14:55:23 - cmdstanpy - INFO - Chain [1] done processing\n"
     ]
    },
    {
     "name": "stdout",
     "output_type": "stream",
     "text": [
      "There are 1 NaN values in the data.\n",
      "Root Mean Squared Error (RMSE): 492.5741171750343\n",
      "Root Mean Squared Logarithmic Error (RMSLE): 0.6512092549640236\n",
      "\n",
      "Training model for store 16 and family 4...\n",
      "There are 1 NaN values in the data.\n",
      "Root Mean Squared Error (RMSE): 0.0\n",
      "Root Mean Squared Logarithmic Error (RMSLE): 0.0\n"
     ]
    },
    {
     "name": "stderr",
     "output_type": "stream",
     "text": [
      "14:55:23 - cmdstanpy - INFO - Chain [1] start processing\n",
      "14:55:23 - cmdstanpy - INFO - Chain [1] done processing\n"
     ]
    },
    {
     "name": "stdout",
     "output_type": "stream",
     "text": [
      "\n",
      "Training model for store 16 and family 5...\n"
     ]
    },
    {
     "name": "stderr",
     "output_type": "stream",
     "text": [
      "14:55:24 - cmdstanpy - INFO - Chain [1] start processing\n"
     ]
    },
    {
     "name": "stdout",
     "output_type": "stream",
     "text": [
      "There are 1 NaN values in the data.\n",
      "Root Mean Squared Error (RMSE): 41.61318376196244\n",
      "Root Mean Squared Logarithmic Error (RMSLE): 0.5221590888505799\n",
      "\n",
      "Training model for store 16 and family 6...\n"
     ]
    },
    {
     "name": "stderr",
     "output_type": "stream",
     "text": [
      "14:55:24 - cmdstanpy - INFO - Chain [1] done processing\n",
      "14:55:24 - cmdstanpy - INFO - Chain [1] start processing\n"
     ]
    },
    {
     "name": "stdout",
     "output_type": "stream",
     "text": [
      "There are 1 NaN values in the data.\n",
      "Root Mean Squared Error (RMSE): 5.591534716396281\n",
      "Root Mean Squared Logarithmic Error (RMSLE): 0.7999159666210562\n",
      "\n",
      "Training model for store 16 and family 7...\n"
     ]
    },
    {
     "name": "stderr",
     "output_type": "stream",
     "text": [
      "14:55:24 - cmdstanpy - INFO - Chain [1] done processing\n",
      "14:55:24 - cmdstanpy - INFO - Chain [1] start processing\n"
     ]
    },
    {
     "name": "stdout",
     "output_type": "stream",
     "text": [
      "There are 1 NaN values in the data.\n",
      "Root Mean Squared Error (RMSE): 916.2859796752747\n",
      "Root Mean Squared Logarithmic Error (RMSLE): 0.7244150853760992\n",
      "\n",
      "Training model for store 16 and family 8...\n"
     ]
    },
    {
     "name": "stderr",
     "output_type": "stream",
     "text": [
      "14:55:24 - cmdstanpy - INFO - Chain [1] done processing\n",
      "14:55:24 - cmdstanpy - INFO - Chain [1] start processing\n"
     ]
    },
    {
     "name": "stdout",
     "output_type": "stream",
     "text": [
      "There are 1 NaN values in the data.\n",
      "Root Mean Squared Error (RMSE): 84.20334094404541\n",
      "Root Mean Squared Logarithmic Error (RMSLE): 0.5444988221469343\n",
      "\n",
      "Training model for store 16 and family 9...\n"
     ]
    },
    {
     "name": "stderr",
     "output_type": "stream",
     "text": [
      "14:55:25 - cmdstanpy - INFO - Chain [1] done processing\n",
      "14:55:25 - cmdstanpy - INFO - Chain [1] start processing\n"
     ]
    },
    {
     "name": "stdout",
     "output_type": "stream",
     "text": [
      "There are 1 NaN values in the data.\n",
      "Root Mean Squared Error (RMSE): 51.536608149186776\n",
      "Root Mean Squared Logarithmic Error (RMSLE): 0.5041087054038904\n",
      "\n",
      "Training model for store 16 and family 10...\n"
     ]
    },
    {
     "name": "stderr",
     "output_type": "stream",
     "text": [
      "14:55:25 - cmdstanpy - INFO - Chain [1] done processing\n",
      "14:55:25 - cmdstanpy - INFO - Chain [1] start processing\n"
     ]
    },
    {
     "name": "stdout",
     "output_type": "stream",
     "text": [
      "There are 1 NaN values in the data.\n",
      "Root Mean Squared Error (RMSE): 120.0085521796817\n",
      "Root Mean Squared Logarithmic Error (RMSLE): 0.6665606897624426\n",
      "\n",
      "Training model for store 16 and family 11...\n"
     ]
    },
    {
     "name": "stderr",
     "output_type": "stream",
     "text": [
      "14:55:25 - cmdstanpy - INFO - Chain [1] done processing\n",
      "14:55:25 - cmdstanpy - INFO - Chain [1] start processing\n"
     ]
    },
    {
     "name": "stdout",
     "output_type": "stream",
     "text": [
      "There are 1 NaN values in the data.\n",
      "Root Mean Squared Error (RMSE): 61.80933340134057\n",
      "Root Mean Squared Logarithmic Error (RMSLE): 1.2651351113295444\n",
      "\n",
      "Training model for store 16 and family 12...\n"
     ]
    },
    {
     "name": "stderr",
     "output_type": "stream",
     "text": [
      "14:55:25 - cmdstanpy - INFO - Chain [1] done processing\n",
      "14:55:26 - cmdstanpy - INFO - Chain [1] start processing\n"
     ]
    },
    {
     "name": "stdout",
     "output_type": "stream",
     "text": [
      "There are 1 NaN values in the data.\n",
      "Root Mean Squared Error (RMSE): 768.9943552787602\n",
      "Root Mean Squared Logarithmic Error (RMSLE): 0.6846420168652844\n",
      "\n",
      "Training model for store 16 and family 13...\n"
     ]
    },
    {
     "name": "stderr",
     "output_type": "stream",
     "text": [
      "14:55:26 - cmdstanpy - INFO - Chain [1] done processing\n",
      "14:55:26 - cmdstanpy - INFO - Chain [1] start processing\n",
      "14:55:26 - cmdstanpy - INFO - Chain [1] done processing\n"
     ]
    },
    {
     "name": "stdout",
     "output_type": "stream",
     "text": [
      "There are 1 NaN values in the data.\n",
      "Root Mean Squared Error (RMSE): 9.64272657157661\n",
      "Root Mean Squared Logarithmic Error (RMSLE): 1.036720291642581\n",
      "\n",
      "Training model for store 16 and family 14...\n"
     ]
    },
    {
     "name": "stderr",
     "output_type": "stream",
     "text": [
      "14:55:26 - cmdstanpy - INFO - Chain [1] start processing\n"
     ]
    },
    {
     "name": "stdout",
     "output_type": "stream",
     "text": [
      "There are 1 NaN values in the data.\n",
      "Root Mean Squared Error (RMSE): 0.6965972233907322\n",
      "Root Mean Squared Logarithmic Error (RMSLE): 0.4106632659093295\n",
      "\n",
      "Training model for store 16 and family 15...\n"
     ]
    },
    {
     "name": "stderr",
     "output_type": "stream",
     "text": [
      "14:55:26 - cmdstanpy - INFO - Chain [1] done processing\n",
      "14:55:27 - cmdstanpy - INFO - Chain [1] start processing\n"
     ]
    },
    {
     "name": "stdout",
     "output_type": "stream",
     "text": [
      "There are 1 NaN values in the data.\n",
      "Root Mean Squared Error (RMSE): 10.454180276372318\n",
      "Root Mean Squared Logarithmic Error (RMSLE): 0.6161829672035672\n",
      "\n",
      "Training model for store 16 and family 16...\n"
     ]
    },
    {
     "name": "stderr",
     "output_type": "stream",
     "text": [
      "14:55:27 - cmdstanpy - INFO - Chain [1] done processing\n",
      "14:55:27 - cmdstanpy - INFO - Chain [1] start processing\n"
     ]
    },
    {
     "name": "stdout",
     "output_type": "stream",
     "text": [
      "There are 1 NaN values in the data.\n",
      "Root Mean Squared Error (RMSE): 13.738833916774416\n",
      "Root Mean Squared Logarithmic Error (RMSLE): 0.9631616312302886\n",
      "\n",
      "Training model for store 16 and family 17...\n"
     ]
    },
    {
     "name": "stderr",
     "output_type": "stream",
     "text": [
      "14:55:27 - cmdstanpy - INFO - Chain [1] done processing\n",
      "14:55:27 - cmdstanpy - INFO - Chain [1] start processing\n"
     ]
    },
    {
     "name": "stdout",
     "output_type": "stream",
     "text": [
      "There are 1 NaN values in the data.\n",
      "Root Mean Squared Error (RMSE): 0.33554983553767065\n",
      "Root Mean Squared Logarithmic Error (RMSLE): 0.21318450585345639\n",
      "\n",
      "Training model for store 16 and family 18...\n"
     ]
    },
    {
     "name": "stderr",
     "output_type": "stream",
     "text": [
      "14:55:27 - cmdstanpy - INFO - Chain [1] done processing\n"
     ]
    },
    {
     "name": "stdout",
     "output_type": "stream",
     "text": [
      "There are 1 NaN values in the data.\n",
      "Root Mean Squared Error (RMSE): 102.2529594080997\n",
      "Root Mean Squared Logarithmic Error (RMSLE): 0.6449939778545445\n",
      "\n",
      "Training model for store 16 and family 19...\n"
     ]
    },
    {
     "name": "stderr",
     "output_type": "stream",
     "text": [
      "14:55:28 - cmdstanpy - INFO - Chain [1] start processing\n"
     ]
    },
    {
     "name": "stdout",
     "output_type": "stream",
     "text": [
      "There are 1 NaN values in the data.\n",
      "Root Mean Squared Error (RMSE): 0.0\n",
      "Root Mean Squared Logarithmic Error (RMSLE): 0.0\n",
      "\n",
      "Training model for store 16 and family 20...\n"
     ]
    },
    {
     "name": "stderr",
     "output_type": "stream",
     "text": [
      "14:55:28 - cmdstanpy - INFO - Chain [1] done processing\n"
     ]
    },
    {
     "name": "stdout",
     "output_type": "stream",
     "text": [
      "There are 1 NaN values in the data.\n",
      "Root Mean Squared Error (RMSE): 0.07347179559232084\n",
      "Root Mean Squared Logarithmic Error (RMSLE): 0.06565145597073511\n",
      "\n",
      "Training model for store 16 and family 21...\n"
     ]
    },
    {
     "name": "stderr",
     "output_type": "stream",
     "text": [
      "14:55:28 - cmdstanpy - INFO - Chain [1] start processing\n",
      "14:55:28 - cmdstanpy - INFO - Chain [1] done processing\n"
     ]
    },
    {
     "name": "stdout",
     "output_type": "stream",
     "text": [
      "There are 1 NaN values in the data.\n",
      "Root Mean Squared Error (RMSE): 3.2016619403466247\n",
      "Root Mean Squared Logarithmic Error (RMSLE): 1.031809343505393\n",
      "\n",
      "Training model for store 16 and family 22...\n"
     ]
    },
    {
     "name": "stderr",
     "output_type": "stream",
     "text": [
      "14:55:29 - cmdstanpy - INFO - Chain [1] start processing\n",
      "14:55:29 - cmdstanpy - INFO - Chain [1] done processing\n",
      "14:55:29 - cmdstanpy - INFO - Chain [1] start processing\n"
     ]
    },
    {
     "name": "stdout",
     "output_type": "stream",
     "text": [
      "There are 1 NaN values in the data.\n",
      "Root Mean Squared Error (RMSE): 55.027359781124595\n",
      "Root Mean Squared Logarithmic Error (RMSLE): 1.1783723670206503\n",
      "\n",
      "Training model for store 16 and family 23...\n"
     ]
    },
    {
     "name": "stderr",
     "output_type": "stream",
     "text": [
      "14:55:29 - cmdstanpy - INFO - Chain [1] done processing\n",
      "14:55:29 - cmdstanpy - INFO - Chain [1] start processing\n"
     ]
    },
    {
     "name": "stdout",
     "output_type": "stream",
     "text": [
      "There are 1 NaN values in the data.\n",
      "Root Mean Squared Error (RMSE): 1.4750110138133041\n",
      "Root Mean Squared Logarithmic Error (RMSLE): 0.687405076089142\n",
      "\n",
      "Training model for store 16 and family 24...\n"
     ]
    },
    {
     "name": "stderr",
     "output_type": "stream",
     "text": [
      "14:55:29 - cmdstanpy - INFO - Chain [1] done processing\n",
      "14:55:29 - cmdstanpy - INFO - Chain [1] start processing\n"
     ]
    },
    {
     "name": "stdout",
     "output_type": "stream",
     "text": [
      "There are 1 NaN values in the data.\n",
      "Root Mean Squared Error (RMSE): 28.27794464325226\n",
      "Root Mean Squared Logarithmic Error (RMSLE): 0.8116591108814359\n",
      "\n",
      "Training model for store 16 and family 25...\n"
     ]
    },
    {
     "name": "stderr",
     "output_type": "stream",
     "text": [
      "14:55:30 - cmdstanpy - INFO - Chain [1] done processing\n",
      "14:55:30 - cmdstanpy - INFO - Chain [1] start processing\n"
     ]
    },
    {
     "name": "stdout",
     "output_type": "stream",
     "text": [
      "There are 1 NaN values in the data.\n",
      "Root Mean Squared Error (RMSE): 41.39276416350675\n",
      "Root Mean Squared Logarithmic Error (RMSLE): 0.48971114507297286\n",
      "\n",
      "Training model for store 16 and family 26...\n"
     ]
    },
    {
     "name": "stderr",
     "output_type": "stream",
     "text": [
      "14:55:30 - cmdstanpy - INFO - Chain [1] done processing\n",
      "14:55:30 - cmdstanpy - INFO - Chain [1] start processing\n",
      "14:55:30 - cmdstanpy - INFO - Chain [1] done processing\n"
     ]
    },
    {
     "name": "stdout",
     "output_type": "stream",
     "text": [
      "There are 1 NaN values in the data.\n",
      "Root Mean Squared Error (RMSE): 1.361981303065324\n",
      "Root Mean Squared Logarithmic Error (RMSLE): 0.5490883674397469\n",
      "\n",
      "Training model for store 16 and family 27...\n"
     ]
    },
    {
     "name": "stderr",
     "output_type": "stream",
     "text": [
      "14:55:30 - cmdstanpy - INFO - Chain [1] start processing\n"
     ]
    },
    {
     "name": "stdout",
     "output_type": "stream",
     "text": [
      "There are 1 NaN values in the data.\n",
      "Root Mean Squared Error (RMSE): 2.4859291839254865\n",
      "Root Mean Squared Logarithmic Error (RMSLE): 0.626124997473149\n",
      "\n",
      "Training model for store 16 and family 28...\n"
     ]
    },
    {
     "name": "stderr",
     "output_type": "stream",
     "text": [
      "14:55:30 - cmdstanpy - INFO - Chain [1] done processing\n",
      "14:55:31 - cmdstanpy - INFO - Chain [1] start processing\n"
     ]
    },
    {
     "name": "stdout",
     "output_type": "stream",
     "text": [
      "There are 1 NaN values in the data.\n",
      "Root Mean Squared Error (RMSE): 28.433253409541116\n",
      "Root Mean Squared Logarithmic Error (RMSLE): 0.5042212873507298\n",
      "\n",
      "Training model for store 16 and family 29...\n"
     ]
    },
    {
     "name": "stderr",
     "output_type": "stream",
     "text": [
      "14:55:31 - cmdstanpy - INFO - Chain [1] done processing\n",
      "14:55:31 - cmdstanpy - INFO - Chain [1] start processing\n"
     ]
    },
    {
     "name": "stdout",
     "output_type": "stream",
     "text": [
      "There are 1 NaN values in the data.\n",
      "Root Mean Squared Error (RMSE): 12.278070880192832\n",
      "Root Mean Squared Logarithmic Error (RMSLE): 0.4400371335915816\n",
      "\n",
      "Training model for store 16 and family 30...\n"
     ]
    },
    {
     "name": "stderr",
     "output_type": "stream",
     "text": [
      "14:55:31 - cmdstanpy - INFO - Chain [1] done processing\n",
      "14:55:31 - cmdstanpy - INFO - Chain [1] start processing\n"
     ]
    },
    {
     "name": "stdout",
     "output_type": "stream",
     "text": [
      "There are 1 NaN values in the data.\n",
      "Root Mean Squared Error (RMSE): 207.94718937567396\n",
      "Root Mean Squared Logarithmic Error (RMSLE): 0.6121918996781118\n",
      "\n",
      "Training model for store 16 and family 31...\n"
     ]
    },
    {
     "name": "stderr",
     "output_type": "stream",
     "text": [
      "14:55:31 - cmdstanpy - INFO - Chain [1] done processing\n",
      "14:55:32 - cmdstanpy - INFO - Chain [1] start processing\n",
      "14:55:32 - cmdstanpy - INFO - Chain [1] done processing\n"
     ]
    },
    {
     "name": "stdout",
     "output_type": "stream",
     "text": [
      "There are 1 NaN values in the data.\n",
      "Root Mean Squared Error (RMSE): 13.322347697330411\n",
      "Root Mean Squared Logarithmic Error (RMSLE): 1.5840003320314333\n",
      "\n",
      "Training model for store 16 and family 32...\n"
     ]
    },
    {
     "name": "stderr",
     "output_type": "stream",
     "text": [
      "14:55:32 - cmdstanpy - INFO - Chain [1] start processing\n"
     ]
    },
    {
     "name": "stdout",
     "output_type": "stream",
     "text": [
      "There are 1 NaN values in the data.\n",
      "Root Mean Squared Error (RMSE): 1.7621918949297035\n",
      "Root Mean Squared Logarithmic Error (RMSLE): 0.6989363241360723\n",
      "\n",
      "Training model for store 17 and family 0...\n"
     ]
    },
    {
     "name": "stderr",
     "output_type": "stream",
     "text": [
      "14:55:32 - cmdstanpy - INFO - Chain [1] done processing\n",
      "14:55:32 - cmdstanpy - INFO - Chain [1] start processing\n"
     ]
    },
    {
     "name": "stdout",
     "output_type": "stream",
     "text": [
      "There are 1 NaN values in the data.\n",
      "Root Mean Squared Error (RMSE): 5.653911081299516\n",
      "Root Mean Squared Logarithmic Error (RMSLE): 0.566162265568741\n",
      "\n",
      "Training model for store 17 and family 1...\n"
     ]
    },
    {
     "name": "stderr",
     "output_type": "stream",
     "text": [
      "14:55:32 - cmdstanpy - INFO - Chain [1] done processing\n",
      "14:55:32 - cmdstanpy - INFO - Chain [1] start processing\n"
     ]
    },
    {
     "name": "stdout",
     "output_type": "stream",
     "text": [
      "There are 1 NaN values in the data.\n",
      "Root Mean Squared Error (RMSE): 0.9934344823004242\n",
      "Root Mean Squared Logarithmic Error (RMSLE): 0.5897695818825439\n",
      "\n",
      "Training model for store 17 and family 2...\n"
     ]
    },
    {
     "name": "stderr",
     "output_type": "stream",
     "text": [
      "14:55:33 - cmdstanpy - INFO - Chain [1] done processing\n",
      "14:55:33 - cmdstanpy - INFO - Chain [1] start processing\n"
     ]
    },
    {
     "name": "stdout",
     "output_type": "stream",
     "text": [
      "There are 1 NaN values in the data.\n",
      "Root Mean Squared Error (RMSE): 3.1881631446833447\n",
      "Root Mean Squared Logarithmic Error (RMSLE): 0.852310298167443\n",
      "\n",
      "Training model for store 17 and family 3...\n"
     ]
    },
    {
     "name": "stderr",
     "output_type": "stream",
     "text": [
      "14:55:33 - cmdstanpy - INFO - Chain [1] done processing\n"
     ]
    },
    {
     "name": "stdout",
     "output_type": "stream",
     "text": [
      "There are 1 NaN values in the data.\n",
      "Root Mean Squared Error (RMSE): 860.3783755256189\n",
      "Root Mean Squared Logarithmic Error (RMSLE): 0.688771034450615\n",
      "\n",
      "Training model for store 17 and family 4...\n",
      "There are 1 NaN values in the data.\n",
      "Root Mean Squared Error (RMSE): 0.0\n",
      "Root Mean Squared Logarithmic Error (RMSLE): 0.0\n",
      "\n",
      "Training model for store 17 and family 5...\n"
     ]
    },
    {
     "name": "stderr",
     "output_type": "stream",
     "text": [
      "14:55:33 - cmdstanpy - INFO - Chain [1] start processing\n",
      "14:55:34 - cmdstanpy - INFO - Chain [1] done processing\n",
      "14:55:34 - cmdstanpy - INFO - Chain [1] start processing\n"
     ]
    },
    {
     "name": "stdout",
     "output_type": "stream",
     "text": [
      "There are 1 NaN values in the data.\n",
      "Root Mean Squared Error (RMSE): 110.37610449252813\n",
      "Root Mean Squared Logarithmic Error (RMSLE): 0.5338243218376566\n",
      "\n",
      "Training model for store 17 and family 6...\n"
     ]
    },
    {
     "name": "stderr",
     "output_type": "stream",
     "text": [
      "14:55:34 - cmdstanpy - INFO - Chain [1] done processing\n",
      "14:55:34 - cmdstanpy - INFO - Chain [1] start processing\n"
     ]
    },
    {
     "name": "stdout",
     "output_type": "stream",
     "text": [
      "There are 1 NaN values in the data.\n",
      "Root Mean Squared Error (RMSE): 8.536493739054613\n",
      "Root Mean Squared Logarithmic Error (RMSLE): 0.9737056880349567\n",
      "\n",
      "Training model for store 17 and family 7...\n"
     ]
    },
    {
     "name": "stderr",
     "output_type": "stream",
     "text": [
      "14:55:34 - cmdstanpy - INFO - Chain [1] done processing\n",
      "14:55:34 - cmdstanpy - INFO - Chain [1] start processing\n"
     ]
    },
    {
     "name": "stdout",
     "output_type": "stream",
     "text": [
      "There are 1 NaN values in the data.\n",
      "Root Mean Squared Error (RMSE): 296.41852249740475\n",
      "Root Mean Squared Logarithmic Error (RMSLE): 0.6073152059646976\n",
      "\n",
      "Training model for store 17 and family 8...\n"
     ]
    },
    {
     "name": "stderr",
     "output_type": "stream",
     "text": [
      "14:55:35 - cmdstanpy - INFO - Chain [1] done processing\n",
      "14:55:35 - cmdstanpy - INFO - Chain [1] start processing\n"
     ]
    },
    {
     "name": "stdout",
     "output_type": "stream",
     "text": [
      "There are 1 NaN values in the data.\n",
      "Root Mean Squared Error (RMSE): 232.88192960573522\n",
      "Root Mean Squared Logarithmic Error (RMSLE): 0.6063007533480504\n",
      "\n",
      "Training model for store 17 and family 9...\n"
     ]
    },
    {
     "name": "stderr",
     "output_type": "stream",
     "text": [
      "14:55:35 - cmdstanpy - INFO - Chain [1] done processing\n",
      "14:55:35 - cmdstanpy - INFO - Chain [1] start processing\n"
     ]
    },
    {
     "name": "stdout",
     "output_type": "stream",
     "text": [
      "There are 1 NaN values in the data.\n",
      "Root Mean Squared Error (RMSE): 114.1084118321544\n",
      "Root Mean Squared Logarithmic Error (RMSLE): 0.5365972072097245\n",
      "\n",
      "Training model for store 17 and family 10...\n"
     ]
    },
    {
     "name": "stderr",
     "output_type": "stream",
     "text": [
      "14:55:35 - cmdstanpy - INFO - Chain [1] done processing\n",
      "14:55:35 - cmdstanpy - INFO - Chain [1] start processing\n"
     ]
    },
    {
     "name": "stdout",
     "output_type": "stream",
     "text": [
      "There are 1 NaN values in the data.\n",
      "Root Mean Squared Error (RMSE): 250.51998711092276\n",
      "Root Mean Squared Logarithmic Error (RMSLE): 0.896742688603533\n",
      "\n",
      "Training model for store 17 and family 11...\n"
     ]
    },
    {
     "name": "stderr",
     "output_type": "stream",
     "text": [
      "14:55:36 - cmdstanpy - INFO - Chain [1] done processing\n",
      "14:55:36 - cmdstanpy - INFO - Chain [1] start processing\n"
     ]
    },
    {
     "name": "stdout",
     "output_type": "stream",
     "text": [
      "There are 1 NaN values in the data.\n",
      "Root Mean Squared Error (RMSE): 103.09972436303555\n",
      "Root Mean Squared Logarithmic Error (RMSLE): 0.5693001566466784\n",
      "\n",
      "Training model for store 17 and family 12...\n"
     ]
    },
    {
     "name": "stderr",
     "output_type": "stream",
     "text": [
      "14:55:36 - cmdstanpy - INFO - Chain [1] done processing\n",
      "14:55:36 - cmdstanpy - INFO - Chain [1] start processing\n"
     ]
    },
    {
     "name": "stdout",
     "output_type": "stream",
     "text": [
      "There are 1 NaN values in the data.\n",
      "Root Mean Squared Error (RMSE): 1370.4376667921354\n",
      "Root Mean Squared Logarithmic Error (RMSLE): 0.7171198128356692\n",
      "\n",
      "Training model for store 17 and family 13...\n"
     ]
    },
    {
     "name": "stderr",
     "output_type": "stream",
     "text": [
      "14:55:36 - cmdstanpy - INFO - Chain [1] done processing\n",
      "14:55:36 - cmdstanpy - INFO - Chain [1] start processing\n"
     ]
    },
    {
     "name": "stdout",
     "output_type": "stream",
     "text": [
      "There are 1 NaN values in the data.\n",
      "Root Mean Squared Error (RMSE): 12.313364104265549\n",
      "Root Mean Squared Logarithmic Error (RMSLE): 1.0705042478908728\n",
      "\n",
      "Training model for store 17 and family 14...\n"
     ]
    },
    {
     "name": "stderr",
     "output_type": "stream",
     "text": [
      "14:55:36 - cmdstanpy - INFO - Chain [1] done processing\n",
      "14:55:37 - cmdstanpy - INFO - Chain [1] start processing\n"
     ]
    },
    {
     "name": "stdout",
     "output_type": "stream",
     "text": [
      "There are 1 NaN values in the data.\n",
      "Root Mean Squared Error (RMSE): 1.3859657973431094\n",
      "Root Mean Squared Logarithmic Error (RMSLE): 0.5967291864599445\n",
      "\n",
      "Training model for store 17 and family 15...\n"
     ]
    },
    {
     "name": "stderr",
     "output_type": "stream",
     "text": [
      "14:55:37 - cmdstanpy - INFO - Chain [1] done processing\n",
      "14:55:37 - cmdstanpy - INFO - Chain [1] start processing\n"
     ]
    },
    {
     "name": "stdout",
     "output_type": "stream",
     "text": [
      "There are 1 NaN values in the data.\n",
      "Root Mean Squared Error (RMSE): 14.18001717666134\n",
      "Root Mean Squared Logarithmic Error (RMSLE): 0.5190945486600713\n",
      "\n",
      "Training model for store 17 and family 16...\n"
     ]
    },
    {
     "name": "stderr",
     "output_type": "stream",
     "text": [
      "14:55:37 - cmdstanpy - INFO - Chain [1] done processing\n",
      "14:55:37 - cmdstanpy - INFO - Chain [1] start processing\n"
     ]
    },
    {
     "name": "stdout",
     "output_type": "stream",
     "text": [
      "There are 1 NaN values in the data.\n",
      "Root Mean Squared Error (RMSE): 34.02510160561583\n",
      "Root Mean Squared Logarithmic Error (RMSLE): 0.6719618359054081\n",
      "\n",
      "Training model for store 17 and family 17...\n"
     ]
    },
    {
     "name": "stderr",
     "output_type": "stream",
     "text": [
      "14:55:37 - cmdstanpy - INFO - Chain [1] done processing\n",
      "14:55:38 - cmdstanpy - INFO - Chain [1] start processing\n"
     ]
    },
    {
     "name": "stdout",
     "output_type": "stream",
     "text": [
      "There are 1 NaN values in the data.\n",
      "Root Mean Squared Error (RMSE): 0.7082053886307825\n",
      "Root Mean Squared Logarithmic Error (RMSLE): 0.3857409870923669\n",
      "\n",
      "Training model for store 17 and family 18...\n"
     ]
    },
    {
     "name": "stderr",
     "output_type": "stream",
     "text": [
      "14:55:38 - cmdstanpy - INFO - Chain [1] done processing\n",
      "14:55:38 - cmdstanpy - INFO - Chain [1] start processing\n"
     ]
    },
    {
     "name": "stdout",
     "output_type": "stream",
     "text": [
      "There are 1 NaN values in the data.\n",
      "Root Mean Squared Error (RMSE): 120.28875807213296\n",
      "Root Mean Squared Logarithmic Error (RMSLE): 0.5886129765861744\n",
      "\n",
      "Training model for store 17 and family 19...\n"
     ]
    },
    {
     "name": "stderr",
     "output_type": "stream",
     "text": [
      "14:55:38 - cmdstanpy - INFO - Chain [1] done processing\n",
      "14:55:38 - cmdstanpy - INFO - Chain [1] start processing\n"
     ]
    },
    {
     "name": "stdout",
     "output_type": "stream",
     "text": [
      "There are 1 NaN values in the data.\n",
      "Root Mean Squared Error (RMSE): 4.543357904422785\n",
      "Root Mean Squared Logarithmic Error (RMSLE): 0.916634746516796\n",
      "\n",
      "Training model for store 17 and family 20...\n"
     ]
    },
    {
     "name": "stderr",
     "output_type": "stream",
     "text": [
      "14:55:38 - cmdstanpy - INFO - Chain [1] done processing\n",
      "14:55:38 - cmdstanpy - INFO - Chain [1] start processing\n"
     ]
    },
    {
     "name": "stdout",
     "output_type": "stream",
     "text": [
      "There are 1 NaN values in the data.\n",
      "Root Mean Squared Error (RMSE): 0.12688704272008103\n",
      "Root Mean Squared Logarithmic Error (RMSLE): 0.10656790148566107\n",
      "\n",
      "Training model for store 17 and family 21...\n"
     ]
    },
    {
     "name": "stderr",
     "output_type": "stream",
     "text": [
      "14:55:39 - cmdstanpy - INFO - Chain [1] done processing\n",
      "14:55:39 - cmdstanpy - INFO - Chain [1] start processing\n"
     ]
    },
    {
     "name": "stdout",
     "output_type": "stream",
     "text": [
      "There are 1 NaN values in the data.\n",
      "Root Mean Squared Error (RMSE): 5.353520806785673\n",
      "Root Mean Squared Logarithmic Error (RMSLE): 0.7472025149721677\n",
      "\n",
      "Training model for store 17 and family 22...\n"
     ]
    },
    {
     "name": "stderr",
     "output_type": "stream",
     "text": [
      "14:55:39 - cmdstanpy - INFO - Chain [1] done processing\n",
      "14:55:39 - cmdstanpy - INFO - Chain [1] start processing\n"
     ]
    },
    {
     "name": "stdout",
     "output_type": "stream",
     "text": [
      "There are 1 NaN values in the data.\n",
      "Root Mean Squared Error (RMSE): 35.0504826141313\n",
      "Root Mean Squared Logarithmic Error (RMSLE): 0.9259589171162331\n",
      "\n",
      "Training model for store 17 and family 23...\n"
     ]
    },
    {
     "name": "stderr",
     "output_type": "stream",
     "text": [
      "14:55:39 - cmdstanpy - INFO - Chain [1] done processing\n",
      "14:55:39 - cmdstanpy - INFO - Chain [1] start processing\n"
     ]
    },
    {
     "name": "stdout",
     "output_type": "stream",
     "text": [
      "There are 1 NaN values in the data.\n",
      "Root Mean Squared Error (RMSE): 3.123962744786615\n",
      "Root Mean Squared Logarithmic Error (RMSLE): 0.8399645925653124\n",
      "\n",
      "Training model for store 17 and family 24...\n"
     ]
    },
    {
     "name": "stderr",
     "output_type": "stream",
     "text": [
      "14:55:39 - cmdstanpy - INFO - Chain [1] done processing\n",
      "14:55:40 - cmdstanpy - INFO - Chain [1] start processing\n"
     ]
    },
    {
     "name": "stdout",
     "output_type": "stream",
     "text": [
      "There are 1 NaN values in the data.\n",
      "Root Mean Squared Error (RMSE): 69.70487019354967\n",
      "Root Mean Squared Logarithmic Error (RMSLE): 0.5057761474743631\n",
      "\n",
      "Training model for store 17 and family 25...\n"
     ]
    },
    {
     "name": "stderr",
     "output_type": "stream",
     "text": [
      "14:55:40 - cmdstanpy - INFO - Chain [1] done processing\n",
      "14:55:40 - cmdstanpy - INFO - Chain [1] start processing\n"
     ]
    },
    {
     "name": "stdout",
     "output_type": "stream",
     "text": [
      "There are 1 NaN values in the data.\n",
      "Root Mean Squared Error (RMSE): 98.45571760869132\n",
      "Root Mean Squared Logarithmic Error (RMSLE): 0.5574838666003323\n",
      "\n",
      "Training model for store 17 and family 26...\n"
     ]
    },
    {
     "name": "stderr",
     "output_type": "stream",
     "text": [
      "14:55:40 - cmdstanpy - INFO - Chain [1] done processing\n",
      "14:55:40 - cmdstanpy - INFO - Chain [1] start processing\n"
     ]
    },
    {
     "name": "stdout",
     "output_type": "stream",
     "text": [
      "There are 1 NaN values in the data.\n",
      "Root Mean Squared Error (RMSE): 2.203407942960617\n",
      "Root Mean Squared Logarithmic Error (RMSLE): 0.5765201829610195\n",
      "\n",
      "Training model for store 17 and family 27...\n"
     ]
    },
    {
     "name": "stderr",
     "output_type": "stream",
     "text": [
      "14:55:40 - cmdstanpy - INFO - Chain [1] done processing\n",
      "14:55:41 - cmdstanpy - INFO - Chain [1] start processing\n"
     ]
    },
    {
     "name": "stdout",
     "output_type": "stream",
     "text": [
      "There are 1 NaN values in the data.\n",
      "Root Mean Squared Error (RMSE): 6.616742269003911\n",
      "Root Mean Squared Logarithmic Error (RMSLE): 0.6022426411435617\n",
      "\n",
      "Training model for store 17 and family 28...\n"
     ]
    },
    {
     "name": "stderr",
     "output_type": "stream",
     "text": [
      "14:55:41 - cmdstanpy - INFO - Chain [1] done processing\n",
      "14:55:41 - cmdstanpy - INFO - Chain [1] start processing\n"
     ]
    },
    {
     "name": "stdout",
     "output_type": "stream",
     "text": [
      "There are 1 NaN values in the data.\n",
      "Root Mean Squared Error (RMSE): 103.64347492138481\n",
      "Root Mean Squared Logarithmic Error (RMSLE): 0.5522011006006153\n",
      "\n",
      "Training model for store 17 and family 29...\n"
     ]
    },
    {
     "name": "stderr",
     "output_type": "stream",
     "text": [
      "14:55:41 - cmdstanpy - INFO - Chain [1] done processing\n",
      "14:55:41 - cmdstanpy - INFO - Chain [1] start processing\n"
     ]
    },
    {
     "name": "stdout",
     "output_type": "stream",
     "text": [
      "There are 1 NaN values in the data.\n",
      "Root Mean Squared Error (RMSE): 28.068088874886868\n",
      "Root Mean Squared Logarithmic Error (RMSLE): 0.49521363974676696\n",
      "\n",
      "Training model for store 17 and family 30...\n"
     ]
    },
    {
     "name": "stderr",
     "output_type": "stream",
     "text": [
      "14:55:41 - cmdstanpy - INFO - Chain [1] done processing\n",
      "14:55:42 - cmdstanpy - INFO - Chain [1] start processing\n"
     ]
    },
    {
     "name": "stdout",
     "output_type": "stream",
     "text": [
      "There are 1 NaN values in the data.\n",
      "Root Mean Squared Error (RMSE): 560.4076588206159\n",
      "Root Mean Squared Logarithmic Error (RMSLE): 0.6915822676821007\n",
      "\n",
      "Training model for store 17 and family 31...\n"
     ]
    },
    {
     "name": "stderr",
     "output_type": "stream",
     "text": [
      "14:55:42 - cmdstanpy - INFO - Chain [1] done processing\n",
      "14:55:42 - cmdstanpy - INFO - Chain [1] start processing\n"
     ]
    },
    {
     "name": "stdout",
     "output_type": "stream",
     "text": [
      "There are 1 NaN values in the data.\n",
      "Root Mean Squared Error (RMSE): 4.653188676508504\n",
      "Root Mean Squared Logarithmic Error (RMSLE): 0.9023883625432542\n",
      "\n",
      "Training model for store 17 and family 32...\n"
     ]
    },
    {
     "name": "stderr",
     "output_type": "stream",
     "text": [
      "14:55:42 - cmdstanpy - INFO - Chain [1] done processing\n",
      "14:55:42 - cmdstanpy - INFO - Chain [1] start processing\n"
     ]
    },
    {
     "name": "stdout",
     "output_type": "stream",
     "text": [
      "There are 1 NaN values in the data.\n",
      "Root Mean Squared Error (RMSE): 8.906494000938116\n",
      "Root Mean Squared Logarithmic Error (RMSLE): 0.6794632183518203\n",
      "\n",
      "Training model for store 18 and family 0...\n"
     ]
    },
    {
     "name": "stderr",
     "output_type": "stream",
     "text": [
      "14:55:42 - cmdstanpy - INFO - Chain [1] done processing\n",
      "14:55:43 - cmdstanpy - INFO - Chain [1] start processing\n"
     ]
    },
    {
     "name": "stdout",
     "output_type": "stream",
     "text": [
      "There are 1 NaN values in the data.\n",
      "Root Mean Squared Error (RMSE): 3.3435739358440113\n",
      "Root Mean Squared Logarithmic Error (RMSLE): 0.9136305356256916\n",
      "\n",
      "Training model for store 18 and family 1...\n"
     ]
    },
    {
     "name": "stderr",
     "output_type": "stream",
     "text": [
      "14:55:43 - cmdstanpy - INFO - Chain [1] done processing\n",
      "14:55:43 - cmdstanpy - INFO - Chain [1] start processing\n",
      "14:55:43 - cmdstanpy - INFO - Chain [1] done processing\n"
     ]
    },
    {
     "name": "stdout",
     "output_type": "stream",
     "text": [
      "There are 1 NaN values in the data.\n",
      "Root Mean Squared Error (RMSE): 0.7152784454887149\n",
      "Root Mean Squared Logarithmic Error (RMSLE): 0.378261592954089\n",
      "\n",
      "Training model for store 18 and family 2...\n"
     ]
    },
    {
     "name": "stderr",
     "output_type": "stream",
     "text": [
      "14:55:43 - cmdstanpy - INFO - Chain [1] start processing\n"
     ]
    },
    {
     "name": "stdout",
     "output_type": "stream",
     "text": [
      "There are 1 NaN values in the data.\n",
      "Root Mean Squared Error (RMSE): 3.611207991580648\n",
      "Root Mean Squared Logarithmic Error (RMSLE): 0.8503643113654865\n",
      "\n",
      "Training model for store 18 and family 3...\n"
     ]
    },
    {
     "name": "stderr",
     "output_type": "stream",
     "text": [
      "14:55:43 - cmdstanpy - INFO - Chain [1] done processing\n"
     ]
    },
    {
     "name": "stdout",
     "output_type": "stream",
     "text": [
      "There are 1 NaN values in the data.\n",
      "Root Mean Squared Error (RMSE): 1690.5917683158589\n",
      "Root Mean Squared Logarithmic Error (RMSLE): 3.795465522994581\n",
      "\n",
      "Training model for store 18 and family 4...\n",
      "There are 1 NaN values in the data.\n",
      "Root Mean Squared Error (RMSE): 0.0\n",
      "Root Mean Squared Logarithmic Error (RMSLE): 0.0\n"
     ]
    },
    {
     "name": "stderr",
     "output_type": "stream",
     "text": [
      "14:55:44 - cmdstanpy - INFO - Chain [1] start processing\n",
      "14:55:44 - cmdstanpy - INFO - Chain [1] done processing\n"
     ]
    },
    {
     "name": "stdout",
     "output_type": "stream",
     "text": [
      "\n",
      "Training model for store 18 and family 5...\n"
     ]
    },
    {
     "name": "stderr",
     "output_type": "stream",
     "text": [
      "14:55:44 - cmdstanpy - INFO - Chain [1] start processing\n"
     ]
    },
    {
     "name": "stdout",
     "output_type": "stream",
     "text": [
      "There are 1 NaN values in the data.\n",
      "Root Mean Squared Error (RMSE): 386.3620609849276\n",
      "Root Mean Squared Logarithmic Error (RMSLE): 3.114286233001267\n",
      "\n",
      "Training model for store 18 and family 6...\n"
     ]
    },
    {
     "name": "stderr",
     "output_type": "stream",
     "text": [
      "14:55:44 - cmdstanpy - INFO - Chain [1] done processing\n",
      "14:55:44 - cmdstanpy - INFO - Chain [1] start processing\n"
     ]
    },
    {
     "name": "stdout",
     "output_type": "stream",
     "text": [
      "There are 1 NaN values in the data.\n",
      "Root Mean Squared Error (RMSE): 9.033911456714256\n",
      "Root Mean Squared Logarithmic Error (RMSLE): 1.225113212671924\n",
      "\n",
      "Training model for store 18 and family 7...\n"
     ]
    },
    {
     "name": "stderr",
     "output_type": "stream",
     "text": [
      "14:55:44 - cmdstanpy - INFO - Chain [1] done processing\n",
      "14:55:45 - cmdstanpy - INFO - Chain [1] start processing\n"
     ]
    },
    {
     "name": "stdout",
     "output_type": "stream",
     "text": [
      "There are 1 NaN values in the data.\n",
      "Root Mean Squared Error (RMSE): 415.17923817303586\n",
      "Root Mean Squared Logarithmic Error (RMSLE): 3.1281739699618574\n",
      "\n",
      "Training model for store 18 and family 8...\n"
     ]
    },
    {
     "name": "stderr",
     "output_type": "stream",
     "text": [
      "14:55:45 - cmdstanpy - INFO - Chain [1] done processing\n",
      "14:55:45 - cmdstanpy - INFO - Chain [1] start processing\n"
     ]
    },
    {
     "name": "stdout",
     "output_type": "stream",
     "text": [
      "There are 1 NaN values in the data.\n",
      "Root Mean Squared Error (RMSE): 374.2055829433661\n",
      "Root Mean Squared Logarithmic Error (RMSLE): 3.0794077841661296\n",
      "\n",
      "Training model for store 18 and family 9...\n"
     ]
    },
    {
     "name": "stderr",
     "output_type": "stream",
     "text": [
      "14:55:45 - cmdstanpy - INFO - Chain [1] done processing\n",
      "14:55:45 - cmdstanpy - INFO - Chain [1] start processing\n"
     ]
    },
    {
     "name": "stdout",
     "output_type": "stream",
     "text": [
      "There are 1 NaN values in the data.\n",
      "Root Mean Squared Error (RMSE): 153.28991622785747\n",
      "Root Mean Squared Logarithmic Error (RMSLE): 2.65836456973296\n",
      "\n",
      "Training model for store 18 and family 10...\n"
     ]
    },
    {
     "name": "stderr",
     "output_type": "stream",
     "text": [
      "14:55:45 - cmdstanpy - INFO - Chain [1] done processing\n",
      "14:55:46 - cmdstanpy - INFO - Chain [1] start processing\n"
     ]
    },
    {
     "name": "stdout",
     "output_type": "stream",
     "text": [
      "There are 1 NaN values in the data.\n",
      "Root Mean Squared Error (RMSE): 115.6596897295938\n",
      "Root Mean Squared Logarithmic Error (RMSLE): 2.5670956071024538\n",
      "\n",
      "Training model for store 18 and family 11...\n"
     ]
    },
    {
     "name": "stderr",
     "output_type": "stream",
     "text": [
      "14:55:46 - cmdstanpy - INFO - Chain [1] done processing\n",
      "14:55:46 - cmdstanpy - INFO - Chain [1] start processing\n"
     ]
    },
    {
     "name": "stdout",
     "output_type": "stream",
     "text": [
      "There are 1 NaN values in the data.\n",
      "Root Mean Squared Error (RMSE): 61.76864065863084\n",
      "Root Mean Squared Logarithmic Error (RMSLE): 2.0947303611972554\n",
      "\n",
      "Training model for store 18 and family 12...\n"
     ]
    },
    {
     "name": "stderr",
     "output_type": "stream",
     "text": [
      "14:55:46 - cmdstanpy - INFO - Chain [1] done processing\n",
      "14:55:46 - cmdstanpy - INFO - Chain [1] start processing\n"
     ]
    },
    {
     "name": "stdout",
     "output_type": "stream",
     "text": [
      "There are 1 NaN values in the data.\n",
      "Root Mean Squared Error (RMSE): 1791.519993683471\n",
      "Root Mean Squared Logarithmic Error (RMSLE): 3.8760687195418395\n",
      "\n",
      "Training model for store 18 and family 13...\n"
     ]
    },
    {
     "name": "stderr",
     "output_type": "stream",
     "text": [
      "14:55:46 - cmdstanpy - INFO - Chain [1] done processing\n",
      "14:55:47 - cmdstanpy - INFO - Chain [1] start processing\n"
     ]
    },
    {
     "name": "stdout",
     "output_type": "stream",
     "text": [
      "There are 1 NaN values in the data.\n",
      "Root Mean Squared Error (RMSE): 9.98641738235885\n",
      "Root Mean Squared Logarithmic Error (RMSLE): 1.781256649814882\n",
      "\n",
      "Training model for store 18 and family 14...\n"
     ]
    },
    {
     "name": "stderr",
     "output_type": "stream",
     "text": [
      "14:55:47 - cmdstanpy - INFO - Chain [1] done processing\n",
      "14:55:47 - cmdstanpy - INFO - Chain [1] start processing\n"
     ]
    },
    {
     "name": "stdout",
     "output_type": "stream",
     "text": [
      "There are 1 NaN values in the data.\n",
      "Root Mean Squared Error (RMSE): 1.4085601836485293\n",
      "Root Mean Squared Logarithmic Error (RMSLE): 0.6452371599062867\n",
      "\n",
      "Training model for store 18 and family 15...\n"
     ]
    },
    {
     "name": "stderr",
     "output_type": "stream",
     "text": [
      "14:55:47 - cmdstanpy - INFO - Chain [1] done processing\n",
      "14:55:47 - cmdstanpy - INFO - Chain [1] start processing\n"
     ]
    },
    {
     "name": "stdout",
     "output_type": "stream",
     "text": [
      "There are 1 NaN values in the data.\n",
      "Root Mean Squared Error (RMSE): 43.01898517155736\n",
      "Root Mean Squared Logarithmic Error (RMSLE): 1.6409109656799326\n",
      "\n",
      "Training model for store 18 and family 16...\n"
     ]
    },
    {
     "name": "stderr",
     "output_type": "stream",
     "text": [
      "14:55:47 - cmdstanpy - INFO - Chain [1] done processing\n",
      "14:55:47 - cmdstanpy - INFO - Chain [1] start processing\n"
     ]
    },
    {
     "name": "stdout",
     "output_type": "stream",
     "text": [
      "There are 1 NaN values in the data.\n",
      "Root Mean Squared Error (RMSE): 12.71109698541915\n",
      "Root Mean Squared Logarithmic Error (RMSLE): 1.3386928920680554\n",
      "\n",
      "Training model for store 18 and family 17...\n"
     ]
    },
    {
     "name": "stderr",
     "output_type": "stream",
     "text": [
      "14:55:48 - cmdstanpy - INFO - Chain [1] done processing\n",
      "14:55:48 - cmdstanpy - INFO - Chain [1] start processing\n"
     ]
    },
    {
     "name": "stdout",
     "output_type": "stream",
     "text": [
      "There are 1 NaN values in the data.\n",
      "Root Mean Squared Error (RMSE): 0.5560901260230944\n",
      "Root Mean Squared Logarithmic Error (RMSLE): 0.3004251212271213\n",
      "\n",
      "Training model for store 18 and family 18...\n"
     ]
    },
    {
     "name": "stderr",
     "output_type": "stream",
     "text": [
      "14:55:48 - cmdstanpy - INFO - Chain [1] done processing\n",
      "14:55:48 - cmdstanpy - INFO - Chain [1] start processing\n"
     ]
    },
    {
     "name": "stdout",
     "output_type": "stream",
     "text": [
      "There are 1 NaN values in the data.\n",
      "Root Mean Squared Error (RMSE): 128.9832117053104\n",
      "Root Mean Squared Logarithmic Error (RMSLE): 2.5900822331394107\n",
      "\n",
      "Training model for store 18 and family 19...\n"
     ]
    },
    {
     "name": "stderr",
     "output_type": "stream",
     "text": [
      "14:55:48 - cmdstanpy - INFO - Chain [1] done processing\n",
      "14:55:48 - cmdstanpy - INFO - Chain [1] start processing\n"
     ]
    },
    {
     "name": "stdout",
     "output_type": "stream",
     "text": [
      "There are 1 NaN values in the data.\n",
      "Root Mean Squared Error (RMSE): 8.934881556171291\n",
      "Root Mean Squared Logarithmic Error (RMSLE): 1.3764622703882698\n",
      "\n",
      "Training model for store 18 and family 20...\n"
     ]
    },
    {
     "name": "stderr",
     "output_type": "stream",
     "text": [
      "14:55:48 - cmdstanpy - INFO - Chain [1] done processing\n",
      "14:55:49 - cmdstanpy - INFO - Chain [1] start processing\n"
     ]
    },
    {
     "name": "stdout",
     "output_type": "stream",
     "text": [
      "There are 1 NaN values in the data.\n",
      "Root Mean Squared Error (RMSE): 7.322585724137156\n",
      "Root Mean Squared Logarithmic Error (RMSLE): 0.86345707461008\n",
      "\n",
      "Training model for store 18 and family 21...\n"
     ]
    },
    {
     "name": "stderr",
     "output_type": "stream",
     "text": [
      "14:55:49 - cmdstanpy - INFO - Chain [1] done processing\n",
      "14:55:49 - cmdstanpy - INFO - Chain [1] start processing\n"
     ]
    },
    {
     "name": "stdout",
     "output_type": "stream",
     "text": [
      "There are 1 NaN values in the data.\n",
      "Root Mean Squared Error (RMSE): 5.673573623414704\n",
      "Root Mean Squared Logarithmic Error (RMSLE): 1.5150030505249796\n",
      "\n",
      "Training model for store 18 and family 22...\n"
     ]
    },
    {
     "name": "stderr",
     "output_type": "stream",
     "text": [
      "14:55:49 - cmdstanpy - INFO - Chain [1] done processing\n",
      "14:55:49 - cmdstanpy - INFO - Chain [1] start processing\n"
     ]
    },
    {
     "name": "stdout",
     "output_type": "stream",
     "text": [
      "There are 1 NaN values in the data.\n",
      "Root Mean Squared Error (RMSE): 65.43690155981861\n",
      "Root Mean Squared Logarithmic Error (RMSLE): 2.2865315403643245\n",
      "\n",
      "Training model for store 18 and family 23...\n"
     ]
    },
    {
     "name": "stderr",
     "output_type": "stream",
     "text": [
      "14:55:49 - cmdstanpy - INFO - Chain [1] done processing\n",
      "14:55:49 - cmdstanpy - INFO - Chain [1] start processing\n"
     ]
    },
    {
     "name": "stdout",
     "output_type": "stream",
     "text": [
      "There are 1 NaN values in the data.\n",
      "Root Mean Squared Error (RMSE): 2.711491255825388\n",
      "Root Mean Squared Logarithmic Error (RMSLE): 0.9532701509233986\n",
      "\n",
      "Training model for store 18 and family 24...\n"
     ]
    },
    {
     "name": "stderr",
     "output_type": "stream",
     "text": [
      "14:55:50 - cmdstanpy - INFO - Chain [1] done processing\n",
      "14:55:50 - cmdstanpy - INFO - Chain [1] start processing\n"
     ]
    },
    {
     "name": "stdout",
     "output_type": "stream",
     "text": [
      "There are 1 NaN values in the data.\n",
      "Root Mean Squared Error (RMSE): 84.91924621281268\n",
      "Root Mean Squared Logarithmic Error (RMSLE): 2.399075606815635\n",
      "\n",
      "Training model for store 18 and family 25...\n"
     ]
    },
    {
     "name": "stderr",
     "output_type": "stream",
     "text": [
      "14:55:50 - cmdstanpy - INFO - Chain [1] done processing\n",
      "14:55:50 - cmdstanpy - INFO - Chain [1] start processing\n"
     ]
    },
    {
     "name": "stdout",
     "output_type": "stream",
     "text": [
      "There are 1 NaN values in the data.\n",
      "Root Mean Squared Error (RMSE): 113.90246219134927\n",
      "Root Mean Squared Logarithmic Error (RMSLE): 2.5835863905192245\n",
      "\n",
      "Training model for store 18 and family 26...\n"
     ]
    },
    {
     "name": "stderr",
     "output_type": "stream",
     "text": [
      "14:55:50 - cmdstanpy - INFO - Chain [1] done processing\n",
      "14:55:50 - cmdstanpy - INFO - Chain [1] start processing\n"
     ]
    },
    {
     "name": "stdout",
     "output_type": "stream",
     "text": [
      "There are 1 NaN values in the data.\n",
      "Root Mean Squared Error (RMSE): 4.103932285426729\n",
      "Root Mean Squared Logarithmic Error (RMSLE): 0.9863346851651937\n",
      "\n",
      "Training model for store 18 and family 27...\n"
     ]
    },
    {
     "name": "stderr",
     "output_type": "stream",
     "text": [
      "14:55:50 - cmdstanpy - INFO - Chain [1] done processing\n",
      "14:55:51 - cmdstanpy - INFO - Chain [1] start processing\n"
     ]
    },
    {
     "name": "stdout",
     "output_type": "stream",
     "text": [
      "There are 1 NaN values in the data.\n",
      "Root Mean Squared Error (RMSE): 6.880241223285863\n",
      "Root Mean Squared Logarithmic Error (RMSLE): 1.1953630955489976\n",
      "\n",
      "Training model for store 18 and family 28...\n"
     ]
    },
    {
     "name": "stderr",
     "output_type": "stream",
     "text": [
      "14:55:51 - cmdstanpy - INFO - Chain [1] done processing\n",
      "14:55:51 - cmdstanpy - INFO - Chain [1] start processing\n"
     ]
    },
    {
     "name": "stdout",
     "output_type": "stream",
     "text": [
      "There are 1 NaN values in the data.\n",
      "Root Mean Squared Error (RMSE): 128.1934011714202\n",
      "Root Mean Squared Logarithmic Error (RMSLE): 2.5761571318686944\n",
      "\n",
      "Training model for store 18 and family 29...\n"
     ]
    },
    {
     "name": "stderr",
     "output_type": "stream",
     "text": [
      "14:55:51 - cmdstanpy - INFO - Chain [1] done processing\n",
      "14:55:51 - cmdstanpy - INFO - Chain [1] start processing\n"
     ]
    },
    {
     "name": "stdout",
     "output_type": "stream",
     "text": [
      "There are 1 NaN values in the data.\n",
      "Root Mean Squared Error (RMSE): 45.7543007540365\n",
      "Root Mean Squared Logarithmic Error (RMSLE): 2.0149799143339906\n",
      "\n",
      "Training model for store 18 and family 30...\n"
     ]
    },
    {
     "name": "stderr",
     "output_type": "stream",
     "text": [
      "14:55:51 - cmdstanpy - INFO - Chain [1] done processing\n",
      "14:55:52 - cmdstanpy - INFO - Chain [1] start processing\n"
     ]
    },
    {
     "name": "stdout",
     "output_type": "stream",
     "text": [
      "There are 1 NaN values in the data.\n",
      "Root Mean Squared Error (RMSE): 1121.1873992622034\n",
      "Root Mean Squared Logarithmic Error (RMSLE): 3.750117628754974\n",
      "\n",
      "Training model for store 18 and family 31...\n"
     ]
    },
    {
     "name": "stderr",
     "output_type": "stream",
     "text": [
      "14:55:52 - cmdstanpy - INFO - Chain [1] done processing\n",
      "14:55:52 - cmdstanpy - INFO - Chain [1] start processing\n"
     ]
    },
    {
     "name": "stdout",
     "output_type": "stream",
     "text": [
      "There are 1 NaN values in the data.\n",
      "Root Mean Squared Error (RMSE): 12.634926802549769\n",
      "Root Mean Squared Logarithmic Error (RMSLE): 1.5396368855428593\n",
      "\n",
      "Training model for store 18 and family 32...\n"
     ]
    },
    {
     "name": "stderr",
     "output_type": "stream",
     "text": [
      "14:55:52 - cmdstanpy - INFO - Chain [1] done processing\n",
      "14:55:52 - cmdstanpy - INFO - Chain [1] start processing\n"
     ]
    },
    {
     "name": "stdout",
     "output_type": "stream",
     "text": [
      "There are 1 NaN values in the data.\n",
      "Root Mean Squared Error (RMSE): 9.237931716570921\n",
      "Root Mean Squared Logarithmic Error (RMSLE): 1.2742811852427312\n",
      "\n",
      "Training model for store 19 and family 0...\n"
     ]
    },
    {
     "name": "stderr",
     "output_type": "stream",
     "text": [
      "14:55:52 - cmdstanpy - INFO - Chain [1] done processing\n",
      "14:55:52 - cmdstanpy - INFO - Chain [1] start processing\n"
     ]
    },
    {
     "name": "stdout",
     "output_type": "stream",
     "text": [
      "There are 1 NaN values in the data.\n",
      "Root Mean Squared Error (RMSE): 4.418813144700266\n",
      "Root Mean Squared Logarithmic Error (RMSLE): 0.588844423776012\n",
      "\n",
      "Training model for store 19 and family 1...\n"
     ]
    },
    {
     "name": "stderr",
     "output_type": "stream",
     "text": [
      "14:55:53 - cmdstanpy - INFO - Chain [1] done processing\n",
      "14:55:53 - cmdstanpy - INFO - Chain [1] start processing\n"
     ]
    },
    {
     "name": "stdout",
     "output_type": "stream",
     "text": [
      "There are 1 NaN values in the data.\n",
      "Root Mean Squared Error (RMSE): 0.8030691218940145\n",
      "Root Mean Squared Logarithmic Error (RMSLE): 0.44114295878058596\n",
      "\n",
      "Training model for store 19 and family 2...\n"
     ]
    },
    {
     "name": "stderr",
     "output_type": "stream",
     "text": [
      "14:55:53 - cmdstanpy - INFO - Chain [1] done processing\n",
      "14:55:53 - cmdstanpy - INFO - Chain [1] start processing\n"
     ]
    },
    {
     "name": "stdout",
     "output_type": "stream",
     "text": [
      "There are 1 NaN values in the data.\n",
      "Root Mean Squared Error (RMSE): 2.129430451601983\n",
      "Root Mean Squared Logarithmic Error (RMSLE): 0.6253310148850063\n",
      "\n",
      "Training model for store 19 and family 3...\n"
     ]
    },
    {
     "name": "stderr",
     "output_type": "stream",
     "text": [
      "14:55:53 - cmdstanpy - INFO - Chain [1] done processing\n"
     ]
    },
    {
     "name": "stdout",
     "output_type": "stream",
     "text": [
      "There are 1 NaN values in the data.\n",
      "Root Mean Squared Error (RMSE): 1069.5613449197622\n",
      "Root Mean Squared Logarithmic Error (RMSLE): 0.7934493267605488\n",
      "\n",
      "Training model for store 19 and family 4...\n"
     ]
    },
    {
     "name": "stderr",
     "output_type": "stream",
     "text": [
      "14:55:54 - cmdstanpy - INFO - Chain [1] start processing\n",
      "14:55:54 - cmdstanpy - INFO - Chain [1] done processing\n"
     ]
    },
    {
     "name": "stdout",
     "output_type": "stream",
     "text": [
      "There are 1 NaN values in the data.\n",
      "Root Mean Squared Error (RMSE): 0.0\n",
      "Root Mean Squared Logarithmic Error (RMSLE): 0.0\n",
      "\n",
      "Training model for store 19 and family 5...\n"
     ]
    },
    {
     "name": "stderr",
     "output_type": "stream",
     "text": [
      "14:55:54 - cmdstanpy - INFO - Chain [1] start processing\n"
     ]
    },
    {
     "name": "stdout",
     "output_type": "stream",
     "text": [
      "There are 1 NaN values in the data.\n",
      "Root Mean Squared Error (RMSE): 42.128443027881424\n",
      "Root Mean Squared Logarithmic Error (RMSLE): 0.45915724475183184\n",
      "\n",
      "Training model for store 19 and family 6...\n"
     ]
    },
    {
     "name": "stderr",
     "output_type": "stream",
     "text": [
      "14:55:54 - cmdstanpy - INFO - Chain [1] done processing\n",
      "14:55:54 - cmdstanpy - INFO - Chain [1] start processing\n"
     ]
    },
    {
     "name": "stdout",
     "output_type": "stream",
     "text": [
      "There are 1 NaN values in the data.\n",
      "Root Mean Squared Error (RMSE): 10.286703237149752\n",
      "Root Mean Squared Logarithmic Error (RMSLE): 0.9997073225630337\n",
      "\n",
      "Training model for store 19 and family 7...\n"
     ]
    },
    {
     "name": "stderr",
     "output_type": "stream",
     "text": [
      "14:55:54 - cmdstanpy - INFO - Chain [1] done processing\n",
      "14:55:54 - cmdstanpy - INFO - Chain [1] start processing\n"
     ]
    },
    {
     "name": "stdout",
     "output_type": "stream",
     "text": [
      "There are 1 NaN values in the data.\n",
      "Root Mean Squared Error (RMSE): 236.96376005112526\n",
      "Root Mean Squared Logarithmic Error (RMSLE): 0.580188118865164\n",
      "\n",
      "Training model for store 19 and family 8...\n"
     ]
    },
    {
     "name": "stderr",
     "output_type": "stream",
     "text": [
      "14:55:55 - cmdstanpy - INFO - Chain [1] done processing\n",
      "14:55:55 - cmdstanpy - INFO - Chain [1] start processing\n"
     ]
    },
    {
     "name": "stdout",
     "output_type": "stream",
     "text": [
      "There are 1 NaN values in the data.\n",
      "Root Mean Squared Error (RMSE): 83.51383267593215\n",
      "Root Mean Squared Logarithmic Error (RMSLE): 0.5109363905032771\n",
      "\n",
      "Training model for store 19 and family 9...\n"
     ]
    },
    {
     "name": "stderr",
     "output_type": "stream",
     "text": [
      "14:55:55 - cmdstanpy - INFO - Chain [1] done processing\n",
      "14:55:55 - cmdstanpy - INFO - Chain [1] start processing\n"
     ]
    },
    {
     "name": "stdout",
     "output_type": "stream",
     "text": [
      "There are 1 NaN values in the data.\n",
      "Root Mean Squared Error (RMSE): 79.24970960612214\n",
      "Root Mean Squared Logarithmic Error (RMSLE): 0.5129684210469089\n",
      "\n",
      "Training model for store 19 and family 10...\n"
     ]
    },
    {
     "name": "stderr",
     "output_type": "stream",
     "text": [
      "14:55:55 - cmdstanpy - INFO - Chain [1] done processing\n",
      "14:55:55 - cmdstanpy - INFO - Chain [1] start processing\n"
     ]
    },
    {
     "name": "stdout",
     "output_type": "stream",
     "text": [
      "There are 1 NaN values in the data.\n",
      "Root Mean Squared Error (RMSE): 36.96596988862678\n",
      "Root Mean Squared Logarithmic Error (RMSLE): 0.5704459115172779\n",
      "\n",
      "Training model for store 19 and family 11...\n"
     ]
    },
    {
     "name": "stderr",
     "output_type": "stream",
     "text": [
      "14:55:55 - cmdstanpy - INFO - Chain [1] done processing\n",
      "14:55:56 - cmdstanpy - INFO - Chain [1] start processing\n"
     ]
    },
    {
     "name": "stdout",
     "output_type": "stream",
     "text": [
      "There are 1 NaN values in the data.\n",
      "Root Mean Squared Error (RMSE): 108.91035279065235\n",
      "Root Mean Squared Logarithmic Error (RMSLE): 1.2497439124372305\n",
      "\n",
      "Training model for store 19 and family 12...\n"
     ]
    },
    {
     "name": "stderr",
     "output_type": "stream",
     "text": [
      "14:55:56 - cmdstanpy - INFO - Chain [1] done processing\n",
      "14:55:56 - cmdstanpy - INFO - Chain [1] start processing\n"
     ]
    },
    {
     "name": "stdout",
     "output_type": "stream",
     "text": [
      "There are 1 NaN values in the data.\n",
      "Root Mean Squared Error (RMSE): 698.8293215914489\n",
      "Root Mean Squared Logarithmic Error (RMSLE): 0.6571926926931669\n",
      "\n",
      "Training model for store 19 and family 13...\n"
     ]
    },
    {
     "name": "stderr",
     "output_type": "stream",
     "text": [
      "14:55:56 - cmdstanpy - INFO - Chain [1] done processing\n",
      "14:55:56 - cmdstanpy - INFO - Chain [1] start processing\n"
     ]
    },
    {
     "name": "stdout",
     "output_type": "stream",
     "text": [
      "There are 1 NaN values in the data.\n",
      "Root Mean Squared Error (RMSE): 17.179786837599117\n",
      "Root Mean Squared Logarithmic Error (RMSLE): 1.1441213789178997\n",
      "\n",
      "Training model for store 19 and family 14...\n"
     ]
    },
    {
     "name": "stderr",
     "output_type": "stream",
     "text": [
      "14:55:56 - cmdstanpy - INFO - Chain [1] done processing\n",
      "14:55:57 - cmdstanpy - INFO - Chain [1] start processing\n"
     ]
    },
    {
     "name": "stdout",
     "output_type": "stream",
     "text": [
      "There are 1 NaN values in the data.\n",
      "Root Mean Squared Error (RMSE): 1.6274640507872655\n",
      "Root Mean Squared Logarithmic Error (RMSLE): 0.5874958770348576\n",
      "\n",
      "Training model for store 19 and family 15...\n"
     ]
    },
    {
     "name": "stderr",
     "output_type": "stream",
     "text": [
      "14:55:57 - cmdstanpy - INFO - Chain [1] done processing\n"
     ]
    },
    {
     "name": "stdout",
     "output_type": "stream",
     "text": [
      "There are 1 NaN values in the data.\n",
      "Root Mean Squared Error (RMSE): 14.38551615162315\n",
      "Root Mean Squared Logarithmic Error (RMSLE): 0.6071980316446148\n",
      "\n",
      "Training model for store 19 and family 16...\n"
     ]
    },
    {
     "name": "stderr",
     "output_type": "stream",
     "text": [
      "14:55:57 - cmdstanpy - INFO - Chain [1] start processing\n",
      "14:55:57 - cmdstanpy - INFO - Chain [1] done processing\n",
      "14:55:57 - cmdstanpy - INFO - Chain [1] start processing\n"
     ]
    },
    {
     "name": "stdout",
     "output_type": "stream",
     "text": [
      "There are 1 NaN values in the data.\n",
      "Root Mean Squared Error (RMSE): 12.335519010820333\n",
      "Root Mean Squared Logarithmic Error (RMSLE): 0.8166282319523989\n",
      "\n",
      "Training model for store 19 and family 17...\n"
     ]
    },
    {
     "name": "stderr",
     "output_type": "stream",
     "text": [
      "14:55:57 - cmdstanpy - INFO - Chain [1] done processing\n"
     ]
    },
    {
     "name": "stdout",
     "output_type": "stream",
     "text": [
      "There are 1 NaN values in the data.\n",
      "Root Mean Squared Error (RMSE): 0.49175954227019636\n",
      "Root Mean Squared Logarithmic Error (RMSLE): 0.2974954628033809\n",
      "\n",
      "Training model for store 19 and family 18...\n"
     ]
    },
    {
     "name": "stderr",
     "output_type": "stream",
     "text": [
      "14:55:58 - cmdstanpy - INFO - Chain [1] start processing\n",
      "14:55:58 - cmdstanpy - INFO - Chain [1] done processing\n"
     ]
    },
    {
     "name": "stdout",
     "output_type": "stream",
     "text": [
      "There are 1 NaN values in the data.\n",
      "Root Mean Squared Error (RMSE): 90.49535324341136\n",
      "Root Mean Squared Logarithmic Error (RMSLE): 0.6054729301799966\n",
      "\n",
      "Training model for store 19 and family 19...\n"
     ]
    },
    {
     "name": "stderr",
     "output_type": "stream",
     "text": [
      "14:55:58 - cmdstanpy - INFO - Chain [1] start processing\n",
      "14:55:58 - cmdstanpy - INFO - Chain [1] done processing\n"
     ]
    },
    {
     "name": "stdout",
     "output_type": "stream",
     "text": [
      "There are 1 NaN values in the data.\n",
      "Root Mean Squared Error (RMSE): 5.397562568940692\n",
      "Root Mean Squared Logarithmic Error (RMSLE): 0.8670908428735241\n",
      "\n",
      "Training model for store 19 and family 20...\n"
     ]
    },
    {
     "name": "stderr",
     "output_type": "stream",
     "text": [
      "14:55:59 - cmdstanpy - INFO - Chain [1] start processing\n",
      "14:55:59 - cmdstanpy - INFO - Chain [1] done processing\n"
     ]
    },
    {
     "name": "stdout",
     "output_type": "stream",
     "text": [
      "There are 1 NaN values in the data.\n",
      "Root Mean Squared Error (RMSE): 0.11567865363966749\n",
      "Root Mean Squared Logarithmic Error (RMSLE): 0.09722028789387047\n",
      "\n",
      "Training model for store 19 and family 21...\n"
     ]
    },
    {
     "name": "stderr",
     "output_type": "stream",
     "text": [
      "14:55:59 - cmdstanpy - INFO - Chain [1] start processing\n",
      "14:55:59 - cmdstanpy - INFO - Chain [1] done processing\n"
     ]
    },
    {
     "name": "stdout",
     "output_type": "stream",
     "text": [
      "There are 1 NaN values in the data.\n",
      "Root Mean Squared Error (RMSE): 4.572547609196158\n",
      "Root Mean Squared Logarithmic Error (RMSLE): 0.9537653516463476\n",
      "\n",
      "Training model for store 19 and family 22...\n"
     ]
    },
    {
     "name": "stderr",
     "output_type": "stream",
     "text": [
      "14:56:00 - cmdstanpy - INFO - Chain [1] start processing\n",
      "14:56:00 - cmdstanpy - INFO - Chain [1] done processing\n"
     ]
    },
    {
     "name": "stdout",
     "output_type": "stream",
     "text": [
      "There are 1 NaN values in the data.\n",
      "Root Mean Squared Error (RMSE): 38.46391880562896\n",
      "Root Mean Squared Logarithmic Error (RMSLE): 1.3988516444193044\n"
     ]
    },
    {
     "name": "stderr",
     "output_type": "stream",
     "text": [
      "14:56:00 - cmdstanpy - INFO - Chain [1] start processing\n",
      "14:56:00 - cmdstanpy - INFO - Chain [1] done processing\n"
     ]
    },
    {
     "name": "stdout",
     "output_type": "stream",
     "text": [
      "\n",
      "Training model for store 19 and family 23...\n",
      "There are 1 NaN values in the data.\n",
      "Root Mean Squared Error (RMSE): 2.366438513424621\n",
      "Root Mean Squared Logarithmic Error (RMSLE): 0.7620589889669911\n",
      "\n",
      "Training model for store 19 and family 24...\n"
     ]
    },
    {
     "name": "stderr",
     "output_type": "stream",
     "text": [
      "14:56:01 - cmdstanpy - INFO - Chain [1] start processing\n",
      "14:56:02 - cmdstanpy - INFO - Chain [1] done processing\n"
     ]
    },
    {
     "name": "stdout",
     "output_type": "stream",
     "text": [
      "There are 1 NaN values in the data.\n",
      "Root Mean Squared Error (RMSE): 33.33179176003711\n",
      "Root Mean Squared Logarithmic Error (RMSLE): 0.4571942638177981\n"
     ]
    },
    {
     "name": "stderr",
     "output_type": "stream",
     "text": [
      "14:56:03 - cmdstanpy - INFO - Chain [1] start processing\n"
     ]
    },
    {
     "name": "stdout",
     "output_type": "stream",
     "text": [
      "\n",
      "Training model for store 19 and family 25...\n"
     ]
    },
    {
     "name": "stderr",
     "output_type": "stream",
     "text": [
      "14:56:03 - cmdstanpy - INFO - Chain [1] done processing\n"
     ]
    },
    {
     "name": "stdout",
     "output_type": "stream",
     "text": [
      "There are 1 NaN values in the data.\n",
      "Root Mean Squared Error (RMSE): 63.99550904878532\n",
      "Root Mean Squared Logarithmic Error (RMSLE): 0.5062774138295701\n",
      "\n",
      "Training model for store 19 and family 26...\n"
     ]
    },
    {
     "name": "stderr",
     "output_type": "stream",
     "text": [
      "14:56:03 - cmdstanpy - INFO - Chain [1] start processing\n",
      "14:56:04 - cmdstanpy - INFO - Chain [1] done processing\n"
     ]
    },
    {
     "name": "stdout",
     "output_type": "stream",
     "text": [
      "There are 1 NaN values in the data.\n",
      "Root Mean Squared Error (RMSE): 1.316521917439957\n",
      "Root Mean Squared Logarithmic Error (RMSLE): 0.5810007987338702\n"
     ]
    },
    {
     "name": "stderr",
     "output_type": "stream",
     "text": [
      "14:56:04 - cmdstanpy - INFO - Chain [1] start processing\n"
     ]
    },
    {
     "name": "stdout",
     "output_type": "stream",
     "text": [
      "\n",
      "Training model for store 19 and family 27...\n"
     ]
    },
    {
     "name": "stderr",
     "output_type": "stream",
     "text": [
      "14:56:04 - cmdstanpy - INFO - Chain [1] done processing\n"
     ]
    },
    {
     "name": "stdout",
     "output_type": "stream",
     "text": [
      "There are 1 NaN values in the data.\n",
      "Root Mean Squared Error (RMSE): 3.606518977033439\n",
      "Root Mean Squared Logarithmic Error (RMSLE): 0.5611808977159953\n",
      "\n",
      "Training model for store 19 and family 28...\n"
     ]
    },
    {
     "name": "stderr",
     "output_type": "stream",
     "text": [
      "14:56:05 - cmdstanpy - INFO - Chain [1] start processing\n",
      "14:56:05 - cmdstanpy - INFO - Chain [1] done processing\n",
      "14:56:05 - cmdstanpy - INFO - Chain [1] start processing\n"
     ]
    },
    {
     "name": "stdout",
     "output_type": "stream",
     "text": [
      "There are 1 NaN values in the data.\n",
      "Root Mean Squared Error (RMSE): 60.83578404608014\n",
      "Root Mean Squared Logarithmic Error (RMSLE): 0.5466973856190679\n",
      "\n",
      "Training model for store 19 and family 29...\n"
     ]
    },
    {
     "name": "stderr",
     "output_type": "stream",
     "text": [
      "14:56:05 - cmdstanpy - INFO - Chain [1] done processing\n",
      "14:56:05 - cmdstanpy - INFO - Chain [1] start processing\n"
     ]
    },
    {
     "name": "stdout",
     "output_type": "stream",
     "text": [
      "There are 1 NaN values in the data.\n",
      "Root Mean Squared Error (RMSE): 13.330171413625305\n",
      "Root Mean Squared Logarithmic Error (RMSLE): 0.4561162375772917\n",
      "\n",
      "Training model for store 19 and family 30...\n"
     ]
    },
    {
     "name": "stderr",
     "output_type": "stream",
     "text": [
      "14:56:05 - cmdstanpy - INFO - Chain [1] done processing\n"
     ]
    },
    {
     "name": "stdout",
     "output_type": "stream",
     "text": [
      "There are 1 NaN values in the data.\n",
      "Root Mean Squared Error (RMSE): 148.00288705968316\n",
      "Root Mean Squared Logarithmic Error (RMSLE): 0.5805311605024156\n",
      "\n",
      "Training model for store 19 and family 31...\n"
     ]
    },
    {
     "name": "stderr",
     "output_type": "stream",
     "text": [
      "14:56:06 - cmdstanpy - INFO - Chain [1] start processing\n",
      "14:56:06 - cmdstanpy - INFO - Chain [1] done processing\n"
     ]
    },
    {
     "name": "stdout",
     "output_type": "stream",
     "text": [
      "There are 1 NaN values in the data.\n",
      "Root Mean Squared Error (RMSE): 2.4840824735789098\n",
      "Root Mean Squared Logarithmic Error (RMSLE): 1.1072944590377658\n",
      "\n",
      "Training model for store 19 and family 32...\n"
     ]
    },
    {
     "name": "stderr",
     "output_type": "stream",
     "text": [
      "14:56:06 - cmdstanpy - INFO - Chain [1] start processing\n",
      "14:56:06 - cmdstanpy - INFO - Chain [1] done processing\n"
     ]
    },
    {
     "name": "stdout",
     "output_type": "stream",
     "text": [
      "There are 1 NaN values in the data.\n",
      "Root Mean Squared Error (RMSE): 3.4911206602772893\n",
      "Root Mean Squared Logarithmic Error (RMSLE): 0.6248363861935061\n",
      "\n",
      "Training model for store 2 and family 0...\n"
     ]
    },
    {
     "name": "stderr",
     "output_type": "stream",
     "text": [
      "14:56:07 - cmdstanpy - INFO - Chain [1] start processing\n",
      "14:56:07 - cmdstanpy - INFO - Chain [1] done processing\n",
      "14:56:07 - cmdstanpy - INFO - Chain [1] start processing\n"
     ]
    },
    {
     "name": "stdout",
     "output_type": "stream",
     "text": [
      "There are 1 NaN values in the data.\n",
      "Root Mean Squared Error (RMSE): 3.66277756830571\n",
      "Root Mean Squared Logarithmic Error (RMSLE): 0.6082478441729178\n",
      "\n",
      "Training model for store 2 and family 1...\n"
     ]
    },
    {
     "name": "stderr",
     "output_type": "stream",
     "text": [
      "14:56:07 - cmdstanpy - INFO - Chain [1] done processing\n",
      "14:56:07 - cmdstanpy - INFO - Chain [1] start processing\n"
     ]
    },
    {
     "name": "stdout",
     "output_type": "stream",
     "text": [
      "There are 1 NaN values in the data.\n",
      "Root Mean Squared Error (RMSE): 0.643701894166011\n",
      "Root Mean Squared Logarithmic Error (RMSLE): 0.3328723186092537\n",
      "\n",
      "Training model for store 2 and family 2...\n"
     ]
    },
    {
     "name": "stderr",
     "output_type": "stream",
     "text": [
      "14:56:07 - cmdstanpy - INFO - Chain [1] done processing\n",
      "14:56:08 - cmdstanpy - INFO - Chain [1] start processing\n"
     ]
    },
    {
     "name": "stdout",
     "output_type": "stream",
     "text": [
      "There are 1 NaN values in the data.\n",
      "Root Mean Squared Error (RMSE): 6.336926315922242\n",
      "Root Mean Squared Logarithmic Error (RMSLE): 0.558980671821124\n",
      "\n",
      "Training model for store 2 and family 3...\n"
     ]
    },
    {
     "name": "stderr",
     "output_type": "stream",
     "text": [
      "14:56:08 - cmdstanpy - INFO - Chain [1] done processing\n"
     ]
    },
    {
     "name": "stdout",
     "output_type": "stream",
     "text": [
      "There are 1 NaN values in the data.\n",
      "Root Mean Squared Error (RMSE): 714.0934500585564\n",
      "Root Mean Squared Logarithmic Error (RMSLE): 0.6661903845061268\n",
      "\n",
      "Training model for store 2 and family 4...\n",
      "There are 1 NaN values in the data.\n",
      "Root Mean Squared Error (RMSE): 1.5142322834638098\n",
      "Root Mean Squared Logarithmic Error (RMSLE): 0.6485622903599835\n"
     ]
    },
    {
     "name": "stderr",
     "output_type": "stream",
     "text": [
      "14:56:08 - cmdstanpy - INFO - Chain [1] start processing\n",
      "14:56:08 - cmdstanpy - INFO - Chain [1] done processing\n"
     ]
    },
    {
     "name": "stdout",
     "output_type": "stream",
     "text": [
      "\n",
      "Training model for store 2 and family 5...\n",
      "There are 1 NaN values in the data.\n",
      "Root Mean Squared Error (RMSE): 114.35968392410471\n",
      "Root Mean Squared Logarithmic Error (RMSLE): 0.534481467187918\n"
     ]
    },
    {
     "name": "stderr",
     "output_type": "stream",
     "text": [
      "14:56:08 - cmdstanpy - INFO - Chain [1] start processing\n",
      "14:56:08 - cmdstanpy - INFO - Chain [1] done processing\n"
     ]
    },
    {
     "name": "stdout",
     "output_type": "stream",
     "text": [
      "\n",
      "Training model for store 2 and family 6...\n"
     ]
    },
    {
     "name": "stderr",
     "output_type": "stream",
     "text": [
      "14:56:09 - cmdstanpy - INFO - Chain [1] start processing\n"
     ]
    },
    {
     "name": "stdout",
     "output_type": "stream",
     "text": [
      "There are 1 NaN values in the data.\n",
      "Root Mean Squared Error (RMSE): 8.936431085291863\n",
      "Root Mean Squared Logarithmic Error (RMSLE): 0.6577911164099379\n",
      "\n",
      "Training model for store 2 and family 7...\n"
     ]
    },
    {
     "name": "stderr",
     "output_type": "stream",
     "text": [
      "14:56:09 - cmdstanpy - INFO - Chain [1] done processing\n",
      "14:56:09 - cmdstanpy - INFO - Chain [1] start processing\n"
     ]
    },
    {
     "name": "stdout",
     "output_type": "stream",
     "text": [
      "There are 1 NaN values in the data.\n",
      "Root Mean Squared Error (RMSE): 197.2004016917238\n",
      "Root Mean Squared Logarithmic Error (RMSLE): 0.5741372085591602\n",
      "\n",
      "Training model for store 2 and family 8...\n"
     ]
    },
    {
     "name": "stderr",
     "output_type": "stream",
     "text": [
      "14:56:09 - cmdstanpy - INFO - Chain [1] done processing\n",
      "14:56:09 - cmdstanpy - INFO - Chain [1] start processing\n"
     ]
    },
    {
     "name": "stdout",
     "output_type": "stream",
     "text": [
      "There are 1 NaN values in the data.\n",
      "Root Mean Squared Error (RMSE): 191.54185231943504\n",
      "Root Mean Squared Logarithmic Error (RMSLE): 0.5720465343430187\n",
      "\n",
      "Training model for store 2 and family 9...\n"
     ]
    },
    {
     "name": "stderr",
     "output_type": "stream",
     "text": [
      "14:56:09 - cmdstanpy - INFO - Chain [1] done processing\n",
      "14:56:10 - cmdstanpy - INFO - Chain [1] start processing\n"
     ]
    },
    {
     "name": "stdout",
     "output_type": "stream",
     "text": [
      "There are 1 NaN values in the data.\n",
      "Root Mean Squared Error (RMSE): 75.65509643070236\n",
      "Root Mean Squared Logarithmic Error (RMSLE): 0.537881572726857\n",
      "\n",
      "Training model for store 2 and family 10...\n"
     ]
    },
    {
     "name": "stderr",
     "output_type": "stream",
     "text": [
      "14:56:10 - cmdstanpy - INFO - Chain [1] done processing\n",
      "14:56:10 - cmdstanpy - INFO - Chain [1] start processing\n"
     ]
    },
    {
     "name": "stdout",
     "output_type": "stream",
     "text": [
      "There are 1 NaN values in the data.\n",
      "Root Mean Squared Error (RMSE): 38.72883808161162\n",
      "Root Mean Squared Logarithmic Error (RMSLE): 0.465977863815791\n",
      "\n",
      "Training model for store 2 and family 11...\n"
     ]
    },
    {
     "name": "stderr",
     "output_type": "stream",
     "text": [
      "14:56:10 - cmdstanpy - INFO - Chain [1] done processing\n",
      "14:56:10 - cmdstanpy - INFO - Chain [1] start processing\n"
     ]
    },
    {
     "name": "stdout",
     "output_type": "stream",
     "text": [
      "There are 1 NaN values in the data.\n",
      "Root Mean Squared Error (RMSE): 193.19336349730403\n",
      "Root Mean Squared Logarithmic Error (RMSLE): 0.635771473577792\n",
      "\n",
      "Training model for store 2 and family 12...\n"
     ]
    },
    {
     "name": "stderr",
     "output_type": "stream",
     "text": [
      "14:56:10 - cmdstanpy - INFO - Chain [1] done processing\n",
      "14:56:11 - cmdstanpy - INFO - Chain [1] start processing\n"
     ]
    },
    {
     "name": "stdout",
     "output_type": "stream",
     "text": [
      "There are 1 NaN values in the data.\n",
      "Root Mean Squared Error (RMSE): 1895.246245166699\n",
      "Root Mean Squared Logarithmic Error (RMSLE): 0.7687810803875222\n",
      "\n",
      "Training model for store 2 and family 13...\n"
     ]
    },
    {
     "name": "stderr",
     "output_type": "stream",
     "text": [
      "14:56:11 - cmdstanpy - INFO - Chain [1] done processing\n",
      "14:56:11 - cmdstanpy - INFO - Chain [1] start processing\n"
     ]
    },
    {
     "name": "stdout",
     "output_type": "stream",
     "text": [
      "There are 1 NaN values in the data.\n",
      "Root Mean Squared Error (RMSE): 19.631072951989164\n",
      "Root Mean Squared Logarithmic Error (RMSLE): 0.6132605043566032\n",
      "\n",
      "Training model for store 2 and family 14...\n"
     ]
    },
    {
     "name": "stderr",
     "output_type": "stream",
     "text": [
      "14:56:11 - cmdstanpy - INFO - Chain [1] done processing\n"
     ]
    },
    {
     "name": "stdout",
     "output_type": "stream",
     "text": [
      "There are 1 NaN values in the data.\n",
      "Root Mean Squared Error (RMSE): 1.520214127512793\n",
      "Root Mean Squared Logarithmic Error (RMSLE): 0.638010575637493\n"
     ]
    },
    {
     "name": "stderr",
     "output_type": "stream",
     "text": [
      "14:56:12 - cmdstanpy - INFO - Chain [1] start processing\n",
      "14:56:12 - cmdstanpy - INFO - Chain [1] done processing\n"
     ]
    },
    {
     "name": "stdout",
     "output_type": "stream",
     "text": [
      "\n",
      "Training model for store 2 and family 15...\n",
      "There are 1 NaN values in the data.\n",
      "Root Mean Squared Error (RMSE): 29.06011126876162\n",
      "Root Mean Squared Logarithmic Error (RMSLE): 0.8533365111804669\n"
     ]
    },
    {
     "name": "stderr",
     "output_type": "stream",
     "text": [
      "14:56:12 - cmdstanpy - INFO - Chain [1] start processing\n",
      "14:56:12 - cmdstanpy - INFO - Chain [1] done processing\n"
     ]
    },
    {
     "name": "stdout",
     "output_type": "stream",
     "text": [
      "\n",
      "Training model for store 2 and family 16...\n",
      "There are 1 NaN values in the data.\n",
      "Root Mean Squared Error (RMSE): 27.425497292550236\n",
      "Root Mean Squared Logarithmic Error (RMSLE): 0.7446744079096663\n"
     ]
    },
    {
     "name": "stderr",
     "output_type": "stream",
     "text": [
      "14:56:12 - cmdstanpy - INFO - Chain [1] start processing\n",
      "14:56:12 - cmdstanpy - INFO - Chain [1] done processing\n"
     ]
    },
    {
     "name": "stdout",
     "output_type": "stream",
     "text": [
      "\n",
      "Training model for store 2 and family 17...\n",
      "There are 1 NaN values in the data.\n",
      "Root Mean Squared Error (RMSE): 0.7121462571553981\n",
      "Root Mean Squared Logarithmic Error (RMSLE): 0.40860450820689287\n"
     ]
    },
    {
     "name": "stderr",
     "output_type": "stream",
     "text": [
      "14:56:12 - cmdstanpy - INFO - Chain [1] start processing\n"
     ]
    },
    {
     "name": "stdout",
     "output_type": "stream",
     "text": [
      "\n",
      "Training model for store 2 and family 18...\n"
     ]
    },
    {
     "name": "stderr",
     "output_type": "stream",
     "text": [
      "14:56:13 - cmdstanpy - INFO - Chain [1] done processing\n",
      "14:56:13 - cmdstanpy - INFO - Chain [1] start processing\n"
     ]
    },
    {
     "name": "stdout",
     "output_type": "stream",
     "text": [
      "There are 1 NaN values in the data.\n",
      "Root Mean Squared Error (RMSE): 87.25396468711087\n",
      "Root Mean Squared Logarithmic Error (RMSLE): 0.5284358315325483\n",
      "\n",
      "Training model for store 2 and family 19...\n"
     ]
    },
    {
     "name": "stderr",
     "output_type": "stream",
     "text": [
      "14:56:13 - cmdstanpy - INFO - Chain [1] done processing\n",
      "14:56:13 - cmdstanpy - INFO - Chain [1] start processing\n"
     ]
    },
    {
     "name": "stdout",
     "output_type": "stream",
     "text": [
      "There are 1 NaN values in the data.\n",
      "Root Mean Squared Error (RMSE): 14.717919021138828\n",
      "Root Mean Squared Logarithmic Error (RMSLE): 0.6190020635864338\n",
      "\n",
      "Training model for store 2 and family 20...\n"
     ]
    },
    {
     "name": "stderr",
     "output_type": "stream",
     "text": [
      "14:56:13 - cmdstanpy - INFO - Chain [1] done processing\n",
      "14:56:13 - cmdstanpy - INFO - Chain [1] start processing\n"
     ]
    },
    {
     "name": "stdout",
     "output_type": "stream",
     "text": [
      "There are 1 NaN values in the data.\n",
      "Root Mean Squared Error (RMSE): 16.531059742975554\n",
      "Root Mean Squared Logarithmic Error (RMSLE): 0.9948366354178455\n",
      "\n",
      "Training model for store 2 and family 21...\n"
     ]
    },
    {
     "name": "stderr",
     "output_type": "stream",
     "text": [
      "14:56:13 - cmdstanpy - INFO - Chain [1] done processing\n",
      "14:56:14 - cmdstanpy - INFO - Chain [1] start processing\n"
     ]
    },
    {
     "name": "stdout",
     "output_type": "stream",
     "text": [
      "There are 1 NaN values in the data.\n",
      "Root Mean Squared Error (RMSE): 6.79409116202523\n",
      "Root Mean Squared Logarithmic Error (RMSLE): 1.20205607799345\n",
      "\n",
      "Training model for store 2 and family 22...\n"
     ]
    },
    {
     "name": "stderr",
     "output_type": "stream",
     "text": [
      "14:56:14 - cmdstanpy - INFO - Chain [1] done processing\n",
      "14:56:14 - cmdstanpy - INFO - Chain [1] start processing\n"
     ]
    },
    {
     "name": "stdout",
     "output_type": "stream",
     "text": [
      "There are 1 NaN values in the data.\n",
      "Root Mean Squared Error (RMSE): 63.47822623462265\n",
      "Root Mean Squared Logarithmic Error (RMSLE): 0.9639831352519401\n",
      "\n",
      "Training model for store 2 and family 23...\n"
     ]
    },
    {
     "name": "stderr",
     "output_type": "stream",
     "text": [
      "14:56:14 - cmdstanpy - INFO - Chain [1] done processing\n",
      "14:56:14 - cmdstanpy - INFO - Chain [1] start processing\n"
     ]
    },
    {
     "name": "stdout",
     "output_type": "stream",
     "text": [
      "There are 1 NaN values in the data.\n",
      "Root Mean Squared Error (RMSE): 6.2611557656537284\n",
      "Root Mean Squared Logarithmic Error (RMSLE): 0.6823134706069792\n",
      "\n",
      "Training model for store 2 and family 24...\n"
     ]
    },
    {
     "name": "stderr",
     "output_type": "stream",
     "text": [
      "14:56:14 - cmdstanpy - INFO - Chain [1] done processing\n",
      "14:56:15 - cmdstanpy - INFO - Chain [1] start processing\n"
     ]
    },
    {
     "name": "stdout",
     "output_type": "stream",
     "text": [
      "There are 1 NaN values in the data.\n",
      "Root Mean Squared Error (RMSE): 242.1273265595586\n",
      "Root Mean Squared Logarithmic Error (RMSLE): 0.5931556628464275\n",
      "\n",
      "Training model for store 2 and family 25...\n"
     ]
    },
    {
     "name": "stderr",
     "output_type": "stream",
     "text": [
      "14:56:15 - cmdstanpy - INFO - Chain [1] done processing\n",
      "14:56:15 - cmdstanpy - INFO - Chain [1] start processing\n"
     ]
    },
    {
     "name": "stdout",
     "output_type": "stream",
     "text": [
      "There are 1 NaN values in the data.\n",
      "Root Mean Squared Error (RMSE): 92.19797247200258\n",
      "Root Mean Squared Logarithmic Error (RMSLE): 0.5402731602114249\n",
      "\n",
      "Training model for store 2 and family 26...\n"
     ]
    },
    {
     "name": "stderr",
     "output_type": "stream",
     "text": [
      "14:56:15 - cmdstanpy - INFO - Chain [1] done processing\n",
      "14:56:15 - cmdstanpy - INFO - Chain [1] start processing\n"
     ]
    },
    {
     "name": "stdout",
     "output_type": "stream",
     "text": [
      "There are 1 NaN values in the data.\n",
      "Root Mean Squared Error (RMSE): 4.405375312957319\n",
      "Root Mean Squared Logarithmic Error (RMSLE): 0.46672138619808545\n",
      "\n",
      "Training model for store 2 and family 27...\n"
     ]
    },
    {
     "name": "stderr",
     "output_type": "stream",
     "text": [
      "14:56:16 - cmdstanpy - INFO - Chain [1] done processing\n",
      "14:56:16 - cmdstanpy - INFO - Chain [1] start processing\n"
     ]
    },
    {
     "name": "stdout",
     "output_type": "stream",
     "text": [
      "There are 1 NaN values in the data.\n",
      "Root Mean Squared Error (RMSE): 5.150565984094058\n",
      "Root Mean Squared Logarithmic Error (RMSLE): 0.5377435743546343\n",
      "\n",
      "Training model for store 2 and family 28...\n"
     ]
    },
    {
     "name": "stderr",
     "output_type": "stream",
     "text": [
      "14:56:16 - cmdstanpy - INFO - Chain [1] done processing\n",
      "14:56:16 - cmdstanpy - INFO - Chain [1] start processing\n"
     ]
    },
    {
     "name": "stdout",
     "output_type": "stream",
     "text": [
      "There are 1 NaN values in the data.\n",
      "Root Mean Squared Error (RMSE): 89.45476623131268\n",
      "Root Mean Squared Logarithmic Error (RMSLE): 0.5201724520598491\n",
      "\n",
      "Training model for store 2 and family 29...\n"
     ]
    },
    {
     "name": "stderr",
     "output_type": "stream",
     "text": [
      "14:56:16 - cmdstanpy - INFO - Chain [1] done processing\n",
      "14:56:16 - cmdstanpy - INFO - Chain [1] start processing\n"
     ]
    },
    {
     "name": "stdout",
     "output_type": "stream",
     "text": [
      "There are 1 NaN values in the data.\n",
      "Root Mean Squared Error (RMSE): 35.966371890540714\n",
      "Root Mean Squared Logarithmic Error (RMSLE): 0.46424047935661467\n",
      "\n",
      "Training model for store 2 and family 30...\n"
     ]
    },
    {
     "name": "stderr",
     "output_type": "stream",
     "text": [
      "14:56:17 - cmdstanpy - INFO - Chain [1] done processing\n",
      "14:56:17 - cmdstanpy - INFO - Chain [1] start processing\n"
     ]
    },
    {
     "name": "stdout",
     "output_type": "stream",
     "text": [
      "There are 1 NaN values in the data.\n",
      "Root Mean Squared Error (RMSE): 1279.342804380962\n",
      "Root Mean Squared Logarithmic Error (RMSLE): 0.7666695995798622\n",
      "\n",
      "Training model for store 2 and family 31...\n"
     ]
    },
    {
     "name": "stderr",
     "output_type": "stream",
     "text": [
      "14:56:17 - cmdstanpy - INFO - Chain [1] done processing\n",
      "14:56:17 - cmdstanpy - INFO - Chain [1] start processing\n"
     ]
    },
    {
     "name": "stdout",
     "output_type": "stream",
     "text": [
      "There are 1 NaN values in the data.\n",
      "Root Mean Squared Error (RMSE): 1.6583896834033827\n",
      "Root Mean Squared Logarithmic Error (RMSLE): 0.8700204523943549\n",
      "\n",
      "Training model for store 2 and family 32...\n"
     ]
    },
    {
     "name": "stderr",
     "output_type": "stream",
     "text": [
      "14:56:17 - cmdstanpy - INFO - Chain [1] done processing\n",
      "14:56:17 - cmdstanpy - INFO - Chain [1] start processing\n"
     ]
    },
    {
     "name": "stdout",
     "output_type": "stream",
     "text": [
      "There are 1 NaN values in the data.\n",
      "Root Mean Squared Error (RMSE): 9.57208875041302\n",
      "Root Mean Squared Logarithmic Error (RMSLE): 0.39940166139044264\n",
      "\n",
      "Training model for store 20 and family 0...\n"
     ]
    },
    {
     "name": "stderr",
     "output_type": "stream",
     "text": [
      "14:56:17 - cmdstanpy - INFO - Chain [1] done processing\n",
      "14:56:18 - cmdstanpy - INFO - Chain [1] start processing\n"
     ]
    },
    {
     "name": "stdout",
     "output_type": "stream",
     "text": [
      "There are 1 NaN values in the data.\n",
      "Root Mean Squared Error (RMSE): 7.338465166999549\n",
      "Root Mean Squared Logarithmic Error (RMSLE): 1.223137144037289\n",
      "\n",
      "Training model for store 20 and family 1...\n"
     ]
    },
    {
     "name": "stderr",
     "output_type": "stream",
     "text": [
      "14:56:18 - cmdstanpy - INFO - Chain [1] done processing\n",
      "14:56:18 - cmdstanpy - INFO - Chain [1] start processing\n"
     ]
    },
    {
     "name": "stdout",
     "output_type": "stream",
     "text": [
      "There are 1 NaN values in the data.\n",
      "Root Mean Squared Error (RMSE): 1.547439629863124\n",
      "Root Mean Squared Logarithmic Error (RMSLE): 0.8015826450498235\n",
      "\n",
      "Training model for store 20 and family 2...\n"
     ]
    },
    {
     "name": "stderr",
     "output_type": "stream",
     "text": [
      "14:56:18 - cmdstanpy - INFO - Chain [1] done processing\n",
      "14:56:18 - cmdstanpy - INFO - Chain [1] start processing\n"
     ]
    },
    {
     "name": "stdout",
     "output_type": "stream",
     "text": [
      "There are 1 NaN values in the data.\n",
      "Root Mean Squared Error (RMSE): 4.496137952344212\n",
      "Root Mean Squared Logarithmic Error (RMSLE): 0.7106017659205212\n",
      "\n",
      "Training model for store 20 and family 3...\n"
     ]
    },
    {
     "name": "stderr",
     "output_type": "stream",
     "text": [
      "14:56:18 - cmdstanpy - INFO - Chain [1] done processing\n"
     ]
    },
    {
     "name": "stdout",
     "output_type": "stream",
     "text": [
      "There are 1 NaN values in the data.\n",
      "Root Mean Squared Error (RMSE): 1305.1460317868812\n",
      "Root Mean Squared Logarithmic Error (RMSLE): 0.7154782708954205\n",
      "\n",
      "Training model for store 20 and family 4...\n",
      "There are 1 NaN values in the data.\n",
      "Root Mean Squared Error (RMSE): 0.0\n",
      "Root Mean Squared Logarithmic Error (RMSLE): 0.0\n"
     ]
    },
    {
     "name": "stderr",
     "output_type": "stream",
     "text": [
      "14:56:19 - cmdstanpy - INFO - Chain [1] start processing\n",
      "14:56:19 - cmdstanpy - INFO - Chain [1] done processing\n"
     ]
    },
    {
     "name": "stdout",
     "output_type": "stream",
     "text": [
      "\n",
      "Training model for store 20 and family 5...\n",
      "There are 1 NaN values in the data.\n",
      "Root Mean Squared Error (RMSE): 227.26591104739543\n",
      "Root Mean Squared Logarithmic Error (RMSLE): 0.6033286689934569\n"
     ]
    },
    {
     "name": "stderr",
     "output_type": "stream",
     "text": [
      "14:56:19 - cmdstanpy - INFO - Chain [1] start processing\n",
      "14:56:19 - cmdstanpy - INFO - Chain [1] done processing\n"
     ]
    },
    {
     "name": "stdout",
     "output_type": "stream",
     "text": [
      "\n",
      "Training model for store 20 and family 6...\n"
     ]
    },
    {
     "name": "stderr",
     "output_type": "stream",
     "text": [
      "14:56:19 - cmdstanpy - INFO - Chain [1] start processing\n"
     ]
    },
    {
     "name": "stdout",
     "output_type": "stream",
     "text": [
      "There are 1 NaN values in the data.\n",
      "Root Mean Squared Error (RMSE): 6.019703938293945\n",
      "Root Mean Squared Logarithmic Error (RMSLE): 0.7847496185923626\n",
      "\n",
      "Training model for store 20 and family 7...\n"
     ]
    },
    {
     "name": "stderr",
     "output_type": "stream",
     "text": [
      "14:56:20 - cmdstanpy - INFO - Chain [1] done processing\n",
      "14:56:20 - cmdstanpy - INFO - Chain [1] start processing\n"
     ]
    },
    {
     "name": "stdout",
     "output_type": "stream",
     "text": [
      "There are 1 NaN values in the data.\n",
      "Root Mean Squared Error (RMSE): 676.8761823735551\n",
      "Root Mean Squared Logarithmic Error (RMSLE): 0.6684158925841879\n",
      "\n",
      "Training model for store 20 and family 8...\n"
     ]
    },
    {
     "name": "stderr",
     "output_type": "stream",
     "text": [
      "14:56:20 - cmdstanpy - INFO - Chain [1] done processing\n"
     ]
    },
    {
     "name": "stdout",
     "output_type": "stream",
     "text": [
      "There are 1 NaN values in the data.\n",
      "Root Mean Squared Error (RMSE): 333.0931865985801\n",
      "Root Mean Squared Logarithmic Error (RMSLE): 0.6157530546324429\n",
      "\n",
      "Training model for store 20 and family 9...\n"
     ]
    },
    {
     "name": "stderr",
     "output_type": "stream",
     "text": [
      "14:56:20 - cmdstanpy - INFO - Chain [1] start processing\n",
      "14:56:20 - cmdstanpy - INFO - Chain [1] done processing\n",
      "14:56:21 - cmdstanpy - INFO - Chain [1] start processing\n"
     ]
    },
    {
     "name": "stdout",
     "output_type": "stream",
     "text": [
      "There are 1 NaN values in the data.\n",
      "Root Mean Squared Error (RMSE): 284.2769902269181\n",
      "Root Mean Squared Logarithmic Error (RMSLE): 0.6202590677006197\n",
      "\n",
      "Training model for store 20 and family 10...\n"
     ]
    },
    {
     "name": "stderr",
     "output_type": "stream",
     "text": [
      "14:56:21 - cmdstanpy - INFO - Chain [1] done processing\n",
      "14:56:21 - cmdstanpy - INFO - Chain [1] start processing\n"
     ]
    },
    {
     "name": "stdout",
     "output_type": "stream",
     "text": [
      "There are 1 NaN values in the data.\n",
      "Root Mean Squared Error (RMSE): 71.21629789029711\n",
      "Root Mean Squared Logarithmic Error (RMSLE): 0.7101495840520616\n",
      "\n",
      "Training model for store 20 and family 11...\n"
     ]
    },
    {
     "name": "stderr",
     "output_type": "stream",
     "text": [
      "14:56:21 - cmdstanpy - INFO - Chain [1] done processing\n"
     ]
    },
    {
     "name": "stdout",
     "output_type": "stream",
     "text": [
      "There are 1 NaN values in the data.\n",
      "Root Mean Squared Error (RMSE): 178.05284909568772\n",
      "Root Mean Squared Logarithmic Error (RMSLE): 3.5578789435669185\n"
     ]
    },
    {
     "name": "stderr",
     "output_type": "stream",
     "text": [
      "14:56:21 - cmdstanpy - INFO - Chain [1] start processing\n",
      "14:56:22 - cmdstanpy - INFO - Chain [1] done processing\n"
     ]
    },
    {
     "name": "stdout",
     "output_type": "stream",
     "text": [
      "\n",
      "Training model for store 20 and family 12...\n"
     ]
    },
    {
     "name": "stderr",
     "output_type": "stream",
     "text": [
      "14:56:22 - cmdstanpy - INFO - Chain [1] start processing\n"
     ]
    },
    {
     "name": "stdout",
     "output_type": "stream",
     "text": [
      "There are 1 NaN values in the data.\n",
      "Root Mean Squared Error (RMSE): 2405.9828271041074\n",
      "Root Mean Squared Logarithmic Error (RMSLE): 0.8024261303513069\n",
      "\n",
      "Training model for store 20 and family 13...\n"
     ]
    },
    {
     "name": "stderr",
     "output_type": "stream",
     "text": [
      "14:56:22 - cmdstanpy - INFO - Chain [1] done processing\n",
      "14:56:22 - cmdstanpy - INFO - Chain [1] start processing\n"
     ]
    },
    {
     "name": "stdout",
     "output_type": "stream",
     "text": [
      "There are 1 NaN values in the data.\n",
      "Root Mean Squared Error (RMSE): 15.100002098365177\n",
      "Root Mean Squared Logarithmic Error (RMSLE): 1.6521317743852142\n",
      "\n",
      "Training model for store 20 and family 14...\n"
     ]
    },
    {
     "name": "stderr",
     "output_type": "stream",
     "text": [
      "14:56:22 - cmdstanpy - INFO - Chain [1] done processing\n",
      "14:56:22 - cmdstanpy - INFO - Chain [1] start processing\n"
     ]
    },
    {
     "name": "stdout",
     "output_type": "stream",
     "text": [
      "There are 1 NaN values in the data.\n",
      "Root Mean Squared Error (RMSE): 1.204814961295746\n",
      "Root Mean Squared Logarithmic Error (RMSLE): 0.571985567409536\n",
      "\n",
      "Training model for store 20 and family 15...\n"
     ]
    },
    {
     "name": "stderr",
     "output_type": "stream",
     "text": [
      "14:56:22 - cmdstanpy - INFO - Chain [1] done processing\n",
      "14:56:23 - cmdstanpy - INFO - Chain [1] start processing\n"
     ]
    },
    {
     "name": "stdout",
     "output_type": "stream",
     "text": [
      "There are 1 NaN values in the data.\n",
      "Root Mean Squared Error (RMSE): 36.8706517780299\n",
      "Root Mean Squared Logarithmic Error (RMSLE): 0.7755680071297351\n",
      "\n",
      "Training model for store 20 and family 16...\n"
     ]
    },
    {
     "name": "stderr",
     "output_type": "stream",
     "text": [
      "14:56:23 - cmdstanpy - INFO - Chain [1] done processing\n",
      "14:56:23 - cmdstanpy - INFO - Chain [1] start processing\n"
     ]
    },
    {
     "name": "stdout",
     "output_type": "stream",
     "text": [
      "There are 1 NaN values in the data.\n",
      "Root Mean Squared Error (RMSE): 8.621287460546515\n",
      "Root Mean Squared Logarithmic Error (RMSLE): 0.5830916407815164\n",
      "\n",
      "Training model for store 20 and family 17...\n"
     ]
    },
    {
     "name": "stderr",
     "output_type": "stream",
     "text": [
      "14:56:23 - cmdstanpy - INFO - Chain [1] done processing\n",
      "14:56:23 - cmdstanpy - INFO - Chain [1] start processing\n"
     ]
    },
    {
     "name": "stdout",
     "output_type": "stream",
     "text": [
      "There are 1 NaN values in the data.\n",
      "Root Mean Squared Error (RMSE): 0.35966059259574845\n",
      "Root Mean Squared Logarithmic Error (RMSLE): 0.24037443027351674\n",
      "\n",
      "Training model for store 20 and family 18...\n"
     ]
    },
    {
     "name": "stderr",
     "output_type": "stream",
     "text": [
      "14:56:23 - cmdstanpy - INFO - Chain [1] done processing\n",
      "14:56:24 - cmdstanpy - INFO - Chain [1] start processing\n"
     ]
    },
    {
     "name": "stdout",
     "output_type": "stream",
     "text": [
      "There are 1 NaN values in the data.\n",
      "Root Mean Squared Error (RMSE): 144.48153113891098\n",
      "Root Mean Squared Logarithmic Error (RMSLE): 0.5989952800736724\n",
      "\n",
      "Training model for store 20 and family 19...\n"
     ]
    },
    {
     "name": "stderr",
     "output_type": "stream",
     "text": [
      "14:56:24 - cmdstanpy - INFO - Chain [1] done processing\n",
      "14:56:24 - cmdstanpy - INFO - Chain [1] start processing\n"
     ]
    },
    {
     "name": "stdout",
     "output_type": "stream",
     "text": [
      "There are 1 NaN values in the data.\n",
      "Root Mean Squared Error (RMSE): 9.201090813683933\n",
      "Root Mean Squared Logarithmic Error (RMSLE): 0.958502763813389\n",
      "\n",
      "Training model for store 20 and family 20...\n"
     ]
    },
    {
     "name": "stderr",
     "output_type": "stream",
     "text": [
      "14:56:24 - cmdstanpy - INFO - Chain [1] done processing\n",
      "14:56:24 - cmdstanpy - INFO - Chain [1] start processing\n"
     ]
    },
    {
     "name": "stdout",
     "output_type": "stream",
     "text": [
      "There are 1 NaN values in the data.\n",
      "Root Mean Squared Error (RMSE): 8.703157524193168\n",
      "Root Mean Squared Logarithmic Error (RMSLE): 1.5625729691884205\n",
      "\n",
      "Training model for store 20 and family 21...\n"
     ]
    },
    {
     "name": "stderr",
     "output_type": "stream",
     "text": [
      "14:56:24 - cmdstanpy - INFO - Chain [1] done processing\n",
      "14:56:25 - cmdstanpy - INFO - Chain [1] start processing\n"
     ]
    },
    {
     "name": "stdout",
     "output_type": "stream",
     "text": [
      "There are 1 NaN values in the data.\n",
      "Root Mean Squared Error (RMSE): 3.5308032295442637\n",
      "Root Mean Squared Logarithmic Error (RMSLE): 0.686856114516033\n",
      "\n",
      "Training model for store 20 and family 22...\n"
     ]
    },
    {
     "name": "stderr",
     "output_type": "stream",
     "text": [
      "14:56:25 - cmdstanpy - INFO - Chain [1] done processing\n",
      "14:56:25 - cmdstanpy - INFO - Chain [1] start processing\n"
     ]
    },
    {
     "name": "stdout",
     "output_type": "stream",
     "text": [
      "There are 1 NaN values in the data.\n",
      "Root Mean Squared Error (RMSE): 47.73720523687857\n",
      "Root Mean Squared Logarithmic Error (RMSLE): 1.2463106551267062\n",
      "\n",
      "Training model for store 20 and family 23...\n"
     ]
    },
    {
     "name": "stderr",
     "output_type": "stream",
     "text": [
      "14:56:25 - cmdstanpy - INFO - Chain [1] done processing\n",
      "14:56:25 - cmdstanpy - INFO - Chain [1] start processing\n"
     ]
    },
    {
     "name": "stdout",
     "output_type": "stream",
     "text": [
      "There are 1 NaN values in the data.\n",
      "Root Mean Squared Error (RMSE): 2.053876392685966\n",
      "Root Mean Squared Logarithmic Error (RMSLE): 0.7988530839758442\n",
      "\n",
      "Training model for store 20 and family 24...\n"
     ]
    },
    {
     "name": "stderr",
     "output_type": "stream",
     "text": [
      "14:56:25 - cmdstanpy - INFO - Chain [1] done processing\n",
      "14:56:26 - cmdstanpy - INFO - Chain [1] start processing\n"
     ]
    },
    {
     "name": "stdout",
     "output_type": "stream",
     "text": [
      "There are 1 NaN values in the data.\n",
      "Root Mean Squared Error (RMSE): 137.3016093487729\n",
      "Root Mean Squared Logarithmic Error (RMSLE): 0.567208635606135\n",
      "\n",
      "Training model for store 20 and family 25...\n"
     ]
    },
    {
     "name": "stderr",
     "output_type": "stream",
     "text": [
      "14:56:26 - cmdstanpy - INFO - Chain [1] done processing\n"
     ]
    },
    {
     "name": "stdout",
     "output_type": "stream",
     "text": [
      "There are 1 NaN values in the data.\n",
      "Root Mean Squared Error (RMSE): 161.5846901284535\n",
      "Root Mean Squared Logarithmic Error (RMSLE): 0.6025183069003275\n",
      "\n",
      "Training model for store 20 and family 26...\n"
     ]
    },
    {
     "name": "stderr",
     "output_type": "stream",
     "text": [
      "14:56:26 - cmdstanpy - INFO - Chain [1] start processing\n",
      "14:56:26 - cmdstanpy - INFO - Chain [1] done processing\n"
     ]
    },
    {
     "name": "stdout",
     "output_type": "stream",
     "text": [
      "There are 1 NaN values in the data.\n",
      "Root Mean Squared Error (RMSE): 3.3247973615353392\n",
      "Root Mean Squared Logarithmic Error (RMSLE): 0.6307420746208783\n",
      "\n",
      "Training model for store 20 and family 27...\n"
     ]
    },
    {
     "name": "stderr",
     "output_type": "stream",
     "text": [
      "14:56:26 - cmdstanpy - INFO - Chain [1] start processing\n",
      "14:56:26 - cmdstanpy - INFO - Chain [1] done processing\n",
      "14:56:27 - cmdstanpy - INFO - Chain [1] start processing\n"
     ]
    },
    {
     "name": "stdout",
     "output_type": "stream",
     "text": [
      "There are 1 NaN values in the data.\n",
      "Root Mean Squared Error (RMSE): 4.504713943403802\n",
      "Root Mean Squared Logarithmic Error (RMSLE): 0.6049772354417311\n",
      "\n",
      "Training model for store 20 and family 28...\n"
     ]
    },
    {
     "name": "stderr",
     "output_type": "stream",
     "text": [
      "14:56:27 - cmdstanpy - INFO - Chain [1] done processing\n",
      "14:56:27 - cmdstanpy - INFO - Chain [1] start processing\n"
     ]
    },
    {
     "name": "stdout",
     "output_type": "stream",
     "text": [
      "There are 1 NaN values in the data.\n",
      "Root Mean Squared Error (RMSE): 155.62088763710824\n",
      "Root Mean Squared Logarithmic Error (RMSLE): 0.6261932345530101\n",
      "\n",
      "Training model for store 20 and family 29...\n"
     ]
    },
    {
     "name": "stderr",
     "output_type": "stream",
     "text": [
      "14:56:27 - cmdstanpy - INFO - Chain [1] done processing\n",
      "14:56:27 - cmdstanpy - INFO - Chain [1] start processing\n"
     ]
    },
    {
     "name": "stdout",
     "output_type": "stream",
     "text": [
      "There are 1 NaN values in the data.\n",
      "Root Mean Squared Error (RMSE): 33.778936900803636\n",
      "Root Mean Squared Logarithmic Error (RMSLE): 0.47620994638211\n",
      "\n",
      "Training model for store 20 and family 30...\n"
     ]
    },
    {
     "name": "stderr",
     "output_type": "stream",
     "text": [
      "14:56:28 - cmdstanpy - INFO - Chain [1] done processing\n",
      "14:56:28 - cmdstanpy - INFO - Chain [1] start processing\n"
     ]
    },
    {
     "name": "stdout",
     "output_type": "stream",
     "text": [
      "There are 1 NaN values in the data.\n",
      "Root Mean Squared Error (RMSE): 437.0987808335402\n",
      "Root Mean Squared Logarithmic Error (RMSLE): 0.6413469923632463\n",
      "\n",
      "Training model for store 20 and family 31...\n"
     ]
    },
    {
     "name": "stderr",
     "output_type": "stream",
     "text": [
      "14:56:28 - cmdstanpy - INFO - Chain [1] done processing\n",
      "14:56:28 - cmdstanpy - INFO - Chain [1] start processing\n"
     ]
    },
    {
     "name": "stdout",
     "output_type": "stream",
     "text": [
      "There are 1 NaN values in the data.\n",
      "Root Mean Squared Error (RMSE): 36.07426050593865\n",
      "Root Mean Squared Logarithmic Error (RMSLE): 2.800383918693118\n",
      "\n",
      "Training model for store 20 and family 32...\n"
     ]
    },
    {
     "name": "stderr",
     "output_type": "stream",
     "text": [
      "14:56:28 - cmdstanpy - INFO - Chain [1] done processing\n",
      "14:56:28 - cmdstanpy - INFO - Chain [1] start processing\n"
     ]
    },
    {
     "name": "stdout",
     "output_type": "stream",
     "text": [
      "There are 1 NaN values in the data.\n",
      "Root Mean Squared Error (RMSE): 8.47306286577924\n",
      "Root Mean Squared Logarithmic Error (RMSLE): 0.6852239953221301\n",
      "\n",
      "Training model for store 21 and family 0...\n"
     ]
    },
    {
     "name": "stderr",
     "output_type": "stream",
     "text": [
      "14:56:29 - cmdstanpy - INFO - Chain [1] done processing\n"
     ]
    },
    {
     "name": "stdout",
     "output_type": "stream",
     "text": [
      "There are 1 NaN values in the data.\n",
      "Root Mean Squared Error (RMSE): 5.789474538504557\n",
      "Root Mean Squared Logarithmic Error (RMSLE): 0.5294094041813192\n",
      "\n",
      "Training model for store 21 and family 1...\n"
     ]
    },
    {
     "name": "stderr",
     "output_type": "stream",
     "text": [
      "14:56:29 - cmdstanpy - INFO - Chain [1] start processing\n",
      "14:56:29 - cmdstanpy - INFO - Chain [1] done processing\n"
     ]
    },
    {
     "name": "stdout",
     "output_type": "stream",
     "text": [
      "There are 1 NaN values in the data.\n",
      "Root Mean Squared Error (RMSE): 1.4596363567510529\n",
      "Root Mean Squared Logarithmic Error (RMSLE): 0.7134042882654463\n",
      "\n",
      "Training model for store 21 and family 2...\n"
     ]
    },
    {
     "name": "stderr",
     "output_type": "stream",
     "text": [
      "14:56:29 - cmdstanpy - INFO - Chain [1] start processing\n",
      "14:56:29 - cmdstanpy - INFO - Chain [1] done processing\n",
      "14:56:29 - cmdstanpy - INFO - Chain [1] start processing\n"
     ]
    },
    {
     "name": "stdout",
     "output_type": "stream",
     "text": [
      "There are 1 NaN values in the data.\n",
      "Root Mean Squared Error (RMSE): 3.286101377751063\n",
      "Root Mean Squared Logarithmic Error (RMSLE): 0.5949451720478133\n",
      "\n",
      "Training model for store 21 and family 3...\n"
     ]
    },
    {
     "name": "stderr",
     "output_type": "stream",
     "text": [
      "14:56:30 - cmdstanpy - INFO - Chain [1] done processing\n"
     ]
    },
    {
     "name": "stdout",
     "output_type": "stream",
     "text": [
      "There are 1 NaN values in the data.\n",
      "Root Mean Squared Error (RMSE): 965.7186132478168\n",
      "Root Mean Squared Logarithmic Error (RMSLE): 0.6929693453527588\n",
      "\n",
      "Training model for store 21 and family 4...\n"
     ]
    },
    {
     "name": "stderr",
     "output_type": "stream",
     "text": [
      "14:56:30 - cmdstanpy - INFO - Chain [1] start processing\n",
      "14:56:30 - cmdstanpy - INFO - Chain [1] done processing\n"
     ]
    },
    {
     "name": "stdout",
     "output_type": "stream",
     "text": [
      "There are 1 NaN values in the data.\n",
      "Root Mean Squared Error (RMSE): 0.0\n",
      "Root Mean Squared Logarithmic Error (RMSLE): 0.0\n",
      "\n",
      "Training model for store 21 and family 5...\n"
     ]
    },
    {
     "name": "stderr",
     "output_type": "stream",
     "text": [
      "14:56:30 - cmdstanpy - INFO - Chain [1] start processing\n"
     ]
    },
    {
     "name": "stdout",
     "output_type": "stream",
     "text": [
      "There are 1 NaN values in the data.\n",
      "Root Mean Squared Error (RMSE): 167.60486930110915\n",
      "Root Mean Squared Logarithmic Error (RMSLE): 0.5830610297227425\n",
      "\n",
      "Training model for store 21 and family 6...\n"
     ]
    },
    {
     "name": "stderr",
     "output_type": "stream",
     "text": [
      "14:56:30 - cmdstanpy - INFO - Chain [1] done processing\n",
      "14:56:31 - cmdstanpy - INFO - Chain [1] start processing\n"
     ]
    },
    {
     "name": "stdout",
     "output_type": "stream",
     "text": [
      "There are 1 NaN values in the data.\n",
      "Root Mean Squared Error (RMSE): 5.007156280956246\n",
      "Root Mean Squared Logarithmic Error (RMSLE): 0.7459204430362736\n",
      "\n",
      "Training model for store 21 and family 7...\n"
     ]
    },
    {
     "name": "stderr",
     "output_type": "stream",
     "text": [
      "14:56:31 - cmdstanpy - INFO - Chain [1] done processing\n",
      "14:56:31 - cmdstanpy - INFO - Chain [1] start processing\n"
     ]
    },
    {
     "name": "stdout",
     "output_type": "stream",
     "text": [
      "There are 1 NaN values in the data.\n",
      "Root Mean Squared Error (RMSE): 819.1833491770274\n",
      "Root Mean Squared Logarithmic Error (RMSLE): 0.7253645352430527\n",
      "\n",
      "Training model for store 21 and family 8...\n"
     ]
    },
    {
     "name": "stderr",
     "output_type": "stream",
     "text": [
      "14:56:31 - cmdstanpy - INFO - Chain [1] done processing\n",
      "14:56:31 - cmdstanpy - INFO - Chain [1] start processing\n"
     ]
    },
    {
     "name": "stdout",
     "output_type": "stream",
     "text": [
      "There are 1 NaN values in the data.\n",
      "Root Mean Squared Error (RMSE): 190.42860415058414\n",
      "Root Mean Squared Logarithmic Error (RMSLE): 0.5698734888306357\n",
      "\n",
      "Training model for store 21 and family 9...\n"
     ]
    },
    {
     "name": "stderr",
     "output_type": "stream",
     "text": [
      "14:56:31 - cmdstanpy - INFO - Chain [1] done processing\n",
      "14:56:32 - cmdstanpy - INFO - Chain [1] start processing\n"
     ]
    },
    {
     "name": "stdout",
     "output_type": "stream",
     "text": [
      "There are 1 NaN values in the data.\n",
      "Root Mean Squared Error (RMSE): 119.5522890304909\n",
      "Root Mean Squared Logarithmic Error (RMSLE): 0.5670916134845003\n",
      "\n",
      "Training model for store 21 and family 10...\n"
     ]
    },
    {
     "name": "stderr",
     "output_type": "stream",
     "text": [
      "14:56:32 - cmdstanpy - INFO - Chain [1] done processing\n"
     ]
    },
    {
     "name": "stdout",
     "output_type": "stream",
     "text": [
      "There are 1 NaN values in the data.\n",
      "Root Mean Squared Error (RMSE): 139.95084110443494\n",
      "Root Mean Squared Logarithmic Error (RMSLE): 0.6724944641731543\n",
      "\n",
      "Training model for store 21 and family 11...\n"
     ]
    },
    {
     "name": "stderr",
     "output_type": "stream",
     "text": [
      "14:56:32 - cmdstanpy - INFO - Chain [1] start processing\n",
      "14:56:32 - cmdstanpy - INFO - Chain [1] done processing\n"
     ]
    },
    {
     "name": "stdout",
     "output_type": "stream",
     "text": [
      "There are 1 NaN values in the data.\n",
      "Root Mean Squared Error (RMSE): 177.73343404127624\n",
      "Root Mean Squared Logarithmic Error (RMSLE): 2.8221176352533393\n",
      "\n",
      "Training model for store 21 and family 12...\n"
     ]
    },
    {
     "name": "stderr",
     "output_type": "stream",
     "text": [
      "14:56:32 - cmdstanpy - INFO - Chain [1] start processing\n",
      "14:56:33 - cmdstanpy - INFO - Chain [1] done processing\n",
      "14:56:33 - cmdstanpy - INFO - Chain [1] start processing\n"
     ]
    },
    {
     "name": "stdout",
     "output_type": "stream",
     "text": [
      "There are 1 NaN values in the data.\n",
      "Root Mean Squared Error (RMSE): 1703.973922771157\n",
      "Root Mean Squared Logarithmic Error (RMSLE): 0.7369340914617379\n",
      "\n",
      "Training model for store 21 and family 13...\n"
     ]
    },
    {
     "name": "stderr",
     "output_type": "stream",
     "text": [
      "14:56:33 - cmdstanpy - INFO - Chain [1] done processing\n"
     ]
    },
    {
     "name": "stdout",
     "output_type": "stream",
     "text": [
      "There are 1 NaN values in the data.\n",
      "Root Mean Squared Error (RMSE): 16.911559617015158\n",
      "Root Mean Squared Logarithmic Error (RMSLE): 1.639476357009397\n"
     ]
    },
    {
     "name": "stderr",
     "output_type": "stream",
     "text": [
      "14:56:33 - cmdstanpy - INFO - Chain [1] start processing\n",
      "14:56:34 - cmdstanpy - INFO - Chain [1] done processing\n"
     ]
    },
    {
     "name": "stdout",
     "output_type": "stream",
     "text": [
      "\n",
      "Training model for store 21 and family 14...\n",
      "There are 1 NaN values in the data.\n",
      "Root Mean Squared Error (RMSE): 1.1225648726845716\n",
      "Root Mean Squared Logarithmic Error (RMSLE): 0.5792694365095384\n",
      "\n",
      "Training model for store 21 and family 15...\n"
     ]
    },
    {
     "name": "stderr",
     "output_type": "stream",
     "text": [
      "14:56:34 - cmdstanpy - INFO - Chain [1] start processing\n",
      "14:56:34 - cmdstanpy - INFO - Chain [1] done processing\n"
     ]
    },
    {
     "name": "stdout",
     "output_type": "stream",
     "text": [
      "There are 1 NaN values in the data.\n",
      "Root Mean Squared Error (RMSE): 31.18759424549172\n",
      "Root Mean Squared Logarithmic Error (RMSLE): 0.696800993890264\n",
      "\n",
      "Training model for store 21 and family 16...\n"
     ]
    },
    {
     "name": "stderr",
     "output_type": "stream",
     "text": [
      "14:56:34 - cmdstanpy - INFO - Chain [1] start processing\n",
      "14:56:34 - cmdstanpy - INFO - Chain [1] done processing\n",
      "14:56:35 - cmdstanpy - INFO - Chain [1] start processing\n"
     ]
    },
    {
     "name": "stdout",
     "output_type": "stream",
     "text": [
      "There are 1 NaN values in the data.\n",
      "Root Mean Squared Error (RMSE): 37.300019934909585\n",
      "Root Mean Squared Logarithmic Error (RMSLE): 1.3099956597524187\n",
      "\n",
      "Training model for store 21 and family 17...\n"
     ]
    },
    {
     "name": "stderr",
     "output_type": "stream",
     "text": [
      "14:56:35 - cmdstanpy - INFO - Chain [1] done processing\n",
      "14:56:35 - cmdstanpy - INFO - Chain [1] start processing\n"
     ]
    },
    {
     "name": "stdout",
     "output_type": "stream",
     "text": [
      "There are 1 NaN values in the data.\n",
      "Root Mean Squared Error (RMSE): 0.6599561843314138\n",
      "Root Mean Squared Logarithmic Error (RMSLE): 0.45490496771748146\n",
      "\n",
      "Training model for store 21 and family 18...\n"
     ]
    },
    {
     "name": "stderr",
     "output_type": "stream",
     "text": [
      "14:56:35 - cmdstanpy - INFO - Chain [1] done processing\n",
      "14:56:35 - cmdstanpy - INFO - Chain [1] start processing\n"
     ]
    },
    {
     "name": "stdout",
     "output_type": "stream",
     "text": [
      "There are 1 NaN values in the data.\n",
      "Root Mean Squared Error (RMSE): 110.60536334911367\n",
      "Root Mean Squared Logarithmic Error (RMSLE): 0.5546728181281345\n",
      "\n",
      "Training model for store 21 and family 19...\n"
     ]
    },
    {
     "name": "stderr",
     "output_type": "stream",
     "text": [
      "14:56:35 - cmdstanpy - INFO - Chain [1] done processing\n",
      "14:56:35 - cmdstanpy - INFO - Chain [1] start processing\n"
     ]
    },
    {
     "name": "stdout",
     "output_type": "stream",
     "text": [
      "There are 1 NaN values in the data.\n",
      "Root Mean Squared Error (RMSE): 5.297426105218965\n",
      "Root Mean Squared Logarithmic Error (RMSLE): 1.0874179606563092\n",
      "\n",
      "Training model for store 21 and family 20...\n"
     ]
    },
    {
     "name": "stderr",
     "output_type": "stream",
     "text": [
      "14:56:36 - cmdstanpy - INFO - Chain [1] done processing\n",
      "14:56:36 - cmdstanpy - INFO - Chain [1] start processing\n"
     ]
    },
    {
     "name": "stdout",
     "output_type": "stream",
     "text": [
      "There are 1 NaN values in the data.\n",
      "Root Mean Squared Error (RMSE): 6.871672342969202\n",
      "Root Mean Squared Logarithmic Error (RMSLE): 0.8881454914942863\n",
      "\n",
      "Training model for store 21 and family 21...\n"
     ]
    },
    {
     "name": "stderr",
     "output_type": "stream",
     "text": [
      "14:56:36 - cmdstanpy - INFO - Chain [1] done processing\n",
      "14:56:36 - cmdstanpy - INFO - Chain [1] start processing\n"
     ]
    },
    {
     "name": "stdout",
     "output_type": "stream",
     "text": [
      "There are 1 NaN values in the data.\n",
      "Root Mean Squared Error (RMSE): 9.844225435230364\n",
      "Root Mean Squared Logarithmic Error (RMSLE): 1.474304601262119\n",
      "\n",
      "Training model for store 21 and family 22...\n"
     ]
    },
    {
     "name": "stderr",
     "output_type": "stream",
     "text": [
      "14:56:36 - cmdstanpy - INFO - Chain [1] done processing\n",
      "14:56:36 - cmdstanpy - INFO - Chain [1] start processing\n"
     ]
    },
    {
     "name": "stdout",
     "output_type": "stream",
     "text": [
      "There are 1 NaN values in the data.\n",
      "Root Mean Squared Error (RMSE): 55.82105142528855\n",
      "Root Mean Squared Logarithmic Error (RMSLE): 0.8832706005061056\n",
      "\n",
      "Training model for store 21 and family 23...\n"
     ]
    },
    {
     "name": "stderr",
     "output_type": "stream",
     "text": [
      "14:56:36 - cmdstanpy - INFO - Chain [1] done processing\n",
      "14:56:37 - cmdstanpy - INFO - Chain [1] start processing\n"
     ]
    },
    {
     "name": "stdout",
     "output_type": "stream",
     "text": [
      "There are 1 NaN values in the data.\n",
      "Root Mean Squared Error (RMSE): 2.7371201484959586\n",
      "Root Mean Squared Logarithmic Error (RMSLE): 0.8716303870134986\n",
      "\n",
      "Training model for store 21 and family 24...\n"
     ]
    },
    {
     "name": "stderr",
     "output_type": "stream",
     "text": [
      "14:56:37 - cmdstanpy - INFO - Chain [1] done processing\n"
     ]
    },
    {
     "name": "stdout",
     "output_type": "stream",
     "text": [
      "There are 1 NaN values in the data.\n",
      "Root Mean Squared Error (RMSE): 36.44654784388792\n",
      "Root Mean Squared Logarithmic Error (RMSLE): 0.4761503761068565\n",
      "\n",
      "Training model for store 21 and family 25...\n"
     ]
    },
    {
     "name": "stderr",
     "output_type": "stream",
     "text": [
      "14:56:37 - cmdstanpy - INFO - Chain [1] start processing\n",
      "14:56:37 - cmdstanpy - INFO - Chain [1] done processing\n",
      "14:56:37 - cmdstanpy - INFO - Chain [1] start processing\n"
     ]
    },
    {
     "name": "stdout",
     "output_type": "stream",
     "text": [
      "There are 1 NaN values in the data.\n",
      "Root Mean Squared Error (RMSE): 114.6918250588363\n",
      "Root Mean Squared Logarithmic Error (RMSLE): 0.5580520189029643\n",
      "\n",
      "Training model for store 21 and family 26...\n"
     ]
    },
    {
     "name": "stderr",
     "output_type": "stream",
     "text": [
      "14:56:37 - cmdstanpy - INFO - Chain [1] done processing\n",
      "14:56:38 - cmdstanpy - INFO - Chain [1] start processing\n"
     ]
    },
    {
     "name": "stdout",
     "output_type": "stream",
     "text": [
      "There are 1 NaN values in the data.\n",
      "Root Mean Squared Error (RMSE): 2.1177291312832613\n",
      "Root Mean Squared Logarithmic Error (RMSLE): 0.581730803147178\n",
      "\n",
      "Training model for store 21 and family 27...\n"
     ]
    },
    {
     "name": "stderr",
     "output_type": "stream",
     "text": [
      "14:56:38 - cmdstanpy - INFO - Chain [1] done processing\n",
      "14:56:38 - cmdstanpy - INFO - Chain [1] start processing\n"
     ]
    },
    {
     "name": "stdout",
     "output_type": "stream",
     "text": [
      "There are 1 NaN values in the data.\n",
      "Root Mean Squared Error (RMSE): 6.931679436089476\n",
      "Root Mean Squared Logarithmic Error (RMSLE): 0.6562179378318974\n",
      "\n",
      "Training model for store 21 and family 28...\n"
     ]
    },
    {
     "name": "stderr",
     "output_type": "stream",
     "text": [
      "14:56:38 - cmdstanpy - INFO - Chain [1] done processing\n",
      "14:56:38 - cmdstanpy - INFO - Chain [1] start processing\n"
     ]
    },
    {
     "name": "stdout",
     "output_type": "stream",
     "text": [
      "There are 1 NaN values in the data.\n",
      "Root Mean Squared Error (RMSE): 74.93206759318227\n",
      "Root Mean Squared Logarithmic Error (RMSLE): 0.6240951301923878\n",
      "\n",
      "Training model for store 21 and family 29...\n"
     ]
    },
    {
     "name": "stderr",
     "output_type": "stream",
     "text": [
      "14:56:38 - cmdstanpy - INFO - Chain [1] done processing\n",
      "14:56:39 - cmdstanpy - INFO - Chain [1] start processing\n"
     ]
    },
    {
     "name": "stdout",
     "output_type": "stream",
     "text": [
      "There are 1 NaN values in the data.\n",
      "Root Mean Squared Error (RMSE): 70.87507710391515\n",
      "Root Mean Squared Logarithmic Error (RMSLE): 0.7040657917310015\n",
      "\n",
      "Training model for store 21 and family 30...\n"
     ]
    },
    {
     "name": "stderr",
     "output_type": "stream",
     "text": [
      "14:56:39 - cmdstanpy - INFO - Chain [1] done processing\n",
      "14:56:39 - cmdstanpy - INFO - Chain [1] start processing\n"
     ]
    },
    {
     "name": "stdout",
     "output_type": "stream",
     "text": [
      "There are 1 NaN values in the data.\n",
      "Root Mean Squared Error (RMSE): 629.7169996284133\n",
      "Root Mean Squared Logarithmic Error (RMSLE): 0.7601465194385837\n",
      "\n",
      "Training model for store 21 and family 31...\n"
     ]
    },
    {
     "name": "stderr",
     "output_type": "stream",
     "text": [
      "14:56:39 - cmdstanpy - INFO - Chain [1] done processing\n",
      "14:56:39 - cmdstanpy - INFO - Chain [1] start processing\n"
     ]
    },
    {
     "name": "stdout",
     "output_type": "stream",
     "text": [
      "There are 1 NaN values in the data.\n",
      "Root Mean Squared Error (RMSE): 17.987425208413814\n",
      "Root Mean Squared Logarithmic Error (RMSLE): 1.3460982878181\n",
      "\n",
      "Training model for store 21 and family 32...\n"
     ]
    },
    {
     "name": "stderr",
     "output_type": "stream",
     "text": [
      "14:56:39 - cmdstanpy - INFO - Chain [1] done processing\n",
      "14:56:40 - cmdstanpy - INFO - Chain [1] start processing\n"
     ]
    },
    {
     "name": "stdout",
     "output_type": "stream",
     "text": [
      "There are 1 NaN values in the data.\n",
      "Root Mean Squared Error (RMSE): 4.176059040061434\n",
      "Root Mean Squared Logarithmic Error (RMSLE): 0.6658770875871024\n",
      "\n",
      "Training model for store 22 and family 0...\n"
     ]
    },
    {
     "name": "stderr",
     "output_type": "stream",
     "text": [
      "14:56:40 - cmdstanpy - INFO - Chain [1] done processing\n",
      "14:56:40 - cmdstanpy - INFO - Chain [1] start processing\n"
     ]
    },
    {
     "name": "stdout",
     "output_type": "stream",
     "text": [
      "There are 1 NaN values in the data.\n",
      "Root Mean Squared Error (RMSE): 4.144942430681093\n",
      "Root Mean Squared Logarithmic Error (RMSLE): 0.691104966529512\n",
      "\n",
      "Training model for store 22 and family 1...\n"
     ]
    },
    {
     "name": "stderr",
     "output_type": "stream",
     "text": [
      "14:56:40 - cmdstanpy - INFO - Chain [1] done processing\n",
      "14:56:40 - cmdstanpy - INFO - Chain [1] start processing\n"
     ]
    },
    {
     "name": "stdout",
     "output_type": "stream",
     "text": [
      "There are 1 NaN values in the data.\n",
      "Root Mean Squared Error (RMSE): 0.9253744463054272\n",
      "Root Mean Squared Logarithmic Error (RMSLE): 0.6183933400100111\n",
      "\n",
      "Training model for store 22 and family 2...\n"
     ]
    },
    {
     "name": "stderr",
     "output_type": "stream",
     "text": [
      "14:56:40 - cmdstanpy - INFO - Chain [1] done processing\n",
      "14:56:41 - cmdstanpy - INFO - Chain [1] start processing\n"
     ]
    },
    {
     "name": "stdout",
     "output_type": "stream",
     "text": [
      "There are 1 NaN values in the data.\n",
      "Root Mean Squared Error (RMSE): 2.173233382490363\n",
      "Root Mean Squared Logarithmic Error (RMSLE): 0.6781601432135576\n",
      "\n",
      "Training model for store 22 and family 3...\n"
     ]
    },
    {
     "name": "stderr",
     "output_type": "stream",
     "text": [
      "14:56:41 - cmdstanpy - INFO - Chain [1] done processing\n"
     ]
    },
    {
     "name": "stdout",
     "output_type": "stream",
     "text": [
      "There are 1 NaN values in the data.\n",
      "Root Mean Squared Error (RMSE): 385.42469532755047\n",
      "Root Mean Squared Logarithmic Error (RMSLE): 0.6123736052887306\n",
      "\n",
      "Training model for store 22 and family 4...\n",
      "There are 1 NaN values in the data.\n",
      "Root Mean Squared Error (RMSE): 0.0\n",
      "Root Mean Squared Logarithmic Error (RMSLE): 0.0\n"
     ]
    },
    {
     "name": "stderr",
     "output_type": "stream",
     "text": [
      "14:56:41 - cmdstanpy - INFO - Chain [1] start processing\n",
      "14:56:41 - cmdstanpy - INFO - Chain [1] done processing\n"
     ]
    },
    {
     "name": "stdout",
     "output_type": "stream",
     "text": [
      "\n",
      "Training model for store 22 and family 5...\n"
     ]
    },
    {
     "name": "stderr",
     "output_type": "stream",
     "text": [
      "14:56:41 - cmdstanpy - INFO - Chain [1] start processing\n"
     ]
    },
    {
     "name": "stdout",
     "output_type": "stream",
     "text": [
      "There are 1 NaN values in the data.\n",
      "Root Mean Squared Error (RMSE): 65.74279681910326\n",
      "Root Mean Squared Logarithmic Error (RMSLE): 0.5928592037058777\n",
      "\n",
      "Training model for store 22 and family 6...\n"
     ]
    },
    {
     "name": "stderr",
     "output_type": "stream",
     "text": [
      "14:56:42 - cmdstanpy - INFO - Chain [1] done processing\n",
      "14:56:42 - cmdstanpy - INFO - Chain [1] start processing\n"
     ]
    },
    {
     "name": "stdout",
     "output_type": "stream",
     "text": [
      "There are 1 NaN values in the data.\n",
      "Root Mean Squared Error (RMSE): 9.631589496669037\n",
      "Root Mean Squared Logarithmic Error (RMSLE): 0.8926666929472015\n",
      "\n",
      "Training model for store 22 and family 7...\n"
     ]
    },
    {
     "name": "stderr",
     "output_type": "stream",
     "text": [
      "14:56:42 - cmdstanpy - INFO - Chain [1] done processing\n",
      "14:56:42 - cmdstanpy - INFO - Chain [1] start processing\n"
     ]
    },
    {
     "name": "stdout",
     "output_type": "stream",
     "text": [
      "There are 1 NaN values in the data.\n",
      "Root Mean Squared Error (RMSE): 217.58414394931896\n",
      "Root Mean Squared Logarithmic Error (RMSLE): 0.5899082430468562\n",
      "\n",
      "Training model for store 22 and family 8...\n"
     ]
    },
    {
     "name": "stderr",
     "output_type": "stream",
     "text": [
      "14:56:42 - cmdstanpy - INFO - Chain [1] done processing\n",
      "14:56:43 - cmdstanpy - INFO - Chain [1] start processing\n"
     ]
    },
    {
     "name": "stdout",
     "output_type": "stream",
     "text": [
      "There are 1 NaN values in the data.\n",
      "Root Mean Squared Error (RMSE): 96.22729254467296\n",
      "Root Mean Squared Logarithmic Error (RMSLE): 0.5385622704643841\n",
      "\n",
      "Training model for store 22 and family 9...\n"
     ]
    },
    {
     "name": "stderr",
     "output_type": "stream",
     "text": [
      "14:56:43 - cmdstanpy - INFO - Chain [1] done processing\n",
      "14:56:43 - cmdstanpy - INFO - Chain [1] start processing\n"
     ]
    },
    {
     "name": "stdout",
     "output_type": "stream",
     "text": [
      "There are 1 NaN values in the data.\n",
      "Root Mean Squared Error (RMSE): 60.3162080733295\n",
      "Root Mean Squared Logarithmic Error (RMSLE): 0.5350919946278289\n",
      "\n",
      "Training model for store 22 and family 10...\n"
     ]
    },
    {
     "name": "stderr",
     "output_type": "stream",
     "text": [
      "14:56:43 - cmdstanpy - INFO - Chain [1] done processing\n",
      "14:56:43 - cmdstanpy - INFO - Chain [1] start processing\n"
     ]
    },
    {
     "name": "stdout",
     "output_type": "stream",
     "text": [
      "There are 1 NaN values in the data.\n",
      "Root Mean Squared Error (RMSE): 27.220147929456406\n",
      "Root Mean Squared Logarithmic Error (RMSLE): 0.5758996618070344\n",
      "\n",
      "Training model for store 22 and family 11...\n"
     ]
    },
    {
     "name": "stderr",
     "output_type": "stream",
     "text": [
      "14:56:43 - cmdstanpy - INFO - Chain [1] done processing\n",
      "14:56:44 - cmdstanpy - INFO - Chain [1] start processing\n"
     ]
    },
    {
     "name": "stdout",
     "output_type": "stream",
     "text": [
      "There are 1 NaN values in the data.\n",
      "Root Mean Squared Error (RMSE): 139.70235978586754\n",
      "Root Mean Squared Logarithmic Error (RMSLE): 2.879458676326363\n",
      "\n",
      "Training model for store 22 and family 12...\n"
     ]
    },
    {
     "name": "stderr",
     "output_type": "stream",
     "text": [
      "14:56:44 - cmdstanpy - INFO - Chain [1] done processing\n",
      "14:56:44 - cmdstanpy - INFO - Chain [1] start processing\n"
     ]
    },
    {
     "name": "stdout",
     "output_type": "stream",
     "text": [
      "There are 1 NaN values in the data.\n",
      "Root Mean Squared Error (RMSE): 743.7649764439958\n",
      "Root Mean Squared Logarithmic Error (RMSLE): 0.6660451488216982\n",
      "\n",
      "Training model for store 22 and family 13...\n"
     ]
    },
    {
     "name": "stderr",
     "output_type": "stream",
     "text": [
      "14:56:44 - cmdstanpy - INFO - Chain [1] done processing\n",
      "14:56:44 - cmdstanpy - INFO - Chain [1] start processing\n"
     ]
    },
    {
     "name": "stdout",
     "output_type": "stream",
     "text": [
      "There are 1 NaN values in the data.\n",
      "Root Mean Squared Error (RMSE): 7.292613829234269\n",
      "Root Mean Squared Logarithmic Error (RMSLE): 0.8305435405135336\n",
      "\n",
      "Training model for store 22 and family 14...\n"
     ]
    },
    {
     "name": "stderr",
     "output_type": "stream",
     "text": [
      "14:56:44 - cmdstanpy - INFO - Chain [1] done processing\n",
      "14:56:45 - cmdstanpy - INFO - Chain [1] start processing\n"
     ]
    },
    {
     "name": "stdout",
     "output_type": "stream",
     "text": [
      "There are 1 NaN values in the data.\n",
      "Root Mean Squared Error (RMSE): 1.8031431503110524\n",
      "Root Mean Squared Logarithmic Error (RMSLE): 0.88706839391182\n",
      "\n",
      "Training model for store 22 and family 15...\n"
     ]
    },
    {
     "name": "stderr",
     "output_type": "stream",
     "text": [
      "14:56:45 - cmdstanpy - INFO - Chain [1] done processing\n",
      "14:56:45 - cmdstanpy - INFO - Chain [1] start processing\n"
     ]
    },
    {
     "name": "stdout",
     "output_type": "stream",
     "text": [
      "There are 1 NaN values in the data.\n",
      "Root Mean Squared Error (RMSE): 25.296100567618467\n",
      "Root Mean Squared Logarithmic Error (RMSLE): 0.7142087077208706\n",
      "\n",
      "Training model for store 22 and family 16...\n"
     ]
    },
    {
     "name": "stderr",
     "output_type": "stream",
     "text": [
      "14:56:45 - cmdstanpy - INFO - Chain [1] done processing\n",
      "14:56:45 - cmdstanpy - INFO - Chain [1] start processing\n"
     ]
    },
    {
     "name": "stdout",
     "output_type": "stream",
     "text": [
      "There are 1 NaN values in the data.\n",
      "Root Mean Squared Error (RMSE): 9.678888764581442\n",
      "Root Mean Squared Logarithmic Error (RMSLE): 0.4845699810925694\n",
      "\n",
      "Training model for store 22 and family 17...\n"
     ]
    },
    {
     "name": "stderr",
     "output_type": "stream",
     "text": [
      "14:56:45 - cmdstanpy - INFO - Chain [1] done processing\n",
      "14:56:45 - cmdstanpy - INFO - Chain [1] start processing\n"
     ]
    },
    {
     "name": "stdout",
     "output_type": "stream",
     "text": [
      "There are 1 NaN values in the data.\n",
      "Root Mean Squared Error (RMSE): 0.7766715821576436\n",
      "Root Mean Squared Logarithmic Error (RMSLE): 0.4424425316083532\n",
      "\n",
      "Training model for store 22 and family 18...\n"
     ]
    },
    {
     "name": "stderr",
     "output_type": "stream",
     "text": [
      "14:56:46 - cmdstanpy - INFO - Chain [1] done processing\n"
     ]
    },
    {
     "name": "stdout",
     "output_type": "stream",
     "text": [
      "There are 1 NaN values in the data.\n",
      "Root Mean Squared Error (RMSE): 67.22918649124102\n",
      "Root Mean Squared Logarithmic Error (RMSLE): 0.5451946585947479\n",
      "\n",
      "Training model for store 22 and family 19...\n",
      "There are 1 NaN values in the data.\n",
      "Root Mean Squared Error (RMSE): 2.9048011674614163\n",
      "Root Mean Squared Logarithmic Error (RMSLE): 0.7778544821874935\n"
     ]
    },
    {
     "name": "stderr",
     "output_type": "stream",
     "text": [
      "14:56:46 - cmdstanpy - INFO - Chain [1] start processing\n",
      "14:56:46 - cmdstanpy - INFO - Chain [1] done processing\n"
     ]
    },
    {
     "name": "stdout",
     "output_type": "stream",
     "text": [
      "\n",
      "Training model for store 22 and family 20...\n",
      "There are 1 NaN values in the data.\n",
      "Root Mean Squared Error (RMSE): 0.030412253792098876\n",
      "Root Mean Squared Logarithmic Error (RMSLE): 0.028746915039442676\n"
     ]
    },
    {
     "name": "stderr",
     "output_type": "stream",
     "text": [
      "14:56:46 - cmdstanpy - INFO - Chain [1] start processing\n"
     ]
    },
    {
     "name": "stdout",
     "output_type": "stream",
     "text": [
      "\n",
      "Training model for store 22 and family 21...\n"
     ]
    },
    {
     "name": "stderr",
     "output_type": "stream",
     "text": [
      "14:56:46 - cmdstanpy - INFO - Chain [1] done processing\n",
      "14:56:47 - cmdstanpy - INFO - Chain [1] start processing\n"
     ]
    },
    {
     "name": "stdout",
     "output_type": "stream",
     "text": [
      "There are 1 NaN values in the data.\n",
      "Root Mean Squared Error (RMSE): 5.137829610234256\n",
      "Root Mean Squared Logarithmic Error (RMSLE): 0.8376530967205049\n",
      "\n",
      "Training model for store 22 and family 22...\n"
     ]
    },
    {
     "name": "stderr",
     "output_type": "stream",
     "text": [
      "14:56:47 - cmdstanpy - INFO - Chain [1] done processing\n",
      "14:56:47 - cmdstanpy - INFO - Chain [1] start processing\n"
     ]
    },
    {
     "name": "stdout",
     "output_type": "stream",
     "text": [
      "There are 1 NaN values in the data.\n",
      "Root Mean Squared Error (RMSE): 55.87770373650681\n",
      "Root Mean Squared Logarithmic Error (RMSLE): 0.807108826853923\n",
      "\n",
      "Training model for store 22 and family 23...\n"
     ]
    },
    {
     "name": "stderr",
     "output_type": "stream",
     "text": [
      "14:56:47 - cmdstanpy - INFO - Chain [1] done processing\n",
      "14:56:47 - cmdstanpy - INFO - Chain [1] start processing\n"
     ]
    },
    {
     "name": "stdout",
     "output_type": "stream",
     "text": [
      "There are 1 NaN values in the data.\n",
      "Root Mean Squared Error (RMSE): 2.3603840525299535\n",
      "Root Mean Squared Logarithmic Error (RMSLE): 0.6879046377786612\n",
      "\n",
      "Training model for store 22 and family 24...\n"
     ]
    },
    {
     "name": "stderr",
     "output_type": "stream",
     "text": [
      "14:56:47 - cmdstanpy - INFO - Chain [1] done processing\n",
      "14:56:48 - cmdstanpy - INFO - Chain [1] start processing\n"
     ]
    },
    {
     "name": "stdout",
     "output_type": "stream",
     "text": [
      "There are 1 NaN values in the data.\n",
      "Root Mean Squared Error (RMSE): 65.57911820828929\n",
      "Root Mean Squared Logarithmic Error (RMSLE): 0.6981553190036686\n",
      "\n",
      "Training model for store 22 and family 25...\n"
     ]
    },
    {
     "name": "stderr",
     "output_type": "stream",
     "text": [
      "14:56:48 - cmdstanpy - INFO - Chain [1] done processing\n",
      "14:56:48 - cmdstanpy - INFO - Chain [1] start processing\n"
     ]
    },
    {
     "name": "stdout",
     "output_type": "stream",
     "text": [
      "There are 1 NaN values in the data.\n",
      "Root Mean Squared Error (RMSE): 57.444909621848716\n",
      "Root Mean Squared Logarithmic Error (RMSLE): 0.5276742444704662\n",
      "\n",
      "Training model for store 22 and family 26...\n"
     ]
    },
    {
     "name": "stderr",
     "output_type": "stream",
     "text": [
      "14:56:48 - cmdstanpy - INFO - Chain [1] done processing\n",
      "14:56:48 - cmdstanpy - INFO - Chain [1] start processing\n"
     ]
    },
    {
     "name": "stdout",
     "output_type": "stream",
     "text": [
      "There are 1 NaN values in the data.\n",
      "Root Mean Squared Error (RMSE): 1.2701428270811217\n",
      "Root Mean Squared Logarithmic Error (RMSLE): 0.6269543887977042\n",
      "\n",
      "Training model for store 22 and family 27...\n"
     ]
    },
    {
     "name": "stderr",
     "output_type": "stream",
     "text": [
      "14:56:48 - cmdstanpy - INFO - Chain [1] done processing\n",
      "14:56:49 - cmdstanpy - INFO - Chain [1] start processing\n"
     ]
    },
    {
     "name": "stdout",
     "output_type": "stream",
     "text": [
      "There are 1 NaN values in the data.\n",
      "Root Mean Squared Error (RMSE): 4.013887920163549\n",
      "Root Mean Squared Logarithmic Error (RMSLE): 0.6309453114932229\n",
      "\n",
      "Training model for store 22 and family 28...\n"
     ]
    },
    {
     "name": "stderr",
     "output_type": "stream",
     "text": [
      "14:56:49 - cmdstanpy - INFO - Chain [1] done processing\n",
      "14:56:49 - cmdstanpy - INFO - Chain [1] start processing\n"
     ]
    },
    {
     "name": "stdout",
     "output_type": "stream",
     "text": [
      "There are 1 NaN values in the data.\n",
      "Root Mean Squared Error (RMSE): 75.54288133108884\n",
      "Root Mean Squared Logarithmic Error (RMSLE): 0.6399437028145415\n",
      "\n",
      "Training model for store 22 and family 29...\n"
     ]
    },
    {
     "name": "stderr",
     "output_type": "stream",
     "text": [
      "14:56:49 - cmdstanpy - INFO - Chain [1] done processing\n",
      "14:56:49 - cmdstanpy - INFO - Chain [1] start processing\n"
     ]
    },
    {
     "name": "stdout",
     "output_type": "stream",
     "text": [
      "There are 1 NaN values in the data.\n",
      "Root Mean Squared Error (RMSE): 19.34388333661614\n",
      "Root Mean Squared Logarithmic Error (RMSLE): 0.518209332498285\n",
      "\n",
      "Training model for store 22 and family 30...\n"
     ]
    },
    {
     "name": "stderr",
     "output_type": "stream",
     "text": [
      "14:56:49 - cmdstanpy - INFO - Chain [1] done processing\n",
      "14:56:50 - cmdstanpy - INFO - Chain [1] start processing\n"
     ]
    },
    {
     "name": "stdout",
     "output_type": "stream",
     "text": [
      "There are 1 NaN values in the data.\n",
      "Root Mean Squared Error (RMSE): 135.84919990677233\n",
      "Root Mean Squared Logarithmic Error (RMSLE): 0.5551773244711496\n",
      "\n",
      "Training model for store 22 and family 31...\n"
     ]
    },
    {
     "name": "stderr",
     "output_type": "stream",
     "text": [
      "14:56:50 - cmdstanpy - INFO - Chain [1] done processing\n",
      "14:56:50 - cmdstanpy - INFO - Chain [1] start processing\n"
     ]
    },
    {
     "name": "stdout",
     "output_type": "stream",
     "text": [
      "There are 1 NaN values in the data.\n",
      "Root Mean Squared Error (RMSE): 4.175195327257266\n",
      "Root Mean Squared Logarithmic Error (RMSLE): 1.5630870667869248\n",
      "\n",
      "Training model for store 22 and family 32...\n"
     ]
    },
    {
     "name": "stderr",
     "output_type": "stream",
     "text": [
      "14:56:50 - cmdstanpy - INFO - Chain [1] done processing\n",
      "14:56:50 - cmdstanpy - INFO - Chain [1] start processing\n"
     ]
    },
    {
     "name": "stdout",
     "output_type": "stream",
     "text": [
      "There are 1 NaN values in the data.\n",
      "Root Mean Squared Error (RMSE): 2.7331467479208618\n",
      "Root Mean Squared Logarithmic Error (RMSLE): 0.88897021981014\n",
      "\n",
      "Training model for store 23 and family 0...\n"
     ]
    },
    {
     "name": "stderr",
     "output_type": "stream",
     "text": [
      "14:56:50 - cmdstanpy - INFO - Chain [1] done processing\n"
     ]
    },
    {
     "name": "stdout",
     "output_type": "stream",
     "text": [
      "There are 1 NaN values in the data.\n",
      "Root Mean Squared Error (RMSE): 2.299511338080344\n",
      "Root Mean Squared Logarithmic Error (RMSLE): 0.6822371042707787\n",
      "\n",
      "Training model for store 23 and family 1...\n",
      "There are 1 NaN values in the data.\n",
      "Root Mean Squared Error (RMSE): 0.0\n",
      "Root Mean Squared Logarithmic Error (RMSLE): 0.0\n"
     ]
    },
    {
     "name": "stderr",
     "output_type": "stream",
     "text": [
      "14:56:51 - cmdstanpy - INFO - Chain [1] start processing\n",
      "14:56:51 - cmdstanpy - INFO - Chain [1] done processing\n"
     ]
    },
    {
     "name": "stdout",
     "output_type": "stream",
     "text": [
      "\n",
      "Training model for store 23 and family 2...\n",
      "There are 1 NaN values in the data.\n",
      "Root Mean Squared Error (RMSE): 2.054204279271989\n",
      "Root Mean Squared Logarithmic Error (RMSLE): 0.6607291039797667\n"
     ]
    },
    {
     "name": "stderr",
     "output_type": "stream",
     "text": [
      "14:56:51 - cmdstanpy - INFO - Chain [1] start processing\n",
      "14:56:51 - cmdstanpy - INFO - Chain [1] done processing\n"
     ]
    },
    {
     "name": "stdout",
     "output_type": "stream",
     "text": [
      "\n",
      "Training model for store 23 and family 3...\n",
      "There are 1 NaN values in the data.\n",
      "Root Mean Squared Error (RMSE): 315.5881997772979\n",
      "Root Mean Squared Logarithmic Error (RMSLE): 0.6097670305772408\n",
      "\n",
      "Training model for store 23 and family 4...\n"
     ]
    },
    {
     "name": "stderr",
     "output_type": "stream",
     "text": [
      "14:56:51 - cmdstanpy - INFO - Chain [1] start processing\n"
     ]
    },
    {
     "name": "stdout",
     "output_type": "stream",
     "text": [
      "There are 1 NaN values in the data.\n",
      "Root Mean Squared Error (RMSE): 0.7337993857053428\n",
      "Root Mean Squared Logarithmic Error (RMSLE): 0.38399850021839665\n",
      "\n",
      "Training model for store 23 and family 5...\n"
     ]
    },
    {
     "name": "stderr",
     "output_type": "stream",
     "text": [
      "14:56:52 - cmdstanpy - INFO - Chain [1] done processing\n",
      "14:56:52 - cmdstanpy - INFO - Chain [1] start processing\n"
     ]
    },
    {
     "name": "stdout",
     "output_type": "stream",
     "text": [
      "There are 1 NaN values in the data.\n",
      "Root Mean Squared Error (RMSE): 49.5363729680153\n",
      "Root Mean Squared Logarithmic Error (RMSLE): 0.4674176503791176\n",
      "\n",
      "Training model for store 23 and family 6...\n"
     ]
    },
    {
     "name": "stderr",
     "output_type": "stream",
     "text": [
      "14:56:52 - cmdstanpy - INFO - Chain [1] done processing\n",
      "14:56:52 - cmdstanpy - INFO - Chain [1] start processing\n"
     ]
    },
    {
     "name": "stdout",
     "output_type": "stream",
     "text": [
      "There are 1 NaN values in the data.\n",
      "Root Mean Squared Error (RMSE): 11.125220498958347\n",
      "Root Mean Squared Logarithmic Error (RMSLE): 0.6799395065699757\n",
      "\n",
      "Training model for store 23 and family 7...\n"
     ]
    },
    {
     "name": "stderr",
     "output_type": "stream",
     "text": [
      "14:56:52 - cmdstanpy - INFO - Chain [1] done processing\n",
      "14:56:52 - cmdstanpy - INFO - Chain [1] start processing\n"
     ]
    },
    {
     "name": "stdout",
     "output_type": "stream",
     "text": [
      "There are 1 NaN values in the data.\n",
      "Root Mean Squared Error (RMSE): 105.11725745749186\n",
      "Root Mean Squared Logarithmic Error (RMSLE): 0.530084802526334\n",
      "\n",
      "Training model for store 23 and family 8...\n"
     ]
    },
    {
     "name": "stderr",
     "output_type": "stream",
     "text": [
      "14:56:52 - cmdstanpy - INFO - Chain [1] done processing\n",
      "14:56:53 - cmdstanpy - INFO - Chain [1] start processing\n"
     ]
    },
    {
     "name": "stdout",
     "output_type": "stream",
     "text": [
      "There are 1 NaN values in the data.\n",
      "Root Mean Squared Error (RMSE): 96.00498031407514\n",
      "Root Mean Squared Logarithmic Error (RMSLE): 0.5230012814883196\n",
      "\n",
      "Training model for store 23 and family 9...\n"
     ]
    },
    {
     "name": "stderr",
     "output_type": "stream",
     "text": [
      "14:56:53 - cmdstanpy - INFO - Chain [1] done processing\n",
      "14:56:53 - cmdstanpy - INFO - Chain [1] start processing\n"
     ]
    },
    {
     "name": "stdout",
     "output_type": "stream",
     "text": [
      "There are 1 NaN values in the data.\n",
      "Root Mean Squared Error (RMSE): 34.83960534200441\n",
      "Root Mean Squared Logarithmic Error (RMSLE): 0.45338723762745475\n",
      "\n",
      "Training model for store 23 and family 10...\n"
     ]
    },
    {
     "name": "stderr",
     "output_type": "stream",
     "text": [
      "14:56:53 - cmdstanpy - INFO - Chain [1] done processing\n",
      "14:56:53 - cmdstanpy - INFO - Chain [1] start processing\n"
     ]
    },
    {
     "name": "stdout",
     "output_type": "stream",
     "text": [
      "There are 1 NaN values in the data.\n",
      "Root Mean Squared Error (RMSE): 11.783896033668489\n",
      "Root Mean Squared Logarithmic Error (RMSLE): 0.3763601821158856\n",
      "\n",
      "Training model for store 23 and family 11...\n"
     ]
    },
    {
     "name": "stderr",
     "output_type": "stream",
     "text": [
      "14:56:53 - cmdstanpy - INFO - Chain [1] done processing\n",
      "14:56:54 - cmdstanpy - INFO - Chain [1] start processing\n"
     ]
    },
    {
     "name": "stdout",
     "output_type": "stream",
     "text": [
      "There are 1 NaN values in the data.\n",
      "Root Mean Squared Error (RMSE): 126.6019428689859\n",
      "Root Mean Squared Logarithmic Error (RMSLE): 1.0135315779287093\n",
      "\n",
      "Training model for store 23 and family 12...\n"
     ]
    },
    {
     "name": "stderr",
     "output_type": "stream",
     "text": [
      "14:56:54 - cmdstanpy - INFO - Chain [1] done processing\n",
      "14:56:54 - cmdstanpy - INFO - Chain [1] start processing\n"
     ]
    },
    {
     "name": "stdout",
     "output_type": "stream",
     "text": [
      "There are 1 NaN values in the data.\n",
      "Root Mean Squared Error (RMSE): 373.28245261958205\n",
      "Root Mean Squared Logarithmic Error (RMSLE): 0.6260815215517365\n",
      "\n",
      "Training model for store 23 and family 13...\n"
     ]
    },
    {
     "name": "stderr",
     "output_type": "stream",
     "text": [
      "14:56:54 - cmdstanpy - INFO - Chain [1] done processing\n",
      "14:56:54 - cmdstanpy - INFO - Chain [1] start processing\n"
     ]
    },
    {
     "name": "stdout",
     "output_type": "stream",
     "text": [
      "There are 1 NaN values in the data.\n",
      "Root Mean Squared Error (RMSE): 13.803791984193124\n",
      "Root Mean Squared Logarithmic Error (RMSLE): 0.5257918034660962\n",
      "\n",
      "Training model for store 23 and family 14...\n"
     ]
    },
    {
     "name": "stderr",
     "output_type": "stream",
     "text": [
      "14:56:54 - cmdstanpy - INFO - Chain [1] done processing\n",
      "14:56:55 - cmdstanpy - INFO - Chain [1] start processing\n"
     ]
    },
    {
     "name": "stdout",
     "output_type": "stream",
     "text": [
      "There are 1 NaN values in the data.\n",
      "Root Mean Squared Error (RMSE): 0.7656917715475849\n",
      "Root Mean Squared Logarithmic Error (RMSLE): 0.4849050737377442\n",
      "\n",
      "Training model for store 23 and family 15...\n"
     ]
    },
    {
     "name": "stderr",
     "output_type": "stream",
     "text": [
      "14:56:55 - cmdstanpy - INFO - Chain [1] done processing\n",
      "14:56:55 - cmdstanpy - INFO - Chain [1] start processing\n"
     ]
    },
    {
     "name": "stdout",
     "output_type": "stream",
     "text": [
      "There are 1 NaN values in the data.\n",
      "Root Mean Squared Error (RMSE): 8.284062529109285\n",
      "Root Mean Squared Logarithmic Error (RMSLE): 0.693203228197427\n",
      "\n",
      "Training model for store 23 and family 16...\n"
     ]
    },
    {
     "name": "stderr",
     "output_type": "stream",
     "text": [
      "14:56:55 - cmdstanpy - INFO - Chain [1] done processing\n",
      "14:56:55 - cmdstanpy - INFO - Chain [1] start processing\n"
     ]
    },
    {
     "name": "stdout",
     "output_type": "stream",
     "text": [
      "There are 1 NaN values in the data.\n",
      "Root Mean Squared Error (RMSE): 23.75205665737501\n",
      "Root Mean Squared Logarithmic Error (RMSLE): 2.230984714003137\n",
      "\n",
      "Training model for store 23 and family 17...\n"
     ]
    },
    {
     "name": "stderr",
     "output_type": "stream",
     "text": [
      "14:56:55 - cmdstanpy - INFO - Chain [1] done processing\n",
      "14:56:55 - cmdstanpy - INFO - Chain [1] start processing\n"
     ]
    },
    {
     "name": "stdout",
     "output_type": "stream",
     "text": [
      "There are 1 NaN values in the data.\n",
      "Root Mean Squared Error (RMSE): 0.49281877369121607\n",
      "Root Mean Squared Logarithmic Error (RMSLE): 0.30096139784655956\n",
      "\n",
      "Training model for store 23 and family 18...\n"
     ]
    },
    {
     "name": "stderr",
     "output_type": "stream",
     "text": [
      "14:56:55 - cmdstanpy - INFO - Chain [1] done processing\n",
      "14:56:56 - cmdstanpy - INFO - Chain [1] start processing\n"
     ]
    },
    {
     "name": "stdout",
     "output_type": "stream",
     "text": [
      "There are 1 NaN values in the data.\n",
      "Root Mean Squared Error (RMSE): 48.62241693628036\n",
      "Root Mean Squared Logarithmic Error (RMSLE): 0.5140389542556049\n",
      "\n",
      "Training model for store 23 and family 19...\n"
     ]
    },
    {
     "name": "stderr",
     "output_type": "stream",
     "text": [
      "14:56:56 - cmdstanpy - INFO - Chain [1] done processing\n",
      "14:56:56 - cmdstanpy - INFO - Chain [1] start processing\n"
     ]
    },
    {
     "name": "stdout",
     "output_type": "stream",
     "text": [
      "There are 1 NaN values in the data.\n",
      "Root Mean Squared Error (RMSE): 7.146125216584615\n",
      "Root Mean Squared Logarithmic Error (RMSLE): 0.5835888408663904\n",
      "\n",
      "Training model for store 23 and family 20...\n"
     ]
    },
    {
     "name": "stderr",
     "output_type": "stream",
     "text": [
      "14:56:56 - cmdstanpy - INFO - Chain [1] done processing\n",
      "14:56:56 - cmdstanpy - INFO - Chain [1] start processing\n"
     ]
    },
    {
     "name": "stdout",
     "output_type": "stream",
     "text": [
      "There are 1 NaN values in the data.\n",
      "Root Mean Squared Error (RMSE): 8.061775801517358\n",
      "Root Mean Squared Logarithmic Error (RMSLE): 0.7246023324396192\n",
      "\n",
      "Training model for store 23 and family 21...\n"
     ]
    },
    {
     "name": "stderr",
     "output_type": "stream",
     "text": [
      "14:56:56 - cmdstanpy - INFO - Chain [1] done processing\n",
      "14:56:57 - cmdstanpy - INFO - Chain [1] start processing\n"
     ]
    },
    {
     "name": "stdout",
     "output_type": "stream",
     "text": [
      "There are 1 NaN values in the data.\n",
      "Root Mean Squared Error (RMSE): 3.64628142459844\n",
      "Root Mean Squared Logarithmic Error (RMSLE): 0.730053440650074\n",
      "\n",
      "Training model for store 23 and family 22...\n"
     ]
    },
    {
     "name": "stderr",
     "output_type": "stream",
     "text": [
      "14:56:57 - cmdstanpy - INFO - Chain [1] done processing\n",
      "14:56:57 - cmdstanpy - INFO - Chain [1] start processing\n"
     ]
    },
    {
     "name": "stdout",
     "output_type": "stream",
     "text": [
      "There are 1 NaN values in the data.\n",
      "Root Mean Squared Error (RMSE): 54.260496610607106\n",
      "Root Mean Squared Logarithmic Error (RMSLE): 1.076127689630604\n",
      "\n",
      "Training model for store 23 and family 23...\n"
     ]
    },
    {
     "name": "stderr",
     "output_type": "stream",
     "text": [
      "14:56:57 - cmdstanpy - INFO - Chain [1] done processing\n",
      "14:56:57 - cmdstanpy - INFO - Chain [1] start processing\n"
     ]
    },
    {
     "name": "stdout",
     "output_type": "stream",
     "text": [
      "There are 1 NaN values in the data.\n",
      "Root Mean Squared Error (RMSE): 3.3520584455510285\n",
      "Root Mean Squared Logarithmic Error (RMSLE): 0.6304496892448107\n",
      "\n",
      "Training model for store 23 and family 24...\n"
     ]
    },
    {
     "name": "stderr",
     "output_type": "stream",
     "text": [
      "14:56:57 - cmdstanpy - INFO - Chain [1] done processing\n"
     ]
    },
    {
     "name": "stdout",
     "output_type": "stream",
     "text": [
      "There are 1 NaN values in the data.\n",
      "Root Mean Squared Error (RMSE): 303.3291369721741\n",
      "Root Mean Squared Logarithmic Error (RMSLE): 0.70025297881685\n",
      "\n",
      "Training model for store 23 and family 25...\n"
     ]
    },
    {
     "name": "stderr",
     "output_type": "stream",
     "text": [
      "14:56:58 - cmdstanpy - INFO - Chain [1] start processing\n",
      "14:56:58 - cmdstanpy - INFO - Chain [1] done processing\n",
      "14:56:58 - cmdstanpy - INFO - Chain [1] start processing\n"
     ]
    },
    {
     "name": "stdout",
     "output_type": "stream",
     "text": [
      "There are 1 NaN values in the data.\n",
      "Root Mean Squared Error (RMSE): 38.613217327546266\n",
      "Root Mean Squared Logarithmic Error (RMSLE): 0.4680129792446569\n",
      "\n",
      "Training model for store 23 and family 26...\n"
     ]
    },
    {
     "name": "stderr",
     "output_type": "stream",
     "text": [
      "14:56:58 - cmdstanpy - INFO - Chain [1] done processing\n"
     ]
    },
    {
     "name": "stdout",
     "output_type": "stream",
     "text": [
      "There are 1 NaN values in the data.\n",
      "Root Mean Squared Error (RMSE): 2.8125969517781577\n",
      "Root Mean Squared Logarithmic Error (RMSLE): 0.6885478036605933\n",
      "\n",
      "Training model for store 23 and family 27...\n"
     ]
    },
    {
     "name": "stderr",
     "output_type": "stream",
     "text": [
      "14:56:58 - cmdstanpy - INFO - Chain [1] start processing\n",
      "14:56:58 - cmdstanpy - INFO - Chain [1] done processing\n",
      "14:56:58 - cmdstanpy - INFO - Chain [1] start processing\n"
     ]
    },
    {
     "name": "stdout",
     "output_type": "stream",
     "text": [
      "There are 1 NaN values in the data.\n",
      "Root Mean Squared Error (RMSE): 2.8583325904995527\n",
      "Root Mean Squared Logarithmic Error (RMSLE): 0.5889621773194204\n",
      "\n",
      "Training model for store 23 and family 28...\n"
     ]
    },
    {
     "name": "stderr",
     "output_type": "stream",
     "text": [
      "14:56:59 - cmdstanpy - INFO - Chain [1] done processing\n",
      "14:56:59 - cmdstanpy - INFO - Chain [1] start processing\n"
     ]
    },
    {
     "name": "stdout",
     "output_type": "stream",
     "text": [
      "There are 1 NaN values in the data.\n",
      "Root Mean Squared Error (RMSE): 92.80593887772052\n",
      "Root Mean Squared Logarithmic Error (RMSLE): 0.5502503977518981\n",
      "\n",
      "Training model for store 23 and family 29...\n"
     ]
    },
    {
     "name": "stderr",
     "output_type": "stream",
     "text": [
      "14:56:59 - cmdstanpy - INFO - Chain [1] done processing\n",
      "14:56:59 - cmdstanpy - INFO - Chain [1] start processing\n",
      "14:56:59 - cmdstanpy - INFO - Chain [1] done processing\n"
     ]
    },
    {
     "name": "stdout",
     "output_type": "stream",
     "text": [
      "There are 1 NaN values in the data.\n",
      "Root Mean Squared Error (RMSE): 15.779035634999735\n",
      "Root Mean Squared Logarithmic Error (RMSLE): 0.4795257994950418\n",
      "\n",
      "Training model for store 23 and family 30...\n"
     ]
    },
    {
     "name": "stderr",
     "output_type": "stream",
     "text": [
      "14:56:59 - cmdstanpy - INFO - Chain [1] start processing\n"
     ]
    },
    {
     "name": "stdout",
     "output_type": "stream",
     "text": [
      "There are 1 NaN values in the data.\n",
      "Root Mean Squared Error (RMSE): 544.7574402907757\n",
      "Root Mean Squared Logarithmic Error (RMSLE): 0.6785933008139394\n",
      "\n",
      "Training model for store 23 and family 31...\n"
     ]
    },
    {
     "name": "stderr",
     "output_type": "stream",
     "text": [
      "14:56:59 - cmdstanpy - INFO - Chain [1] done processing\n",
      "14:57:00 - cmdstanpy - INFO - Chain [1] start processing\n"
     ]
    },
    {
     "name": "stdout",
     "output_type": "stream",
     "text": [
      "There are 1 NaN values in the data.\n",
      "Root Mean Squared Error (RMSE): 0.970394481373561\n",
      "Root Mean Squared Logarithmic Error (RMSLE): 0.6317521589440109\n",
      "\n",
      "Training model for store 23 and family 32...\n"
     ]
    },
    {
     "name": "stderr",
     "output_type": "stream",
     "text": [
      "14:57:00 - cmdstanpy - INFO - Chain [1] done processing\n",
      "14:57:00 - cmdstanpy - INFO - Chain [1] start processing\n"
     ]
    },
    {
     "name": "stdout",
     "output_type": "stream",
     "text": [
      "There are 1 NaN values in the data.\n",
      "Root Mean Squared Error (RMSE): 6.125640759840693\n",
      "Root Mean Squared Logarithmic Error (RMSLE): 0.574283348681209\n",
      "\n",
      "Training model for store 24 and family 0...\n"
     ]
    },
    {
     "name": "stderr",
     "output_type": "stream",
     "text": [
      "14:57:00 - cmdstanpy - INFO - Chain [1] done processing\n",
      "14:57:00 - cmdstanpy - INFO - Chain [1] start processing\n"
     ]
    },
    {
     "name": "stdout",
     "output_type": "stream",
     "text": [
      "There are 1 NaN values in the data.\n",
      "Root Mean Squared Error (RMSE): 2.7492353663848093\n",
      "Root Mean Squared Logarithmic Error (RMSLE): 0.7203889314768035\n",
      "\n",
      "Training model for store 24 and family 1...\n"
     ]
    },
    {
     "name": "stderr",
     "output_type": "stream",
     "text": [
      "14:57:00 - cmdstanpy - INFO - Chain [1] done processing\n",
      "14:57:01 - cmdstanpy - INFO - Chain [1] start processing\n"
     ]
    },
    {
     "name": "stdout",
     "output_type": "stream",
     "text": [
      "There are 1 NaN values in the data.\n",
      "Root Mean Squared Error (RMSE): 0.4911061280677785\n",
      "Root Mean Squared Logarithmic Error (RMSLE): 0.29291337195930994\n",
      "\n",
      "Training model for store 24 and family 2...\n"
     ]
    },
    {
     "name": "stderr",
     "output_type": "stream",
     "text": [
      "14:57:01 - cmdstanpy - INFO - Chain [1] done processing\n",
      "14:57:01 - cmdstanpy - INFO - Chain [1] start processing\n"
     ]
    },
    {
     "name": "stdout",
     "output_type": "stream",
     "text": [
      "There are 1 NaN values in the data.\n",
      "Root Mean Squared Error (RMSE): 3.9675370740208664\n",
      "Root Mean Squared Logarithmic Error (RMSLE): 0.6183362144112324\n",
      "\n",
      "Training model for store 24 and family 3...\n"
     ]
    },
    {
     "name": "stderr",
     "output_type": "stream",
     "text": [
      "14:57:01 - cmdstanpy - INFO - Chain [1] done processing\n"
     ]
    },
    {
     "name": "stdout",
     "output_type": "stream",
     "text": [
      "There are 1 NaN values in the data.\n",
      "Root Mean Squared Error (RMSE): 847.7009132187444\n",
      "Root Mean Squared Logarithmic Error (RMSLE): 0.684311826141393\n",
      "\n",
      "Training model for store 24 and family 4...\n",
      "There are 1 NaN values in the data.\n",
      "Root Mean Squared Error (RMSE): 1.255755978254962\n",
      "Root Mean Squared Logarithmic Error (RMSLE): 0.6203854077071659\n"
     ]
    },
    {
     "name": "stderr",
     "output_type": "stream",
     "text": [
      "14:57:01 - cmdstanpy - INFO - Chain [1] start processing\n",
      "14:57:02 - cmdstanpy - INFO - Chain [1] done processing\n"
     ]
    },
    {
     "name": "stdout",
     "output_type": "stream",
     "text": [
      "\n",
      "Training model for store 24 and family 5...\n"
     ]
    },
    {
     "name": "stderr",
     "output_type": "stream",
     "text": [
      "14:57:02 - cmdstanpy - INFO - Chain [1] start processing\n"
     ]
    },
    {
     "name": "stdout",
     "output_type": "stream",
     "text": [
      "There are 1 NaN values in the data.\n",
      "Root Mean Squared Error (RMSE): 146.48302696074617\n",
      "Root Mean Squared Logarithmic Error (RMSLE): 0.5493296304128674\n",
      "\n",
      "Training model for store 24 and family 6...\n"
     ]
    },
    {
     "name": "stderr",
     "output_type": "stream",
     "text": [
      "14:57:02 - cmdstanpy - INFO - Chain [1] done processing\n",
      "14:57:02 - cmdstanpy - INFO - Chain [1] start processing\n"
     ]
    },
    {
     "name": "stdout",
     "output_type": "stream",
     "text": [
      "There are 1 NaN values in the data.\n",
      "Root Mean Squared Error (RMSE): 11.721805799232468\n",
      "Root Mean Squared Logarithmic Error (RMSLE): 0.7459533068194576\n",
      "\n",
      "Training model for store 24 and family 7...\n"
     ]
    },
    {
     "name": "stderr",
     "output_type": "stream",
     "text": [
      "14:57:02 - cmdstanpy - INFO - Chain [1] done processing\n",
      "14:57:03 - cmdstanpy - INFO - Chain [1] start processing\n"
     ]
    },
    {
     "name": "stdout",
     "output_type": "stream",
     "text": [
      "There are 1 NaN values in the data.\n",
      "Root Mean Squared Error (RMSE): 235.7303454088968\n",
      "Root Mean Squared Logarithmic Error (RMSLE): 0.5851591923799476\n",
      "\n",
      "Training model for store 24 and family 8...\n"
     ]
    },
    {
     "name": "stderr",
     "output_type": "stream",
     "text": [
      "14:57:03 - cmdstanpy - INFO - Chain [1] done processing\n",
      "14:57:03 - cmdstanpy - INFO - Chain [1] start processing\n"
     ]
    },
    {
     "name": "stdout",
     "output_type": "stream",
     "text": [
      "There are 1 NaN values in the data.\n",
      "Root Mean Squared Error (RMSE): 236.46279461121378\n",
      "Root Mean Squared Logarithmic Error (RMSLE): 0.5855718302864622\n",
      "\n",
      "Training model for store 24 and family 9...\n"
     ]
    },
    {
     "name": "stderr",
     "output_type": "stream",
     "text": [
      "14:57:03 - cmdstanpy - INFO - Chain [1] done processing\n",
      "14:57:03 - cmdstanpy - INFO - Chain [1] start processing\n"
     ]
    },
    {
     "name": "stdout",
     "output_type": "stream",
     "text": [
      "There are 1 NaN values in the data.\n",
      "Root Mean Squared Error (RMSE): 64.49676565541698\n",
      "Root Mean Squared Logarithmic Error (RMSLE): 0.4936440100612269\n",
      "\n",
      "Training model for store 24 and family 10...\n"
     ]
    },
    {
     "name": "stderr",
     "output_type": "stream",
     "text": [
      "14:57:03 - cmdstanpy - INFO - Chain [1] done processing\n",
      "14:57:04 - cmdstanpy - INFO - Chain [1] start processing\n"
     ]
    },
    {
     "name": "stdout",
     "output_type": "stream",
     "text": [
      "There are 1 NaN values in the data.\n",
      "Root Mean Squared Error (RMSE): 48.89467456749297\n",
      "Root Mean Squared Logarithmic Error (RMSLE): 0.4669111823188557\n",
      "\n",
      "Training model for store 24 and family 11...\n"
     ]
    },
    {
     "name": "stderr",
     "output_type": "stream",
     "text": [
      "14:57:04 - cmdstanpy - INFO - Chain [1] done processing\n",
      "14:57:04 - cmdstanpy - INFO - Chain [1] start processing\n"
     ]
    },
    {
     "name": "stdout",
     "output_type": "stream",
     "text": [
      "There are 1 NaN values in the data.\n",
      "Root Mean Squared Error (RMSE): 186.2119277044534\n",
      "Root Mean Squared Logarithmic Error (RMSLE): 1.183141121832064\n",
      "\n",
      "Training model for store 24 and family 12...\n"
     ]
    },
    {
     "name": "stderr",
     "output_type": "stream",
     "text": [
      "14:57:04 - cmdstanpy - INFO - Chain [1] done processing\n",
      "14:57:04 - cmdstanpy - INFO - Chain [1] start processing\n"
     ]
    },
    {
     "name": "stdout",
     "output_type": "stream",
     "text": [
      "There are 1 NaN values in the data.\n",
      "Root Mean Squared Error (RMSE): 1879.162244799411\n",
      "Root Mean Squared Logarithmic Error (RMSLE): 0.6898785111366917\n",
      "\n",
      "Training model for store 24 and family 13...\n"
     ]
    },
    {
     "name": "stderr",
     "output_type": "stream",
     "text": [
      "14:57:04 - cmdstanpy - INFO - Chain [1] done processing\n",
      "14:57:05 - cmdstanpy - INFO - Chain [1] start processing\n"
     ]
    },
    {
     "name": "stdout",
     "output_type": "stream",
     "text": [
      "There are 1 NaN values in the data.\n",
      "Root Mean Squared Error (RMSE): 148.30190232693147\n",
      "Root Mean Squared Logarithmic Error (RMSLE): 0.9506591956755004\n",
      "\n",
      "Training model for store 24 and family 14...\n"
     ]
    },
    {
     "name": "stderr",
     "output_type": "stream",
     "text": [
      "14:57:05 - cmdstanpy - INFO - Chain [1] done processing\n"
     ]
    },
    {
     "name": "stdout",
     "output_type": "stream",
     "text": [
      "There are 1 NaN values in the data.\n",
      "Root Mean Squared Error (RMSE): 1.4321551581947956\n",
      "Root Mean Squared Logarithmic Error (RMSLE): 0.5561581603955996\n",
      "\n",
      "Training model for store 24 and family 15...\n"
     ]
    },
    {
     "name": "stderr",
     "output_type": "stream",
     "text": [
      "14:57:05 - cmdstanpy - INFO - Chain [1] start processing\n",
      "14:57:05 - cmdstanpy - INFO - Chain [1] done processing\n",
      "14:57:05 - cmdstanpy - INFO - Chain [1] start processing\n"
     ]
    },
    {
     "name": "stdout",
     "output_type": "stream",
     "text": [
      "There are 1 NaN values in the data.\n",
      "Root Mean Squared Error (RMSE): 13.625621030177008\n",
      "Root Mean Squared Logarithmic Error (RMSLE): 0.6233711144119949\n",
      "\n",
      "Training model for store 24 and family 16...\n"
     ]
    },
    {
     "name": "stderr",
     "output_type": "stream",
     "text": [
      "14:57:05 - cmdstanpy - INFO - Chain [1] done processing\n",
      "14:57:06 - cmdstanpy - INFO - Chain [1] start processing\n",
      "14:57:06 - cmdstanpy - INFO - Chain [1] done processing\n"
     ]
    },
    {
     "name": "stdout",
     "output_type": "stream",
     "text": [
      "There are 1 NaN values in the data.\n",
      "Root Mean Squared Error (RMSE): 47.51179656330961\n",
      "Root Mean Squared Logarithmic Error (RMSLE): 3.1491683191269564\n",
      "\n",
      "Training model for store 24 and family 17...\n"
     ]
    },
    {
     "name": "stderr",
     "output_type": "stream",
     "text": [
      "14:57:06 - cmdstanpy - INFO - Chain [1] start processing\n"
     ]
    },
    {
     "name": "stdout",
     "output_type": "stream",
     "text": [
      "There are 1 NaN values in the data.\n",
      "Root Mean Squared Error (RMSE): 0.6723391378545767\n",
      "Root Mean Squared Logarithmic Error (RMSLE): 0.3780249989488403\n",
      "\n",
      "Training model for store 24 and family 18...\n"
     ]
    },
    {
     "name": "stderr",
     "output_type": "stream",
     "text": [
      "14:57:06 - cmdstanpy - INFO - Chain [1] done processing\n",
      "14:57:06 - cmdstanpy - INFO - Chain [1] start processing\n"
     ]
    },
    {
     "name": "stdout",
     "output_type": "stream",
     "text": [
      "There are 1 NaN values in the data.\n",
      "Root Mean Squared Error (RMSE): 82.5665277741719\n",
      "Root Mean Squared Logarithmic Error (RMSLE): 0.5276607895017705\n",
      "\n",
      "Training model for store 24 and family 19...\n"
     ]
    },
    {
     "name": "stderr",
     "output_type": "stream",
     "text": [
      "14:57:06 - cmdstanpy - INFO - Chain [1] done processing\n",
      "14:57:07 - cmdstanpy - INFO - Chain [1] start processing\n"
     ]
    },
    {
     "name": "stdout",
     "output_type": "stream",
     "text": [
      "There are 1 NaN values in the data.\n",
      "Root Mean Squared Error (RMSE): 8.931016747684188\n",
      "Root Mean Squared Logarithmic Error (RMSLE): 0.6916062509168268\n",
      "\n",
      "Training model for store 24 and family 20...\n"
     ]
    },
    {
     "name": "stderr",
     "output_type": "stream",
     "text": [
      "14:57:07 - cmdstanpy - INFO - Chain [1] done processing\n",
      "14:57:07 - cmdstanpy - INFO - Chain [1] start processing\n"
     ]
    },
    {
     "name": "stdout",
     "output_type": "stream",
     "text": [
      "There are 1 NaN values in the data.\n",
      "Root Mean Squared Error (RMSE): 33.4612516471164\n",
      "Root Mean Squared Logarithmic Error (RMSLE): 1.0080231819980694\n",
      "\n",
      "Training model for store 24 and family 21...\n"
     ]
    },
    {
     "name": "stderr",
     "output_type": "stream",
     "text": [
      "14:57:07 - cmdstanpy - INFO - Chain [1] done processing\n",
      "14:57:07 - cmdstanpy - INFO - Chain [1] start processing\n"
     ]
    },
    {
     "name": "stdout",
     "output_type": "stream",
     "text": [
      "There are 1 NaN values in the data.\n",
      "Root Mean Squared Error (RMSE): 6.892229391211026\n",
      "Root Mean Squared Logarithmic Error (RMSLE): 0.611437927346358\n",
      "\n",
      "Training model for store 24 and family 22...\n"
     ]
    },
    {
     "name": "stderr",
     "output_type": "stream",
     "text": [
      "14:57:07 - cmdstanpy - INFO - Chain [1] done processing\n",
      "14:57:08 - cmdstanpy - INFO - Chain [1] start processing\n"
     ]
    },
    {
     "name": "stdout",
     "output_type": "stream",
     "text": [
      "There are 1 NaN values in the data.\n",
      "Root Mean Squared Error (RMSE): 162.0290607059001\n",
      "Root Mean Squared Logarithmic Error (RMSLE): 0.8877669794504242\n",
      "\n",
      "Training model for store 24 and family 23...\n"
     ]
    },
    {
     "name": "stderr",
     "output_type": "stream",
     "text": [
      "14:57:08 - cmdstanpy - INFO - Chain [1] done processing\n",
      "14:57:08 - cmdstanpy - INFO - Chain [1] start processing\n"
     ]
    },
    {
     "name": "stdout",
     "output_type": "stream",
     "text": [
      "There are 1 NaN values in the data.\n",
      "Root Mean Squared Error (RMSE): 6.198723364017428\n",
      "Root Mean Squared Logarithmic Error (RMSLE): 0.5365591378150041\n",
      "\n",
      "Training model for store 24 and family 24...\n"
     ]
    },
    {
     "name": "stderr",
     "output_type": "stream",
     "text": [
      "14:57:08 - cmdstanpy - INFO - Chain [1] done processing\n",
      "14:57:08 - cmdstanpy - INFO - Chain [1] start processing\n"
     ]
    },
    {
     "name": "stdout",
     "output_type": "stream",
     "text": [
      "There are 1 NaN values in the data.\n",
      "Root Mean Squared Error (RMSE): 86.82778651872499\n",
      "Root Mean Squared Logarithmic Error (RMSLE): 0.4937643660510959\n",
      "\n",
      "Training model for store 24 and family 25...\n"
     ]
    },
    {
     "name": "stderr",
     "output_type": "stream",
     "text": [
      "14:57:08 - cmdstanpy - INFO - Chain [1] done processing\n",
      "14:57:09 - cmdstanpy - INFO - Chain [1] start processing\n"
     ]
    },
    {
     "name": "stdout",
     "output_type": "stream",
     "text": [
      "There are 1 NaN values in the data.\n",
      "Root Mean Squared Error (RMSE): 67.92670588466748\n",
      "Root Mean Squared Logarithmic Error (RMSLE): 0.5054630174126967\n",
      "\n",
      "Training model for store 24 and family 26...\n"
     ]
    },
    {
     "name": "stderr",
     "output_type": "stream",
     "text": [
      "14:57:09 - cmdstanpy - INFO - Chain [1] done processing\n",
      "14:57:09 - cmdstanpy - INFO - Chain [1] start processing\n"
     ]
    },
    {
     "name": "stdout",
     "output_type": "stream",
     "text": [
      "There are 1 NaN values in the data.\n",
      "Root Mean Squared Error (RMSE): 8.969143422407557\n",
      "Root Mean Squared Logarithmic Error (RMSLE): 0.5436753978096778\n",
      "\n",
      "Training model for store 24 and family 27...\n"
     ]
    },
    {
     "name": "stderr",
     "output_type": "stream",
     "text": [
      "14:57:09 - cmdstanpy - INFO - Chain [1] done processing\n",
      "14:57:09 - cmdstanpy - INFO - Chain [1] start processing\n"
     ]
    },
    {
     "name": "stdout",
     "output_type": "stream",
     "text": [
      "There are 1 NaN values in the data.\n",
      "Root Mean Squared Error (RMSE): 10.153506533515083\n",
      "Root Mean Squared Logarithmic Error (RMSLE): 0.8854426518293348\n",
      "\n",
      "Training model for store 24 and family 28...\n"
     ]
    },
    {
     "name": "stderr",
     "output_type": "stream",
     "text": [
      "14:57:09 - cmdstanpy - INFO - Chain [1] done processing\n",
      "14:57:10 - cmdstanpy - INFO - Chain [1] start processing\n"
     ]
    },
    {
     "name": "stdout",
     "output_type": "stream",
     "text": [
      "There are 1 NaN values in the data.\n",
      "Root Mean Squared Error (RMSE): 131.7168508834495\n",
      "Root Mean Squared Logarithmic Error (RMSLE): 0.5464602832919585\n",
      "\n",
      "Training model for store 24 and family 29...\n"
     ]
    },
    {
     "name": "stderr",
     "output_type": "stream",
     "text": [
      "14:57:10 - cmdstanpy - INFO - Chain [1] done processing\n",
      "14:57:10 - cmdstanpy - INFO - Chain [1] start processing\n"
     ]
    },
    {
     "name": "stdout",
     "output_type": "stream",
     "text": [
      "There are 1 NaN values in the data.\n",
      "Root Mean Squared Error (RMSE): 28.409442173749223\n",
      "Root Mean Squared Logarithmic Error (RMSLE): 0.4369151455293489\n",
      "\n",
      "Training model for store 24 and family 30...\n"
     ]
    },
    {
     "name": "stderr",
     "output_type": "stream",
     "text": [
      "14:57:10 - cmdstanpy - INFO - Chain [1] done processing\n",
      "14:57:11 - cmdstanpy - INFO - Chain [1] start processing\n"
     ]
    },
    {
     "name": "stdout",
     "output_type": "stream",
     "text": [
      "There are 1 NaN values in the data.\n",
      "Root Mean Squared Error (RMSE): 1813.7219688328166\n",
      "Root Mean Squared Logarithmic Error (RMSLE): 0.7819920499010443\n",
      "\n",
      "Training model for store 24 and family 31...\n"
     ]
    },
    {
     "name": "stderr",
     "output_type": "stream",
     "text": [
      "14:57:11 - cmdstanpy - INFO - Chain [1] done processing\n",
      "14:57:11 - cmdstanpy - INFO - Chain [1] start processing\n"
     ]
    },
    {
     "name": "stdout",
     "output_type": "stream",
     "text": [
      "There are 1 NaN values in the data.\n",
      "Root Mean Squared Error (RMSE): 5.906758111776791\n",
      "Root Mean Squared Logarithmic Error (RMSLE): 0.8392593208131799\n",
      "\n",
      "Training model for store 24 and family 32...\n"
     ]
    },
    {
     "name": "stderr",
     "output_type": "stream",
     "text": [
      "14:57:11 - cmdstanpy - INFO - Chain [1] done processing\n",
      "14:57:11 - cmdstanpy - INFO - Chain [1] start processing\n"
     ]
    },
    {
     "name": "stdout",
     "output_type": "stream",
     "text": [
      "There are 1 NaN values in the data.\n",
      "Root Mean Squared Error (RMSE): 11.546070009924069\n",
      "Root Mean Squared Logarithmic Error (RMSLE): 0.47452956756457493\n",
      "\n",
      "Training model for store 25 and family 0...\n"
     ]
    },
    {
     "name": "stderr",
     "output_type": "stream",
     "text": [
      "14:57:11 - cmdstanpy - INFO - Chain [1] done processing\n"
     ]
    },
    {
     "name": "stdout",
     "output_type": "stream",
     "text": [
      "There are 1 NaN values in the data.\n",
      "Root Mean Squared Error (RMSE): 3.170377018459215\n",
      "Root Mean Squared Logarithmic Error (RMSLE): 0.7056269141163667\n",
      "\n",
      "Training model for store 25 and family 1...\n"
     ]
    },
    {
     "name": "stderr",
     "output_type": "stream",
     "text": [
      "14:57:12 - cmdstanpy - INFO - Chain [1] start processing\n",
      "14:57:12 - cmdstanpy - INFO - Chain [1] done processing\n"
     ]
    },
    {
     "name": "stdout",
     "output_type": "stream",
     "text": [
      "There are 1 NaN values in the data.\n",
      "Root Mean Squared Error (RMSE): 0.3807498052542948\n",
      "Root Mean Squared Logarithmic Error (RMSLE): 0.21960595809420563\n",
      "\n",
      "Training model for store 25 and family 2...\n"
     ]
    },
    {
     "name": "stderr",
     "output_type": "stream",
     "text": [
      "14:57:12 - cmdstanpy - INFO - Chain [1] start processing\n"
     ]
    },
    {
     "name": "stdout",
     "output_type": "stream",
     "text": [
      "There are 1 NaN values in the data.\n",
      "Root Mean Squared Error (RMSE): 3.835391162622565\n",
      "Root Mean Squared Logarithmic Error (RMSLE): 0.7516876872657072\n",
      "\n",
      "Training model for store 25 and family 3...\n"
     ]
    },
    {
     "name": "stderr",
     "output_type": "stream",
     "text": [
      "14:57:12 - cmdstanpy - INFO - Chain [1] done processing\n"
     ]
    },
    {
     "name": "stdout",
     "output_type": "stream",
     "text": [
      "There are 1 NaN values in the data.\n",
      "Root Mean Squared Error (RMSE): 1549.1643586096216\n",
      "Root Mean Squared Logarithmic Error (RMSLE): 2.7669945428026814\n",
      "\n",
      "Training model for store 25 and family 4...\n",
      "There are 1 NaN values in the data.\n",
      "Root Mean Squared Error (RMSE): 0.9405399431259602\n",
      "Root Mean Squared Logarithmic Error (RMSLE): 0.46044506584518563\n"
     ]
    },
    {
     "name": "stderr",
     "output_type": "stream",
     "text": [
      "14:57:12 - cmdstanpy - INFO - Chain [1] start processing\n",
      "14:57:12 - cmdstanpy - INFO - Chain [1] done processing\n"
     ]
    },
    {
     "name": "stdout",
     "output_type": "stream",
     "text": [
      "\n",
      "Training model for store 25 and family 5...\n",
      "There are 1 NaN values in the data.\n",
      "Root Mean Squared Error (RMSE): 206.03591696610573\n",
      "Root Mean Squared Logarithmic Error (RMSLE): 2.0793115508173847\n"
     ]
    },
    {
     "name": "stderr",
     "output_type": "stream",
     "text": [
      "14:57:13 - cmdstanpy - INFO - Chain [1] start processing\n",
      "14:57:13 - cmdstanpy - INFO - Chain [1] done processing\n"
     ]
    },
    {
     "name": "stdout",
     "output_type": "stream",
     "text": [
      "\n",
      "Training model for store 25 and family 6...\n",
      "There are 1 NaN values in the data.\n",
      "Root Mean Squared Error (RMSE): 5.565875351888688\n",
      "Root Mean Squared Logarithmic Error (RMSLE): 0.98248966165098\n"
     ]
    },
    {
     "name": "stderr",
     "output_type": "stream",
     "text": [
      "14:57:13 - cmdstanpy - INFO - Chain [1] start processing\n",
      "14:57:13 - cmdstanpy - INFO - Chain [1] done processing\n"
     ]
    },
    {
     "name": "stdout",
     "output_type": "stream",
     "text": [
      "\n",
      "Training model for store 25 and family 7...\n",
      "There are 1 NaN values in the data.\n",
      "Root Mean Squared Error (RMSE): 304.98725177024534\n",
      "Root Mean Squared Logarithmic Error (RMSLE): 2.1848597473699907\n"
     ]
    },
    {
     "name": "stderr",
     "output_type": "stream",
     "text": [
      "14:57:13 - cmdstanpy - INFO - Chain [1] start processing\n",
      "14:57:13 - cmdstanpy - INFO - Chain [1] done processing\n"
     ]
    },
    {
     "name": "stdout",
     "output_type": "stream",
     "text": [
      "\n",
      "Training model for store 25 and family 8...\n",
      "There are 1 NaN values in the data.\n",
      "Root Mean Squared Error (RMSE): 363.87879807538536\n",
      "Root Mean Squared Logarithmic Error (RMSLE): 2.2457903997076945\n"
     ]
    },
    {
     "name": "stderr",
     "output_type": "stream",
     "text": [
      "14:57:14 - cmdstanpy - INFO - Chain [1] start processing\n",
      "14:57:14 - cmdstanpy - INFO - Chain [1] done processing\n"
     ]
    },
    {
     "name": "stdout",
     "output_type": "stream",
     "text": [
      "\n",
      "Training model for store 25 and family 9...\n",
      "There are 1 NaN values in the data.\n",
      "Root Mean Squared Error (RMSE): 97.80105700514089\n",
      "Root Mean Squared Logarithmic Error (RMSLE): 1.8329063689117258\n"
     ]
    },
    {
     "name": "stderr",
     "output_type": "stream",
     "text": [
      "14:57:14 - cmdstanpy - INFO - Chain [1] start processing\n",
      "14:57:14 - cmdstanpy - INFO - Chain [1] done processing\n"
     ]
    },
    {
     "name": "stdout",
     "output_type": "stream",
     "text": [
      "\n",
      "Training model for store 25 and family 10...\n",
      "There are 1 NaN values in the data.\n",
      "Root Mean Squared Error (RMSE): 79.32243126871273\n",
      "Root Mean Squared Logarithmic Error (RMSLE): 1.7558265097022032\n"
     ]
    },
    {
     "name": "stderr",
     "output_type": "stream",
     "text": [
      "14:57:14 - cmdstanpy - INFO - Chain [1] start processing\n",
      "14:57:14 - cmdstanpy - INFO - Chain [1] done processing\n"
     ]
    },
    {
     "name": "stdout",
     "output_type": "stream",
     "text": [
      "\n",
      "Training model for store 25 and family 11...\n"
     ]
    },
    {
     "name": "stderr",
     "output_type": "stream",
     "text": [
      "14:57:14 - cmdstanpy - INFO - Chain [1] start processing\n"
     ]
    },
    {
     "name": "stdout",
     "output_type": "stream",
     "text": [
      "There are 1 NaN values in the data.\n",
      "Root Mean Squared Error (RMSE): 238.1886625963579\n",
      "Root Mean Squared Logarithmic Error (RMSLE): 2.533747891950774\n",
      "\n",
      "Training model for store 25 and family 12...\n"
     ]
    },
    {
     "name": "stderr",
     "output_type": "stream",
     "text": [
      "14:57:14 - cmdstanpy - INFO - Chain [1] done processing\n",
      "14:57:15 - cmdstanpy - INFO - Chain [1] start processing\n"
     ]
    },
    {
     "name": "stdout",
     "output_type": "stream",
     "text": [
      "There are 1 NaN values in the data.\n",
      "Root Mean Squared Error (RMSE): 1113.5043512678133\n",
      "Root Mean Squared Logarithmic Error (RMSLE): 2.6846342641092615\n",
      "\n",
      "Training model for store 25 and family 13...\n"
     ]
    },
    {
     "name": "stderr",
     "output_type": "stream",
     "text": [
      "14:57:15 - cmdstanpy - INFO - Chain [1] done processing\n",
      "14:57:15 - cmdstanpy - INFO - Chain [1] start processing\n"
     ]
    },
    {
     "name": "stdout",
     "output_type": "stream",
     "text": [
      "There are 1 NaN values in the data.\n",
      "Root Mean Squared Error (RMSE): 14.847747959036404\n",
      "Root Mean Squared Logarithmic Error (RMSLE): 1.598999978151914\n",
      "\n",
      "Training model for store 25 and family 14...\n"
     ]
    },
    {
     "name": "stderr",
     "output_type": "stream",
     "text": [
      "14:57:15 - cmdstanpy - INFO - Chain [1] done processing\n",
      "14:57:15 - cmdstanpy - INFO - Chain [1] start processing\n"
     ]
    },
    {
     "name": "stdout",
     "output_type": "stream",
     "text": [
      "There are 1 NaN values in the data.\n",
      "Root Mean Squared Error (RMSE): 1.543565569605651\n",
      "Root Mean Squared Logarithmic Error (RMSLE): 0.5689244494381704\n",
      "\n",
      "Training model for store 25 and family 15...\n"
     ]
    },
    {
     "name": "stderr",
     "output_type": "stream",
     "text": [
      "14:57:15 - cmdstanpy - INFO - Chain [1] done processing\n",
      "14:57:16 - cmdstanpy - INFO - Chain [1] start processing\n"
     ]
    },
    {
     "name": "stdout",
     "output_type": "stream",
     "text": [
      "There are 1 NaN values in the data.\n",
      "Root Mean Squared Error (RMSE): 44.41001715834436\n",
      "Root Mean Squared Logarithmic Error (RMSLE): 1.5077319813969137\n",
      "\n",
      "Training model for store 25 and family 16...\n"
     ]
    },
    {
     "name": "stderr",
     "output_type": "stream",
     "text": [
      "14:57:16 - cmdstanpy - INFO - Chain [1] done processing\n",
      "14:57:16 - cmdstanpy - INFO - Chain [1] start processing\n"
     ]
    },
    {
     "name": "stdout",
     "output_type": "stream",
     "text": [
      "There are 1 NaN values in the data.\n",
      "Root Mean Squared Error (RMSE): 31.780019117521537\n",
      "Root Mean Squared Logarithmic Error (RMSLE): 2.600221084725344\n",
      "\n",
      "Training model for store 25 and family 17...\n"
     ]
    },
    {
     "name": "stderr",
     "output_type": "stream",
     "text": [
      "14:57:16 - cmdstanpy - INFO - Chain [1] done processing\n",
      "14:57:16 - cmdstanpy - INFO - Chain [1] start processing\n"
     ]
    },
    {
     "name": "stdout",
     "output_type": "stream",
     "text": [
      "There are 1 NaN values in the data.\n",
      "Root Mean Squared Error (RMSE): 0.678318429192295\n",
      "Root Mean Squared Logarithmic Error (RMSLE): 0.3765381099669495\n",
      "\n",
      "Training model for store 25 and family 18...\n"
     ]
    },
    {
     "name": "stderr",
     "output_type": "stream",
     "text": [
      "14:57:16 - cmdstanpy - INFO - Chain [1] done processing\n"
     ]
    },
    {
     "name": "stdout",
     "output_type": "stream",
     "text": [
      "There are 1 NaN values in the data.\n",
      "Root Mean Squared Error (RMSE): 71.43872199644274\n",
      "Root Mean Squared Logarithmic Error (RMSLE): 1.7719432939600024\n",
      "\n",
      "Training model for store 25 and family 19...\n"
     ]
    },
    {
     "name": "stderr",
     "output_type": "stream",
     "text": [
      "14:57:17 - cmdstanpy - INFO - Chain [1] start processing\n",
      "14:57:17 - cmdstanpy - INFO - Chain [1] done processing\n"
     ]
    },
    {
     "name": "stdout",
     "output_type": "stream",
     "text": [
      "There are 1 NaN values in the data.\n",
      "Root Mean Squared Error (RMSE): 0.0\n",
      "Root Mean Squared Logarithmic Error (RMSLE): 0.0\n",
      "\n",
      "Training model for store 25 and family 20...\n"
     ]
    },
    {
     "name": "stderr",
     "output_type": "stream",
     "text": [
      "14:57:17 - cmdstanpy - INFO - Chain [1] start processing\n"
     ]
    },
    {
     "name": "stdout",
     "output_type": "stream",
     "text": [
      "There are 1 NaN values in the data.\n",
      "Root Mean Squared Error (RMSE): 32.33367319887831\n",
      "Root Mean Squared Logarithmic Error (RMSLE): 1.8397943815134934\n",
      "\n",
      "Training model for store 25 and family 21...\n"
     ]
    },
    {
     "name": "stderr",
     "output_type": "stream",
     "text": [
      "14:57:17 - cmdstanpy - INFO - Chain [1] done processing\n",
      "14:57:17 - cmdstanpy - INFO - Chain [1] start processing\n"
     ]
    },
    {
     "name": "stdout",
     "output_type": "stream",
     "text": [
      "There are 1 NaN values in the data.\n",
      "Root Mean Squared Error (RMSE): 7.058202796351029\n",
      "Root Mean Squared Logarithmic Error (RMSLE): 1.3534447204892246\n",
      "\n",
      "Training model for store 25 and family 22...\n"
     ]
    },
    {
     "name": "stderr",
     "output_type": "stream",
     "text": [
      "14:57:17 - cmdstanpy - INFO - Chain [1] done processing\n",
      "14:57:18 - cmdstanpy - INFO - Chain [1] start processing\n"
     ]
    },
    {
     "name": "stdout",
     "output_type": "stream",
     "text": [
      "There are 1 NaN values in the data.\n",
      "Root Mean Squared Error (RMSE): 260.92041389528345\n",
      "Root Mean Squared Logarithmic Error (RMSLE): 2.1475887163322183\n",
      "\n",
      "Training model for store 25 and family 23...\n"
     ]
    },
    {
     "name": "stderr",
     "output_type": "stream",
     "text": [
      "14:57:18 - cmdstanpy - INFO - Chain [1] done processing\n",
      "14:57:18 - cmdstanpy - INFO - Chain [1] start processing\n"
     ]
    },
    {
     "name": "stdout",
     "output_type": "stream",
     "text": [
      "There are 1 NaN values in the data.\n",
      "Root Mean Squared Error (RMSE): 6.9787265140417\n",
      "Root Mean Squared Logarithmic Error (RMSLE): 0.988157415717676\n",
      "\n",
      "Training model for store 25 and family 24...\n"
     ]
    },
    {
     "name": "stderr",
     "output_type": "stream",
     "text": [
      "14:57:18 - cmdstanpy - INFO - Chain [1] done processing\n"
     ]
    },
    {
     "name": "stdout",
     "output_type": "stream",
     "text": [
      "There are 1 NaN values in the data.\n",
      "Root Mean Squared Error (RMSE): 116.4213341167034\n",
      "Root Mean Squared Logarithmic Error (RMSLE): 1.9028878115072487\n",
      "\n",
      "Training model for store 25 and family 25...\n"
     ]
    },
    {
     "name": "stderr",
     "output_type": "stream",
     "text": [
      "14:57:18 - cmdstanpy - INFO - Chain [1] start processing\n",
      "14:57:18 - cmdstanpy - INFO - Chain [1] done processing\n",
      "14:57:19 - cmdstanpy - INFO - Chain [1] start processing\n"
     ]
    },
    {
     "name": "stdout",
     "output_type": "stream",
     "text": [
      "There are 1 NaN values in the data.\n",
      "Root Mean Squared Error (RMSE): 76.27389400806676\n",
      "Root Mean Squared Logarithmic Error (RMSLE): 1.6826916740555975\n",
      "\n",
      "Training model for store 25 and family 26...\n"
     ]
    },
    {
     "name": "stderr",
     "output_type": "stream",
     "text": [
      "14:57:19 - cmdstanpy - INFO - Chain [1] done processing\n",
      "14:57:19 - cmdstanpy - INFO - Chain [1] start processing\n"
     ]
    },
    {
     "name": "stdout",
     "output_type": "stream",
     "text": [
      "There are 1 NaN values in the data.\n",
      "Root Mean Squared Error (RMSE): 3.254272337750315\n",
      "Root Mean Squared Logarithmic Error (RMSLE): 0.8170288479939822\n",
      "\n",
      "Training model for store 25 and family 27...\n"
     ]
    },
    {
     "name": "stderr",
     "output_type": "stream",
     "text": [
      "14:57:19 - cmdstanpy - INFO - Chain [1] done processing\n",
      "14:57:19 - cmdstanpy - INFO - Chain [1] start processing\n"
     ]
    },
    {
     "name": "stdout",
     "output_type": "stream",
     "text": [
      "There are 1 NaN values in the data.\n",
      "Root Mean Squared Error (RMSE): 8.069415863182739\n",
      "Root Mean Squared Logarithmic Error (RMSLE): 0.9075464756631724\n",
      "\n",
      "Training model for store 25 and family 28...\n"
     ]
    },
    {
     "name": "stderr",
     "output_type": "stream",
     "text": [
      "14:57:19 - cmdstanpy - INFO - Chain [1] done processing\n",
      "14:57:20 - cmdstanpy - INFO - Chain [1] start processing\n"
     ]
    },
    {
     "name": "stdout",
     "output_type": "stream",
     "text": [
      "There are 1 NaN values in the data.\n",
      "Root Mean Squared Error (RMSE): 105.65447647414815\n",
      "Root Mean Squared Logarithmic Error (RMSLE): 1.8347994125763558\n",
      "\n",
      "Training model for store 25 and family 29...\n"
     ]
    },
    {
     "name": "stderr",
     "output_type": "stream",
     "text": [
      "14:57:20 - cmdstanpy - INFO - Chain [1] done processing\n",
      "14:57:20 - cmdstanpy - INFO - Chain [1] start processing\n"
     ]
    },
    {
     "name": "stdout",
     "output_type": "stream",
     "text": [
      "There are 1 NaN values in the data.\n",
      "Root Mean Squared Error (RMSE): 28.608011028393456\n",
      "Root Mean Squared Logarithmic Error (RMSLE): 1.6174478387070323\n",
      "\n",
      "Training model for store 25 and family 30...\n"
     ]
    },
    {
     "name": "stderr",
     "output_type": "stream",
     "text": [
      "14:57:20 - cmdstanpy - INFO - Chain [1] done processing\n",
      "14:57:20 - cmdstanpy - INFO - Chain [1] start processing\n"
     ]
    },
    {
     "name": "stdout",
     "output_type": "stream",
     "text": [
      "There are 1 NaN values in the data.\n",
      "Root Mean Squared Error (RMSE): 1208.9047726893057\n",
      "Root Mean Squared Logarithmic Error (RMSLE): 2.710088879504576\n",
      "\n",
      "Training model for store 25 and family 31...\n"
     ]
    },
    {
     "name": "stderr",
     "output_type": "stream",
     "text": [
      "14:57:20 - cmdstanpy - INFO - Chain [1] done processing\n",
      "14:57:20 - cmdstanpy - INFO - Chain [1] start processing\n",
      "14:57:20 - cmdstanpy - INFO - Chain [1] done processing\n"
     ]
    },
    {
     "name": "stdout",
     "output_type": "stream",
     "text": [
      "There are 1 NaN values in the data.\n",
      "Root Mean Squared Error (RMSE): 3.7010757197700626\n",
      "Root Mean Squared Logarithmic Error (RMSLE): 0.8307242139705707\n",
      "\n",
      "Training model for store 25 and family 32...\n"
     ]
    },
    {
     "name": "stderr",
     "output_type": "stream",
     "text": [
      "14:57:21 - cmdstanpy - INFO - Chain [1] start processing\n"
     ]
    },
    {
     "name": "stdout",
     "output_type": "stream",
     "text": [
      "There are 1 NaN values in the data.\n",
      "Root Mean Squared Error (RMSE): 6.513648626134126\n",
      "Root Mean Squared Logarithmic Error (RMSLE): 0.9240042802463722\n",
      "\n",
      "Training model for store 26 and family 0...\n"
     ]
    },
    {
     "name": "stderr",
     "output_type": "stream",
     "text": [
      "14:57:21 - cmdstanpy - INFO - Chain [1] done processing\n",
      "14:57:21 - cmdstanpy - INFO - Chain [1] start processing\n"
     ]
    },
    {
     "name": "stdout",
     "output_type": "stream",
     "text": [
      "There are 1 NaN values in the data.\n",
      "Root Mean Squared Error (RMSE): 2.9795890507899063\n",
      "Root Mean Squared Logarithmic Error (RMSLE): 0.6172188656256498\n",
      "\n",
      "Training model for store 26 and family 1...\n"
     ]
    },
    {
     "name": "stderr",
     "output_type": "stream",
     "text": [
      "14:57:21 - cmdstanpy - INFO - Chain [1] done processing\n",
      "14:57:21 - cmdstanpy - INFO - Chain [1] start processing\n"
     ]
    },
    {
     "name": "stdout",
     "output_type": "stream",
     "text": [
      "There are 1 NaN values in the data.\n",
      "Root Mean Squared Error (RMSE): 1.5533990689037847\n",
      "Root Mean Squared Logarithmic Error (RMSLE): 0.9160230660719739\n",
      "\n",
      "Training model for store 26 and family 2...\n"
     ]
    },
    {
     "name": "stderr",
     "output_type": "stream",
     "text": [
      "14:57:21 - cmdstanpy - INFO - Chain [1] done processing\n",
      "14:57:22 - cmdstanpy - INFO - Chain [1] start processing\n"
     ]
    },
    {
     "name": "stdout",
     "output_type": "stream",
     "text": [
      "There are 1 NaN values in the data.\n",
      "Root Mean Squared Error (RMSE): 1.472786331198798\n",
      "Root Mean Squared Logarithmic Error (RMSLE): 0.6764349651442833\n",
      "\n",
      "Training model for store 26 and family 3...\n"
     ]
    },
    {
     "name": "stderr",
     "output_type": "stream",
     "text": [
      "14:57:22 - cmdstanpy - INFO - Chain [1] done processing\n"
     ]
    },
    {
     "name": "stdout",
     "output_type": "stream",
     "text": [
      "There are 1 NaN values in the data.\n",
      "Root Mean Squared Error (RMSE): 888.6337289792414\n",
      "Root Mean Squared Logarithmic Error (RMSLE): 0.6921301796285598\n",
      "\n",
      "Training model for store 26 and family 4...\n",
      "There are 1 NaN values in the data.\n",
      "Root Mean Squared Error (RMSE): 0.20351933162035313\n",
      "Root Mean Squared Logarithmic Error (RMSLE): 0.14106885090209229\n"
     ]
    },
    {
     "name": "stderr",
     "output_type": "stream",
     "text": [
      "14:57:22 - cmdstanpy - INFO - Chain [1] start processing\n",
      "14:57:22 - cmdstanpy - INFO - Chain [1] done processing\n"
     ]
    },
    {
     "name": "stdout",
     "output_type": "stream",
     "text": [
      "\n",
      "Training model for store 26 and family 5...\n"
     ]
    },
    {
     "name": "stderr",
     "output_type": "stream",
     "text": [
      "14:57:23 - cmdstanpy - INFO - Chain [1] start processing\n"
     ]
    },
    {
     "name": "stdout",
     "output_type": "stream",
     "text": [
      "There are 1 NaN values in the data.\n",
      "Root Mean Squared Error (RMSE): 70.22523687651453\n",
      "Root Mean Squared Logarithmic Error (RMSLE): 0.5587669137748602\n",
      "\n",
      "Training model for store 26 and family 6...\n"
     ]
    },
    {
     "name": "stderr",
     "output_type": "stream",
     "text": [
      "14:57:23 - cmdstanpy - INFO - Chain [1] done processing\n",
      "14:57:23 - cmdstanpy - INFO - Chain [1] start processing\n"
     ]
    },
    {
     "name": "stdout",
     "output_type": "stream",
     "text": [
      "There are 1 NaN values in the data.\n",
      "Root Mean Squared Error (RMSE): 4.643954590603811\n",
      "Root Mean Squared Logarithmic Error (RMSLE): 0.7682868792612219\n",
      "\n",
      "Training model for store 26 and family 7...\n"
     ]
    },
    {
     "name": "stderr",
     "output_type": "stream",
     "text": [
      "14:57:23 - cmdstanpy - INFO - Chain [1] done processing\n",
      "14:57:23 - cmdstanpy - INFO - Chain [1] start processing\n"
     ]
    },
    {
     "name": "stdout",
     "output_type": "stream",
     "text": [
      "There are 1 NaN values in the data.\n",
      "Root Mean Squared Error (RMSE): 180.27410796891215\n",
      "Root Mean Squared Logarithmic Error (RMSLE): 0.6216994642821279\n",
      "\n",
      "Training model for store 26 and family 8...\n"
     ]
    },
    {
     "name": "stderr",
     "output_type": "stream",
     "text": [
      "14:57:23 - cmdstanpy - INFO - Chain [1] done processing\n",
      "14:57:24 - cmdstanpy - INFO - Chain [1] start processing\n"
     ]
    },
    {
     "name": "stdout",
     "output_type": "stream",
     "text": [
      "There are 1 NaN values in the data.\n",
      "Root Mean Squared Error (RMSE): 88.39084197650571\n",
      "Root Mean Squared Logarithmic Error (RMSLE): 0.5424958553649162\n",
      "\n",
      "Training model for store 26 and family 9...\n"
     ]
    },
    {
     "name": "stderr",
     "output_type": "stream",
     "text": [
      "14:57:24 - cmdstanpy - INFO - Chain [1] done processing\n",
      "14:57:24 - cmdstanpy - INFO - Chain [1] start processing\n"
     ]
    },
    {
     "name": "stdout",
     "output_type": "stream",
     "text": [
      "There are 1 NaN values in the data.\n",
      "Root Mean Squared Error (RMSE): 34.33632677821833\n",
      "Root Mean Squared Logarithmic Error (RMSLE): 0.5385529136391407\n",
      "\n",
      "Training model for store 26 and family 10...\n"
     ]
    },
    {
     "name": "stderr",
     "output_type": "stream",
     "text": [
      "14:57:24 - cmdstanpy - INFO - Chain [1] done processing\n",
      "14:57:24 - cmdstanpy - INFO - Chain [1] start processing\n"
     ]
    },
    {
     "name": "stdout",
     "output_type": "stream",
     "text": [
      "There are 1 NaN values in the data.\n",
      "Root Mean Squared Error (RMSE): 12.922993243432833\n",
      "Root Mean Squared Logarithmic Error (RMSLE): 0.47543634394579004\n",
      "\n",
      "Training model for store 26 and family 11...\n"
     ]
    },
    {
     "name": "stderr",
     "output_type": "stream",
     "text": [
      "14:57:24 - cmdstanpy - INFO - Chain [1] done processing\n",
      "14:57:24 - cmdstanpy - INFO - Chain [1] start processing\n"
     ]
    },
    {
     "name": "stdout",
     "output_type": "stream",
     "text": [
      "There are 1 NaN values in the data.\n",
      "Root Mean Squared Error (RMSE): 122.4571212355996\n",
      "Root Mean Squared Logarithmic Error (RMSLE): 1.429959919131148\n",
      "\n",
      "Training model for store 26 and family 12...\n"
     ]
    },
    {
     "name": "stderr",
     "output_type": "stream",
     "text": [
      "14:57:24 - cmdstanpy - INFO - Chain [1] done processing\n",
      "14:57:25 - cmdstanpy - INFO - Chain [1] start processing\n"
     ]
    },
    {
     "name": "stdout",
     "output_type": "stream",
     "text": [
      "There are 1 NaN values in the data.\n",
      "Root Mean Squared Error (RMSE): 956.9291862615141\n",
      "Root Mean Squared Logarithmic Error (RMSLE): 0.7177625731026563\n",
      "\n",
      "Training model for store 26 and family 13...\n"
     ]
    },
    {
     "name": "stderr",
     "output_type": "stream",
     "text": [
      "14:57:25 - cmdstanpy - INFO - Chain [1] done processing\n",
      "14:57:25 - cmdstanpy - INFO - Chain [1] start processing\n"
     ]
    },
    {
     "name": "stdout",
     "output_type": "stream",
     "text": [
      "There are 1 NaN values in the data.\n",
      "Root Mean Squared Error (RMSE): 8.676992434242596\n",
      "Root Mean Squared Logarithmic Error (RMSLE): 1.2434367910944888\n",
      "\n",
      "Training model for store 26 and family 14...\n"
     ]
    },
    {
     "name": "stderr",
     "output_type": "stream",
     "text": [
      "14:57:25 - cmdstanpy - INFO - Chain [1] done processing\n",
      "14:57:25 - cmdstanpy - INFO - Chain [1] start processing\n"
     ]
    },
    {
     "name": "stdout",
     "output_type": "stream",
     "text": [
      "There are 1 NaN values in the data.\n",
      "Root Mean Squared Error (RMSE): 1.4271670256297888\n",
      "Root Mean Squared Logarithmic Error (RMSLE): 0.5715974406293453\n",
      "\n",
      "Training model for store 26 and family 15...\n"
     ]
    },
    {
     "name": "stderr",
     "output_type": "stream",
     "text": [
      "14:57:25 - cmdstanpy - INFO - Chain [1] done processing\n",
      "14:57:26 - cmdstanpy - INFO - Chain [1] start processing\n"
     ]
    },
    {
     "name": "stdout",
     "output_type": "stream",
     "text": [
      "There are 1 NaN values in the data.\n",
      "Root Mean Squared Error (RMSE): 11.280505107327578\n",
      "Root Mean Squared Logarithmic Error (RMSLE): 0.7125943954179635\n",
      "\n",
      "Training model for store 26 and family 16...\n"
     ]
    },
    {
     "name": "stderr",
     "output_type": "stream",
     "text": [
      "14:57:26 - cmdstanpy - INFO - Chain [1] done processing\n",
      "14:57:26 - cmdstanpy - INFO - Chain [1] start processing\n"
     ]
    },
    {
     "name": "stdout",
     "output_type": "stream",
     "text": [
      "There are 1 NaN values in the data.\n",
      "Root Mean Squared Error (RMSE): 9.117701106660238\n",
      "Root Mean Squared Logarithmic Error (RMSLE): 1.159556512050569\n",
      "\n",
      "Training model for store 26 and family 17...\n"
     ]
    },
    {
     "name": "stderr",
     "output_type": "stream",
     "text": [
      "14:57:26 - cmdstanpy - INFO - Chain [1] done processing\n",
      "14:57:26 - cmdstanpy - INFO - Chain [1] start processing\n"
     ]
    },
    {
     "name": "stdout",
     "output_type": "stream",
     "text": [
      "There are 1 NaN values in the data.\n",
      "Root Mean Squared Error (RMSE): 0.7075373361108507\n",
      "Root Mean Squared Logarithmic Error (RMSLE): 0.40087472704579424\n",
      "\n",
      "Training model for store 26 and family 18...\n"
     ]
    },
    {
     "name": "stderr",
     "output_type": "stream",
     "text": [
      "14:57:26 - cmdstanpy - INFO - Chain [1] done processing\n",
      "14:57:26 - cmdstanpy - INFO - Chain [1] start processing\n"
     ]
    },
    {
     "name": "stdout",
     "output_type": "stream",
     "text": [
      "There are 1 NaN values in the data.\n",
      "Root Mean Squared Error (RMSE): 38.767383509601686\n",
      "Root Mean Squared Logarithmic Error (RMSLE): 0.5744962235519646\n",
      "\n",
      "Training model for store 26 and family 19...\n"
     ]
    },
    {
     "name": "stderr",
     "output_type": "stream",
     "text": [
      "14:57:26 - cmdstanpy - INFO - Chain [1] done processing\n",
      "14:57:27 - cmdstanpy - INFO - Chain [1] start processing\n"
     ]
    },
    {
     "name": "stdout",
     "output_type": "stream",
     "text": [
      "There are 1 NaN values in the data.\n",
      "Root Mean Squared Error (RMSE): 1.3014031051890071\n",
      "Root Mean Squared Logarithmic Error (RMSLE): 0.612771034983856\n",
      "\n",
      "Training model for store 26 and family 20...\n"
     ]
    },
    {
     "name": "stderr",
     "output_type": "stream",
     "text": [
      "14:57:27 - cmdstanpy - INFO - Chain [1] done processing\n",
      "14:57:27 - cmdstanpy - INFO - Chain [1] start processing\n"
     ]
    },
    {
     "name": "stdout",
     "output_type": "stream",
     "text": [
      "There are 1 NaN values in the data.\n",
      "Root Mean Squared Error (RMSE): 14.738678424248901\n",
      "Root Mean Squared Logarithmic Error (RMSLE): 1.3408054347251517\n",
      "\n",
      "Training model for store 26 and family 21...\n"
     ]
    },
    {
     "name": "stderr",
     "output_type": "stream",
     "text": [
      "14:57:27 - cmdstanpy - INFO - Chain [1] done processing\n",
      "14:57:27 - cmdstanpy - INFO - Chain [1] start processing\n"
     ]
    },
    {
     "name": "stdout",
     "output_type": "stream",
     "text": [
      "There are 1 NaN values in the data.\n",
      "Root Mean Squared Error (RMSE): 2.5097966930550712\n",
      "Root Mean Squared Logarithmic Error (RMSLE): 0.7191600045882562\n",
      "\n",
      "Training model for store 26 and family 22...\n"
     ]
    },
    {
     "name": "stderr",
     "output_type": "stream",
     "text": [
      "14:57:27 - cmdstanpy - INFO - Chain [1] done processing\n",
      "14:57:28 - cmdstanpy - INFO - Chain [1] start processing\n"
     ]
    },
    {
     "name": "stdout",
     "output_type": "stream",
     "text": [
      "There are 1 NaN values in the data.\n",
      "Root Mean Squared Error (RMSE): 92.6477177256089\n",
      "Root Mean Squared Logarithmic Error (RMSLE): 1.3612368090002316\n",
      "\n",
      "Training model for store 26 and family 23...\n"
     ]
    },
    {
     "name": "stderr",
     "output_type": "stream",
     "text": [
      "14:57:28 - cmdstanpy - INFO - Chain [1] done processing\n",
      "14:57:28 - cmdstanpy - INFO - Chain [1] start processing\n"
     ]
    },
    {
     "name": "stdout",
     "output_type": "stream",
     "text": [
      "There are 1 NaN values in the data.\n",
      "Root Mean Squared Error (RMSE): 0.8066126818243504\n",
      "Root Mean Squared Logarithmic Error (RMSLE): 0.4735045961131621\n",
      "\n",
      "Training model for store 26 and family 24...\n"
     ]
    },
    {
     "name": "stderr",
     "output_type": "stream",
     "text": [
      "14:57:28 - cmdstanpy - INFO - Chain [1] done processing\n",
      "14:57:28 - cmdstanpy - INFO - Chain [1] start processing\n"
     ]
    },
    {
     "name": "stdout",
     "output_type": "stream",
     "text": [
      "There are 1 NaN values in the data.\n",
      "Root Mean Squared Error (RMSE): 85.82115117968716\n",
      "Root Mean Squared Logarithmic Error (RMSLE): 0.541964153979251\n",
      "\n",
      "Training model for store 26 and family 25...\n"
     ]
    },
    {
     "name": "stderr",
     "output_type": "stream",
     "text": [
      "14:57:28 - cmdstanpy - INFO - Chain [1] done processing\n",
      "14:57:28 - cmdstanpy - INFO - Chain [1] start processing\n"
     ]
    },
    {
     "name": "stdout",
     "output_type": "stream",
     "text": [
      "There are 1 NaN values in the data.\n",
      "Root Mean Squared Error (RMSE): 163.66874524652528\n",
      "Root Mean Squared Logarithmic Error (RMSLE): 0.6479371757661039\n",
      "\n",
      "Training model for store 26 and family 26...\n"
     ]
    },
    {
     "name": "stderr",
     "output_type": "stream",
     "text": [
      "14:57:29 - cmdstanpy - INFO - Chain [1] done processing\n",
      "14:57:29 - cmdstanpy - INFO - Chain [1] start processing\n"
     ]
    },
    {
     "name": "stdout",
     "output_type": "stream",
     "text": [
      "There are 1 NaN values in the data.\n",
      "Root Mean Squared Error (RMSE): 2.440584407988714\n",
      "Root Mean Squared Logarithmic Error (RMSLE): 0.6452059856556551\n",
      "\n",
      "Training model for store 26 and family 27...\n"
     ]
    },
    {
     "name": "stderr",
     "output_type": "stream",
     "text": [
      "14:57:29 - cmdstanpy - INFO - Chain [1] done processing\n",
      "14:57:29 - cmdstanpy - INFO - Chain [1] start processing\n"
     ]
    },
    {
     "name": "stdout",
     "output_type": "stream",
     "text": [
      "There are 1 NaN values in the data.\n",
      "Root Mean Squared Error (RMSE): 1.8652172968255498\n",
      "Root Mean Squared Logarithmic Error (RMSLE): 0.6723509994502762\n",
      "\n",
      "Training model for store 26 and family 28...\n"
     ]
    },
    {
     "name": "stderr",
     "output_type": "stream",
     "text": [
      "14:57:29 - cmdstanpy - INFO - Chain [1] done processing\n",
      "14:57:29 - cmdstanpy - INFO - Chain [1] start processing\n"
     ]
    },
    {
     "name": "stdout",
     "output_type": "stream",
     "text": [
      "There are 1 NaN values in the data.\n",
      "Root Mean Squared Error (RMSE): 62.533755028258085\n",
      "Root Mean Squared Logarithmic Error (RMSLE): 0.5525585303615956\n",
      "\n",
      "Training model for store 26 and family 29...\n"
     ]
    },
    {
     "name": "stderr",
     "output_type": "stream",
     "text": [
      "14:57:29 - cmdstanpy - INFO - Chain [1] done processing\n",
      "14:57:30 - cmdstanpy - INFO - Chain [1] start processing\n"
     ]
    },
    {
     "name": "stdout",
     "output_type": "stream",
     "text": [
      "There are 1 NaN values in the data.\n",
      "Root Mean Squared Error (RMSE): 9.477236857476923\n",
      "Root Mean Squared Logarithmic Error (RMSLE): 0.5961658126712489\n",
      "\n",
      "Training model for store 26 and family 30...\n"
     ]
    },
    {
     "name": "stderr",
     "output_type": "stream",
     "text": [
      "14:57:30 - cmdstanpy - INFO - Chain [1] done processing\n",
      "14:57:30 - cmdstanpy - INFO - Chain [1] start processing\n"
     ]
    },
    {
     "name": "stdout",
     "output_type": "stream",
     "text": [
      "There are 1 NaN values in the data.\n",
      "Root Mean Squared Error (RMSE): 236.84699053110413\n",
      "Root Mean Squared Logarithmic Error (RMSLE): 0.622313620341352\n",
      "\n",
      "Training model for store 26 and family 31...\n"
     ]
    },
    {
     "name": "stderr",
     "output_type": "stream",
     "text": [
      "14:57:30 - cmdstanpy - INFO - Chain [1] done processing\n",
      "14:57:30 - cmdstanpy - INFO - Chain [1] start processing\n"
     ]
    },
    {
     "name": "stdout",
     "output_type": "stream",
     "text": [
      "There are 1 NaN values in the data.\n",
      "Root Mean Squared Error (RMSE): 3.251054785185766\n",
      "Root Mean Squared Logarithmic Error (RMSLE): 1.2197888159179608\n",
      "\n",
      "Training model for store 26 and family 32...\n"
     ]
    },
    {
     "name": "stderr",
     "output_type": "stream",
     "text": [
      "14:57:30 - cmdstanpy - INFO - Chain [1] done processing\n",
      "14:57:31 - cmdstanpy - INFO - Chain [1] start processing\n"
     ]
    },
    {
     "name": "stdout",
     "output_type": "stream",
     "text": [
      "There are 1 NaN values in the data.\n",
      "Root Mean Squared Error (RMSE): 2.672599832089292\n",
      "Root Mean Squared Logarithmic Error (RMSLE): 0.64495137561314\n",
      "\n",
      "Training model for store 27 and family 0...\n"
     ]
    },
    {
     "name": "stderr",
     "output_type": "stream",
     "text": [
      "14:57:31 - cmdstanpy - INFO - Chain [1] done processing\n",
      "14:57:31 - cmdstanpy - INFO - Chain [1] start processing\n"
     ]
    },
    {
     "name": "stdout",
     "output_type": "stream",
     "text": [
      "There are 1 NaN values in the data.\n",
      "Root Mean Squared Error (RMSE): 3.643388600413513\n",
      "Root Mean Squared Logarithmic Error (RMSLE): 0.5588744631983756\n",
      "\n",
      "Training model for store 27 and family 1...\n"
     ]
    },
    {
     "name": "stderr",
     "output_type": "stream",
     "text": [
      "14:57:31 - cmdstanpy - INFO - Chain [1] done processing\n"
     ]
    },
    {
     "name": "stdout",
     "output_type": "stream",
     "text": [
      "There are 1 NaN values in the data.\n",
      "Root Mean Squared Error (RMSE): 0.5621917190333006\n",
      "Root Mean Squared Logarithmic Error (RMSLE): 0.32801415681395163\n",
      "\n",
      "Training model for store 27 and family 2...\n"
     ]
    },
    {
     "name": "stderr",
     "output_type": "stream",
     "text": [
      "14:57:31 - cmdstanpy - INFO - Chain [1] start processing\n",
      "14:57:31 - cmdstanpy - INFO - Chain [1] done processing\n",
      "14:57:32 - cmdstanpy - INFO - Chain [1] start processing\n"
     ]
    },
    {
     "name": "stdout",
     "output_type": "stream",
     "text": [
      "There are 1 NaN values in the data.\n",
      "Root Mean Squared Error (RMSE): 3.2105898929082572\n",
      "Root Mean Squared Logarithmic Error (RMSLE): 0.7409238036334466\n",
      "\n",
      "Training model for store 27 and family 3...\n"
     ]
    },
    {
     "name": "stderr",
     "output_type": "stream",
     "text": [
      "14:57:32 - cmdstanpy - INFO - Chain [1] done processing\n"
     ]
    },
    {
     "name": "stdout",
     "output_type": "stream",
     "text": [
      "There are 1 NaN values in the data.\n",
      "Root Mean Squared Error (RMSE): 747.8922950525198\n",
      "Root Mean Squared Logarithmic Error (RMSLE): 0.6769859510306329\n",
      "\n",
      "Training model for store 27 and family 4...\n"
     ]
    },
    {
     "name": "stderr",
     "output_type": "stream",
     "text": [
      "14:57:32 - cmdstanpy - INFO - Chain [1] start processing\n"
     ]
    },
    {
     "name": "stdout",
     "output_type": "stream",
     "text": [
      "There are 1 NaN values in the data.\n",
      "Root Mean Squared Error (RMSE): 0.6435846357954428\n",
      "Root Mean Squared Logarithmic Error (RMSLE): 0.3929599882379309\n",
      "\n",
      "Training model for store 27 and family 5...\n"
     ]
    },
    {
     "name": "stderr",
     "output_type": "stream",
     "text": [
      "14:57:32 - cmdstanpy - INFO - Chain [1] done processing\n",
      "14:57:32 - cmdstanpy - INFO - Chain [1] start processing\n"
     ]
    },
    {
     "name": "stdout",
     "output_type": "stream",
     "text": [
      "There are 1 NaN values in the data.\n",
      "Root Mean Squared Error (RMSE): 143.93689282144618\n",
      "Root Mean Squared Logarithmic Error (RMSLE): 0.5605633679759293\n",
      "\n",
      "Training model for store 27 and family 6...\n"
     ]
    },
    {
     "name": "stderr",
     "output_type": "stream",
     "text": [
      "14:57:33 - cmdstanpy - INFO - Chain [1] done processing\n",
      "14:57:33 - cmdstanpy - INFO - Chain [1] start processing\n"
     ]
    },
    {
     "name": "stdout",
     "output_type": "stream",
     "text": [
      "There are 1 NaN values in the data.\n",
      "Root Mean Squared Error (RMSE): 10.42757125881953\n",
      "Root Mean Squared Logarithmic Error (RMSLE): 0.6788216801612383\n",
      "\n",
      "Training model for store 27 and family 7...\n"
     ]
    },
    {
     "name": "stderr",
     "output_type": "stream",
     "text": [
      "14:57:33 - cmdstanpy - INFO - Chain [1] done processing\n",
      "14:57:33 - cmdstanpy - INFO - Chain [1] start processing\n"
     ]
    },
    {
     "name": "stdout",
     "output_type": "stream",
     "text": [
      "There are 1 NaN values in the data.\n",
      "Root Mean Squared Error (RMSE): 194.6237044425054\n",
      "Root Mean Squared Logarithmic Error (RMSLE): 0.578401335419982\n",
      "\n",
      "Training model for store 27 and family 8...\n"
     ]
    },
    {
     "name": "stderr",
     "output_type": "stream",
     "text": [
      "14:57:33 - cmdstanpy - INFO - Chain [1] done processing\n",
      "14:57:33 - cmdstanpy - INFO - Chain [1] start processing\n"
     ]
    },
    {
     "name": "stdout",
     "output_type": "stream",
     "text": [
      "There are 1 NaN values in the data.\n",
      "Root Mean Squared Error (RMSE): 208.9619935369144\n",
      "Root Mean Squared Logarithmic Error (RMSLE): 0.5854720140315941\n",
      "\n",
      "Training model for store 27 and family 9...\n"
     ]
    },
    {
     "name": "stderr",
     "output_type": "stream",
     "text": [
      "14:57:34 - cmdstanpy - INFO - Chain [1] done processing\n",
      "14:57:34 - cmdstanpy - INFO - Chain [1] start processing\n"
     ]
    },
    {
     "name": "stdout",
     "output_type": "stream",
     "text": [
      "There are 1 NaN values in the data.\n",
      "Root Mean Squared Error (RMSE): 78.35785287950058\n",
      "Root Mean Squared Logarithmic Error (RMSLE): 0.5249183615016983\n",
      "\n",
      "Training model for store 27 and family 10...\n"
     ]
    },
    {
     "name": "stderr",
     "output_type": "stream",
     "text": [
      "14:57:34 - cmdstanpy - INFO - Chain [1] done processing\n",
      "14:57:34 - cmdstanpy - INFO - Chain [1] start processing\n"
     ]
    },
    {
     "name": "stdout",
     "output_type": "stream",
     "text": [
      "There are 1 NaN values in the data.\n",
      "Root Mean Squared Error (RMSE): 51.91554909096121\n",
      "Root Mean Squared Logarithmic Error (RMSLE): 0.4839397239592743\n",
      "\n",
      "Training model for store 27 and family 11...\n"
     ]
    },
    {
     "name": "stderr",
     "output_type": "stream",
     "text": [
      "14:57:34 - cmdstanpy - INFO - Chain [1] done processing\n",
      "14:57:34 - cmdstanpy - INFO - Chain [1] start processing\n"
     ]
    },
    {
     "name": "stdout",
     "output_type": "stream",
     "text": [
      "There are 1 NaN values in the data.\n",
      "Root Mean Squared Error (RMSE): 132.03694980738325\n",
      "Root Mean Squared Logarithmic Error (RMSLE): 0.6092254028047109\n",
      "\n",
      "Training model for store 27 and family 12...\n"
     ]
    },
    {
     "name": "stderr",
     "output_type": "stream",
     "text": [
      "14:57:34 - cmdstanpy - INFO - Chain [1] done processing\n",
      "14:57:35 - cmdstanpy - INFO - Chain [1] start processing\n"
     ]
    },
    {
     "name": "stdout",
     "output_type": "stream",
     "text": [
      "There are 1 NaN values in the data.\n",
      "Root Mean Squared Error (RMSE): 763.7243442022943\n",
      "Root Mean Squared Logarithmic Error (RMSLE): 0.6775953757544172\n",
      "\n",
      "Training model for store 27 and family 13...\n"
     ]
    },
    {
     "name": "stderr",
     "output_type": "stream",
     "text": [
      "14:57:35 - cmdstanpy - INFO - Chain [1] done processing\n",
      "14:57:35 - cmdstanpy - INFO - Chain [1] start processing\n"
     ]
    },
    {
     "name": "stdout",
     "output_type": "stream",
     "text": [
      "There are 1 NaN values in the data.\n",
      "Root Mean Squared Error (RMSE): 11.839822886865909\n",
      "Root Mean Squared Logarithmic Error (RMSLE): 0.7067278958768052\n",
      "\n",
      "Training model for store 27 and family 14...\n"
     ]
    },
    {
     "name": "stderr",
     "output_type": "stream",
     "text": [
      "14:57:35 - cmdstanpy - INFO - Chain [1] done processing\n",
      "14:57:35 - cmdstanpy - INFO - Chain [1] start processing\n"
     ]
    },
    {
     "name": "stdout",
     "output_type": "stream",
     "text": [
      "There are 1 NaN values in the data.\n",
      "Root Mean Squared Error (RMSE): 2.3109156697567044\n",
      "Root Mean Squared Logarithmic Error (RMSLE): 0.6378980530523393\n",
      "\n",
      "Training model for store 27 and family 15...\n"
     ]
    },
    {
     "name": "stderr",
     "output_type": "stream",
     "text": [
      "14:57:35 - cmdstanpy - INFO - Chain [1] done processing\n",
      "14:57:36 - cmdstanpy - INFO - Chain [1] start processing\n"
     ]
    },
    {
     "name": "stdout",
     "output_type": "stream",
     "text": [
      "There are 1 NaN values in the data.\n",
      "Root Mean Squared Error (RMSE): 16.04979158012169\n",
      "Root Mean Squared Logarithmic Error (RMSLE): 0.5713315125099403\n",
      "\n",
      "Training model for store 27 and family 16...\n"
     ]
    },
    {
     "name": "stderr",
     "output_type": "stream",
     "text": [
      "14:57:36 - cmdstanpy - INFO - Chain [1] done processing\n",
      "14:57:36 - cmdstanpy - INFO - Chain [1] start processing\n"
     ]
    },
    {
     "name": "stdout",
     "output_type": "stream",
     "text": [
      "There are 1 NaN values in the data.\n",
      "Root Mean Squared Error (RMSE): 20.960154131647403\n",
      "Root Mean Squared Logarithmic Error (RMSLE): 0.9769500489840367\n",
      "\n",
      "Training model for store 27 and family 17...\n"
     ]
    },
    {
     "name": "stderr",
     "output_type": "stream",
     "text": [
      "14:57:36 - cmdstanpy - INFO - Chain [1] done processing\n"
     ]
    },
    {
     "name": "stdout",
     "output_type": "stream",
     "text": [
      "There are 1 NaN values in the data.\n",
      "Root Mean Squared Error (RMSE): 0.7580108471671602\n",
      "Root Mean Squared Logarithmic Error (RMSLE): 0.4222581666987684\n",
      "\n",
      "Training model for store 27 and family 18...\n"
     ]
    },
    {
     "name": "stderr",
     "output_type": "stream",
     "text": [
      "14:57:36 - cmdstanpy - INFO - Chain [1] start processing\n",
      "14:57:36 - cmdstanpy - INFO - Chain [1] done processing\n",
      "14:57:37 - cmdstanpy - INFO - Chain [1] start processing\n"
     ]
    },
    {
     "name": "stdout",
     "output_type": "stream",
     "text": [
      "There are 1 NaN values in the data.\n",
      "Root Mean Squared Error (RMSE): 67.77824408635692\n",
      "Root Mean Squared Logarithmic Error (RMSLE): 0.5208197146463573\n",
      "\n",
      "Training model for store 27 and family 19...\n"
     ]
    },
    {
     "name": "stderr",
     "output_type": "stream",
     "text": [
      "14:57:37 - cmdstanpy - INFO - Chain [1] done processing\n"
     ]
    },
    {
     "name": "stdout",
     "output_type": "stream",
     "text": [
      "There are 1 NaN values in the data.\n",
      "Root Mean Squared Error (RMSE): 6.026909036793793\n",
      "Root Mean Squared Logarithmic Error (RMSLE): 0.7824699107687769\n",
      "\n",
      "Training model for store 27 and family 20...\n"
     ]
    },
    {
     "name": "stderr",
     "output_type": "stream",
     "text": [
      "14:57:37 - cmdstanpy - INFO - Chain [1] start processing\n",
      "14:57:37 - cmdstanpy - INFO - Chain [1] done processing\n",
      "14:57:37 - cmdstanpy - INFO - Chain [1] start processing\n"
     ]
    },
    {
     "name": "stdout",
     "output_type": "stream",
     "text": [
      "There are 1 NaN values in the data.\n",
      "Root Mean Squared Error (RMSE): 37.81482227430996\n",
      "Root Mean Squared Logarithmic Error (RMSLE): 1.1602087986525011\n",
      "\n",
      "Training model for store 27 and family 21...\n"
     ]
    },
    {
     "name": "stderr",
     "output_type": "stream",
     "text": [
      "14:57:37 - cmdstanpy - INFO - Chain [1] done processing\n",
      "14:57:38 - cmdstanpy - INFO - Chain [1] start processing\n"
     ]
    },
    {
     "name": "stdout",
     "output_type": "stream",
     "text": [
      "There are 1 NaN values in the data.\n",
      "Root Mean Squared Error (RMSE): 6.1496832996886335\n",
      "Root Mean Squared Logarithmic Error (RMSLE): 0.9425448695289689\n",
      "\n",
      "Training model for store 27 and family 22...\n"
     ]
    },
    {
     "name": "stderr",
     "output_type": "stream",
     "text": [
      "14:57:38 - cmdstanpy - INFO - Chain [1] done processing\n",
      "14:57:38 - cmdstanpy - INFO - Chain [1] start processing\n"
     ]
    },
    {
     "name": "stdout",
     "output_type": "stream",
     "text": [
      "There are 1 NaN values in the data.\n",
      "Root Mean Squared Error (RMSE): 113.92322982310628\n",
      "Root Mean Squared Logarithmic Error (RMSLE): 1.2014774786403486\n",
      "\n",
      "Training model for store 27 and family 23...\n"
     ]
    },
    {
     "name": "stderr",
     "output_type": "stream",
     "text": [
      "14:57:38 - cmdstanpy - INFO - Chain [1] done processing\n",
      "14:57:38 - cmdstanpy - INFO - Chain [1] start processing\n"
     ]
    },
    {
     "name": "stdout",
     "output_type": "stream",
     "text": [
      "There are 1 NaN values in the data.\n",
      "Root Mean Squared Error (RMSE): 3.681338754439183\n",
      "Root Mean Squared Logarithmic Error (RMSLE): 0.7450597392558832\n",
      "\n",
      "Training model for store 27 and family 24...\n"
     ]
    },
    {
     "name": "stderr",
     "output_type": "stream",
     "text": [
      "14:57:38 - cmdstanpy - INFO - Chain [1] done processing\n"
     ]
    },
    {
     "name": "stdout",
     "output_type": "stream",
     "text": [
      "There are 1 NaN values in the data.\n",
      "Root Mean Squared Error (RMSE): 54.75141296369731\n",
      "Root Mean Squared Logarithmic Error (RMSLE): 0.4774656648652335\n",
      "\n",
      "Training model for store 27 and family 25...\n"
     ]
    },
    {
     "name": "stderr",
     "output_type": "stream",
     "text": [
      "14:57:39 - cmdstanpy - INFO - Chain [1] start processing\n",
      "14:57:39 - cmdstanpy - INFO - Chain [1] done processing\n",
      "14:57:39 - cmdstanpy - INFO - Chain [1] start processing\n"
     ]
    },
    {
     "name": "stdout",
     "output_type": "stream",
     "text": [
      "There are 1 NaN values in the data.\n",
      "Root Mean Squared Error (RMSE): 59.822091210321055\n",
      "Root Mean Squared Logarithmic Error (RMSLE): 0.5004786004106783\n",
      "\n",
      "Training model for store 27 and family 26...\n"
     ]
    },
    {
     "name": "stderr",
     "output_type": "stream",
     "text": [
      "14:57:39 - cmdstanpy - INFO - Chain [1] done processing\n",
      "14:57:39 - cmdstanpy - INFO - Chain [1] start processing\n"
     ]
    },
    {
     "name": "stdout",
     "output_type": "stream",
     "text": [
      "There are 1 NaN values in the data.\n",
      "Root Mean Squared Error (RMSE): 5.23986086601964\n",
      "Root Mean Squared Logarithmic Error (RMSLE): 0.5277702488578503\n",
      "\n",
      "Training model for store 27 and family 27...\n"
     ]
    },
    {
     "name": "stderr",
     "output_type": "stream",
     "text": [
      "14:57:39 - cmdstanpy - INFO - Chain [1] done processing\n"
     ]
    },
    {
     "name": "stdout",
     "output_type": "stream",
     "text": [
      "There are 1 NaN values in the data.\n",
      "Root Mean Squared Error (RMSE): 5.339589937141769\n",
      "Root Mean Squared Logarithmic Error (RMSLE): 0.5024208843146015\n",
      "\n",
      "Training model for store 27 and family 28...\n"
     ]
    },
    {
     "name": "stderr",
     "output_type": "stream",
     "text": [
      "14:57:40 - cmdstanpy - INFO - Chain [1] start processing\n",
      "14:57:40 - cmdstanpy - INFO - Chain [1] done processing\n",
      "14:57:40 - cmdstanpy - INFO - Chain [1] start processing\n"
     ]
    },
    {
     "name": "stdout",
     "output_type": "stream",
     "text": [
      "There are 1 NaN values in the data.\n",
      "Root Mean Squared Error (RMSE): 75.041566482673\n",
      "Root Mean Squared Logarithmic Error (RMSLE): 0.5078727400178992\n",
      "\n",
      "Training model for store 27 and family 29...\n"
     ]
    },
    {
     "name": "stderr",
     "output_type": "stream",
     "text": [
      "14:57:40 - cmdstanpy - INFO - Chain [1] done processing\n",
      "14:57:40 - cmdstanpy - INFO - Chain [1] start processing\n"
     ]
    },
    {
     "name": "stdout",
     "output_type": "stream",
     "text": [
      "There are 1 NaN values in the data.\n",
      "Root Mean Squared Error (RMSE): 21.901934397039785\n",
      "Root Mean Squared Logarithmic Error (RMSLE): 0.4339435985418447\n",
      "\n",
      "Training model for store 27 and family 30...\n"
     ]
    },
    {
     "name": "stderr",
     "output_type": "stream",
     "text": [
      "14:57:40 - cmdstanpy - INFO - Chain [1] done processing\n",
      "14:57:41 - cmdstanpy - INFO - Chain [1] start processing\n"
     ]
    },
    {
     "name": "stdout",
     "output_type": "stream",
     "text": [
      "There are 1 NaN values in the data.\n",
      "Root Mean Squared Error (RMSE): 1092.8943711544496\n",
      "Root Mean Squared Logarithmic Error (RMSLE): 0.7324900234461671\n",
      "\n",
      "Training model for store 27 and family 31...\n"
     ]
    },
    {
     "name": "stderr",
     "output_type": "stream",
     "text": [
      "14:57:41 - cmdstanpy - INFO - Chain [1] done processing\n",
      "14:57:41 - cmdstanpy - INFO - Chain [1] start processing\n"
     ]
    },
    {
     "name": "stdout",
     "output_type": "stream",
     "text": [
      "There are 1 NaN values in the data.\n",
      "Root Mean Squared Error (RMSE): 5.030133717486258\n",
      "Root Mean Squared Logarithmic Error (RMSLE): 0.8640796082160355\n",
      "\n",
      "Training model for store 27 and family 32...\n"
     ]
    },
    {
     "name": "stderr",
     "output_type": "stream",
     "text": [
      "14:57:41 - cmdstanpy - INFO - Chain [1] done processing\n"
     ]
    },
    {
     "name": "stdout",
     "output_type": "stream",
     "text": [
      "There are 1 NaN values in the data.\n",
      "Root Mean Squared Error (RMSE): 8.815233429960601\n",
      "Root Mean Squared Logarithmic Error (RMSLE): 0.5023984125301427\n",
      "\n",
      "Training model for store 28 and family 0...\n"
     ]
    },
    {
     "name": "stderr",
     "output_type": "stream",
     "text": [
      "14:57:41 - cmdstanpy - INFO - Chain [1] start processing\n",
      "14:57:41 - cmdstanpy - INFO - Chain [1] done processing\n"
     ]
    },
    {
     "name": "stdout",
     "output_type": "stream",
     "text": [
      "There are 1 NaN values in the data.\n",
      "Root Mean Squared Error (RMSE): 4.901730038521913\n",
      "Root Mean Squared Logarithmic Error (RMSLE): 0.5625993891341942\n",
      "\n",
      "Training model for store 28 and family 1...\n",
      "There are 1 NaN values in the data.\n",
      "Root Mean Squared Error (RMSE): 0.5014771080925114\n",
      "Root Mean Squared Logarithmic Error (RMSLE): 0.2629279241105178\n"
     ]
    },
    {
     "name": "stderr",
     "output_type": "stream",
     "text": [
      "14:57:42 - cmdstanpy - INFO - Chain [1] start processing\n",
      "14:57:42 - cmdstanpy - INFO - Chain [1] done processing\n"
     ]
    },
    {
     "name": "stdout",
     "output_type": "stream",
     "text": [
      "\n",
      "Training model for store 28 and family 2...\n",
      "There are 1 NaN values in the data.\n",
      "Root Mean Squared Error (RMSE): 2.397248334778929\n",
      "Root Mean Squared Logarithmic Error (RMSLE): 0.6383690650267317\n"
     ]
    },
    {
     "name": "stderr",
     "output_type": "stream",
     "text": [
      "14:57:42 - cmdstanpy - INFO - Chain [1] start processing\n",
      "14:57:42 - cmdstanpy - INFO - Chain [1] done processing\n"
     ]
    },
    {
     "name": "stdout",
     "output_type": "stream",
     "text": [
      "\n",
      "Training model for store 28 and family 3...\n",
      "There are 1 NaN values in the data.\n",
      "Root Mean Squared Error (RMSE): 1033.2681940688917\n",
      "Root Mean Squared Logarithmic Error (RMSLE): 0.724111691946895\n",
      "\n",
      "Training model for store 28 and family 4...\n"
     ]
    },
    {
     "name": "stderr",
     "output_type": "stream",
     "text": [
      "14:57:43 - cmdstanpy - INFO - Chain [1] start processing\n"
     ]
    },
    {
     "name": "stdout",
     "output_type": "stream",
     "text": [
      "There are 1 NaN values in the data.\n",
      "Root Mean Squared Error (RMSE): 0.0\n",
      "Root Mean Squared Logarithmic Error (RMSLE): 0.0\n",
      "\n",
      "Training model for store 28 and family 5...\n"
     ]
    },
    {
     "name": "stderr",
     "output_type": "stream",
     "text": [
      "14:57:43 - cmdstanpy - INFO - Chain [1] done processing\n",
      "14:57:43 - cmdstanpy - INFO - Chain [1] start processing\n"
     ]
    },
    {
     "name": "stdout",
     "output_type": "stream",
     "text": [
      "There are 1 NaN values in the data.\n",
      "Root Mean Squared Error (RMSE): 145.5732056800815\n",
      "Root Mean Squared Logarithmic Error (RMSLE): 0.5608785228132527\n",
      "\n",
      "Training model for store 28 and family 6...\n"
     ]
    },
    {
     "name": "stderr",
     "output_type": "stream",
     "text": [
      "14:57:43 - cmdstanpy - INFO - Chain [1] done processing\n",
      "14:57:43 - cmdstanpy - INFO - Chain [1] start processing\n"
     ]
    },
    {
     "name": "stdout",
     "output_type": "stream",
     "text": [
      "There are 1 NaN values in the data.\n",
      "Root Mean Squared Error (RMSE): 7.199480376372551\n",
      "Root Mean Squared Logarithmic Error (RMSLE): 0.6361855856712537\n",
      "\n",
      "Training model for store 28 and family 7...\n"
     ]
    },
    {
     "name": "stderr",
     "output_type": "stream",
     "text": [
      "14:57:43 - cmdstanpy - INFO - Chain [1] done processing\n",
      "14:57:44 - cmdstanpy - INFO - Chain [1] start processing\n"
     ]
    },
    {
     "name": "stdout",
     "output_type": "stream",
     "text": [
      "There are 1 NaN values in the data.\n",
      "Root Mean Squared Error (RMSE): 388.43460934634606\n",
      "Root Mean Squared Logarithmic Error (RMSLE): 0.6301186744626985\n",
      "\n",
      "Training model for store 28 and family 8...\n"
     ]
    },
    {
     "name": "stderr",
     "output_type": "stream",
     "text": [
      "14:57:44 - cmdstanpy - INFO - Chain [1] done processing\n"
     ]
    },
    {
     "name": "stdout",
     "output_type": "stream",
     "text": [
      "There are 1 NaN values in the data.\n",
      "Root Mean Squared Error (RMSE): 232.67736274092556\n",
      "Root Mean Squared Logarithmic Error (RMSLE): 0.5991466177631146\n",
      "\n",
      "Training model for store 28 and family 9...\n"
     ]
    },
    {
     "name": "stderr",
     "output_type": "stream",
     "text": [
      "14:57:44 - cmdstanpy - INFO - Chain [1] start processing\n",
      "14:57:44 - cmdstanpy - INFO - Chain [1] done processing\n",
      "14:57:44 - cmdstanpy - INFO - Chain [1] start processing\n"
     ]
    },
    {
     "name": "stdout",
     "output_type": "stream",
     "text": [
      "There are 1 NaN values in the data.\n",
      "Root Mean Squared Error (RMSE): 97.36511145508643\n",
      "Root Mean Squared Logarithmic Error (RMSLE): 0.5354315371431718\n",
      "\n",
      "Training model for store 28 and family 10...\n"
     ]
    },
    {
     "name": "stderr",
     "output_type": "stream",
     "text": [
      "14:57:44 - cmdstanpy - INFO - Chain [1] done processing\n",
      "14:57:45 - cmdstanpy - INFO - Chain [1] start processing\n"
     ]
    },
    {
     "name": "stdout",
     "output_type": "stream",
     "text": [
      "There are 1 NaN values in the data.\n",
      "Root Mean Squared Error (RMSE): 149.5733292921008\n",
      "Root Mean Squared Logarithmic Error (RMSLE): 0.6051613028966435\n",
      "\n",
      "Training model for store 28 and family 11...\n"
     ]
    },
    {
     "name": "stderr",
     "output_type": "stream",
     "text": [
      "14:57:45 - cmdstanpy - INFO - Chain [1] done processing\n",
      "14:57:45 - cmdstanpy - INFO - Chain [1] start processing\n"
     ]
    },
    {
     "name": "stdout",
     "output_type": "stream",
     "text": [
      "There are 1 NaN values in the data.\n",
      "Root Mean Squared Error (RMSE): 117.28681489739218\n",
      "Root Mean Squared Logarithmic Error (RMSLE): 0.8348345737891971\n",
      "\n",
      "Training model for store 28 and family 12...\n"
     ]
    },
    {
     "name": "stderr",
     "output_type": "stream",
     "text": [
      "14:57:45 - cmdstanpy - INFO - Chain [1] done processing\n"
     ]
    },
    {
     "name": "stdout",
     "output_type": "stream",
     "text": [
      "There are 1 NaN values in the data.\n",
      "Root Mean Squared Error (RMSE): 1146.2127060157281\n",
      "Root Mean Squared Logarithmic Error (RMSLE): 0.7102778724080034\n",
      "\n",
      "Training model for store 28 and family 13...\n"
     ]
    },
    {
     "name": "stderr",
     "output_type": "stream",
     "text": [
      "14:57:45 - cmdstanpy - INFO - Chain [1] start processing\n",
      "14:57:45 - cmdstanpy - INFO - Chain [1] done processing\n"
     ]
    },
    {
     "name": "stdout",
     "output_type": "stream",
     "text": [
      "There are 1 NaN values in the data.\n",
      "Root Mean Squared Error (RMSE): 8.247574659422456\n",
      "Root Mean Squared Logarithmic Error (RMSLE): 0.712137489357993\n",
      "\n",
      "Training model for store 28 and family 14...\n"
     ]
    },
    {
     "name": "stderr",
     "output_type": "stream",
     "text": [
      "14:57:46 - cmdstanpy - INFO - Chain [1] start processing\n",
      "14:57:46 - cmdstanpy - INFO - Chain [1] done processing\n"
     ]
    },
    {
     "name": "stdout",
     "output_type": "stream",
     "text": [
      "There are 1 NaN values in the data.\n",
      "Root Mean Squared Error (RMSE): 1.7163406861301356\n",
      "Root Mean Squared Logarithmic Error (RMSLE): 0.7559030035749342\n",
      "\n",
      "Training model for store 28 and family 15...\n"
     ]
    },
    {
     "name": "stderr",
     "output_type": "stream",
     "text": [
      "14:57:46 - cmdstanpy - INFO - Chain [1] start processing\n",
      "14:57:46 - cmdstanpy - INFO - Chain [1] done processing\n"
     ]
    },
    {
     "name": "stdout",
     "output_type": "stream",
     "text": [
      "There are 1 NaN values in the data.\n",
      "Root Mean Squared Error (RMSE): 30.5049856254188\n",
      "Root Mean Squared Logarithmic Error (RMSLE): 0.6336587341718636\n",
      "\n",
      "Training model for store 28 and family 16...\n"
     ]
    },
    {
     "name": "stderr",
     "output_type": "stream",
     "text": [
      "14:57:47 - cmdstanpy - INFO - Chain [1] start processing\n",
      "14:57:47 - cmdstanpy - INFO - Chain [1] done processing\n",
      "14:57:47 - cmdstanpy - INFO - Chain [1] start processing\n"
     ]
    },
    {
     "name": "stdout",
     "output_type": "stream",
     "text": [
      "There are 1 NaN values in the data.\n",
      "Root Mean Squared Error (RMSE): 10.001004246325751\n",
      "Root Mean Squared Logarithmic Error (RMSLE): 0.6567272033649001\n",
      "\n",
      "Training model for store 28 and family 17...\n"
     ]
    },
    {
     "name": "stderr",
     "output_type": "stream",
     "text": [
      "14:57:47 - cmdstanpy - INFO - Chain [1] done processing\n",
      "14:57:47 - cmdstanpy - INFO - Chain [1] start processing\n"
     ]
    },
    {
     "name": "stdout",
     "output_type": "stream",
     "text": [
      "There are 1 NaN values in the data.\n",
      "Root Mean Squared Error (RMSE): 1.1029175991034381\n",
      "Root Mean Squared Logarithmic Error (RMSLE): 0.517249047000455\n",
      "\n",
      "Training model for store 28 and family 18...\n"
     ]
    },
    {
     "name": "stderr",
     "output_type": "stream",
     "text": [
      "14:57:47 - cmdstanpy - INFO - Chain [1] done processing\n"
     ]
    },
    {
     "name": "stdout",
     "output_type": "stream",
     "text": [
      "There are 1 NaN values in the data.\n",
      "Root Mean Squared Error (RMSE): 128.67599663245235\n",
      "Root Mean Squared Logarithmic Error (RMSLE): 0.6396009271206544\n",
      "\n",
      "Training model for store 28 and family 19...\n"
     ]
    },
    {
     "name": "stderr",
     "output_type": "stream",
     "text": [
      "14:57:48 - cmdstanpy - INFO - Chain [1] start processing\n",
      "14:57:48 - cmdstanpy - INFO - Chain [1] done processing\n"
     ]
    },
    {
     "name": "stdout",
     "output_type": "stream",
     "text": [
      "There are 1 NaN values in the data.\n",
      "Root Mean Squared Error (RMSE): 0.0\n",
      "Root Mean Squared Logarithmic Error (RMSLE): 0.0\n",
      "\n",
      "Training model for store 28 and family 20...\n",
      "There are 1 NaN values in the data.\n",
      "Root Mean Squared Error (RMSE): 8.847680522595562\n",
      "Root Mean Squared Logarithmic Error (RMSLE): 1.2574205851553077\n",
      "\n",
      "Training model for store 28 and family 21...\n"
     ]
    },
    {
     "name": "stderr",
     "output_type": "stream",
     "text": [
      "14:57:48 - cmdstanpy - INFO - Chain [1] start processing\n",
      "14:57:48 - cmdstanpy - INFO - Chain [1] done processing\n",
      "14:57:48 - cmdstanpy - INFO - Chain [1] start processing\n"
     ]
    },
    {
     "name": "stdout",
     "output_type": "stream",
     "text": [
      "There are 1 NaN values in the data.\n",
      "Root Mean Squared Error (RMSE): 5.859867547916756\n",
      "Root Mean Squared Logarithmic Error (RMSLE): 1.2854995098074735\n",
      "\n",
      "Training model for store 28 and family 22...\n"
     ]
    },
    {
     "name": "stderr",
     "output_type": "stream",
     "text": [
      "14:57:48 - cmdstanpy - INFO - Chain [1] done processing\n",
      "14:57:49 - cmdstanpy - INFO - Chain [1] start processing\n"
     ]
    },
    {
     "name": "stdout",
     "output_type": "stream",
     "text": [
      "There are 1 NaN values in the data.\n",
      "Root Mean Squared Error (RMSE): 136.5822929947971\n",
      "Root Mean Squared Logarithmic Error (RMSLE): 1.4098889984599503\n",
      "\n",
      "Training model for store 28 and family 23...\n"
     ]
    },
    {
     "name": "stderr",
     "output_type": "stream",
     "text": [
      "14:57:49 - cmdstanpy - INFO - Chain [1] done processing\n",
      "14:57:49 - cmdstanpy - INFO - Chain [1] start processing\n"
     ]
    },
    {
     "name": "stdout",
     "output_type": "stream",
     "text": [
      "There are 1 NaN values in the data.\n",
      "Root Mean Squared Error (RMSE): 2.0982118593035284\n",
      "Root Mean Squared Logarithmic Error (RMSLE): 0.8505601143470655\n",
      "\n",
      "Training model for store 28 and family 24...\n"
     ]
    },
    {
     "name": "stderr",
     "output_type": "stream",
     "text": [
      "14:57:49 - cmdstanpy - INFO - Chain [1] done processing\n"
     ]
    },
    {
     "name": "stdout",
     "output_type": "stream",
     "text": [
      "There are 1 NaN values in the data.\n",
      "Root Mean Squared Error (RMSE): 71.5341263956309\n",
      "Root Mean Squared Logarithmic Error (RMSLE): 0.5179787575527974\n",
      "\n",
      "Training model for store 28 and family 25...\n"
     ]
    },
    {
     "name": "stderr",
     "output_type": "stream",
     "text": [
      "14:57:49 - cmdstanpy - INFO - Chain [1] start processing\n",
      "14:57:49 - cmdstanpy - INFO - Chain [1] done processing\n",
      "14:57:50 - cmdstanpy - INFO - Chain [1] start processing\n"
     ]
    },
    {
     "name": "stdout",
     "output_type": "stream",
     "text": [
      "There are 1 NaN values in the data.\n",
      "Root Mean Squared Error (RMSE): 149.91762728632156\n",
      "Root Mean Squared Logarithmic Error (RMSLE): 0.6252432752686915\n",
      "\n",
      "Training model for store 28 and family 26...\n"
     ]
    },
    {
     "name": "stderr",
     "output_type": "stream",
     "text": [
      "14:57:50 - cmdstanpy - INFO - Chain [1] done processing\n",
      "14:57:50 - cmdstanpy - INFO - Chain [1] start processing\n"
     ]
    },
    {
     "name": "stdout",
     "output_type": "stream",
     "text": [
      "There are 1 NaN values in the data.\n",
      "Root Mean Squared Error (RMSE): 3.7126079417775357\n",
      "Root Mean Squared Logarithmic Error (RMSLE): 0.5793099850223267\n",
      "\n",
      "Training model for store 28 and family 27...\n"
     ]
    },
    {
     "name": "stderr",
     "output_type": "stream",
     "text": [
      "14:57:50 - cmdstanpy - INFO - Chain [1] done processing\n",
      "14:57:50 - cmdstanpy - INFO - Chain [1] start processing\n"
     ]
    },
    {
     "name": "stdout",
     "output_type": "stream",
     "text": [
      "There are 1 NaN values in the data.\n",
      "Root Mean Squared Error (RMSE): 4.284153683322826\n",
      "Root Mean Squared Logarithmic Error (RMSLE): 0.7221617578134998\n",
      "\n",
      "Training model for store 28 and family 28...\n"
     ]
    },
    {
     "name": "stderr",
     "output_type": "stream",
     "text": [
      "14:57:50 - cmdstanpy - INFO - Chain [1] done processing\n",
      "14:57:51 - cmdstanpy - INFO - Chain [1] start processing\n"
     ]
    },
    {
     "name": "stdout",
     "output_type": "stream",
     "text": [
      "There are 1 NaN values in the data.\n",
      "Root Mean Squared Error (RMSE): 63.863922681521196\n",
      "Root Mean Squared Logarithmic Error (RMSLE): 0.5185851682993223\n",
      "\n",
      "Training model for store 28 and family 29...\n"
     ]
    },
    {
     "name": "stderr",
     "output_type": "stream",
     "text": [
      "14:57:51 - cmdstanpy - INFO - Chain [1] done processing\n",
      "14:57:51 - cmdstanpy - INFO - Chain [1] start processing\n"
     ]
    },
    {
     "name": "stdout",
     "output_type": "stream",
     "text": [
      "There are 1 NaN values in the data.\n",
      "Root Mean Squared Error (RMSE): 23.085990534755357\n",
      "Root Mean Squared Logarithmic Error (RMSLE): 0.45135220070496546\n",
      "\n",
      "Training model for store 28 and family 30...\n"
     ]
    },
    {
     "name": "stderr",
     "output_type": "stream",
     "text": [
      "14:57:51 - cmdstanpy - INFO - Chain [1] done processing\n",
      "14:57:51 - cmdstanpy - INFO - Chain [1] start processing\n"
     ]
    },
    {
     "name": "stdout",
     "output_type": "stream",
     "text": [
      "There are 1 NaN values in the data.\n",
      "Root Mean Squared Error (RMSE): 740.3683361331208\n",
      "Root Mean Squared Logarithmic Error (RMSLE): 0.7447911786801078\n",
      "\n",
      "Training model for store 28 and family 31...\n"
     ]
    },
    {
     "name": "stderr",
     "output_type": "stream",
     "text": [
      "14:57:51 - cmdstanpy - INFO - Chain [1] done processing\n",
      "14:57:52 - cmdstanpy - INFO - Chain [1] start processing\n"
     ]
    },
    {
     "name": "stdout",
     "output_type": "stream",
     "text": [
      "There are 1 NaN values in the data.\n",
      "Root Mean Squared Error (RMSE): 24.06915417577272\n",
      "Root Mean Squared Logarithmic Error (RMSLE): 1.4873940614455383\n",
      "\n",
      "Training model for store 28 and family 32...\n"
     ]
    },
    {
     "name": "stderr",
     "output_type": "stream",
     "text": [
      "14:57:52 - cmdstanpy - INFO - Chain [1] done processing\n",
      "14:57:52 - cmdstanpy - INFO - Chain [1] start processing\n"
     ]
    },
    {
     "name": "stdout",
     "output_type": "stream",
     "text": [
      "There are 1 NaN values in the data.\n",
      "Root Mean Squared Error (RMSE): 7.955052637434316\n",
      "Root Mean Squared Logarithmic Error (RMSLE): 1.3054248700824167\n",
      "\n",
      "Training model for store 29 and family 0...\n"
     ]
    },
    {
     "name": "stderr",
     "output_type": "stream",
     "text": [
      "14:57:52 - cmdstanpy - INFO - Chain [1] done processing\n",
      "14:57:52 - cmdstanpy - INFO - Chain [1] start processing\n"
     ]
    },
    {
     "name": "stdout",
     "output_type": "stream",
     "text": [
      "There are 1 NaN values in the data.\n",
      "Root Mean Squared Error (RMSE): 4.89277785201666\n",
      "Root Mean Squared Logarithmic Error (RMSLE): 0.6594020487777685\n",
      "\n",
      "Training model for store 29 and family 1...\n"
     ]
    },
    {
     "name": "stderr",
     "output_type": "stream",
     "text": [
      "14:57:52 - cmdstanpy - INFO - Chain [1] done processing\n"
     ]
    },
    {
     "name": "stdout",
     "output_type": "stream",
     "text": [
      "There are 1 NaN values in the data.\n",
      "Root Mean Squared Error (RMSE): 1.649119999686819\n",
      "Root Mean Squared Logarithmic Error (RMSLE): 0.8755615885295821\n",
      "\n",
      "Training model for store 29 and family 2...\n"
     ]
    },
    {
     "name": "stderr",
     "output_type": "stream",
     "text": [
      "14:57:53 - cmdstanpy - INFO - Chain [1] start processing\n",
      "14:57:53 - cmdstanpy - INFO - Chain [1] done processing\n",
      "14:57:53 - cmdstanpy - INFO - Chain [1] start processing\n"
     ]
    },
    {
     "name": "stdout",
     "output_type": "stream",
     "text": [
      "There are 1 NaN values in the data.\n",
      "Root Mean Squared Error (RMSE): 2.8194218610871684\n",
      "Root Mean Squared Logarithmic Error (RMSLE): 0.7120269438702661\n",
      "\n",
      "Training model for store 29 and family 3...\n"
     ]
    },
    {
     "name": "stderr",
     "output_type": "stream",
     "text": [
      "14:57:54 - cmdstanpy - INFO - Chain [1] done processing\n"
     ]
    },
    {
     "name": "stdout",
     "output_type": "stream",
     "text": [
      "There are 1 NaN values in the data.\n",
      "Root Mean Squared Error (RMSE): 806.3567180575093\n",
      "Root Mean Squared Logarithmic Error (RMSLE): 0.6832115788027067\n",
      "\n",
      "Training model for store 29 and family 4...\n"
     ]
    },
    {
     "name": "stderr",
     "output_type": "stream",
     "text": [
      "14:57:54 - cmdstanpy - INFO - Chain [1] start processing\n"
     ]
    },
    {
     "name": "stdout",
     "output_type": "stream",
     "text": [
      "There are 1 NaN values in the data.\n",
      "Root Mean Squared Error (RMSE): 0.0\n",
      "Root Mean Squared Logarithmic Error (RMSLE): 0.0\n",
      "\n",
      "Training model for store 29 and family 5...\n"
     ]
    },
    {
     "name": "stderr",
     "output_type": "stream",
     "text": [
      "14:57:54 - cmdstanpy - INFO - Chain [1] done processing\n",
      "14:57:54 - cmdstanpy - INFO - Chain [1] start processing\n"
     ]
    },
    {
     "name": "stdout",
     "output_type": "stream",
     "text": [
      "There are 1 NaN values in the data.\n",
      "Root Mean Squared Error (RMSE): 167.3403861654545\n",
      "Root Mean Squared Logarithmic Error (RMSLE): 0.5500095594176535\n",
      "\n",
      "Training model for store 29 and family 6...\n"
     ]
    },
    {
     "name": "stderr",
     "output_type": "stream",
     "text": [
      "14:57:54 - cmdstanpy - INFO - Chain [1] done processing\n",
      "14:57:55 - cmdstanpy - INFO - Chain [1] start processing\n"
     ]
    },
    {
     "name": "stdout",
     "output_type": "stream",
     "text": [
      "There are 1 NaN values in the data.\n",
      "Root Mean Squared Error (RMSE): 5.687823333715854\n",
      "Root Mean Squared Logarithmic Error (RMSLE): 0.5686020399159996\n",
      "\n",
      "Training model for store 29 and family 7...\n"
     ]
    },
    {
     "name": "stderr",
     "output_type": "stream",
     "text": [
      "14:57:55 - cmdstanpy - INFO - Chain [1] done processing\n",
      "14:57:55 - cmdstanpy - INFO - Chain [1] start processing\n"
     ]
    },
    {
     "name": "stdout",
     "output_type": "stream",
     "text": [
      "There are 1 NaN values in the data.\n",
      "Root Mean Squared Error (RMSE): 251.71452017265364\n",
      "Root Mean Squared Logarithmic Error (RMSLE): 0.5839872256023891\n",
      "\n",
      "Training model for store 29 and family 8...\n"
     ]
    },
    {
     "name": "stderr",
     "output_type": "stream",
     "text": [
      "14:57:55 - cmdstanpy - INFO - Chain [1] done processing\n",
      "14:57:55 - cmdstanpy - INFO - Chain [1] start processing\n"
     ]
    },
    {
     "name": "stdout",
     "output_type": "stream",
     "text": [
      "There are 1 NaN values in the data.\n",
      "Root Mean Squared Error (RMSE): 224.03549480594768\n",
      "Root Mean Squared Logarithmic Error (RMSLE): 0.5836055780917663\n",
      "\n",
      "Training model for store 29 and family 9...\n"
     ]
    },
    {
     "name": "stderr",
     "output_type": "stream",
     "text": [
      "14:57:56 - cmdstanpy - INFO - Chain [1] done processing\n",
      "14:57:56 - cmdstanpy - INFO - Chain [1] start processing\n"
     ]
    },
    {
     "name": "stdout",
     "output_type": "stream",
     "text": [
      "There are 1 NaN values in the data.\n",
      "Root Mean Squared Error (RMSE): 99.3483799604245\n",
      "Root Mean Squared Logarithmic Error (RMSLE): 0.5260456621655368\n",
      "\n",
      "Training model for store 29 and family 10...\n"
     ]
    },
    {
     "name": "stderr",
     "output_type": "stream",
     "text": [
      "14:57:56 - cmdstanpy - INFO - Chain [1] done processing\n",
      "14:57:56 - cmdstanpy - INFO - Chain [1] start processing\n"
     ]
    },
    {
     "name": "stdout",
     "output_type": "stream",
     "text": [
      "There are 1 NaN values in the data.\n",
      "Root Mean Squared Error (RMSE): 125.35559600550107\n",
      "Root Mean Squared Logarithmic Error (RMSLE): 0.5938852693909734\n",
      "\n",
      "Training model for store 29 and family 11...\n"
     ]
    },
    {
     "name": "stderr",
     "output_type": "stream",
     "text": [
      "14:57:56 - cmdstanpy - INFO - Chain [1] done processing\n"
     ]
    },
    {
     "name": "stdout",
     "output_type": "stream",
     "text": [
      "There are 1 NaN values in the data.\n",
      "Root Mean Squared Error (RMSE): 151.5648308933073\n",
      "Root Mean Squared Logarithmic Error (RMSLE): 2.5741014668511775\n",
      "\n",
      "Training model for store 29 and family 12...\n"
     ]
    },
    {
     "name": "stderr",
     "output_type": "stream",
     "text": [
      "14:57:57 - cmdstanpy - INFO - Chain [1] start processing\n",
      "14:57:57 - cmdstanpy - INFO - Chain [1] done processing\n"
     ]
    },
    {
     "name": "stdout",
     "output_type": "stream",
     "text": [
      "There are 1 NaN values in the data.\n",
      "Root Mean Squared Error (RMSE): 963.246095739902\n",
      "Root Mean Squared Logarithmic Error (RMSLE): 0.6800387201105652\n",
      "\n",
      "Training model for store 29 and family 13...\n"
     ]
    },
    {
     "name": "stderr",
     "output_type": "stream",
     "text": [
      "14:57:57 - cmdstanpy - INFO - Chain [1] start processing\n",
      "14:57:57 - cmdstanpy - INFO - Chain [1] done processing\n"
     ]
    },
    {
     "name": "stdout",
     "output_type": "stream",
     "text": [
      "There are 1 NaN values in the data.\n",
      "Root Mean Squared Error (RMSE): 12.107250407774924\n",
      "Root Mean Squared Logarithmic Error (RMSLE): 1.2116482831215902\n",
      "\n",
      "Training model for store 29 and family 14...\n"
     ]
    },
    {
     "name": "stderr",
     "output_type": "stream",
     "text": [
      "14:57:57 - cmdstanpy - INFO - Chain [1] start processing\n",
      "14:57:57 - cmdstanpy - INFO - Chain [1] done processing\n"
     ]
    },
    {
     "name": "stdout",
     "output_type": "stream",
     "text": [
      "There are 1 NaN values in the data.\n",
      "Root Mean Squared Error (RMSE): 1.3213474742517384\n",
      "Root Mean Squared Logarithmic Error (RMSLE): 0.5837680939903411\n",
      "\n",
      "Training model for store 29 and family 15...\n"
     ]
    },
    {
     "name": "stderr",
     "output_type": "stream",
     "text": [
      "14:57:58 - cmdstanpy - INFO - Chain [1] start processing\n",
      "14:57:58 - cmdstanpy - INFO - Chain [1] done processing\n"
     ]
    },
    {
     "name": "stdout",
     "output_type": "stream",
     "text": [
      "There are 1 NaN values in the data.\n",
      "Root Mean Squared Error (RMSE): 16.994529262910508\n",
      "Root Mean Squared Logarithmic Error (RMSLE): 0.6944040026399407\n",
      "\n",
      "Training model for store 29 and family 16...\n"
     ]
    },
    {
     "name": "stderr",
     "output_type": "stream",
     "text": [
      "14:57:58 - cmdstanpy - INFO - Chain [1] start processing\n",
      "14:57:58 - cmdstanpy - INFO - Chain [1] done processing\n"
     ]
    },
    {
     "name": "stdout",
     "output_type": "stream",
     "text": [
      "There are 1 NaN values in the data.\n",
      "Root Mean Squared Error (RMSE): 10.138654993942875\n",
      "Root Mean Squared Logarithmic Error (RMSLE): 0.5929655343179215\n",
      "\n",
      "Training model for store 29 and family 17...\n"
     ]
    },
    {
     "name": "stderr",
     "output_type": "stream",
     "text": [
      "14:57:59 - cmdstanpy - INFO - Chain [1] start processing\n",
      "14:57:59 - cmdstanpy - INFO - Chain [1] done processing\n",
      "14:57:59 - cmdstanpy - INFO - Chain [1] start processing\n"
     ]
    },
    {
     "name": "stdout",
     "output_type": "stream",
     "text": [
      "There are 1 NaN values in the data.\n",
      "Root Mean Squared Error (RMSE): 0.686743203677836\n",
      "Root Mean Squared Logarithmic Error (RMSLE): 0.39387322843963285\n",
      "\n",
      "Training model for store 29 and family 18...\n"
     ]
    },
    {
     "name": "stderr",
     "output_type": "stream",
     "text": [
      "14:57:59 - cmdstanpy - INFO - Chain [1] done processing\n"
     ]
    },
    {
     "name": "stdout",
     "output_type": "stream",
     "text": [
      "There are 1 NaN values in the data.\n",
      "Root Mean Squared Error (RMSE): 74.9230891329742\n",
      "Root Mean Squared Logarithmic Error (RMSLE): 0.5178949268197329\n",
      "\n",
      "Training model for store 29 and family 19...\n"
     ]
    },
    {
     "name": "stderr",
     "output_type": "stream",
     "text": [
      "14:57:59 - cmdstanpy - INFO - Chain [1] start processing\n",
      "14:58:00 - cmdstanpy - INFO - Chain [1] done processing\n"
     ]
    },
    {
     "name": "stdout",
     "output_type": "stream",
     "text": [
      "There are 1 NaN values in the data.\n",
      "Root Mean Squared Error (RMSE): 0.0\n",
      "Root Mean Squared Logarithmic Error (RMSLE): 0.0\n",
      "\n",
      "Training model for store 29 and family 20...\n"
     ]
    },
    {
     "name": "stderr",
     "output_type": "stream",
     "text": [
      "14:58:00 - cmdstanpy - INFO - Chain [1] start processing\n"
     ]
    },
    {
     "name": "stdout",
     "output_type": "stream",
     "text": [
      "There are 1 NaN values in the data.\n",
      "Root Mean Squared Error (RMSE): 6.649988541599964\n",
      "Root Mean Squared Logarithmic Error (RMSLE): 0.8785196719912247\n",
      "\n",
      "Training model for store 29 and family 21...\n"
     ]
    },
    {
     "name": "stderr",
     "output_type": "stream",
     "text": [
      "14:58:00 - cmdstanpy - INFO - Chain [1] done processing\n",
      "14:58:00 - cmdstanpy - INFO - Chain [1] start processing\n"
     ]
    },
    {
     "name": "stdout",
     "output_type": "stream",
     "text": [
      "There are 1 NaN values in the data.\n",
      "Root Mean Squared Error (RMSE): 3.7532814959920504\n",
      "Root Mean Squared Logarithmic Error (RMSLE): 0.7069832391599236\n",
      "\n",
      "Training model for store 29 and family 22...\n"
     ]
    },
    {
     "name": "stderr",
     "output_type": "stream",
     "text": [
      "14:58:00 - cmdstanpy - INFO - Chain [1] done processing\n",
      "14:58:00 - cmdstanpy - INFO - Chain [1] start processing\n"
     ]
    },
    {
     "name": "stdout",
     "output_type": "stream",
     "text": [
      "There are 1 NaN values in the data.\n",
      "Root Mean Squared Error (RMSE): 158.95010628671747\n",
      "Root Mean Squared Logarithmic Error (RMSLE): 1.399725785910958\n",
      "\n",
      "Training model for store 29 and family 23...\n"
     ]
    },
    {
     "name": "stderr",
     "output_type": "stream",
     "text": [
      "14:58:00 - cmdstanpy - INFO - Chain [1] done processing\n",
      "14:58:01 - cmdstanpy - INFO - Chain [1] start processing\n"
     ]
    },
    {
     "name": "stdout",
     "output_type": "stream",
     "text": [
      "There are 1 NaN values in the data.\n",
      "Root Mean Squared Error (RMSE): 1.7216905361799597\n",
      "Root Mean Squared Logarithmic Error (RMSLE): 0.6971044829197192\n",
      "\n",
      "Training model for store 29 and family 24...\n"
     ]
    },
    {
     "name": "stderr",
     "output_type": "stream",
     "text": [
      "14:58:01 - cmdstanpy - INFO - Chain [1] done processing\n",
      "14:58:01 - cmdstanpy - INFO - Chain [1] start processing\n"
     ]
    },
    {
     "name": "stdout",
     "output_type": "stream",
     "text": [
      "There are 1 NaN values in the data.\n",
      "Root Mean Squared Error (RMSE): 28.573316466596506\n",
      "Root Mean Squared Logarithmic Error (RMSLE): 0.4261310308683237\n",
      "\n",
      "Training model for store 29 and family 25...\n"
     ]
    },
    {
     "name": "stderr",
     "output_type": "stream",
     "text": [
      "14:58:01 - cmdstanpy - INFO - Chain [1] done processing\n",
      "14:58:01 - cmdstanpy - INFO - Chain [1] start processing\n"
     ]
    },
    {
     "name": "stdout",
     "output_type": "stream",
     "text": [
      "There are 1 NaN values in the data.\n",
      "Root Mean Squared Error (RMSE): 98.73272399925791\n",
      "Root Mean Squared Logarithmic Error (RMSLE): 0.5491553804588031\n",
      "\n",
      "Training model for store 29 and family 26...\n"
     ]
    },
    {
     "name": "stderr",
     "output_type": "stream",
     "text": [
      "14:58:01 - cmdstanpy - INFO - Chain [1] done processing\n",
      "14:58:02 - cmdstanpy - INFO - Chain [1] start processing\n"
     ]
    },
    {
     "name": "stdout",
     "output_type": "stream",
     "text": [
      "There are 1 NaN values in the data.\n",
      "Root Mean Squared Error (RMSE): 3.287553120243266\n",
      "Root Mean Squared Logarithmic Error (RMSLE): 0.5095431470004174\n",
      "\n",
      "Training model for store 29 and family 27...\n"
     ]
    },
    {
     "name": "stderr",
     "output_type": "stream",
     "text": [
      "14:58:02 - cmdstanpy - INFO - Chain [1] done processing\n",
      "14:58:02 - cmdstanpy - INFO - Chain [1] start processing\n"
     ]
    },
    {
     "name": "stdout",
     "output_type": "stream",
     "text": [
      "There are 1 NaN values in the data.\n",
      "Root Mean Squared Error (RMSE): 5.199933648435151\n",
      "Root Mean Squared Logarithmic Error (RMSLE): 0.71274740477261\n",
      "\n",
      "Training model for store 29 and family 28...\n"
     ]
    },
    {
     "name": "stderr",
     "output_type": "stream",
     "text": [
      "14:58:02 - cmdstanpy - INFO - Chain [1] done processing\n",
      "14:58:02 - cmdstanpy - INFO - Chain [1] start processing\n"
     ]
    },
    {
     "name": "stdout",
     "output_type": "stream",
     "text": [
      "There are 1 NaN values in the data.\n",
      "Root Mean Squared Error (RMSE): 48.514122059521895\n",
      "Root Mean Squared Logarithmic Error (RMSLE): 0.4748041940020751\n",
      "\n",
      "Training model for store 29 and family 29...\n"
     ]
    },
    {
     "name": "stderr",
     "output_type": "stream",
     "text": [
      "14:58:02 - cmdstanpy - INFO - Chain [1] done processing\n",
      "14:58:03 - cmdstanpy - INFO - Chain [1] start processing\n"
     ]
    },
    {
     "name": "stdout",
     "output_type": "stream",
     "text": [
      "There are 1 NaN values in the data.\n",
      "Root Mean Squared Error (RMSE): 23.1636237178003\n",
      "Root Mean Squared Logarithmic Error (RMSLE): 0.4707775356927449\n",
      "\n",
      "Training model for store 29 and family 30...\n"
     ]
    },
    {
     "name": "stderr",
     "output_type": "stream",
     "text": [
      "14:58:03 - cmdstanpy - INFO - Chain [1] done processing\n"
     ]
    },
    {
     "name": "stdout",
     "output_type": "stream",
     "text": [
      "There are 1 NaN values in the data.\n",
      "Root Mean Squared Error (RMSE): 465.51284598933535\n",
      "Root Mean Squared Logarithmic Error (RMSLE): 0.6477194284226797\n",
      "\n",
      "Training model for store 29 and family 31...\n"
     ]
    },
    {
     "name": "stderr",
     "output_type": "stream",
     "text": [
      "14:58:03 - cmdstanpy - INFO - Chain [1] start processing\n",
      "14:58:03 - cmdstanpy - INFO - Chain [1] done processing\n",
      "14:58:04 - cmdstanpy - INFO - Chain [1] start processing\n"
     ]
    },
    {
     "name": "stdout",
     "output_type": "stream",
     "text": [
      "There are 1 NaN values in the data.\n",
      "Root Mean Squared Error (RMSE): 12.506904010028473\n",
      "Root Mean Squared Logarithmic Error (RMSLE): 1.0741572053897006\n",
      "\n",
      "Training model for store 29 and family 32...\n"
     ]
    },
    {
     "name": "stderr",
     "output_type": "stream",
     "text": [
      "14:58:04 - cmdstanpy - INFO - Chain [1] done processing\n"
     ]
    },
    {
     "name": "stdout",
     "output_type": "stream",
     "text": [
      "There are 1 NaN values in the data.\n",
      "Root Mean Squared Error (RMSE): 4.917241100739183\n",
      "Root Mean Squared Logarithmic Error (RMSLE): 0.7545065737270892\n",
      "\n",
      "Training model for store 3 and family 0...\n"
     ]
    },
    {
     "name": "stderr",
     "output_type": "stream",
     "text": [
      "14:58:04 - cmdstanpy - INFO - Chain [1] start processing\n",
      "14:58:04 - cmdstanpy - INFO - Chain [1] done processing\n",
      "14:58:04 - cmdstanpy - INFO - Chain [1] start processing\n"
     ]
    },
    {
     "name": "stdout",
     "output_type": "stream",
     "text": [
      "There are 1 NaN values in the data.\n",
      "Root Mean Squared Error (RMSE): 6.125811205168669\n",
      "Root Mean Squared Logarithmic Error (RMSLE): 0.6260969036734979\n",
      "\n",
      "Training model for store 3 and family 1...\n"
     ]
    },
    {
     "name": "stderr",
     "output_type": "stream",
     "text": [
      "14:58:04 - cmdstanpy - INFO - Chain [1] done processing\n",
      "14:58:05 - cmdstanpy - INFO - Chain [1] start processing\n"
     ]
    },
    {
     "name": "stdout",
     "output_type": "stream",
     "text": [
      "There are 1 NaN values in the data.\n",
      "Root Mean Squared Error (RMSE): 1.8162509025580065\n",
      "Root Mean Squared Logarithmic Error (RMSLE): 0.6189596065446513\n",
      "\n",
      "Training model for store 3 and family 2...\n"
     ]
    },
    {
     "name": "stderr",
     "output_type": "stream",
     "text": [
      "14:58:05 - cmdstanpy - INFO - Chain [1] done processing\n",
      "14:58:05 - cmdstanpy - INFO - Chain [1] start processing\n"
     ]
    },
    {
     "name": "stdout",
     "output_type": "stream",
     "text": [
      "There are 1 NaN values in the data.\n",
      "Root Mean Squared Error (RMSE): 7.691346396127046\n",
      "Root Mean Squared Logarithmic Error (RMSLE): 0.5516766636264276\n",
      "\n",
      "Training model for store 3 and family 3...\n"
     ]
    },
    {
     "name": "stderr",
     "output_type": "stream",
     "text": [
      "14:58:05 - cmdstanpy - INFO - Chain [1] done processing\n"
     ]
    },
    {
     "name": "stdout",
     "output_type": "stream",
     "text": [
      "There are 1 NaN values in the data.\n",
      "Root Mean Squared Error (RMSE): 2407.122079074589\n",
      "Root Mean Squared Logarithmic Error (RMSLE): 0.7507782035026492\n",
      "\n",
      "Training model for store 3 and family 4...\n"
     ]
    },
    {
     "name": "stderr",
     "output_type": "stream",
     "text": [
      "14:58:06 - cmdstanpy - INFO - Chain [1] start processing\n",
      "14:58:06 - cmdstanpy - INFO - Chain [1] done processing\n"
     ]
    },
    {
     "name": "stdout",
     "output_type": "stream",
     "text": [
      "There are 1 NaN values in the data.\n",
      "Root Mean Squared Error (RMSE): 2.6934063692325534\n",
      "Root Mean Squared Logarithmic Error (RMSLE): 0.9863507838282018\n",
      "\n",
      "Training model for store 3 and family 5...\n"
     ]
    },
    {
     "name": "stderr",
     "output_type": "stream",
     "text": [
      "14:58:06 - cmdstanpy - INFO - Chain [1] start processing\n"
     ]
    },
    {
     "name": "stdout",
     "output_type": "stream",
     "text": [
      "There are 1 NaN values in the data.\n",
      "Root Mean Squared Error (RMSE): 247.23801559475342\n",
      "Root Mean Squared Logarithmic Error (RMSLE): 0.5927449095349802\n",
      "\n",
      "Training model for store 3 and family 6...\n"
     ]
    },
    {
     "name": "stderr",
     "output_type": "stream",
     "text": [
      "14:58:06 - cmdstanpy - INFO - Chain [1] done processing\n",
      "14:58:06 - cmdstanpy - INFO - Chain [1] start processing\n"
     ]
    },
    {
     "name": "stdout",
     "output_type": "stream",
     "text": [
      "There are 1 NaN values in the data.\n",
      "Root Mean Squared Error (RMSE): 47.55461692317986\n",
      "Root Mean Squared Logarithmic Error (RMSLE): 0.6984266246096\n",
      "\n",
      "Training model for store 3 and family 7...\n"
     ]
    },
    {
     "name": "stderr",
     "output_type": "stream",
     "text": [
      "14:58:06 - cmdstanpy - INFO - Chain [1] done processing\n",
      "14:58:07 - cmdstanpy - INFO - Chain [1] start processing\n"
     ]
    },
    {
     "name": "stdout",
     "output_type": "stream",
     "text": [
      "There are 1 NaN values in the data.\n",
      "Root Mean Squared Error (RMSE): 442.66192206607485\n",
      "Root Mean Squared Logarithmic Error (RMSLE): 0.6345901214364139\n",
      "\n",
      "Training model for store 3 and family 8...\n"
     ]
    },
    {
     "name": "stderr",
     "output_type": "stream",
     "text": [
      "14:58:07 - cmdstanpy - INFO - Chain [1] done processing\n",
      "14:58:07 - cmdstanpy - INFO - Chain [1] start processing\n"
     ]
    },
    {
     "name": "stdout",
     "output_type": "stream",
     "text": [
      "There are 1 NaN values in the data.\n",
      "Root Mean Squared Error (RMSE): 418.4041342481292\n",
      "Root Mean Squared Logarithmic Error (RMSLE): 0.6360090574251742\n",
      "\n",
      "Training model for store 3 and family 9...\n"
     ]
    },
    {
     "name": "stderr",
     "output_type": "stream",
     "text": [
      "14:58:07 - cmdstanpy - INFO - Chain [1] done processing\n",
      "14:58:07 - cmdstanpy - INFO - Chain [1] start processing\n"
     ]
    },
    {
     "name": "stdout",
     "output_type": "stream",
     "text": [
      "There are 1 NaN values in the data.\n",
      "Root Mean Squared Error (RMSE): 116.97215547349865\n",
      "Root Mean Squared Logarithmic Error (RMSLE): 0.5622821040810589\n",
      "\n",
      "Training model for store 3 and family 10...\n"
     ]
    },
    {
     "name": "stderr",
     "output_type": "stream",
     "text": [
      "14:58:07 - cmdstanpy - INFO - Chain [1] done processing\n",
      "14:58:08 - cmdstanpy - INFO - Chain [1] start processing\n"
     ]
    },
    {
     "name": "stdout",
     "output_type": "stream",
     "text": [
      "There are 1 NaN values in the data.\n",
      "Root Mean Squared Error (RMSE): 94.70551785199318\n",
      "Root Mean Squared Logarithmic Error (RMSLE): 0.5235405822339787\n",
      "\n",
      "Training model for store 3 and family 11...\n"
     ]
    },
    {
     "name": "stderr",
     "output_type": "stream",
     "text": [
      "14:58:08 - cmdstanpy - INFO - Chain [1] done processing\n",
      "14:58:08 - cmdstanpy - INFO - Chain [1] start processing\n"
     ]
    },
    {
     "name": "stdout",
     "output_type": "stream",
     "text": [
      "There are 1 NaN values in the data.\n",
      "Root Mean Squared Error (RMSE): 318.7340494911634\n",
      "Root Mean Squared Logarithmic Error (RMSLE): 0.7280867607132662\n",
      "\n",
      "Training model for store 3 and family 12...\n"
     ]
    },
    {
     "name": "stderr",
     "output_type": "stream",
     "text": [
      "14:58:08 - cmdstanpy - INFO - Chain [1] done processing\n",
      "14:58:08 - cmdstanpy - INFO - Chain [1] start processing\n"
     ]
    },
    {
     "name": "stdout",
     "output_type": "stream",
     "text": [
      "There are 1 NaN values in the data.\n",
      "Root Mean Squared Error (RMSE): 1731.841137210087\n",
      "Root Mean Squared Logarithmic Error (RMSLE): 0.7383347288891348\n",
      "\n",
      "Training model for store 3 and family 13...\n"
     ]
    },
    {
     "name": "stderr",
     "output_type": "stream",
     "text": [
      "14:58:08 - cmdstanpy - INFO - Chain [1] done processing\n"
     ]
    },
    {
     "name": "stdout",
     "output_type": "stream",
     "text": [
      "There are 1 NaN values in the data.\n",
      "Root Mean Squared Error (RMSE): 34.07062733257732\n",
      "Root Mean Squared Logarithmic Error (RMSLE): 0.5340203521013305\n",
      "\n",
      "Training model for store 3 and family 14...\n"
     ]
    },
    {
     "name": "stderr",
     "output_type": "stream",
     "text": [
      "14:58:09 - cmdstanpy - INFO - Chain [1] start processing\n",
      "14:58:09 - cmdstanpy - INFO - Chain [1] done processing\n"
     ]
    },
    {
     "name": "stdout",
     "output_type": "stream",
     "text": [
      "There are 1 NaN values in the data.\n",
      "Root Mean Squared Error (RMSE): 2.267325666460378\n",
      "Root Mean Squared Logarithmic Error (RMSLE): 0.541837416230325\n",
      "\n",
      "Training model for store 3 and family 15...\n"
     ]
    },
    {
     "name": "stderr",
     "output_type": "stream",
     "text": [
      "14:58:09 - cmdstanpy - INFO - Chain [1] start processing\n",
      "14:58:09 - cmdstanpy - INFO - Chain [1] done processing\n",
      "14:58:09 - cmdstanpy - INFO - Chain [1] start processing\n"
     ]
    },
    {
     "name": "stdout",
     "output_type": "stream",
     "text": [
      "There are 1 NaN values in the data.\n",
      "Root Mean Squared Error (RMSE): 34.846481756713175\n",
      "Root Mean Squared Logarithmic Error (RMSLE): 0.6580316003600742\n",
      "\n",
      "Training model for store 3 and family 16...\n"
     ]
    },
    {
     "name": "stderr",
     "output_type": "stream",
     "text": [
      "14:58:09 - cmdstanpy - INFO - Chain [1] done processing\n",
      "14:58:10 - cmdstanpy - INFO - Chain [1] start processing\n"
     ]
    },
    {
     "name": "stdout",
     "output_type": "stream",
     "text": [
      "There are 1 NaN values in the data.\n",
      "Root Mean Squared Error (RMSE): 20.818889106484495\n",
      "Root Mean Squared Logarithmic Error (RMSLE): 0.4746344479731675\n",
      "\n",
      "Training model for store 3 and family 17...\n"
     ]
    },
    {
     "name": "stderr",
     "output_type": "stream",
     "text": [
      "14:58:10 - cmdstanpy - INFO - Chain [1] done processing\n"
     ]
    },
    {
     "name": "stdout",
     "output_type": "stream",
     "text": [
      "There are 1 NaN values in the data.\n",
      "Root Mean Squared Error (RMSE): 1.5993522035815328\n",
      "Root Mean Squared Logarithmic Error (RMSLE): 0.6016090968964429\n",
      "\n",
      "Training model for store 3 and family 18...\n"
     ]
    },
    {
     "name": "stderr",
     "output_type": "stream",
     "text": [
      "14:58:10 - cmdstanpy - INFO - Chain [1] start processing\n",
      "14:58:10 - cmdstanpy - INFO - Chain [1] done processing\n",
      "14:58:10 - cmdstanpy - INFO - Chain [1] start processing\n"
     ]
    },
    {
     "name": "stdout",
     "output_type": "stream",
     "text": [
      "There are 1 NaN values in the data.\n",
      "Root Mean Squared Error (RMSE): 151.48390144769846\n",
      "Root Mean Squared Logarithmic Error (RMSLE): 0.57046399771735\n",
      "\n",
      "Training model for store 3 and family 19...\n"
     ]
    },
    {
     "name": "stderr",
     "output_type": "stream",
     "text": [
      "14:58:10 - cmdstanpy - INFO - Chain [1] done processing\n",
      "14:58:11 - cmdstanpy - INFO - Chain [1] start processing\n"
     ]
    },
    {
     "name": "stdout",
     "output_type": "stream",
     "text": [
      "There are 1 NaN values in the data.\n",
      "Root Mean Squared Error (RMSE): 26.65278494869858\n",
      "Root Mean Squared Logarithmic Error (RMSLE): 0.6563969563891183\n",
      "\n",
      "Training model for store 3 and family 20...\n"
     ]
    },
    {
     "name": "stderr",
     "output_type": "stream",
     "text": [
      "14:58:11 - cmdstanpy - INFO - Chain [1] done processing\n",
      "14:58:11 - cmdstanpy - INFO - Chain [1] start processing\n"
     ]
    },
    {
     "name": "stdout",
     "output_type": "stream",
     "text": [
      "There are 1 NaN values in the data.\n",
      "Root Mean Squared Error (RMSE): 42.03777327017178\n",
      "Root Mean Squared Logarithmic Error (RMSLE): 0.9451617081478684\n",
      "\n",
      "Training model for store 3 and family 21...\n"
     ]
    },
    {
     "name": "stderr",
     "output_type": "stream",
     "text": [
      "14:58:11 - cmdstanpy - INFO - Chain [1] done processing\n",
      "14:58:11 - cmdstanpy - INFO - Chain [1] start processing\n"
     ]
    },
    {
     "name": "stdout",
     "output_type": "stream",
     "text": [
      "There are 1 NaN values in the data.\n",
      "Root Mean Squared Error (RMSE): 14.810780522748496\n",
      "Root Mean Squared Logarithmic Error (RMSLE): 0.6758876105208245\n",
      "\n",
      "Training model for store 3 and family 22...\n"
     ]
    },
    {
     "name": "stderr",
     "output_type": "stream",
     "text": [
      "14:58:11 - cmdstanpy - INFO - Chain [1] done processing\n"
     ]
    },
    {
     "name": "stdout",
     "output_type": "stream",
     "text": [
      "There are 1 NaN values in the data.\n",
      "Root Mean Squared Error (RMSE): 105.94609984254988\n",
      "Root Mean Squared Logarithmic Error (RMSLE): 1.0080159342154045\n",
      "\n",
      "Training model for store 3 and family 23...\n"
     ]
    },
    {
     "name": "stderr",
     "output_type": "stream",
     "text": [
      "14:58:12 - cmdstanpy - INFO - Chain [1] start processing\n",
      "14:58:12 - cmdstanpy - INFO - Chain [1] done processing\n"
     ]
    },
    {
     "name": "stdout",
     "output_type": "stream",
     "text": [
      "There are 1 NaN values in the data.\n",
      "Root Mean Squared Error (RMSE): 16.603898991419516\n",
      "Root Mean Squared Logarithmic Error (RMSLE): 0.7169172738995073\n",
      "\n",
      "Training model for store 3 and family 24...\n"
     ]
    },
    {
     "name": "stderr",
     "output_type": "stream",
     "text": [
      "14:58:12 - cmdstanpy - INFO - Chain [1] start processing\n",
      "14:58:12 - cmdstanpy - INFO - Chain [1] done processing\n"
     ]
    },
    {
     "name": "stdout",
     "output_type": "stream",
     "text": [
      "There are 1 NaN values in the data.\n",
      "Root Mean Squared Error (RMSE): 182.39868812510784\n",
      "Root Mean Squared Logarithmic Error (RMSLE): 0.5579665728237235\n",
      "\n",
      "Training model for store 3 and family 25...\n"
     ]
    },
    {
     "name": "stderr",
     "output_type": "stream",
     "text": [
      "14:58:12 - cmdstanpy - INFO - Chain [1] start processing\n",
      "14:58:13 - cmdstanpy - INFO - Chain [1] done processing\n",
      "14:58:13 - cmdstanpy - INFO - Chain [1] start processing\n"
     ]
    },
    {
     "name": "stdout",
     "output_type": "stream",
     "text": [
      "There are 1 NaN values in the data.\n",
      "Root Mean Squared Error (RMSE): 146.30507744117375\n",
      "Root Mean Squared Logarithmic Error (RMSLE): 0.564601862179698\n",
      "\n",
      "Training model for store 3 and family 26...\n"
     ]
    },
    {
     "name": "stderr",
     "output_type": "stream",
     "text": [
      "14:58:13 - cmdstanpy - INFO - Chain [1] done processing\n"
     ]
    },
    {
     "name": "stdout",
     "output_type": "stream",
     "text": [
      "There are 1 NaN values in the data.\n",
      "Root Mean Squared Error (RMSE): 9.251042813708866\n",
      "Root Mean Squared Logarithmic Error (RMSLE): 0.5122779198364104\n",
      "\n",
      "Training model for store 3 and family 27...\n"
     ]
    },
    {
     "name": "stderr",
     "output_type": "stream",
     "text": [
      "14:58:13 - cmdstanpy - INFO - Chain [1] start processing\n",
      "14:58:13 - cmdstanpy - INFO - Chain [1] done processing\n"
     ]
    },
    {
     "name": "stdout",
     "output_type": "stream",
     "text": [
      "There are 1 NaN values in the data.\n",
      "Root Mean Squared Error (RMSE): 11.421600995112133\n",
      "Root Mean Squared Logarithmic Error (RMSLE): 0.4754008342514514\n",
      "\n",
      "Training model for store 3 and family 28...\n"
     ]
    },
    {
     "name": "stderr",
     "output_type": "stream",
     "text": [
      "14:58:14 - cmdstanpy - INFO - Chain [1] start processing\n",
      "14:58:14 - cmdstanpy - INFO - Chain [1] done processing\n"
     ]
    },
    {
     "name": "stdout",
     "output_type": "stream",
     "text": [
      "There are 1 NaN values in the data.\n",
      "Root Mean Squared Error (RMSE): 232.0223610751117\n",
      "Root Mean Squared Logarithmic Error (RMSLE): 0.5833582693195193\n",
      "\n",
      "Training model for store 3 and family 29...\n"
     ]
    },
    {
     "name": "stderr",
     "output_type": "stream",
     "text": [
      "14:58:14 - cmdstanpy - INFO - Chain [1] start processing\n",
      "14:58:14 - cmdstanpy - INFO - Chain [1] done processing\n"
     ]
    },
    {
     "name": "stdout",
     "output_type": "stream",
     "text": [
      "There are 1 NaN values in the data.\n",
      "Root Mean Squared Error (RMSE): 89.59893046949628\n",
      "Root Mean Squared Logarithmic Error (RMSLE): 0.5340654407797997\n",
      "\n",
      "Training model for store 3 and family 30...\n"
     ]
    },
    {
     "name": "stderr",
     "output_type": "stream",
     "text": [
      "14:58:15 - cmdstanpy - INFO - Chain [1] start processing\n",
      "14:58:15 - cmdstanpy - INFO - Chain [1] done processing\n"
     ]
    },
    {
     "name": "stdout",
     "output_type": "stream",
     "text": [
      "There are 1 NaN values in the data.\n",
      "Root Mean Squared Error (RMSE): 3869.9962767080547\n",
      "Root Mean Squared Logarithmic Error (RMSLE): 0.8297497393183877\n",
      "\n",
      "Training model for store 3 and family 31...\n"
     ]
    },
    {
     "name": "stderr",
     "output_type": "stream",
     "text": [
      "14:58:15 - cmdstanpy - INFO - Chain [1] start processing\n",
      "14:58:15 - cmdstanpy - INFO - Chain [1] done processing\n"
     ]
    },
    {
     "name": "stdout",
     "output_type": "stream",
     "text": [
      "There are 1 NaN values in the data.\n",
      "Root Mean Squared Error (RMSE): 1.9089968669298747\n",
      "Root Mean Squared Logarithmic Error (RMSLE): 0.7191094471768652\n",
      "\n",
      "Training model for store 3 and family 32...\n"
     ]
    },
    {
     "name": "stderr",
     "output_type": "stream",
     "text": [
      "14:58:15 - cmdstanpy - INFO - Chain [1] start processing\n",
      "14:58:15 - cmdstanpy - INFO - Chain [1] done processing\n"
     ]
    },
    {
     "name": "stdout",
     "output_type": "stream",
     "text": [
      "There are 1 NaN values in the data.\n",
      "Root Mean Squared Error (RMSE): 22.693669910614943\n",
      "Root Mean Squared Logarithmic Error (RMSLE): 0.4203363813717325\n",
      "\n",
      "Training model for store 30 and family 0...\n"
     ]
    },
    {
     "name": "stderr",
     "output_type": "stream",
     "text": [
      "14:58:16 - cmdstanpy - INFO - Chain [1] start processing\n",
      "14:58:16 - cmdstanpy - INFO - Chain [1] done processing\n",
      "14:58:16 - cmdstanpy - INFO - Chain [1] start processing\n"
     ]
    },
    {
     "name": "stdout",
     "output_type": "stream",
     "text": [
      "There are 1 NaN values in the data.\n",
      "Root Mean Squared Error (RMSE): 2.388299083313335\n",
      "Root Mean Squared Logarithmic Error (RMSLE): 0.6529416104754402\n",
      "\n",
      "Training model for store 30 and family 1...\n"
     ]
    },
    {
     "name": "stderr",
     "output_type": "stream",
     "text": [
      "14:58:16 - cmdstanpy - INFO - Chain [1] done processing\n"
     ]
    },
    {
     "name": "stdout",
     "output_type": "stream",
     "text": [
      "There are 1 NaN values in the data.\n",
      "Root Mean Squared Error (RMSE): 0.5476941156719829\n",
      "Root Mean Squared Logarithmic Error (RMSLE): 0.31303652737567056\n",
      "\n",
      "Training model for store 30 and family 2...\n"
     ]
    },
    {
     "name": "stderr",
     "output_type": "stream",
     "text": [
      "14:58:16 - cmdstanpy - INFO - Chain [1] start processing\n",
      "14:58:16 - cmdstanpy - INFO - Chain [1] done processing\n",
      "14:58:17 - cmdstanpy - INFO - Chain [1] start processing\n"
     ]
    },
    {
     "name": "stdout",
     "output_type": "stream",
     "text": [
      "There are 1 NaN values in the data.\n",
      "Root Mean Squared Error (RMSE): 1.0688797584204437\n",
      "Root Mean Squared Logarithmic Error (RMSLE): 0.5348221758093729\n",
      "\n",
      "Training model for store 30 and family 3...\n"
     ]
    },
    {
     "name": "stderr",
     "output_type": "stream",
     "text": [
      "14:58:17 - cmdstanpy - INFO - Chain [1] done processing\n"
     ]
    },
    {
     "name": "stdout",
     "output_type": "stream",
     "text": [
      "There are 1 NaN values in the data.\n",
      "Root Mean Squared Error (RMSE): 386.7130317778777\n",
      "Root Mean Squared Logarithmic Error (RMSLE): 0.6339805702558445\n",
      "\n",
      "Training model for store 30 and family 4...\n"
     ]
    },
    {
     "name": "stderr",
     "output_type": "stream",
     "text": [
      "14:58:17 - cmdstanpy - INFO - Chain [1] start processing\n",
      "14:58:17 - cmdstanpy - INFO - Chain [1] done processing\n"
     ]
    },
    {
     "name": "stdout",
     "output_type": "stream",
     "text": [
      "There are 1 NaN values in the data.\n",
      "Root Mean Squared Error (RMSE): 0.0\n",
      "Root Mean Squared Logarithmic Error (RMSLE): 0.0\n",
      "\n",
      "Training model for store 30 and family 5...\n"
     ]
    },
    {
     "name": "stderr",
     "output_type": "stream",
     "text": [
      "14:58:18 - cmdstanpy - INFO - Chain [1] start processing\n"
     ]
    },
    {
     "name": "stdout",
     "output_type": "stream",
     "text": [
      "There are 1 NaN values in the data.\n",
      "Root Mean Squared Error (RMSE): 38.61195665638651\n",
      "Root Mean Squared Logarithmic Error (RMSLE): 0.5272387774309998\n",
      "\n",
      "Training model for store 30 and family 6...\n"
     ]
    },
    {
     "name": "stderr",
     "output_type": "stream",
     "text": [
      "14:58:18 - cmdstanpy - INFO - Chain [1] done processing\n"
     ]
    },
    {
     "name": "stdout",
     "output_type": "stream",
     "text": [
      "There are 1 NaN values in the data.\n",
      "Root Mean Squared Error (RMSE): 3.0971877745970553\n",
      "Root Mean Squared Logarithmic Error (RMSLE): 0.7536712665725728\n",
      "\n",
      "Training model for store 30 and family 7...\n"
     ]
    },
    {
     "name": "stderr",
     "output_type": "stream",
     "text": [
      "14:58:18 - cmdstanpy - INFO - Chain [1] start processing\n",
      "14:58:18 - cmdstanpy - INFO - Chain [1] done processing\n"
     ]
    },
    {
     "name": "stdout",
     "output_type": "stream",
     "text": [
      "There are 1 NaN values in the data.\n",
      "Root Mean Squared Error (RMSE): 758.3034757256709\n",
      "Root Mean Squared Logarithmic Error (RMSLE): 0.7225628217232384\n",
      "\n",
      "Training model for store 30 and family 8...\n"
     ]
    },
    {
     "name": "stderr",
     "output_type": "stream",
     "text": [
      "14:58:18 - cmdstanpy - INFO - Chain [1] start processing\n",
      "14:58:19 - cmdstanpy - INFO - Chain [1] done processing\n"
     ]
    },
    {
     "name": "stdout",
     "output_type": "stream",
     "text": [
      "There are 1 NaN values in the data.\n",
      "Root Mean Squared Error (RMSE): 75.84517563612611\n",
      "Root Mean Squared Logarithmic Error (RMSLE): 0.5515761137226466\n",
      "\n",
      "Training model for store 30 and family 9...\n"
     ]
    },
    {
     "name": "stderr",
     "output_type": "stream",
     "text": [
      "14:58:19 - cmdstanpy - INFO - Chain [1] start processing\n",
      "14:58:19 - cmdstanpy - INFO - Chain [1] done processing\n"
     ]
    },
    {
     "name": "stdout",
     "output_type": "stream",
     "text": [
      "There are 1 NaN values in the data.\n",
      "Root Mean Squared Error (RMSE): 40.85643076363007\n",
      "Root Mean Squared Logarithmic Error (RMSLE): 0.5395403663595356\n",
      "\n",
      "Training model for store 30 and family 10...\n"
     ]
    },
    {
     "name": "stderr",
     "output_type": "stream",
     "text": [
      "14:58:19 - cmdstanpy - INFO - Chain [1] start processing\n",
      "14:58:19 - cmdstanpy - INFO - Chain [1] done processing\n"
     ]
    },
    {
     "name": "stdout",
     "output_type": "stream",
     "text": [
      "There are 1 NaN values in the data.\n",
      "Root Mean Squared Error (RMSE): 57.47228656259971\n",
      "Root Mean Squared Logarithmic Error (RMSLE): 0.5756060855879819\n",
      "\n",
      "Training model for store 30 and family 11...\n"
     ]
    },
    {
     "name": "stderr",
     "output_type": "stream",
     "text": [
      "14:58:20 - cmdstanpy - INFO - Chain [1] start processing\n",
      "14:58:20 - cmdstanpy - INFO - Chain [1] done processing\n",
      "14:58:20 - cmdstanpy - INFO - Chain [1] start processing\n"
     ]
    },
    {
     "name": "stdout",
     "output_type": "stream",
     "text": [
      "There are 1 NaN values in the data.\n",
      "Root Mean Squared Error (RMSE): 195.6553120114904\n",
      "Root Mean Squared Logarithmic Error (RMSLE): 1.1501002859325695\n",
      "\n",
      "Training model for store 30 and family 12...\n"
     ]
    },
    {
     "name": "stderr",
     "output_type": "stream",
     "text": [
      "14:58:20 - cmdstanpy - INFO - Chain [1] done processing\n"
     ]
    },
    {
     "name": "stdout",
     "output_type": "stream",
     "text": [
      "There are 1 NaN values in the data.\n",
      "Root Mean Squared Error (RMSE): 673.1688625350257\n",
      "Root Mean Squared Logarithmic Error (RMSLE): 0.6842130556425169\n",
      "\n",
      "Training model for store 30 and family 13...\n"
     ]
    },
    {
     "name": "stderr",
     "output_type": "stream",
     "text": [
      "14:58:20 - cmdstanpy - INFO - Chain [1] start processing\n",
      "14:58:20 - cmdstanpy - INFO - Chain [1] done processing\n"
     ]
    },
    {
     "name": "stdout",
     "output_type": "stream",
     "text": [
      "There are 1 NaN values in the data.\n",
      "Root Mean Squared Error (RMSE): 4.255010361043003\n",
      "Root Mean Squared Logarithmic Error (RMSLE): 0.8804594863405509\n",
      "\n",
      "Training model for store 30 and family 14...\n"
     ]
    },
    {
     "name": "stderr",
     "output_type": "stream",
     "text": [
      "14:58:21 - cmdstanpy - INFO - Chain [1] start processing\n",
      "14:58:21 - cmdstanpy - INFO - Chain [1] done processing\n"
     ]
    },
    {
     "name": "stdout",
     "output_type": "stream",
     "text": [
      "There are 1 NaN values in the data.\n",
      "Root Mean Squared Error (RMSE): 1.0133123516798317\n",
      "Root Mean Squared Logarithmic Error (RMSLE): 0.5025534094110199\n",
      "\n",
      "Training model for store 30 and family 15...\n"
     ]
    },
    {
     "name": "stderr",
     "output_type": "stream",
     "text": [
      "14:58:21 - cmdstanpy - INFO - Chain [1] start processing\n",
      "14:58:21 - cmdstanpy - INFO - Chain [1] done processing\n"
     ]
    },
    {
     "name": "stdout",
     "output_type": "stream",
     "text": [
      "There are 1 NaN values in the data.\n",
      "Root Mean Squared Error (RMSE): 8.578685156394814\n",
      "Root Mean Squared Logarithmic Error (RMSLE): 0.6213647643631293\n",
      "\n",
      "Training model for store 30 and family 16...\n"
     ]
    },
    {
     "name": "stderr",
     "output_type": "stream",
     "text": [
      "14:58:21 - cmdstanpy - INFO - Chain [1] start processing\n",
      "14:58:22 - cmdstanpy - INFO - Chain [1] done processing\n"
     ]
    },
    {
     "name": "stdout",
     "output_type": "stream",
     "text": [
      "There are 1 NaN values in the data.\n",
      "Root Mean Squared Error (RMSE): 5.3278547142382235\n",
      "Root Mean Squared Logarithmic Error (RMSLE): 0.7106870508270183\n"
     ]
    },
    {
     "name": "stderr",
     "output_type": "stream",
     "text": [
      "14:58:22 - cmdstanpy - INFO - Chain [1] start processing\n",
      "14:58:22 - cmdstanpy - INFO - Chain [1] done processing\n"
     ]
    },
    {
     "name": "stdout",
     "output_type": "stream",
     "text": [
      "\n",
      "Training model for store 30 and family 17...\n",
      "There are 1 NaN values in the data.\n",
      "Root Mean Squared Error (RMSE): 0.5748200821660711\n",
      "Root Mean Squared Logarithmic Error (RMSLE): 0.33656608208661\n"
     ]
    },
    {
     "name": "stderr",
     "output_type": "stream",
     "text": [
      "14:58:22 - cmdstanpy - INFO - Chain [1] start processing\n",
      "14:58:22 - cmdstanpy - INFO - Chain [1] done processing\n"
     ]
    },
    {
     "name": "stdout",
     "output_type": "stream",
     "text": [
      "\n",
      "Training model for store 30 and family 18...\n",
      "There are 1 NaN values in the data.\n",
      "Root Mean Squared Error (RMSE): 54.49828690596774\n",
      "Root Mean Squared Logarithmic Error (RMSLE): 0.5612485721677203\n",
      "\n",
      "Training model for store 30 and family 19...\n"
     ]
    },
    {
     "name": "stderr",
     "output_type": "stream",
     "text": [
      "14:58:23 - cmdstanpy - INFO - Chain [1] start processing\n",
      "14:58:23 - cmdstanpy - INFO - Chain [1] done processing\n"
     ]
    },
    {
     "name": "stdout",
     "output_type": "stream",
     "text": [
      "There are 1 NaN values in the data.\n",
      "Root Mean Squared Error (RMSE): 1.113580701704665\n",
      "Root Mean Squared Logarithmic Error (RMSLE): 0.5346205042748099\n",
      "\n",
      "Training model for store 30 and family 20...\n"
     ]
    },
    {
     "name": "stderr",
     "output_type": "stream",
     "text": [
      "14:58:23 - cmdstanpy - INFO - Chain [1] start processing\n"
     ]
    },
    {
     "name": "stdout",
     "output_type": "stream",
     "text": [
      "There are 1 NaN values in the data.\n",
      "Root Mean Squared Error (RMSE): 0.0\n",
      "Root Mean Squared Logarithmic Error (RMSLE): 0.0\n",
      "\n",
      "Training model for store 30 and family 21...\n"
     ]
    },
    {
     "name": "stderr",
     "output_type": "stream",
     "text": [
      "14:58:24 - cmdstanpy - INFO - Chain [1] done processing\n"
     ]
    },
    {
     "name": "stdout",
     "output_type": "stream",
     "text": [
      "There are 1 NaN values in the data.\n",
      "Root Mean Squared Error (RMSE): 3.696289268438349\n",
      "Root Mean Squared Logarithmic Error (RMSLE): 1.0434194661472629\n"
     ]
    },
    {
     "name": "stderr",
     "output_type": "stream",
     "text": [
      "14:58:24 - cmdstanpy - INFO - Chain [1] start processing\n",
      "14:58:24 - cmdstanpy - INFO - Chain [1] done processing\n"
     ]
    },
    {
     "name": "stdout",
     "output_type": "stream",
     "text": [
      "\n",
      "Training model for store 30 and family 22...\n",
      "There are 1 NaN values in the data.\n",
      "Root Mean Squared Error (RMSE): 74.95789162130676\n",
      "Root Mean Squared Logarithmic Error (RMSLE): 1.3499453358551787\n",
      "\n",
      "Training model for store 30 and family 23...\n"
     ]
    },
    {
     "name": "stderr",
     "output_type": "stream",
     "text": [
      "14:58:24 - cmdstanpy - INFO - Chain [1] start processing\n",
      "14:58:25 - cmdstanpy - INFO - Chain [1] done processing\n"
     ]
    },
    {
     "name": "stdout",
     "output_type": "stream",
     "text": [
      "There are 1 NaN values in the data.\n",
      "Root Mean Squared Error (RMSE): 1.0228739221179906\n",
      "Root Mean Squared Logarithmic Error (RMSLE): 0.5883484172355511\n",
      "\n",
      "Training model for store 30 and family 24...\n"
     ]
    },
    {
     "name": "stderr",
     "output_type": "stream",
     "text": [
      "14:58:25 - cmdstanpy - INFO - Chain [1] start processing\n",
      "14:58:25 - cmdstanpy - INFO - Chain [1] done processing\n"
     ]
    },
    {
     "name": "stdout",
     "output_type": "stream",
     "text": [
      "There are 1 NaN values in the data.\n",
      "Root Mean Squared Error (RMSE): 25.003923076217102\n",
      "Root Mean Squared Logarithmic Error (RMSLE): 0.5376664415952369\n"
     ]
    },
    {
     "name": "stderr",
     "output_type": "stream",
     "text": [
      "14:58:25 - cmdstanpy - INFO - Chain [1] start processing\n",
      "14:58:25 - cmdstanpy - INFO - Chain [1] done processing\n"
     ]
    },
    {
     "name": "stdout",
     "output_type": "stream",
     "text": [
      "\n",
      "Training model for store 30 and family 25...\n",
      "There are 1 NaN values in the data.\n",
      "Root Mean Squared Error (RMSE): 68.516931319589\n",
      "Root Mean Squared Logarithmic Error (RMSLE): 0.6156132647543808\n",
      "\n",
      "Training model for store 30 and family 26...\n"
     ]
    },
    {
     "name": "stderr",
     "output_type": "stream",
     "text": [
      "14:58:26 - cmdstanpy - INFO - Chain [1] start processing\n",
      "14:58:26 - cmdstanpy - INFO - Chain [1] done processing\n",
      "14:58:26 - cmdstanpy - INFO - Chain [1] start processing\n"
     ]
    },
    {
     "name": "stdout",
     "output_type": "stream",
     "text": [
      "There are 1 NaN values in the data.\n",
      "Root Mean Squared Error (RMSE): 1.7631276042678923\n",
      "Root Mean Squared Logarithmic Error (RMSLE): 0.5540931990010903\n",
      "\n",
      "Training model for store 30 and family 27...\n"
     ]
    },
    {
     "name": "stderr",
     "output_type": "stream",
     "text": [
      "14:58:26 - cmdstanpy - INFO - Chain [1] done processing\n",
      "14:58:27 - cmdstanpy - INFO - Chain [1] start processing\n"
     ]
    },
    {
     "name": "stdout",
     "output_type": "stream",
     "text": [
      "There are 1 NaN values in the data.\n",
      "Root Mean Squared Error (RMSE): 3.294355043642215\n",
      "Root Mean Squared Logarithmic Error (RMSLE): 0.6246798794649091\n",
      "\n",
      "Training model for store 30 and family 28...\n"
     ]
    },
    {
     "name": "stderr",
     "output_type": "stream",
     "text": [
      "14:58:27 - cmdstanpy - INFO - Chain [1] done processing\n"
     ]
    },
    {
     "name": "stdout",
     "output_type": "stream",
     "text": [
      "There are 1 NaN values in the data.\n",
      "Root Mean Squared Error (RMSE): 31.23069764704562\n",
      "Root Mean Squared Logarithmic Error (RMSLE): 0.5030918431306817\n",
      "\n",
      "Training model for store 30 and family 29...\n"
     ]
    },
    {
     "name": "stderr",
     "output_type": "stream",
     "text": [
      "14:58:27 - cmdstanpy - INFO - Chain [1] start processing\n",
      "14:58:27 - cmdstanpy - INFO - Chain [1] done processing\n"
     ]
    },
    {
     "name": "stdout",
     "output_type": "stream",
     "text": [
      "There are 1 NaN values in the data.\n",
      "Root Mean Squared Error (RMSE): 10.19631659118303\n",
      "Root Mean Squared Logarithmic Error (RMSLE): 0.5710719829860188\n",
      "\n",
      "Training model for store 30 and family 30...\n"
     ]
    },
    {
     "name": "stderr",
     "output_type": "stream",
     "text": [
      "14:58:27 - cmdstanpy - INFO - Chain [1] start processing\n",
      "14:58:27 - cmdstanpy - INFO - Chain [1] done processing\n"
     ]
    },
    {
     "name": "stdout",
     "output_type": "stream",
     "text": [
      "There are 1 NaN values in the data.\n",
      "Root Mean Squared Error (RMSE): 261.6489203619666\n",
      "Root Mean Squared Logarithmic Error (RMSLE): 0.6997151960246819\n",
      "\n",
      "Training model for store 30 and family 31...\n"
     ]
    },
    {
     "name": "stderr",
     "output_type": "stream",
     "text": [
      "14:58:28 - cmdstanpy - INFO - Chain [1] start processing\n",
      "14:58:28 - cmdstanpy - INFO - Chain [1] done processing\n"
     ]
    },
    {
     "name": "stdout",
     "output_type": "stream",
     "text": [
      "There are 1 NaN values in the data.\n",
      "Root Mean Squared Error (RMSE): 7.698763280189197\n",
      "Root Mean Squared Logarithmic Error (RMSLE): 1.0768001032673018\n",
      "\n",
      "Training model for store 30 and family 32...\n"
     ]
    },
    {
     "name": "stderr",
     "output_type": "stream",
     "text": [
      "14:58:28 - cmdstanpy - INFO - Chain [1] start processing\n",
      "14:58:28 - cmdstanpy - INFO - Chain [1] done processing\n"
     ]
    },
    {
     "name": "stdout",
     "output_type": "stream",
     "text": [
      "There are 1 NaN values in the data.\n",
      "Root Mean Squared Error (RMSE): 4.7772069213155515\n",
      "Root Mean Squared Logarithmic Error (RMSLE): 0.9267113518535405\n",
      "\n",
      "Training model for store 31 and family 0...\n"
     ]
    },
    {
     "name": "stderr",
     "output_type": "stream",
     "text": [
      "14:58:29 - cmdstanpy - INFO - Chain [1] start processing\n",
      "14:58:29 - cmdstanpy - INFO - Chain [1] done processing\n"
     ]
    },
    {
     "name": "stdout",
     "output_type": "stream",
     "text": [
      "There are 1 NaN values in the data.\n",
      "Root Mean Squared Error (RMSE): 4.263401883176505\n",
      "Root Mean Squared Logarithmic Error (RMSLE): 0.5265183420101154\n",
      "\n",
      "Training model for store 31 and family 1...\n"
     ]
    },
    {
     "name": "stderr",
     "output_type": "stream",
     "text": [
      "14:58:29 - cmdstanpy - INFO - Chain [1] start processing\n",
      "14:58:29 - cmdstanpy - INFO - Chain [1] done processing\n"
     ]
    },
    {
     "name": "stdout",
     "output_type": "stream",
     "text": [
      "There are 1 NaN values in the data.\n",
      "Root Mean Squared Error (RMSE): 0.9491851834243634\n",
      "Root Mean Squared Logarithmic Error (RMSLE): 0.5211744928205839\n",
      "\n",
      "Training model for store 31 and family 2...\n"
     ]
    },
    {
     "name": "stderr",
     "output_type": "stream",
     "text": [
      "14:58:29 - cmdstanpy - INFO - Chain [1] start processing\n",
      "14:58:30 - cmdstanpy - INFO - Chain [1] done processing\n"
     ]
    },
    {
     "name": "stdout",
     "output_type": "stream",
     "text": [
      "There are 1 NaN values in the data.\n",
      "Root Mean Squared Error (RMSE): 2.9655322575947105\n",
      "Root Mean Squared Logarithmic Error (RMSLE): 0.6984617425134364\n",
      "\n",
      "Training model for store 31 and family 3...\n"
     ]
    },
    {
     "name": "stderr",
     "output_type": "stream",
     "text": [
      "14:58:30 - cmdstanpy - INFO - Chain [1] start processing\n",
      "14:58:30 - cmdstanpy - INFO - Chain [1] done processing\n"
     ]
    },
    {
     "name": "stdout",
     "output_type": "stream",
     "text": [
      "There are 1 NaN values in the data.\n",
      "Root Mean Squared Error (RMSE): 883.8150269089427\n",
      "Root Mean Squared Logarithmic Error (RMSLE): 0.6927278601814165\n",
      "\n",
      "Training model for store 31 and family 4...\n"
     ]
    },
    {
     "name": "stderr",
     "output_type": "stream",
     "text": [
      "14:58:30 - cmdstanpy - INFO - Chain [1] start processing\n",
      "14:58:31 - cmdstanpy - INFO - Chain [1] done processing\n"
     ]
    },
    {
     "name": "stdout",
     "output_type": "stream",
     "text": [
      "There are 1 NaN values in the data.\n",
      "Root Mean Squared Error (RMSE): 0.0\n",
      "Root Mean Squared Logarithmic Error (RMSLE): 0.0\n",
      "\n",
      "Training model for store 31 and family 5...\n",
      "There are 1 NaN values in the data.\n",
      "Root Mean Squared Error (RMSE): 105.96293127773464\n",
      "Root Mean Squared Logarithmic Error (RMSLE): 0.5298578165689498\n",
      "\n",
      "Training model for store 31 and family 6...\n"
     ]
    },
    {
     "name": "stderr",
     "output_type": "stream",
     "text": [
      "14:58:31 - cmdstanpy - INFO - Chain [1] start processing\n",
      "14:58:31 - cmdstanpy - INFO - Chain [1] done processing\n",
      "14:58:31 - cmdstanpy - INFO - Chain [1] start processing\n"
     ]
    },
    {
     "name": "stdout",
     "output_type": "stream",
     "text": [
      "There are 1 NaN values in the data.\n",
      "Root Mean Squared Error (RMSE): 5.793870601909456\n",
      "Root Mean Squared Logarithmic Error (RMSLE): 0.6534859657483807\n",
      "\n",
      "Training model for store 31 and family 7...\n"
     ]
    },
    {
     "name": "stderr",
     "output_type": "stream",
     "text": [
      "14:58:31 - cmdstanpy - INFO - Chain [1] done processing\n",
      "14:58:31 - cmdstanpy - INFO - Chain [1] start processing\n"
     ]
    },
    {
     "name": "stdout",
     "output_type": "stream",
     "text": [
      "There are 1 NaN values in the data.\n",
      "Root Mean Squared Error (RMSE): 395.7330424605894\n",
      "Root Mean Squared Logarithmic Error (RMSLE): 0.6316812262989504\n",
      "\n",
      "Training model for store 31 and family 8...\n"
     ]
    },
    {
     "name": "stderr",
     "output_type": "stream",
     "text": [
      "14:58:32 - cmdstanpy - INFO - Chain [1] done processing\n",
      "14:58:32 - cmdstanpy - INFO - Chain [1] start processing\n"
     ]
    },
    {
     "name": "stdout",
     "output_type": "stream",
     "text": [
      "There are 1 NaN values in the data.\n",
      "Root Mean Squared Error (RMSE): 204.21560051180313\n",
      "Root Mean Squared Logarithmic Error (RMSLE): 0.5977808835886628\n",
      "\n",
      "Training model for store 31 and family 9...\n"
     ]
    },
    {
     "name": "stderr",
     "output_type": "stream",
     "text": [
      "14:58:32 - cmdstanpy - INFO - Chain [1] done processing\n",
      "14:58:32 - cmdstanpy - INFO - Chain [1] start processing\n"
     ]
    },
    {
     "name": "stdout",
     "output_type": "stream",
     "text": [
      "There are 1 NaN values in the data.\n",
      "Root Mean Squared Error (RMSE): 66.1937325454569\n",
      "Root Mean Squared Logarithmic Error (RMSLE): 0.5042800942825929\n",
      "\n",
      "Training model for store 31 and family 10...\n"
     ]
    },
    {
     "name": "stderr",
     "output_type": "stream",
     "text": [
      "14:58:32 - cmdstanpy - INFO - Chain [1] done processing\n",
      "14:58:32 - cmdstanpy - INFO - Chain [1] start processing\n",
      "14:58:33 - cmdstanpy - INFO - Chain [1] done processing\n"
     ]
    },
    {
     "name": "stdout",
     "output_type": "stream",
     "text": [
      "There are 1 NaN values in the data.\n",
      "Root Mean Squared Error (RMSE): 140.60108292815505\n",
      "Root Mean Squared Logarithmic Error (RMSLE): 0.5893511418574009\n",
      "\n",
      "Training model for store 31 and family 11...\n"
     ]
    },
    {
     "name": "stderr",
     "output_type": "stream",
     "text": [
      "14:58:33 - cmdstanpy - INFO - Chain [1] start processing\n"
     ]
    },
    {
     "name": "stdout",
     "output_type": "stream",
     "text": [
      "There are 1 NaN values in the data.\n",
      "Root Mean Squared Error (RMSE): 224.7680900828783\n",
      "Root Mean Squared Logarithmic Error (RMSLE): 1.1136313884621845\n",
      "\n",
      "Training model for store 31 and family 12...\n"
     ]
    },
    {
     "name": "stderr",
     "output_type": "stream",
     "text": [
      "14:58:33 - cmdstanpy - INFO - Chain [1] done processing\n",
      "14:58:33 - cmdstanpy - INFO - Chain [1] start processing\n",
      "14:58:33 - cmdstanpy - INFO - Chain [1] done processing\n"
     ]
    },
    {
     "name": "stdout",
     "output_type": "stream",
     "text": [
      "There are 1 NaN values in the data.\n",
      "Root Mean Squared Error (RMSE): 1298.5398927682718\n",
      "Root Mean Squared Logarithmic Error (RMSLE): 0.7142531925283433\n",
      "\n",
      "Training model for store 31 and family 13...\n"
     ]
    },
    {
     "name": "stderr",
     "output_type": "stream",
     "text": [
      "14:58:33 - cmdstanpy - INFO - Chain [1] start processing\n"
     ]
    },
    {
     "name": "stdout",
     "output_type": "stream",
     "text": [
      "There are 1 NaN values in the data.\n",
      "Root Mean Squared Error (RMSE): 8.601318559348382\n",
      "Root Mean Squared Logarithmic Error (RMSLE): 0.6134772575347814\n",
      "\n",
      "Training model for store 31 and family 14...\n"
     ]
    },
    {
     "name": "stderr",
     "output_type": "stream",
     "text": [
      "14:58:33 - cmdstanpy - INFO - Chain [1] done processing\n",
      "14:58:34 - cmdstanpy - INFO - Chain [1] start processing\n"
     ]
    },
    {
     "name": "stdout",
     "output_type": "stream",
     "text": [
      "There are 1 NaN values in the data.\n",
      "Root Mean Squared Error (RMSE): 0.8139942652484444\n",
      "Root Mean Squared Logarithmic Error (RMSLE): 0.4597456598554278\n",
      "\n",
      "Training model for store 31 and family 15...\n"
     ]
    },
    {
     "name": "stderr",
     "output_type": "stream",
     "text": [
      "14:58:34 - cmdstanpy - INFO - Chain [1] done processing\n",
      "14:58:34 - cmdstanpy - INFO - Chain [1] start processing\n"
     ]
    },
    {
     "name": "stdout",
     "output_type": "stream",
     "text": [
      "There are 1 NaN values in the data.\n",
      "Root Mean Squared Error (RMSE): 17.847737316793673\n",
      "Root Mean Squared Logarithmic Error (RMSLE): 0.5725903867972122\n",
      "\n",
      "Training model for store 31 and family 16...\n"
     ]
    },
    {
     "name": "stderr",
     "output_type": "stream",
     "text": [
      "14:58:34 - cmdstanpy - INFO - Chain [1] done processing\n",
      "14:58:34 - cmdstanpy - INFO - Chain [1] start processing\n",
      "14:58:34 - cmdstanpy - INFO - Chain [1] done processing\n"
     ]
    },
    {
     "name": "stdout",
     "output_type": "stream",
     "text": [
      "There are 1 NaN values in the data.\n",
      "Root Mean Squared Error (RMSE): 12.618457986794121\n",
      "Root Mean Squared Logarithmic Error (RMSLE): 0.6433202664178205\n",
      "\n",
      "Training model for store 31 and family 17...\n"
     ]
    },
    {
     "name": "stderr",
     "output_type": "stream",
     "text": [
      "14:58:35 - cmdstanpy - INFO - Chain [1] start processing\n"
     ]
    },
    {
     "name": "stdout",
     "output_type": "stream",
     "text": [
      "There are 1 NaN values in the data.\n",
      "Root Mean Squared Error (RMSE): 0.6424988711983438\n",
      "Root Mean Squared Logarithmic Error (RMSLE): 0.37605128259339865\n",
      "\n",
      "Training model for store 31 and family 18...\n"
     ]
    },
    {
     "name": "stderr",
     "output_type": "stream",
     "text": [
      "14:58:35 - cmdstanpy - INFO - Chain [1] done processing\n",
      "14:58:35 - cmdstanpy - INFO - Chain [1] start processing\n"
     ]
    },
    {
     "name": "stdout",
     "output_type": "stream",
     "text": [
      "There are 1 NaN values in the data.\n",
      "Root Mean Squared Error (RMSE): 139.56476519518918\n",
      "Root Mean Squared Logarithmic Error (RMSLE): 0.7780512283210066\n",
      "\n",
      "Training model for store 31 and family 19...\n"
     ]
    },
    {
     "name": "stderr",
     "output_type": "stream",
     "text": [
      "14:58:35 - cmdstanpy - INFO - Chain [1] done processing\n",
      "14:58:35 - cmdstanpy - INFO - Chain [1] start processing\n"
     ]
    },
    {
     "name": "stdout",
     "output_type": "stream",
     "text": [
      "There are 1 NaN values in the data.\n",
      "Root Mean Squared Error (RMSE): 2.450208018640668\n",
      "Root Mean Squared Logarithmic Error (RMSLE): 0.8240748774957593\n",
      "\n",
      "Training model for store 31 and family 20...\n"
     ]
    },
    {
     "name": "stderr",
     "output_type": "stream",
     "text": [
      "14:58:35 - cmdstanpy - INFO - Chain [1] done processing\n",
      "14:58:36 - cmdstanpy - INFO - Chain [1] start processing\n"
     ]
    },
    {
     "name": "stdout",
     "output_type": "stream",
     "text": [
      "There are 1 NaN values in the data.\n",
      "Root Mean Squared Error (RMSE): 7.6199738945944935\n",
      "Root Mean Squared Logarithmic Error (RMSLE): 1.1137489912266445\n",
      "\n",
      "Training model for store 31 and family 21...\n"
     ]
    },
    {
     "name": "stderr",
     "output_type": "stream",
     "text": [
      "14:58:36 - cmdstanpy - INFO - Chain [1] done processing\n",
      "14:58:36 - cmdstanpy - INFO - Chain [1] start processing\n"
     ]
    },
    {
     "name": "stdout",
     "output_type": "stream",
     "text": [
      "There are 1 NaN values in the data.\n",
      "Root Mean Squared Error (RMSE): 9.779166820499942\n",
      "Root Mean Squared Logarithmic Error (RMSLE): 1.6066338987021727\n",
      "\n",
      "Training model for store 31 and family 22...\n"
     ]
    },
    {
     "name": "stderr",
     "output_type": "stream",
     "text": [
      "14:58:36 - cmdstanpy - INFO - Chain [1] done processing\n",
      "14:58:36 - cmdstanpy - INFO - Chain [1] start processing\n"
     ]
    },
    {
     "name": "stdout",
     "output_type": "stream",
     "text": [
      "There are 1 NaN values in the data.\n",
      "Root Mean Squared Error (RMSE): 26.088014994157597\n",
      "Root Mean Squared Logarithmic Error (RMSLE): 1.2942076565643705\n",
      "\n",
      "Training model for store 31 and family 23...\n"
     ]
    },
    {
     "name": "stderr",
     "output_type": "stream",
     "text": [
      "14:58:36 - cmdstanpy - INFO - Chain [1] done processing\n",
      "14:58:36 - cmdstanpy - INFO - Chain [1] start processing\n"
     ]
    },
    {
     "name": "stdout",
     "output_type": "stream",
     "text": [
      "There are 1 NaN values in the data.\n",
      "Root Mean Squared Error (RMSE): 1.6302985873373121\n",
      "Root Mean Squared Logarithmic Error (RMSLE): 0.6094047708440473\n",
      "\n",
      "Training model for store 31 and family 24...\n"
     ]
    },
    {
     "name": "stderr",
     "output_type": "stream",
     "text": [
      "14:58:37 - cmdstanpy - INFO - Chain [1] done processing\n",
      "14:58:37 - cmdstanpy - INFO - Chain [1] start processing\n"
     ]
    },
    {
     "name": "stdout",
     "output_type": "stream",
     "text": [
      "There are 1 NaN values in the data.\n",
      "Root Mean Squared Error (RMSE): 118.33563308419282\n",
      "Root Mean Squared Logarithmic Error (RMSLE): 0.5480849084801199\n",
      "\n",
      "Training model for store 31 and family 25...\n"
     ]
    },
    {
     "name": "stderr",
     "output_type": "stream",
     "text": [
      "14:58:37 - cmdstanpy - INFO - Chain [1] done processing\n",
      "14:58:37 - cmdstanpy - INFO - Chain [1] start processing\n"
     ]
    },
    {
     "name": "stdout",
     "output_type": "stream",
     "text": [
      "There are 1 NaN values in the data.\n",
      "Root Mean Squared Error (RMSE): 120.8913818231718\n",
      "Root Mean Squared Logarithmic Error (RMSLE): 0.5750594001179866\n",
      "\n",
      "Training model for store 31 and family 26...\n"
     ]
    },
    {
     "name": "stderr",
     "output_type": "stream",
     "text": [
      "14:58:37 - cmdstanpy - INFO - Chain [1] done processing\n",
      "14:58:37 - cmdstanpy - INFO - Chain [1] start processing\n"
     ]
    },
    {
     "name": "stdout",
     "output_type": "stream",
     "text": [
      "There are 1 NaN values in the data.\n",
      "Root Mean Squared Error (RMSE): 3.2751710589953156\n",
      "Root Mean Squared Logarithmic Error (RMSLE): 0.6766536556202738\n",
      "\n",
      "Training model for store 31 and family 27...\n"
     ]
    },
    {
     "name": "stderr",
     "output_type": "stream",
     "text": [
      "14:58:38 - cmdstanpy - INFO - Chain [1] done processing\n",
      "14:58:38 - cmdstanpy - INFO - Chain [1] start processing\n"
     ]
    },
    {
     "name": "stdout",
     "output_type": "stream",
     "text": [
      "There are 1 NaN values in the data.\n",
      "Root Mean Squared Error (RMSE): 4.800506703628579\n",
      "Root Mean Squared Logarithmic Error (RMSLE): 0.5440877556232562\n",
      "\n",
      "Training model for store 31 and family 28...\n"
     ]
    },
    {
     "name": "stderr",
     "output_type": "stream",
     "text": [
      "14:58:38 - cmdstanpy - INFO - Chain [1] done processing\n",
      "14:58:38 - cmdstanpy - INFO - Chain [1] start processing\n"
     ]
    },
    {
     "name": "stdout",
     "output_type": "stream",
     "text": [
      "There are 1 NaN values in the data.\n",
      "Root Mean Squared Error (RMSE): 55.19175925652881\n",
      "Root Mean Squared Logarithmic Error (RMSLE): 0.5839477283966654\n",
      "\n",
      "Training model for store 31 and family 29...\n"
     ]
    },
    {
     "name": "stderr",
     "output_type": "stream",
     "text": [
      "14:58:38 - cmdstanpy - INFO - Chain [1] done processing\n",
      "14:58:38 - cmdstanpy - INFO - Chain [1] start processing\n"
     ]
    },
    {
     "name": "stdout",
     "output_type": "stream",
     "text": [
      "There are 1 NaN values in the data.\n",
      "Root Mean Squared Error (RMSE): 22.41394139472342\n",
      "Root Mean Squared Logarithmic Error (RMSLE): 0.4519857099223952\n",
      "\n",
      "Training model for store 31 and family 30...\n"
     ]
    },
    {
     "name": "stderr",
     "output_type": "stream",
     "text": [
      "14:58:39 - cmdstanpy - INFO - Chain [1] done processing\n",
      "14:58:39 - cmdstanpy - INFO - Chain [1] start processing\n"
     ]
    },
    {
     "name": "stdout",
     "output_type": "stream",
     "text": [
      "There are 1 NaN values in the data.\n",
      "Root Mean Squared Error (RMSE): 498.76072402817255\n",
      "Root Mean Squared Logarithmic Error (RMSLE): 0.6672812690480195\n",
      "\n",
      "Training model for store 31 and family 31...\n"
     ]
    },
    {
     "name": "stderr",
     "output_type": "stream",
     "text": [
      "14:58:39 - cmdstanpy - INFO - Chain [1] done processing\n",
      "14:58:39 - cmdstanpy - INFO - Chain [1] start processing\n"
     ]
    },
    {
     "name": "stdout",
     "output_type": "stream",
     "text": [
      "There are 1 NaN values in the data.\n",
      "Root Mean Squared Error (RMSE): 25.267552637570294\n",
      "Root Mean Squared Logarithmic Error (RMSLE): 1.3066949443038647\n",
      "\n",
      "Training model for store 31 and family 32...\n"
     ]
    },
    {
     "name": "stderr",
     "output_type": "stream",
     "text": [
      "14:58:39 - cmdstanpy - INFO - Chain [1] done processing\n",
      "14:58:39 - cmdstanpy - INFO - Chain [1] start processing\n"
     ]
    },
    {
     "name": "stdout",
     "output_type": "stream",
     "text": [
      "There are 1 NaN values in the data.\n",
      "Root Mean Squared Error (RMSE): 4.203079753981807\n",
      "Root Mean Squared Logarithmic Error (RMSLE): 0.7185937216352677\n",
      "\n",
      "Training model for store 32 and family 0...\n"
     ]
    },
    {
     "name": "stderr",
     "output_type": "stream",
     "text": [
      "14:58:39 - cmdstanpy - INFO - Chain [1] done processing\n",
      "14:58:40 - cmdstanpy - INFO - Chain [1] start processing\n"
     ]
    },
    {
     "name": "stdout",
     "output_type": "stream",
     "text": [
      "There are 1 NaN values in the data.\n",
      "Root Mean Squared Error (RMSE): 1.8612992930152559\n",
      "Root Mean Squared Logarithmic Error (RMSLE): 0.6715050156714242\n",
      "\n",
      "Training model for store 32 and family 1...\n"
     ]
    },
    {
     "name": "stderr",
     "output_type": "stream",
     "text": [
      "14:58:40 - cmdstanpy - INFO - Chain [1] done processing\n",
      "14:58:40 - cmdstanpy - INFO - Chain [1] start processing\n"
     ]
    },
    {
     "name": "stdout",
     "output_type": "stream",
     "text": [
      "There are 1 NaN values in the data.\n",
      "Root Mean Squared Error (RMSE): 0.24857998414706844\n",
      "Root Mean Squared Logarithmic Error (RMSLE): 0.1918574288219517\n",
      "\n",
      "Training model for store 32 and family 2...\n"
     ]
    },
    {
     "name": "stderr",
     "output_type": "stream",
     "text": [
      "14:58:40 - cmdstanpy - INFO - Chain [1] done processing\n",
      "14:58:40 - cmdstanpy - INFO - Chain [1] start processing\n"
     ]
    },
    {
     "name": "stdout",
     "output_type": "stream",
     "text": [
      "There are 1 NaN values in the data.\n",
      "Root Mean Squared Error (RMSE): 0.6437060778670327\n",
      "Root Mean Squared Logarithmic Error (RMSLE): 0.3826853588795536\n",
      "\n",
      "Training model for store 32 and family 3...\n"
     ]
    },
    {
     "name": "stderr",
     "output_type": "stream",
     "text": [
      "14:58:40 - cmdstanpy - INFO - Chain [1] done processing\n"
     ]
    },
    {
     "name": "stdout",
     "output_type": "stream",
     "text": [
      "There are 1 NaN values in the data.\n",
      "Root Mean Squared Error (RMSE): 476.6066255776274\n",
      "Root Mean Squared Logarithmic Error (RMSLE): 0.6837786596587864\n",
      "\n",
      "Training model for store 32 and family 4...\n",
      "There are 1 NaN values in the data.\n",
      "Root Mean Squared Error (RMSE): 0.0\n",
      "Root Mean Squared Logarithmic Error (RMSLE): 0.0\n"
     ]
    },
    {
     "name": "stderr",
     "output_type": "stream",
     "text": [
      "14:58:41 - cmdstanpy - INFO - Chain [1] start processing\n",
      "14:58:41 - cmdstanpy - INFO - Chain [1] done processing\n"
     ]
    },
    {
     "name": "stdout",
     "output_type": "stream",
     "text": [
      "\n",
      "Training model for store 32 and family 5...\n",
      "There are 1 NaN values in the data.\n",
      "Root Mean Squared Error (RMSE): 33.77639607320388\n",
      "Root Mean Squared Logarithmic Error (RMSLE): 0.47447638987027924\n"
     ]
    },
    {
     "name": "stderr",
     "output_type": "stream",
     "text": [
      "14:58:41 - cmdstanpy - INFO - Chain [1] start processing\n",
      "14:58:41 - cmdstanpy - INFO - Chain [1] done processing\n"
     ]
    },
    {
     "name": "stdout",
     "output_type": "stream",
     "text": [
      "\n",
      "Training model for store 32 and family 6...\n",
      "There are 1 NaN values in the data.\n",
      "Root Mean Squared Error (RMSE): 3.736747312670237\n",
      "Root Mean Squared Logarithmic Error (RMSLE): 0.8983348303144367\n"
     ]
    },
    {
     "name": "stderr",
     "output_type": "stream",
     "text": [
      "14:58:41 - cmdstanpy - INFO - Chain [1] start processing\n",
      "14:58:41 - cmdstanpy - INFO - Chain [1] done processing\n"
     ]
    },
    {
     "name": "stdout",
     "output_type": "stream",
     "text": [
      "\n",
      "Training model for store 32 and family 7...\n"
     ]
    },
    {
     "name": "stderr",
     "output_type": "stream",
     "text": [
      "14:58:42 - cmdstanpy - INFO - Chain [1] start processing\n"
     ]
    },
    {
     "name": "stdout",
     "output_type": "stream",
     "text": [
      "There are 1 NaN values in the data.\n",
      "Root Mean Squared Error (RMSE): 828.3913032782511\n",
      "Root Mean Squared Logarithmic Error (RMSLE): 0.7237340418308861\n",
      "\n",
      "Training model for store 32 and family 8...\n"
     ]
    },
    {
     "name": "stderr",
     "output_type": "stream",
     "text": [
      "14:58:42 - cmdstanpy - INFO - Chain [1] done processing\n",
      "14:58:42 - cmdstanpy - INFO - Chain [1] start processing\n"
     ]
    },
    {
     "name": "stdout",
     "output_type": "stream",
     "text": [
      "There are 1 NaN values in the data.\n",
      "Root Mean Squared Error (RMSE): 66.54322970334366\n",
      "Root Mean Squared Logarithmic Error (RMSLE): 0.5450017004841882\n",
      "\n",
      "Training model for store 32 and family 9...\n"
     ]
    },
    {
     "name": "stderr",
     "output_type": "stream",
     "text": [
      "14:58:42 - cmdstanpy - INFO - Chain [1] done processing\n",
      "14:58:42 - cmdstanpy - INFO - Chain [1] start processing\n"
     ]
    },
    {
     "name": "stdout",
     "output_type": "stream",
     "text": [
      "There are 1 NaN values in the data.\n",
      "Root Mean Squared Error (RMSE): 38.8118433730392\n",
      "Root Mean Squared Logarithmic Error (RMSLE): 0.49379522396667597\n",
      "\n",
      "Training model for store 32 and family 10...\n"
     ]
    },
    {
     "name": "stderr",
     "output_type": "stream",
     "text": [
      "14:58:42 - cmdstanpy - INFO - Chain [1] done processing\n",
      "14:58:43 - cmdstanpy - INFO - Chain [1] start processing\n",
      "14:58:43 - cmdstanpy - INFO - Chain [1] done processing\n"
     ]
    },
    {
     "name": "stdout",
     "output_type": "stream",
     "text": [
      "There are 1 NaN values in the data.\n",
      "Root Mean Squared Error (RMSE): 125.07779013305291\n",
      "Root Mean Squared Logarithmic Error (RMSLE): 0.6365642374295953\n",
      "\n",
      "Training model for store 32 and family 11...\n"
     ]
    },
    {
     "name": "stderr",
     "output_type": "stream",
     "text": [
      "14:58:43 - cmdstanpy - INFO - Chain [1] start processing\n"
     ]
    },
    {
     "name": "stdout",
     "output_type": "stream",
     "text": [
      "There are 1 NaN values in the data.\n",
      "Root Mean Squared Error (RMSE): 39.567726600085805\n",
      "Root Mean Squared Logarithmic Error (RMSLE): 1.0143900206129275\n",
      "\n",
      "Training model for store 32 and family 12...\n"
     ]
    },
    {
     "name": "stderr",
     "output_type": "stream",
     "text": [
      "14:58:43 - cmdstanpy - INFO - Chain [1] done processing\n",
      "14:58:43 - cmdstanpy - INFO - Chain [1] start processing\n"
     ]
    },
    {
     "name": "stdout",
     "output_type": "stream",
     "text": [
      "There are 1 NaN values in the data.\n",
      "Root Mean Squared Error (RMSE): 1871.389506596156\n",
      "Root Mean Squared Logarithmic Error (RMSLE): 0.7170914876784669\n",
      "\n",
      "Training model for store 32 and family 13...\n"
     ]
    },
    {
     "name": "stderr",
     "output_type": "stream",
     "text": [
      "14:58:43 - cmdstanpy - INFO - Chain [1] done processing\n",
      "14:58:43 - cmdstanpy - INFO - Chain [1] start processing\n"
     ]
    },
    {
     "name": "stdout",
     "output_type": "stream",
     "text": [
      "There are 1 NaN values in the data.\n",
      "Root Mean Squared Error (RMSE): 2.332510602896472\n",
      "Root Mean Squared Logarithmic Error (RMSLE): 0.6995957743672305\n",
      "\n",
      "Training model for store 32 and family 14...\n"
     ]
    },
    {
     "name": "stderr",
     "output_type": "stream",
     "text": [
      "14:58:44 - cmdstanpy - INFO - Chain [1] done processing\n",
      "14:58:44 - cmdstanpy - INFO - Chain [1] start processing\n"
     ]
    },
    {
     "name": "stdout",
     "output_type": "stream",
     "text": [
      "There are 1 NaN values in the data.\n",
      "Root Mean Squared Error (RMSE): 0.6702082106374537\n",
      "Root Mean Squared Logarithmic Error (RMSLE): 0.39268483675739835\n",
      "\n",
      "Training model for store 32 and family 15...\n"
     ]
    },
    {
     "name": "stderr",
     "output_type": "stream",
     "text": [
      "14:58:44 - cmdstanpy - INFO - Chain [1] done processing\n",
      "14:58:44 - cmdstanpy - INFO - Chain [1] start processing\n"
     ]
    },
    {
     "name": "stdout",
     "output_type": "stream",
     "text": [
      "There are 1 NaN values in the data.\n",
      "Root Mean Squared Error (RMSE): 9.529274293646312\n",
      "Root Mean Squared Logarithmic Error (RMSLE): 0.7174208312497595\n",
      "\n",
      "Training model for store 32 and family 16...\n"
     ]
    },
    {
     "name": "stderr",
     "output_type": "stream",
     "text": [
      "14:58:44 - cmdstanpy - INFO - Chain [1] done processing\n",
      "14:58:44 - cmdstanpy - INFO - Chain [1] start processing\n"
     ]
    },
    {
     "name": "stdout",
     "output_type": "stream",
     "text": [
      "There are 1 NaN values in the data.\n",
      "Root Mean Squared Error (RMSE): 3.3744323355840424\n",
      "Root Mean Squared Logarithmic Error (RMSLE): 0.6831453170393925\n",
      "\n",
      "Training model for store 32 and family 17...\n"
     ]
    },
    {
     "name": "stderr",
     "output_type": "stream",
     "text": [
      "14:58:44 - cmdstanpy - INFO - Chain [1] done processing\n",
      "14:58:45 - cmdstanpy - INFO - Chain [1] start processing\n"
     ]
    },
    {
     "name": "stdout",
     "output_type": "stream",
     "text": [
      "There are 1 NaN values in the data.\n",
      "Root Mean Squared Error (RMSE): 0.29793775068980005\n",
      "Root Mean Squared Logarithmic Error (RMSLE): 0.1937817345979517\n",
      "\n",
      "Training model for store 32 and family 18...\n"
     ]
    },
    {
     "name": "stderr",
     "output_type": "stream",
     "text": [
      "14:58:45 - cmdstanpy - INFO - Chain [1] done processing\n"
     ]
    },
    {
     "name": "stdout",
     "output_type": "stream",
     "text": [
      "There are 1 NaN values in the data.\n",
      "Root Mean Squared Error (RMSE): 49.4803172023591\n",
      "Root Mean Squared Logarithmic Error (RMSLE): 0.6078642123107192\n",
      "\n",
      "Training model for store 32 and family 19...\n",
      "There are 1 NaN values in the data.\n",
      "Root Mean Squared Error (RMSE): 0.0\n",
      "Root Mean Squared Logarithmic Error (RMSLE): 0.0\n"
     ]
    },
    {
     "name": "stderr",
     "output_type": "stream",
     "text": [
      "14:58:45 - cmdstanpy - INFO - Chain [1] start processing\n",
      "14:58:45 - cmdstanpy - INFO - Chain [1] done processing\n"
     ]
    },
    {
     "name": "stdout",
     "output_type": "stream",
     "text": [
      "\n",
      "Training model for store 32 and family 20...\n",
      "There are 1 NaN values in the data.\n",
      "Root Mean Squared Error (RMSE): 0.02882027302061296\n",
      "Root Mean Squared Logarithmic Error (RMSLE): 0.027238310139746348\n"
     ]
    },
    {
     "name": "stderr",
     "output_type": "stream",
     "text": [
      "14:58:45 - cmdstanpy - INFO - Chain [1] start processing\n",
      "14:58:46 - cmdstanpy - INFO - Chain [1] done processing\n"
     ]
    },
    {
     "name": "stdout",
     "output_type": "stream",
     "text": [
      "\n",
      "Training model for store 32 and family 21...\n"
     ]
    },
    {
     "name": "stderr",
     "output_type": "stream",
     "text": [
      "14:58:46 - cmdstanpy - INFO - Chain [1] start processing\n"
     ]
    },
    {
     "name": "stdout",
     "output_type": "stream",
     "text": [
      "There are 1 NaN values in the data.\n",
      "Root Mean Squared Error (RMSE): 1.5570636378913545\n",
      "Root Mean Squared Logarithmic Error (RMSLE): 0.7640137601478277\n",
      "\n",
      "Training model for store 32 and family 22...\n"
     ]
    },
    {
     "name": "stderr",
     "output_type": "stream",
     "text": [
      "14:58:46 - cmdstanpy - INFO - Chain [1] done processing\n",
      "14:58:46 - cmdstanpy - INFO - Chain [1] start processing\n"
     ]
    },
    {
     "name": "stdout",
     "output_type": "stream",
     "text": [
      "There are 1 NaN values in the data.\n",
      "Root Mean Squared Error (RMSE): 79.63535928722563\n",
      "Root Mean Squared Logarithmic Error (RMSLE): 1.9136406722184849\n",
      "\n",
      "Training model for store 32 and family 23...\n"
     ]
    },
    {
     "name": "stderr",
     "output_type": "stream",
     "text": [
      "14:58:46 - cmdstanpy - INFO - Chain [1] done processing\n",
      "14:58:46 - cmdstanpy - INFO - Chain [1] start processing\n"
     ]
    },
    {
     "name": "stdout",
     "output_type": "stream",
     "text": [
      "There are 1 NaN values in the data.\n",
      "Root Mean Squared Error (RMSE): 0.49066770713118124\n",
      "Root Mean Squared Logarithmic Error (RMSLE): 0.3549827312126571\n",
      "\n",
      "Training model for store 32 and family 24...\n"
     ]
    },
    {
     "name": "stderr",
     "output_type": "stream",
     "text": [
      "14:58:46 - cmdstanpy - INFO - Chain [1] done processing\n",
      "14:58:47 - cmdstanpy - INFO - Chain [1] start processing\n"
     ]
    },
    {
     "name": "stdout",
     "output_type": "stream",
     "text": [
      "There are 1 NaN values in the data.\n",
      "Root Mean Squared Error (RMSE): 19.44301097669492\n",
      "Root Mean Squared Logarithmic Error (RMSLE): 0.4162622186856863\n",
      "\n",
      "Training model for store 32 and family 25...\n"
     ]
    },
    {
     "name": "stderr",
     "output_type": "stream",
     "text": [
      "14:58:47 - cmdstanpy - INFO - Chain [1] done processing\n",
      "14:58:47 - cmdstanpy - INFO - Chain [1] start processing\n"
     ]
    },
    {
     "name": "stdout",
     "output_type": "stream",
     "text": [
      "There are 1 NaN values in the data.\n",
      "Root Mean Squared Error (RMSE): 49.50210541908156\n",
      "Root Mean Squared Logarithmic Error (RMSLE): 0.5153822758788702\n",
      "\n",
      "Training model for store 32 and family 26...\n"
     ]
    },
    {
     "name": "stderr",
     "output_type": "stream",
     "text": [
      "14:58:47 - cmdstanpy - INFO - Chain [1] done processing\n",
      "14:58:47 - cmdstanpy - INFO - Chain [1] start processing\n"
     ]
    },
    {
     "name": "stdout",
     "output_type": "stream",
     "text": [
      "There are 1 NaN values in the data.\n",
      "Root Mean Squared Error (RMSE): 0.8001921777975156\n",
      "Root Mean Squared Logarithmic Error (RMSLE): 0.44643159312295116\n",
      "\n",
      "Training model for store 32 and family 27...\n"
     ]
    },
    {
     "name": "stderr",
     "output_type": "stream",
     "text": [
      "14:58:47 - cmdstanpy - INFO - Chain [1] done processing\n",
      "14:58:48 - cmdstanpy - INFO - Chain [1] start processing\n"
     ]
    },
    {
     "name": "stdout",
     "output_type": "stream",
     "text": [
      "There are 1 NaN values in the data.\n",
      "Root Mean Squared Error (RMSE): 1.5295325964156523\n",
      "Root Mean Squared Logarithmic Error (RMSLE): 0.6144384464896149\n",
      "\n",
      "Training model for store 32 and family 28...\n"
     ]
    },
    {
     "name": "stderr",
     "output_type": "stream",
     "text": [
      "14:58:48 - cmdstanpy - INFO - Chain [1] done processing\n",
      "14:58:48 - cmdstanpy - INFO - Chain [1] start processing\n"
     ]
    },
    {
     "name": "stdout",
     "output_type": "stream",
     "text": [
      "There are 1 NaN values in the data.\n",
      "Root Mean Squared Error (RMSE): 23.395387504361878\n",
      "Root Mean Squared Logarithmic Error (RMSLE): 0.5042455861941796\n",
      "\n",
      "Training model for store 32 and family 29...\n"
     ]
    },
    {
     "name": "stderr",
     "output_type": "stream",
     "text": [
      "14:58:48 - cmdstanpy - INFO - Chain [1] done processing\n",
      "14:58:48 - cmdstanpy - INFO - Chain [1] start processing\n"
     ]
    },
    {
     "name": "stdout",
     "output_type": "stream",
     "text": [
      "There are 1 NaN values in the data.\n",
      "Root Mean Squared Error (RMSE): 5.647021559144934\n",
      "Root Mean Squared Logarithmic Error (RMSLE): 0.555006775299144\n",
      "\n",
      "Training model for store 32 and family 30...\n"
     ]
    },
    {
     "name": "stderr",
     "output_type": "stream",
     "text": [
      "14:58:48 - cmdstanpy - INFO - Chain [1] done processing\n",
      "14:58:48 - cmdstanpy - INFO - Chain [1] start processing\n"
     ]
    },
    {
     "name": "stdout",
     "output_type": "stream",
     "text": [
      "There are 1 NaN values in the data.\n",
      "Root Mean Squared Error (RMSE): 82.61446174664813\n",
      "Root Mean Squared Logarithmic Error (RMSLE): 0.5599999437529326\n",
      "\n",
      "Training model for store 32 and family 31...\n"
     ]
    },
    {
     "name": "stderr",
     "output_type": "stream",
     "text": [
      "14:58:49 - cmdstanpy - INFO - Chain [1] done processing\n",
      "14:58:49 - cmdstanpy - INFO - Chain [1] start processing\n"
     ]
    },
    {
     "name": "stdout",
     "output_type": "stream",
     "text": [
      "There are 1 NaN values in the data.\n",
      "Root Mean Squared Error (RMSE): 9.227686110203122\n",
      "Root Mean Squared Logarithmic Error (RMSLE): 1.0344500933739913\n",
      "\n",
      "Training model for store 32 and family 32...\n"
     ]
    },
    {
     "name": "stderr",
     "output_type": "stream",
     "text": [
      "14:58:49 - cmdstanpy - INFO - Chain [1] done processing\n"
     ]
    },
    {
     "name": "stdout",
     "output_type": "stream",
     "text": [
      "There are 1 NaN values in the data.\n",
      "Root Mean Squared Error (RMSE): 2.5023912431922657\n",
      "Root Mean Squared Logarithmic Error (RMSLE): 0.9255185066037659\n"
     ]
    },
    {
     "name": "stderr",
     "output_type": "stream",
     "text": [
      "14:58:50 - cmdstanpy - INFO - Chain [1] start processing\n",
      "14:58:50 - cmdstanpy - INFO - Chain [1] done processing\n"
     ]
    },
    {
     "name": "stdout",
     "output_type": "stream",
     "text": [
      "\n",
      "Training model for store 33 and family 0...\n",
      "There are 1 NaN values in the data.\n",
      "Root Mean Squared Error (RMSE): 4.597284538020967\n",
      "Root Mean Squared Logarithmic Error (RMSLE): 0.48005219110508346\n"
     ]
    },
    {
     "name": "stderr",
     "output_type": "stream",
     "text": [
      "14:58:50 - cmdstanpy - INFO - Chain [1] start processing\n",
      "14:58:50 - cmdstanpy - INFO - Chain [1] done processing\n"
     ]
    },
    {
     "name": "stdout",
     "output_type": "stream",
     "text": [
      "\n",
      "Training model for store 33 and family 1...\n",
      "There are 1 NaN values in the data.\n",
      "Root Mean Squared Error (RMSE): 1.0715995538668388\n",
      "Root Mean Squared Logarithmic Error (RMSLE): 0.6910352367190804\n"
     ]
    },
    {
     "name": "stderr",
     "output_type": "stream",
     "text": [
      "14:58:51 - cmdstanpy - INFO - Chain [1] start processing\n",
      "14:58:51 - cmdstanpy - INFO - Chain [1] done processing\n"
     ]
    },
    {
     "name": "stdout",
     "output_type": "stream",
     "text": [
      "\n",
      "Training model for store 33 and family 2...\n",
      "There are 1 NaN values in the data.\n",
      "Root Mean Squared Error (RMSE): 1.92577572165708\n",
      "Root Mean Squared Logarithmic Error (RMSLE): 0.6198183765554749\n"
     ]
    },
    {
     "name": "stderr",
     "output_type": "stream",
     "text": [
      "14:58:51 - cmdstanpy - INFO - Chain [1] start processing\n",
      "14:58:51 - cmdstanpy - INFO - Chain [1] done processing\n"
     ]
    },
    {
     "name": "stdout",
     "output_type": "stream",
     "text": [
      "\n",
      "Training model for store 33 and family 3...\n",
      "There are 1 NaN values in the data.\n",
      "Root Mean Squared Error (RMSE): 766.1060516071053\n",
      "Root Mean Squared Logarithmic Error (RMSLE): 0.6828259800918186\n",
      "\n",
      "Training model for store 33 and family 4...\n"
     ]
    },
    {
     "name": "stderr",
     "output_type": "stream",
     "text": [
      "14:58:51 - cmdstanpy - INFO - Chain [1] start processing\n",
      "14:58:51 - cmdstanpy - INFO - Chain [1] done processing\n"
     ]
    },
    {
     "name": "stdout",
     "output_type": "stream",
     "text": [
      "There are 1 NaN values in the data.\n",
      "Root Mean Squared Error (RMSE): 0.0\n",
      "Root Mean Squared Logarithmic Error (RMSLE): 0.0\n",
      "\n",
      "Training model for store 33 and family 5...\n"
     ]
    },
    {
     "name": "stderr",
     "output_type": "stream",
     "text": [
      "14:58:52 - cmdstanpy - INFO - Chain [1] start processing\n"
     ]
    },
    {
     "name": "stdout",
     "output_type": "stream",
     "text": [
      "There are 1 NaN values in the data.\n",
      "Root Mean Squared Error (RMSE): 64.0615220248927\n",
      "Root Mean Squared Logarithmic Error (RMSLE): 0.5077218988028563\n",
      "\n",
      "Training model for store 33 and family 6...\n"
     ]
    },
    {
     "name": "stderr",
     "output_type": "stream",
     "text": [
      "14:58:52 - cmdstanpy - INFO - Chain [1] done processing\n",
      "14:58:52 - cmdstanpy - INFO - Chain [1] start processing\n"
     ]
    },
    {
     "name": "stdout",
     "output_type": "stream",
     "text": [
      "There are 1 NaN values in the data.\n",
      "Root Mean Squared Error (RMSE): 10.59074777961487\n",
      "Root Mean Squared Logarithmic Error (RMSLE): 0.8375376463809294\n",
      "\n",
      "Training model for store 33 and family 7...\n"
     ]
    },
    {
     "name": "stderr",
     "output_type": "stream",
     "text": [
      "14:58:52 - cmdstanpy - INFO - Chain [1] done processing\n"
     ]
    },
    {
     "name": "stdout",
     "output_type": "stream",
     "text": [
      "There are 1 NaN values in the data.\n",
      "Root Mean Squared Error (RMSE): 291.41329096690686\n",
      "Root Mean Squared Logarithmic Error (RMSLE): 0.6201170348099571\n",
      "\n",
      "Training model for store 33 and family 8...\n"
     ]
    },
    {
     "name": "stderr",
     "output_type": "stream",
     "text": [
      "14:58:52 - cmdstanpy - INFO - Chain [1] start processing\n",
      "14:58:53 - cmdstanpy - INFO - Chain [1] done processing\n",
      "14:58:53 - cmdstanpy - INFO - Chain [1] start processing\n"
     ]
    },
    {
     "name": "stdout",
     "output_type": "stream",
     "text": [
      "There are 1 NaN values in the data.\n",
      "Root Mean Squared Error (RMSE): 103.8843388605756\n",
      "Root Mean Squared Logarithmic Error (RMSLE): 0.5344562886883971\n",
      "\n",
      "Training model for store 33 and family 9...\n"
     ]
    },
    {
     "name": "stderr",
     "output_type": "stream",
     "text": [
      "14:58:53 - cmdstanpy - INFO - Chain [1] done processing\n",
      "14:58:53 - cmdstanpy - INFO - Chain [1] start processing\n"
     ]
    },
    {
     "name": "stdout",
     "output_type": "stream",
     "text": [
      "There are 1 NaN values in the data.\n",
      "Root Mean Squared Error (RMSE): 55.13358937917406\n",
      "Root Mean Squared Logarithmic Error (RMSLE): 0.5040846372582173\n",
      "\n",
      "Training model for store 33 and family 10...\n"
     ]
    },
    {
     "name": "stderr",
     "output_type": "stream",
     "text": [
      "14:58:53 - cmdstanpy - INFO - Chain [1] done processing\n",
      "14:58:53 - cmdstanpy - INFO - Chain [1] start processing\n"
     ]
    },
    {
     "name": "stdout",
     "output_type": "stream",
     "text": [
      "There are 1 NaN values in the data.\n",
      "Root Mean Squared Error (RMSE): 320.6361473839706\n",
      "Root Mean Squared Logarithmic Error (RMSLE): 0.764952994774684\n",
      "\n",
      "Training model for store 33 and family 11...\n"
     ]
    },
    {
     "name": "stderr",
     "output_type": "stream",
     "text": [
      "14:58:54 - cmdstanpy - INFO - Chain [1] done processing\n",
      "14:58:54 - cmdstanpy - INFO - Chain [1] start processing\n"
     ]
    },
    {
     "name": "stdout",
     "output_type": "stream",
     "text": [
      "There are 1 NaN values in the data.\n",
      "Root Mean Squared Error (RMSE): 127.32724316930666\n",
      "Root Mean Squared Logarithmic Error (RMSLE): 1.0943320675242567\n",
      "\n",
      "Training model for store 33 and family 12...\n"
     ]
    },
    {
     "name": "stderr",
     "output_type": "stream",
     "text": [
      "14:58:54 - cmdstanpy - INFO - Chain [1] done processing\n",
      "14:58:54 - cmdstanpy - INFO - Chain [1] start processing\n"
     ]
    },
    {
     "name": "stdout",
     "output_type": "stream",
     "text": [
      "There are 1 NaN values in the data.\n",
      "Root Mean Squared Error (RMSE): 980.5527781007181\n",
      "Root Mean Squared Logarithmic Error (RMSLE): 0.6972416743761958\n",
      "\n",
      "Training model for store 33 and family 13...\n"
     ]
    },
    {
     "name": "stderr",
     "output_type": "stream",
     "text": [
      "14:58:54 - cmdstanpy - INFO - Chain [1] done processing\n",
      "14:58:54 - cmdstanpy - INFO - Chain [1] start processing\n"
     ]
    },
    {
     "name": "stdout",
     "output_type": "stream",
     "text": [
      "There are 1 NaN values in the data.\n",
      "Root Mean Squared Error (RMSE): 3.6008599846656106\n",
      "Root Mean Squared Logarithmic Error (RMSLE): 0.8694180103076871\n",
      "\n",
      "Training model for store 33 and family 14...\n"
     ]
    },
    {
     "name": "stderr",
     "output_type": "stream",
     "text": [
      "14:58:54 - cmdstanpy - INFO - Chain [1] done processing\n",
      "14:58:55 - cmdstanpy - INFO - Chain [1] start processing\n"
     ]
    },
    {
     "name": "stdout",
     "output_type": "stream",
     "text": [
      "There are 1 NaN values in the data.\n",
      "Root Mean Squared Error (RMSE): 1.006814104291913\n",
      "Root Mean Squared Logarithmic Error (RMSLE): 0.5318913869609762\n",
      "\n",
      "Training model for store 33 and family 15...\n"
     ]
    },
    {
     "name": "stderr",
     "output_type": "stream",
     "text": [
      "14:58:55 - cmdstanpy - INFO - Chain [1] done processing\n",
      "14:58:55 - cmdstanpy - INFO - Chain [1] start processing\n"
     ]
    },
    {
     "name": "stdout",
     "output_type": "stream",
     "text": [
      "There are 1 NaN values in the data.\n",
      "Root Mean Squared Error (RMSE): 21.722213569198157\n",
      "Root Mean Squared Logarithmic Error (RMSLE): 0.7089983862382789\n",
      "\n",
      "Training model for store 33 and family 16...\n"
     ]
    },
    {
     "name": "stderr",
     "output_type": "stream",
     "text": [
      "14:58:55 - cmdstanpy - INFO - Chain [1] done processing\n",
      "14:58:55 - cmdstanpy - INFO - Chain [1] start processing\n"
     ]
    },
    {
     "name": "stdout",
     "output_type": "stream",
     "text": [
      "There are 1 NaN values in the data.\n",
      "Root Mean Squared Error (RMSE): 17.19650721162374\n",
      "Root Mean Squared Logarithmic Error (RMSLE): 2.284823394189843\n",
      "\n",
      "Training model for store 33 and family 17...\n"
     ]
    },
    {
     "name": "stderr",
     "output_type": "stream",
     "text": [
      "14:58:55 - cmdstanpy - INFO - Chain [1] done processing\n",
      "14:58:56 - cmdstanpy - INFO - Chain [1] start processing\n"
     ]
    },
    {
     "name": "stdout",
     "output_type": "stream",
     "text": [
      "There are 1 NaN values in the data.\n",
      "Root Mean Squared Error (RMSE): 0.5941226995410563\n",
      "Root Mean Squared Logarithmic Error (RMSLE): 0.34548582347428913\n",
      "\n",
      "Training model for store 33 and family 18...\n"
     ]
    },
    {
     "name": "stderr",
     "output_type": "stream",
     "text": [
      "14:58:56 - cmdstanpy - INFO - Chain [1] done processing\n"
     ]
    },
    {
     "name": "stdout",
     "output_type": "stream",
     "text": [
      "There are 1 NaN values in the data.\n",
      "Root Mean Squared Error (RMSE): 85.25600061665696\n",
      "Root Mean Squared Logarithmic Error (RMSLE): 0.5785626282930361\n",
      "\n",
      "Training model for store 33 and family 19...\n",
      "There are 1 NaN values in the data.\n",
      "Root Mean Squared Error (RMSE): 0.0\n",
      "Root Mean Squared Logarithmic Error (RMSLE): 0.0\n"
     ]
    },
    {
     "name": "stderr",
     "output_type": "stream",
     "text": [
      "14:58:56 - cmdstanpy - INFO - Chain [1] start processing\n",
      "14:58:56 - cmdstanpy - INFO - Chain [1] done processing\n"
     ]
    },
    {
     "name": "stdout",
     "output_type": "stream",
     "text": [
      "\n",
      "Training model for store 33 and family 20...\n",
      "There are 1 NaN values in the data.\n",
      "Root Mean Squared Error (RMSE): 0.11835891630620879\n",
      "Root Mean Squared Logarithmic Error (RMSLE): 0.10543366461799074\n"
     ]
    },
    {
     "name": "stderr",
     "output_type": "stream",
     "text": [
      "14:58:56 - cmdstanpy - INFO - Chain [1] start processing\n",
      "14:58:56 - cmdstanpy - INFO - Chain [1] done processing\n"
     ]
    },
    {
     "name": "stdout",
     "output_type": "stream",
     "text": [
      "\n",
      "Training model for store 33 and family 21...\n"
     ]
    },
    {
     "name": "stderr",
     "output_type": "stream",
     "text": [
      "14:58:57 - cmdstanpy - INFO - Chain [1] start processing\n"
     ]
    },
    {
     "name": "stdout",
     "output_type": "stream",
     "text": [
      "There are 1 NaN values in the data.\n",
      "Root Mean Squared Error (RMSE): 13.600407519405685\n",
      "Root Mean Squared Logarithmic Error (RMSLE): 2.1552964788426436\n",
      "\n",
      "Training model for store 33 and family 22...\n"
     ]
    },
    {
     "name": "stderr",
     "output_type": "stream",
     "text": [
      "14:58:57 - cmdstanpy - INFO - Chain [1] done processing\n",
      "14:58:57 - cmdstanpy - INFO - Chain [1] start processing\n"
     ]
    },
    {
     "name": "stdout",
     "output_type": "stream",
     "text": [
      "There are 1 NaN values in the data.\n",
      "Root Mean Squared Error (RMSE): 90.85722961227563\n",
      "Root Mean Squared Logarithmic Error (RMSLE): 1.3241636501149787\n",
      "\n",
      "Training model for store 33 and family 23...\n"
     ]
    },
    {
     "name": "stderr",
     "output_type": "stream",
     "text": [
      "14:58:57 - cmdstanpy - INFO - Chain [1] done processing\n",
      "14:58:57 - cmdstanpy - INFO - Chain [1] start processing\n"
     ]
    },
    {
     "name": "stdout",
     "output_type": "stream",
     "text": [
      "There are 1 NaN values in the data.\n",
      "Root Mean Squared Error (RMSE): 1.7612048068875572\n",
      "Root Mean Squared Logarithmic Error (RMSLE): 0.6990535516729046\n",
      "\n",
      "Training model for store 33 and family 24...\n"
     ]
    },
    {
     "name": "stderr",
     "output_type": "stream",
     "text": [
      "14:58:57 - cmdstanpy - INFO - Chain [1] done processing\n",
      "14:58:58 - cmdstanpy - INFO - Chain [1] start processing\n"
     ]
    },
    {
     "name": "stdout",
     "output_type": "stream",
     "text": [
      "There are 1 NaN values in the data.\n",
      "Root Mean Squared Error (RMSE): 59.547641186631246\n",
      "Root Mean Squared Logarithmic Error (RMSLE): 0.48777018594363303\n",
      "\n",
      "Training model for store 33 and family 25...\n"
     ]
    },
    {
     "name": "stderr",
     "output_type": "stream",
     "text": [
      "14:58:58 - cmdstanpy - INFO - Chain [1] done processing\n",
      "14:58:58 - cmdstanpy - INFO - Chain [1] start processing\n"
     ]
    },
    {
     "name": "stdout",
     "output_type": "stream",
     "text": [
      "There are 1 NaN values in the data.\n",
      "Root Mean Squared Error (RMSE): 74.26469631284341\n",
      "Root Mean Squared Logarithmic Error (RMSLE): 0.5343893828834395\n",
      "\n",
      "Training model for store 33 and family 26...\n"
     ]
    },
    {
     "name": "stderr",
     "output_type": "stream",
     "text": [
      "14:58:58 - cmdstanpy - INFO - Chain [1] done processing\n",
      "14:58:58 - cmdstanpy - INFO - Chain [1] start processing\n"
     ]
    },
    {
     "name": "stdout",
     "output_type": "stream",
     "text": [
      "There are 1 NaN values in the data.\n",
      "Root Mean Squared Error (RMSE): 2.111176194443075\n",
      "Root Mean Squared Logarithmic Error (RMSLE): 0.6137942848239132\n",
      "\n",
      "Training model for store 33 and family 27...\n"
     ]
    },
    {
     "name": "stderr",
     "output_type": "stream",
     "text": [
      "14:58:58 - cmdstanpy - INFO - Chain [1] done processing\n",
      "14:58:59 - cmdstanpy - INFO - Chain [1] start processing\n"
     ]
    },
    {
     "name": "stdout",
     "output_type": "stream",
     "text": [
      "There are 1 NaN values in the data.\n",
      "Root Mean Squared Error (RMSE): 4.026652990757057\n",
      "Root Mean Squared Logarithmic Error (RMSLE): 0.6360275918630156\n",
      "\n",
      "Training model for store 33 and family 28...\n"
     ]
    },
    {
     "name": "stderr",
     "output_type": "stream",
     "text": [
      "14:58:59 - cmdstanpy - INFO - Chain [1] done processing\n",
      "14:58:59 - cmdstanpy - INFO - Chain [1] start processing\n"
     ]
    },
    {
     "name": "stdout",
     "output_type": "stream",
     "text": [
      "There are 1 NaN values in the data.\n",
      "Root Mean Squared Error (RMSE): 75.33342363559814\n",
      "Root Mean Squared Logarithmic Error (RMSLE): 0.5436375865394274\n",
      "\n",
      "Training model for store 33 and family 29...\n"
     ]
    },
    {
     "name": "stderr",
     "output_type": "stream",
     "text": [
      "14:58:59 - cmdstanpy - INFO - Chain [1] done processing\n",
      "14:58:59 - cmdstanpy - INFO - Chain [1] start processing\n"
     ]
    },
    {
     "name": "stdout",
     "output_type": "stream",
     "text": [
      "There are 1 NaN values in the data.\n",
      "Root Mean Squared Error (RMSE): 14.286562862100041\n",
      "Root Mean Squared Logarithmic Error (RMSLE): 0.5369283820047074\n",
      "\n",
      "Training model for store 33 and family 30...\n"
     ]
    },
    {
     "name": "stderr",
     "output_type": "stream",
     "text": [
      "14:58:59 - cmdstanpy - INFO - Chain [1] done processing\n",
      "14:59:00 - cmdstanpy - INFO - Chain [1] start processing\n"
     ]
    },
    {
     "name": "stdout",
     "output_type": "stream",
     "text": [
      "There are 1 NaN values in the data.\n",
      "Root Mean Squared Error (RMSE): 477.53639690626335\n",
      "Root Mean Squared Logarithmic Error (RMSLE): 0.6615831936390456\n",
      "\n",
      "Training model for store 33 and family 31...\n"
     ]
    },
    {
     "name": "stderr",
     "output_type": "stream",
     "text": [
      "14:59:00 - cmdstanpy - INFO - Chain [1] done processing\n",
      "14:59:00 - cmdstanpy - INFO - Chain [1] start processing\n"
     ]
    },
    {
     "name": "stdout",
     "output_type": "stream",
     "text": [
      "There are 1 NaN values in the data.\n",
      "Root Mean Squared Error (RMSE): 9.175048370829881\n",
      "Root Mean Squared Logarithmic Error (RMSLE): 1.4080813033549964\n",
      "\n",
      "Training model for store 33 and family 32...\n"
     ]
    },
    {
     "name": "stderr",
     "output_type": "stream",
     "text": [
      "14:59:00 - cmdstanpy - INFO - Chain [1] done processing\n",
      "14:59:00 - cmdstanpy - INFO - Chain [1] start processing\n"
     ]
    },
    {
     "name": "stdout",
     "output_type": "stream",
     "text": [
      "There are 1 NaN values in the data.\n",
      "Root Mean Squared Error (RMSE): 2.556198333328541\n",
      "Root Mean Squared Logarithmic Error (RMSLE): 0.9996675155627559\n",
      "\n",
      "Training model for store 34 and family 0...\n"
     ]
    },
    {
     "name": "stderr",
     "output_type": "stream",
     "text": [
      "14:59:00 - cmdstanpy - INFO - Chain [1] done processing\n",
      "14:59:00 - cmdstanpy - INFO - Chain [1] start processing\n"
     ]
    },
    {
     "name": "stdout",
     "output_type": "stream",
     "text": [
      "There are 1 NaN values in the data.\n",
      "Root Mean Squared Error (RMSE): 2.7187170654603734\n",
      "Root Mean Squared Logarithmic Error (RMSLE): 0.6438390976565606\n",
      "\n",
      "Training model for store 34 and family 1...\n"
     ]
    },
    {
     "name": "stderr",
     "output_type": "stream",
     "text": [
      "14:59:01 - cmdstanpy - INFO - Chain [1] done processing\n",
      "14:59:01 - cmdstanpy - INFO - Chain [1] start processing\n"
     ]
    },
    {
     "name": "stdout",
     "output_type": "stream",
     "text": [
      "There are 1 NaN values in the data.\n",
      "Root Mean Squared Error (RMSE): 0.8575087689673574\n",
      "Root Mean Squared Logarithmic Error (RMSLE): 0.5335862084660326\n",
      "\n",
      "Training model for store 34 and family 2...\n"
     ]
    },
    {
     "name": "stderr",
     "output_type": "stream",
     "text": [
      "14:59:01 - cmdstanpy - INFO - Chain [1] done processing\n",
      "14:59:01 - cmdstanpy - INFO - Chain [1] start processing\n"
     ]
    },
    {
     "name": "stdout",
     "output_type": "stream",
     "text": [
      "There are 1 NaN values in the data.\n",
      "Root Mean Squared Error (RMSE): 3.5120114638979447\n",
      "Root Mean Squared Logarithmic Error (RMSLE): 0.7856504852528075\n",
      "\n",
      "Training model for store 34 and family 3...\n"
     ]
    },
    {
     "name": "stderr",
     "output_type": "stream",
     "text": [
      "14:59:01 - cmdstanpy - INFO - Chain [1] done processing\n"
     ]
    },
    {
     "name": "stdout",
     "output_type": "stream",
     "text": [
      "There are 1 NaN values in the data.\n",
      "Root Mean Squared Error (RMSE): 658.2044550293252\n",
      "Root Mean Squared Logarithmic Error (RMSLE): 0.6731629843539126\n",
      "\n",
      "Training model for store 34 and family 4...\n",
      "There are 1 NaN values in the data.\n",
      "Root Mean Squared Error (RMSE): 0.0\n",
      "Root Mean Squared Logarithmic Error (RMSLE): 0.0\n"
     ]
    },
    {
     "name": "stderr",
     "output_type": "stream",
     "text": [
      "14:59:01 - cmdstanpy - INFO - Chain [1] start processing\n",
      "14:59:02 - cmdstanpy - INFO - Chain [1] done processing\n"
     ]
    },
    {
     "name": "stdout",
     "output_type": "stream",
     "text": [
      "\n",
      "Training model for store 34 and family 5...\n"
     ]
    },
    {
     "name": "stderr",
     "output_type": "stream",
     "text": [
      "14:59:02 - cmdstanpy - INFO - Chain [1] start processing\n"
     ]
    },
    {
     "name": "stdout",
     "output_type": "stream",
     "text": [
      "There are 1 NaN values in the data.\n",
      "Root Mean Squared Error (RMSE): 148.59688000816243\n",
      "Root Mean Squared Logarithmic Error (RMSLE): 0.5437238054769025\n",
      "\n",
      "Training model for store 34 and family 6...\n"
     ]
    },
    {
     "name": "stderr",
     "output_type": "stream",
     "text": [
      "14:59:02 - cmdstanpy - INFO - Chain [1] done processing\n",
      "14:59:02 - cmdstanpy - INFO - Chain [1] start processing\n"
     ]
    },
    {
     "name": "stdout",
     "output_type": "stream",
     "text": [
      "There are 1 NaN values in the data.\n",
      "Root Mean Squared Error (RMSE): 7.1457144550351686\n",
      "Root Mean Squared Logarithmic Error (RMSLE): 0.7454229572201961\n",
      "\n",
      "Training model for store 34 and family 7...\n"
     ]
    },
    {
     "name": "stderr",
     "output_type": "stream",
     "text": [
      "14:59:02 - cmdstanpy - INFO - Chain [1] done processing\n",
      "14:59:03 - cmdstanpy - INFO - Chain [1] start processing\n"
     ]
    },
    {
     "name": "stdout",
     "output_type": "stream",
     "text": [
      "There are 1 NaN values in the data.\n",
      "Root Mean Squared Error (RMSE): 201.2786751423069\n",
      "Root Mean Squared Logarithmic Error (RMSLE): 0.5659851052330146\n",
      "\n",
      "Training model for store 34 and family 8...\n"
     ]
    },
    {
     "name": "stderr",
     "output_type": "stream",
     "text": [
      "14:59:03 - cmdstanpy - INFO - Chain [1] done processing\n",
      "14:59:03 - cmdstanpy - INFO - Chain [1] start processing\n"
     ]
    },
    {
     "name": "stdout",
     "output_type": "stream",
     "text": [
      "There are 1 NaN values in the data.\n",
      "Root Mean Squared Error (RMSE): 212.7290419103335\n",
      "Root Mean Squared Logarithmic Error (RMSLE): 0.5932850352863156\n",
      "\n",
      "Training model for store 34 and family 9...\n"
     ]
    },
    {
     "name": "stderr",
     "output_type": "stream",
     "text": [
      "14:59:03 - cmdstanpy - INFO - Chain [1] done processing\n",
      "14:59:03 - cmdstanpy - INFO - Chain [1] start processing\n"
     ]
    },
    {
     "name": "stdout",
     "output_type": "stream",
     "text": [
      "There are 1 NaN values in the data.\n",
      "Root Mean Squared Error (RMSE): 48.074627519043034\n",
      "Root Mean Squared Logarithmic Error (RMSLE): 0.46733962981814975\n",
      "\n",
      "Training model for store 34 and family 10...\n"
     ]
    },
    {
     "name": "stderr",
     "output_type": "stream",
     "text": [
      "14:59:03 - cmdstanpy - INFO - Chain [1] done processing\n",
      "14:59:04 - cmdstanpy - INFO - Chain [1] start processing\n",
      "14:59:04 - cmdstanpy - INFO - Chain [1] done processing\n"
     ]
    },
    {
     "name": "stdout",
     "output_type": "stream",
     "text": [
      "There are 1 NaN values in the data.\n",
      "Root Mean Squared Error (RMSE): 186.21956097627844\n",
      "Root Mean Squared Logarithmic Error (RMSLE): 0.7363338665664205\n",
      "\n",
      "Training model for store 34 and family 11...\n"
     ]
    },
    {
     "name": "stderr",
     "output_type": "stream",
     "text": [
      "14:59:04 - cmdstanpy - INFO - Chain [1] start processing\n"
     ]
    },
    {
     "name": "stdout",
     "output_type": "stream",
     "text": [
      "There are 1 NaN values in the data.\n",
      "Root Mean Squared Error (RMSE): 99.59187726674436\n",
      "Root Mean Squared Logarithmic Error (RMSLE): 1.2936005274378157\n",
      "\n",
      "Training model for store 34 and family 12...\n"
     ]
    },
    {
     "name": "stderr",
     "output_type": "stream",
     "text": [
      "14:59:04 - cmdstanpy - INFO - Chain [1] done processing\n",
      "14:59:04 - cmdstanpy - INFO - Chain [1] start processing\n"
     ]
    },
    {
     "name": "stdout",
     "output_type": "stream",
     "text": [
      "There are 1 NaN values in the data.\n",
      "Root Mean Squared Error (RMSE): 766.7030685943552\n",
      "Root Mean Squared Logarithmic Error (RMSLE): 0.6739941352546223\n",
      "\n",
      "Training model for store 34 and family 13...\n"
     ]
    },
    {
     "name": "stderr",
     "output_type": "stream",
     "text": [
      "14:59:04 - cmdstanpy - INFO - Chain [1] done processing\n",
      "14:59:04 - cmdstanpy - INFO - Chain [1] start processing\n"
     ]
    },
    {
     "name": "stdout",
     "output_type": "stream",
     "text": [
      "There are 1 NaN values in the data.\n",
      "Root Mean Squared Error (RMSE): 5.237371548136657\n",
      "Root Mean Squared Logarithmic Error (RMSLE): 0.803626248378414\n",
      "\n",
      "Training model for store 34 and family 14...\n"
     ]
    },
    {
     "name": "stderr",
     "output_type": "stream",
     "text": [
      "14:59:05 - cmdstanpy - INFO - Chain [1] done processing\n",
      "14:59:05 - cmdstanpy - INFO - Chain [1] start processing\n"
     ]
    },
    {
     "name": "stdout",
     "output_type": "stream",
     "text": [
      "There are 1 NaN values in the data.\n",
      "Root Mean Squared Error (RMSE): 3.2034448468422227\n",
      "Root Mean Squared Logarithmic Error (RMSLE): 0.9155474775746699\n",
      "\n",
      "Training model for store 34 and family 15...\n"
     ]
    },
    {
     "name": "stderr",
     "output_type": "stream",
     "text": [
      "14:59:05 - cmdstanpy - INFO - Chain [1] done processing\n",
      "14:59:05 - cmdstanpy - INFO - Chain [1] start processing\n"
     ]
    },
    {
     "name": "stdout",
     "output_type": "stream",
     "text": [
      "There are 1 NaN values in the data.\n",
      "Root Mean Squared Error (RMSE): 48.69746793389874\n",
      "Root Mean Squared Logarithmic Error (RMSLE): 0.667640451801028\n",
      "\n",
      "Training model for store 34 and family 16...\n"
     ]
    },
    {
     "name": "stderr",
     "output_type": "stream",
     "text": [
      "14:59:05 - cmdstanpy - INFO - Chain [1] done processing\n",
      "14:59:05 - cmdstanpy - INFO - Chain [1] start processing\n"
     ]
    },
    {
     "name": "stdout",
     "output_type": "stream",
     "text": [
      "There are 1 NaN values in the data.\n",
      "Root Mean Squared Error (RMSE): 27.98582914980501\n",
      "Root Mean Squared Logarithmic Error (RMSLE): 0.9103151851333526\n",
      "\n",
      "Training model for store 34 and family 17...\n"
     ]
    },
    {
     "name": "stderr",
     "output_type": "stream",
     "text": [
      "14:59:05 - cmdstanpy - INFO - Chain [1] done processing\n",
      "14:59:06 - cmdstanpy - INFO - Chain [1] start processing\n"
     ]
    },
    {
     "name": "stdout",
     "output_type": "stream",
     "text": [
      "There are 1 NaN values in the data.\n",
      "Root Mean Squared Error (RMSE): 0.8017478481422685\n",
      "Root Mean Squared Logarithmic Error (RMSLE): 0.4604889200063874\n",
      "\n",
      "Training model for store 34 and family 18...\n"
     ]
    },
    {
     "name": "stderr",
     "output_type": "stream",
     "text": [
      "14:59:06 - cmdstanpy - INFO - Chain [1] done processing\n",
      "14:59:06 - cmdstanpy - INFO - Chain [1] start processing\n",
      "14:59:06 - cmdstanpy - INFO - Chain [1] done processing\n"
     ]
    },
    {
     "name": "stdout",
     "output_type": "stream",
     "text": [
      "There are 1 NaN values in the data.\n",
      "Root Mean Squared Error (RMSE): 106.96475632775721\n",
      "Root Mean Squared Logarithmic Error (RMSLE): 0.6056209200430825\n",
      "\n",
      "Training model for store 34 and family 19...\n"
     ]
    },
    {
     "name": "stderr",
     "output_type": "stream",
     "text": [
      "14:59:06 - cmdstanpy - INFO - Chain [1] start processing\n"
     ]
    },
    {
     "name": "stdout",
     "output_type": "stream",
     "text": [
      "There are 1 NaN values in the data.\n",
      "Root Mean Squared Error (RMSE): 8.251116614135867\n",
      "Root Mean Squared Logarithmic Error (RMSLE): 1.1917706890247097\n",
      "\n",
      "Training model for store 34 and family 20...\n"
     ]
    },
    {
     "name": "stderr",
     "output_type": "stream",
     "text": [
      "14:59:06 - cmdstanpy - INFO - Chain [1] done processing\n",
      "14:59:07 - cmdstanpy - INFO - Chain [1] start processing\n"
     ]
    },
    {
     "name": "stdout",
     "output_type": "stream",
     "text": [
      "There are 1 NaN values in the data.\n",
      "Root Mean Squared Error (RMSE): 11.489925984902927\n",
      "Root Mean Squared Logarithmic Error (RMSLE): 1.2666989017892356\n",
      "\n",
      "Training model for store 34 and family 21...\n"
     ]
    },
    {
     "name": "stderr",
     "output_type": "stream",
     "text": [
      "14:59:07 - cmdstanpy - INFO - Chain [1] done processing\n",
      "14:59:07 - cmdstanpy - INFO - Chain [1] start processing\n"
     ]
    },
    {
     "name": "stdout",
     "output_type": "stream",
     "text": [
      "There are 1 NaN values in the data.\n",
      "Root Mean Squared Error (RMSE): 5.346713623770982\n",
      "Root Mean Squared Logarithmic Error (RMSLE): 1.04085046402094\n",
      "\n",
      "Training model for store 34 and family 22...\n"
     ]
    },
    {
     "name": "stderr",
     "output_type": "stream",
     "text": [
      "14:59:07 - cmdstanpy - INFO - Chain [1] done processing\n",
      "14:59:07 - cmdstanpy - INFO - Chain [1] start processing\n"
     ]
    },
    {
     "name": "stdout",
     "output_type": "stream",
     "text": [
      "There are 1 NaN values in the data.\n",
      "Root Mean Squared Error (RMSE): 32.284762068518106\n",
      "Root Mean Squared Logarithmic Error (RMSLE): 1.365386581745357\n",
      "\n",
      "Training model for store 34 and family 23...\n"
     ]
    },
    {
     "name": "stderr",
     "output_type": "stream",
     "text": [
      "14:59:07 - cmdstanpy - INFO - Chain [1] done processing\n",
      "14:59:08 - cmdstanpy - INFO - Chain [1] start processing\n"
     ]
    },
    {
     "name": "stdout",
     "output_type": "stream",
     "text": [
      "There are 1 NaN values in the data.\n",
      "Root Mean Squared Error (RMSE): 1.8224222883074672\n",
      "Root Mean Squared Logarithmic Error (RMSLE): 0.6354423661061587\n",
      "\n",
      "Training model for store 34 and family 24...\n"
     ]
    },
    {
     "name": "stderr",
     "output_type": "stream",
     "text": [
      "14:59:08 - cmdstanpy - INFO - Chain [1] done processing\n",
      "14:59:08 - cmdstanpy - INFO - Chain [1] start processing\n"
     ]
    },
    {
     "name": "stdout",
     "output_type": "stream",
     "text": [
      "There are 1 NaN values in the data.\n",
      "Root Mean Squared Error (RMSE): 41.60270661208673\n",
      "Root Mean Squared Logarithmic Error (RMSLE): 0.44181892021420194\n",
      "\n",
      "Training model for store 34 and family 25...\n"
     ]
    },
    {
     "name": "stderr",
     "output_type": "stream",
     "text": [
      "14:59:08 - cmdstanpy - INFO - Chain [1] done processing\n",
      "14:59:08 - cmdstanpy - INFO - Chain [1] start processing\n"
     ]
    },
    {
     "name": "stdout",
     "output_type": "stream",
     "text": [
      "There are 1 NaN values in the data.\n",
      "Root Mean Squared Error (RMSE): 73.32759237704114\n",
      "Root Mean Squared Logarithmic Error (RMSLE): 0.5022892538148553\n",
      "\n",
      "Training model for store 34 and family 26...\n"
     ]
    },
    {
     "name": "stderr",
     "output_type": "stream",
     "text": [
      "14:59:08 - cmdstanpy - INFO - Chain [1] done processing\n",
      "14:59:08 - cmdstanpy - INFO - Chain [1] start processing\n"
     ]
    },
    {
     "name": "stdout",
     "output_type": "stream",
     "text": [
      "There are 1 NaN values in the data.\n",
      "Root Mean Squared Error (RMSE): 3.184210088864572\n",
      "Root Mean Squared Logarithmic Error (RMSLE): 0.7227233036457277\n",
      "\n",
      "Training model for store 34 and family 27...\n"
     ]
    },
    {
     "name": "stderr",
     "output_type": "stream",
     "text": [
      "14:59:08 - cmdstanpy - INFO - Chain [1] done processing\n",
      "14:59:09 - cmdstanpy - INFO - Chain [1] start processing\n"
     ]
    },
    {
     "name": "stdout",
     "output_type": "stream",
     "text": [
      "There are 1 NaN values in the data.\n",
      "Root Mean Squared Error (RMSE): 4.202272963490917\n",
      "Root Mean Squared Logarithmic Error (RMSLE): 0.49740789972505384\n",
      "\n",
      "Training model for store 34 and family 28...\n"
     ]
    },
    {
     "name": "stderr",
     "output_type": "stream",
     "text": [
      "14:59:09 - cmdstanpy - INFO - Chain [1] done processing\n",
      "14:59:09 - cmdstanpy - INFO - Chain [1] start processing\n",
      "14:59:09 - cmdstanpy - INFO - Chain [1] done processing\n"
     ]
    },
    {
     "name": "stdout",
     "output_type": "stream",
     "text": [
      "There are 1 NaN values in the data.\n",
      "Root Mean Squared Error (RMSE): 40.54297937046267\n",
      "Root Mean Squared Logarithmic Error (RMSLE): 0.49255841575694165\n",
      "\n",
      "Training model for store 34 and family 29...\n"
     ]
    },
    {
     "name": "stderr",
     "output_type": "stream",
     "text": [
      "14:59:09 - cmdstanpy - INFO - Chain [1] start processing\n"
     ]
    },
    {
     "name": "stdout",
     "output_type": "stream",
     "text": [
      "There are 1 NaN values in the data.\n",
      "Root Mean Squared Error (RMSE): 12.135496363343655\n",
      "Root Mean Squared Logarithmic Error (RMSLE): 0.44541669185740695\n",
      "\n",
      "Training model for store 34 and family 30...\n"
     ]
    },
    {
     "name": "stderr",
     "output_type": "stream",
     "text": [
      "14:59:09 - cmdstanpy - INFO - Chain [1] done processing\n",
      "14:59:10 - cmdstanpy - INFO - Chain [1] start processing\n"
     ]
    },
    {
     "name": "stdout",
     "output_type": "stream",
     "text": [
      "There are 1 NaN values in the data.\n",
      "Root Mean Squared Error (RMSE): 301.5541190372774\n",
      "Root Mean Squared Logarithmic Error (RMSLE): 0.6405115756641924\n",
      "\n",
      "Training model for store 34 and family 31...\n"
     ]
    },
    {
     "name": "stderr",
     "output_type": "stream",
     "text": [
      "14:59:10 - cmdstanpy - INFO - Chain [1] done processing\n",
      "14:59:10 - cmdstanpy - INFO - Chain [1] start processing\n"
     ]
    },
    {
     "name": "stdout",
     "output_type": "stream",
     "text": [
      "There are 1 NaN values in the data.\n",
      "Root Mean Squared Error (RMSE): 28.955647163157515\n",
      "Root Mean Squared Logarithmic Error (RMSLE): 1.3325028842380766\n",
      "\n",
      "Training model for store 34 and family 32...\n"
     ]
    },
    {
     "name": "stderr",
     "output_type": "stream",
     "text": [
      "14:59:10 - cmdstanpy - INFO - Chain [1] done processing\n",
      "14:59:10 - cmdstanpy - INFO - Chain [1] start processing\n"
     ]
    },
    {
     "name": "stdout",
     "output_type": "stream",
     "text": [
      "There are 1 NaN values in the data.\n",
      "Root Mean Squared Error (RMSE): 4.236449152738231\n",
      "Root Mean Squared Logarithmic Error (RMSLE): 0.9483895767889042\n",
      "\n",
      "Training model for store 35 and family 0...\n"
     ]
    },
    {
     "name": "stderr",
     "output_type": "stream",
     "text": [
      "14:59:10 - cmdstanpy - INFO - Chain [1] done processing\n",
      "14:59:10 - cmdstanpy - INFO - Chain [1] start processing\n"
     ]
    },
    {
     "name": "stdout",
     "output_type": "stream",
     "text": [
      "There are 1 NaN values in the data.\n",
      "Root Mean Squared Error (RMSE): 3.3623890310001423\n",
      "Root Mean Squared Logarithmic Error (RMSLE): 0.5739106424282296\n",
      "\n",
      "Training model for store 35 and family 1...\n"
     ]
    },
    {
     "name": "stderr",
     "output_type": "stream",
     "text": [
      "14:59:11 - cmdstanpy - INFO - Chain [1] done processing\n",
      "14:59:11 - cmdstanpy - INFO - Chain [1] start processing\n",
      "14:59:11 - cmdstanpy - INFO - Chain [1] done processing\n"
     ]
    },
    {
     "name": "stdout",
     "output_type": "stream",
     "text": [
      "There are 1 NaN values in the data.\n",
      "Root Mean Squared Error (RMSE): 0.482749017839199\n",
      "Root Mean Squared Logarithmic Error (RMSLE): 0.27902864387089166\n",
      "\n",
      "Training model for store 35 and family 2...\n"
     ]
    },
    {
     "name": "stderr",
     "output_type": "stream",
     "text": [
      "14:59:11 - cmdstanpy - INFO - Chain [1] start processing\n"
     ]
    },
    {
     "name": "stdout",
     "output_type": "stream",
     "text": [
      "There are 1 NaN values in the data.\n",
      "Root Mean Squared Error (RMSE): 0.6294939387112118\n",
      "Root Mean Squared Logarithmic Error (RMSLE): 0.37621887367521556\n",
      "\n",
      "Training model for store 35 and family 3...\n"
     ]
    },
    {
     "name": "stderr",
     "output_type": "stream",
     "text": [
      "14:59:11 - cmdstanpy - INFO - Chain [1] done processing\n"
     ]
    },
    {
     "name": "stdout",
     "output_type": "stream",
     "text": [
      "There are 1 NaN values in the data.\n",
      "Root Mean Squared Error (RMSE): 500.0968573045045\n",
      "Root Mean Squared Logarithmic Error (RMSLE): 0.653686561357951\n",
      "\n",
      "Training model for store 35 and family 4...\n",
      "There are 1 NaN values in the data.\n",
      "Root Mean Squared Error (RMSE): 0.0\n",
      "Root Mean Squared Logarithmic Error (RMSLE): 0.0\n"
     ]
    },
    {
     "name": "stderr",
     "output_type": "stream",
     "text": [
      "14:59:11 - cmdstanpy - INFO - Chain [1] start processing\n",
      "14:59:12 - cmdstanpy - INFO - Chain [1] done processing\n"
     ]
    },
    {
     "name": "stdout",
     "output_type": "stream",
     "text": [
      "\n",
      "Training model for store 35 and family 5...\n",
      "There are 1 NaN values in the data.\n",
      "Root Mean Squared Error (RMSE): 29.97877686058052\n",
      "Root Mean Squared Logarithmic Error (RMSLE): 0.4684609515863554\n"
     ]
    },
    {
     "name": "stderr",
     "output_type": "stream",
     "text": [
      "14:59:12 - cmdstanpy - INFO - Chain [1] start processing\n",
      "14:59:12 - cmdstanpy - INFO - Chain [1] done processing\n"
     ]
    },
    {
     "name": "stdout",
     "output_type": "stream",
     "text": [
      "\n",
      "Training model for store 35 and family 6...\n"
     ]
    },
    {
     "name": "stderr",
     "output_type": "stream",
     "text": [
      "14:59:12 - cmdstanpy - INFO - Chain [1] start processing\n"
     ]
    },
    {
     "name": "stdout",
     "output_type": "stream",
     "text": [
      "There are 1 NaN values in the data.\n",
      "Root Mean Squared Error (RMSE): 3.342771670759425\n",
      "Root Mean Squared Logarithmic Error (RMSLE): 0.8157279882205556\n",
      "\n",
      "Training model for store 35 and family 7...\n"
     ]
    },
    {
     "name": "stderr",
     "output_type": "stream",
     "text": [
      "14:59:12 - cmdstanpy - INFO - Chain [1] done processing\n",
      "14:59:12 - cmdstanpy - INFO - Chain [1] start processing\n"
     ]
    },
    {
     "name": "stdout",
     "output_type": "stream",
     "text": [
      "There are 1 NaN values in the data.\n",
      "Root Mean Squared Error (RMSE): 147.22154775010725\n",
      "Root Mean Squared Logarithmic Error (RMSLE): 0.5518576822471435\n",
      "\n",
      "Training model for store 35 and family 8...\n"
     ]
    },
    {
     "name": "stderr",
     "output_type": "stream",
     "text": [
      "14:59:13 - cmdstanpy - INFO - Chain [1] done processing\n",
      "14:59:13 - cmdstanpy - INFO - Chain [1] start processing\n"
     ]
    },
    {
     "name": "stdout",
     "output_type": "stream",
     "text": [
      "There are 1 NaN values in the data.\n",
      "Root Mean Squared Error (RMSE): 55.360049147908164\n",
      "Root Mean Squared Logarithmic Error (RMSLE): 0.5016242937803103\n",
      "\n",
      "Training model for store 35 and family 9...\n"
     ]
    },
    {
     "name": "stderr",
     "output_type": "stream",
     "text": [
      "14:59:13 - cmdstanpy - INFO - Chain [1] done processing\n",
      "14:59:13 - cmdstanpy - INFO - Chain [1] start processing\n"
     ]
    },
    {
     "name": "stdout",
     "output_type": "stream",
     "text": [
      "There are 1 NaN values in the data.\n",
      "Root Mean Squared Error (RMSE): 31.96316213891245\n",
      "Root Mean Squared Logarithmic Error (RMSLE): 0.46829537189093295\n",
      "\n",
      "Training model for store 35 and family 10...\n"
     ]
    },
    {
     "name": "stderr",
     "output_type": "stream",
     "text": [
      "14:59:13 - cmdstanpy - INFO - Chain [1] done processing\n",
      "14:59:13 - cmdstanpy - INFO - Chain [1] start processing\n"
     ]
    },
    {
     "name": "stdout",
     "output_type": "stream",
     "text": [
      "There are 1 NaN values in the data.\n",
      "Root Mean Squared Error (RMSE): 189.98294156516639\n",
      "Root Mean Squared Logarithmic Error (RMSLE): 0.7144558594186751\n",
      "\n",
      "Training model for store 35 and family 11...\n"
     ]
    },
    {
     "name": "stderr",
     "output_type": "stream",
     "text": [
      "14:59:13 - cmdstanpy - INFO - Chain [1] done processing\n",
      "14:59:14 - cmdstanpy - INFO - Chain [1] start processing\n",
      "14:59:14 - cmdstanpy - INFO - Chain [1] done processing\n"
     ]
    },
    {
     "name": "stdout",
     "output_type": "stream",
     "text": [
      "There are 1 NaN values in the data.\n",
      "Root Mean Squared Error (RMSE): 68.91797239809453\n",
      "Root Mean Squared Logarithmic Error (RMSLE): 0.8195507436135766\n",
      "\n",
      "Training model for store 35 and family 12...\n"
     ]
    },
    {
     "name": "stderr",
     "output_type": "stream",
     "text": [
      "14:59:14 - cmdstanpy - INFO - Chain [1] start processing\n",
      "14:59:14 - cmdstanpy - INFO - Chain [1] done processing\n"
     ]
    },
    {
     "name": "stdout",
     "output_type": "stream",
     "text": [
      "There are 1 NaN values in the data.\n",
      "Root Mean Squared Error (RMSE): 1581.2103358647514\n",
      "Root Mean Squared Logarithmic Error (RMSLE): 0.6547183740250991\n",
      "\n",
      "Training model for store 35 and family 13...\n"
     ]
    },
    {
     "name": "stderr",
     "output_type": "stream",
     "text": [
      "14:59:14 - cmdstanpy - INFO - Chain [1] start processing\n"
     ]
    },
    {
     "name": "stdout",
     "output_type": "stream",
     "text": [
      "There are 1 NaN values in the data.\n",
      "Root Mean Squared Error (RMSE): 4.119493809745164\n",
      "Root Mean Squared Logarithmic Error (RMSLE): 0.8038813410901546\n",
      "\n",
      "Training model for store 35 and family 14...\n"
     ]
    },
    {
     "name": "stderr",
     "output_type": "stream",
     "text": [
      "14:59:14 - cmdstanpy - INFO - Chain [1] done processing\n",
      "14:59:15 - cmdstanpy - INFO - Chain [1] start processing\n"
     ]
    },
    {
     "name": "stdout",
     "output_type": "stream",
     "text": [
      "There are 1 NaN values in the data.\n",
      "Root Mean Squared Error (RMSE): 0.6996197003827082\n",
      "Root Mean Squared Logarithmic Error (RMSLE): 0.4151316453263281\n",
      "\n",
      "Training model for store 35 and family 15...\n"
     ]
    },
    {
     "name": "stderr",
     "output_type": "stream",
     "text": [
      "14:59:15 - cmdstanpy - INFO - Chain [1] done processing\n",
      "14:59:15 - cmdstanpy - INFO - Chain [1] start processing\n"
     ]
    },
    {
     "name": "stdout",
     "output_type": "stream",
     "text": [
      "There are 1 NaN values in the data.\n",
      "Root Mean Squared Error (RMSE): 11.323879047980721\n",
      "Root Mean Squared Logarithmic Error (RMSLE): 0.7964406927309955\n",
      "\n",
      "Training model for store 35 and family 16...\n"
     ]
    },
    {
     "name": "stderr",
     "output_type": "stream",
     "text": [
      "14:59:15 - cmdstanpy - INFO - Chain [1] done processing\n",
      "14:59:15 - cmdstanpy - INFO - Chain [1] start processing\n"
     ]
    },
    {
     "name": "stdout",
     "output_type": "stream",
     "text": [
      "There are 1 NaN values in the data.\n",
      "Root Mean Squared Error (RMSE): 7.741641880180569\n",
      "Root Mean Squared Logarithmic Error (RMSLE): 0.7793092411528304\n",
      "\n",
      "Training model for store 35 and family 17...\n"
     ]
    },
    {
     "name": "stderr",
     "output_type": "stream",
     "text": [
      "14:59:15 - cmdstanpy - INFO - Chain [1] done processing\n",
      "14:59:15 - cmdstanpy - INFO - Chain [1] start processing\n"
     ]
    },
    {
     "name": "stdout",
     "output_type": "stream",
     "text": [
      "There are 1 NaN values in the data.\n",
      "Root Mean Squared Error (RMSE): 0.5426143982519404\n",
      "Root Mean Squared Logarithmic Error (RMSLE): 0.3296150807595442\n",
      "\n",
      "Training model for store 35 and family 18...\n"
     ]
    },
    {
     "name": "stderr",
     "output_type": "stream",
     "text": [
      "14:59:16 - cmdstanpy - INFO - Chain [1] done processing\n"
     ]
    },
    {
     "name": "stdout",
     "output_type": "stream",
     "text": [
      "There are 1 NaN values in the data.\n",
      "Root Mean Squared Error (RMSE): 45.97523990862875\n",
      "Root Mean Squared Logarithmic Error (RMSLE): 0.550594303699284\n",
      "\n",
      "Training model for store 35 and family 19...\n",
      "There are 1 NaN values in the data.\n",
      "Root Mean Squared Error (RMSE): 0.0\n",
      "Root Mean Squared Logarithmic Error (RMSLE): 0.0\n"
     ]
    },
    {
     "name": "stderr",
     "output_type": "stream",
     "text": [
      "14:59:16 - cmdstanpy - INFO - Chain [1] start processing\n",
      "14:59:16 - cmdstanpy - INFO - Chain [1] done processing\n"
     ]
    },
    {
     "name": "stdout",
     "output_type": "stream",
     "text": [
      "\n",
      "Training model for store 35 and family 20...\n",
      "There are 1 NaN values in the data.\n",
      "Root Mean Squared Error (RMSE): 0.233923373383213\n",
      "Root Mean Squared Logarithmic Error (RMSLE): 0.1771348085597066\n"
     ]
    },
    {
     "name": "stderr",
     "output_type": "stream",
     "text": [
      "14:59:16 - cmdstanpy - INFO - Chain [1] start processing\n",
      "14:59:16 - cmdstanpy - INFO - Chain [1] done processing\n"
     ]
    },
    {
     "name": "stdout",
     "output_type": "stream",
     "text": [
      "\n",
      "Training model for store 35 and family 21...\n",
      "There are 1 NaN values in the data.\n",
      "Root Mean Squared Error (RMSE): 1.1501495649434368\n",
      "Root Mean Squared Logarithmic Error (RMSLE): 0.5492774195034509\n"
     ]
    },
    {
     "name": "stderr",
     "output_type": "stream",
     "text": [
      "14:59:16 - cmdstanpy - INFO - Chain [1] start processing\n",
      "14:59:17 - cmdstanpy - INFO - Chain [1] done processing\n"
     ]
    },
    {
     "name": "stdout",
     "output_type": "stream",
     "text": [
      "\n",
      "Training model for store 35 and family 22...\n",
      "There are 1 NaN values in the data.\n",
      "Root Mean Squared Error (RMSE): 93.85967769419211\n",
      "Root Mean Squared Logarithmic Error (RMSLE): 1.437696306955545\n"
     ]
    },
    {
     "name": "stderr",
     "output_type": "stream",
     "text": [
      "14:59:17 - cmdstanpy - INFO - Chain [1] start processing\n",
      "14:59:17 - cmdstanpy - INFO - Chain [1] done processing\n"
     ]
    },
    {
     "name": "stdout",
     "output_type": "stream",
     "text": [
      "\n",
      "Training model for store 35 and family 23...\n",
      "There are 1 NaN values in the data.\n",
      "Root Mean Squared Error (RMSE): 0.9452027420818759\n",
      "Root Mean Squared Logarithmic Error (RMSLE): 0.5541059659122608\n"
     ]
    },
    {
     "name": "stderr",
     "output_type": "stream",
     "text": [
      "14:59:17 - cmdstanpy - INFO - Chain [1] start processing\n",
      "14:59:17 - cmdstanpy - INFO - Chain [1] done processing\n"
     ]
    },
    {
     "name": "stdout",
     "output_type": "stream",
     "text": [
      "\n",
      "Training model for store 35 and family 24...\n"
     ]
    },
    {
     "name": "stderr",
     "output_type": "stream",
     "text": [
      "14:59:17 - cmdstanpy - INFO - Chain [1] start processing\n"
     ]
    },
    {
     "name": "stdout",
     "output_type": "stream",
     "text": [
      "There are 1 NaN values in the data.\n",
      "Root Mean Squared Error (RMSE): 51.24621269166742\n",
      "Root Mean Squared Logarithmic Error (RMSLE): 0.4814041796006952\n",
      "\n",
      "Training model for store 35 and family 25...\n"
     ]
    },
    {
     "name": "stderr",
     "output_type": "stream",
     "text": [
      "14:59:18 - cmdstanpy - INFO - Chain [1] done processing\n",
      "14:59:18 - cmdstanpy - INFO - Chain [1] start processing\n"
     ]
    },
    {
     "name": "stdout",
     "output_type": "stream",
     "text": [
      "There are 1 NaN values in the data.\n",
      "Root Mean Squared Error (RMSE): 33.2443949153364\n",
      "Root Mean Squared Logarithmic Error (RMSLE): 0.49952756091091177\n",
      "\n",
      "Training model for store 35 and family 26...\n"
     ]
    },
    {
     "name": "stderr",
     "output_type": "stream",
     "text": [
      "14:59:18 - cmdstanpy - INFO - Chain [1] done processing\n",
      "14:59:18 - cmdstanpy - INFO - Chain [1] start processing\n"
     ]
    },
    {
     "name": "stdout",
     "output_type": "stream",
     "text": [
      "There are 1 NaN values in the data.\n",
      "Root Mean Squared Error (RMSE): 1.4648423022703165\n",
      "Root Mean Squared Logarithmic Error (RMSLE): 0.6257134252468604\n",
      "\n",
      "Training model for store 35 and family 27...\n"
     ]
    },
    {
     "name": "stderr",
     "output_type": "stream",
     "text": [
      "14:59:18 - cmdstanpy - INFO - Chain [1] done processing\n",
      "14:59:18 - cmdstanpy - INFO - Chain [1] start processing\n"
     ]
    },
    {
     "name": "stdout",
     "output_type": "stream",
     "text": [
      "There are 1 NaN values in the data.\n",
      "Root Mean Squared Error (RMSE): 1.3803688545817345\n",
      "Root Mean Squared Logarithmic Error (RMSLE): 0.5834437057123246\n",
      "\n",
      "Training model for store 35 and family 28...\n"
     ]
    },
    {
     "name": "stderr",
     "output_type": "stream",
     "text": [
      "14:59:18 - cmdstanpy - INFO - Chain [1] done processing\n",
      "14:59:19 - cmdstanpy - INFO - Chain [1] start processing\n"
     ]
    },
    {
     "name": "stdout",
     "output_type": "stream",
     "text": [
      "There are 1 NaN values in the data.\n",
      "Root Mean Squared Error (RMSE): 25.591964454498303\n",
      "Root Mean Squared Logarithmic Error (RMSLE): 0.5633020338259379\n",
      "\n",
      "Training model for store 35 and family 29...\n"
     ]
    },
    {
     "name": "stderr",
     "output_type": "stream",
     "text": [
      "14:59:19 - cmdstanpy - INFO - Chain [1] done processing\n",
      "14:59:19 - cmdstanpy - INFO - Chain [1] start processing\n"
     ]
    },
    {
     "name": "stdout",
     "output_type": "stream",
     "text": [
      "There are 1 NaN values in the data.\n",
      "Root Mean Squared Error (RMSE): 8.46222605952517\n",
      "Root Mean Squared Logarithmic Error (RMSLE): 0.510236837265594\n",
      "\n",
      "Training model for store 35 and family 30...\n"
     ]
    },
    {
     "name": "stderr",
     "output_type": "stream",
     "text": [
      "14:59:19 - cmdstanpy - INFO - Chain [1] done processing\n",
      "14:59:19 - cmdstanpy - INFO - Chain [1] start processing\n"
     ]
    },
    {
     "name": "stdout",
     "output_type": "stream",
     "text": [
      "There are 1 NaN values in the data.\n",
      "Root Mean Squared Error (RMSE): 133.9027439081251\n",
      "Root Mean Squared Logarithmic Error (RMSLE): 0.5840342884435208\n",
      "\n",
      "Training model for store 35 and family 31...\n"
     ]
    },
    {
     "name": "stderr",
     "output_type": "stream",
     "text": [
      "14:59:19 - cmdstanpy - INFO - Chain [1] done processing\n",
      "14:59:20 - cmdstanpy - INFO - Chain [1] start processing\n"
     ]
    },
    {
     "name": "stdout",
     "output_type": "stream",
     "text": [
      "There are 1 NaN values in the data.\n",
      "Root Mean Squared Error (RMSE): 5.7103700339650185\n",
      "Root Mean Squared Logarithmic Error (RMSLE): 1.267046110393409\n",
      "\n",
      "Training model for store 35 and family 32...\n"
     ]
    },
    {
     "name": "stderr",
     "output_type": "stream",
     "text": [
      "14:59:20 - cmdstanpy - INFO - Chain [1] done processing\n",
      "14:59:20 - cmdstanpy - INFO - Chain [1] start processing\n"
     ]
    },
    {
     "name": "stdout",
     "output_type": "stream",
     "text": [
      "There are 1 NaN values in the data.\n",
      "Root Mean Squared Error (RMSE): 1.354474082899173\n",
      "Root Mean Squared Logarithmic Error (RMSLE): 0.5850959559171149\n",
      "\n",
      "Training model for store 36 and family 0...\n"
     ]
    },
    {
     "name": "stderr",
     "output_type": "stream",
     "text": [
      "14:59:20 - cmdstanpy - INFO - Chain [1] done processing\n",
      "14:59:20 - cmdstanpy - INFO - Chain [1] start processing\n"
     ]
    },
    {
     "name": "stdout",
     "output_type": "stream",
     "text": [
      "There are 1 NaN values in the data.\n",
      "Root Mean Squared Error (RMSE): 3.283520683382701\n",
      "Root Mean Squared Logarithmic Error (RMSLE): 0.5504607678192581\n",
      "\n",
      "Training model for store 36 and family 1...\n"
     ]
    },
    {
     "name": "stderr",
     "output_type": "stream",
     "text": [
      "14:59:20 - cmdstanpy - INFO - Chain [1] done processing\n",
      "14:59:21 - cmdstanpy - INFO - Chain [1] start processing\n"
     ]
    },
    {
     "name": "stdout",
     "output_type": "stream",
     "text": [
      "There are 1 NaN values in the data.\n",
      "Root Mean Squared Error (RMSE): 0.22430900900885795\n",
      "Root Mean Squared Logarithmic Error (RMSLE): 0.15550806835499925\n",
      "\n",
      "Training model for store 36 and family 2...\n"
     ]
    },
    {
     "name": "stderr",
     "output_type": "stream",
     "text": [
      "14:59:21 - cmdstanpy - INFO - Chain [1] done processing\n",
      "14:59:21 - cmdstanpy - INFO - Chain [1] start processing\n"
     ]
    },
    {
     "name": "stdout",
     "output_type": "stream",
     "text": [
      "There are 1 NaN values in the data.\n",
      "Root Mean Squared Error (RMSE): 1.9163296884133278\n",
      "Root Mean Squared Logarithmic Error (RMSLE): 0.6844340672041161\n",
      "\n",
      "Training model for store 36 and family 3...\n"
     ]
    },
    {
     "name": "stderr",
     "output_type": "stream",
     "text": [
      "14:59:21 - cmdstanpy - INFO - Chain [1] done processing\n"
     ]
    },
    {
     "name": "stdout",
     "output_type": "stream",
     "text": [
      "There are 1 NaN values in the data.\n",
      "Root Mean Squared Error (RMSE): 850.7025325127139\n",
      "Root Mean Squared Logarithmic Error (RMSLE): 0.688814871912683\n",
      "\n",
      "Training model for store 36 and family 4...\n",
      "There are 1 NaN values in the data.\n",
      "Root Mean Squared Error (RMSE): 0.0\n",
      "Root Mean Squared Logarithmic Error (RMSLE): 0.0\n"
     ]
    },
    {
     "name": "stderr",
     "output_type": "stream",
     "text": [
      "14:59:21 - cmdstanpy - INFO - Chain [1] start processing\n",
      "14:59:22 - cmdstanpy - INFO - Chain [1] done processing\n"
     ]
    },
    {
     "name": "stdout",
     "output_type": "stream",
     "text": [
      "\n",
      "Training model for store 36 and family 5...\n"
     ]
    },
    {
     "name": "stderr",
     "output_type": "stream",
     "text": [
      "14:59:22 - cmdstanpy - INFO - Chain [1] start processing\n"
     ]
    },
    {
     "name": "stdout",
     "output_type": "stream",
     "text": [
      "There are 1 NaN values in the data.\n",
      "Root Mean Squared Error (RMSE): 124.30734589766772\n",
      "Root Mean Squared Logarithmic Error (RMSLE): 0.5487621129186906\n",
      "\n",
      "Training model for store 36 and family 6...\n"
     ]
    },
    {
     "name": "stderr",
     "output_type": "stream",
     "text": [
      "14:59:22 - cmdstanpy - INFO - Chain [1] done processing\n",
      "14:59:22 - cmdstanpy - INFO - Chain [1] start processing\n"
     ]
    },
    {
     "name": "stdout",
     "output_type": "stream",
     "text": [
      "There are 1 NaN values in the data.\n",
      "Root Mean Squared Error (RMSE): 7.211472052883567\n",
      "Root Mean Squared Logarithmic Error (RMSLE): 0.8748804193217857\n",
      "\n",
      "Training model for store 36 and family 7...\n"
     ]
    },
    {
     "name": "stderr",
     "output_type": "stream",
     "text": [
      "14:59:22 - cmdstanpy - INFO - Chain [1] done processing\n",
      "14:59:22 - cmdstanpy - INFO - Chain [1] start processing\n"
     ]
    },
    {
     "name": "stdout",
     "output_type": "stream",
     "text": [
      "There are 1 NaN values in the data.\n",
      "Root Mean Squared Error (RMSE): 299.67373842633236\n",
      "Root Mean Squared Logarithmic Error (RMSLE): 0.6129575018445673\n",
      "\n",
      "Training model for store 36 and family 8...\n"
     ]
    },
    {
     "name": "stderr",
     "output_type": "stream",
     "text": [
      "14:59:22 - cmdstanpy - INFO - Chain [1] done processing\n",
      "14:59:23 - cmdstanpy - INFO - Chain [1] start processing\n"
     ]
    },
    {
     "name": "stdout",
     "output_type": "stream",
     "text": [
      "There are 1 NaN values in the data.\n",
      "Root Mean Squared Error (RMSE): 169.57644639482677\n",
      "Root Mean Squared Logarithmic Error (RMSLE): 0.5750782523226393\n",
      "\n",
      "Training model for store 36 and family 9...\n"
     ]
    },
    {
     "name": "stderr",
     "output_type": "stream",
     "text": [
      "14:59:23 - cmdstanpy - INFO - Chain [1] done processing\n",
      "14:59:23 - cmdstanpy - INFO - Chain [1] start processing\n"
     ]
    },
    {
     "name": "stdout",
     "output_type": "stream",
     "text": [
      "There are 1 NaN values in the data.\n",
      "Root Mean Squared Error (RMSE): 70.94006097285646\n",
      "Root Mean Squared Logarithmic Error (RMSLE): 0.5314482941142389\n",
      "\n",
      "Training model for store 36 and family 10...\n"
     ]
    },
    {
     "name": "stderr",
     "output_type": "stream",
     "text": [
      "14:59:23 - cmdstanpy - INFO - Chain [1] done processing\n",
      "14:59:23 - cmdstanpy - INFO - Chain [1] start processing\n"
     ]
    },
    {
     "name": "stdout",
     "output_type": "stream",
     "text": [
      "There are 1 NaN values in the data.\n",
      "Root Mean Squared Error (RMSE): 72.62892301096464\n",
      "Root Mean Squared Logarithmic Error (RMSLE): 0.5755680953679583\n",
      "\n",
      "Training model for store 36 and family 11...\n"
     ]
    },
    {
     "name": "stderr",
     "output_type": "stream",
     "text": [
      "14:59:23 - cmdstanpy - INFO - Chain [1] done processing\n",
      "14:59:24 - cmdstanpy - INFO - Chain [1] start processing\n"
     ]
    },
    {
     "name": "stdout",
     "output_type": "stream",
     "text": [
      "There are 1 NaN values in the data.\n",
      "Root Mean Squared Error (RMSE): 105.54570060653882\n",
      "Root Mean Squared Logarithmic Error (RMSLE): 0.6692241719501706\n",
      "\n",
      "Training model for store 36 and family 12...\n"
     ]
    },
    {
     "name": "stderr",
     "output_type": "stream",
     "text": [
      "14:59:24 - cmdstanpy - INFO - Chain [1] done processing\n",
      "14:59:24 - cmdstanpy - INFO - Chain [1] start processing\n"
     ]
    },
    {
     "name": "stdout",
     "output_type": "stream",
     "text": [
      "There are 1 NaN values in the data.\n",
      "Root Mean Squared Error (RMSE): 969.1118170397993\n",
      "Root Mean Squared Logarithmic Error (RMSLE): 0.6879766269427239\n",
      "\n",
      "Training model for store 36 and family 13...\n"
     ]
    },
    {
     "name": "stderr",
     "output_type": "stream",
     "text": [
      "14:59:24 - cmdstanpy - INFO - Chain [1] done processing\n",
      "14:59:24 - cmdstanpy - INFO - Chain [1] start processing\n"
     ]
    },
    {
     "name": "stdout",
     "output_type": "stream",
     "text": [
      "There are 1 NaN values in the data.\n",
      "Root Mean Squared Error (RMSE): 6.741017545647579\n",
      "Root Mean Squared Logarithmic Error (RMSLE): 0.9017271815182175\n",
      "\n",
      "Training model for store 36 and family 14...\n"
     ]
    },
    {
     "name": "stderr",
     "output_type": "stream",
     "text": [
      "14:59:24 - cmdstanpy - INFO - Chain [1] done processing\n",
      "14:59:25 - cmdstanpy - INFO - Chain [1] start processing\n"
     ]
    },
    {
     "name": "stdout",
     "output_type": "stream",
     "text": [
      "There are 1 NaN values in the data.\n",
      "Root Mean Squared Error (RMSE): 0.900241647011046\n",
      "Root Mean Squared Logarithmic Error (RMSLE): 0.4918539467583768\n",
      "\n",
      "Training model for store 36 and family 15...\n"
     ]
    },
    {
     "name": "stderr",
     "output_type": "stream",
     "text": [
      "14:59:25 - cmdstanpy - INFO - Chain [1] done processing\n",
      "14:59:25 - cmdstanpy - INFO - Chain [1] start processing\n"
     ]
    },
    {
     "name": "stdout",
     "output_type": "stream",
     "text": [
      "There are 1 NaN values in the data.\n",
      "Root Mean Squared Error (RMSE): 39.29705326362541\n",
      "Root Mean Squared Logarithmic Error (RMSLE): 0.7541061342654102\n",
      "\n",
      "Training model for store 36 and family 16...\n"
     ]
    },
    {
     "name": "stderr",
     "output_type": "stream",
     "text": [
      "14:59:25 - cmdstanpy - INFO - Chain [1] done processing\n",
      "14:59:25 - cmdstanpy - INFO - Chain [1] start processing\n"
     ]
    },
    {
     "name": "stdout",
     "output_type": "stream",
     "text": [
      "There are 1 NaN values in the data.\n",
      "Root Mean Squared Error (RMSE): 16.931040404843017\n",
      "Root Mean Squared Logarithmic Error (RMSLE): 2.4310789030452904\n",
      "\n",
      "Training model for store 36 and family 17...\n"
     ]
    },
    {
     "name": "stderr",
     "output_type": "stream",
     "text": [
      "14:59:25 - cmdstanpy - INFO - Chain [1] done processing\n",
      "14:59:26 - cmdstanpy - INFO - Chain [1] start processing\n"
     ]
    },
    {
     "name": "stdout",
     "output_type": "stream",
     "text": [
      "There are 1 NaN values in the data.\n",
      "Root Mean Squared Error (RMSE): 0.6314163105754096\n",
      "Root Mean Squared Logarithmic Error (RMSLE): 0.3608552367295899\n",
      "\n",
      "Training model for store 36 and family 18...\n"
     ]
    },
    {
     "name": "stderr",
     "output_type": "stream",
     "text": [
      "14:59:26 - cmdstanpy - INFO - Chain [1] done processing\n",
      "14:59:26 - cmdstanpy - INFO - Chain [1] start processing\n"
     ]
    },
    {
     "name": "stdout",
     "output_type": "stream",
     "text": [
      "There are 1 NaN values in the data.\n",
      "Root Mean Squared Error (RMSE): 77.67015081637\n",
      "Root Mean Squared Logarithmic Error (RMSLE): 0.5416122763622252\n",
      "\n",
      "Training model for store 36 and family 19...\n"
     ]
    },
    {
     "name": "stderr",
     "output_type": "stream",
     "text": [
      "14:59:26 - cmdstanpy - INFO - Chain [1] done processing\n",
      "14:59:26 - cmdstanpy - INFO - Chain [1] start processing\n"
     ]
    },
    {
     "name": "stdout",
     "output_type": "stream",
     "text": [
      "There are 1 NaN values in the data.\n",
      "Root Mean Squared Error (RMSE): 0.11221596912977505\n",
      "Root Mean Squared Logarithmic Error (RMSLE): 0.09563983085418971\n",
      "\n",
      "Training model for store 36 and family 20...\n"
     ]
    },
    {
     "name": "stderr",
     "output_type": "stream",
     "text": [
      "14:59:26 - cmdstanpy - INFO - Chain [1] done processing\n",
      "14:59:26 - cmdstanpy - INFO - Chain [1] start processing\n"
     ]
    },
    {
     "name": "stdout",
     "output_type": "stream",
     "text": [
      "There are 1 NaN values in the data.\n",
      "Root Mean Squared Error (RMSE): 27.284820493208883\n",
      "Root Mean Squared Logarithmic Error (RMSLE): 1.4097104480578888\n",
      "\n",
      "Training model for store 36 and family 21...\n"
     ]
    },
    {
     "name": "stderr",
     "output_type": "stream",
     "text": [
      "14:59:27 - cmdstanpy - INFO - Chain [1] done processing\n",
      "14:59:27 - cmdstanpy - INFO - Chain [1] start processing\n"
     ]
    },
    {
     "name": "stdout",
     "output_type": "stream",
     "text": [
      "There are 1 NaN values in the data.\n",
      "Root Mean Squared Error (RMSE): 4.204431339571217\n",
      "Root Mean Squared Logarithmic Error (RMSLE): 1.183640946853585\n",
      "\n",
      "Training model for store 36 and family 22...\n"
     ]
    },
    {
     "name": "stderr",
     "output_type": "stream",
     "text": [
      "14:59:27 - cmdstanpy - INFO - Chain [1] done processing\n",
      "14:59:27 - cmdstanpy - INFO - Chain [1] start processing\n"
     ]
    },
    {
     "name": "stdout",
     "output_type": "stream",
     "text": [
      "There are 1 NaN values in the data.\n",
      "Root Mean Squared Error (RMSE): 143.63596674941462\n",
      "Root Mean Squared Logarithmic Error (RMSLE): 1.4121677328503792\n",
      "\n",
      "Training model for store 36 and family 23...\n"
     ]
    },
    {
     "name": "stderr",
     "output_type": "stream",
     "text": [
      "14:59:27 - cmdstanpy - INFO - Chain [1] done processing\n",
      "14:59:27 - cmdstanpy - INFO - Chain [1] start processing\n"
     ]
    },
    {
     "name": "stdout",
     "output_type": "stream",
     "text": [
      "There are 1 NaN values in the data.\n",
      "Root Mean Squared Error (RMSE): 1.6206488668964536\n",
      "Root Mean Squared Logarithmic Error (RMSLE): 0.7282761806762809\n",
      "\n",
      "Training model for store 36 and family 24...\n"
     ]
    },
    {
     "name": "stderr",
     "output_type": "stream",
     "text": [
      "14:59:27 - cmdstanpy - INFO - Chain [1] done processing\n",
      "14:59:28 - cmdstanpy - INFO - Chain [1] start processing\n"
     ]
    },
    {
     "name": "stdout",
     "output_type": "stream",
     "text": [
      "There are 1 NaN values in the data.\n",
      "Root Mean Squared Error (RMSE): 66.53131889091043\n",
      "Root Mean Squared Logarithmic Error (RMSLE): 0.4759374340791254\n",
      "\n",
      "Training model for store 36 and family 25...\n"
     ]
    },
    {
     "name": "stderr",
     "output_type": "stream",
     "text": [
      "14:59:28 - cmdstanpy - INFO - Chain [1] done processing\n",
      "14:59:28 - cmdstanpy - INFO - Chain [1] start processing\n"
     ]
    },
    {
     "name": "stdout",
     "output_type": "stream",
     "text": [
      "There are 1 NaN values in the data.\n",
      "Root Mean Squared Error (RMSE): 74.5469485689698\n",
      "Root Mean Squared Logarithmic Error (RMSLE): 0.5211526974371482\n",
      "\n",
      "Training model for store 36 and family 26...\n"
     ]
    },
    {
     "name": "stderr",
     "output_type": "stream",
     "text": [
      "14:59:28 - cmdstanpy - INFO - Chain [1] done processing\n",
      "14:59:28 - cmdstanpy - INFO - Chain [1] start processing\n"
     ]
    },
    {
     "name": "stdout",
     "output_type": "stream",
     "text": [
      "There are 1 NaN values in the data.\n",
      "Root Mean Squared Error (RMSE): 2.7735523110258145\n",
      "Root Mean Squared Logarithmic Error (RMSLE): 0.6716225886803615\n",
      "\n",
      "Training model for store 36 and family 27...\n"
     ]
    },
    {
     "name": "stderr",
     "output_type": "stream",
     "text": [
      "14:59:28 - cmdstanpy - INFO - Chain [1] done processing\n",
      "14:59:29 - cmdstanpy - INFO - Chain [1] start processing\n"
     ]
    },
    {
     "name": "stdout",
     "output_type": "stream",
     "text": [
      "There are 1 NaN values in the data.\n",
      "Root Mean Squared Error (RMSE): 4.195285718610701\n",
      "Root Mean Squared Logarithmic Error (RMSLE): 0.6513047028497182\n",
      "\n",
      "Training model for store 36 and family 28...\n"
     ]
    },
    {
     "name": "stderr",
     "output_type": "stream",
     "text": [
      "14:59:29 - cmdstanpy - INFO - Chain [1] done processing\n",
      "14:59:29 - cmdstanpy - INFO - Chain [1] start processing\n"
     ]
    },
    {
     "name": "stdout",
     "output_type": "stream",
     "text": [
      "There are 1 NaN values in the data.\n",
      "Root Mean Squared Error (RMSE): 45.595185299216766\n",
      "Root Mean Squared Logarithmic Error (RMSLE): 0.5414478959919445\n",
      "\n",
      "Training model for store 36 and family 29...\n"
     ]
    },
    {
     "name": "stderr",
     "output_type": "stream",
     "text": [
      "14:59:29 - cmdstanpy - INFO - Chain [1] done processing\n",
      "14:59:29 - cmdstanpy - INFO - Chain [1] start processing\n"
     ]
    },
    {
     "name": "stdout",
     "output_type": "stream",
     "text": [
      "There are 1 NaN values in the data.\n",
      "Root Mean Squared Error (RMSE): 16.02580521903755\n",
      "Root Mean Squared Logarithmic Error (RMSLE): 0.43598821755531686\n",
      "\n",
      "Training model for store 36 and family 30...\n"
     ]
    },
    {
     "name": "stderr",
     "output_type": "stream",
     "text": [
      "14:59:29 - cmdstanpy - INFO - Chain [1] done processing\n",
      "14:59:30 - cmdstanpy - INFO - Chain [1] start processing\n"
     ]
    },
    {
     "name": "stdout",
     "output_type": "stream",
     "text": [
      "There are 1 NaN values in the data.\n",
      "Root Mean Squared Error (RMSE): 669.4240187010388\n",
      "Root Mean Squared Logarithmic Error (RMSLE): 0.7312444282204483\n",
      "\n",
      "Training model for store 36 and family 31...\n"
     ]
    },
    {
     "name": "stderr",
     "output_type": "stream",
     "text": [
      "14:59:30 - cmdstanpy - INFO - Chain [1] done processing\n",
      "14:59:30 - cmdstanpy - INFO - Chain [1] start processing\n"
     ]
    },
    {
     "name": "stdout",
     "output_type": "stream",
     "text": [
      "There are 1 NaN values in the data.\n",
      "Root Mean Squared Error (RMSE): 43.090301465817944\n",
      "Root Mean Squared Logarithmic Error (RMSLE): 2.166293071458385\n",
      "\n",
      "Training model for store 36 and family 32...\n"
     ]
    },
    {
     "name": "stderr",
     "output_type": "stream",
     "text": [
      "14:59:30 - cmdstanpy - INFO - Chain [1] done processing\n",
      "14:59:30 - cmdstanpy - INFO - Chain [1] start processing\n"
     ]
    },
    {
     "name": "stdout",
     "output_type": "stream",
     "text": [
      "There are 1 NaN values in the data.\n",
      "Root Mean Squared Error (RMSE): 1.7545618940435381\n",
      "Root Mean Squared Logarithmic Error (RMSLE): 0.7778445042247911\n",
      "\n",
      "Training model for store 37 and family 0...\n"
     ]
    },
    {
     "name": "stderr",
     "output_type": "stream",
     "text": [
      "14:59:30 - cmdstanpy - INFO - Chain [1] done processing\n"
     ]
    },
    {
     "name": "stdout",
     "output_type": "stream",
     "text": [
      "There are 1 NaN values in the data.\n",
      "Root Mean Squared Error (RMSE): 3.795075837576207\n",
      "Root Mean Squared Logarithmic Error (RMSLE): 0.6586384887005116\n",
      "\n",
      "Training model for store 37 and family 1...\n",
      "There are 1 NaN values in the data.\n",
      "Root Mean Squared Error (RMSE): 0.4485347611419462\n",
      "Root Mean Squared Logarithmic Error (RMSLE): 0.2458243959342989\n"
     ]
    },
    {
     "name": "stderr",
     "output_type": "stream",
     "text": [
      "14:59:31 - cmdstanpy - INFO - Chain [1] start processing\n",
      "14:59:31 - cmdstanpy - INFO - Chain [1] done processing\n"
     ]
    },
    {
     "name": "stdout",
     "output_type": "stream",
     "text": [
      "\n",
      "Training model for store 37 and family 2...\n",
      "There are 1 NaN values in the data.\n",
      "Root Mean Squared Error (RMSE): 3.145144017450216\n",
      "Root Mean Squared Logarithmic Error (RMSLE): 0.5184806221645365\n"
     ]
    },
    {
     "name": "stderr",
     "output_type": "stream",
     "text": [
      "14:59:31 - cmdstanpy - INFO - Chain [1] start processing\n",
      "14:59:31 - cmdstanpy - INFO - Chain [1] done processing\n"
     ]
    },
    {
     "name": "stdout",
     "output_type": "stream",
     "text": [
      "\n",
      "Training model for store 37 and family 3...\n",
      "There are 1 NaN values in the data.\n",
      "Root Mean Squared Error (RMSE): 562.4886556012023\n",
      "Root Mean Squared Logarithmic Error (RMSLE): 0.6414533988480674\n",
      "\n",
      "Training model for store 37 and family 4...\n",
      "There are 1 NaN values in the data.\n",
      "Root Mean Squared Error (RMSE): 1.8951823068853721\n",
      "Root Mean Squared Logarithmic Error (RMSLE): 0.6629362214846392\n"
     ]
    },
    {
     "name": "stderr",
     "output_type": "stream",
     "text": [
      "14:59:32 - cmdstanpy - INFO - Chain [1] start processing\n",
      "14:59:32 - cmdstanpy - INFO - Chain [1] done processing\n"
     ]
    },
    {
     "name": "stdout",
     "output_type": "stream",
     "text": [
      "\n",
      "Training model for store 37 and family 5...\n"
     ]
    },
    {
     "name": "stderr",
     "output_type": "stream",
     "text": [
      "14:59:32 - cmdstanpy - INFO - Chain [1] start processing\n"
     ]
    },
    {
     "name": "stdout",
     "output_type": "stream",
     "text": [
      "There are 1 NaN values in the data.\n",
      "Root Mean Squared Error (RMSE): 110.25039934302971\n",
      "Root Mean Squared Logarithmic Error (RMSLE): 0.518584936049817\n",
      "\n",
      "Training model for store 37 and family 6...\n"
     ]
    },
    {
     "name": "stderr",
     "output_type": "stream",
     "text": [
      "14:59:32 - cmdstanpy - INFO - Chain [1] done processing\n",
      "14:59:32 - cmdstanpy - INFO - Chain [1] start processing\n"
     ]
    },
    {
     "name": "stdout",
     "output_type": "stream",
     "text": [
      "There are 1 NaN values in the data.\n",
      "Root Mean Squared Error (RMSE): 7.487993820565966\n",
      "Root Mean Squared Logarithmic Error (RMSLE): 0.6394999056839095\n",
      "\n",
      "Training model for store 37 and family 7...\n"
     ]
    },
    {
     "name": "stderr",
     "output_type": "stream",
     "text": [
      "14:59:32 - cmdstanpy - INFO - Chain [1] done processing\n",
      "14:59:33 - cmdstanpy - INFO - Chain [1] start processing\n"
     ]
    },
    {
     "name": "stdout",
     "output_type": "stream",
     "text": [
      "There are 1 NaN values in the data.\n",
      "Root Mean Squared Error (RMSE): 264.6376285809048\n",
      "Root Mean Squared Logarithmic Error (RMSLE): 0.5820424478487725\n",
      "\n",
      "Training model for store 37 and family 8...\n"
     ]
    },
    {
     "name": "stderr",
     "output_type": "stream",
     "text": [
      "14:59:33 - cmdstanpy - INFO - Chain [1] done processing\n",
      "14:59:33 - cmdstanpy - INFO - Chain [1] start processing\n"
     ]
    },
    {
     "name": "stdout",
     "output_type": "stream",
     "text": [
      "There are 1 NaN values in the data.\n",
      "Root Mean Squared Error (RMSE): 147.05023003879887\n",
      "Root Mean Squared Logarithmic Error (RMSLE): 0.5475106976388188\n",
      "\n",
      "Training model for store 37 and family 9...\n"
     ]
    },
    {
     "name": "stderr",
     "output_type": "stream",
     "text": [
      "14:59:33 - cmdstanpy - INFO - Chain [1] done processing\n",
      "14:59:33 - cmdstanpy - INFO - Chain [1] start processing\n"
     ]
    },
    {
     "name": "stdout",
     "output_type": "stream",
     "text": [
      "There are 1 NaN values in the data.\n",
      "Root Mean Squared Error (RMSE): 46.501156743398255\n",
      "Root Mean Squared Logarithmic Error (RMSLE): 0.46284832192280434\n",
      "\n",
      "Training model for store 37 and family 10...\n"
     ]
    },
    {
     "name": "stderr",
     "output_type": "stream",
     "text": [
      "14:59:33 - cmdstanpy - INFO - Chain [1] done processing\n",
      "14:59:34 - cmdstanpy - INFO - Chain [1] start processing\n"
     ]
    },
    {
     "name": "stdout",
     "output_type": "stream",
     "text": [
      "There are 1 NaN values in the data.\n",
      "Root Mean Squared Error (RMSE): 42.90686250407593\n",
      "Root Mean Squared Logarithmic Error (RMSLE): 0.521073465413909\n",
      "\n",
      "Training model for store 37 and family 11...\n"
     ]
    },
    {
     "name": "stderr",
     "output_type": "stream",
     "text": [
      "14:59:34 - cmdstanpy - INFO - Chain [1] done processing\n",
      "14:59:34 - cmdstanpy - INFO - Chain [1] start processing\n"
     ]
    },
    {
     "name": "stdout",
     "output_type": "stream",
     "text": [
      "There are 1 NaN values in the data.\n",
      "Root Mean Squared Error (RMSE): 153.02897601207476\n",
      "Root Mean Squared Logarithmic Error (RMSLE): 2.1024571678770414\n",
      "\n",
      "Training model for store 37 and family 12...\n"
     ]
    },
    {
     "name": "stderr",
     "output_type": "stream",
     "text": [
      "14:59:34 - cmdstanpy - INFO - Chain [1] done processing\n",
      "14:59:34 - cmdstanpy - INFO - Chain [1] start processing\n"
     ]
    },
    {
     "name": "stdout",
     "output_type": "stream",
     "text": [
      "There are 1 NaN values in the data.\n",
      "Root Mean Squared Error (RMSE): 788.78470176094\n",
      "Root Mean Squared Logarithmic Error (RMSLE): 0.6602700655903316\n",
      "\n",
      "Training model for store 37 and family 13...\n"
     ]
    },
    {
     "name": "stderr",
     "output_type": "stream",
     "text": [
      "14:59:34 - cmdstanpy - INFO - Chain [1] done processing\n",
      "14:59:34 - cmdstanpy - INFO - Chain [1] start processing\n",
      "14:59:35 - cmdstanpy - INFO - Chain [1] done processing\n"
     ]
    },
    {
     "name": "stdout",
     "output_type": "stream",
     "text": [
      "There are 1 NaN values in the data.\n",
      "Root Mean Squared Error (RMSE): 22.52236947815771\n",
      "Root Mean Squared Logarithmic Error (RMSLE): 0.5715341400813004\n",
      "\n",
      "Training model for store 37 and family 14...\n"
     ]
    },
    {
     "name": "stderr",
     "output_type": "stream",
     "text": [
      "14:59:35 - cmdstanpy - INFO - Chain [1] start processing\n"
     ]
    },
    {
     "name": "stdout",
     "output_type": "stream",
     "text": [
      "There are 1 NaN values in the data.\n",
      "Root Mean Squared Error (RMSE): 1.5548366016097142\n",
      "Root Mean Squared Logarithmic Error (RMSLE): 0.5956356539799205\n",
      "\n",
      "Training model for store 37 and family 15...\n"
     ]
    },
    {
     "name": "stderr",
     "output_type": "stream",
     "text": [
      "14:59:35 - cmdstanpy - INFO - Chain [1] done processing\n",
      "14:59:35 - cmdstanpy - INFO - Chain [1] start processing\n"
     ]
    },
    {
     "name": "stdout",
     "output_type": "stream",
     "text": [
      "There are 1 NaN values in the data.\n",
      "Root Mean Squared Error (RMSE): 21.83152010966732\n",
      "Root Mean Squared Logarithmic Error (RMSLE): 0.6818182234274685\n",
      "\n",
      "Training model for store 37 and family 16...\n"
     ]
    },
    {
     "name": "stderr",
     "output_type": "stream",
     "text": [
      "14:59:35 - cmdstanpy - INFO - Chain [1] done processing\n",
      "14:59:35 - cmdstanpy - INFO - Chain [1] start processing\n"
     ]
    },
    {
     "name": "stdout",
     "output_type": "stream",
     "text": [
      "There are 1 NaN values in the data.\n",
      "Root Mean Squared Error (RMSE): 26.782266109042634\n",
      "Root Mean Squared Logarithmic Error (RMSLE): 2.0129355746814768\n",
      "\n",
      "Training model for store 37 and family 17...\n"
     ]
    },
    {
     "name": "stderr",
     "output_type": "stream",
     "text": [
      "14:59:35 - cmdstanpy - INFO - Chain [1] done processing\n",
      "14:59:36 - cmdstanpy - INFO - Chain [1] start processing\n"
     ]
    },
    {
     "name": "stdout",
     "output_type": "stream",
     "text": [
      "There are 1 NaN values in the data.\n",
      "Root Mean Squared Error (RMSE): 0.6406496968805676\n",
      "Root Mean Squared Logarithmic Error (RMSLE): 0.37508101619504547\n",
      "\n",
      "Training model for store 37 and family 18...\n"
     ]
    },
    {
     "name": "stderr",
     "output_type": "stream",
     "text": [
      "14:59:36 - cmdstanpy - INFO - Chain [1] done processing\n",
      "14:59:36 - cmdstanpy - INFO - Chain [1] start processing\n"
     ]
    },
    {
     "name": "stdout",
     "output_type": "stream",
     "text": [
      "There are 1 NaN values in the data.\n",
      "Root Mean Squared Error (RMSE): 75.05017824120553\n",
      "Root Mean Squared Logarithmic Error (RMSLE): 0.5214723996567036\n",
      "\n",
      "Training model for store 37 and family 19...\n"
     ]
    },
    {
     "name": "stderr",
     "output_type": "stream",
     "text": [
      "14:59:36 - cmdstanpy - INFO - Chain [1] done processing\n",
      "14:59:36 - cmdstanpy - INFO - Chain [1] start processing\n"
     ]
    },
    {
     "name": "stdout",
     "output_type": "stream",
     "text": [
      "There are 1 NaN values in the data.\n",
      "Root Mean Squared Error (RMSE): 12.270780425147032\n",
      "Root Mean Squared Logarithmic Error (RMSLE): 0.5918658095886823\n",
      "\n",
      "Training model for store 37 and family 20...\n"
     ]
    },
    {
     "name": "stderr",
     "output_type": "stream",
     "text": [
      "14:59:36 - cmdstanpy - INFO - Chain [1] done processing\n",
      "14:59:37 - cmdstanpy - INFO - Chain [1] start processing\n"
     ]
    },
    {
     "name": "stdout",
     "output_type": "stream",
     "text": [
      "There are 1 NaN values in the data.\n",
      "Root Mean Squared Error (RMSE): 22.88715521992087\n",
      "Root Mean Squared Logarithmic Error (RMSLE): 1.316832419749371\n",
      "\n",
      "Training model for store 37 and family 21...\n"
     ]
    },
    {
     "name": "stderr",
     "output_type": "stream",
     "text": [
      "14:59:37 - cmdstanpy - INFO - Chain [1] done processing\n",
      "14:59:37 - cmdstanpy - INFO - Chain [1] start processing\n",
      "14:59:37 - cmdstanpy - INFO - Chain [1] done processing\n"
     ]
    },
    {
     "name": "stdout",
     "output_type": "stream",
     "text": [
      "There are 1 NaN values in the data.\n",
      "Root Mean Squared Error (RMSE): 3.7991442961788677\n",
      "Root Mean Squared Logarithmic Error (RMSLE): 1.0188265313695948\n",
      "\n",
      "Training model for store 37 and family 22...\n"
     ]
    },
    {
     "name": "stderr",
     "output_type": "stream",
     "text": [
      "14:59:37 - cmdstanpy - INFO - Chain [1] start processing\n"
     ]
    },
    {
     "name": "stdout",
     "output_type": "stream",
     "text": [
      "There are 1 NaN values in the data.\n",
      "Root Mean Squared Error (RMSE): 75.23235693195916\n",
      "Root Mean Squared Logarithmic Error (RMSLE): 1.2640241135067922\n",
      "\n",
      "Training model for store 37 and family 23...\n"
     ]
    },
    {
     "name": "stderr",
     "output_type": "stream",
     "text": [
      "14:59:37 - cmdstanpy - INFO - Chain [1] done processing\n",
      "14:59:38 - cmdstanpy - INFO - Chain [1] start processing\n"
     ]
    },
    {
     "name": "stdout",
     "output_type": "stream",
     "text": [
      "There are 1 NaN values in the data.\n",
      "Root Mean Squared Error (RMSE): 7.468944194786938\n",
      "Root Mean Squared Logarithmic Error (RMSLE): 0.7294805562398544\n",
      "\n",
      "Training model for store 37 and family 24...\n"
     ]
    },
    {
     "name": "stderr",
     "output_type": "stream",
     "text": [
      "14:59:38 - cmdstanpy - INFO - Chain [1] done processing\n",
      "14:59:38 - cmdstanpy - INFO - Chain [1] start processing\n"
     ]
    },
    {
     "name": "stdout",
     "output_type": "stream",
     "text": [
      "There are 1 NaN values in the data.\n",
      "Root Mean Squared Error (RMSE): 57.1534353014698\n",
      "Root Mean Squared Logarithmic Error (RMSLE): 0.4612178868637047\n",
      "\n",
      "Training model for store 37 and family 25...\n"
     ]
    },
    {
     "name": "stderr",
     "output_type": "stream",
     "text": [
      "14:59:38 - cmdstanpy - INFO - Chain [1] done processing\n",
      "14:59:38 - cmdstanpy - INFO - Chain [1] start processing\n",
      "14:59:38 - cmdstanpy - INFO - Chain [1] done processing\n"
     ]
    },
    {
     "name": "stdout",
     "output_type": "stream",
     "text": [
      "There are 1 NaN values in the data.\n",
      "Root Mean Squared Error (RMSE): 77.96973430665774\n",
      "Root Mean Squared Logarithmic Error (RMSLE): 0.5170822326936384\n",
      "\n",
      "Training model for store 37 and family 26...\n"
     ]
    },
    {
     "name": "stderr",
     "output_type": "stream",
     "text": [
      "14:59:38 - cmdstanpy - INFO - Chain [1] start processing\n"
     ]
    },
    {
     "name": "stdout",
     "output_type": "stream",
     "text": [
      "There are 1 NaN values in the data.\n",
      "Root Mean Squared Error (RMSE): 5.572087225791252\n",
      "Root Mean Squared Logarithmic Error (RMSLE): 0.5028131663588132\n",
      "\n",
      "Training model for store 37 and family 27...\n"
     ]
    },
    {
     "name": "stderr",
     "output_type": "stream",
     "text": [
      "14:59:38 - cmdstanpy - INFO - Chain [1] done processing\n",
      "14:59:39 - cmdstanpy - INFO - Chain [1] start processing\n"
     ]
    },
    {
     "name": "stdout",
     "output_type": "stream",
     "text": [
      "There are 1 NaN values in the data.\n",
      "Root Mean Squared Error (RMSE): 5.353852975333292\n",
      "Root Mean Squared Logarithmic Error (RMSLE): 0.488934897406042\n",
      "\n",
      "Training model for store 37 and family 28...\n"
     ]
    },
    {
     "name": "stderr",
     "output_type": "stream",
     "text": [
      "14:59:39 - cmdstanpy - INFO - Chain [1] done processing\n",
      "14:59:39 - cmdstanpy - INFO - Chain [1] start processing\n"
     ]
    },
    {
     "name": "stdout",
     "output_type": "stream",
     "text": [
      "There are 1 NaN values in the data.\n",
      "Root Mean Squared Error (RMSE): 51.742738105971185\n",
      "Root Mean Squared Logarithmic Error (RMSLE): 0.4624680320360755\n",
      "\n",
      "Training model for store 37 and family 29...\n"
     ]
    },
    {
     "name": "stderr",
     "output_type": "stream",
     "text": [
      "14:59:39 - cmdstanpy - INFO - Chain [1] done processing\n",
      "14:59:39 - cmdstanpy - INFO - Chain [1] start processing\n"
     ]
    },
    {
     "name": "stdout",
     "output_type": "stream",
     "text": [
      "There are 1 NaN values in the data.\n",
      "Root Mean Squared Error (RMSE): 24.697571177151996\n",
      "Root Mean Squared Logarithmic Error (RMSLE): 0.41271122705705326\n",
      "\n",
      "Training model for store 37 and family 30...\n"
     ]
    },
    {
     "name": "stderr",
     "output_type": "stream",
     "text": [
      "14:59:39 - cmdstanpy - INFO - Chain [1] done processing\n",
      "14:59:40 - cmdstanpy - INFO - Chain [1] start processing\n"
     ]
    },
    {
     "name": "stdout",
     "output_type": "stream",
     "text": [
      "There are 1 NaN values in the data.\n",
      "Root Mean Squared Error (RMSE): 1203.5994368821705\n",
      "Root Mean Squared Logarithmic Error (RMSLE): 0.733496063117151\n",
      "\n",
      "Training model for store 37 and family 31...\n"
     ]
    },
    {
     "name": "stderr",
     "output_type": "stream",
     "text": [
      "14:59:40 - cmdstanpy - INFO - Chain [1] done processing\n",
      "14:59:40 - cmdstanpy - INFO - Chain [1] start processing\n"
     ]
    },
    {
     "name": "stdout",
     "output_type": "stream",
     "text": [
      "There are 1 NaN values in the data.\n",
      "Root Mean Squared Error (RMSE): 0.9736770419546134\n",
      "Root Mean Squared Logarithmic Error (RMSLE): 0.6070658551903373\n",
      "\n",
      "Training model for store 37 and family 32...\n"
     ]
    },
    {
     "name": "stderr",
     "output_type": "stream",
     "text": [
      "14:59:40 - cmdstanpy - INFO - Chain [1] done processing\n",
      "14:59:40 - cmdstanpy - INFO - Chain [1] start processing\n"
     ]
    },
    {
     "name": "stdout",
     "output_type": "stream",
     "text": [
      "There are 1 NaN values in the data.\n",
      "Root Mean Squared Error (RMSE): 6.633792762750334\n",
      "Root Mean Squared Logarithmic Error (RMSLE): 0.43290271371622874\n",
      "\n",
      "Training model for store 38 and family 0...\n"
     ]
    },
    {
     "name": "stderr",
     "output_type": "stream",
     "text": [
      "14:59:40 - cmdstanpy - INFO - Chain [1] done processing\n",
      "14:59:41 - cmdstanpy - INFO - Chain [1] start processing\n"
     ]
    },
    {
     "name": "stdout",
     "output_type": "stream",
     "text": [
      "There are 1 NaN values in the data.\n",
      "Root Mean Squared Error (RMSE): 3.584813024746599\n",
      "Root Mean Squared Logarithmic Error (RMSLE): 0.5591086653477325\n",
      "\n",
      "Training model for store 38 and family 1...\n"
     ]
    },
    {
     "name": "stderr",
     "output_type": "stream",
     "text": [
      "14:59:41 - cmdstanpy - INFO - Chain [1] done processing\n",
      "14:59:41 - cmdstanpy - INFO - Chain [1] start processing\n"
     ]
    },
    {
     "name": "stdout",
     "output_type": "stream",
     "text": [
      "There are 1 NaN values in the data.\n",
      "Root Mean Squared Error (RMSE): 0.21658508772840937\n",
      "Root Mean Squared Logarithmic Error (RMSLE): 0.15814086868825122\n",
      "\n",
      "Training model for store 38 and family 2...\n"
     ]
    },
    {
     "name": "stderr",
     "output_type": "stream",
     "text": [
      "14:59:41 - cmdstanpy - INFO - Chain [1] done processing\n",
      "14:59:41 - cmdstanpy - INFO - Chain [1] start processing\n"
     ]
    },
    {
     "name": "stdout",
     "output_type": "stream",
     "text": [
      "There are 1 NaN values in the data.\n",
      "Root Mean Squared Error (RMSE): 4.602064125654636\n",
      "Root Mean Squared Logarithmic Error (RMSLE): 0.6004566058926609\n",
      "\n",
      "Training model for store 38 and family 3...\n"
     ]
    },
    {
     "name": "stderr",
     "output_type": "stream",
     "text": [
      "14:59:41 - cmdstanpy - INFO - Chain [1] done processing\n"
     ]
    },
    {
     "name": "stdout",
     "output_type": "stream",
     "text": [
      "There are 1 NaN values in the data.\n",
      "Root Mean Squared Error (RMSE): 1363.3750466920883\n",
      "Root Mean Squared Logarithmic Error (RMSLE): 0.7173715022158561\n",
      "\n",
      "Training model for store 38 and family 4...\n"
     ]
    },
    {
     "name": "stderr",
     "output_type": "stream",
     "text": [
      "14:59:42 - cmdstanpy - INFO - Chain [1] start processing\n"
     ]
    },
    {
     "name": "stdout",
     "output_type": "stream",
     "text": [
      "There are 1 NaN values in the data.\n",
      "Root Mean Squared Error (RMSE): 1.137057346084191\n",
      "Root Mean Squared Logarithmic Error (RMSLE): 0.530555823041797\n",
      "\n",
      "Training model for store 38 and family 5...\n"
     ]
    },
    {
     "name": "stderr",
     "output_type": "stream",
     "text": [
      "14:59:42 - cmdstanpy - INFO - Chain [1] done processing\n",
      "14:59:42 - cmdstanpy - INFO - Chain [1] start processing\n"
     ]
    },
    {
     "name": "stdout",
     "output_type": "stream",
     "text": [
      "There are 1 NaN values in the data.\n",
      "Root Mean Squared Error (RMSE): 100.83267102979553\n",
      "Root Mean Squared Logarithmic Error (RMSLE): 0.5337478717635389\n",
      "\n",
      "Training model for store 38 and family 6...\n"
     ]
    },
    {
     "name": "stderr",
     "output_type": "stream",
     "text": [
      "14:59:42 - cmdstanpy - INFO - Chain [1] done processing\n",
      "14:59:42 - cmdstanpy - INFO - Chain [1] start processing\n"
     ]
    },
    {
     "name": "stdout",
     "output_type": "stream",
     "text": [
      "There are 1 NaN values in the data.\n",
      "Root Mean Squared Error (RMSE): 8.645404690910887\n",
      "Root Mean Squared Logarithmic Error (RMSLE): 0.6368519412701165\n",
      "\n",
      "Training model for store 38 and family 7...\n"
     ]
    },
    {
     "name": "stderr",
     "output_type": "stream",
     "text": [
      "14:59:42 - cmdstanpy - INFO - Chain [1] done processing\n",
      "14:59:43 - cmdstanpy - INFO - Chain [1] start processing\n"
     ]
    },
    {
     "name": "stdout",
     "output_type": "stream",
     "text": [
      "There are 1 NaN values in the data.\n",
      "Root Mean Squared Error (RMSE): 451.4345409439161\n",
      "Root Mean Squared Logarithmic Error (RMSLE): 0.7083431243147938\n",
      "\n",
      "Training model for store 38 and family 8...\n"
     ]
    },
    {
     "name": "stderr",
     "output_type": "stream",
     "text": [
      "14:59:43 - cmdstanpy - INFO - Chain [1] done processing\n",
      "14:59:43 - cmdstanpy - INFO - Chain [1] start processing\n"
     ]
    },
    {
     "name": "stdout",
     "output_type": "stream",
     "text": [
      "There are 1 NaN values in the data.\n",
      "Root Mean Squared Error (RMSE): 218.673810075807\n",
      "Root Mean Squared Logarithmic Error (RMSLE): 0.588686530529593\n",
      "\n",
      "Training model for store 38 and family 9...\n"
     ]
    },
    {
     "name": "stderr",
     "output_type": "stream",
     "text": [
      "14:59:43 - cmdstanpy - INFO - Chain [1] done processing\n",
      "14:59:43 - cmdstanpy - INFO - Chain [1] start processing\n"
     ]
    },
    {
     "name": "stdout",
     "output_type": "stream",
     "text": [
      "There are 1 NaN values in the data.\n",
      "Root Mean Squared Error (RMSE): 68.70127938491329\n",
      "Root Mean Squared Logarithmic Error (RMSLE): 0.7210524448929102\n",
      "\n",
      "Training model for store 38 and family 10...\n"
     ]
    },
    {
     "name": "stderr",
     "output_type": "stream",
     "text": [
      "14:59:43 - cmdstanpy - INFO - Chain [1] done processing\n",
      "14:59:44 - cmdstanpy - INFO - Chain [1] start processing\n"
     ]
    },
    {
     "name": "stdout",
     "output_type": "stream",
     "text": [
      "There are 1 NaN values in the data.\n",
      "Root Mean Squared Error (RMSE): 32.217537430706415\n",
      "Root Mean Squared Logarithmic Error (RMSLE): 0.5457211243976164\n",
      "\n",
      "Training model for store 38 and family 11...\n"
     ]
    },
    {
     "name": "stderr",
     "output_type": "stream",
     "text": [
      "14:59:44 - cmdstanpy - INFO - Chain [1] done processing\n",
      "14:59:44 - cmdstanpy - INFO - Chain [1] start processing\n"
     ]
    },
    {
     "name": "stdout",
     "output_type": "stream",
     "text": [
      "There are 1 NaN values in the data.\n",
      "Root Mean Squared Error (RMSE): 715.3290568203918\n",
      "Root Mean Squared Logarithmic Error (RMSLE): 2.3826135964408337\n",
      "\n",
      "Training model for store 38 and family 12...\n"
     ]
    },
    {
     "name": "stderr",
     "output_type": "stream",
     "text": [
      "14:59:44 - cmdstanpy - INFO - Chain [1] done processing\n",
      "14:59:44 - cmdstanpy - INFO - Chain [1] start processing\n"
     ]
    },
    {
     "name": "stdout",
     "output_type": "stream",
     "text": [
      "There are 1 NaN values in the data.\n",
      "Root Mean Squared Error (RMSE): 1177.8758018336605\n",
      "Root Mean Squared Logarithmic Error (RMSLE): 0.7218172134231031\n",
      "\n",
      "Training model for store 38 and family 13...\n"
     ]
    },
    {
     "name": "stderr",
     "output_type": "stream",
     "text": [
      "14:59:44 - cmdstanpy - INFO - Chain [1] done processing\n",
      "14:59:44 - cmdstanpy - INFO - Chain [1] start processing\n"
     ]
    },
    {
     "name": "stdout",
     "output_type": "stream",
     "text": [
      "There are 1 NaN values in the data.\n",
      "Root Mean Squared Error (RMSE): 12.251213575264025\n",
      "Root Mean Squared Logarithmic Error (RMSLE): 0.5464779565423452\n",
      "\n",
      "Training model for store 38 and family 14...\n"
     ]
    },
    {
     "name": "stderr",
     "output_type": "stream",
     "text": [
      "14:59:45 - cmdstanpy - INFO - Chain [1] done processing\n",
      "14:59:45 - cmdstanpy - INFO - Chain [1] start processing\n"
     ]
    },
    {
     "name": "stdout",
     "output_type": "stream",
     "text": [
      "There are 1 NaN values in the data.\n",
      "Root Mean Squared Error (RMSE): 1.3693833123286974\n",
      "Root Mean Squared Logarithmic Error (RMSLE): 0.6169908577008079\n",
      "\n",
      "Training model for store 38 and family 15...\n"
     ]
    },
    {
     "name": "stderr",
     "output_type": "stream",
     "text": [
      "14:59:45 - cmdstanpy - INFO - Chain [1] done processing\n",
      "14:59:45 - cmdstanpy - INFO - Chain [1] start processing\n"
     ]
    },
    {
     "name": "stdout",
     "output_type": "stream",
     "text": [
      "There are 1 NaN values in the data.\n",
      "Root Mean Squared Error (RMSE): 33.37999523396938\n",
      "Root Mean Squared Logarithmic Error (RMSLE): 0.6488448737874483\n",
      "\n",
      "Training model for store 38 and family 16...\n"
     ]
    },
    {
     "name": "stderr",
     "output_type": "stream",
     "text": [
      "14:59:45 - cmdstanpy - INFO - Chain [1] done processing\n",
      "14:59:45 - cmdstanpy - INFO - Chain [1] start processing\n"
     ]
    },
    {
     "name": "stdout",
     "output_type": "stream",
     "text": [
      "There are 1 NaN values in the data.\n",
      "Root Mean Squared Error (RMSE): 55.259858406154976\n",
      "Root Mean Squared Logarithmic Error (RMSLE): 2.5175728094816097\n",
      "\n",
      "Training model for store 38 and family 17...\n"
     ]
    },
    {
     "name": "stderr",
     "output_type": "stream",
     "text": [
      "14:59:45 - cmdstanpy - INFO - Chain [1] done processing\n",
      "14:59:46 - cmdstanpy - INFO - Chain [1] start processing\n"
     ]
    },
    {
     "name": "stdout",
     "output_type": "stream",
     "text": [
      "There are 1 NaN values in the data.\n",
      "Root Mean Squared Error (RMSE): 0.3592600397316831\n",
      "Root Mean Squared Logarithmic Error (RMSLE): 0.21958075348566541\n",
      "\n",
      "Training model for store 38 and family 18...\n"
     ]
    },
    {
     "name": "stderr",
     "output_type": "stream",
     "text": [
      "14:59:46 - cmdstanpy - INFO - Chain [1] done processing\n",
      "14:59:46 - cmdstanpy - INFO - Chain [1] start processing\n"
     ]
    },
    {
     "name": "stdout",
     "output_type": "stream",
     "text": [
      "There are 1 NaN values in the data.\n",
      "Root Mean Squared Error (RMSE): 104.66764582638734\n",
      "Root Mean Squared Logarithmic Error (RMSLE): 0.5612074107877586\n",
      "\n",
      "Training model for store 38 and family 19...\n"
     ]
    },
    {
     "name": "stderr",
     "output_type": "stream",
     "text": [
      "14:59:46 - cmdstanpy - INFO - Chain [1] done processing\n",
      "14:59:46 - cmdstanpy - INFO - Chain [1] start processing\n"
     ]
    },
    {
     "name": "stdout",
     "output_type": "stream",
     "text": [
      "There are 1 NaN values in the data.\n",
      "Root Mean Squared Error (RMSE): 14.742215638487668\n",
      "Root Mean Squared Logarithmic Error (RMSLE): 0.6407005961561351\n",
      "\n",
      "Training model for store 38 and family 20...\n"
     ]
    },
    {
     "name": "stderr",
     "output_type": "stream",
     "text": [
      "14:59:46 - cmdstanpy - INFO - Chain [1] done processing\n",
      "14:59:47 - cmdstanpy - INFO - Chain [1] start processing\n"
     ]
    },
    {
     "name": "stdout",
     "output_type": "stream",
     "text": [
      "There are 1 NaN values in the data.\n",
      "Root Mean Squared Error (RMSE): 19.555013621303832\n",
      "Root Mean Squared Logarithmic Error (RMSLE): 1.250335061350253\n",
      "\n",
      "Training model for store 38 and family 21...\n"
     ]
    },
    {
     "name": "stderr",
     "output_type": "stream",
     "text": [
      "14:59:47 - cmdstanpy - INFO - Chain [1] done processing\n",
      "14:59:47 - cmdstanpy - INFO - Chain [1] start processing\n"
     ]
    },
    {
     "name": "stdout",
     "output_type": "stream",
     "text": [
      "There are 1 NaN values in the data.\n",
      "Root Mean Squared Error (RMSE): 9.423700957893898\n",
      "Root Mean Squared Logarithmic Error (RMSLE): 1.7743323825981874\n",
      "\n",
      "Training model for store 38 and family 22...\n"
     ]
    },
    {
     "name": "stderr",
     "output_type": "stream",
     "text": [
      "14:59:47 - cmdstanpy - INFO - Chain [1] done processing\n",
      "14:59:47 - cmdstanpy - INFO - Chain [1] start processing\n"
     ]
    },
    {
     "name": "stdout",
     "output_type": "stream",
     "text": [
      "There are 1 NaN values in the data.\n",
      "Root Mean Squared Error (RMSE): 86.69762167038652\n",
      "Root Mean Squared Logarithmic Error (RMSLE): 1.549504420503527\n",
      "\n",
      "Training model for store 38 and family 23...\n"
     ]
    },
    {
     "name": "stderr",
     "output_type": "stream",
     "text": [
      "14:59:47 - cmdstanpy - INFO - Chain [1] done processing\n",
      "14:59:47 - cmdstanpy - INFO - Chain [1] start processing\n"
     ]
    },
    {
     "name": "stdout",
     "output_type": "stream",
     "text": [
      "There are 1 NaN values in the data.\n",
      "Root Mean Squared Error (RMSE): 7.155896281412697\n",
      "Root Mean Squared Logarithmic Error (RMSLE): 0.7229838305365639\n",
      "\n",
      "Training model for store 38 and family 24...\n"
     ]
    },
    {
     "name": "stderr",
     "output_type": "stream",
     "text": [
      "14:59:48 - cmdstanpy - INFO - Chain [1] done processing\n",
      "14:59:48 - cmdstanpy - INFO - Chain [1] start processing\n"
     ]
    },
    {
     "name": "stdout",
     "output_type": "stream",
     "text": [
      "There are 1 NaN values in the data.\n",
      "Root Mean Squared Error (RMSE): 67.81362853019083\n",
      "Root Mean Squared Logarithmic Error (RMSLE): 0.5681149688963771\n",
      "\n",
      "Training model for store 38 and family 25...\n"
     ]
    },
    {
     "name": "stderr",
     "output_type": "stream",
     "text": [
      "14:59:48 - cmdstanpy - INFO - Chain [1] done processing\n",
      "14:59:48 - cmdstanpy - INFO - Chain [1] start processing\n"
     ]
    },
    {
     "name": "stdout",
     "output_type": "stream",
     "text": [
      "There are 1 NaN values in the data.\n",
      "Root Mean Squared Error (RMSE): 145.42790700744388\n",
      "Root Mean Squared Logarithmic Error (RMSLE): 0.587124644813587\n",
      "\n",
      "Training model for store 38 and family 26...\n"
     ]
    },
    {
     "name": "stderr",
     "output_type": "stream",
     "text": [
      "14:59:48 - cmdstanpy - INFO - Chain [1] done processing\n",
      "14:59:49 - cmdstanpy - INFO - Chain [1] start processing\n"
     ]
    },
    {
     "name": "stdout",
     "output_type": "stream",
     "text": [
      "There are 1 NaN values in the data.\n",
      "Root Mean Squared Error (RMSE): 3.9003114327336075\n",
      "Root Mean Squared Logarithmic Error (RMSLE): 0.5291987744292066\n",
      "\n",
      "Training model for store 38 and family 27...\n"
     ]
    },
    {
     "name": "stderr",
     "output_type": "stream",
     "text": [
      "14:59:49 - cmdstanpy - INFO - Chain [1] done processing\n",
      "14:59:49 - cmdstanpy - INFO - Chain [1] start processing\n"
     ]
    },
    {
     "name": "stdout",
     "output_type": "stream",
     "text": [
      "There are 1 NaN values in the data.\n",
      "Root Mean Squared Error (RMSE): 7.593068087042424\n",
      "Root Mean Squared Logarithmic Error (RMSLE): 0.7884825814318007\n",
      "\n",
      "Training model for store 38 and family 28...\n"
     ]
    },
    {
     "name": "stderr",
     "output_type": "stream",
     "text": [
      "14:59:49 - cmdstanpy - INFO - Chain [1] done processing\n",
      "14:59:49 - cmdstanpy - INFO - Chain [1] start processing\n"
     ]
    },
    {
     "name": "stdout",
     "output_type": "stream",
     "text": [
      "There are 1 NaN values in the data.\n",
      "Root Mean Squared Error (RMSE): 49.76291019441874\n",
      "Root Mean Squared Logarithmic Error (RMSLE): 0.5190355052641454\n",
      "\n",
      "Training model for store 38 and family 29...\n"
     ]
    },
    {
     "name": "stderr",
     "output_type": "stream",
     "text": [
      "14:59:49 - cmdstanpy - INFO - Chain [1] done processing\n"
     ]
    },
    {
     "name": "stdout",
     "output_type": "stream",
     "text": [
      "There are 1 NaN values in the data.\n",
      "Root Mean Squared Error (RMSE): 34.558331504659655\n",
      "Root Mean Squared Logarithmic Error (RMSLE): 0.5503372438754901\n"
     ]
    },
    {
     "name": "stderr",
     "output_type": "stream",
     "text": [
      "14:59:50 - cmdstanpy - INFO - Chain [1] start processing\n",
      "14:59:51 - cmdstanpy - INFO - Chain [1] done processing\n"
     ]
    },
    {
     "name": "stdout",
     "output_type": "stream",
     "text": [
      "\n",
      "Training model for store 38 and family 30...\n",
      "There are 1 NaN values in the data.\n",
      "Root Mean Squared Error (RMSE): 953.6510254135524\n",
      "Root Mean Squared Logarithmic Error (RMSLE): 0.7410900389347622\n",
      "\n",
      "Training model for store 38 and family 31...\n"
     ]
    },
    {
     "name": "stderr",
     "output_type": "stream",
     "text": [
      "14:59:51 - cmdstanpy - INFO - Chain [1] start processing\n",
      "14:59:51 - cmdstanpy - INFO - Chain [1] done processing\n",
      "14:59:51 - cmdstanpy - INFO - Chain [1] start processing\n"
     ]
    },
    {
     "name": "stdout",
     "output_type": "stream",
     "text": [
      "There are 1 NaN values in the data.\n",
      "Root Mean Squared Error (RMSE): 3.16967237670196\n",
      "Root Mean Squared Logarithmic Error (RMSLE): 0.6548728649454034\n",
      "\n",
      "Training model for store 38 and family 32...\n"
     ]
    },
    {
     "name": "stderr",
     "output_type": "stream",
     "text": [
      "14:59:51 - cmdstanpy - INFO - Chain [1] done processing\n",
      "14:59:52 - cmdstanpy - INFO - Chain [1] start processing\n"
     ]
    },
    {
     "name": "stdout",
     "output_type": "stream",
     "text": [
      "There are 1 NaN values in the data.\n",
      "Root Mean Squared Error (RMSE): 7.215585386500757\n",
      "Root Mean Squared Logarithmic Error (RMSLE): 0.48893840001487576\n",
      "\n",
      "Training model for store 39 and family 0...\n"
     ]
    },
    {
     "name": "stderr",
     "output_type": "stream",
     "text": [
      "14:59:52 - cmdstanpy - INFO - Chain [1] done processing\n",
      "14:59:52 - cmdstanpy - INFO - Chain [1] start processing\n"
     ]
    },
    {
     "name": "stdout",
     "output_type": "stream",
     "text": [
      "There are 1 NaN values in the data.\n",
      "Root Mean Squared Error (RMSE): 10.239522417724599\n",
      "Root Mean Squared Logarithmic Error (RMSLE): 0.621341378358682\n",
      "\n",
      "Training model for store 39 and family 1...\n"
     ]
    },
    {
     "name": "stderr",
     "output_type": "stream",
     "text": [
      "14:59:52 - cmdstanpy - INFO - Chain [1] done processing\n",
      "14:59:52 - cmdstanpy - INFO - Chain [1] start processing\n"
     ]
    },
    {
     "name": "stdout",
     "output_type": "stream",
     "text": [
      "There are 1 NaN values in the data.\n",
      "Root Mean Squared Error (RMSE): 1.1302603307229904\n",
      "Root Mean Squared Logarithmic Error (RMSLE): 0.6570329654347047\n",
      "\n",
      "Training model for store 39 and family 2...\n"
     ]
    },
    {
     "name": "stderr",
     "output_type": "stream",
     "text": [
      "14:59:52 - cmdstanpy - INFO - Chain [1] done processing\n",
      "14:59:52 - cmdstanpy - INFO - Chain [1] start processing\n"
     ]
    },
    {
     "name": "stdout",
     "output_type": "stream",
     "text": [
      "There are 1 NaN values in the data.\n",
      "Root Mean Squared Error (RMSE): 5.67725674491183\n",
      "Root Mean Squared Logarithmic Error (RMSLE): 0.9326311939138078\n",
      "\n",
      "Training model for store 39 and family 3...\n"
     ]
    },
    {
     "name": "stderr",
     "output_type": "stream",
     "text": [
      "14:59:53 - cmdstanpy - INFO - Chain [1] done processing\n"
     ]
    },
    {
     "name": "stdout",
     "output_type": "stream",
     "text": [
      "There are 1 NaN values in the data.\n",
      "Root Mean Squared Error (RMSE): 922.6545622429401\n",
      "Root Mean Squared Logarithmic Error (RMSLE): 0.7009507960883183\n",
      "\n",
      "Training model for store 39 and family 4...\n",
      "There are 1 NaN values in the data.\n",
      "Root Mean Squared Error (RMSE): 0.0\n",
      "Root Mean Squared Logarithmic Error (RMSLE): 0.0\n"
     ]
    },
    {
     "name": "stderr",
     "output_type": "stream",
     "text": [
      "14:59:53 - cmdstanpy - INFO - Chain [1] start processing\n",
      "14:59:53 - cmdstanpy - INFO - Chain [1] done processing\n"
     ]
    },
    {
     "name": "stdout",
     "output_type": "stream",
     "text": [
      "\n",
      "Training model for store 39 and family 5...\n",
      "There are 1 NaN values in the data.\n",
      "Root Mean Squared Error (RMSE): 128.32144998558456\n",
      "Root Mean Squared Logarithmic Error (RMSLE): 0.5420436501227859\n",
      "\n",
      "Training model for store 39 and family 6...\n"
     ]
    },
    {
     "name": "stderr",
     "output_type": "stream",
     "text": [
      "14:59:53 - cmdstanpy - INFO - Chain [1] start processing\n",
      "14:59:53 - cmdstanpy - INFO - Chain [1] done processing\n",
      "14:59:54 - cmdstanpy - INFO - Chain [1] start processing\n"
     ]
    },
    {
     "name": "stdout",
     "output_type": "stream",
     "text": [
      "There are 1 NaN values in the data.\n",
      "Root Mean Squared Error (RMSE): 6.2152489033940155\n",
      "Root Mean Squared Logarithmic Error (RMSLE): 0.6809288094531332\n",
      "\n",
      "Training model for store 39 and family 7...\n"
     ]
    },
    {
     "name": "stderr",
     "output_type": "stream",
     "text": [
      "14:59:54 - cmdstanpy - INFO - Chain [1] done processing\n",
      "14:59:54 - cmdstanpy - INFO - Chain [1] start processing\n"
     ]
    },
    {
     "name": "stdout",
     "output_type": "stream",
     "text": [
      "There are 1 NaN values in the data.\n",
      "Root Mean Squared Error (RMSE): 660.0006946445676\n",
      "Root Mean Squared Logarithmic Error (RMSLE): 0.6556909345370505\n",
      "\n",
      "Training model for store 39 and family 8...\n"
     ]
    },
    {
     "name": "stderr",
     "output_type": "stream",
     "text": [
      "14:59:54 - cmdstanpy - INFO - Chain [1] done processing\n",
      "14:59:54 - cmdstanpy - INFO - Chain [1] start processing\n"
     ]
    },
    {
     "name": "stdout",
     "output_type": "stream",
     "text": [
      "There are 1 NaN values in the data.\n",
      "Root Mean Squared Error (RMSE): 155.50870580885717\n",
      "Root Mean Squared Logarithmic Error (RMSLE): 0.5587433614565518\n",
      "\n",
      "Training model for store 39 and family 9...\n"
     ]
    },
    {
     "name": "stderr",
     "output_type": "stream",
     "text": [
      "14:59:54 - cmdstanpy - INFO - Chain [1] done processing\n",
      "14:59:55 - cmdstanpy - INFO - Chain [1] start processing\n"
     ]
    },
    {
     "name": "stdout",
     "output_type": "stream",
     "text": [
      "There are 1 NaN values in the data.\n",
      "Root Mean Squared Error (RMSE): 58.31819619909929\n",
      "Root Mean Squared Logarithmic Error (RMSLE): 0.48231571715020755\n",
      "\n",
      "Training model for store 39 and family 10...\n"
     ]
    },
    {
     "name": "stderr",
     "output_type": "stream",
     "text": [
      "14:59:55 - cmdstanpy - INFO - Chain [1] done processing\n",
      "14:59:55 - cmdstanpy - INFO - Chain [1] start processing\n"
     ]
    },
    {
     "name": "stdout",
     "output_type": "stream",
     "text": [
      "There are 1 NaN values in the data.\n",
      "Root Mean Squared Error (RMSE): 483.69604051612\n",
      "Root Mean Squared Logarithmic Error (RMSLE): 0.8524660934853856\n",
      "\n",
      "Training model for store 39 and family 11...\n"
     ]
    },
    {
     "name": "stderr",
     "output_type": "stream",
     "text": [
      "14:59:55 - cmdstanpy - INFO - Chain [1] done processing\n",
      "14:59:55 - cmdstanpy - INFO - Chain [1] start processing\n"
     ]
    },
    {
     "name": "stdout",
     "output_type": "stream",
     "text": [
      "There are 1 NaN values in the data.\n",
      "Root Mean Squared Error (RMSE): 108.23635652598489\n",
      "Root Mean Squared Logarithmic Error (RMSLE): 0.6418632340719858\n",
      "\n",
      "Training model for store 39 and family 12...\n"
     ]
    },
    {
     "name": "stderr",
     "output_type": "stream",
     "text": [
      "14:59:55 - cmdstanpy - INFO - Chain [1] done processing\n",
      "14:59:56 - cmdstanpy - INFO - Chain [1] start processing\n"
     ]
    },
    {
     "name": "stdout",
     "output_type": "stream",
     "text": [
      "There are 1 NaN values in the data.\n",
      "Root Mean Squared Error (RMSE): 1447.3751521074503\n",
      "Root Mean Squared Logarithmic Error (RMSLE): 0.7180239041258901\n",
      "\n",
      "Training model for store 39 and family 13...\n"
     ]
    },
    {
     "name": "stderr",
     "output_type": "stream",
     "text": [
      "14:59:56 - cmdstanpy - INFO - Chain [1] done processing\n",
      "14:59:56 - cmdstanpy - INFO - Chain [1] start processing\n"
     ]
    },
    {
     "name": "stdout",
     "output_type": "stream",
     "text": [
      "There are 1 NaN values in the data.\n",
      "Root Mean Squared Error (RMSE): 17.036734903705135\n",
      "Root Mean Squared Logarithmic Error (RMSLE): 0.5612929561961604\n",
      "\n",
      "Training model for store 39 and family 14...\n"
     ]
    },
    {
     "name": "stderr",
     "output_type": "stream",
     "text": [
      "14:59:56 - cmdstanpy - INFO - Chain [1] done processing\n",
      "14:59:56 - cmdstanpy - INFO - Chain [1] start processing\n"
     ]
    },
    {
     "name": "stdout",
     "output_type": "stream",
     "text": [
      "There are 1 NaN values in the data.\n",
      "Root Mean Squared Error (RMSE): 1.8598908191791506\n",
      "Root Mean Squared Logarithmic Error (RMSLE): 0.6135148912208317\n",
      "\n",
      "Training model for store 39 and family 15...\n"
     ]
    },
    {
     "name": "stderr",
     "output_type": "stream",
     "text": [
      "14:59:56 - cmdstanpy - INFO - Chain [1] done processing\n",
      "14:59:57 - cmdstanpy - INFO - Chain [1] start processing\n"
     ]
    },
    {
     "name": "stdout",
     "output_type": "stream",
     "text": [
      "There are 1 NaN values in the data.\n",
      "Root Mean Squared Error (RMSE): 34.756063160916504\n",
      "Root Mean Squared Logarithmic Error (RMSLE): 0.6489510124678282\n",
      "\n",
      "Training model for store 39 and family 16...\n"
     ]
    },
    {
     "name": "stderr",
     "output_type": "stream",
     "text": [
      "14:59:57 - cmdstanpy - INFO - Chain [1] done processing\n",
      "14:59:57 - cmdstanpy - INFO - Chain [1] start processing\n"
     ]
    },
    {
     "name": "stdout",
     "output_type": "stream",
     "text": [
      "There are 1 NaN values in the data.\n",
      "Root Mean Squared Error (RMSE): 9.111113092523915\n",
      "Root Mean Squared Logarithmic Error (RMSLE): 0.48373115082643153\n",
      "\n",
      "Training model for store 39 and family 17...\n"
     ]
    },
    {
     "name": "stderr",
     "output_type": "stream",
     "text": [
      "14:59:57 - cmdstanpy - INFO - Chain [1] done processing\n",
      "14:59:57 - cmdstanpy - INFO - Chain [1] start processing\n"
     ]
    },
    {
     "name": "stdout",
     "output_type": "stream",
     "text": [
      "There are 1 NaN values in the data.\n",
      "Root Mean Squared Error (RMSE): 0.7935930834013296\n",
      "Root Mean Squared Logarithmic Error (RMSLE): 0.4216568755869294\n",
      "\n",
      "Training model for store 39 and family 18...\n"
     ]
    },
    {
     "name": "stderr",
     "output_type": "stream",
     "text": [
      "14:59:57 - cmdstanpy - INFO - Chain [1] done processing\n",
      "14:59:57 - cmdstanpy - INFO - Chain [1] start processing\n"
     ]
    },
    {
     "name": "stdout",
     "output_type": "stream",
     "text": [
      "There are 1 NaN values in the data.\n",
      "Root Mean Squared Error (RMSE): 148.4113797838492\n",
      "Root Mean Squared Logarithmic Error (RMSLE): 0.6220776151391584\n",
      "\n",
      "Training model for store 39 and family 19...\n"
     ]
    },
    {
     "name": "stderr",
     "output_type": "stream",
     "text": [
      "14:59:58 - cmdstanpy - INFO - Chain [1] done processing\n"
     ]
    },
    {
     "name": "stdout",
     "output_type": "stream",
     "text": [
      "There are 1 NaN values in the data.\n",
      "Root Mean Squared Error (RMSE): 6.276876092441751\n",
      "Root Mean Squared Logarithmic Error (RMSLE): 0.8706320968204974\n",
      "\n",
      "Training model for store 39 and family 20...\n"
     ]
    },
    {
     "name": "stderr",
     "output_type": "stream",
     "text": [
      "14:59:58 - cmdstanpy - INFO - Chain [1] start processing\n",
      "14:59:58 - cmdstanpy - INFO - Chain [1] done processing\n"
     ]
    },
    {
     "name": "stdout",
     "output_type": "stream",
     "text": [
      "There are 1 NaN values in the data.\n",
      "Root Mean Squared Error (RMSE): 8.545207642329414\n",
      "Root Mean Squared Logarithmic Error (RMSLE): 0.6311958065568186\n",
      "\n",
      "Training model for store 39 and family 21...\n"
     ]
    },
    {
     "name": "stderr",
     "output_type": "stream",
     "text": [
      "14:59:58 - cmdstanpy - INFO - Chain [1] start processing\n",
      "14:59:58 - cmdstanpy - INFO - Chain [1] done processing\n",
      "14:59:59 - cmdstanpy - INFO - Chain [1] start processing\n"
     ]
    },
    {
     "name": "stdout",
     "output_type": "stream",
     "text": [
      "There are 1 NaN values in the data.\n",
      "Root Mean Squared Error (RMSE): 5.948278537785266\n",
      "Root Mean Squared Logarithmic Error (RMSLE): 0.8676171820981852\n",
      "\n",
      "Training model for store 39 and family 22...\n"
     ]
    },
    {
     "name": "stderr",
     "output_type": "stream",
     "text": [
      "14:59:59 - cmdstanpy - INFO - Chain [1] done processing\n",
      "14:59:59 - cmdstanpy - INFO - Chain [1] start processing\n"
     ]
    },
    {
     "name": "stdout",
     "output_type": "stream",
     "text": [
      "There are 1 NaN values in the data.\n",
      "Root Mean Squared Error (RMSE): 46.58138147446685\n",
      "Root Mean Squared Logarithmic Error (RMSLE): 1.4201498633202205\n",
      "\n",
      "Training model for store 39 and family 23...\n"
     ]
    },
    {
     "name": "stderr",
     "output_type": "stream",
     "text": [
      "14:59:59 - cmdstanpy - INFO - Chain [1] done processing\n",
      "14:59:59 - cmdstanpy - INFO - Chain [1] start processing\n"
     ]
    },
    {
     "name": "stdout",
     "output_type": "stream",
     "text": [
      "There are 1 NaN values in the data.\n",
      "Root Mean Squared Error (RMSE): 4.181332329725014\n",
      "Root Mean Squared Logarithmic Error (RMSLE): 0.8795246652797565\n",
      "\n",
      "Training model for store 39 and family 24...\n"
     ]
    },
    {
     "name": "stderr",
     "output_type": "stream",
     "text": [
      "14:59:59 - cmdstanpy - INFO - Chain [1] done processing\n",
      "14:59:59 - cmdstanpy - INFO - Chain [1] start processing\n"
     ]
    },
    {
     "name": "stdout",
     "output_type": "stream",
     "text": [
      "There are 1 NaN values in the data.\n",
      "Root Mean Squared Error (RMSE): 4874.579257868078\n",
      "Root Mean Squared Logarithmic Error (RMSLE): 1.5226259854983253\n",
      "\n",
      "Training model for store 39 and family 25...\n"
     ]
    },
    {
     "name": "stderr",
     "output_type": "stream",
     "text": [
      "15:00:00 - cmdstanpy - INFO - Chain [1] done processing\n",
      "15:00:00 - cmdstanpy - INFO - Chain [1] start processing\n"
     ]
    },
    {
     "name": "stdout",
     "output_type": "stream",
     "text": [
      "There are 1 NaN values in the data.\n",
      "Root Mean Squared Error (RMSE): 111.90529638332693\n",
      "Root Mean Squared Logarithmic Error (RMSLE): 0.5606224966795383\n",
      "\n",
      "Training model for store 39 and family 26...\n"
     ]
    },
    {
     "name": "stderr",
     "output_type": "stream",
     "text": [
      "15:00:00 - cmdstanpy - INFO - Chain [1] done processing\n",
      "15:00:00 - cmdstanpy - INFO - Chain [1] start processing\n"
     ]
    },
    {
     "name": "stdout",
     "output_type": "stream",
     "text": [
      "There are 1 NaN values in the data.\n",
      "Root Mean Squared Error (RMSE): 3.250759048253282\n",
      "Root Mean Squared Logarithmic Error (RMSLE): 0.488834259556358\n",
      "\n",
      "Training model for store 39 and family 27...\n"
     ]
    },
    {
     "name": "stderr",
     "output_type": "stream",
     "text": [
      "15:00:00 - cmdstanpy - INFO - Chain [1] done processing\n",
      "15:00:00 - cmdstanpy - INFO - Chain [1] start processing\n"
     ]
    },
    {
     "name": "stdout",
     "output_type": "stream",
     "text": [
      "There are 1 NaN values in the data.\n",
      "Root Mean Squared Error (RMSE): 5.7462543506009425\n",
      "Root Mean Squared Logarithmic Error (RMSLE): 0.569448032040818\n",
      "\n",
      "Training model for store 39 and family 28...\n"
     ]
    },
    {
     "name": "stderr",
     "output_type": "stream",
     "text": [
      "15:00:01 - cmdstanpy - INFO - Chain [1] done processing\n",
      "15:00:01 - cmdstanpy - INFO - Chain [1] start processing\n"
     ]
    },
    {
     "name": "stdout",
     "output_type": "stream",
     "text": [
      "There are 1 NaN values in the data.\n",
      "Root Mean Squared Error (RMSE): 58.90830844328712\n",
      "Root Mean Squared Logarithmic Error (RMSLE): 0.500804861332755\n",
      "\n",
      "Training model for store 39 and family 29...\n"
     ]
    },
    {
     "name": "stderr",
     "output_type": "stream",
     "text": [
      "15:00:01 - cmdstanpy - INFO - Chain [1] done processing\n",
      "15:00:01 - cmdstanpy - INFO - Chain [1] start processing\n"
     ]
    },
    {
     "name": "stdout",
     "output_type": "stream",
     "text": [
      "There are 1 NaN values in the data.\n",
      "Root Mean Squared Error (RMSE): 23.383854474406323\n",
      "Root Mean Squared Logarithmic Error (RMSLE): 0.44181629836910735\n",
      "\n",
      "Training model for store 39 and family 30...\n"
     ]
    },
    {
     "name": "stderr",
     "output_type": "stream",
     "text": [
      "15:00:01 - cmdstanpy - INFO - Chain [1] done processing\n",
      "15:00:01 - cmdstanpy - INFO - Chain [1] start processing\n"
     ]
    },
    {
     "name": "stdout",
     "output_type": "stream",
     "text": [
      "There are 1 NaN values in the data.\n",
      "Root Mean Squared Error (RMSE): 839.1269171880816\n",
      "Root Mean Squared Logarithmic Error (RMSLE): 0.7414480345847341\n",
      "\n",
      "Training model for store 39 and family 31...\n"
     ]
    },
    {
     "name": "stderr",
     "output_type": "stream",
     "text": [
      "15:00:02 - cmdstanpy - INFO - Chain [1] done processing\n",
      "15:00:02 - cmdstanpy - INFO - Chain [1] start processing\n"
     ]
    },
    {
     "name": "stdout",
     "output_type": "stream",
     "text": [
      "There are 1 NaN values in the data.\n",
      "Root Mean Squared Error (RMSE): 3.0020678346109166\n",
      "Root Mean Squared Logarithmic Error (RMSLE): 0.8480398900473658\n",
      "\n",
      "Training model for store 39 and family 32...\n"
     ]
    },
    {
     "name": "stderr",
     "output_type": "stream",
     "text": [
      "15:00:02 - cmdstanpy - INFO - Chain [1] done processing\n",
      "15:00:02 - cmdstanpy - INFO - Chain [1] start processing\n"
     ]
    },
    {
     "name": "stdout",
     "output_type": "stream",
     "text": [
      "There are 1 NaN values in the data.\n",
      "Root Mean Squared Error (RMSE): 7.998803710073794\n",
      "Root Mean Squared Logarithmic Error (RMSLE): 0.5909200165967123\n",
      "\n",
      "Training model for store 4 and family 0...\n"
     ]
    },
    {
     "name": "stderr",
     "output_type": "stream",
     "text": [
      "15:00:02 - cmdstanpy - INFO - Chain [1] done processing\n"
     ]
    },
    {
     "name": "stdout",
     "output_type": "stream",
     "text": [
      "There are 1 NaN values in the data.\n",
      "Root Mean Squared Error (RMSE): 2.8660660326518936\n",
      "Root Mean Squared Logarithmic Error (RMSLE): 0.5866129035600547\n",
      "\n",
      "Training model for store 4 and family 1...\n"
     ]
    },
    {
     "name": "stderr",
     "output_type": "stream",
     "text": [
      "15:00:03 - cmdstanpy - INFO - Chain [1] start processing\n",
      "15:00:03 - cmdstanpy - INFO - Chain [1] done processing\n"
     ]
    },
    {
     "name": "stdout",
     "output_type": "stream",
     "text": [
      "There are 1 NaN values in the data.\n",
      "Root Mean Squared Error (RMSE): 0.36080121229410994\n",
      "Root Mean Squared Logarithmic Error (RMSLE): 0.19967392126580422\n",
      "\n",
      "Training model for store 4 and family 2...\n",
      "There are 1 NaN values in the data.\n",
      "Root Mean Squared Error (RMSE): 3.3404689303172836\n",
      "Root Mean Squared Logarithmic Error (RMSLE): 0.6471463609222314\n",
      "\n",
      "Training model for store 4 and family 3...\n"
     ]
    },
    {
     "name": "stderr",
     "output_type": "stream",
     "text": [
      "15:00:03 - cmdstanpy - INFO - Chain [1] start processing\n",
      "15:00:03 - cmdstanpy - INFO - Chain [1] done processing\n"
     ]
    },
    {
     "name": "stdout",
     "output_type": "stream",
     "text": [
      "There are 1 NaN values in the data.\n",
      "Root Mean Squared Error (RMSE): 708.0804659108865\n",
      "Root Mean Squared Logarithmic Error (RMSLE): 0.672131775076446\n",
      "\n",
      "Training model for store 4 and family 4...\n"
     ]
    },
    {
     "name": "stderr",
     "output_type": "stream",
     "text": [
      "15:00:04 - cmdstanpy - INFO - Chain [1] start processing\n"
     ]
    },
    {
     "name": "stdout",
     "output_type": "stream",
     "text": [
      "There are 1 NaN values in the data.\n",
      "Root Mean Squared Error (RMSE): 1.5249405847383855\n",
      "Root Mean Squared Logarithmic Error (RMSLE): 0.6822307826609484\n",
      "\n",
      "Training model for store 4 and family 5...\n"
     ]
    },
    {
     "name": "stderr",
     "output_type": "stream",
     "text": [
      "15:00:04 - cmdstanpy - INFO - Chain [1] done processing\n",
      "15:00:04 - cmdstanpy - INFO - Chain [1] start processing\n"
     ]
    },
    {
     "name": "stdout",
     "output_type": "stream",
     "text": [
      "There are 1 NaN values in the data.\n",
      "Root Mean Squared Error (RMSE): 90.13321292159222\n",
      "Root Mean Squared Logarithmic Error (RMSLE): 0.5210869546104542\n",
      "\n",
      "Training model for store 4 and family 6...\n"
     ]
    },
    {
     "name": "stderr",
     "output_type": "stream",
     "text": [
      "15:00:04 - cmdstanpy - INFO - Chain [1] done processing\n",
      "15:00:04 - cmdstanpy - INFO - Chain [1] start processing\n"
     ]
    },
    {
     "name": "stdout",
     "output_type": "stream",
     "text": [
      "There are 1 NaN values in the data.\n",
      "Root Mean Squared Error (RMSE): 8.825365319147572\n",
      "Root Mean Squared Logarithmic Error (RMSLE): 0.9876549216438506\n",
      "\n",
      "Training model for store 4 and family 7...\n"
     ]
    },
    {
     "name": "stderr",
     "output_type": "stream",
     "text": [
      "15:00:04 - cmdstanpy - INFO - Chain [1] done processing\n",
      "15:00:05 - cmdstanpy - INFO - Chain [1] start processing\n"
     ]
    },
    {
     "name": "stdout",
     "output_type": "stream",
     "text": [
      "There are 1 NaN values in the data.\n",
      "Root Mean Squared Error (RMSE): 196.2862230150007\n",
      "Root Mean Squared Logarithmic Error (RMSLE): 0.5802096538234043\n",
      "\n",
      "Training model for store 4 and family 8...\n"
     ]
    },
    {
     "name": "stderr",
     "output_type": "stream",
     "text": [
      "15:00:05 - cmdstanpy - INFO - Chain [1] done processing\n"
     ]
    },
    {
     "name": "stdout",
     "output_type": "stream",
     "text": [
      "There are 1 NaN values in the data.\n",
      "Root Mean Squared Error (RMSE): 170.88493608751537\n",
      "Root Mean Squared Logarithmic Error (RMSLE): 0.5733792811797638\n",
      "\n",
      "Training model for store 4 and family 9...\n"
     ]
    },
    {
     "name": "stderr",
     "output_type": "stream",
     "text": [
      "15:00:05 - cmdstanpy - INFO - Chain [1] start processing\n",
      "15:00:05 - cmdstanpy - INFO - Chain [1] done processing\n",
      "15:00:05 - cmdstanpy - INFO - Chain [1] start processing\n"
     ]
    },
    {
     "name": "stdout",
     "output_type": "stream",
     "text": [
      "There are 1 NaN values in the data.\n",
      "Root Mean Squared Error (RMSE): 55.59159333940716\n",
      "Root Mean Squared Logarithmic Error (RMSLE): 0.49482053621385624\n",
      "\n",
      "Training model for store 4 and family 10...\n"
     ]
    },
    {
     "name": "stderr",
     "output_type": "stream",
     "text": [
      "15:00:06 - cmdstanpy - INFO - Chain [1] done processing\n"
     ]
    },
    {
     "name": "stdout",
     "output_type": "stream",
     "text": [
      "There are 1 NaN values in the data.\n",
      "Root Mean Squared Error (RMSE): 34.315746830832275\n",
      "Root Mean Squared Logarithmic Error (RMSLE): 0.4615253747608376\n",
      "\n",
      "Training model for store 4 and family 11...\n"
     ]
    },
    {
     "name": "stderr",
     "output_type": "stream",
     "text": [
      "15:00:06 - cmdstanpy - INFO - Chain [1] start processing\n",
      "15:00:06 - cmdstanpy - INFO - Chain [1] done processing\n",
      "15:00:06 - cmdstanpy - INFO - Chain [1] start processing\n"
     ]
    },
    {
     "name": "stdout",
     "output_type": "stream",
     "text": [
      "There are 1 NaN values in the data.\n",
      "Root Mean Squared Error (RMSE): 156.14464159331743\n",
      "Root Mean Squared Logarithmic Error (RMSLE): 1.272114820774596\n",
      "\n",
      "Training model for store 4 and family 12...\n"
     ]
    },
    {
     "name": "stderr",
     "output_type": "stream",
     "text": [
      "15:00:06 - cmdstanpy - INFO - Chain [1] done processing\n",
      "15:00:06 - cmdstanpy - INFO - Chain [1] start processing\n"
     ]
    },
    {
     "name": "stdout",
     "output_type": "stream",
     "text": [
      "There are 1 NaN values in the data.\n",
      "Root Mean Squared Error (RMSE): 774.6808458529431\n",
      "Root Mean Squared Logarithmic Error (RMSLE): 0.6830021196838639\n",
      "\n",
      "Training model for store 4 and family 13...\n"
     ]
    },
    {
     "name": "stderr",
     "output_type": "stream",
     "text": [
      "15:00:07 - cmdstanpy - INFO - Chain [1] done processing\n",
      "15:00:07 - cmdstanpy - INFO - Chain [1] start processing\n"
     ]
    },
    {
     "name": "stdout",
     "output_type": "stream",
     "text": [
      "There are 1 NaN values in the data.\n",
      "Root Mean Squared Error (RMSE): 12.368698628799992\n",
      "Root Mean Squared Logarithmic Error (RMSLE): 0.5635087337454744\n",
      "\n",
      "Training model for store 4 and family 14...\n"
     ]
    },
    {
     "name": "stderr",
     "output_type": "stream",
     "text": [
      "15:00:07 - cmdstanpy - INFO - Chain [1] done processing\n",
      "15:00:07 - cmdstanpy - INFO - Chain [1] start processing\n"
     ]
    },
    {
     "name": "stdout",
     "output_type": "stream",
     "text": [
      "There are 1 NaN values in the data.\n",
      "Root Mean Squared Error (RMSE): 1.7018905544585659\n",
      "Root Mean Squared Logarithmic Error (RMSLE): 0.5910676257128498\n",
      "\n",
      "Training model for store 4 and family 15...\n"
     ]
    },
    {
     "name": "stderr",
     "output_type": "stream",
     "text": [
      "15:00:07 - cmdstanpy - INFO - Chain [1] done processing\n"
     ]
    },
    {
     "name": "stdout",
     "output_type": "stream",
     "text": [
      "There are 1 NaN values in the data.\n",
      "Root Mean Squared Error (RMSE): 14.087321637018272\n",
      "Root Mean Squared Logarithmic Error (RMSLE): 0.7241452596547693\n",
      "\n",
      "Training model for store 4 and family 16...\n"
     ]
    },
    {
     "name": "stderr",
     "output_type": "stream",
     "text": [
      "15:00:07 - cmdstanpy - INFO - Chain [1] start processing\n",
      "15:00:08 - cmdstanpy - INFO - Chain [1] done processing\n",
      "15:00:08 - cmdstanpy - INFO - Chain [1] start processing\n"
     ]
    },
    {
     "name": "stdout",
     "output_type": "stream",
     "text": [
      "There are 1 NaN values in the data.\n",
      "Root Mean Squared Error (RMSE): 11.84933219518063\n",
      "Root Mean Squared Logarithmic Error (RMSLE): 0.9495808764761139\n",
      "\n",
      "Training model for store 4 and family 17...\n"
     ]
    },
    {
     "name": "stderr",
     "output_type": "stream",
     "text": [
      "15:00:08 - cmdstanpy - INFO - Chain [1] done processing\n",
      "15:00:08 - cmdstanpy - INFO - Chain [1] start processing\n"
     ]
    },
    {
     "name": "stdout",
     "output_type": "stream",
     "text": [
      "There are 1 NaN values in the data.\n",
      "Root Mean Squared Error (RMSE): 0.7735489176684162\n",
      "Root Mean Squared Logarithmic Error (RMSLE): 0.41974803042742753\n",
      "\n",
      "Training model for store 4 and family 18...\n"
     ]
    },
    {
     "name": "stderr",
     "output_type": "stream",
     "text": [
      "15:00:08 - cmdstanpy - INFO - Chain [1] done processing\n",
      "15:00:08 - cmdstanpy - INFO - Chain [1] start processing\n"
     ]
    },
    {
     "name": "stdout",
     "output_type": "stream",
     "text": [
      "There are 1 NaN values in the data.\n",
      "Root Mean Squared Error (RMSE): 87.93799746390752\n",
      "Root Mean Squared Logarithmic Error (RMSLE): 0.5612564548073501\n",
      "\n",
      "Training model for store 4 and family 19...\n"
     ]
    },
    {
     "name": "stderr",
     "output_type": "stream",
     "text": [
      "15:00:09 - cmdstanpy - INFO - Chain [1] done processing\n",
      "15:00:09 - cmdstanpy - INFO - Chain [1] start processing\n"
     ]
    },
    {
     "name": "stdout",
     "output_type": "stream",
     "text": [
      "There are 1 NaN values in the data.\n",
      "Root Mean Squared Error (RMSE): 14.031713572593315\n",
      "Root Mean Squared Logarithmic Error (RMSLE): 0.6769362386313905\n",
      "\n",
      "Training model for store 4 and family 20...\n"
     ]
    },
    {
     "name": "stderr",
     "output_type": "stream",
     "text": [
      "15:00:09 - cmdstanpy - INFO - Chain [1] done processing\n"
     ]
    },
    {
     "name": "stdout",
     "output_type": "stream",
     "text": [
      "There are 1 NaN values in the data.\n",
      "Root Mean Squared Error (RMSE): 15.181744262263333\n",
      "Root Mean Squared Logarithmic Error (RMSLE): 0.8625512463314116\n",
      "\n",
      "Training model for store 4 and family 21...\n"
     ]
    },
    {
     "name": "stderr",
     "output_type": "stream",
     "text": [
      "15:00:09 - cmdstanpy - INFO - Chain [1] start processing\n",
      "15:00:09 - cmdstanpy - INFO - Chain [1] done processing\n"
     ]
    },
    {
     "name": "stdout",
     "output_type": "stream",
     "text": [
      "There are 1 NaN values in the data.\n",
      "Root Mean Squared Error (RMSE): 2.9358747388488076\n",
      "Root Mean Squared Logarithmic Error (RMSLE): 0.9213927734916633\n",
      "\n",
      "Training model for store 4 and family 22...\n"
     ]
    },
    {
     "name": "stderr",
     "output_type": "stream",
     "text": [
      "15:00:10 - cmdstanpy - INFO - Chain [1] start processing\n",
      "15:00:10 - cmdstanpy - INFO - Chain [1] done processing\n",
      "15:00:10 - cmdstanpy - INFO - Chain [1] start processing\n"
     ]
    },
    {
     "name": "stdout",
     "output_type": "stream",
     "text": [
      "There are 1 NaN values in the data.\n",
      "Root Mean Squared Error (RMSE): 55.795148831257514\n",
      "Root Mean Squared Logarithmic Error (RMSLE): 1.035223037390214\n",
      "\n",
      "Training model for store 4 and family 23...\n"
     ]
    },
    {
     "name": "stderr",
     "output_type": "stream",
     "text": [
      "15:00:10 - cmdstanpy - INFO - Chain [1] done processing\n",
      "15:00:10 - cmdstanpy - INFO - Chain [1] start processing\n"
     ]
    },
    {
     "name": "stdout",
     "output_type": "stream",
     "text": [
      "There are 1 NaN values in the data.\n",
      "Root Mean Squared Error (RMSE): 6.05508443622585\n",
      "Root Mean Squared Logarithmic Error (RMSLE): 0.7316504255290225\n",
      "\n",
      "Training model for store 4 and family 24...\n"
     ]
    },
    {
     "name": "stderr",
     "output_type": "stream",
     "text": [
      "15:00:10 - cmdstanpy - INFO - Chain [1] done processing\n",
      "15:00:11 - cmdstanpy - INFO - Chain [1] start processing\n"
     ]
    },
    {
     "name": "stdout",
     "output_type": "stream",
     "text": [
      "There are 1 NaN values in the data.\n",
      "Root Mean Squared Error (RMSE): 95.47702318017673\n",
      "Root Mean Squared Logarithmic Error (RMSLE): 0.5184179712551052\n",
      "\n",
      "Training model for store 4 and family 25...\n"
     ]
    },
    {
     "name": "stderr",
     "output_type": "stream",
     "text": [
      "15:00:11 - cmdstanpy - INFO - Chain [1] done processing\n",
      "15:00:11 - cmdstanpy - INFO - Chain [1] start processing\n"
     ]
    },
    {
     "name": "stdout",
     "output_type": "stream",
     "text": [
      "There are 1 NaN values in the data.\n",
      "Root Mean Squared Error (RMSE): 73.9015824444814\n",
      "Root Mean Squared Logarithmic Error (RMSLE): 0.5181365415901343\n",
      "\n",
      "Training model for store 4 and family 26...\n"
     ]
    },
    {
     "name": "stderr",
     "output_type": "stream",
     "text": [
      "15:00:11 - cmdstanpy - INFO - Chain [1] done processing\n",
      "15:00:11 - cmdstanpy - INFO - Chain [1] start processing\n"
     ]
    },
    {
     "name": "stdout",
     "output_type": "stream",
     "text": [
      "There are 1 NaN values in the data.\n",
      "Root Mean Squared Error (RMSE): 5.060077303472868\n",
      "Root Mean Squared Logarithmic Error (RMSLE): 0.6168067124298714\n",
      "\n",
      "Training model for store 4 and family 27...\n"
     ]
    },
    {
     "name": "stderr",
     "output_type": "stream",
     "text": [
      "15:00:11 - cmdstanpy - INFO - Chain [1] done processing\n",
      "15:00:12 - cmdstanpy - INFO - Chain [1] start processing\n"
     ]
    },
    {
     "name": "stdout",
     "output_type": "stream",
     "text": [
      "There are 1 NaN values in the data.\n",
      "Root Mean Squared Error (RMSE): 4.934275273398852\n",
      "Root Mean Squared Logarithmic Error (RMSLE): 0.5484673975111721\n",
      "\n",
      "Training model for store 4 and family 28...\n"
     ]
    },
    {
     "name": "stderr",
     "output_type": "stream",
     "text": [
      "15:00:12 - cmdstanpy - INFO - Chain [1] done processing\n",
      "15:00:12 - cmdstanpy - INFO - Chain [1] start processing\n"
     ]
    },
    {
     "name": "stdout",
     "output_type": "stream",
     "text": [
      "There are 1 NaN values in the data.\n",
      "Root Mean Squared Error (RMSE): 88.59539149128442\n",
      "Root Mean Squared Logarithmic Error (RMSLE): 0.5279971285082928\n",
      "\n",
      "Training model for store 4 and family 29...\n"
     ]
    },
    {
     "name": "stderr",
     "output_type": "stream",
     "text": [
      "15:00:12 - cmdstanpy - INFO - Chain [1] done processing\n",
      "15:00:12 - cmdstanpy - INFO - Chain [1] start processing\n"
     ]
    },
    {
     "name": "stdout",
     "output_type": "stream",
     "text": [
      "There are 1 NaN values in the data.\n",
      "Root Mean Squared Error (RMSE): 36.6167253334887\n",
      "Root Mean Squared Logarithmic Error (RMSLE): 0.5709509456706588\n",
      "\n",
      "Training model for store 4 and family 30...\n"
     ]
    },
    {
     "name": "stderr",
     "output_type": "stream",
     "text": [
      "15:00:12 - cmdstanpy - INFO - Chain [1] done processing\n",
      "15:00:12 - cmdstanpy - INFO - Chain [1] start processing\n"
     ]
    },
    {
     "name": "stdout",
     "output_type": "stream",
     "text": [
      "There are 1 NaN values in the data.\n",
      "Root Mean Squared Error (RMSE): 1207.9163632369612\n",
      "Root Mean Squared Logarithmic Error (RMSLE): 0.7698612624996124\n",
      "\n",
      "Training model for store 4 and family 31...\n"
     ]
    },
    {
     "name": "stderr",
     "output_type": "stream",
     "text": [
      "15:00:13 - cmdstanpy - INFO - Chain [1] done processing\n",
      "15:00:13 - cmdstanpy - INFO - Chain [1] start processing\n"
     ]
    },
    {
     "name": "stdout",
     "output_type": "stream",
     "text": [
      "There are 1 NaN values in the data.\n",
      "Root Mean Squared Error (RMSE): 1.4185460992691936\n",
      "Root Mean Squared Logarithmic Error (RMSLE): 0.7329441022529379\n",
      "\n",
      "Training model for store 4 and family 32...\n"
     ]
    },
    {
     "name": "stderr",
     "output_type": "stream",
     "text": [
      "15:00:13 - cmdstanpy - INFO - Chain [1] done processing\n",
      "15:00:13 - cmdstanpy - INFO - Chain [1] start processing\n"
     ]
    },
    {
     "name": "stdout",
     "output_type": "stream",
     "text": [
      "There are 1 NaN values in the data.\n",
      "Root Mean Squared Error (RMSE): 9.442202087818995\n",
      "Root Mean Squared Logarithmic Error (RMSLE): 0.4125838821686759\n",
      "\n",
      "Training model for store 40 and family 0...\n"
     ]
    },
    {
     "name": "stderr",
     "output_type": "stream",
     "text": [
      "15:00:13 - cmdstanpy - INFO - Chain [1] done processing\n",
      "15:00:13 - cmdstanpy - INFO - Chain [1] start processing\n"
     ]
    },
    {
     "name": "stdout",
     "output_type": "stream",
     "text": [
      "There are 1 NaN values in the data.\n",
      "Root Mean Squared Error (RMSE): 2.781823779514256\n",
      "Root Mean Squared Logarithmic Error (RMSLE): 0.5613867597904363\n",
      "\n",
      "Training model for store 40 and family 1...\n"
     ]
    },
    {
     "name": "stderr",
     "output_type": "stream",
     "text": [
      "15:00:13 - cmdstanpy - INFO - Chain [1] done processing\n",
      "15:00:14 - cmdstanpy - INFO - Chain [1] start processing\n",
      "15:00:14 - cmdstanpy - INFO - Chain [1] done processing\n"
     ]
    },
    {
     "name": "stdout",
     "output_type": "stream",
     "text": [
      "There are 1 NaN values in the data.\n",
      "Root Mean Squared Error (RMSE): 1.1939115072563684\n",
      "Root Mean Squared Logarithmic Error (RMSLE): 0.6981623941581344\n",
      "\n",
      "Training model for store 40 and family 2...\n"
     ]
    },
    {
     "name": "stderr",
     "output_type": "stream",
     "text": [
      "15:00:14 - cmdstanpy - INFO - Chain [1] start processing\n"
     ]
    },
    {
     "name": "stdout",
     "output_type": "stream",
     "text": [
      "There are 1 NaN values in the data.\n",
      "Root Mean Squared Error (RMSE): 1.7762792072114042\n",
      "Root Mean Squared Logarithmic Error (RMSLE): 0.6139508329898712\n",
      "\n",
      "Training model for store 40 and family 3...\n"
     ]
    },
    {
     "name": "stderr",
     "output_type": "stream",
     "text": [
      "15:00:14 - cmdstanpy - INFO - Chain [1] done processing\n"
     ]
    },
    {
     "name": "stdout",
     "output_type": "stream",
     "text": [
      "There are 1 NaN values in the data.\n",
      "Root Mean Squared Error (RMSE): 1132.3135016857977\n",
      "Root Mean Squared Logarithmic Error (RMSLE): 0.6924600454366386\n",
      "\n",
      "Training model for store 40 and family 4...\n",
      "There are 1 NaN values in the data.\n",
      "Root Mean Squared Error (RMSE): 0.0\n",
      "Root Mean Squared Logarithmic Error (RMSLE): 0.0\n"
     ]
    },
    {
     "name": "stderr",
     "output_type": "stream",
     "text": [
      "15:00:14 - cmdstanpy - INFO - Chain [1] start processing\n",
      "15:00:15 - cmdstanpy - INFO - Chain [1] done processing\n"
     ]
    },
    {
     "name": "stdout",
     "output_type": "stream",
     "text": [
      "\n",
      "Training model for store 40 and family 5...\n"
     ]
    },
    {
     "name": "stderr",
     "output_type": "stream",
     "text": [
      "15:00:15 - cmdstanpy - INFO - Chain [1] start processing\n"
     ]
    },
    {
     "name": "stdout",
     "output_type": "stream",
     "text": [
      "There are 1 NaN values in the data.\n",
      "Root Mean Squared Error (RMSE): 70.51625522612663\n",
      "Root Mean Squared Logarithmic Error (RMSLE): 0.4926246662487618\n",
      "\n",
      "Training model for store 40 and family 6...\n"
     ]
    },
    {
     "name": "stderr",
     "output_type": "stream",
     "text": [
      "15:00:15 - cmdstanpy - INFO - Chain [1] done processing\n",
      "15:00:15 - cmdstanpy - INFO - Chain [1] start processing\n"
     ]
    },
    {
     "name": "stdout",
     "output_type": "stream",
     "text": [
      "There are 1 NaN values in the data.\n",
      "Root Mean Squared Error (RMSE): 10.817937446962976\n",
      "Root Mean Squared Logarithmic Error (RMSLE): 0.7874825272635917\n",
      "\n",
      "Training model for store 40 and family 7...\n"
     ]
    },
    {
     "name": "stderr",
     "output_type": "stream",
     "text": [
      "15:00:15 - cmdstanpy - INFO - Chain [1] done processing\n",
      "15:00:15 - cmdstanpy - INFO - Chain [1] start processing\n"
     ]
    },
    {
     "name": "stdout",
     "output_type": "stream",
     "text": [
      "There are 1 NaN values in the data.\n",
      "Root Mean Squared Error (RMSE): 743.6784885303895\n",
      "Root Mean Squared Logarithmic Error (RMSLE): 0.6532238600421387\n",
      "\n",
      "Training model for store 40 and family 8...\n"
     ]
    },
    {
     "name": "stderr",
     "output_type": "stream",
     "text": [
      "15:00:16 - cmdstanpy - INFO - Chain [1] done processing\n",
      "15:00:16 - cmdstanpy - INFO - Chain [1] start processing\n"
     ]
    },
    {
     "name": "stdout",
     "output_type": "stream",
     "text": [
      "There are 1 NaN values in the data.\n",
      "Root Mean Squared Error (RMSE): 193.6141460146367\n",
      "Root Mean Squared Logarithmic Error (RMSLE): 0.582419615964629\n",
      "\n",
      "Training model for store 40 and family 9...\n"
     ]
    },
    {
     "name": "stderr",
     "output_type": "stream",
     "text": [
      "15:00:16 - cmdstanpy - INFO - Chain [1] done processing\n",
      "15:00:16 - cmdstanpy - INFO - Chain [1] start processing\n"
     ]
    },
    {
     "name": "stdout",
     "output_type": "stream",
     "text": [
      "There are 1 NaN values in the data.\n",
      "Root Mean Squared Error (RMSE): 86.8106295867792\n",
      "Root Mean Squared Logarithmic Error (RMSLE): 0.5094741009757192\n",
      "\n",
      "Training model for store 40 and family 10...\n"
     ]
    },
    {
     "name": "stderr",
     "output_type": "stream",
     "text": [
      "15:00:16 - cmdstanpy - INFO - Chain [1] done processing\n",
      "15:00:16 - cmdstanpy - INFO - Chain [1] start processing\n"
     ]
    },
    {
     "name": "stdout",
     "output_type": "stream",
     "text": [
      "There are 1 NaN values in the data.\n",
      "Root Mean Squared Error (RMSE): 71.9174346876867\n",
      "Root Mean Squared Logarithmic Error (RMSLE): 0.5519114054440596\n",
      "\n",
      "Training model for store 40 and family 11...\n"
     ]
    },
    {
     "name": "stderr",
     "output_type": "stream",
     "text": [
      "15:00:17 - cmdstanpy - INFO - Chain [1] done processing\n",
      "15:00:17 - cmdstanpy - INFO - Chain [1] start processing\n"
     ]
    },
    {
     "name": "stdout",
     "output_type": "stream",
     "text": [
      "There are 1 NaN values in the data.\n",
      "Root Mean Squared Error (RMSE): 133.55524047425817\n",
      "Root Mean Squared Logarithmic Error (RMSLE): 1.1162538843575933\n",
      "\n",
      "Training model for store 40 and family 12...\n"
     ]
    },
    {
     "name": "stderr",
     "output_type": "stream",
     "text": [
      "15:00:17 - cmdstanpy - INFO - Chain [1] done processing\n",
      "15:00:17 - cmdstanpy - INFO - Chain [1] start processing\n"
     ]
    },
    {
     "name": "stdout",
     "output_type": "stream",
     "text": [
      "There are 1 NaN values in the data.\n",
      "Root Mean Squared Error (RMSE): 1282.2389883981095\n",
      "Root Mean Squared Logarithmic Error (RMSLE): 0.6951283867538208\n",
      "\n",
      "Training model for store 40 and family 13...\n"
     ]
    },
    {
     "name": "stderr",
     "output_type": "stream",
     "text": [
      "15:00:17 - cmdstanpy - INFO - Chain [1] done processing\n",
      "15:00:17 - cmdstanpy - INFO - Chain [1] start processing\n"
     ]
    },
    {
     "name": "stdout",
     "output_type": "stream",
     "text": [
      "There are 1 NaN values in the data.\n",
      "Root Mean Squared Error (RMSE): 9.102632889823282\n",
      "Root Mean Squared Logarithmic Error (RMSLE): 0.7776458729430872\n",
      "\n",
      "Training model for store 40 and family 14...\n"
     ]
    },
    {
     "name": "stderr",
     "output_type": "stream",
     "text": [
      "15:00:17 - cmdstanpy - INFO - Chain [1] done processing\n",
      "15:00:18 - cmdstanpy - INFO - Chain [1] start processing\n"
     ]
    },
    {
     "name": "stdout",
     "output_type": "stream",
     "text": [
      "There are 1 NaN values in the data.\n",
      "Root Mean Squared Error (RMSE): 1.639434331356962\n",
      "Root Mean Squared Logarithmic Error (RMSLE): 0.6981079643286363\n",
      "\n",
      "Training model for store 40 and family 15...\n"
     ]
    },
    {
     "name": "stderr",
     "output_type": "stream",
     "text": [
      "15:00:18 - cmdstanpy - INFO - Chain [1] done processing\n",
      "15:00:18 - cmdstanpy - INFO - Chain [1] start processing\n"
     ]
    },
    {
     "name": "stdout",
     "output_type": "stream",
     "text": [
      "There are 1 NaN values in the data.\n",
      "Root Mean Squared Error (RMSE): 22.917792277435847\n",
      "Root Mean Squared Logarithmic Error (RMSLE): 0.7411662211253273\n",
      "\n",
      "Training model for store 40 and family 16...\n"
     ]
    },
    {
     "name": "stderr",
     "output_type": "stream",
     "text": [
      "15:00:18 - cmdstanpy - INFO - Chain [1] done processing\n",
      "15:00:18 - cmdstanpy - INFO - Chain [1] start processing\n"
     ]
    },
    {
     "name": "stdout",
     "output_type": "stream",
     "text": [
      "There are 1 NaN values in the data.\n",
      "Root Mean Squared Error (RMSE): 12.370747571955969\n",
      "Root Mean Squared Logarithmic Error (RMSLE): 0.46522613820138226\n",
      "\n",
      "Training model for store 40 and family 17...\n"
     ]
    },
    {
     "name": "stderr",
     "output_type": "stream",
     "text": [
      "15:00:18 - cmdstanpy - INFO - Chain [1] done processing\n",
      "15:00:19 - cmdstanpy - INFO - Chain [1] start processing\n"
     ]
    },
    {
     "name": "stdout",
     "output_type": "stream",
     "text": [
      "There are 1 NaN values in the data.\n",
      "Root Mean Squared Error (RMSE): 0.47892695276699043\n",
      "Root Mean Squared Logarithmic Error (RMSLE): 0.2932150802022596\n",
      "\n",
      "Training model for store 40 and family 18...\n"
     ]
    },
    {
     "name": "stderr",
     "output_type": "stream",
     "text": [
      "15:00:19 - cmdstanpy - INFO - Chain [1] done processing\n"
     ]
    },
    {
     "name": "stdout",
     "output_type": "stream",
     "text": [
      "There are 1 NaN values in the data.\n",
      "Root Mean Squared Error (RMSE): 131.8585817801555\n",
      "Root Mean Squared Logarithmic Error (RMSLE): 0.567099745104163\n",
      "\n",
      "Training model for store 40 and family 19...\n"
     ]
    },
    {
     "name": "stderr",
     "output_type": "stream",
     "text": [
      "15:00:19 - cmdstanpy - INFO - Chain [1] start processing\n",
      "15:00:19 - cmdstanpy - INFO - Chain [1] done processing\n"
     ]
    },
    {
     "name": "stdout",
     "output_type": "stream",
     "text": [
      "There are 1 NaN values in the data.\n",
      "Root Mean Squared Error (RMSE): 0.0\n",
      "Root Mean Squared Logarithmic Error (RMSLE): 0.0\n",
      "\n",
      "Training model for store 40 and family 20...\n"
     ]
    },
    {
     "name": "stderr",
     "output_type": "stream",
     "text": [
      "15:00:19 - cmdstanpy - INFO - Chain [1] start processing\n"
     ]
    },
    {
     "name": "stdout",
     "output_type": "stream",
     "text": [
      "There are 1 NaN values in the data.\n",
      "Root Mean Squared Error (RMSE): 0.6054285274062609\n",
      "Root Mean Squared Logarithmic Error (RMSLE): 0.3778583584726839\n",
      "\n",
      "Training model for store 40 and family 21...\n"
     ]
    },
    {
     "name": "stderr",
     "output_type": "stream",
     "text": [
      "15:00:19 - cmdstanpy - INFO - Chain [1] done processing\n",
      "15:00:20 - cmdstanpy - INFO - Chain [1] start processing\n"
     ]
    },
    {
     "name": "stdout",
     "output_type": "stream",
     "text": [
      "There are 1 NaN values in the data.\n",
      "Root Mean Squared Error (RMSE): 6.742857099682764\n",
      "Root Mean Squared Logarithmic Error (RMSLE): 0.8309535018153102\n",
      "\n",
      "Training model for store 40 and family 22...\n"
     ]
    },
    {
     "name": "stderr",
     "output_type": "stream",
     "text": [
      "15:00:20 - cmdstanpy - INFO - Chain [1] done processing\n",
      "15:00:20 - cmdstanpy - INFO - Chain [1] start processing\n"
     ]
    },
    {
     "name": "stdout",
     "output_type": "stream",
     "text": [
      "There are 1 NaN values in the data.\n",
      "Root Mean Squared Error (RMSE): 103.92632686609659\n",
      "Root Mean Squared Logarithmic Error (RMSLE): 1.7356632492438282\n",
      "\n",
      "Training model for store 40 and family 23...\n"
     ]
    },
    {
     "name": "stderr",
     "output_type": "stream",
     "text": [
      "15:00:20 - cmdstanpy - INFO - Chain [1] done processing\n",
      "15:00:20 - cmdstanpy - INFO - Chain [1] start processing\n",
      "15:00:20 - cmdstanpy - INFO - Chain [1] done processing\n"
     ]
    },
    {
     "name": "stdout",
     "output_type": "stream",
     "text": [
      "There are 1 NaN values in the data.\n",
      "Root Mean Squared Error (RMSE): 2.025293630735423\n",
      "Root Mean Squared Logarithmic Error (RMSLE): 0.7352507160097421\n",
      "\n",
      "Training model for store 40 and family 24...\n"
     ]
    },
    {
     "name": "stderr",
     "output_type": "stream",
     "text": [
      "15:00:21 - cmdstanpy - INFO - Chain [1] start processing\n",
      "15:00:21 - cmdstanpy - INFO - Chain [1] done processing\n"
     ]
    },
    {
     "name": "stdout",
     "output_type": "stream",
     "text": [
      "There are 1 NaN values in the data.\n",
      "Root Mean Squared Error (RMSE): 34.91143036666934\n",
      "Root Mean Squared Logarithmic Error (RMSLE): 0.4511686927271228\n",
      "\n",
      "Training model for store 40 and family 25...\n"
     ]
    },
    {
     "name": "stderr",
     "output_type": "stream",
     "text": [
      "15:00:21 - cmdstanpy - INFO - Chain [1] start processing\n"
     ]
    },
    {
     "name": "stdout",
     "output_type": "stream",
     "text": [
      "There are 1 NaN values in the data.\n",
      "Root Mean Squared Error (RMSE): 165.01024318799406\n",
      "Root Mean Squared Logarithmic Error (RMSLE): 0.542171859023401\n",
      "\n",
      "Training model for store 40 and family 26...\n"
     ]
    },
    {
     "name": "stderr",
     "output_type": "stream",
     "text": [
      "15:00:21 - cmdstanpy - INFO - Chain [1] done processing\n",
      "15:00:21 - cmdstanpy - INFO - Chain [1] start processing\n"
     ]
    },
    {
     "name": "stdout",
     "output_type": "stream",
     "text": [
      "There are 1 NaN values in the data.\n",
      "Root Mean Squared Error (RMSE): 2.743666033047719\n",
      "Root Mean Squared Logarithmic Error (RMSLE): 0.6313816297027218\n",
      "\n",
      "Training model for store 40 and family 27...\n"
     ]
    },
    {
     "name": "stderr",
     "output_type": "stream",
     "text": [
      "15:00:21 - cmdstanpy - INFO - Chain [1] done processing\n",
      "15:00:22 - cmdstanpy - INFO - Chain [1] start processing\n"
     ]
    },
    {
     "name": "stdout",
     "output_type": "stream",
     "text": [
      "There are 1 NaN values in the data.\n",
      "Root Mean Squared Error (RMSE): 4.757357756653134\n",
      "Root Mean Squared Logarithmic Error (RMSLE): 0.4949288011129038\n",
      "\n",
      "Training model for store 40 and family 28...\n"
     ]
    },
    {
     "name": "stderr",
     "output_type": "stream",
     "text": [
      "15:00:22 - cmdstanpy - INFO - Chain [1] done processing\n",
      "15:00:22 - cmdstanpy - INFO - Chain [1] start processing\n"
     ]
    },
    {
     "name": "stdout",
     "output_type": "stream",
     "text": [
      "There are 1 NaN values in the data.\n",
      "Root Mean Squared Error (RMSE): 100.42585722759571\n",
      "Root Mean Squared Logarithmic Error (RMSLE): 0.5402842436382\n",
      "\n",
      "Training model for store 40 and family 29...\n"
     ]
    },
    {
     "name": "stderr",
     "output_type": "stream",
     "text": [
      "15:00:22 - cmdstanpy - INFO - Chain [1] done processing\n",
      "15:00:22 - cmdstanpy - INFO - Chain [1] start processing\n"
     ]
    },
    {
     "name": "stdout",
     "output_type": "stream",
     "text": [
      "There are 1 NaN values in the data.\n",
      "Root Mean Squared Error (RMSE): 20.314365391755615\n",
      "Root Mean Squared Logarithmic Error (RMSLE): 0.45391261562717894\n",
      "\n",
      "Training model for store 40 and family 30...\n"
     ]
    },
    {
     "name": "stderr",
     "output_type": "stream",
     "text": [
      "15:00:22 - cmdstanpy - INFO - Chain [1] done processing\n",
      "15:00:22 - cmdstanpy - INFO - Chain [1] start processing\n"
     ]
    },
    {
     "name": "stdout",
     "output_type": "stream",
     "text": [
      "There are 1 NaN values in the data.\n",
      "Root Mean Squared Error (RMSE): 452.50705614883697\n",
      "Root Mean Squared Logarithmic Error (RMSLE): 0.6607980809027759\n",
      "\n",
      "Training model for store 40 and family 31...\n"
     ]
    },
    {
     "name": "stderr",
     "output_type": "stream",
     "text": [
      "15:00:23 - cmdstanpy - INFO - Chain [1] done processing\n",
      "15:00:23 - cmdstanpy - INFO - Chain [1] start processing\n",
      "15:00:23 - cmdstanpy - INFO - Chain [1] done processing\n"
     ]
    },
    {
     "name": "stdout",
     "output_type": "stream",
     "text": [
      "There are 1 NaN values in the data.\n",
      "Root Mean Squared Error (RMSE): 18.442271706833566\n",
      "Root Mean Squared Logarithmic Error (RMSLE): 1.8341004787271469\n",
      "\n",
      "Training model for store 40 and family 32...\n"
     ]
    },
    {
     "name": "stderr",
     "output_type": "stream",
     "text": [
      "15:00:23 - cmdstanpy - INFO - Chain [1] start processing\n"
     ]
    },
    {
     "name": "stdout",
     "output_type": "stream",
     "text": [
      "There are 1 NaN values in the data.\n",
      "Root Mean Squared Error (RMSE): 4.627410892230419\n",
      "Root Mean Squared Logarithmic Error (RMSLE): 0.707060991241748\n",
      "\n",
      "Training model for store 41 and family 0...\n"
     ]
    },
    {
     "name": "stderr",
     "output_type": "stream",
     "text": [
      "15:00:23 - cmdstanpy - INFO - Chain [1] done processing\n",
      "15:00:23 - cmdstanpy - INFO - Chain [1] start processing\n"
     ]
    },
    {
     "name": "stdout",
     "output_type": "stream",
     "text": [
      "There are 1 NaN values in the data.\n",
      "Root Mean Squared Error (RMSE): 3.3697437327335806\n",
      "Root Mean Squared Logarithmic Error (RMSLE): 0.5016756370316786\n",
      "\n",
      "Training model for store 41 and family 1...\n"
     ]
    },
    {
     "name": "stderr",
     "output_type": "stream",
     "text": [
      "15:00:23 - cmdstanpy - INFO - Chain [1] done processing\n",
      "15:00:24 - cmdstanpy - INFO - Chain [1] start processing\n"
     ]
    },
    {
     "name": "stdout",
     "output_type": "stream",
     "text": [
      "There are 1 NaN values in the data.\n",
      "Root Mean Squared Error (RMSE): 0.4949258475393078\n",
      "Root Mean Squared Logarithmic Error (RMSLE): 0.2733589763681323\n",
      "\n",
      "Training model for store 41 and family 2...\n"
     ]
    },
    {
     "name": "stderr",
     "output_type": "stream",
     "text": [
      "15:00:24 - cmdstanpy - INFO - Chain [1] done processing\n",
      "15:00:24 - cmdstanpy - INFO - Chain [1] start processing\n"
     ]
    },
    {
     "name": "stdout",
     "output_type": "stream",
     "text": [
      "There are 1 NaN values in the data.\n",
      "Root Mean Squared Error (RMSE): 3.3621493984278468\n",
      "Root Mean Squared Logarithmic Error (RMSLE): 0.4959442075174601\n",
      "\n",
      "Training model for store 41 and family 3...\n"
     ]
    },
    {
     "name": "stderr",
     "output_type": "stream",
     "text": [
      "15:00:24 - cmdstanpy - INFO - Chain [1] done processing\n"
     ]
    },
    {
     "name": "stdout",
     "output_type": "stream",
     "text": [
      "There are 1 NaN values in the data.\n",
      "Root Mean Squared Error (RMSE): 1065.9809884624929\n",
      "Root Mean Squared Logarithmic Error (RMSLE): 0.6989289359333966\n",
      "\n",
      "Training model for store 41 and family 4...\n",
      "There are 1 NaN values in the data.\n",
      "Root Mean Squared Error (RMSE): 0.4772951402304176\n",
      "Root Mean Squared Logarithmic Error (RMSLE): 0.28360689451573246\n"
     ]
    },
    {
     "name": "stderr",
     "output_type": "stream",
     "text": [
      "15:00:24 - cmdstanpy - INFO - Chain [1] start processing\n",
      "15:00:24 - cmdstanpy - INFO - Chain [1] done processing\n"
     ]
    },
    {
     "name": "stdout",
     "output_type": "stream",
     "text": [
      "\n",
      "Training model for store 41 and family 5...\n",
      "There are 1 NaN values in the data.\n",
      "Root Mean Squared Error (RMSE): 94.03300775730987\n",
      "Root Mean Squared Logarithmic Error (RMSLE): 0.5320215637278879\n"
     ]
    },
    {
     "name": "stderr",
     "output_type": "stream",
     "text": [
      "15:00:25 - cmdstanpy - INFO - Chain [1] start processing\n",
      "15:00:25 - cmdstanpy - INFO - Chain [1] done processing\n"
     ]
    },
    {
     "name": "stdout",
     "output_type": "stream",
     "text": [
      "\n",
      "Training model for store 41 and family 6...\n",
      "There are 1 NaN values in the data.\n",
      "Root Mean Squared Error (RMSE): 10.745751678513384\n",
      "Root Mean Squared Logarithmic Error (RMSLE): 0.833351872731677\n"
     ]
    },
    {
     "name": "stderr",
     "output_type": "stream",
     "text": [
      "15:00:25 - cmdstanpy - INFO - Chain [1] start processing\n",
      "15:00:25 - cmdstanpy - INFO - Chain [1] done processing\n"
     ]
    },
    {
     "name": "stdout",
     "output_type": "stream",
     "text": [
      "\n",
      "Training model for store 41 and family 7...\n",
      "There are 1 NaN values in the data.\n",
      "Root Mean Squared Error (RMSE): 651.8862636497355\n",
      "Root Mean Squared Logarithmic Error (RMSLE): 0.6864098358698291\n"
     ]
    },
    {
     "name": "stderr",
     "output_type": "stream",
     "text": [
      "15:00:25 - cmdstanpy - INFO - Chain [1] start processing\n",
      "15:00:25 - cmdstanpy - INFO - Chain [1] done processing\n"
     ]
    },
    {
     "name": "stdout",
     "output_type": "stream",
     "text": [
      "\n",
      "Training model for store 41 and family 8...\n",
      "There are 1 NaN values in the data.\n",
      "Root Mean Squared Error (RMSE): 147.6591749504166\n",
      "Root Mean Squared Logarithmic Error (RMSLE): 0.559643342165424\n"
     ]
    },
    {
     "name": "stderr",
     "output_type": "stream",
     "text": [
      "15:00:26 - cmdstanpy - INFO - Chain [1] start processing\n",
      "15:00:26 - cmdstanpy - INFO - Chain [1] done processing\n"
     ]
    },
    {
     "name": "stdout",
     "output_type": "stream",
     "text": [
      "\n",
      "Training model for store 41 and family 9...\n"
     ]
    },
    {
     "name": "stderr",
     "output_type": "stream",
     "text": [
      "15:00:26 - cmdstanpy - INFO - Chain [1] start processing\n"
     ]
    },
    {
     "name": "stdout",
     "output_type": "stream",
     "text": [
      "There are 1 NaN values in the data.\n",
      "Root Mean Squared Error (RMSE): 66.81842393282437\n",
      "Root Mean Squared Logarithmic Error (RMSLE): 0.5175866167916775\n",
      "\n",
      "Training model for store 41 and family 10...\n"
     ]
    },
    {
     "name": "stderr",
     "output_type": "stream",
     "text": [
      "15:00:26 - cmdstanpy - INFO - Chain [1] done processing\n",
      "15:00:26 - cmdstanpy - INFO - Chain [1] start processing\n"
     ]
    },
    {
     "name": "stdout",
     "output_type": "stream",
     "text": [
      "There are 1 NaN values in the data.\n",
      "Root Mean Squared Error (RMSE): 41.44654869764964\n",
      "Root Mean Squared Logarithmic Error (RMSLE): 0.5138435764696585\n",
      "\n",
      "Training model for store 41 and family 11...\n"
     ]
    },
    {
     "name": "stderr",
     "output_type": "stream",
     "text": [
      "15:00:26 - cmdstanpy - INFO - Chain [1] done processing\n",
      "15:00:27 - cmdstanpy - INFO - Chain [1] start processing\n"
     ]
    },
    {
     "name": "stdout",
     "output_type": "stream",
     "text": [
      "There are 1 NaN values in the data.\n",
      "Root Mean Squared Error (RMSE): 285.040661515308\n",
      "Root Mean Squared Logarithmic Error (RMSLE): 1.0679985524117537\n",
      "\n",
      "Training model for store 41 and family 12...\n"
     ]
    },
    {
     "name": "stderr",
     "output_type": "stream",
     "text": [
      "15:00:27 - cmdstanpy - INFO - Chain [1] done processing\n",
      "15:00:27 - cmdstanpy - INFO - Chain [1] start processing\n"
     ]
    },
    {
     "name": "stdout",
     "output_type": "stream",
     "text": [
      "There are 1 NaN values in the data.\n",
      "Root Mean Squared Error (RMSE): 1239.2841203376563\n",
      "Root Mean Squared Logarithmic Error (RMSLE): 0.7102930691483319\n",
      "\n",
      "Training model for store 41 and family 13...\n"
     ]
    },
    {
     "name": "stderr",
     "output_type": "stream",
     "text": [
      "15:00:27 - cmdstanpy - INFO - Chain [1] done processing\n",
      "15:00:27 - cmdstanpy - INFO - Chain [1] start processing\n"
     ]
    },
    {
     "name": "stdout",
     "output_type": "stream",
     "text": [
      "There are 1 NaN values in the data.\n",
      "Root Mean Squared Error (RMSE): 20.995549545456004\n",
      "Root Mean Squared Logarithmic Error (RMSLE): 0.7374558516274857\n",
      "\n",
      "Training model for store 41 and family 14...\n"
     ]
    },
    {
     "name": "stderr",
     "output_type": "stream",
     "text": [
      "15:00:27 - cmdstanpy - INFO - Chain [1] done processing\n",
      "15:00:27 - cmdstanpy - INFO - Chain [1] start processing\n"
     ]
    },
    {
     "name": "stdout",
     "output_type": "stream",
     "text": [
      "There are 1 NaN values in the data.\n",
      "Root Mean Squared Error (RMSE): 1.236567017719372\n",
      "Root Mean Squared Logarithmic Error (RMSLE): 0.541621381656124\n",
      "\n",
      "Training model for store 41 and family 15...\n"
     ]
    },
    {
     "name": "stderr",
     "output_type": "stream",
     "text": [
      "15:00:28 - cmdstanpy - INFO - Chain [1] done processing\n",
      "15:00:28 - cmdstanpy - INFO - Chain [1] start processing\n"
     ]
    },
    {
     "name": "stdout",
     "output_type": "stream",
     "text": [
      "There are 1 NaN values in the data.\n",
      "Root Mean Squared Error (RMSE): 14.988882739380267\n",
      "Root Mean Squared Logarithmic Error (RMSLE): 0.5900224909389788\n",
      "\n",
      "Training model for store 41 and family 16...\n"
     ]
    },
    {
     "name": "stderr",
     "output_type": "stream",
     "text": [
      "15:00:28 - cmdstanpy - INFO - Chain [1] done processing\n",
      "15:00:28 - cmdstanpy - INFO - Chain [1] start processing\n"
     ]
    },
    {
     "name": "stdout",
     "output_type": "stream",
     "text": [
      "There are 1 NaN values in the data.\n",
      "Root Mean Squared Error (RMSE): 32.53821192557997\n",
      "Root Mean Squared Logarithmic Error (RMSLE): 2.611230219300525\n",
      "\n",
      "Training model for store 41 and family 17...\n"
     ]
    },
    {
     "name": "stderr",
     "output_type": "stream",
     "text": [
      "15:00:28 - cmdstanpy - INFO - Chain [1] done processing\n",
      "15:00:28 - cmdstanpy - INFO - Chain [1] start processing\n"
     ]
    },
    {
     "name": "stdout",
     "output_type": "stream",
     "text": [
      "There are 1 NaN values in the data.\n",
      "Root Mean Squared Error (RMSE): 0.717474052501411\n",
      "Root Mean Squared Logarithmic Error (RMSLE): 0.40319507748379185\n",
      "\n",
      "Training model for store 41 and family 18...\n"
     ]
    },
    {
     "name": "stderr",
     "output_type": "stream",
     "text": [
      "15:00:29 - cmdstanpy - INFO - Chain [1] done processing\n",
      "15:00:29 - cmdstanpy - INFO - Chain [1] start processing\n"
     ]
    },
    {
     "name": "stdout",
     "output_type": "stream",
     "text": [
      "There are 1 NaN values in the data.\n",
      "Root Mean Squared Error (RMSE): 98.15217789421247\n",
      "Root Mean Squared Logarithmic Error (RMSLE): 0.5394705551214868\n",
      "\n",
      "Training model for store 41 and family 19...\n"
     ]
    },
    {
     "name": "stderr",
     "output_type": "stream",
     "text": [
      "15:00:29 - cmdstanpy - INFO - Chain [1] done processing\n",
      "15:00:29 - cmdstanpy - INFO - Chain [1] start processing\n"
     ]
    },
    {
     "name": "stdout",
     "output_type": "stream",
     "text": [
      "There are 1 NaN values in the data.\n",
      "Root Mean Squared Error (RMSE): 10.373101788333333\n",
      "Root Mean Squared Logarithmic Error (RMSLE): 0.8028661925192333\n",
      "\n",
      "Training model for store 41 and family 20...\n"
     ]
    },
    {
     "name": "stderr",
     "output_type": "stream",
     "text": [
      "15:00:29 - cmdstanpy - INFO - Chain [1] done processing\n",
      "15:00:29 - cmdstanpy - INFO - Chain [1] start processing\n"
     ]
    },
    {
     "name": "stdout",
     "output_type": "stream",
     "text": [
      "There are 1 NaN values in the data.\n",
      "Root Mean Squared Error (RMSE): 24.99346358796691\n",
      "Root Mean Squared Logarithmic Error (RMSLE): 0.933155179923252\n",
      "\n",
      "Training model for store 41 and family 21...\n"
     ]
    },
    {
     "name": "stderr",
     "output_type": "stream",
     "text": [
      "15:00:30 - cmdstanpy - INFO - Chain [1] done processing\n"
     ]
    },
    {
     "name": "stdout",
     "output_type": "stream",
     "text": [
      "There are 1 NaN values in the data.\n",
      "Root Mean Squared Error (RMSE): 7.049244634019363\n",
      "Root Mean Squared Logarithmic Error (RMSLE): 1.449597158704023\n",
      "\n",
      "Training model for store 41 and family 22...\n"
     ]
    },
    {
     "name": "stderr",
     "output_type": "stream",
     "text": [
      "15:00:30 - cmdstanpy - INFO - Chain [1] start processing\n",
      "15:00:30 - cmdstanpy - INFO - Chain [1] done processing\n",
      "15:00:30 - cmdstanpy - INFO - Chain [1] start processing\n"
     ]
    },
    {
     "name": "stdout",
     "output_type": "stream",
     "text": [
      "There are 1 NaN values in the data.\n",
      "Root Mean Squared Error (RMSE): 71.74906131188003\n",
      "Root Mean Squared Logarithmic Error (RMSLE): 1.0095035321494263\n",
      "\n",
      "Training model for store 41 and family 23...\n"
     ]
    },
    {
     "name": "stderr",
     "output_type": "stream",
     "text": [
      "15:00:30 - cmdstanpy - INFO - Chain [1] done processing\n",
      "15:00:30 - cmdstanpy - INFO - Chain [1] start processing\n"
     ]
    },
    {
     "name": "stdout",
     "output_type": "stream",
     "text": [
      "There are 1 NaN values in the data.\n",
      "Root Mean Squared Error (RMSE): 6.141133118698691\n",
      "Root Mean Squared Logarithmic Error (RMSLE): 0.5762772780520227\n",
      "\n",
      "Training model for store 41 and family 24...\n"
     ]
    },
    {
     "name": "stderr",
     "output_type": "stream",
     "text": [
      "15:00:31 - cmdstanpy - INFO - Chain [1] done processing\n"
     ]
    },
    {
     "name": "stdout",
     "output_type": "stream",
     "text": [
      "There are 1 NaN values in the data.\n",
      "Root Mean Squared Error (RMSE): 58.613735703709736\n",
      "Root Mean Squared Logarithmic Error (RMSLE): 0.4838275201632285\n",
      "\n",
      "Training model for store 41 and family 25...\n"
     ]
    },
    {
     "name": "stderr",
     "output_type": "stream",
     "text": [
      "15:00:31 - cmdstanpy - INFO - Chain [1] start processing\n",
      "15:00:31 - cmdstanpy - INFO - Chain [1] done processing\n",
      "15:00:31 - cmdstanpy - INFO - Chain [1] start processing\n",
      "15:00:31 - cmdstanpy - INFO - Chain [1] done processing\n"
     ]
    },
    {
     "name": "stdout",
     "output_type": "stream",
     "text": [
      "There are 1 NaN values in the data.\n",
      "Root Mean Squared Error (RMSE): 272.6642374863807\n",
      "Root Mean Squared Logarithmic Error (RMSLE): 0.6567949196587558\n",
      "\n",
      "Training model for store 41 and family 26...\n"
     ]
    },
    {
     "name": "stderr",
     "output_type": "stream",
     "text": [
      "15:00:31 - cmdstanpy - INFO - Chain [1] start processing\n"
     ]
    },
    {
     "name": "stdout",
     "output_type": "stream",
     "text": [
      "There are 1 NaN values in the data.\n",
      "Root Mean Squared Error (RMSE): 4.883385802207839\n",
      "Root Mean Squared Logarithmic Error (RMSLE): 0.48427653329767956\n",
      "\n",
      "Training model for store 41 and family 27...\n"
     ]
    },
    {
     "name": "stderr",
     "output_type": "stream",
     "text": [
      "15:00:32 - cmdstanpy - INFO - Chain [1] done processing\n",
      "15:00:32 - cmdstanpy - INFO - Chain [1] start processing\n"
     ]
    },
    {
     "name": "stdout",
     "output_type": "stream",
     "text": [
      "There are 1 NaN values in the data.\n",
      "Root Mean Squared Error (RMSE): 5.747831627115511\n",
      "Root Mean Squared Logarithmic Error (RMSLE): 0.6322082035889828\n",
      "\n",
      "Training model for store 41 and family 28...\n"
     ]
    },
    {
     "name": "stderr",
     "output_type": "stream",
     "text": [
      "15:00:32 - cmdstanpy - INFO - Chain [1] done processing\n",
      "15:00:32 - cmdstanpy - INFO - Chain [1] start processing\n"
     ]
    },
    {
     "name": "stdout",
     "output_type": "stream",
     "text": [
      "There are 1 NaN values in the data.\n",
      "Root Mean Squared Error (RMSE): 62.0159325720541\n",
      "Root Mean Squared Logarithmic Error (RMSLE): 0.49737543970033604\n",
      "\n",
      "Training model for store 41 and family 29...\n"
     ]
    },
    {
     "name": "stderr",
     "output_type": "stream",
     "text": [
      "15:00:32 - cmdstanpy - INFO - Chain [1] done processing\n",
      "15:00:32 - cmdstanpy - INFO - Chain [1] start processing\n"
     ]
    },
    {
     "name": "stdout",
     "output_type": "stream",
     "text": [
      "There are 1 NaN values in the data.\n",
      "Root Mean Squared Error (RMSE): 19.85046282286172\n",
      "Root Mean Squared Logarithmic Error (RMSLE): 0.45595020446026974\n",
      "\n",
      "Training model for store 41 and family 30...\n"
     ]
    },
    {
     "name": "stderr",
     "output_type": "stream",
     "text": [
      "15:00:33 - cmdstanpy - INFO - Chain [1] done processing\n",
      "15:00:33 - cmdstanpy - INFO - Chain [1] start processing\n"
     ]
    },
    {
     "name": "stdout",
     "output_type": "stream",
     "text": [
      "There are 1 NaN values in the data.\n",
      "Root Mean Squared Error (RMSE): 737.3560171051332\n",
      "Root Mean Squared Logarithmic Error (RMSLE): 0.6972197234418291\n",
      "\n",
      "Training model for store 41 and family 31...\n"
     ]
    },
    {
     "name": "stderr",
     "output_type": "stream",
     "text": [
      "15:00:33 - cmdstanpy - INFO - Chain [1] done processing\n",
      "15:00:33 - cmdstanpy - INFO - Chain [1] start processing\n"
     ]
    },
    {
     "name": "stdout",
     "output_type": "stream",
     "text": [
      "There are 1 NaN values in the data.\n",
      "Root Mean Squared Error (RMSE): 9.43070314125778\n",
      "Root Mean Squared Logarithmic Error (RMSLE): 0.763597036562079\n",
      "\n",
      "Training model for store 41 and family 32...\n"
     ]
    },
    {
     "name": "stderr",
     "output_type": "stream",
     "text": [
      "15:00:33 - cmdstanpy - INFO - Chain [1] done processing\n",
      "15:00:33 - cmdstanpy - INFO - Chain [1] start processing\n"
     ]
    },
    {
     "name": "stdout",
     "output_type": "stream",
     "text": [
      "There are 1 NaN values in the data.\n",
      "Root Mean Squared Error (RMSE): 4.708061528974361\n",
      "Root Mean Squared Logarithmic Error (RMSLE): 0.5792548194701731\n",
      "\n",
      "Training model for store 42 and family 0...\n"
     ]
    },
    {
     "name": "stderr",
     "output_type": "stream",
     "text": [
      "15:00:33 - cmdstanpy - INFO - Chain [1] done processing\n",
      "15:00:34 - cmdstanpy - INFO - Chain [1] start processing\n"
     ]
    },
    {
     "name": "stdout",
     "output_type": "stream",
     "text": [
      "There are 1 NaN values in the data.\n",
      "Root Mean Squared Error (RMSE): 3.7879654524407504\n",
      "Root Mean Squared Logarithmic Error (RMSLE): 0.842814335698087\n",
      "\n",
      "Training model for store 42 and family 1...\n"
     ]
    },
    {
     "name": "stderr",
     "output_type": "stream",
     "text": [
      "15:00:34 - cmdstanpy - INFO - Chain [1] done processing\n",
      "15:00:34 - cmdstanpy - INFO - Chain [1] start processing\n"
     ]
    },
    {
     "name": "stdout",
     "output_type": "stream",
     "text": [
      "There are 1 NaN values in the data.\n",
      "Root Mean Squared Error (RMSE): 0.3023880678452078\n",
      "Root Mean Squared Logarithmic Error (RMSLE): 0.22260101271765004\n",
      "\n",
      "Training model for store 42 and family 2...\n"
     ]
    },
    {
     "name": "stderr",
     "output_type": "stream",
     "text": [
      "15:00:34 - cmdstanpy - INFO - Chain [1] done processing\n",
      "15:00:34 - cmdstanpy - INFO - Chain [1] start processing\n"
     ]
    },
    {
     "name": "stdout",
     "output_type": "stream",
     "text": [
      "There are 1 NaN values in the data.\n",
      "Root Mean Squared Error (RMSE): 3.6788293448822924\n",
      "Root Mean Squared Logarithmic Error (RMSLE): 0.6174708058403151\n",
      "\n",
      "Training model for store 42 and family 3...\n"
     ]
    },
    {
     "name": "stderr",
     "output_type": "stream",
     "text": [
      "15:00:35 - cmdstanpy - INFO - Chain [1] done processing\n"
     ]
    },
    {
     "name": "stdout",
     "output_type": "stream",
     "text": [
      "There are 1 NaN values in the data.\n",
      "Root Mean Squared Error (RMSE): 915.1633183730474\n",
      "Root Mean Squared Logarithmic Error (RMSLE): 0.6712431055114796\n",
      "\n",
      "Training model for store 42 and family 4...\n",
      "There are 1 NaN values in the data.\n",
      "Root Mean Squared Error (RMSE): 1.885007808437361\n",
      "Root Mean Squared Logarithmic Error (RMSLE): 0.7344967966713938\n"
     ]
    },
    {
     "name": "stderr",
     "output_type": "stream",
     "text": [
      "15:00:35 - cmdstanpy - INFO - Chain [1] start processing\n"
     ]
    },
    {
     "name": "stdout",
     "output_type": "stream",
     "text": [
      "\n",
      "Training model for store 42 and family 5...\n"
     ]
    },
    {
     "name": "stderr",
     "output_type": "stream",
     "text": [
      "15:00:35 - cmdstanpy - INFO - Chain [1] done processing\n",
      "15:00:35 - cmdstanpy - INFO - Chain [1] start processing\n"
     ]
    },
    {
     "name": "stdout",
     "output_type": "stream",
     "text": [
      "There are 1 NaN values in the data.\n",
      "Root Mean Squared Error (RMSE): 132.0082055304406\n",
      "Root Mean Squared Logarithmic Error (RMSLE): 0.5459783749758784\n",
      "\n",
      "Training model for store 42 and family 6...\n"
     ]
    },
    {
     "name": "stderr",
     "output_type": "stream",
     "text": [
      "15:00:35 - cmdstanpy - INFO - Chain [1] done processing\n",
      "15:00:36 - cmdstanpy - INFO - Chain [1] start processing\n"
     ]
    },
    {
     "name": "stdout",
     "output_type": "stream",
     "text": [
      "There are 1 NaN values in the data.\n",
      "Root Mean Squared Error (RMSE): 6.995562305742125\n",
      "Root Mean Squared Logarithmic Error (RMSLE): 0.5593318920844229\n",
      "\n",
      "Training model for store 42 and family 7...\n"
     ]
    },
    {
     "name": "stderr",
     "output_type": "stream",
     "text": [
      "15:00:36 - cmdstanpy - INFO - Chain [1] done processing\n",
      "15:00:36 - cmdstanpy - INFO - Chain [1] start processing\n"
     ]
    },
    {
     "name": "stdout",
     "output_type": "stream",
     "text": [
      "There are 1 NaN values in the data.\n",
      "Root Mean Squared Error (RMSE): 266.00216731134907\n",
      "Root Mean Squared Logarithmic Error (RMSLE): 0.5840300246754009\n",
      "\n",
      "Training model for store 42 and family 8...\n"
     ]
    },
    {
     "name": "stderr",
     "output_type": "stream",
     "text": [
      "15:00:36 - cmdstanpy - INFO - Chain [1] done processing\n",
      "15:00:36 - cmdstanpy - INFO - Chain [1] start processing\n"
     ]
    },
    {
     "name": "stdout",
     "output_type": "stream",
     "text": [
      "There are 1 NaN values in the data.\n",
      "Root Mean Squared Error (RMSE): 257.2375753224082\n",
      "Root Mean Squared Logarithmic Error (RMSLE): 0.57587379317286\n",
      "\n",
      "Training model for store 42 and family 9...\n"
     ]
    },
    {
     "name": "stderr",
     "output_type": "stream",
     "text": [
      "15:00:36 - cmdstanpy - INFO - Chain [1] done processing\n",
      "15:00:37 - cmdstanpy - INFO - Chain [1] start processing\n"
     ]
    },
    {
     "name": "stdout",
     "output_type": "stream",
     "text": [
      "There are 1 NaN values in the data.\n",
      "Root Mean Squared Error (RMSE): 45.523550988846175\n",
      "Root Mean Squared Logarithmic Error (RMSLE): 0.4601008660372296\n",
      "\n",
      "Training model for store 42 and family 10...\n"
     ]
    },
    {
     "name": "stderr",
     "output_type": "stream",
     "text": [
      "15:00:37 - cmdstanpy - INFO - Chain [1] done processing\n",
      "15:00:37 - cmdstanpy - INFO - Chain [1] start processing\n"
     ]
    },
    {
     "name": "stdout",
     "output_type": "stream",
     "text": [
      "There are 1 NaN values in the data.\n",
      "Root Mean Squared Error (RMSE): 38.978625230262196\n",
      "Root Mean Squared Logarithmic Error (RMSLE): 0.45092251216847157\n",
      "\n",
      "Training model for store 42 and family 11...\n"
     ]
    },
    {
     "name": "stderr",
     "output_type": "stream",
     "text": [
      "15:00:37 - cmdstanpy - INFO - Chain [1] done processing\n",
      "15:00:37 - cmdstanpy - INFO - Chain [1] start processing\n"
     ]
    },
    {
     "name": "stdout",
     "output_type": "stream",
     "text": [
      "There are 1 NaN values in the data.\n",
      "Root Mean Squared Error (RMSE): 193.7930348694337\n",
      "Root Mean Squared Logarithmic Error (RMSLE): 3.7352816667507898\n",
      "\n",
      "Training model for store 42 and family 12...\n"
     ]
    },
    {
     "name": "stderr",
     "output_type": "stream",
     "text": [
      "15:00:37 - cmdstanpy - INFO - Chain [1] done processing\n",
      "15:00:38 - cmdstanpy - INFO - Chain [1] start processing\n"
     ]
    },
    {
     "name": "stdout",
     "output_type": "stream",
     "text": [
      "There are 1 NaN values in the data.\n",
      "Root Mean Squared Error (RMSE): 1089.158198261546\n",
      "Root Mean Squared Logarithmic Error (RMSLE): 0.6852801496020062\n",
      "\n",
      "Training model for store 42 and family 13...\n"
     ]
    },
    {
     "name": "stderr",
     "output_type": "stream",
     "text": [
      "15:00:38 - cmdstanpy - INFO - Chain [1] done processing\n",
      "15:00:38 - cmdstanpy - INFO - Chain [1] start processing\n",
      "15:00:38 - cmdstanpy - INFO - Chain [1] done processing\n"
     ]
    },
    {
     "name": "stdout",
     "output_type": "stream",
     "text": [
      "There are 1 NaN values in the data.\n",
      "Root Mean Squared Error (RMSE): 23.6048221955434\n",
      "Root Mean Squared Logarithmic Error (RMSLE): 1.000830310068044\n",
      "\n",
      "Training model for store 42 and family 14...\n"
     ]
    },
    {
     "name": "stderr",
     "output_type": "stream",
     "text": [
      "15:00:38 - cmdstanpy - INFO - Chain [1] start processing\n"
     ]
    },
    {
     "name": "stdout",
     "output_type": "stream",
     "text": [
      "There are 1 NaN values in the data.\n",
      "Root Mean Squared Error (RMSE): 1.7987443541170445\n",
      "Root Mean Squared Logarithmic Error (RMSLE): 0.8490038848186776\n",
      "\n",
      "Training model for store 42 and family 15...\n"
     ]
    },
    {
     "name": "stderr",
     "output_type": "stream",
     "text": [
      "15:00:38 - cmdstanpy - INFO - Chain [1] done processing\n"
     ]
    },
    {
     "name": "stdout",
     "output_type": "stream",
     "text": [
      "There are 1 NaN values in the data.\n",
      "Root Mean Squared Error (RMSE): 17.43028215351257\n",
      "Root Mean Squared Logarithmic Error (RMSLE): 0.6509221432683375\n",
      "\n",
      "Training model for store 42 and family 16...\n"
     ]
    },
    {
     "name": "stderr",
     "output_type": "stream",
     "text": [
      "15:00:39 - cmdstanpy - INFO - Chain [1] start processing\n",
      "15:00:39 - cmdstanpy - INFO - Chain [1] done processing\n",
      "15:00:39 - cmdstanpy - INFO - Chain [1] start processing\n"
     ]
    },
    {
     "name": "stdout",
     "output_type": "stream",
     "text": [
      "There are 1 NaN values in the data.\n",
      "Root Mean Squared Error (RMSE): 25.61614398853139\n",
      "Root Mean Squared Logarithmic Error (RMSLE): 2.6607129623930517\n",
      "\n",
      "Training model for store 42 and family 17...\n"
     ]
    },
    {
     "name": "stderr",
     "output_type": "stream",
     "text": [
      "15:00:39 - cmdstanpy - INFO - Chain [1] done processing\n",
      "15:00:39 - cmdstanpy - INFO - Chain [1] start processing\n"
     ]
    },
    {
     "name": "stdout",
     "output_type": "stream",
     "text": [
      "There are 1 NaN values in the data.\n",
      "Root Mean Squared Error (RMSE): 0.6139645745044799\n",
      "Root Mean Squared Logarithmic Error (RMSLE): 0.3523135057069319\n",
      "\n",
      "Training model for store 42 and family 18...\n"
     ]
    },
    {
     "name": "stderr",
     "output_type": "stream",
     "text": [
      "15:00:40 - cmdstanpy - INFO - Chain [1] done processing\n",
      "15:00:40 - cmdstanpy - INFO - Chain [1] start processing\n"
     ]
    },
    {
     "name": "stdout",
     "output_type": "stream",
     "text": [
      "There are 1 NaN values in the data.\n",
      "Root Mean Squared Error (RMSE): 73.12029016007062\n",
      "Root Mean Squared Logarithmic Error (RMSLE): 0.5015442349721116\n",
      "\n",
      "Training model for store 42 and family 19...\n"
     ]
    },
    {
     "name": "stderr",
     "output_type": "stream",
     "text": [
      "15:00:40 - cmdstanpy - INFO - Chain [1] done processing\n",
      "15:00:40 - cmdstanpy - INFO - Chain [1] start processing\n"
     ]
    },
    {
     "name": "stdout",
     "output_type": "stream",
     "text": [
      "There are 1 NaN values in the data.\n",
      "Root Mean Squared Error (RMSE): 10.586289921535284\n",
      "Root Mean Squared Logarithmic Error (RMSLE): 0.6563568852069975\n",
      "\n",
      "Training model for store 42 and family 20...\n"
     ]
    },
    {
     "name": "stderr",
     "output_type": "stream",
     "text": [
      "15:00:40 - cmdstanpy - INFO - Chain [1] done processing\n",
      "15:00:40 - cmdstanpy - INFO - Chain [1] start processing\n"
     ]
    },
    {
     "name": "stdout",
     "output_type": "stream",
     "text": [
      "There are 1 NaN values in the data.\n",
      "Root Mean Squared Error (RMSE): 19.826260115319016\n",
      "Root Mean Squared Logarithmic Error (RMSLE): 0.5259787861991712\n",
      "\n",
      "Training model for store 42 and family 21...\n"
     ]
    },
    {
     "name": "stderr",
     "output_type": "stream",
     "text": [
      "15:00:41 - cmdstanpy - INFO - Chain [1] done processing\n",
      "15:00:41 - cmdstanpy - INFO - Chain [1] start processing\n"
     ]
    },
    {
     "name": "stdout",
     "output_type": "stream",
     "text": [
      "There are 1 NaN values in the data.\n",
      "Root Mean Squared Error (RMSE): 4.697338290470603\n",
      "Root Mean Squared Logarithmic Error (RMSLE): 0.9423012992480229\n",
      "\n",
      "Training model for store 42 and family 22...\n"
     ]
    },
    {
     "name": "stderr",
     "output_type": "stream",
     "text": [
      "15:00:41 - cmdstanpy - INFO - Chain [1] done processing\n",
      "15:00:41 - cmdstanpy - INFO - Chain [1] start processing\n"
     ]
    },
    {
     "name": "stdout",
     "output_type": "stream",
     "text": [
      "There are 1 NaN values in the data.\n",
      "Root Mean Squared Error (RMSE): 46.990124863335126\n",
      "Root Mean Squared Logarithmic Error (RMSLE): 0.7847470709806786\n",
      "\n",
      "Training model for store 42 and family 23...\n"
     ]
    },
    {
     "name": "stderr",
     "output_type": "stream",
     "text": [
      "15:00:41 - cmdstanpy - INFO - Chain [1] done processing\n",
      "15:00:41 - cmdstanpy - INFO - Chain [1] start processing\n"
     ]
    },
    {
     "name": "stdout",
     "output_type": "stream",
     "text": [
      "There are 1 NaN values in the data.\n",
      "Root Mean Squared Error (RMSE): 5.71904515429078\n",
      "Root Mean Squared Logarithmic Error (RMSLE): 0.5833986441044184\n",
      "\n",
      "Training model for store 42 and family 24...\n"
     ]
    },
    {
     "name": "stderr",
     "output_type": "stream",
     "text": [
      "15:00:42 - cmdstanpy - INFO - Chain [1] done processing\n",
      "15:00:42 - cmdstanpy - INFO - Chain [1] start processing\n"
     ]
    },
    {
     "name": "stdout",
     "output_type": "stream",
     "text": [
      "There are 1 NaN values in the data.\n",
      "Root Mean Squared Error (RMSE): 52.59952471601569\n",
      "Root Mean Squared Logarithmic Error (RMSLE): 0.4713246351986565\n",
      "\n",
      "Training model for store 42 and family 25...\n"
     ]
    },
    {
     "name": "stderr",
     "output_type": "stream",
     "text": [
      "15:00:42 - cmdstanpy - INFO - Chain [1] done processing\n",
      "15:00:42 - cmdstanpy - INFO - Chain [1] start processing\n"
     ]
    },
    {
     "name": "stdout",
     "output_type": "stream",
     "text": [
      "There are 1 NaN values in the data.\n",
      "Root Mean Squared Error (RMSE): 91.74277484637474\n",
      "Root Mean Squared Logarithmic Error (RMSLE): 0.5410955794793938\n",
      "\n",
      "Training model for store 42 and family 26...\n"
     ]
    },
    {
     "name": "stderr",
     "output_type": "stream",
     "text": [
      "15:00:42 - cmdstanpy - INFO - Chain [1] done processing\n",
      "15:00:42 - cmdstanpy - INFO - Chain [1] start processing\n"
     ]
    },
    {
     "name": "stdout",
     "output_type": "stream",
     "text": [
      "There are 1 NaN values in the data.\n",
      "Root Mean Squared Error (RMSE): 3.7246835160591516\n",
      "Root Mean Squared Logarithmic Error (RMSLE): 0.47493215238728376\n",
      "\n",
      "Training model for store 42 and family 27...\n"
     ]
    },
    {
     "name": "stderr",
     "output_type": "stream",
     "text": [
      "15:00:42 - cmdstanpy - INFO - Chain [1] done processing\n",
      "15:00:43 - cmdstanpy - INFO - Chain [1] start processing\n"
     ]
    },
    {
     "name": "stdout",
     "output_type": "stream",
     "text": [
      "There are 1 NaN values in the data.\n",
      "Root Mean Squared Error (RMSE): 5.231817064487665\n",
      "Root Mean Squared Logarithmic Error (RMSLE): 0.5056872612120321\n",
      "\n",
      "Training model for store 42 and family 28...\n"
     ]
    },
    {
     "name": "stderr",
     "output_type": "stream",
     "text": [
      "15:00:43 - cmdstanpy - INFO - Chain [1] done processing\n",
      "15:00:43 - cmdstanpy - INFO - Chain [1] start processing\n"
     ]
    },
    {
     "name": "stdout",
     "output_type": "stream",
     "text": [
      "There are 1 NaN values in the data.\n",
      "Root Mean Squared Error (RMSE): 72.05900341145627\n",
      "Root Mean Squared Logarithmic Error (RMSLE): 0.494906856889108\n",
      "\n",
      "Training model for store 42 and family 29...\n"
     ]
    },
    {
     "name": "stderr",
     "output_type": "stream",
     "text": [
      "15:00:43 - cmdstanpy - INFO - Chain [1] done processing\n",
      "15:00:43 - cmdstanpy - INFO - Chain [1] start processing\n"
     ]
    },
    {
     "name": "stdout",
     "output_type": "stream",
     "text": [
      "There are 1 NaN values in the data.\n",
      "Root Mean Squared Error (RMSE): 20.288391752854537\n",
      "Root Mean Squared Logarithmic Error (RMSLE): 0.42420311339485195\n",
      "\n",
      "Training model for store 42 and family 30...\n"
     ]
    },
    {
     "name": "stderr",
     "output_type": "stream",
     "text": [
      "15:00:44 - cmdstanpy - INFO - Chain [1] done processing\n",
      "15:00:44 - cmdstanpy - INFO - Chain [1] start processing\n"
     ]
    },
    {
     "name": "stdout",
     "output_type": "stream",
     "text": [
      "There are 1 NaN values in the data.\n",
      "Root Mean Squared Error (RMSE): 625.5625492904105\n",
      "Root Mean Squared Logarithmic Error (RMSLE): 0.6416954791680399\n",
      "\n",
      "Training model for store 42 and family 31...\n"
     ]
    },
    {
     "name": "stderr",
     "output_type": "stream",
     "text": [
      "15:00:44 - cmdstanpy - INFO - Chain [1] done processing\n",
      "15:00:44 - cmdstanpy - INFO - Chain [1] start processing\n"
     ]
    },
    {
     "name": "stdout",
     "output_type": "stream",
     "text": [
      "There are 1 NaN values in the data.\n",
      "Root Mean Squared Error (RMSE): 1.2692214767335515\n",
      "Root Mean Squared Logarithmic Error (RMSLE): 0.7342723328103319\n",
      "\n",
      "Training model for store 42 and family 32...\n"
     ]
    },
    {
     "name": "stderr",
     "output_type": "stream",
     "text": [
      "15:00:44 - cmdstanpy - INFO - Chain [1] done processing\n",
      "15:00:44 - cmdstanpy - INFO - Chain [1] start processing\n"
     ]
    },
    {
     "name": "stdout",
     "output_type": "stream",
     "text": [
      "There are 1 NaN values in the data.\n",
      "Root Mean Squared Error (RMSE): 7.692724864929533\n",
      "Root Mean Squared Logarithmic Error (RMSLE): 0.43811786658890983\n",
      "\n",
      "Training model for store 43 and family 0...\n"
     ]
    },
    {
     "name": "stderr",
     "output_type": "stream",
     "text": [
      "15:00:44 - cmdstanpy - INFO - Chain [1] done processing\n",
      "15:00:45 - cmdstanpy - INFO - Chain [1] start processing\n"
     ]
    },
    {
     "name": "stdout",
     "output_type": "stream",
     "text": [
      "There are 1 NaN values in the data.\n",
      "Root Mean Squared Error (RMSE): 4.792306733958211\n",
      "Root Mean Squared Logarithmic Error (RMSLE): 1.0639067829567244\n",
      "\n",
      "Training model for store 43 and family 1...\n"
     ]
    },
    {
     "name": "stderr",
     "output_type": "stream",
     "text": [
      "15:00:45 - cmdstanpy - INFO - Chain [1] done processing\n",
      "15:00:45 - cmdstanpy - INFO - Chain [1] start processing\n"
     ]
    },
    {
     "name": "stdout",
     "output_type": "stream",
     "text": [
      "There are 1 NaN values in the data.\n",
      "Root Mean Squared Error (RMSE): 0.4610135960519719\n",
      "Root Mean Squared Logarithmic Error (RMSLE): 0.26726008611934116\n",
      "\n",
      "Training model for store 43 and family 2...\n"
     ]
    },
    {
     "name": "stderr",
     "output_type": "stream",
     "text": [
      "15:00:45 - cmdstanpy - INFO - Chain [1] done processing\n",
      "15:00:45 - cmdstanpy - INFO - Chain [1] start processing\n"
     ]
    },
    {
     "name": "stdout",
     "output_type": "stream",
     "text": [
      "There are 1 NaN values in the data.\n",
      "Root Mean Squared Error (RMSE): 3.2185721454380616\n",
      "Root Mean Squared Logarithmic Error (RMSLE): 0.9603762766845456\n",
      "\n",
      "Training model for store 43 and family 3...\n"
     ]
    },
    {
     "name": "stderr",
     "output_type": "stream",
     "text": [
      "15:00:45 - cmdstanpy - INFO - Chain [1] done processing\n"
     ]
    },
    {
     "name": "stdout",
     "output_type": "stream",
     "text": [
      "There are 1 NaN values in the data.\n",
      "Root Mean Squared Error (RMSE): 1949.7314278595877\n",
      "Root Mean Squared Logarithmic Error (RMSLE): 1.1922477216316363\n",
      "\n",
      "Training model for store 43 and family 4...\n"
     ]
    },
    {
     "name": "stderr",
     "output_type": "stream",
     "text": [
      "15:00:46 - cmdstanpy - INFO - Chain [1] start processing\n",
      "15:00:46 - cmdstanpy - INFO - Chain [1] done processing\n"
     ]
    },
    {
     "name": "stdout",
     "output_type": "stream",
     "text": [
      "There are 1 NaN values in the data.\n",
      "Root Mean Squared Error (RMSE): 0.0\n",
      "Root Mean Squared Logarithmic Error (RMSLE): 0.0\n",
      "\n",
      "Training model for store 43 and family 5...\n"
     ]
    },
    {
     "name": "stderr",
     "output_type": "stream",
     "text": [
      "15:00:46 - cmdstanpy - INFO - Chain [1] start processing\n"
     ]
    },
    {
     "name": "stdout",
     "output_type": "stream",
     "text": [
      "There are 1 NaN values in the data.\n",
      "Root Mean Squared Error (RMSE): 347.61800250617983\n",
      "Root Mean Squared Logarithmic Error (RMSLE): 1.1990142113879318\n",
      "\n",
      "Training model for store 43 and family 6...\n"
     ]
    },
    {
     "name": "stderr",
     "output_type": "stream",
     "text": [
      "15:00:46 - cmdstanpy - INFO - Chain [1] done processing\n",
      "15:00:46 - cmdstanpy - INFO - Chain [1] start processing\n"
     ]
    },
    {
     "name": "stdout",
     "output_type": "stream",
     "text": [
      "There are 1 NaN values in the data.\n",
      "Root Mean Squared Error (RMSE): 8.277155064888746\n",
      "Root Mean Squared Logarithmic Error (RMSLE): 0.7763411708322493\n",
      "\n",
      "Training model for store 43 and family 7...\n"
     ]
    },
    {
     "name": "stderr",
     "output_type": "stream",
     "text": [
      "15:00:47 - cmdstanpy - INFO - Chain [1] done processing\n",
      "15:00:47 - cmdstanpy - INFO - Chain [1] start processing\n"
     ]
    },
    {
     "name": "stdout",
     "output_type": "stream",
     "text": [
      "There are 1 NaN values in the data.\n",
      "Root Mean Squared Error (RMSE): 314.90682762231813\n",
      "Root Mean Squared Logarithmic Error (RMSLE): 0.9601558896477053\n",
      "\n",
      "Training model for store 43 and family 8...\n"
     ]
    },
    {
     "name": "stderr",
     "output_type": "stream",
     "text": [
      "15:00:47 - cmdstanpy - INFO - Chain [1] done processing\n",
      "15:00:47 - cmdstanpy - INFO - Chain [1] start processing\n"
     ]
    },
    {
     "name": "stdout",
     "output_type": "stream",
     "text": [
      "There are 1 NaN values in the data.\n",
      "Root Mean Squared Error (RMSE): 177.12820636934404\n",
      "Root Mean Squared Logarithmic Error (RMSLE): 0.8850497900157107\n",
      "\n",
      "Training model for store 43 and family 9...\n"
     ]
    },
    {
     "name": "stderr",
     "output_type": "stream",
     "text": [
      "15:00:47 - cmdstanpy - INFO - Chain [1] done processing\n",
      "15:00:47 - cmdstanpy - INFO - Chain [1] start processing\n"
     ]
    },
    {
     "name": "stdout",
     "output_type": "stream",
     "text": [
      "There are 1 NaN values in the data.\n",
      "Root Mean Squared Error (RMSE): 84.30209116368069\n",
      "Root Mean Squared Logarithmic Error (RMSLE): 0.7911093887761563\n",
      "\n",
      "Training model for store 43 and family 10...\n"
     ]
    },
    {
     "name": "stderr",
     "output_type": "stream",
     "text": [
      "15:00:47 - cmdstanpy - INFO - Chain [1] done processing\n",
      "15:00:48 - cmdstanpy - INFO - Chain [1] start processing\n",
      "15:00:48 - cmdstanpy - INFO - Chain [1] done processing\n"
     ]
    },
    {
     "name": "stdout",
     "output_type": "stream",
     "text": [
      "There are 1 NaN values in the data.\n",
      "Root Mean Squared Error (RMSE): 121.6537347090903\n",
      "Root Mean Squared Logarithmic Error (RMSLE): 0.925184525172932\n",
      "\n",
      "Training model for store 43 and family 11...\n"
     ]
    },
    {
     "name": "stderr",
     "output_type": "stream",
     "text": [
      "15:00:48 - cmdstanpy - INFO - Chain [1] start processing\n"
     ]
    },
    {
     "name": "stdout",
     "output_type": "stream",
     "text": [
      "There are 1 NaN values in the data.\n",
      "Root Mean Squared Error (RMSE): 89.67997276428008\n",
      "Root Mean Squared Logarithmic Error (RMSLE): 1.0842534667746493\n",
      "\n",
      "Training model for store 43 and family 12...\n"
     ]
    },
    {
     "name": "stderr",
     "output_type": "stream",
     "text": [
      "15:00:48 - cmdstanpy - INFO - Chain [1] done processing\n",
      "15:00:48 - cmdstanpy - INFO - Chain [1] start processing\n"
     ]
    },
    {
     "name": "stdout",
     "output_type": "stream",
     "text": [
      "There are 1 NaN values in the data.\n",
      "Root Mean Squared Error (RMSE): 1381.760623635031\n",
      "Root Mean Squared Logarithmic Error (RMSLE): 1.12897885563909\n",
      "\n",
      "Training model for store 43 and family 13...\n"
     ]
    },
    {
     "name": "stderr",
     "output_type": "stream",
     "text": [
      "15:00:48 - cmdstanpy - INFO - Chain [1] done processing\n",
      "15:00:49 - cmdstanpy - INFO - Chain [1] start processing\n"
     ]
    },
    {
     "name": "stdout",
     "output_type": "stream",
     "text": [
      "There are 1 NaN values in the data.\n",
      "Root Mean Squared Error (RMSE): 7.863367072065673\n",
      "Root Mean Squared Logarithmic Error (RMSLE): 1.0752685348822835\n",
      "\n",
      "Training model for store 43 and family 14...\n"
     ]
    },
    {
     "name": "stderr",
     "output_type": "stream",
     "text": [
      "15:00:49 - cmdstanpy - INFO - Chain [1] done processing\n",
      "15:00:49 - cmdstanpy - INFO - Chain [1] start processing\n"
     ]
    },
    {
     "name": "stdout",
     "output_type": "stream",
     "text": [
      "There are 1 NaN values in the data.\n",
      "Root Mean Squared Error (RMSE): 0.7878406272000533\n",
      "Root Mean Squared Logarithmic Error (RMSLE): 0.48521360758795345\n",
      "\n",
      "Training model for store 43 and family 15...\n"
     ]
    },
    {
     "name": "stderr",
     "output_type": "stream",
     "text": [
      "15:00:49 - cmdstanpy - INFO - Chain [1] done processing\n",
      "15:00:49 - cmdstanpy - INFO - Chain [1] start processing\n",
      "15:00:49 - cmdstanpy - INFO - Chain [1] done processing\n"
     ]
    },
    {
     "name": "stdout",
     "output_type": "stream",
     "text": [
      "There are 1 NaN values in the data.\n",
      "Root Mean Squared Error (RMSE): 13.041860540886177\n",
      "Root Mean Squared Logarithmic Error (RMSLE): 0.7794987975729062\n",
      "\n",
      "Training model for store 43 and family 16...\n"
     ]
    },
    {
     "name": "stderr",
     "output_type": "stream",
     "text": [
      "15:00:50 - cmdstanpy - INFO - Chain [1] start processing\n"
     ]
    },
    {
     "name": "stdout",
     "output_type": "stream",
     "text": [
      "There are 1 NaN values in the data.\n",
      "Root Mean Squared Error (RMSE): 15.886670403059854\n",
      "Root Mean Squared Logarithmic Error (RMSLE): 2.1466758742935723\n",
      "\n",
      "Training model for store 43 and family 17...\n"
     ]
    },
    {
     "name": "stderr",
     "output_type": "stream",
     "text": [
      "15:00:50 - cmdstanpy - INFO - Chain [1] done processing\n",
      "15:00:50 - cmdstanpy - INFO - Chain [1] start processing\n"
     ]
    },
    {
     "name": "stdout",
     "output_type": "stream",
     "text": [
      "There are 1 NaN values in the data.\n",
      "Root Mean Squared Error (RMSE): 0.17817835788145023\n",
      "Root Mean Squared Logarithmic Error (RMSLE): 0.12980350883478378\n",
      "\n",
      "Training model for store 43 and family 18...\n"
     ]
    },
    {
     "name": "stderr",
     "output_type": "stream",
     "text": [
      "15:00:50 - cmdstanpy - INFO - Chain [1] done processing\n"
     ]
    },
    {
     "name": "stdout",
     "output_type": "stream",
     "text": [
      "There are 1 NaN values in the data.\n",
      "Root Mean Squared Error (RMSE): 75.58806139445298\n",
      "Root Mean Squared Logarithmic Error (RMSLE): 0.8039819757648637\n",
      "\n",
      "Training model for store 43 and family 19...\n",
      "There are 1 NaN values in the data.\n",
      "Root Mean Squared Error (RMSE): 0.0\n",
      "Root Mean Squared Logarithmic Error (RMSLE): 0.0\n"
     ]
    },
    {
     "name": "stderr",
     "output_type": "stream",
     "text": [
      "15:00:50 - cmdstanpy - INFO - Chain [1] start processing\n",
      "15:00:50 - cmdstanpy - INFO - Chain [1] done processing\n"
     ]
    },
    {
     "name": "stdout",
     "output_type": "stream",
     "text": [
      "\n",
      "Training model for store 43 and family 20...\n",
      "There are 1 NaN values in the data.\n",
      "Root Mean Squared Error (RMSE): 7.845777345845838\n",
      "Root Mean Squared Logarithmic Error (RMSLE): 1.613886794998136\n"
     ]
    },
    {
     "name": "stderr",
     "output_type": "stream",
     "text": [
      "15:00:51 - cmdstanpy - INFO - Chain [1] start processing\n",
      "15:00:51 - cmdstanpy - INFO - Chain [1] done processing\n"
     ]
    },
    {
     "name": "stdout",
     "output_type": "stream",
     "text": [
      "\n",
      "Training model for store 43 and family 21...\n"
     ]
    },
    {
     "name": "stderr",
     "output_type": "stream",
     "text": [
      "15:00:51 - cmdstanpy - INFO - Chain [1] start processing\n",
      "15:00:51 - cmdstanpy - INFO - Chain [1] done processing\n"
     ]
    },
    {
     "name": "stdout",
     "output_type": "stream",
     "text": [
      "There are 1 NaN values in the data.\n",
      "Root Mean Squared Error (RMSE): 3.9633621117371707\n",
      "Root Mean Squared Logarithmic Error (RMSLE): 0.9980783473383982\n",
      "\n",
      "Training model for store 43 and family 22...\n"
     ]
    },
    {
     "name": "stderr",
     "output_type": "stream",
     "text": [
      "15:00:51 - cmdstanpy - INFO - Chain [1] start processing\n"
     ]
    },
    {
     "name": "stdout",
     "output_type": "stream",
     "text": [
      "There are 1 NaN values in the data.\n",
      "Root Mean Squared Error (RMSE): 157.82379941768215\n",
      "Root Mean Squared Logarithmic Error (RMSLE): 2.4803340239001246\n",
      "\n",
      "Training model for store 43 and family 23...\n"
     ]
    },
    {
     "name": "stderr",
     "output_type": "stream",
     "text": [
      "15:00:51 - cmdstanpy - INFO - Chain [1] done processing\n",
      "15:00:51 - cmdstanpy - INFO - Chain [1] start processing\n"
     ]
    },
    {
     "name": "stdout",
     "output_type": "stream",
     "text": [
      "There are 1 NaN values in the data.\n",
      "Root Mean Squared Error (RMSE): 3.4836839227341\n",
      "Root Mean Squared Logarithmic Error (RMSLE): 0.8307008021481503\n",
      "\n",
      "Training model for store 43 and family 24...\n"
     ]
    },
    {
     "name": "stderr",
     "output_type": "stream",
     "text": [
      "15:00:52 - cmdstanpy - INFO - Chain [1] done processing\n",
      "15:00:52 - cmdstanpy - INFO - Chain [1] start processing\n"
     ]
    },
    {
     "name": "stdout",
     "output_type": "stream",
     "text": [
      "There are 1 NaN values in the data.\n",
      "Root Mean Squared Error (RMSE): 70.93830422656255\n",
      "Root Mean Squared Logarithmic Error (RMSLE): 0.7643537633447788\n",
      "\n",
      "Training model for store 43 and family 25...\n"
     ]
    },
    {
     "name": "stderr",
     "output_type": "stream",
     "text": [
      "15:00:52 - cmdstanpy - INFO - Chain [1] done processing\n",
      "15:00:52 - cmdstanpy - INFO - Chain [1] start processing\n"
     ]
    },
    {
     "name": "stdout",
     "output_type": "stream",
     "text": [
      "There are 1 NaN values in the data.\n",
      "Root Mean Squared Error (RMSE): 84.50419210406407\n",
      "Root Mean Squared Logarithmic Error (RMSLE): 0.7824670822017978\n",
      "\n",
      "Training model for store 43 and family 26...\n"
     ]
    },
    {
     "name": "stderr",
     "output_type": "stream",
     "text": [
      "15:00:52 - cmdstanpy - INFO - Chain [1] done processing\n",
      "15:00:52 - cmdstanpy - INFO - Chain [1] start processing\n"
     ]
    },
    {
     "name": "stdout",
     "output_type": "stream",
     "text": [
      "There are 1 NaN values in the data.\n",
      "Root Mean Squared Error (RMSE): 3.2543381417438613\n",
      "Root Mean Squared Logarithmic Error (RMSLE): 1.008455055010626\n",
      "\n",
      "Training model for store 43 and family 27...\n"
     ]
    },
    {
     "name": "stderr",
     "output_type": "stream",
     "text": [
      "15:00:53 - cmdstanpy - INFO - Chain [1] done processing\n",
      "15:00:53 - cmdstanpy - INFO - Chain [1] start processing\n",
      "15:00:53 - cmdstanpy - INFO - Chain [1] done processing\n"
     ]
    },
    {
     "name": "stdout",
     "output_type": "stream",
     "text": [
      "There are 1 NaN values in the data.\n",
      "Root Mean Squared Error (RMSE): 3.740003367368968\n",
      "Root Mean Squared Logarithmic Error (RMSLE): 0.8185619145955039\n",
      "\n",
      "Training model for store 43 and family 28...\n"
     ]
    },
    {
     "name": "stderr",
     "output_type": "stream",
     "text": [
      "15:00:53 - cmdstanpy - INFO - Chain [1] start processing\n",
      "15:00:53 - cmdstanpy - INFO - Chain [1] done processing\n"
     ]
    },
    {
     "name": "stdout",
     "output_type": "stream",
     "text": [
      "There are 1 NaN values in the data.\n",
      "Root Mean Squared Error (RMSE): 137.51190415875274\n",
      "Root Mean Squared Logarithmic Error (RMSLE): 1.0765022084508502\n",
      "\n",
      "Training model for store 43 and family 29...\n"
     ]
    },
    {
     "name": "stderr",
     "output_type": "stream",
     "text": [
      "15:00:53 - cmdstanpy - INFO - Chain [1] start processing\n"
     ]
    },
    {
     "name": "stdout",
     "output_type": "stream",
     "text": [
      "There are 1 NaN values in the data.\n",
      "Root Mean Squared Error (RMSE): 68.62681068828276\n",
      "Root Mean Squared Logarithmic Error (RMSLE): 1.030113377093706\n",
      "\n",
      "Training model for store 43 and family 30...\n"
     ]
    },
    {
     "name": "stderr",
     "output_type": "stream",
     "text": [
      "15:00:53 - cmdstanpy - INFO - Chain [1] done processing\n",
      "15:00:54 - cmdstanpy - INFO - Chain [1] start processing\n"
     ]
    },
    {
     "name": "stdout",
     "output_type": "stream",
     "text": [
      "There are 1 NaN values in the data.\n",
      "Root Mean Squared Error (RMSE): 589.2127356227326\n",
      "Root Mean Squared Logarithmic Error (RMSLE): 1.0488038250582876\n",
      "\n",
      "Training model for store 43 and family 31...\n"
     ]
    },
    {
     "name": "stderr",
     "output_type": "stream",
     "text": [
      "15:00:54 - cmdstanpy - INFO - Chain [1] done processing\n",
      "15:00:54 - cmdstanpy - INFO - Chain [1] start processing\n"
     ]
    },
    {
     "name": "stdout",
     "output_type": "stream",
     "text": [
      "There are 1 NaN values in the data.\n",
      "Root Mean Squared Error (RMSE): 12.716046877974463\n",
      "Root Mean Squared Logarithmic Error (RMSLE): 1.0190235614861252\n",
      "\n",
      "Training model for store 43 and family 32...\n"
     ]
    },
    {
     "name": "stderr",
     "output_type": "stream",
     "text": [
      "15:00:54 - cmdstanpy - INFO - Chain [1] done processing\n",
      "15:00:54 - cmdstanpy - INFO - Chain [1] start processing\n"
     ]
    },
    {
     "name": "stdout",
     "output_type": "stream",
     "text": [
      "There are 1 NaN values in the data.\n",
      "Root Mean Squared Error (RMSE): 1.7871657790445898\n",
      "Root Mean Squared Logarithmic Error (RMSLE): 0.6647678789270776\n",
      "\n",
      "Training model for store 44 and family 0...\n"
     ]
    },
    {
     "name": "stderr",
     "output_type": "stream",
     "text": [
      "15:00:54 - cmdstanpy - INFO - Chain [1] done processing\n"
     ]
    },
    {
     "name": "stdout",
     "output_type": "stream",
     "text": [
      "There are 1 NaN values in the data.\n",
      "Root Mean Squared Error (RMSE): 8.885083704667913\n",
      "Root Mean Squared Logarithmic Error (RMSLE): 0.5816245817954541\n",
      "\n",
      "Training model for store 44 and family 1...\n",
      "There are 1 NaN values in the data.\n",
      "Root Mean Squared Error (RMSE): 0.0\n",
      "Root Mean Squared Logarithmic Error (RMSLE): 0.0\n"
     ]
    },
    {
     "name": "stderr",
     "output_type": "stream",
     "text": [
      "15:00:55 - cmdstanpy - INFO - Chain [1] start processing\n",
      "15:00:55 - cmdstanpy - INFO - Chain [1] done processing\n"
     ]
    },
    {
     "name": "stdout",
     "output_type": "stream",
     "text": [
      "\n",
      "Training model for store 44 and family 2...\n",
      "There are 1 NaN values in the data.\n",
      "Root Mean Squared Error (RMSE): 11.177830151674184\n",
      "Root Mean Squared Logarithmic Error (RMSLE): 0.6921287840064718\n"
     ]
    },
    {
     "name": "stderr",
     "output_type": "stream",
     "text": [
      "15:00:55 - cmdstanpy - INFO - Chain [1] start processing\n",
      "15:00:55 - cmdstanpy - INFO - Chain [1] done processing\n"
     ]
    },
    {
     "name": "stdout",
     "output_type": "stream",
     "text": [
      "\n",
      "Training model for store 44 and family 3...\n",
      "There are 1 NaN values in the data.\n",
      "Root Mean Squared Error (RMSE): 2725.6070113037713\n",
      "Root Mean Squared Logarithmic Error (RMSLE): 0.7605430837807662\n",
      "\n",
      "Training model for store 44 and family 4...\n"
     ]
    },
    {
     "name": "stderr",
     "output_type": "stream",
     "text": [
      "15:00:56 - cmdstanpy - INFO - Chain [1] start processing\n",
      "15:00:56 - cmdstanpy - INFO - Chain [1] done processing\n"
     ]
    },
    {
     "name": "stdout",
     "output_type": "stream",
     "text": [
      "There are 1 NaN values in the data.\n",
      "Root Mean Squared Error (RMSE): 3.872983346207417\n",
      "Root Mean Squared Logarithmic Error (RMSLE): 0.9419266796193667\n",
      "\n",
      "Training model for store 44 and family 5...\n",
      "There are 1 NaN values in the data.\n",
      "Root Mean Squared Error (RMSE): 376.6667907526019\n",
      "Root Mean Squared Logarithmic Error (RMSLE): 0.6240155471353862\n",
      "\n",
      "Training model for store 44 and family 6...\n"
     ]
    },
    {
     "name": "stderr",
     "output_type": "stream",
     "text": [
      "15:00:56 - cmdstanpy - INFO - Chain [1] start processing\n",
      "15:00:56 - cmdstanpy - INFO - Chain [1] done processing\n",
      "15:00:56 - cmdstanpy - INFO - Chain [1] start processing\n"
     ]
    },
    {
     "name": "stdout",
     "output_type": "stream",
     "text": [
      "There are 1 NaN values in the data.\n",
      "Root Mean Squared Error (RMSE): 20.79448746256525\n",
      "Root Mean Squared Logarithmic Error (RMSLE): 0.518288287286343\n",
      "\n",
      "Training model for store 44 and family 7...\n"
     ]
    },
    {
     "name": "stderr",
     "output_type": "stream",
     "text": [
      "15:00:56 - cmdstanpy - INFO - Chain [1] done processing\n",
      "15:00:57 - cmdstanpy - INFO - Chain [1] start processing\n",
      "15:00:57 - cmdstanpy - INFO - Chain [1] done processing\n"
     ]
    },
    {
     "name": "stdout",
     "output_type": "stream",
     "text": [
      "There are 1 NaN values in the data.\n",
      "Root Mean Squared Error (RMSE): 674.2735136828405\n",
      "Root Mean Squared Logarithmic Error (RMSLE): 0.6645826184283276\n",
      "\n",
      "Training model for store 44 and family 8...\n"
     ]
    },
    {
     "name": "stderr",
     "output_type": "stream",
     "text": [
      "15:00:57 - cmdstanpy - INFO - Chain [1] start processing\n"
     ]
    },
    {
     "name": "stdout",
     "output_type": "stream",
     "text": [
      "There are 1 NaN values in the data.\n",
      "Root Mean Squared Error (RMSE): 561.9891274036012\n",
      "Root Mean Squared Logarithmic Error (RMSLE): 0.6547335317219328\n",
      "\n",
      "Training model for store 44 and family 9...\n"
     ]
    },
    {
     "name": "stderr",
     "output_type": "stream",
     "text": [
      "15:00:57 - cmdstanpy - INFO - Chain [1] done processing\n",
      "15:00:57 - cmdstanpy - INFO - Chain [1] start processing\n"
     ]
    },
    {
     "name": "stdout",
     "output_type": "stream",
     "text": [
      "There are 1 NaN values in the data.\n",
      "Root Mean Squared Error (RMSE): 180.56574868347118\n",
      "Root Mean Squared Logarithmic Error (RMSLE): 0.5871201734049137\n",
      "\n",
      "Training model for store 44 and family 10...\n"
     ]
    },
    {
     "name": "stderr",
     "output_type": "stream",
     "text": [
      "15:00:57 - cmdstanpy - INFO - Chain [1] done processing\n",
      "15:00:58 - cmdstanpy - INFO - Chain [1] start processing\n"
     ]
    },
    {
     "name": "stdout",
     "output_type": "stream",
     "text": [
      "There are 1 NaN values in the data.\n",
      "Root Mean Squared Error (RMSE): 171.23747893096402\n",
      "Root Mean Squared Logarithmic Error (RMSLE): 0.5780763365966066\n",
      "\n",
      "Training model for store 44 and family 11...\n"
     ]
    },
    {
     "name": "stderr",
     "output_type": "stream",
     "text": [
      "15:00:58 - cmdstanpy - INFO - Chain [1] done processing\n",
      "15:00:58 - cmdstanpy - INFO - Chain [1] start processing\n"
     ]
    },
    {
     "name": "stdout",
     "output_type": "stream",
     "text": [
      "There are 1 NaN values in the data.\n",
      "Root Mean Squared Error (RMSE): 453.09581408008665\n",
      "Root Mean Squared Logarithmic Error (RMSLE): 1.106539785761479\n",
      "\n",
      "Training model for store 44 and family 12...\n"
     ]
    },
    {
     "name": "stderr",
     "output_type": "stream",
     "text": [
      "15:00:58 - cmdstanpy - INFO - Chain [1] done processing\n",
      "15:00:58 - cmdstanpy - INFO - Chain [1] start processing\n"
     ]
    },
    {
     "name": "stdout",
     "output_type": "stream",
     "text": [
      "There are 1 NaN values in the data.\n",
      "Root Mean Squared Error (RMSE): 2485.2561748892585\n",
      "Root Mean Squared Logarithmic Error (RMSLE): 0.7636796556814571\n",
      "\n",
      "Training model for store 44 and family 13...\n"
     ]
    },
    {
     "name": "stderr",
     "output_type": "stream",
     "text": [
      "15:00:58 - cmdstanpy - INFO - Chain [1] done processing\n",
      "15:00:59 - cmdstanpy - INFO - Chain [1] start processing\n"
     ]
    },
    {
     "name": "stdout",
     "output_type": "stream",
     "text": [
      "There are 1 NaN values in the data.\n",
      "Root Mean Squared Error (RMSE): 39.152748130292125\n",
      "Root Mean Squared Logarithmic Error (RMSLE): 0.5621219252263913\n",
      "\n",
      "Training model for store 44 and family 14...\n"
     ]
    },
    {
     "name": "stderr",
     "output_type": "stream",
     "text": [
      "15:00:59 - cmdstanpy - INFO - Chain [1] done processing\n",
      "15:00:59 - cmdstanpy - INFO - Chain [1] start processing\n"
     ]
    },
    {
     "name": "stdout",
     "output_type": "stream",
     "text": [
      "There are 1 NaN values in the data.\n",
      "Root Mean Squared Error (RMSE): 3.495328611086533\n",
      "Root Mean Squared Logarithmic Error (RMSLE): 0.8210320574255553\n",
      "\n",
      "Training model for store 44 and family 15...\n"
     ]
    },
    {
     "name": "stderr",
     "output_type": "stream",
     "text": [
      "15:00:59 - cmdstanpy - INFO - Chain [1] done processing\n",
      "15:00:59 - cmdstanpy - INFO - Chain [1] start processing\n"
     ]
    },
    {
     "name": "stdout",
     "output_type": "stream",
     "text": [
      "There are 1 NaN values in the data.\n",
      "Root Mean Squared Error (RMSE): 120.30126599226027\n",
      "Root Mean Squared Logarithmic Error (RMSLE): 0.6682681032963064\n",
      "\n",
      "Training model for store 44 and family 16...\n"
     ]
    },
    {
     "name": "stderr",
     "output_type": "stream",
     "text": [
      "15:00:59 - cmdstanpy - INFO - Chain [1] done processing\n",
      "15:00:59 - cmdstanpy - INFO - Chain [1] start processing\n"
     ]
    },
    {
     "name": "stdout",
     "output_type": "stream",
     "text": [
      "There are 1 NaN values in the data.\n",
      "Root Mean Squared Error (RMSE): 67.86554511127505\n",
      "Root Mean Squared Logarithmic Error (RMSLE): 0.6654821656058444\n",
      "\n",
      "Training model for store 44 and family 17...\n"
     ]
    },
    {
     "name": "stderr",
     "output_type": "stream",
     "text": [
      "15:01:00 - cmdstanpy - INFO - Chain [1] done processing\n",
      "15:01:00 - cmdstanpy - INFO - Chain [1] start processing\n"
     ]
    },
    {
     "name": "stdout",
     "output_type": "stream",
     "text": [
      "There are 1 NaN values in the data.\n",
      "Root Mean Squared Error (RMSE): 2.2618827132223354\n",
      "Root Mean Squared Logarithmic Error (RMSLE): 0.898439975961666\n",
      "\n",
      "Training model for store 44 and family 18...\n"
     ]
    },
    {
     "name": "stderr",
     "output_type": "stream",
     "text": [
      "15:01:00 - cmdstanpy - INFO - Chain [1] done processing\n",
      "15:01:00 - cmdstanpy - INFO - Chain [1] start processing\n"
     ]
    },
    {
     "name": "stdout",
     "output_type": "stream",
     "text": [
      "There are 1 NaN values in the data.\n",
      "Root Mean Squared Error (RMSE): 253.2800707789143\n",
      "Root Mean Squared Logarithmic Error (RMSLE): 0.6302451601790866\n",
      "\n",
      "Training model for store 44 and family 19...\n"
     ]
    },
    {
     "name": "stderr",
     "output_type": "stream",
     "text": [
      "15:01:00 - cmdstanpy - INFO - Chain [1] done processing\n",
      "15:01:00 - cmdstanpy - INFO - Chain [1] start processing\n"
     ]
    },
    {
     "name": "stdout",
     "output_type": "stream",
     "text": [
      "There are 1 NaN values in the data.\n",
      "Root Mean Squared Error (RMSE): 17.042134742769647\n",
      "Root Mean Squared Logarithmic Error (RMSLE): 0.6474111631467436\n",
      "\n",
      "Training model for store 44 and family 20...\n"
     ]
    },
    {
     "name": "stderr",
     "output_type": "stream",
     "text": [
      "15:01:00 - cmdstanpy - INFO - Chain [1] done processing\n",
      "15:01:01 - cmdstanpy - INFO - Chain [1] start processing\n"
     ]
    },
    {
     "name": "stdout",
     "output_type": "stream",
     "text": [
      "There are 1 NaN values in the data.\n",
      "Root Mean Squared Error (RMSE): 20.13336683418067\n",
      "Root Mean Squared Logarithmic Error (RMSLE): 0.8169553392396995\n",
      "\n",
      "Training model for store 44 and family 21...\n"
     ]
    },
    {
     "name": "stderr",
     "output_type": "stream",
     "text": [
      "15:01:01 - cmdstanpy - INFO - Chain [1] done processing\n",
      "15:01:01 - cmdstanpy - INFO - Chain [1] start processing\n"
     ]
    },
    {
     "name": "stdout",
     "output_type": "stream",
     "text": [
      "There are 1 NaN values in the data.\n",
      "Root Mean Squared Error (RMSE): 17.28677865389595\n",
      "Root Mean Squared Logarithmic Error (RMSLE): 0.7476593084105302\n",
      "\n",
      "Training model for store 44 and family 22...\n"
     ]
    },
    {
     "name": "stderr",
     "output_type": "stream",
     "text": [
      "15:01:01 - cmdstanpy - INFO - Chain [1] done processing\n",
      "15:01:01 - cmdstanpy - INFO - Chain [1] start processing\n"
     ]
    },
    {
     "name": "stdout",
     "output_type": "stream",
     "text": [
      "There are 1 NaN values in the data.\n",
      "Root Mean Squared Error (RMSE): 166.2876267959244\n",
      "Root Mean Squared Logarithmic Error (RMSLE): 1.4942678460399794\n",
      "\n",
      "Training model for store 44 and family 23...\n"
     ]
    },
    {
     "name": "stderr",
     "output_type": "stream",
     "text": [
      "15:01:01 - cmdstanpy - INFO - Chain [1] done processing\n",
      "15:01:02 - cmdstanpy - INFO - Chain [1] start processing\n"
     ]
    },
    {
     "name": "stdout",
     "output_type": "stream",
     "text": [
      "There are 1 NaN values in the data.\n",
      "Root Mean Squared Error (RMSE): 12.63981309976711\n",
      "Root Mean Squared Logarithmic Error (RMSLE): 0.5973213625709347\n",
      "\n",
      "Training model for store 44 and family 24...\n"
     ]
    },
    {
     "name": "stderr",
     "output_type": "stream",
     "text": [
      "15:01:02 - cmdstanpy - INFO - Chain [1] done processing\n",
      "15:01:02 - cmdstanpy - INFO - Chain [1] start processing\n"
     ]
    },
    {
     "name": "stdout",
     "output_type": "stream",
     "text": [
      "There are 1 NaN values in the data.\n",
      "Root Mean Squared Error (RMSE): 214.29893358488204\n",
      "Root Mean Squared Logarithmic Error (RMSLE): 0.5699957724896086\n",
      "\n",
      "Training model for store 44 and family 25...\n"
     ]
    },
    {
     "name": "stderr",
     "output_type": "stream",
     "text": [
      "15:01:02 - cmdstanpy - INFO - Chain [1] done processing\n",
      "15:01:02 - cmdstanpy - INFO - Chain [1] start processing\n"
     ]
    },
    {
     "name": "stdout",
     "output_type": "stream",
     "text": [
      "There are 1 NaN values in the data.\n",
      "Root Mean Squared Error (RMSE): 209.11365924088867\n",
      "Root Mean Squared Logarithmic Error (RMSLE): 0.5926546559254592\n",
      "\n",
      "Training model for store 44 and family 26...\n"
     ]
    },
    {
     "name": "stderr",
     "output_type": "stream",
     "text": [
      "15:01:02 - cmdstanpy - INFO - Chain [1] done processing\n",
      "15:01:03 - cmdstanpy - INFO - Chain [1] start processing\n"
     ]
    },
    {
     "name": "stdout",
     "output_type": "stream",
     "text": [
      "There are 1 NaN values in the data.\n",
      "Root Mean Squared Error (RMSE): 18.704566564201947\n",
      "Root Mean Squared Logarithmic Error (RMSLE): 0.5509428915497878\n",
      "\n",
      "Training model for store 44 and family 27...\n"
     ]
    },
    {
     "name": "stderr",
     "output_type": "stream",
     "text": [
      "15:01:03 - cmdstanpy - INFO - Chain [1] done processing\n",
      "15:01:03 - cmdstanpy - INFO - Chain [1] start processing\n"
     ]
    },
    {
     "name": "stdout",
     "output_type": "stream",
     "text": [
      "There are 1 NaN values in the data.\n",
      "Root Mean Squared Error (RMSE): 18.084599139551358\n",
      "Root Mean Squared Logarithmic Error (RMSLE): 0.5318776872928456\n",
      "\n",
      "Training model for store 44 and family 28...\n"
     ]
    },
    {
     "name": "stderr",
     "output_type": "stream",
     "text": [
      "15:01:03 - cmdstanpy - INFO - Chain [1] done processing\n",
      "15:01:03 - cmdstanpy - INFO - Chain [1] start processing\n"
     ]
    },
    {
     "name": "stdout",
     "output_type": "stream",
     "text": [
      "There are 1 NaN values in the data.\n",
      "Root Mean Squared Error (RMSE): 291.68452320700754\n",
      "Root Mean Squared Logarithmic Error (RMSLE): 0.6039704433112769\n",
      "\n",
      "Training model for store 44 and family 29...\n"
     ]
    },
    {
     "name": "stderr",
     "output_type": "stream",
     "text": [
      "15:01:03 - cmdstanpy - INFO - Chain [1] done processing\n",
      "15:01:04 - cmdstanpy - INFO - Chain [1] start processing\n"
     ]
    },
    {
     "name": "stdout",
     "output_type": "stream",
     "text": [
      "There are 1 NaN values in the data.\n",
      "Root Mean Squared Error (RMSE): 132.96497053727427\n",
      "Root Mean Squared Logarithmic Error (RMSLE): 0.5706926458479793\n",
      "\n",
      "Training model for store 44 and family 30...\n"
     ]
    },
    {
     "name": "stderr",
     "output_type": "stream",
     "text": [
      "15:01:04 - cmdstanpy - INFO - Chain [1] done processing\n",
      "15:01:04 - cmdstanpy - INFO - Chain [1] start processing\n"
     ]
    },
    {
     "name": "stdout",
     "output_type": "stream",
     "text": [
      "There are 1 NaN values in the data.\n",
      "Root Mean Squared Error (RMSE): 4304.095864104057\n",
      "Root Mean Squared Logarithmic Error (RMSLE): 0.8378655321137373\n",
      "\n",
      "Training model for store 44 and family 31...\n"
     ]
    },
    {
     "name": "stderr",
     "output_type": "stream",
     "text": [
      "15:01:04 - cmdstanpy - INFO - Chain [1] done processing\n",
      "15:01:04 - cmdstanpy - INFO - Chain [1] start processing\n"
     ]
    },
    {
     "name": "stdout",
     "output_type": "stream",
     "text": [
      "There are 1 NaN values in the data.\n",
      "Root Mean Squared Error (RMSE): 86.75654803323269\n",
      "Root Mean Squared Logarithmic Error (RMSLE): 1.5780421947713956\n",
      "\n",
      "Training model for store 44 and family 32...\n"
     ]
    },
    {
     "name": "stderr",
     "output_type": "stream",
     "text": [
      "15:01:04 - cmdstanpy - INFO - Chain [1] done processing\n",
      "15:01:05 - cmdstanpy - INFO - Chain [1] start processing\n"
     ]
    },
    {
     "name": "stdout",
     "output_type": "stream",
     "text": [
      "There are 1 NaN values in the data.\n",
      "Root Mean Squared Error (RMSE): 28.440223479177767\n",
      "Root Mean Squared Logarithmic Error (RMSLE): 0.45208771711461904\n",
      "\n",
      "Training model for store 45 and family 0...\n"
     ]
    },
    {
     "name": "stderr",
     "output_type": "stream",
     "text": [
      "15:01:05 - cmdstanpy - INFO - Chain [1] done processing\n"
     ]
    },
    {
     "name": "stdout",
     "output_type": "stream",
     "text": [
      "There are 1 NaN values in the data.\n",
      "Root Mean Squared Error (RMSE): 7.237947272535822\n",
      "Root Mean Squared Logarithmic Error (RMSLE): 0.5144201002595836\n",
      "\n",
      "Training model for store 45 and family 1...\n",
      "There are 1 NaN values in the data.\n",
      "Root Mean Squared Error (RMSE): 0.0\n",
      "Root Mean Squared Logarithmic Error (RMSLE): 0.0\n"
     ]
    },
    {
     "name": "stderr",
     "output_type": "stream",
     "text": [
      "15:01:05 - cmdstanpy - INFO - Chain [1] start processing\n",
      "15:01:05 - cmdstanpy - INFO - Chain [1] done processing\n"
     ]
    },
    {
     "name": "stdout",
     "output_type": "stream",
     "text": [
      "\n",
      "Training model for store 45 and family 2...\n",
      "There are 1 NaN values in the data.\n",
      "Root Mean Squared Error (RMSE): 7.074517877955461\n",
      "Root Mean Squared Logarithmic Error (RMSLE): 0.520535182069858\n"
     ]
    },
    {
     "name": "stderr",
     "output_type": "stream",
     "text": [
      "15:01:05 - cmdstanpy - INFO - Chain [1] start processing\n",
      "15:01:05 - cmdstanpy - INFO - Chain [1] done processing\n"
     ]
    },
    {
     "name": "stdout",
     "output_type": "stream",
     "text": [
      "\n",
      "Training model for store 45 and family 3...\n",
      "There are 1 NaN values in the data.\n",
      "Root Mean Squared Error (RMSE): 2590.4059582604864\n",
      "Root Mean Squared Logarithmic Error (RMSLE): 0.7737809490265289\n",
      "\n",
      "Training model for store 45 and family 4...\n",
      "There are 1 NaN values in the data.\n",
      "Root Mean Squared Error (RMSE): 3.1934659622533954\n",
      "Root Mean Squared Logarithmic Error (RMSLE): 1.012412492234074\n"
     ]
    },
    {
     "name": "stderr",
     "output_type": "stream",
     "text": [
      "15:01:06 - cmdstanpy - INFO - Chain [1] start processing\n",
      "15:01:06 - cmdstanpy - INFO - Chain [1] done processing\n"
     ]
    },
    {
     "name": "stdout",
     "output_type": "stream",
     "text": [
      "\n",
      "Training model for store 45 and family 5...\n"
     ]
    },
    {
     "name": "stderr",
     "output_type": "stream",
     "text": [
      "15:01:06 - cmdstanpy - INFO - Chain [1] start processing\n"
     ]
    },
    {
     "name": "stdout",
     "output_type": "stream",
     "text": [
      "There are 1 NaN values in the data.\n",
      "Root Mean Squared Error (RMSE): 292.5107711244285\n",
      "Root Mean Squared Logarithmic Error (RMSLE): 0.6193372425828603\n",
      "\n",
      "Training model for store 45 and family 6...\n"
     ]
    },
    {
     "name": "stderr",
     "output_type": "stream",
     "text": [
      "15:01:06 - cmdstanpy - INFO - Chain [1] done processing\n"
     ]
    },
    {
     "name": "stdout",
     "output_type": "stream",
     "text": [
      "There are 1 NaN values in the data.\n",
      "Root Mean Squared Error (RMSE): 21.573957066201867\n",
      "Root Mean Squared Logarithmic Error (RMSLE): 0.5570964606664903\n"
     ]
    },
    {
     "name": "stderr",
     "output_type": "stream",
     "text": [
      "15:01:08 - cmdstanpy - INFO - Chain [1] start processing\n",
      "15:01:08 - cmdstanpy - INFO - Chain [1] done processing\n"
     ]
    },
    {
     "name": "stdout",
     "output_type": "stream",
     "text": [
      "\n",
      "Training model for store 45 and family 7...\n"
     ]
    },
    {
     "name": "stderr",
     "output_type": "stream",
     "text": [
      "15:01:08 - cmdstanpy - INFO - Chain [1] start processing\n"
     ]
    },
    {
     "name": "stdout",
     "output_type": "stream",
     "text": [
      "There are 1 NaN values in the data.\n",
      "Root Mean Squared Error (RMSE): 730.2652013062773\n",
      "Root Mean Squared Logarithmic Error (RMSLE): 0.6908472353369932\n",
      "\n",
      "Training model for store 45 and family 8...\n"
     ]
    },
    {
     "name": "stderr",
     "output_type": "stream",
     "text": [
      "15:01:08 - cmdstanpy - INFO - Chain [1] done processing\n",
      "15:01:08 - cmdstanpy - INFO - Chain [1] start processing\n"
     ]
    },
    {
     "name": "stdout",
     "output_type": "stream",
     "text": [
      "There are 1 NaN values in the data.\n",
      "Root Mean Squared Error (RMSE): 530.316973103096\n",
      "Root Mean Squared Logarithmic Error (RMSLE): 0.6644749351318673\n",
      "\n",
      "Training model for store 45 and family 9...\n"
     ]
    },
    {
     "name": "stderr",
     "output_type": "stream",
     "text": [
      "15:01:08 - cmdstanpy - INFO - Chain [1] done processing\n",
      "15:01:09 - cmdstanpy - INFO - Chain [1] start processing\n"
     ]
    },
    {
     "name": "stdout",
     "output_type": "stream",
     "text": [
      "There are 1 NaN values in the data.\n",
      "Root Mean Squared Error (RMSE): 275.0289598775057\n",
      "Root Mean Squared Logarithmic Error (RMSLE): 0.6610048344356354\n",
      "\n",
      "Training model for store 45 and family 10...\n"
     ]
    },
    {
     "name": "stderr",
     "output_type": "stream",
     "text": [
      "15:01:09 - cmdstanpy - INFO - Chain [1] done processing\n",
      "15:01:09 - cmdstanpy - INFO - Chain [1] start processing\n"
     ]
    },
    {
     "name": "stdout",
     "output_type": "stream",
     "text": [
      "There are 1 NaN values in the data.\n",
      "Root Mean Squared Error (RMSE): 110.25702888237088\n",
      "Root Mean Squared Logarithmic Error (RMSLE): 0.57505796721616\n",
      "\n",
      "Training model for store 45 and family 11...\n"
     ]
    },
    {
     "name": "stderr",
     "output_type": "stream",
     "text": [
      "15:01:09 - cmdstanpy - INFO - Chain [1] done processing\n"
     ]
    },
    {
     "name": "stdout",
     "output_type": "stream",
     "text": [
      "There are 1 NaN values in the data.\n",
      "Root Mean Squared Error (RMSE): 527.1773755440415\n",
      "Root Mean Squared Logarithmic Error (RMSLE): 1.2361944825483133\n",
      "\n",
      "Training model for store 45 and family 12...\n"
     ]
    },
    {
     "name": "stderr",
     "output_type": "stream",
     "text": [
      "15:01:09 - cmdstanpy - INFO - Chain [1] start processing\n",
      "15:01:09 - cmdstanpy - INFO - Chain [1] done processing\n",
      "15:01:10 - cmdstanpy - INFO - Chain [1] start processing\n"
     ]
    },
    {
     "name": "stdout",
     "output_type": "stream",
     "text": [
      "There are 1 NaN values in the data.\n",
      "Root Mean Squared Error (RMSE): 2849.80914977286\n",
      "Root Mean Squared Logarithmic Error (RMSLE): 0.7875416869131772\n",
      "\n",
      "Training model for store 45 and family 13...\n"
     ]
    },
    {
     "name": "stderr",
     "output_type": "stream",
     "text": [
      "15:01:10 - cmdstanpy - INFO - Chain [1] done processing\n",
      "15:01:10 - cmdstanpy - INFO - Chain [1] start processing\n"
     ]
    },
    {
     "name": "stdout",
     "output_type": "stream",
     "text": [
      "There are 1 NaN values in the data.\n",
      "Root Mean Squared Error (RMSE): 65.38486904296175\n",
      "Root Mean Squared Logarithmic Error (RMSLE): 0.8037188778729122\n",
      "\n",
      "Training model for store 45 and family 14...\n"
     ]
    },
    {
     "name": "stderr",
     "output_type": "stream",
     "text": [
      "15:01:10 - cmdstanpy - INFO - Chain [1] done processing\n",
      "15:01:10 - cmdstanpy - INFO - Chain [1] start processing\n"
     ]
    },
    {
     "name": "stdout",
     "output_type": "stream",
     "text": [
      "There are 1 NaN values in the data.\n",
      "Root Mean Squared Error (RMSE): 1.4496513618276328\n",
      "Root Mean Squared Logarithmic Error (RMSLE): 0.5610801546744321\n",
      "\n",
      "Training model for store 45 and family 15...\n"
     ]
    },
    {
     "name": "stderr",
     "output_type": "stream",
     "text": [
      "15:01:10 - cmdstanpy - INFO - Chain [1] done processing\n",
      "15:01:11 - cmdstanpy - INFO - Chain [1] start processing\n"
     ]
    },
    {
     "name": "stdout",
     "output_type": "stream",
     "text": [
      "There are 1 NaN values in the data.\n",
      "Root Mean Squared Error (RMSE): 49.78550988402212\n",
      "Root Mean Squared Logarithmic Error (RMSLE): 0.6552882919443265\n",
      "\n",
      "Training model for store 45 and family 16...\n"
     ]
    },
    {
     "name": "stderr",
     "output_type": "stream",
     "text": [
      "15:01:11 - cmdstanpy - INFO - Chain [1] done processing\n",
      "15:01:11 - cmdstanpy - INFO - Chain [1] start processing\n"
     ]
    },
    {
     "name": "stdout",
     "output_type": "stream",
     "text": [
      "There are 1 NaN values in the data.\n",
      "Root Mean Squared Error (RMSE): 61.43910399662701\n",
      "Root Mean Squared Logarithmic Error (RMSLE): 0.7069313306252146\n",
      "\n",
      "Training model for store 45 and family 17...\n"
     ]
    },
    {
     "name": "stderr",
     "output_type": "stream",
     "text": [
      "15:01:11 - cmdstanpy - INFO - Chain [1] done processing\n",
      "15:01:11 - cmdstanpy - INFO - Chain [1] start processing\n"
     ]
    },
    {
     "name": "stdout",
     "output_type": "stream",
     "text": [
      "There are 1 NaN values in the data.\n",
      "Root Mean Squared Error (RMSE): 1.316828098952431\n",
      "Root Mean Squared Logarithmic Error (RMSLE): 0.5893447090477636\n",
      "\n",
      "Training model for store 45 and family 18...\n"
     ]
    },
    {
     "name": "stderr",
     "output_type": "stream",
     "text": [
      "15:01:11 - cmdstanpy - INFO - Chain [1] done processing\n",
      "15:01:12 - cmdstanpy - INFO - Chain [1] start processing\n"
     ]
    },
    {
     "name": "stdout",
     "output_type": "stream",
     "text": [
      "There are 1 NaN values in the data.\n",
      "Root Mean Squared Error (RMSE): 235.85666005442445\n",
      "Root Mean Squared Logarithmic Error (RMSLE): 0.6367156343800974\n",
      "\n",
      "Training model for store 45 and family 19...\n"
     ]
    },
    {
     "name": "stderr",
     "output_type": "stream",
     "text": [
      "15:01:12 - cmdstanpy - INFO - Chain [1] done processing\n",
      "15:01:12 - cmdstanpy - INFO - Chain [1] start processing\n"
     ]
    },
    {
     "name": "stdout",
     "output_type": "stream",
     "text": [
      "There are 1 NaN values in the data.\n",
      "Root Mean Squared Error (RMSE): 15.29829125423821\n",
      "Root Mean Squared Logarithmic Error (RMSLE): 0.683185865654608\n",
      "\n",
      "Training model for store 45 and family 20...\n"
     ]
    },
    {
     "name": "stderr",
     "output_type": "stream",
     "text": [
      "15:01:12 - cmdstanpy - INFO - Chain [1] done processing\n",
      "15:01:12 - cmdstanpy - INFO - Chain [1] start processing\n"
     ]
    },
    {
     "name": "stdout",
     "output_type": "stream",
     "text": [
      "There are 1 NaN values in the data.\n",
      "Root Mean Squared Error (RMSE): 37.928210350239894\n",
      "Root Mean Squared Logarithmic Error (RMSLE): 0.7598387296704555\n",
      "\n",
      "Training model for store 45 and family 21...\n"
     ]
    },
    {
     "name": "stderr",
     "output_type": "stream",
     "text": [
      "15:01:12 - cmdstanpy - INFO - Chain [1] done processing\n",
      "15:01:12 - cmdstanpy - INFO - Chain [1] start processing\n"
     ]
    },
    {
     "name": "stdout",
     "output_type": "stream",
     "text": [
      "There are 1 NaN values in the data.\n",
      "Root Mean Squared Error (RMSE): 3.760999499504226\n",
      "Root Mean Squared Logarithmic Error (RMSLE): 0.7455362660106808\n",
      "\n",
      "Training model for store 45 and family 22...\n"
     ]
    },
    {
     "name": "stderr",
     "output_type": "stream",
     "text": [
      "15:01:13 - cmdstanpy - INFO - Chain [1] done processing\n",
      "15:01:13 - cmdstanpy - INFO - Chain [1] start processing\n"
     ]
    },
    {
     "name": "stdout",
     "output_type": "stream",
     "text": [
      "There are 1 NaN values in the data.\n",
      "Root Mean Squared Error (RMSE): 122.49200399529067\n",
      "Root Mean Squared Logarithmic Error (RMSLE): 2.017680273766394\n",
      "\n",
      "Training model for store 45 and family 23...\n"
     ]
    },
    {
     "name": "stderr",
     "output_type": "stream",
     "text": [
      "15:01:13 - cmdstanpy - INFO - Chain [1] done processing\n",
      "15:01:13 - cmdstanpy - INFO - Chain [1] start processing\n"
     ]
    },
    {
     "name": "stdout",
     "output_type": "stream",
     "text": [
      "There are 1 NaN values in the data.\n",
      "Root Mean Squared Error (RMSE): 12.763850986536063\n",
      "Root Mean Squared Logarithmic Error (RMSLE): 0.6827348766486631\n",
      "\n",
      "Training model for store 45 and family 24...\n"
     ]
    },
    {
     "name": "stderr",
     "output_type": "stream",
     "text": [
      "15:01:13 - cmdstanpy - INFO - Chain [1] done processing\n",
      "15:01:13 - cmdstanpy - INFO - Chain [1] start processing\n"
     ]
    },
    {
     "name": "stdout",
     "output_type": "stream",
     "text": [
      "There are 1 NaN values in the data.\n",
      "Root Mean Squared Error (RMSE): 280.79131399394714\n",
      "Root Mean Squared Logarithmic Error (RMSLE): 0.6125281464046147\n",
      "\n",
      "Training model for store 45 and family 25...\n"
     ]
    },
    {
     "name": "stderr",
     "output_type": "stream",
     "text": [
      "15:01:13 - cmdstanpy - INFO - Chain [1] done processing\n",
      "15:01:14 - cmdstanpy - INFO - Chain [1] start processing\n"
     ]
    },
    {
     "name": "stdout",
     "output_type": "stream",
     "text": [
      "There are 1 NaN values in the data.\n",
      "Root Mean Squared Error (RMSE): 232.78498400054252\n",
      "Root Mean Squared Logarithmic Error (RMSLE): 0.6183587206108667\n",
      "\n",
      "Training model for store 45 and family 26...\n"
     ]
    },
    {
     "name": "stderr",
     "output_type": "stream",
     "text": [
      "15:01:14 - cmdstanpy - INFO - Chain [1] done processing\n",
      "15:01:14 - cmdstanpy - INFO - Chain [1] start processing\n"
     ]
    },
    {
     "name": "stdout",
     "output_type": "stream",
     "text": [
      "There are 1 NaN values in the data.\n",
      "Root Mean Squared Error (RMSE): 11.320411888222695\n",
      "Root Mean Squared Logarithmic Error (RMSLE): 0.5248796842534159\n",
      "\n",
      "Training model for store 45 and family 27...\n"
     ]
    },
    {
     "name": "stderr",
     "output_type": "stream",
     "text": [
      "15:01:14 - cmdstanpy - INFO - Chain [1] done processing\n",
      "15:01:14 - cmdstanpy - INFO - Chain [1] start processing\n"
     ]
    },
    {
     "name": "stdout",
     "output_type": "stream",
     "text": [
      "There are 1 NaN values in the data.\n",
      "Root Mean Squared Error (RMSE): 16.988138704311265\n",
      "Root Mean Squared Logarithmic Error (RMSLE): 0.7067107826674955\n",
      "\n",
      "Training model for store 45 and family 28...\n"
     ]
    },
    {
     "name": "stderr",
     "output_type": "stream",
     "text": [
      "15:01:14 - cmdstanpy - INFO - Chain [1] done processing\n",
      "15:01:15 - cmdstanpy - INFO - Chain [1] start processing\n"
     ]
    },
    {
     "name": "stdout",
     "output_type": "stream",
     "text": [
      "There are 1 NaN values in the data.\n",
      "Root Mean Squared Error (RMSE): 298.274030811379\n",
      "Root Mean Squared Logarithmic Error (RMSLE): 0.6190480957527991\n",
      "\n",
      "Training model for store 45 and family 29...\n"
     ]
    },
    {
     "name": "stderr",
     "output_type": "stream",
     "text": [
      "15:01:15 - cmdstanpy - INFO - Chain [1] done processing\n",
      "15:01:15 - cmdstanpy - INFO - Chain [1] start processing\n"
     ]
    },
    {
     "name": "stdout",
     "output_type": "stream",
     "text": [
      "There are 1 NaN values in the data.\n",
      "Root Mean Squared Error (RMSE): 83.05985705976747\n",
      "Root Mean Squared Logarithmic Error (RMSLE): 0.5488212796968789\n",
      "\n",
      "Training model for store 45 and family 30...\n"
     ]
    },
    {
     "name": "stderr",
     "output_type": "stream",
     "text": [
      "15:01:15 - cmdstanpy - INFO - Chain [1] done processing\n",
      "15:01:15 - cmdstanpy - INFO - Chain [1] start processing\n"
     ]
    },
    {
     "name": "stdout",
     "output_type": "stream",
     "text": [
      "There are 1 NaN values in the data.\n",
      "Root Mean Squared Error (RMSE): 2848.9705777090735\n",
      "Root Mean Squared Logarithmic Error (RMSLE): 0.824080562491442\n",
      "\n",
      "Training model for store 45 and family 31...\n"
     ]
    },
    {
     "name": "stderr",
     "output_type": "stream",
     "text": [
      "15:01:15 - cmdstanpy - INFO - Chain [1] done processing\n",
      "15:01:16 - cmdstanpy - INFO - Chain [1] start processing\n"
     ]
    },
    {
     "name": "stdout",
     "output_type": "stream",
     "text": [
      "There are 1 NaN values in the data.\n",
      "Root Mean Squared Error (RMSE): 121.09826767160109\n",
      "Root Mean Squared Logarithmic Error (RMSLE): 1.7414777162332733\n",
      "\n",
      "Training model for store 45 and family 32...\n"
     ]
    },
    {
     "name": "stderr",
     "output_type": "stream",
     "text": [
      "15:01:16 - cmdstanpy - INFO - Chain [1] done processing\n"
     ]
    },
    {
     "name": "stdout",
     "output_type": "stream",
     "text": [
      "There are 1 NaN values in the data.\n",
      "Root Mean Squared Error (RMSE): 30.403815630634192\n",
      "Root Mean Squared Logarithmic Error (RMSLE): 0.4943788824610518\n",
      "\n",
      "Training model for store 46 and family 0...\n"
     ]
    },
    {
     "name": "stderr",
     "output_type": "stream",
     "text": [
      "15:01:16 - cmdstanpy - INFO - Chain [1] start processing\n",
      "15:01:16 - cmdstanpy - INFO - Chain [1] done processing\n"
     ]
    },
    {
     "name": "stdout",
     "output_type": "stream",
     "text": [
      "There are 1 NaN values in the data.\n",
      "Root Mean Squared Error (RMSE): 6.756053588651034\n",
      "Root Mean Squared Logarithmic Error (RMSLE): 0.5168933596237522\n",
      "\n",
      "Training model for store 46 and family 1...\n",
      "There are 1 NaN values in the data.\n",
      "Root Mean Squared Error (RMSE): 0.0\n",
      "Root Mean Squared Logarithmic Error (RMSLE): 0.0\n"
     ]
    },
    {
     "name": "stderr",
     "output_type": "stream",
     "text": [
      "15:01:17 - cmdstanpy - INFO - Chain [1] start processing\n",
      "15:01:17 - cmdstanpy - INFO - Chain [1] done processing\n"
     ]
    },
    {
     "name": "stdout",
     "output_type": "stream",
     "text": [
      "\n",
      "Training model for store 46 and family 2...\n",
      "There are 1 NaN values in the data.\n",
      "Root Mean Squared Error (RMSE): 7.662643535640785\n",
      "Root Mean Squared Logarithmic Error (RMSLE): 0.45981015974196277\n"
     ]
    },
    {
     "name": "stderr",
     "output_type": "stream",
     "text": [
      "15:01:17 - cmdstanpy - INFO - Chain [1] start processing\n",
      "15:01:17 - cmdstanpy - INFO - Chain [1] done processing\n"
     ]
    },
    {
     "name": "stdout",
     "output_type": "stream",
     "text": [
      "\n",
      "Training model for store 46 and family 3...\n",
      "There are 1 NaN values in the data.\n",
      "Root Mean Squared Error (RMSE): 2420.8553388475466\n",
      "Root Mean Squared Logarithmic Error (RMSLE): 0.7659739295792622\n",
      "\n",
      "Training model for store 46 and family 4...\n",
      "There are 1 NaN values in the data.\n",
      "Root Mean Squared Error (RMSE): 1.370656129323497\n",
      "Root Mean Squared Logarithmic Error (RMSLE): 0.5805809435705332\n"
     ]
    },
    {
     "name": "stderr",
     "output_type": "stream",
     "text": [
      "15:01:17 - cmdstanpy - INFO - Chain [1] start processing\n",
      "15:01:17 - cmdstanpy - INFO - Chain [1] done processing\n"
     ]
    },
    {
     "name": "stdout",
     "output_type": "stream",
     "text": [
      "\n",
      "Training model for store 46 and family 5...\n"
     ]
    },
    {
     "name": "stderr",
     "output_type": "stream",
     "text": [
      "15:01:18 - cmdstanpy - INFO - Chain [1] start processing\n"
     ]
    },
    {
     "name": "stdout",
     "output_type": "stream",
     "text": [
      "There are 1 NaN values in the data.\n",
      "Root Mean Squared Error (RMSE): 288.04272636463355\n",
      "Root Mean Squared Logarithmic Error (RMSLE): 0.6150830782650297\n",
      "\n",
      "Training model for store 46 and family 6...\n"
     ]
    },
    {
     "name": "stderr",
     "output_type": "stream",
     "text": [
      "15:01:18 - cmdstanpy - INFO - Chain [1] done processing\n",
      "15:01:18 - cmdstanpy - INFO - Chain [1] start processing\n"
     ]
    },
    {
     "name": "stdout",
     "output_type": "stream",
     "text": [
      "There are 1 NaN values in the data.\n",
      "Root Mean Squared Error (RMSE): 12.724347452987178\n",
      "Root Mean Squared Logarithmic Error (RMSLE): 0.6865776529152802\n",
      "\n",
      "Training model for store 46 and family 7...\n"
     ]
    },
    {
     "name": "stderr",
     "output_type": "stream",
     "text": [
      "15:01:18 - cmdstanpy - INFO - Chain [1] done processing\n",
      "15:01:18 - cmdstanpy - INFO - Chain [1] start processing\n"
     ]
    },
    {
     "name": "stdout",
     "output_type": "stream",
     "text": [
      "There are 1 NaN values in the data.\n",
      "Root Mean Squared Error (RMSE): 880.5332959957483\n",
      "Root Mean Squared Logarithmic Error (RMSLE): 0.7210366263975924\n",
      "\n",
      "Training model for store 46 and family 8...\n"
     ]
    },
    {
     "name": "stderr",
     "output_type": "stream",
     "text": [
      "15:01:18 - cmdstanpy - INFO - Chain [1] done processing\n",
      "15:01:19 - cmdstanpy - INFO - Chain [1] start processing\n"
     ]
    },
    {
     "name": "stdout",
     "output_type": "stream",
     "text": [
      "There are 1 NaN values in the data.\n",
      "Root Mean Squared Error (RMSE): 453.680194930812\n",
      "Root Mean Squared Logarithmic Error (RMSLE): 0.6394980782902767\n",
      "\n",
      "Training model for store 46 and family 9...\n"
     ]
    },
    {
     "name": "stderr",
     "output_type": "stream",
     "text": [
      "15:01:19 - cmdstanpy - INFO - Chain [1] done processing\n",
      "15:01:19 - cmdstanpy - INFO - Chain [1] start processing\n"
     ]
    },
    {
     "name": "stdout",
     "output_type": "stream",
     "text": [
      "There are 1 NaN values in the data.\n",
      "Root Mean Squared Error (RMSE): 333.5831098790257\n",
      "Root Mean Squared Logarithmic Error (RMSLE): 0.721276054718123\n",
      "\n",
      "Training model for store 46 and family 10...\n"
     ]
    },
    {
     "name": "stderr",
     "output_type": "stream",
     "text": [
      "15:01:19 - cmdstanpy - INFO - Chain [1] done processing\n",
      "15:01:19 - cmdstanpy - INFO - Chain [1] start processing\n"
     ]
    },
    {
     "name": "stdout",
     "output_type": "stream",
     "text": [
      "There are 1 NaN values in the data.\n",
      "Root Mean Squared Error (RMSE): 79.17661473523243\n",
      "Root Mean Squared Logarithmic Error (RMSLE): 0.7920815433871962\n",
      "\n",
      "Training model for store 46 and family 11...\n"
     ]
    },
    {
     "name": "stderr",
     "output_type": "stream",
     "text": [
      "15:01:19 - cmdstanpy - INFO - Chain [1] done processing\n",
      "15:01:20 - cmdstanpy - INFO - Chain [1] start processing\n"
     ]
    },
    {
     "name": "stdout",
     "output_type": "stream",
     "text": [
      "There are 1 NaN values in the data.\n",
      "Root Mean Squared Error (RMSE): 419.0320338614908\n",
      "Root Mean Squared Logarithmic Error (RMSLE): 2.130331913837047\n",
      "\n",
      "Training model for store 46 and family 12...\n"
     ]
    },
    {
     "name": "stderr",
     "output_type": "stream",
     "text": [
      "15:01:20 - cmdstanpy - INFO - Chain [1] done processing\n",
      "15:01:20 - cmdstanpy - INFO - Chain [1] start processing\n"
     ]
    },
    {
     "name": "stdout",
     "output_type": "stream",
     "text": [
      "There are 1 NaN values in the data.\n",
      "Root Mean Squared Error (RMSE): 3141.673596436085\n",
      "Root Mean Squared Logarithmic Error (RMSLE): 0.7827222260396862\n",
      "\n",
      "Training model for store 46 and family 13...\n"
     ]
    },
    {
     "name": "stderr",
     "output_type": "stream",
     "text": [
      "15:01:20 - cmdstanpy - INFO - Chain [1] done processing\n",
      "15:01:20 - cmdstanpy - INFO - Chain [1] start processing\n",
      "15:01:20 - cmdstanpy - INFO - Chain [1] done processing\n"
     ]
    },
    {
     "name": "stdout",
     "output_type": "stream",
     "text": [
      "There are 1 NaN values in the data.\n",
      "Root Mean Squared Error (RMSE): 38.59257829651788\n",
      "Root Mean Squared Logarithmic Error (RMSLE): 0.7297794350567497\n",
      "\n",
      "Training model for store 46 and family 14...\n"
     ]
    },
    {
     "name": "stderr",
     "output_type": "stream",
     "text": [
      "15:01:21 - cmdstanpy - INFO - Chain [1] start processing\n"
     ]
    },
    {
     "name": "stdout",
     "output_type": "stream",
     "text": [
      "There are 1 NaN values in the data.\n",
      "Root Mean Squared Error (RMSE): 1.9215917240133555\n",
      "Root Mean Squared Logarithmic Error (RMSLE): 0.5973647182628182\n",
      "\n",
      "Training model for store 46 and family 15...\n"
     ]
    },
    {
     "name": "stderr",
     "output_type": "stream",
     "text": [
      "15:01:21 - cmdstanpy - INFO - Chain [1] done processing\n",
      "15:01:21 - cmdstanpy - INFO - Chain [1] start processing\n"
     ]
    },
    {
     "name": "stdout",
     "output_type": "stream",
     "text": [
      "There are 1 NaN values in the data.\n",
      "Root Mean Squared Error (RMSE): 27.543073038212746\n",
      "Root Mean Squared Logarithmic Error (RMSLE): 0.8411868923783182\n",
      "\n",
      "Training model for store 46 and family 16...\n"
     ]
    },
    {
     "name": "stderr",
     "output_type": "stream",
     "text": [
      "15:01:21 - cmdstanpy - INFO - Chain [1] done processing\n",
      "15:01:21 - cmdstanpy - INFO - Chain [1] start processing\n"
     ]
    },
    {
     "name": "stdout",
     "output_type": "stream",
     "text": [
      "There are 1 NaN values in the data.\n",
      "Root Mean Squared Error (RMSE): 34.77301190526768\n",
      "Root Mean Squared Logarithmic Error (RMSLE): 0.8181527258816719\n",
      "\n",
      "Training model for store 46 and family 17...\n"
     ]
    },
    {
     "name": "stderr",
     "output_type": "stream",
     "text": [
      "15:01:21 - cmdstanpy - INFO - Chain [1] done processing\n",
      "15:01:21 - cmdstanpy - INFO - Chain [1] start processing\n"
     ]
    },
    {
     "name": "stdout",
     "output_type": "stream",
     "text": [
      "There are 1 NaN values in the data.\n",
      "Root Mean Squared Error (RMSE): 1.2349451064790795\n",
      "Root Mean Squared Logarithmic Error (RMSLE): 0.571936928439225\n",
      "\n",
      "Training model for store 46 and family 18...\n"
     ]
    },
    {
     "name": "stderr",
     "output_type": "stream",
     "text": [
      "15:01:22 - cmdstanpy - INFO - Chain [1] done processing\n",
      "15:01:22 - cmdstanpy - INFO - Chain [1] start processing\n"
     ]
    },
    {
     "name": "stdout",
     "output_type": "stream",
     "text": [
      "There are 1 NaN values in the data.\n",
      "Root Mean Squared Error (RMSE): 252.01186374244594\n",
      "Root Mean Squared Logarithmic Error (RMSLE): 0.6368505760214671\n",
      "\n",
      "Training model for store 46 and family 19...\n"
     ]
    },
    {
     "name": "stderr",
     "output_type": "stream",
     "text": [
      "15:01:22 - cmdstanpy - INFO - Chain [1] done processing\n",
      "15:01:22 - cmdstanpy - INFO - Chain [1] start processing\n"
     ]
    },
    {
     "name": "stdout",
     "output_type": "stream",
     "text": [
      "There are 1 NaN values in the data.\n",
      "Root Mean Squared Error (RMSE): 19.697094022817055\n",
      "Root Mean Squared Logarithmic Error (RMSLE): 0.6696299409853497\n",
      "\n",
      "Training model for store 46 and family 20...\n"
     ]
    },
    {
     "name": "stderr",
     "output_type": "stream",
     "text": [
      "15:01:22 - cmdstanpy - INFO - Chain [1] done processing\n",
      "15:01:22 - cmdstanpy - INFO - Chain [1] start processing\n"
     ]
    },
    {
     "name": "stdout",
     "output_type": "stream",
     "text": [
      "There are 1 NaN values in the data.\n",
      "Root Mean Squared Error (RMSE): 32.948302207817534\n",
      "Root Mean Squared Logarithmic Error (RMSLE): 1.24627899060313\n",
      "\n",
      "Training model for store 46 and family 21...\n"
     ]
    },
    {
     "name": "stderr",
     "output_type": "stream",
     "text": [
      "15:01:22 - cmdstanpy - INFO - Chain [1] done processing\n",
      "15:01:23 - cmdstanpy - INFO - Chain [1] start processing\n"
     ]
    },
    {
     "name": "stdout",
     "output_type": "stream",
     "text": [
      "There are 1 NaN values in the data.\n",
      "Root Mean Squared Error (RMSE): 6.198859432414415\n",
      "Root Mean Squared Logarithmic Error (RMSLE): 0.9529411079337876\n",
      "\n",
      "Training model for store 46 and family 22...\n"
     ]
    },
    {
     "name": "stderr",
     "output_type": "stream",
     "text": [
      "15:01:23 - cmdstanpy - INFO - Chain [1] done processing\n",
      "15:01:23 - cmdstanpy - INFO - Chain [1] start processing\n"
     ]
    },
    {
     "name": "stdout",
     "output_type": "stream",
     "text": [
      "There are 1 NaN values in the data.\n",
      "Root Mean Squared Error (RMSE): 82.4711839923472\n",
      "Root Mean Squared Logarithmic Error (RMSLE): 1.8127441378370688\n",
      "\n",
      "Training model for store 46 and family 23...\n"
     ]
    },
    {
     "name": "stderr",
     "output_type": "stream",
     "text": [
      "15:01:23 - cmdstanpy - INFO - Chain [1] done processing\n",
      "15:01:23 - cmdstanpy - INFO - Chain [1] start processing\n"
     ]
    },
    {
     "name": "stdout",
     "output_type": "stream",
     "text": [
      "There are 1 NaN values in the data.\n",
      "Root Mean Squared Error (RMSE): 9.534131966394769\n",
      "Root Mean Squared Logarithmic Error (RMSLE): 0.8744807284536495\n",
      "\n",
      "Training model for store 46 and family 24...\n"
     ]
    },
    {
     "name": "stderr",
     "output_type": "stream",
     "text": [
      "15:01:23 - cmdstanpy - INFO - Chain [1] done processing\n",
      "15:01:24 - cmdstanpy - INFO - Chain [1] start processing\n"
     ]
    },
    {
     "name": "stdout",
     "output_type": "stream",
     "text": [
      "There are 1 NaN values in the data.\n",
      "Root Mean Squared Error (RMSE): 346.61288677759313\n",
      "Root Mean Squared Logarithmic Error (RMSLE): 0.6224897848751341\n",
      "\n",
      "Training model for store 46 and family 25...\n"
     ]
    },
    {
     "name": "stderr",
     "output_type": "stream",
     "text": [
      "15:01:24 - cmdstanpy - INFO - Chain [1] done processing\n",
      "15:01:24 - cmdstanpy - INFO - Chain [1] start processing\n"
     ]
    },
    {
     "name": "stdout",
     "output_type": "stream",
     "text": [
      "There are 1 NaN values in the data.\n",
      "Root Mean Squared Error (RMSE): 301.3884604164036\n",
      "Root Mean Squared Logarithmic Error (RMSLE): 0.6341029195216121\n",
      "\n",
      "Training model for store 46 and family 26...\n"
     ]
    },
    {
     "name": "stderr",
     "output_type": "stream",
     "text": [
      "15:01:24 - cmdstanpy - INFO - Chain [1] done processing\n",
      "15:01:24 - cmdstanpy - INFO - Chain [1] start processing\n"
     ]
    },
    {
     "name": "stdout",
     "output_type": "stream",
     "text": [
      "There are 1 NaN values in the data.\n",
      "Root Mean Squared Error (RMSE): 11.32049977518527\n",
      "Root Mean Squared Logarithmic Error (RMSLE): 0.5251644139804142\n",
      "\n",
      "Training model for store 46 and family 27...\n"
     ]
    },
    {
     "name": "stderr",
     "output_type": "stream",
     "text": [
      "15:01:24 - cmdstanpy - INFO - Chain [1] done processing\n"
     ]
    },
    {
     "name": "stdout",
     "output_type": "stream",
     "text": [
      "There are 1 NaN values in the data.\n",
      "Root Mean Squared Error (RMSE): 22.469622933257643\n",
      "Root Mean Squared Logarithmic Error (RMSLE): 0.7203170715278792\n",
      "\n",
      "Training model for store 46 and family 28...\n"
     ]
    },
    {
     "name": "stderr",
     "output_type": "stream",
     "text": [
      "15:01:25 - cmdstanpy - INFO - Chain [1] start processing\n",
      "15:01:25 - cmdstanpy - INFO - Chain [1] done processing\n",
      "15:01:25 - cmdstanpy - INFO - Chain [1] start processing\n"
     ]
    },
    {
     "name": "stdout",
     "output_type": "stream",
     "text": [
      "There are 1 NaN values in the data.\n",
      "Root Mean Squared Error (RMSE): 266.12023142601504\n",
      "Root Mean Squared Logarithmic Error (RMSLE): 0.6186003508882583\n",
      "\n",
      "Training model for store 46 and family 29...\n"
     ]
    },
    {
     "name": "stderr",
     "output_type": "stream",
     "text": [
      "15:01:25 - cmdstanpy - INFO - Chain [1] done processing\n",
      "15:01:25 - cmdstanpy - INFO - Chain [1] start processing\n",
      "15:01:25 - cmdstanpy - INFO - Chain [1] done processing\n"
     ]
    },
    {
     "name": "stdout",
     "output_type": "stream",
     "text": [
      "There are 1 NaN values in the data.\n",
      "Root Mean Squared Error (RMSE): 60.18908930502913\n",
      "Root Mean Squared Logarithmic Error (RMSLE): 0.5230283006984799\n",
      "\n",
      "Training model for store 46 and family 30...\n"
     ]
    },
    {
     "name": "stderr",
     "output_type": "stream",
     "text": [
      "15:01:25 - cmdstanpy - INFO - Chain [1] start processing\n"
     ]
    },
    {
     "name": "stdout",
     "output_type": "stream",
     "text": [
      "There are 1 NaN values in the data.\n",
      "Root Mean Squared Error (RMSE): 1399.0163766785065\n",
      "Root Mean Squared Logarithmic Error (RMSLE): 0.7857831936400747\n",
      "\n",
      "Training model for store 46 and family 31...\n"
     ]
    },
    {
     "name": "stderr",
     "output_type": "stream",
     "text": [
      "15:01:26 - cmdstanpy - INFO - Chain [1] done processing\n",
      "15:01:26 - cmdstanpy - INFO - Chain [1] start processing\n"
     ]
    },
    {
     "name": "stdout",
     "output_type": "stream",
     "text": [
      "There are 1 NaN values in the data.\n",
      "Root Mean Squared Error (RMSE): 87.74451101101842\n",
      "Root Mean Squared Logarithmic Error (RMSLE): 1.7620395704099185\n",
      "\n",
      "Training model for store 46 and family 32...\n"
     ]
    },
    {
     "name": "stderr",
     "output_type": "stream",
     "text": [
      "15:01:26 - cmdstanpy - INFO - Chain [1] done processing\n",
      "15:01:26 - cmdstanpy - INFO - Chain [1] start processing\n"
     ]
    },
    {
     "name": "stdout",
     "output_type": "stream",
     "text": [
      "There are 1 NaN values in the data.\n",
      "Root Mean Squared Error (RMSE): 17.2198258833404\n",
      "Root Mean Squared Logarithmic Error (RMSLE): 0.4360653027923135\n",
      "\n",
      "Training model for store 47 and family 0...\n"
     ]
    },
    {
     "name": "stderr",
     "output_type": "stream",
     "text": [
      "15:01:26 - cmdstanpy - INFO - Chain [1] done processing\n"
     ]
    },
    {
     "name": "stdout",
     "output_type": "stream",
     "text": [
      "There are 1 NaN values in the data.\n",
      "Root Mean Squared Error (RMSE): 7.0865282089688755\n",
      "Root Mean Squared Logarithmic Error (RMSLE): 0.4926318495320693\n",
      "\n",
      "Training model for store 47 and family 1...\n",
      "There are 1 NaN values in the data.\n",
      "Root Mean Squared Error (RMSE): 0.0\n",
      "Root Mean Squared Logarithmic Error (RMSLE): 0.0\n"
     ]
    },
    {
     "name": "stderr",
     "output_type": "stream",
     "text": [
      "15:01:27 - cmdstanpy - INFO - Chain [1] start processing\n",
      "15:01:27 - cmdstanpy - INFO - Chain [1] done processing\n"
     ]
    },
    {
     "name": "stdout",
     "output_type": "stream",
     "text": [
      "\n",
      "Training model for store 47 and family 2...\n"
     ]
    },
    {
     "name": "stderr",
     "output_type": "stream",
     "text": [
      "15:01:27 - cmdstanpy - INFO - Chain [1] start processing\n"
     ]
    },
    {
     "name": "stdout",
     "output_type": "stream",
     "text": [
      "There are 1 NaN values in the data.\n",
      "Root Mean Squared Error (RMSE): 8.298943871912222\n",
      "Root Mean Squared Logarithmic Error (RMSLE): 0.5211576946602351\n",
      "\n",
      "Training model for store 47 and family 3...\n"
     ]
    },
    {
     "name": "stderr",
     "output_type": "stream",
     "text": [
      "15:01:27 - cmdstanpy - INFO - Chain [1] done processing\n"
     ]
    },
    {
     "name": "stdout",
     "output_type": "stream",
     "text": [
      "There are 1 NaN values in the data.\n",
      "Root Mean Squared Error (RMSE): 2914.0088027428797\n",
      "Root Mean Squared Logarithmic Error (RMSLE): 0.7671361510624503\n",
      "\n",
      "Training model for store 47 and family 4...\n",
      "There are 1 NaN values in the data.\n",
      "Root Mean Squared Error (RMSE): 2.8838460512546917\n",
      "Root Mean Squared Logarithmic Error (RMSLE): 1.0318707285684166\n"
     ]
    },
    {
     "name": "stderr",
     "output_type": "stream",
     "text": [
      "15:01:27 - cmdstanpy - INFO - Chain [1] start processing\n",
      "15:01:27 - cmdstanpy - INFO - Chain [1] done processing\n"
     ]
    },
    {
     "name": "stdout",
     "output_type": "stream",
     "text": [
      "\n",
      "Training model for store 47 and family 5...\n"
     ]
    },
    {
     "name": "stderr",
     "output_type": "stream",
     "text": [
      "15:01:28 - cmdstanpy - INFO - Chain [1] start processing\n"
     ]
    },
    {
     "name": "stdout",
     "output_type": "stream",
     "text": [
      "There are 1 NaN values in the data.\n",
      "Root Mean Squared Error (RMSE): 247.89951599065114\n",
      "Root Mean Squared Logarithmic Error (RMSLE): 0.5977620697406445\n",
      "\n",
      "Training model for store 47 and family 6...\n"
     ]
    },
    {
     "name": "stderr",
     "output_type": "stream",
     "text": [
      "15:01:28 - cmdstanpy - INFO - Chain [1] done processing\n",
      "15:01:28 - cmdstanpy - INFO - Chain [1] start processing\n"
     ]
    },
    {
     "name": "stdout",
     "output_type": "stream",
     "text": [
      "There are 1 NaN values in the data.\n",
      "Root Mean Squared Error (RMSE): 18.210012823379614\n",
      "Root Mean Squared Logarithmic Error (RMSLE): 0.5787171229324882\n",
      "\n",
      "Training model for store 47 and family 7...\n"
     ]
    },
    {
     "name": "stderr",
     "output_type": "stream",
     "text": [
      "15:01:28 - cmdstanpy - INFO - Chain [1] done processing\n",
      "15:01:28 - cmdstanpy - INFO - Chain [1] start processing\n"
     ]
    },
    {
     "name": "stdout",
     "output_type": "stream",
     "text": [
      "There are 1 NaN values in the data.\n",
      "Root Mean Squared Error (RMSE): 717.3675944927577\n",
      "Root Mean Squared Logarithmic Error (RMSLE): 0.6794484121414225\n",
      "\n",
      "Training model for store 47 and family 8...\n"
     ]
    },
    {
     "name": "stderr",
     "output_type": "stream",
     "text": [
      "15:01:28 - cmdstanpy - INFO - Chain [1] done processing\n",
      "15:01:29 - cmdstanpy - INFO - Chain [1] start processing\n"
     ]
    },
    {
     "name": "stdout",
     "output_type": "stream",
     "text": [
      "There are 1 NaN values in the data.\n",
      "Root Mean Squared Error (RMSE): 494.4793906586733\n",
      "Root Mean Squared Logarithmic Error (RMSLE): 0.6477443617250722\n",
      "\n",
      "Training model for store 47 and family 9...\n"
     ]
    },
    {
     "name": "stderr",
     "output_type": "stream",
     "text": [
      "15:01:29 - cmdstanpy - INFO - Chain [1] done processing\n",
      "15:01:29 - cmdstanpy - INFO - Chain [1] start processing\n"
     ]
    },
    {
     "name": "stdout",
     "output_type": "stream",
     "text": [
      "There are 1 NaN values in the data.\n",
      "Root Mean Squared Error (RMSE): 240.71096099975827\n",
      "Root Mean Squared Logarithmic Error (RMSLE): 0.6505111122431462\n",
      "\n",
      "Training model for store 47 and family 10...\n"
     ]
    },
    {
     "name": "stderr",
     "output_type": "stream",
     "text": [
      "15:01:29 - cmdstanpy - INFO - Chain [1] done processing\n",
      "15:01:29 - cmdstanpy - INFO - Chain [1] start processing\n"
     ]
    },
    {
     "name": "stdout",
     "output_type": "stream",
     "text": [
      "There are 1 NaN values in the data.\n",
      "Root Mean Squared Error (RMSE): 95.55738820420005\n",
      "Root Mean Squared Logarithmic Error (RMSLE): 0.5383867659366118\n",
      "\n",
      "Training model for store 47 and family 11...\n"
     ]
    },
    {
     "name": "stderr",
     "output_type": "stream",
     "text": [
      "15:01:29 - cmdstanpy - INFO - Chain [1] done processing\n",
      "15:01:30 - cmdstanpy - INFO - Chain [1] start processing\n"
     ]
    },
    {
     "name": "stdout",
     "output_type": "stream",
     "text": [
      "There are 1 NaN values in the data.\n",
      "Root Mean Squared Error (RMSE): 421.41787796656104\n",
      "Root Mean Squared Logarithmic Error (RMSLE): 1.2674257334691907\n",
      "\n",
      "Training model for store 47 and family 12...\n"
     ]
    },
    {
     "name": "stderr",
     "output_type": "stream",
     "text": [
      "15:01:30 - cmdstanpy - INFO - Chain [1] done processing\n",
      "15:01:30 - cmdstanpy - INFO - Chain [1] start processing\n"
     ]
    },
    {
     "name": "stdout",
     "output_type": "stream",
     "text": [
      "There are 1 NaN values in the data.\n",
      "Root Mean Squared Error (RMSE): 2471.008973484244\n",
      "Root Mean Squared Logarithmic Error (RMSLE): 0.7656361411234829\n",
      "\n",
      "Training model for store 47 and family 13...\n"
     ]
    },
    {
     "name": "stderr",
     "output_type": "stream",
     "text": [
      "15:01:30 - cmdstanpy - INFO - Chain [1] done processing\n",
      "15:01:30 - cmdstanpy - INFO - Chain [1] start processing\n"
     ]
    },
    {
     "name": "stdout",
     "output_type": "stream",
     "text": [
      "There are 1 NaN values in the data.\n",
      "Root Mean Squared Error (RMSE): 54.74418864338127\n",
      "Root Mean Squared Logarithmic Error (RMSLE): 1.7176416562865375\n",
      "\n",
      "Training model for store 47 and family 14...\n"
     ]
    },
    {
     "name": "stderr",
     "output_type": "stream",
     "text": [
      "15:01:30 - cmdstanpy - INFO - Chain [1] done processing\n",
      "15:01:31 - cmdstanpy - INFO - Chain [1] start processing\n"
     ]
    },
    {
     "name": "stdout",
     "output_type": "stream",
     "text": [
      "There are 1 NaN values in the data.\n",
      "Root Mean Squared Error (RMSE): 2.127313480550036\n",
      "Root Mean Squared Logarithmic Error (RMSLE): 0.6599293580081137\n",
      "\n",
      "Training model for store 47 and family 15...\n"
     ]
    },
    {
     "name": "stderr",
     "output_type": "stream",
     "text": [
      "15:01:31 - cmdstanpy - INFO - Chain [1] done processing\n",
      "15:01:31 - cmdstanpy - INFO - Chain [1] start processing\n"
     ]
    },
    {
     "name": "stdout",
     "output_type": "stream",
     "text": [
      "There are 1 NaN values in the data.\n",
      "Root Mean Squared Error (RMSE): 43.740595401057455\n",
      "Root Mean Squared Logarithmic Error (RMSLE): 0.6039083840676379\n",
      "\n",
      "Training model for store 47 and family 16...\n"
     ]
    },
    {
     "name": "stderr",
     "output_type": "stream",
     "text": [
      "15:01:31 - cmdstanpy - INFO - Chain [1] done processing\n",
      "15:01:31 - cmdstanpy - INFO - Chain [1] start processing\n"
     ]
    },
    {
     "name": "stdout",
     "output_type": "stream",
     "text": [
      "There are 1 NaN values in the data.\n",
      "Root Mean Squared Error (RMSE): 37.6786041098787\n",
      "Root Mean Squared Logarithmic Error (RMSLE): 0.5463204965834394\n",
      "\n",
      "Training model for store 47 and family 17...\n"
     ]
    },
    {
     "name": "stderr",
     "output_type": "stream",
     "text": [
      "15:01:31 - cmdstanpy - INFO - Chain [1] done processing\n",
      "15:01:32 - cmdstanpy - INFO - Chain [1] start processing\n"
     ]
    },
    {
     "name": "stdout",
     "output_type": "stream",
     "text": [
      "There are 1 NaN values in the data.\n",
      "Root Mean Squared Error (RMSE): 1.8897761441692218\n",
      "Root Mean Squared Logarithmic Error (RMSLE): 0.6946840215972051\n",
      "\n",
      "Training model for store 47 and family 18...\n"
     ]
    },
    {
     "name": "stderr",
     "output_type": "stream",
     "text": [
      "15:01:32 - cmdstanpy - INFO - Chain [1] done processing\n",
      "15:01:32 - cmdstanpy - INFO - Chain [1] start processing\n"
     ]
    },
    {
     "name": "stdout",
     "output_type": "stream",
     "text": [
      "There are 1 NaN values in the data.\n",
      "Root Mean Squared Error (RMSE): 230.48287589779977\n",
      "Root Mean Squared Logarithmic Error (RMSLE): 0.6171582456981762\n",
      "\n",
      "Training model for store 47 and family 19...\n"
     ]
    },
    {
     "name": "stderr",
     "output_type": "stream",
     "text": [
      "15:01:32 - cmdstanpy - INFO - Chain [1] done processing\n",
      "15:01:32 - cmdstanpy - INFO - Chain [1] start processing\n"
     ]
    },
    {
     "name": "stdout",
     "output_type": "stream",
     "text": [
      "There are 1 NaN values in the data.\n",
      "Root Mean Squared Error (RMSE): 20.020622787855373\n",
      "Root Mean Squared Logarithmic Error (RMSLE): 0.7380334878162897\n",
      "\n",
      "Training model for store 47 and family 20...\n"
     ]
    },
    {
     "name": "stderr",
     "output_type": "stream",
     "text": [
      "15:01:32 - cmdstanpy - INFO - Chain [1] done processing\n",
      "15:01:32 - cmdstanpy - INFO - Chain [1] start processing\n"
     ]
    },
    {
     "name": "stdout",
     "output_type": "stream",
     "text": [
      "There are 1 NaN values in the data.\n",
      "Root Mean Squared Error (RMSE): 34.935400924784055\n",
      "Root Mean Squared Logarithmic Error (RMSLE): 0.9620481624433554\n",
      "\n",
      "Training model for store 47 and family 21...\n"
     ]
    },
    {
     "name": "stderr",
     "output_type": "stream",
     "text": [
      "15:01:33 - cmdstanpy - INFO - Chain [1] done processing\n",
      "15:01:33 - cmdstanpy - INFO - Chain [1] start processing\n"
     ]
    },
    {
     "name": "stdout",
     "output_type": "stream",
     "text": [
      "There are 1 NaN values in the data.\n",
      "Root Mean Squared Error (RMSE): 6.241517581314763\n",
      "Root Mean Squared Logarithmic Error (RMSLE): 0.7845884020950846\n",
      "\n",
      "Training model for store 47 and family 22...\n"
     ]
    },
    {
     "name": "stderr",
     "output_type": "stream",
     "text": [
      "15:01:33 - cmdstanpy - INFO - Chain [1] done processing\n",
      "15:01:33 - cmdstanpy - INFO - Chain [1] start processing\n"
     ]
    },
    {
     "name": "stdout",
     "output_type": "stream",
     "text": [
      "There are 1 NaN values in the data.\n",
      "Root Mean Squared Error (RMSE): 104.29217373397688\n",
      "Root Mean Squared Logarithmic Error (RMSLE): 1.1615461434339824\n",
      "\n",
      "Training model for store 47 and family 23...\n"
     ]
    },
    {
     "name": "stderr",
     "output_type": "stream",
     "text": [
      "15:01:33 - cmdstanpy - INFO - Chain [1] done processing\n",
      "15:01:33 - cmdstanpy - INFO - Chain [1] start processing\n"
     ]
    },
    {
     "name": "stdout",
     "output_type": "stream",
     "text": [
      "There are 1 NaN values in the data.\n",
      "Root Mean Squared Error (RMSE): 14.500711048878648\n",
      "Root Mean Squared Logarithmic Error (RMSLE): 0.8265704293111232\n",
      "\n",
      "Training model for store 47 and family 24...\n"
     ]
    },
    {
     "name": "stderr",
     "output_type": "stream",
     "text": [
      "15:01:33 - cmdstanpy - INFO - Chain [1] done processing\n",
      "15:01:34 - cmdstanpy - INFO - Chain [1] start processing\n"
     ]
    },
    {
     "name": "stdout",
     "output_type": "stream",
     "text": [
      "There are 1 NaN values in the data.\n",
      "Root Mean Squared Error (RMSE): 236.70872381613304\n",
      "Root Mean Squared Logarithmic Error (RMSLE): 0.5748179752098198\n",
      "\n",
      "Training model for store 47 and family 25...\n"
     ]
    },
    {
     "name": "stderr",
     "output_type": "stream",
     "text": [
      "15:01:34 - cmdstanpy - INFO - Chain [1] done processing\n",
      "15:01:34 - cmdstanpy - INFO - Chain [1] start processing\n"
     ]
    },
    {
     "name": "stdout",
     "output_type": "stream",
     "text": [
      "There are 1 NaN values in the data.\n",
      "Root Mean Squared Error (RMSE): 228.28684419787274\n",
      "Root Mean Squared Logarithmic Error (RMSLE): 0.5986729886541338\n",
      "\n",
      "Training model for store 47 and family 26...\n"
     ]
    },
    {
     "name": "stderr",
     "output_type": "stream",
     "text": [
      "15:01:34 - cmdstanpy - INFO - Chain [1] done processing\n",
      "15:01:34 - cmdstanpy - INFO - Chain [1] start processing\n"
     ]
    },
    {
     "name": "stdout",
     "output_type": "stream",
     "text": [
      "There are 1 NaN values in the data.\n",
      "Root Mean Squared Error (RMSE): 12.41366223468044\n",
      "Root Mean Squared Logarithmic Error (RMSLE): 0.519071680030229\n",
      "\n",
      "Training model for store 47 and family 27...\n"
     ]
    },
    {
     "name": "stderr",
     "output_type": "stream",
     "text": [
      "15:01:34 - cmdstanpy - INFO - Chain [1] done processing\n",
      "15:01:35 - cmdstanpy - INFO - Chain [1] start processing\n"
     ]
    },
    {
     "name": "stdout",
     "output_type": "stream",
     "text": [
      "There are 1 NaN values in the data.\n",
      "Root Mean Squared Error (RMSE): 14.815433038191104\n",
      "Root Mean Squared Logarithmic Error (RMSLE): 0.4983274175467115\n",
      "\n",
      "Training model for store 47 and family 28...\n"
     ]
    },
    {
     "name": "stderr",
     "output_type": "stream",
     "text": [
      "15:01:35 - cmdstanpy - INFO - Chain [1] done processing\n",
      "15:01:35 - cmdstanpy - INFO - Chain [1] start processing\n"
     ]
    },
    {
     "name": "stdout",
     "output_type": "stream",
     "text": [
      "There are 1 NaN values in the data.\n",
      "Root Mean Squared Error (RMSE): 297.99775584671386\n",
      "Root Mean Squared Logarithmic Error (RMSLE): 0.6091100963235152\n",
      "\n",
      "Training model for store 47 and family 29...\n"
     ]
    },
    {
     "name": "stderr",
     "output_type": "stream",
     "text": [
      "15:01:35 - cmdstanpy - INFO - Chain [1] done processing\n",
      "15:01:35 - cmdstanpy - INFO - Chain [1] start processing\n"
     ]
    },
    {
     "name": "stdout",
     "output_type": "stream",
     "text": [
      "There are 1 NaN values in the data.\n",
      "Root Mean Squared Error (RMSE): 81.65321131229867\n",
      "Root Mean Squared Logarithmic Error (RMSLE): 0.5304325453282708\n",
      "\n",
      "Training model for store 47 and family 30...\n"
     ]
    },
    {
     "name": "stderr",
     "output_type": "stream",
     "text": [
      "15:01:35 - cmdstanpy - INFO - Chain [1] done processing\n",
      "15:01:35 - cmdstanpy - INFO - Chain [1] start processing\n"
     ]
    },
    {
     "name": "stdout",
     "output_type": "stream",
     "text": [
      "There are 1 NaN values in the data.\n",
      "Root Mean Squared Error (RMSE): 2692.2146558181967\n",
      "Root Mean Squared Logarithmic Error (RMSLE): 0.8094943364677553\n",
      "\n",
      "Training model for store 47 and family 31...\n"
     ]
    },
    {
     "name": "stderr",
     "output_type": "stream",
     "text": [
      "15:01:36 - cmdstanpy - INFO - Chain [1] done processing\n",
      "15:01:36 - cmdstanpy - INFO - Chain [1] start processing\n"
     ]
    },
    {
     "name": "stdout",
     "output_type": "stream",
     "text": [
      "There are 1 NaN values in the data.\n",
      "Root Mean Squared Error (RMSE): 122.95986184715395\n",
      "Root Mean Squared Logarithmic Error (RMSLE): 1.3220397820159364\n",
      "\n",
      "Training model for store 47 and family 32...\n"
     ]
    },
    {
     "name": "stderr",
     "output_type": "stream",
     "text": [
      "15:01:36 - cmdstanpy - INFO - Chain [1] done processing\n",
      "15:01:36 - cmdstanpy - INFO - Chain [1] start processing\n"
     ]
    },
    {
     "name": "stdout",
     "output_type": "stream",
     "text": [
      "There are 1 NaN values in the data.\n",
      "Root Mean Squared Error (RMSE): 23.950218343488274\n",
      "Root Mean Squared Logarithmic Error (RMSLE): 0.4494831330551146\n",
      "\n",
      "Training model for store 48 and family 0...\n"
     ]
    },
    {
     "name": "stderr",
     "output_type": "stream",
     "text": [
      "15:01:36 - cmdstanpy - INFO - Chain [1] done processing\n"
     ]
    },
    {
     "name": "stdout",
     "output_type": "stream",
     "text": [
      "There are 1 NaN values in the data.\n",
      "Root Mean Squared Error (RMSE): 8.272097635496083\n",
      "Root Mean Squared Logarithmic Error (RMSLE): 0.9040026848558793\n",
      "\n",
      "Training model for store 48 and family 1...\n",
      "There are 1 NaN values in the data.\n",
      "Root Mean Squared Error (RMSE): 0.0\n",
      "Root Mean Squared Logarithmic Error (RMSLE): 0.0\n"
     ]
    },
    {
     "name": "stderr",
     "output_type": "stream",
     "text": [
      "15:01:37 - cmdstanpy - INFO - Chain [1] start processing\n",
      "15:01:37 - cmdstanpy - INFO - Chain [1] done processing\n"
     ]
    },
    {
     "name": "stdout",
     "output_type": "stream",
     "text": [
      "\n",
      "Training model for store 48 and family 2...\n",
      "There are 1 NaN values in the data.\n",
      "Root Mean Squared Error (RMSE): 8.629507263775134\n",
      "Root Mean Squared Logarithmic Error (RMSLE): 0.5711711446503434\n"
     ]
    },
    {
     "name": "stderr",
     "output_type": "stream",
     "text": [
      "15:01:37 - cmdstanpy - INFO - Chain [1] start processing\n",
      "15:01:37 - cmdstanpy - INFO - Chain [1] done processing\n"
     ]
    },
    {
     "name": "stdout",
     "output_type": "stream",
     "text": [
      "\n",
      "Training model for store 48 and family 3...\n",
      "There are 1 NaN values in the data.\n",
      "Root Mean Squared Error (RMSE): 1793.0592607422134\n",
      "Root Mean Squared Logarithmic Error (RMSLE): 0.7438365648947379\n",
      "\n",
      "Training model for store 48 and family 4...\n",
      "There are 1 NaN values in the data.\n",
      "Root Mean Squared Error (RMSE): 0.6412820000205025\n",
      "Root Mean Squared Logarithmic Error (RMSLE): 0.31189731617394517\n",
      "\n",
      "Training model for store 48 and family 5...\n"
     ]
    },
    {
     "name": "stderr",
     "output_type": "stream",
     "text": [
      "15:01:37 - cmdstanpy - INFO - Chain [1] start processing\n",
      "15:01:37 - cmdstanpy - INFO - Chain [1] done processing\n",
      "15:01:38 - cmdstanpy - INFO - Chain [1] start processing\n"
     ]
    },
    {
     "name": "stdout",
     "output_type": "stream",
     "text": [
      "There are 1 NaN values in the data.\n",
      "Root Mean Squared Error (RMSE): 257.3519363812765\n",
      "Root Mean Squared Logarithmic Error (RMSLE): 0.6188367715265775\n",
      "\n",
      "Training model for store 48 and family 6...\n"
     ]
    },
    {
     "name": "stderr",
     "output_type": "stream",
     "text": [
      "15:01:38 - cmdstanpy - INFO - Chain [1] done processing\n",
      "15:01:38 - cmdstanpy - INFO - Chain [1] start processing\n"
     ]
    },
    {
     "name": "stdout",
     "output_type": "stream",
     "text": [
      "There are 1 NaN values in the data.\n",
      "Root Mean Squared Error (RMSE): 10.894378724696542\n",
      "Root Mean Squared Logarithmic Error (RMSLE): 0.5624359657840672\n",
      "\n",
      "Training model for store 48 and family 7...\n"
     ]
    },
    {
     "name": "stderr",
     "output_type": "stream",
     "text": [
      "15:01:38 - cmdstanpy - INFO - Chain [1] done processing\n",
      "15:01:38 - cmdstanpy - INFO - Chain [1] start processing\n"
     ]
    },
    {
     "name": "stdout",
     "output_type": "stream",
     "text": [
      "There are 1 NaN values in the data.\n",
      "Root Mean Squared Error (RMSE): 759.8075557785256\n",
      "Root Mean Squared Logarithmic Error (RMSLE): 0.7002082759025583\n",
      "\n",
      "Training model for store 48 and family 8...\n"
     ]
    },
    {
     "name": "stderr",
     "output_type": "stream",
     "text": [
      "15:01:38 - cmdstanpy - INFO - Chain [1] done processing\n",
      "15:01:39 - cmdstanpy - INFO - Chain [1] start processing\n"
     ]
    },
    {
     "name": "stdout",
     "output_type": "stream",
     "text": [
      "There are 1 NaN values in the data.\n",
      "Root Mean Squared Error (RMSE): 386.25327034313335\n",
      "Root Mean Squared Logarithmic Error (RMSLE): 0.6336225160812345\n",
      "\n",
      "Training model for store 48 and family 9...\n"
     ]
    },
    {
     "name": "stderr",
     "output_type": "stream",
     "text": [
      "15:01:39 - cmdstanpy - INFO - Chain [1] done processing\n",
      "15:01:39 - cmdstanpy - INFO - Chain [1] start processing\n"
     ]
    },
    {
     "name": "stdout",
     "output_type": "stream",
     "text": [
      "There are 1 NaN values in the data.\n",
      "Root Mean Squared Error (RMSE): 240.94280956556986\n",
      "Root Mean Squared Logarithmic Error (RMSLE): 0.638735467936092\n",
      "\n",
      "Training model for store 48 and family 10...\n"
     ]
    },
    {
     "name": "stderr",
     "output_type": "stream",
     "text": [
      "15:01:39 - cmdstanpy - INFO - Chain [1] done processing\n",
      "15:01:39 - cmdstanpy - INFO - Chain [1] start processing\n",
      "15:01:39 - cmdstanpy - INFO - Chain [1] done processing\n"
     ]
    },
    {
     "name": "stdout",
     "output_type": "stream",
     "text": [
      "There are 1 NaN values in the data.\n",
      "Root Mean Squared Error (RMSE): 49.288244900656416\n",
      "Root Mean Squared Logarithmic Error (RMSLE): 0.6033369214322984\n",
      "\n",
      "Training model for store 48 and family 11...\n"
     ]
    },
    {
     "name": "stderr",
     "output_type": "stream",
     "text": [
      "15:01:40 - cmdstanpy - INFO - Chain [1] start processing\n"
     ]
    },
    {
     "name": "stdout",
     "output_type": "stream",
     "text": [
      "There are 1 NaN values in the data.\n",
      "Root Mean Squared Error (RMSE): 409.5306827632467\n",
      "Root Mean Squared Logarithmic Error (RMSLE): 1.908655375945131\n",
      "\n",
      "Training model for store 48 and family 12...\n"
     ]
    },
    {
     "name": "stderr",
     "output_type": "stream",
     "text": [
      "15:01:40 - cmdstanpy - INFO - Chain [1] done processing\n",
      "15:01:40 - cmdstanpy - INFO - Chain [1] start processing\n",
      "15:01:40 - cmdstanpy - INFO - Chain [1] done processing\n"
     ]
    },
    {
     "name": "stdout",
     "output_type": "stream",
     "text": [
      "There are 1 NaN values in the data.\n",
      "Root Mean Squared Error (RMSE): 2534.9918457554777\n",
      "Root Mean Squared Logarithmic Error (RMSLE): 0.7752570468760138\n",
      "\n",
      "Training model for store 48 and family 13...\n"
     ]
    },
    {
     "name": "stderr",
     "output_type": "stream",
     "text": [
      "15:01:40 - cmdstanpy - INFO - Chain [1] start processing\n"
     ]
    },
    {
     "name": "stdout",
     "output_type": "stream",
     "text": [
      "There are 1 NaN values in the data.\n",
      "Root Mean Squared Error (RMSE): 30.968449487707726\n",
      "Root Mean Squared Logarithmic Error (RMSLE): 0.9171903972187645\n",
      "\n",
      "Training model for store 48 and family 14...\n"
     ]
    },
    {
     "name": "stderr",
     "output_type": "stream",
     "text": [
      "15:01:40 - cmdstanpy - INFO - Chain [1] done processing\n",
      "15:01:40 - cmdstanpy - INFO - Chain [1] start processing\n"
     ]
    },
    {
     "name": "stdout",
     "output_type": "stream",
     "text": [
      "There are 1 NaN values in the data.\n",
      "Root Mean Squared Error (RMSE): 1.2290810865663888\n",
      "Root Mean Squared Logarithmic Error (RMSLE): 0.6396757304535278\n",
      "\n",
      "Training model for store 48 and family 15...\n"
     ]
    },
    {
     "name": "stderr",
     "output_type": "stream",
     "text": [
      "15:01:41 - cmdstanpy - INFO - Chain [1] done processing\n",
      "15:01:41 - cmdstanpy - INFO - Chain [1] start processing\n"
     ]
    },
    {
     "name": "stdout",
     "output_type": "stream",
     "text": [
      "There are 1 NaN values in the data.\n",
      "Root Mean Squared Error (RMSE): 45.33019538231932\n",
      "Root Mean Squared Logarithmic Error (RMSLE): 0.9323441190605024\n",
      "\n",
      "Training model for store 48 and family 16...\n"
     ]
    },
    {
     "name": "stderr",
     "output_type": "stream",
     "text": [
      "15:01:41 - cmdstanpy - INFO - Chain [1] done processing\n",
      "15:01:41 - cmdstanpy - INFO - Chain [1] start processing\n"
     ]
    },
    {
     "name": "stdout",
     "output_type": "stream",
     "text": [
      "There are 1 NaN values in the data.\n",
      "Root Mean Squared Error (RMSE): 49.86225646951327\n",
      "Root Mean Squared Logarithmic Error (RMSLE): 1.2339060155130372\n",
      "\n",
      "Training model for store 48 and family 17...\n"
     ]
    },
    {
     "name": "stderr",
     "output_type": "stream",
     "text": [
      "15:01:41 - cmdstanpy - INFO - Chain [1] done processing\n",
      "15:01:41 - cmdstanpy - INFO - Chain [1] start processing\n"
     ]
    },
    {
     "name": "stdout",
     "output_type": "stream",
     "text": [
      "There are 1 NaN values in the data.\n",
      "Root Mean Squared Error (RMSE): 0.9880903022737361\n",
      "Root Mean Squared Logarithmic Error (RMSLE): 0.4871286847582883\n",
      "\n",
      "Training model for store 48 and family 18...\n"
     ]
    },
    {
     "name": "stderr",
     "output_type": "stream",
     "text": [
      "15:01:42 - cmdstanpy - INFO - Chain [1] done processing\n",
      "15:01:42 - cmdstanpy - INFO - Chain [1] start processing\n"
     ]
    },
    {
     "name": "stdout",
     "output_type": "stream",
     "text": [
      "There are 1 NaN values in the data.\n",
      "Root Mean Squared Error (RMSE): 254.62834179043296\n",
      "Root Mean Squared Logarithmic Error (RMSLE): 0.6627096453150257\n",
      "\n",
      "Training model for store 48 and family 19...\n"
     ]
    },
    {
     "name": "stderr",
     "output_type": "stream",
     "text": [
      "15:01:42 - cmdstanpy - INFO - Chain [1] done processing\n",
      "15:01:42 - cmdstanpy - INFO - Chain [1] start processing\n"
     ]
    },
    {
     "name": "stdout",
     "output_type": "stream",
     "text": [
      "There are 1 NaN values in the data.\n",
      "Root Mean Squared Error (RMSE): 17.546717419012673\n",
      "Root Mean Squared Logarithmic Error (RMSLE): 0.7989502778392429\n",
      "\n",
      "Training model for store 48 and family 20...\n"
     ]
    },
    {
     "name": "stderr",
     "output_type": "stream",
     "text": [
      "15:01:42 - cmdstanpy - INFO - Chain [1] done processing\n",
      "15:01:42 - cmdstanpy - INFO - Chain [1] start processing\n"
     ]
    },
    {
     "name": "stdout",
     "output_type": "stream",
     "text": [
      "There are 1 NaN values in the data.\n",
      "Root Mean Squared Error (RMSE): 20.09602703277673\n",
      "Root Mean Squared Logarithmic Error (RMSLE): 0.9212490843484593\n",
      "\n",
      "Training model for store 48 and family 21...\n"
     ]
    },
    {
     "name": "stderr",
     "output_type": "stream",
     "text": [
      "15:01:42 - cmdstanpy - INFO - Chain [1] done processing\n",
      "15:01:43 - cmdstanpy - INFO - Chain [1] start processing\n"
     ]
    },
    {
     "name": "stdout",
     "output_type": "stream",
     "text": [
      "There are 1 NaN values in the data.\n",
      "Root Mean Squared Error (RMSE): 4.332149804662503\n",
      "Root Mean Squared Logarithmic Error (RMSLE): 1.132357148236686\n",
      "\n",
      "Training model for store 48 and family 22...\n"
     ]
    },
    {
     "name": "stderr",
     "output_type": "stream",
     "text": [
      "15:01:43 - cmdstanpy - INFO - Chain [1] done processing\n",
      "15:01:43 - cmdstanpy - INFO - Chain [1] start processing\n"
     ]
    },
    {
     "name": "stdout",
     "output_type": "stream",
     "text": [
      "There are 1 NaN values in the data.\n",
      "Root Mean Squared Error (RMSE): 80.70715856793866\n",
      "Root Mean Squared Logarithmic Error (RMSLE): 1.2133361247064505\n",
      "\n",
      "Training model for store 48 and family 23...\n"
     ]
    },
    {
     "name": "stderr",
     "output_type": "stream",
     "text": [
      "15:01:43 - cmdstanpy - INFO - Chain [1] done processing\n",
      "15:01:43 - cmdstanpy - INFO - Chain [1] start processing\n"
     ]
    },
    {
     "name": "stdout",
     "output_type": "stream",
     "text": [
      "There are 1 NaN values in the data.\n",
      "Root Mean Squared Error (RMSE): 5.072923067657343\n",
      "Root Mean Squared Logarithmic Error (RMSLE): 0.7745760457509843\n",
      "\n",
      "Training model for store 48 and family 24...\n"
     ]
    },
    {
     "name": "stderr",
     "output_type": "stream",
     "text": [
      "15:01:43 - cmdstanpy - INFO - Chain [1] done processing\n",
      "15:01:44 - cmdstanpy - INFO - Chain [1] start processing\n"
     ]
    },
    {
     "name": "stdout",
     "output_type": "stream",
     "text": [
      "There are 1 NaN values in the data.\n",
      "Root Mean Squared Error (RMSE): 266.73592545921537\n",
      "Root Mean Squared Logarithmic Error (RMSLE): 0.6024577290145253\n",
      "\n",
      "Training model for store 48 and family 25...\n"
     ]
    },
    {
     "name": "stderr",
     "output_type": "stream",
     "text": [
      "15:01:44 - cmdstanpy - INFO - Chain [1] done processing\n",
      "15:01:44 - cmdstanpy - INFO - Chain [1] start processing\n"
     ]
    },
    {
     "name": "stdout",
     "output_type": "stream",
     "text": [
      "There are 1 NaN values in the data.\n",
      "Root Mean Squared Error (RMSE): 296.9662715916382\n",
      "Root Mean Squared Logarithmic Error (RMSLE): 0.6342336034346799\n",
      "\n",
      "Training model for store 48 and family 26...\n"
     ]
    },
    {
     "name": "stderr",
     "output_type": "stream",
     "text": [
      "15:01:44 - cmdstanpy - INFO - Chain [1] done processing\n",
      "15:01:44 - cmdstanpy - INFO - Chain [1] start processing\n"
     ]
    },
    {
     "name": "stdout",
     "output_type": "stream",
     "text": [
      "There are 1 NaN values in the data.\n",
      "Root Mean Squared Error (RMSE): 8.986195867305202\n",
      "Root Mean Squared Logarithmic Error (RMSLE): 0.4946648393542527\n",
      "\n",
      "Training model for store 48 and family 27...\n"
     ]
    },
    {
     "name": "stderr",
     "output_type": "stream",
     "text": [
      "15:01:44 - cmdstanpy - INFO - Chain [1] done processing\n",
      "15:01:44 - cmdstanpy - INFO - Chain [1] start processing\n"
     ]
    },
    {
     "name": "stdout",
     "output_type": "stream",
     "text": [
      "There are 1 NaN values in the data.\n",
      "Root Mean Squared Error (RMSE): 12.722201943886217\n",
      "Root Mean Squared Logarithmic Error (RMSLE): 0.5639097033791584\n",
      "\n",
      "Training model for store 48 and family 28...\n"
     ]
    },
    {
     "name": "stderr",
     "output_type": "stream",
     "text": [
      "15:01:44 - cmdstanpy - INFO - Chain [1] done processing\n",
      "15:01:45 - cmdstanpy - INFO - Chain [1] start processing\n"
     ]
    },
    {
     "name": "stdout",
     "output_type": "stream",
     "text": [
      "There are 1 NaN values in the data.\n",
      "Root Mean Squared Error (RMSE): 314.9976209150465\n",
      "Root Mean Squared Logarithmic Error (RMSLE): 0.7042192684853682\n",
      "\n",
      "Training model for store 48 and family 29...\n"
     ]
    },
    {
     "name": "stderr",
     "output_type": "stream",
     "text": [
      "15:01:45 - cmdstanpy - INFO - Chain [1] done processing\n",
      "15:01:45 - cmdstanpy - INFO - Chain [1] start processing\n"
     ]
    },
    {
     "name": "stdout",
     "output_type": "stream",
     "text": [
      "There are 1 NaN values in the data.\n",
      "Root Mean Squared Error (RMSE): 43.744953912602966\n",
      "Root Mean Squared Logarithmic Error (RMSLE): 0.5089840818677233\n",
      "\n",
      "Training model for store 48 and family 30...\n"
     ]
    },
    {
     "name": "stderr",
     "output_type": "stream",
     "text": [
      "15:01:45 - cmdstanpy - INFO - Chain [1] done processing\n",
      "15:01:45 - cmdstanpy - INFO - Chain [1] start processing\n"
     ]
    },
    {
     "name": "stdout",
     "output_type": "stream",
     "text": [
      "There are 1 NaN values in the data.\n",
      "Root Mean Squared Error (RMSE): 1010.8897535503602\n",
      "Root Mean Squared Logarithmic Error (RMSLE): 0.7799744788695225\n",
      "\n",
      "Training model for store 48 and family 31...\n"
     ]
    },
    {
     "name": "stderr",
     "output_type": "stream",
     "text": [
      "15:01:45 - cmdstanpy - INFO - Chain [1] done processing\n",
      "15:01:46 - cmdstanpy - INFO - Chain [1] start processing\n"
     ]
    },
    {
     "name": "stdout",
     "output_type": "stream",
     "text": [
      "There are 1 NaN values in the data.\n",
      "Root Mean Squared Error (RMSE): 139.38694537403148\n",
      "Root Mean Squared Logarithmic Error (RMSLE): 3.20925710998024\n",
      "\n",
      "Training model for store 48 and family 32...\n"
     ]
    },
    {
     "name": "stderr",
     "output_type": "stream",
     "text": [
      "15:01:46 - cmdstanpy - INFO - Chain [1] done processing\n",
      "15:01:46 - cmdstanpy - INFO - Chain [1] start processing\n"
     ]
    },
    {
     "name": "stdout",
     "output_type": "stream",
     "text": [
      "There are 1 NaN values in the data.\n",
      "Root Mean Squared Error (RMSE): 10.16806496391203\n",
      "Root Mean Squared Logarithmic Error (RMSLE): 0.4517019820879133\n",
      "\n",
      "Training model for store 49 and family 0...\n"
     ]
    },
    {
     "name": "stderr",
     "output_type": "stream",
     "text": [
      "15:01:46 - cmdstanpy - INFO - Chain [1] done processing\n"
     ]
    },
    {
     "name": "stdout",
     "output_type": "stream",
     "text": [
      "There are 1 NaN values in the data.\n",
      "Root Mean Squared Error (RMSE): 6.447910554701997\n",
      "Root Mean Squared Logarithmic Error (RMSLE): 0.5550258303368866\n",
      "\n",
      "Training model for store 49 and family 1...\n",
      "There are 1 NaN values in the data.\n",
      "Root Mean Squared Error (RMSE): 0.0\n",
      "Root Mean Squared Logarithmic Error (RMSLE): 0.0\n"
     ]
    },
    {
     "name": "stderr",
     "output_type": "stream",
     "text": [
      "15:01:46 - cmdstanpy - INFO - Chain [1] start processing\n",
      "15:01:46 - cmdstanpy - INFO - Chain [1] done processing\n"
     ]
    },
    {
     "name": "stdout",
     "output_type": "stream",
     "text": [
      "\n",
      "Training model for store 49 and family 2...\n",
      "There are 1 NaN values in the data.\n",
      "Root Mean Squared Error (RMSE): 5.877320812067523\n",
      "Root Mean Squared Logarithmic Error (RMSLE): 0.5443124612587491\n"
     ]
    },
    {
     "name": "stderr",
     "output_type": "stream",
     "text": [
      "15:01:47 - cmdstanpy - INFO - Chain [1] start processing\n",
      "15:01:47 - cmdstanpy - INFO - Chain [1] done processing\n"
     ]
    },
    {
     "name": "stdout",
     "output_type": "stream",
     "text": [
      "\n",
      "Training model for store 49 and family 3...\n",
      "There are 1 NaN values in the data.\n",
      "Root Mean Squared Error (RMSE): 1949.759740767236\n",
      "Root Mean Squared Logarithmic Error (RMSLE): 0.7373215160292849\n",
      "\n",
      "Training model for store 49 and family 4...\n"
     ]
    },
    {
     "name": "stderr",
     "output_type": "stream",
     "text": [
      "15:01:47 - cmdstanpy - INFO - Chain [1] start processing\n"
     ]
    },
    {
     "name": "stdout",
     "output_type": "stream",
     "text": [
      "There are 1 NaN values in the data.\n",
      "Root Mean Squared Error (RMSE): 2.639033353601299\n",
      "Root Mean Squared Logarithmic Error (RMSLE): 0.8903389228385731\n",
      "\n",
      "Training model for store 49 and family 5...\n"
     ]
    },
    {
     "name": "stderr",
     "output_type": "stream",
     "text": [
      "15:01:47 - cmdstanpy - INFO - Chain [1] done processing\n",
      "15:01:48 - cmdstanpy - INFO - Chain [1] start processing\n"
     ]
    },
    {
     "name": "stdout",
     "output_type": "stream",
     "text": [
      "There are 1 NaN values in the data.\n",
      "Root Mean Squared Error (RMSE): 240.2576277428416\n",
      "Root Mean Squared Logarithmic Error (RMSLE): 0.5905693045314292\n",
      "\n",
      "Training model for store 49 and family 6...\n"
     ]
    },
    {
     "name": "stderr",
     "output_type": "stream",
     "text": [
      "15:01:48 - cmdstanpy - INFO - Chain [1] done processing\n",
      "15:01:48 - cmdstanpy - INFO - Chain [1] start processing\n"
     ]
    },
    {
     "name": "stdout",
     "output_type": "stream",
     "text": [
      "There are 1 NaN values in the data.\n",
      "Root Mean Squared Error (RMSE): 16.20247806164368\n",
      "Root Mean Squared Logarithmic Error (RMSLE): 0.5257478596506657\n",
      "\n",
      "Training model for store 49 and family 7...\n"
     ]
    },
    {
     "name": "stderr",
     "output_type": "stream",
     "text": [
      "15:01:48 - cmdstanpy - INFO - Chain [1] done processing\n",
      "15:01:48 - cmdstanpy - INFO - Chain [1] start processing\n"
     ]
    },
    {
     "name": "stdout",
     "output_type": "stream",
     "text": [
      "There are 1 NaN values in the data.\n",
      "Root Mean Squared Error (RMSE): 433.3705281567562\n",
      "Root Mean Squared Logarithmic Error (RMSLE): 0.631279108209964\n",
      "\n",
      "Training model for store 49 and family 8...\n"
     ]
    },
    {
     "name": "stderr",
     "output_type": "stream",
     "text": [
      "15:01:48 - cmdstanpy - INFO - Chain [1] done processing\n",
      "15:01:49 - cmdstanpy - INFO - Chain [1] start processing\n"
     ]
    },
    {
     "name": "stdout",
     "output_type": "stream",
     "text": [
      "There are 1 NaN values in the data.\n",
      "Root Mean Squared Error (RMSE): 475.72361751037363\n",
      "Root Mean Squared Logarithmic Error (RMSLE): 0.6434134520615946\n",
      "\n",
      "Training model for store 49 and family 9...\n"
     ]
    },
    {
     "name": "stderr",
     "output_type": "stream",
     "text": [
      "15:01:49 - cmdstanpy - INFO - Chain [1] done processing\n",
      "15:01:49 - cmdstanpy - INFO - Chain [1] start processing\n"
     ]
    },
    {
     "name": "stdout",
     "output_type": "stream",
     "text": [
      "There are 1 NaN values in the data.\n",
      "Root Mean Squared Error (RMSE): 139.34911364427114\n",
      "Root Mean Squared Logarithmic Error (RMSLE): 0.5619257839849476\n",
      "\n",
      "Training model for store 49 and family 10...\n"
     ]
    },
    {
     "name": "stderr",
     "output_type": "stream",
     "text": [
      "15:01:49 - cmdstanpy - INFO - Chain [1] done processing\n",
      "15:01:49 - cmdstanpy - INFO - Chain [1] start processing\n"
     ]
    },
    {
     "name": "stdout",
     "output_type": "stream",
     "text": [
      "There are 1 NaN values in the data.\n",
      "Root Mean Squared Error (RMSE): 89.89560909293665\n",
      "Root Mean Squared Logarithmic Error (RMSLE): 0.5187335365405559\n",
      "\n",
      "Training model for store 49 and family 11...\n"
     ]
    },
    {
     "name": "stderr",
     "output_type": "stream",
     "text": [
      "15:01:49 - cmdstanpy - INFO - Chain [1] done processing\n",
      "15:01:50 - cmdstanpy - INFO - Chain [1] start processing\n"
     ]
    },
    {
     "name": "stdout",
     "output_type": "stream",
     "text": [
      "There are 1 NaN values in the data.\n",
      "Root Mean Squared Error (RMSE): 422.6301500734864\n",
      "Root Mean Squared Logarithmic Error (RMSLE): 0.7820777764675686\n",
      "\n",
      "Training model for store 49 and family 12...\n"
     ]
    },
    {
     "name": "stderr",
     "output_type": "stream",
     "text": [
      "15:01:50 - cmdstanpy - INFO - Chain [1] done processing\n",
      "15:01:50 - cmdstanpy - INFO - Chain [1] start processing\n"
     ]
    },
    {
     "name": "stdout",
     "output_type": "stream",
     "text": [
      "There are 1 NaN values in the data.\n",
      "Root Mean Squared Error (RMSE): 1799.1540082041913\n",
      "Root Mean Squared Logarithmic Error (RMSLE): 0.7368177144947781\n",
      "\n",
      "Training model for store 49 and family 13...\n"
     ]
    },
    {
     "name": "stderr",
     "output_type": "stream",
     "text": [
      "15:01:50 - cmdstanpy - INFO - Chain [1] done processing\n",
      "15:01:50 - cmdstanpy - INFO - Chain [1] start processing\n"
     ]
    },
    {
     "name": "stdout",
     "output_type": "stream",
     "text": [
      "There are 1 NaN values in the data.\n",
      "Root Mean Squared Error (RMSE): 33.45610042882243\n",
      "Root Mean Squared Logarithmic Error (RMSLE): 0.6093785059293899\n",
      "\n",
      "Training model for store 49 and family 14...\n"
     ]
    },
    {
     "name": "stderr",
     "output_type": "stream",
     "text": [
      "15:01:50 - cmdstanpy - INFO - Chain [1] done processing\n",
      "15:01:51 - cmdstanpy - INFO - Chain [1] start processing\n"
     ]
    },
    {
     "name": "stdout",
     "output_type": "stream",
     "text": [
      "There are 1 NaN values in the data.\n",
      "Root Mean Squared Error (RMSE): 1.9429405791583418\n",
      "Root Mean Squared Logarithmic Error (RMSLE): 0.6475338659556403\n",
      "\n",
      "Training model for store 49 and family 15...\n"
     ]
    },
    {
     "name": "stderr",
     "output_type": "stream",
     "text": [
      "15:01:51 - cmdstanpy - INFO - Chain [1] done processing\n",
      "15:01:51 - cmdstanpy - INFO - Chain [1] start processing\n"
     ]
    },
    {
     "name": "stdout",
     "output_type": "stream",
     "text": [
      "There are 1 NaN values in the data.\n",
      "Root Mean Squared Error (RMSE): 54.48829759748329\n",
      "Root Mean Squared Logarithmic Error (RMSLE): 0.8827410448689151\n",
      "\n",
      "Training model for store 49 and family 16...\n"
     ]
    },
    {
     "name": "stderr",
     "output_type": "stream",
     "text": [
      "15:01:51 - cmdstanpy - INFO - Chain [1] done processing\n",
      "15:01:51 - cmdstanpy - INFO - Chain [1] start processing\n"
     ]
    },
    {
     "name": "stdout",
     "output_type": "stream",
     "text": [
      "There are 1 NaN values in the data.\n",
      "Root Mean Squared Error (RMSE): 28.72238991108726\n",
      "Root Mean Squared Logarithmic Error (RMSLE): 0.5285861506551492\n",
      "\n",
      "Training model for store 49 and family 17...\n"
     ]
    },
    {
     "name": "stderr",
     "output_type": "stream",
     "text": [
      "15:01:51 - cmdstanpy - INFO - Chain [1] done processing\n",
      "15:01:51 - cmdstanpy - INFO - Chain [1] start processing\n"
     ]
    },
    {
     "name": "stdout",
     "output_type": "stream",
     "text": [
      "There are 1 NaN values in the data.\n",
      "Root Mean Squared Error (RMSE): 1.485052426931375\n",
      "Root Mean Squared Logarithmic Error (RMSLE): 0.6240411091469142\n",
      "\n",
      "Training model for store 49 and family 18...\n"
     ]
    },
    {
     "name": "stderr",
     "output_type": "stream",
     "text": [
      "15:01:52 - cmdstanpy - INFO - Chain [1] done processing\n",
      "15:01:52 - cmdstanpy - INFO - Chain [1] start processing\n",
      "15:01:52 - cmdstanpy - INFO - Chain [1] done processing\n"
     ]
    },
    {
     "name": "stdout",
     "output_type": "stream",
     "text": [
      "There are 1 NaN values in the data.\n",
      "Root Mean Squared Error (RMSE): 137.5354813958558\n",
      "Root Mean Squared Logarithmic Error (RMSLE): 0.5511204930468743\n",
      "\n",
      "Training model for store 49 and family 19...\n"
     ]
    },
    {
     "name": "stderr",
     "output_type": "stream",
     "text": [
      "15:01:52 - cmdstanpy - INFO - Chain [1] start processing\n"
     ]
    },
    {
     "name": "stdout",
     "output_type": "stream",
     "text": [
      "There are 1 NaN values in the data.\n",
      "Root Mean Squared Error (RMSE): 11.381760754413458\n",
      "Root Mean Squared Logarithmic Error (RMSLE): 0.6606602002194695\n",
      "\n",
      "Training model for store 49 and family 20...\n"
     ]
    },
    {
     "name": "stderr",
     "output_type": "stream",
     "text": [
      "15:01:52 - cmdstanpy - INFO - Chain [1] done processing\n",
      "15:01:52 - cmdstanpy - INFO - Chain [1] start processing\n"
     ]
    },
    {
     "name": "stdout",
     "output_type": "stream",
     "text": [
      "There are 1 NaN values in the data.\n",
      "Root Mean Squared Error (RMSE): 32.823500226788376\n",
      "Root Mean Squared Logarithmic Error (RMSLE): 0.7659058085876339\n",
      "\n",
      "Training model for store 49 and family 21...\n"
     ]
    },
    {
     "name": "stderr",
     "output_type": "stream",
     "text": [
      "15:01:52 - cmdstanpy - INFO - Chain [1] done processing\n",
      "15:01:53 - cmdstanpy - INFO - Chain [1] start processing\n",
      "15:01:53 - cmdstanpy - INFO - Chain [1] done processing\n"
     ]
    },
    {
     "name": "stdout",
     "output_type": "stream",
     "text": [
      "There are 1 NaN values in the data.\n",
      "Root Mean Squared Error (RMSE): 9.144623235209389\n",
      "Root Mean Squared Logarithmic Error (RMSLE): 0.7564168054343565\n",
      "\n",
      "Training model for store 49 and family 22...\n"
     ]
    },
    {
     "name": "stderr",
     "output_type": "stream",
     "text": [
      "15:01:53 - cmdstanpy - INFO - Chain [1] start processing\n"
     ]
    },
    {
     "name": "stdout",
     "output_type": "stream",
     "text": [
      "There are 1 NaN values in the data.\n",
      "Root Mean Squared Error (RMSE): 102.6580503586453\n",
      "Root Mean Squared Logarithmic Error (RMSLE): 0.8947964280365845\n",
      "\n",
      "Training model for store 49 and family 23...\n"
     ]
    },
    {
     "name": "stderr",
     "output_type": "stream",
     "text": [
      "15:01:53 - cmdstanpy - INFO - Chain [1] done processing\n",
      "15:01:53 - cmdstanpy - INFO - Chain [1] start processing\n"
     ]
    },
    {
     "name": "stdout",
     "output_type": "stream",
     "text": [
      "There are 1 NaN values in the data.\n",
      "Root Mean Squared Error (RMSE): 9.433448003304237\n",
      "Root Mean Squared Logarithmic Error (RMSLE): 0.5889625548776196\n",
      "\n",
      "Training model for store 49 and family 24...\n"
     ]
    },
    {
     "name": "stderr",
     "output_type": "stream",
     "text": [
      "15:01:53 - cmdstanpy - INFO - Chain [1] done processing\n"
     ]
    },
    {
     "name": "stdout",
     "output_type": "stream",
     "text": [
      "There are 1 NaN values in the data.\n",
      "Root Mean Squared Error (RMSE): 190.93105579611458\n",
      "Root Mean Squared Logarithmic Error (RMSLE): 0.5606864439500354\n",
      "\n",
      "Training model for store 49 and family 25...\n"
     ]
    },
    {
     "name": "stderr",
     "output_type": "stream",
     "text": [
      "15:01:54 - cmdstanpy - INFO - Chain [1] start processing\n",
      "15:01:54 - cmdstanpy - INFO - Chain [1] done processing\n",
      "15:01:54 - cmdstanpy - INFO - Chain [1] start processing\n"
     ]
    },
    {
     "name": "stdout",
     "output_type": "stream",
     "text": [
      "There are 1 NaN values in the data.\n",
      "Root Mean Squared Error (RMSE): 146.56697786699806\n",
      "Root Mean Squared Logarithmic Error (RMSLE): 0.5586169260373873\n",
      "\n",
      "Training model for store 49 and family 26...\n"
     ]
    },
    {
     "name": "stderr",
     "output_type": "stream",
     "text": [
      "15:01:54 - cmdstanpy - INFO - Chain [1] done processing\n",
      "15:01:54 - cmdstanpy - INFO - Chain [1] start processing\n"
     ]
    },
    {
     "name": "stdout",
     "output_type": "stream",
     "text": [
      "There are 1 NaN values in the data.\n",
      "Root Mean Squared Error (RMSE): 8.363002012637674\n",
      "Root Mean Squared Logarithmic Error (RMSLE): 0.44637102187058275\n",
      "\n",
      "Training model for store 49 and family 27...\n"
     ]
    },
    {
     "name": "stderr",
     "output_type": "stream",
     "text": [
      "15:01:54 - cmdstanpy - INFO - Chain [1] done processing\n",
      "15:01:55 - cmdstanpy - INFO - Chain [1] start processing\n"
     ]
    },
    {
     "name": "stdout",
     "output_type": "stream",
     "text": [
      "There are 1 NaN values in the data.\n",
      "Root Mean Squared Error (RMSE): 18.64708149586485\n",
      "Root Mean Squared Logarithmic Error (RMSLE): 0.6011121546530429\n",
      "\n",
      "Training model for store 49 and family 28...\n"
     ]
    },
    {
     "name": "stderr",
     "output_type": "stream",
     "text": [
      "15:01:55 - cmdstanpy - INFO - Chain [1] done processing\n",
      "15:01:55 - cmdstanpy - INFO - Chain [1] start processing\n"
     ]
    },
    {
     "name": "stdout",
     "output_type": "stream",
     "text": [
      "There are 1 NaN values in the data.\n",
      "Root Mean Squared Error (RMSE): 227.89429128429651\n",
      "Root Mean Squared Logarithmic Error (RMSLE): 0.5806710336966192\n",
      "\n",
      "Training model for store 49 and family 29...\n"
     ]
    },
    {
     "name": "stderr",
     "output_type": "stream",
     "text": [
      "15:01:55 - cmdstanpy - INFO - Chain [1] done processing\n"
     ]
    },
    {
     "name": "stdout",
     "output_type": "stream",
     "text": [
      "There are 1 NaN values in the data.\n",
      "Root Mean Squared Error (RMSE): 87.33021618376702\n",
      "Root Mean Squared Logarithmic Error (RMSLE): 0.5279547852582355\n",
      "\n",
      "Training model for store 49 and family 30...\n"
     ]
    },
    {
     "name": "stderr",
     "output_type": "stream",
     "text": [
      "15:01:55 - cmdstanpy - INFO - Chain [1] start processing\n",
      "15:01:55 - cmdstanpy - INFO - Chain [1] done processing\n",
      "15:01:56 - cmdstanpy - INFO - Chain [1] start processing\n"
     ]
    },
    {
     "name": "stdout",
     "output_type": "stream",
     "text": [
      "There are 1 NaN values in the data.\n",
      "Root Mean Squared Error (RMSE): 2867.9185865607005\n",
      "Root Mean Squared Logarithmic Error (RMSLE): 0.7857864746578221\n",
      "\n",
      "Training model for store 49 and family 31...\n"
     ]
    },
    {
     "name": "stderr",
     "output_type": "stream",
     "text": [
      "15:01:56 - cmdstanpy - INFO - Chain [1] done processing\n",
      "15:01:56 - cmdstanpy - INFO - Chain [1] start processing\n"
     ]
    },
    {
     "name": "stdout",
     "output_type": "stream",
     "text": [
      "There are 1 NaN values in the data.\n",
      "Root Mean Squared Error (RMSE): 68.0575776341578\n",
      "Root Mean Squared Logarithmic Error (RMSLE): 1.5199442179129294\n",
      "\n",
      "Training model for store 49 and family 32...\n"
     ]
    },
    {
     "name": "stderr",
     "output_type": "stream",
     "text": [
      "15:01:56 - cmdstanpy - INFO - Chain [1] done processing\n",
      "15:01:56 - cmdstanpy - INFO - Chain [1] start processing\n"
     ]
    },
    {
     "name": "stdout",
     "output_type": "stream",
     "text": [
      "There are 1 NaN values in the data.\n",
      "Root Mean Squared Error (RMSE): 26.06663795858072\n",
      "Root Mean Squared Logarithmic Error (RMSLE): 0.46359930918110337\n",
      "\n",
      "Training model for store 5 and family 0...\n"
     ]
    },
    {
     "name": "stderr",
     "output_type": "stream",
     "text": [
      "15:01:56 - cmdstanpy - INFO - Chain [1] done processing\n",
      "15:01:57 - cmdstanpy - INFO - Chain [1] start processing\n"
     ]
    },
    {
     "name": "stdout",
     "output_type": "stream",
     "text": [
      "There are 1 NaN values in the data.\n",
      "Root Mean Squared Error (RMSE): 3.419695078369083\n",
      "Root Mean Squared Logarithmic Error (RMSLE): 0.6112862401933861\n",
      "\n",
      "Training model for store 5 and family 1...\n"
     ]
    },
    {
     "name": "stderr",
     "output_type": "stream",
     "text": [
      "15:01:57 - cmdstanpy - INFO - Chain [1] done processing\n",
      "15:01:57 - cmdstanpy - INFO - Chain [1] start processing\n"
     ]
    },
    {
     "name": "stdout",
     "output_type": "stream",
     "text": [
      "There are 1 NaN values in the data.\n",
      "Root Mean Squared Error (RMSE): 1.1137410552730302\n",
      "Root Mean Squared Logarithmic Error (RMSLE): 0.520971029820749\n",
      "\n",
      "Training model for store 5 and family 2...\n"
     ]
    },
    {
     "name": "stderr",
     "output_type": "stream",
     "text": [
      "15:01:57 - cmdstanpy - INFO - Chain [1] done processing\n",
      "15:01:58 - cmdstanpy - INFO - Chain [1] start processing\n"
     ]
    },
    {
     "name": "stdout",
     "output_type": "stream",
     "text": [
      "There are 1 NaN values in the data.\n",
      "Root Mean Squared Error (RMSE): 3.6024962819515576\n",
      "Root Mean Squared Logarithmic Error (RMSLE): 0.5652792938690032\n",
      "\n",
      "Training model for store 5 and family 3...\n"
     ]
    },
    {
     "name": "stderr",
     "output_type": "stream",
     "text": [
      "15:01:58 - cmdstanpy - INFO - Chain [1] done processing\n"
     ]
    },
    {
     "name": "stdout",
     "output_type": "stream",
     "text": [
      "There are 1 NaN values in the data.\n",
      "Root Mean Squared Error (RMSE): 450.65791223490174\n",
      "Root Mean Squared Logarithmic Error (RMSLE): 0.642788041011589\n",
      "\n",
      "Training model for store 5 and family 4...\n",
      "There are 1 NaN values in the data.\n",
      "Root Mean Squared Error (RMSE): 1.2917581249035897\n",
      "Root Mean Squared Logarithmic Error (RMSLE): 0.6295687977307994\n"
     ]
    },
    {
     "name": "stderr",
     "output_type": "stream",
     "text": [
      "15:01:58 - cmdstanpy - INFO - Chain [1] start processing\n",
      "15:01:58 - cmdstanpy - INFO - Chain [1] done processing\n"
     ]
    },
    {
     "name": "stdout",
     "output_type": "stream",
     "text": [
      "\n",
      "Training model for store 5 and family 5...\n"
     ]
    },
    {
     "name": "stderr",
     "output_type": "stream",
     "text": [
      "15:01:58 - cmdstanpy - INFO - Chain [1] start processing\n"
     ]
    },
    {
     "name": "stdout",
     "output_type": "stream",
     "text": [
      "There are 1 NaN values in the data.\n",
      "Root Mean Squared Error (RMSE): 68.57483293031508\n",
      "Root Mean Squared Logarithmic Error (RMSLE): 0.4998194253227044\n",
      "\n",
      "Training model for store 5 and family 6...\n"
     ]
    },
    {
     "name": "stderr",
     "output_type": "stream",
     "text": [
      "15:01:58 - cmdstanpy - INFO - Chain [1] done processing\n",
      "15:01:59 - cmdstanpy - INFO - Chain [1] start processing\n"
     ]
    },
    {
     "name": "stdout",
     "output_type": "stream",
     "text": [
      "There are 1 NaN values in the data.\n",
      "Root Mean Squared Error (RMSE): 12.338154290823375\n",
      "Root Mean Squared Logarithmic Error (RMSLE): 0.5670252820339637\n",
      "\n",
      "Training model for store 5 and family 7...\n"
     ]
    },
    {
     "name": "stderr",
     "output_type": "stream",
     "text": [
      "15:01:59 - cmdstanpy - INFO - Chain [1] done processing\n",
      "15:01:59 - cmdstanpy - INFO - Chain [1] start processing\n"
     ]
    },
    {
     "name": "stdout",
     "output_type": "stream",
     "text": [
      "There are 1 NaN values in the data.\n",
      "Root Mean Squared Error (RMSE): 239.2153786893498\n",
      "Root Mean Squared Logarithmic Error (RMSLE): 0.5966923126487383\n",
      "\n",
      "Training model for store 5 and family 8...\n"
     ]
    },
    {
     "name": "stderr",
     "output_type": "stream",
     "text": [
      "15:01:59 - cmdstanpy - INFO - Chain [1] done processing\n",
      "15:01:59 - cmdstanpy - INFO - Chain [1] start processing\n"
     ]
    },
    {
     "name": "stdout",
     "output_type": "stream",
     "text": [
      "There are 1 NaN values in the data.\n",
      "Root Mean Squared Error (RMSE): 105.90352083292407\n",
      "Root Mean Squared Logarithmic Error (RMSLE): 0.5351933006406773\n",
      "\n",
      "Training model for store 5 and family 9...\n"
     ]
    },
    {
     "name": "stderr",
     "output_type": "stream",
     "text": [
      "15:01:59 - cmdstanpy - INFO - Chain [1] done processing\n",
      "15:02:00 - cmdstanpy - INFO - Chain [1] start processing\n"
     ]
    },
    {
     "name": "stdout",
     "output_type": "stream",
     "text": [
      "There are 1 NaN values in the data.\n",
      "Root Mean Squared Error (RMSE): 67.59442109517535\n",
      "Root Mean Squared Logarithmic Error (RMSLE): 0.5456748027654105\n",
      "\n",
      "Training model for store 5 and family 10...\n"
     ]
    },
    {
     "name": "stderr",
     "output_type": "stream",
     "text": [
      "15:02:00 - cmdstanpy - INFO - Chain [1] done processing\n",
      "15:02:00 - cmdstanpy - INFO - Chain [1] start processing\n"
     ]
    },
    {
     "name": "stdout",
     "output_type": "stream",
     "text": [
      "There are 1 NaN values in the data.\n",
      "Root Mean Squared Error (RMSE): 22.999120746231\n",
      "Root Mean Squared Logarithmic Error (RMSLE): 0.459311791451453\n",
      "\n",
      "Training model for store 5 and family 11...\n"
     ]
    },
    {
     "name": "stderr",
     "output_type": "stream",
     "text": [
      "15:02:00 - cmdstanpy - INFO - Chain [1] done processing\n",
      "15:02:00 - cmdstanpy - INFO - Chain [1] start processing\n"
     ]
    },
    {
     "name": "stdout",
     "output_type": "stream",
     "text": [
      "There are 1 NaN values in the data.\n",
      "Root Mean Squared Error (RMSE): 182.76119029546527\n",
      "Root Mean Squared Logarithmic Error (RMSLE): 1.3510555070824957\n",
      "\n",
      "Training model for store 5 and family 12...\n"
     ]
    },
    {
     "name": "stderr",
     "output_type": "stream",
     "text": [
      "15:02:00 - cmdstanpy - INFO - Chain [1] done processing\n",
      "15:02:00 - cmdstanpy - INFO - Chain [1] start processing\n"
     ]
    },
    {
     "name": "stdout",
     "output_type": "stream",
     "text": [
      "There are 1 NaN values in the data.\n",
      "Root Mean Squared Error (RMSE): 610.566335464524\n",
      "Root Mean Squared Logarithmic Error (RMSLE): 0.6689941162477702\n",
      "\n",
      "Training model for store 5 and family 13...\n"
     ]
    },
    {
     "name": "stderr",
     "output_type": "stream",
     "text": [
      "15:02:01 - cmdstanpy - INFO - Chain [1] done processing\n",
      "15:02:01 - cmdstanpy - INFO - Chain [1] start processing\n",
      "15:02:01 - cmdstanpy - INFO - Chain [1] done processing\n"
     ]
    },
    {
     "name": "stdout",
     "output_type": "stream",
     "text": [
      "There are 1 NaN values in the data.\n",
      "Root Mean Squared Error (RMSE): 26.981496468054672\n",
      "Root Mean Squared Logarithmic Error (RMSLE): 0.7949152947629458\n",
      "\n",
      "Training model for store 5 and family 14...\n"
     ]
    },
    {
     "name": "stderr",
     "output_type": "stream",
     "text": [
      "15:02:01 - cmdstanpy - INFO - Chain [1] start processing\n"
     ]
    },
    {
     "name": "stdout",
     "output_type": "stream",
     "text": [
      "There are 1 NaN values in the data.\n",
      "Root Mean Squared Error (RMSE): 1.257954519630487\n",
      "Root Mean Squared Logarithmic Error (RMSLE): 0.5676194215639441\n",
      "\n",
      "Training model for store 5 and family 15...\n"
     ]
    },
    {
     "name": "stderr",
     "output_type": "stream",
     "text": [
      "15:02:01 - cmdstanpy - INFO - Chain [1] done processing\n",
      "15:02:01 - cmdstanpy - INFO - Chain [1] start processing\n"
     ]
    },
    {
     "name": "stdout",
     "output_type": "stream",
     "text": [
      "There are 1 NaN values in the data.\n",
      "Root Mean Squared Error (RMSE): 20.50727506462806\n",
      "Root Mean Squared Logarithmic Error (RMSLE): 0.5873094650797547\n",
      "\n",
      "Training model for store 5 and family 16...\n"
     ]
    },
    {
     "name": "stderr",
     "output_type": "stream",
     "text": [
      "15:02:01 - cmdstanpy - INFO - Chain [1] done processing\n",
      "15:02:02 - cmdstanpy - INFO - Chain [1] start processing\n"
     ]
    },
    {
     "name": "stdout",
     "output_type": "stream",
     "text": [
      "There are 1 NaN values in the data.\n",
      "Root Mean Squared Error (RMSE): 25.34236601170765\n",
      "Root Mean Squared Logarithmic Error (RMSLE): 2.9621076097350807\n",
      "\n",
      "Training model for store 5 and family 17...\n"
     ]
    },
    {
     "name": "stderr",
     "output_type": "stream",
     "text": [
      "15:02:02 - cmdstanpy - INFO - Chain [1] done processing\n",
      "15:02:02 - cmdstanpy - INFO - Chain [1] start processing\n"
     ]
    },
    {
     "name": "stdout",
     "output_type": "stream",
     "text": [
      "There are 1 NaN values in the data.\n",
      "Root Mean Squared Error (RMSE): 0.9420458269306244\n",
      "Root Mean Squared Logarithmic Error (RMSLE): 0.46212392690261167\n",
      "\n",
      "Training model for store 5 and family 18...\n"
     ]
    },
    {
     "name": "stderr",
     "output_type": "stream",
     "text": [
      "15:02:02 - cmdstanpy - INFO - Chain [1] done processing\n",
      "15:02:02 - cmdstanpy - INFO - Chain [1] start processing\n"
     ]
    },
    {
     "name": "stdout",
     "output_type": "stream",
     "text": [
      "There are 1 NaN values in the data.\n",
      "Root Mean Squared Error (RMSE): 62.97546599239805\n",
      "Root Mean Squared Logarithmic Error (RMSLE): 0.5186838218856502\n",
      "\n",
      "Training model for store 5 and family 19...\n"
     ]
    },
    {
     "name": "stderr",
     "output_type": "stream",
     "text": [
      "15:02:02 - cmdstanpy - INFO - Chain [1] done processing\n",
      "15:02:03 - cmdstanpy - INFO - Chain [1] start processing\n"
     ]
    },
    {
     "name": "stdout",
     "output_type": "stream",
     "text": [
      "There are 1 NaN values in the data.\n",
      "Root Mean Squared Error (RMSE): 8.402269286037903\n",
      "Root Mean Squared Logarithmic Error (RMSLE): 0.6416420864423406\n",
      "\n",
      "Training model for store 5 and family 20...\n"
     ]
    },
    {
     "name": "stderr",
     "output_type": "stream",
     "text": [
      "15:02:03 - cmdstanpy - INFO - Chain [1] done processing\n",
      "15:02:03 - cmdstanpy - INFO - Chain [1] start processing\n"
     ]
    },
    {
     "name": "stdout",
     "output_type": "stream",
     "text": [
      "There are 1 NaN values in the data.\n",
      "Root Mean Squared Error (RMSE): 16.649864991140948\n",
      "Root Mean Squared Logarithmic Error (RMSLE): 1.5446533333450285\n",
      "\n",
      "Training model for store 5 and family 21...\n"
     ]
    },
    {
     "name": "stderr",
     "output_type": "stream",
     "text": [
      "15:02:03 - cmdstanpy - INFO - Chain [1] done processing\n",
      "15:02:03 - cmdstanpy - INFO - Chain [1] start processing\n"
     ]
    },
    {
     "name": "stdout",
     "output_type": "stream",
     "text": [
      "There are 1 NaN values in the data.\n",
      "Root Mean Squared Error (RMSE): 7.815837135106085\n",
      "Root Mean Squared Logarithmic Error (RMSLE): 0.989784793165939\n",
      "\n",
      "Training model for store 5 and family 22...\n"
     ]
    },
    {
     "name": "stderr",
     "output_type": "stream",
     "text": [
      "15:02:03 - cmdstanpy - INFO - Chain [1] done processing\n",
      "15:02:04 - cmdstanpy - INFO - Chain [1] start processing\n"
     ]
    },
    {
     "name": "stdout",
     "output_type": "stream",
     "text": [
      "There are 1 NaN values in the data.\n",
      "Root Mean Squared Error (RMSE): 36.78588159868534\n",
      "Root Mean Squared Logarithmic Error (RMSLE): 1.0619299513979532\n",
      "\n",
      "Training model for store 5 and family 23...\n"
     ]
    },
    {
     "name": "stderr",
     "output_type": "stream",
     "text": [
      "15:02:04 - cmdstanpy - INFO - Chain [1] done processing\n",
      "15:02:04 - cmdstanpy - INFO - Chain [1] start processing\n"
     ]
    },
    {
     "name": "stdout",
     "output_type": "stream",
     "text": [
      "There are 1 NaN values in the data.\n",
      "Root Mean Squared Error (RMSE): 5.215778519408271\n",
      "Root Mean Squared Logarithmic Error (RMSLE): 0.638876183299193\n",
      "\n",
      "Training model for store 5 and family 24...\n"
     ]
    },
    {
     "name": "stderr",
     "output_type": "stream",
     "text": [
      "15:02:04 - cmdstanpy - INFO - Chain [1] done processing\n"
     ]
    },
    {
     "name": "stdout",
     "output_type": "stream",
     "text": [
      "There are 1 NaN values in the data.\n",
      "Root Mean Squared Error (RMSE): 64.16435561502323\n",
      "Root Mean Squared Logarithmic Error (RMSLE): 0.5128801758755802\n",
      "\n",
      "Training model for store 5 and family 25...\n"
     ]
    },
    {
     "name": "stderr",
     "output_type": "stream",
     "text": [
      "15:02:04 - cmdstanpy - INFO - Chain [1] start processing\n",
      "15:02:04 - cmdstanpy - INFO - Chain [1] done processing\n",
      "15:02:05 - cmdstanpy - INFO - Chain [1] start processing\n"
     ]
    },
    {
     "name": "stdout",
     "output_type": "stream",
     "text": [
      "There are 1 NaN values in the data.\n",
      "Root Mean Squared Error (RMSE): 67.62432350337586\n",
      "Root Mean Squared Logarithmic Error (RMSLE): 0.51843834060063\n",
      "\n",
      "Training model for store 5 and family 26...\n"
     ]
    },
    {
     "name": "stderr",
     "output_type": "stream",
     "text": [
      "15:02:05 - cmdstanpy - INFO - Chain [1] done processing\n",
      "15:02:05 - cmdstanpy - INFO - Chain [1] start processing\n"
     ]
    },
    {
     "name": "stdout",
     "output_type": "stream",
     "text": [
      "There are 1 NaN values in the data.\n",
      "Root Mean Squared Error (RMSE): 2.453437509009114\n",
      "Root Mean Squared Logarithmic Error (RMSLE): 0.5651798337201195\n",
      "\n",
      "Training model for store 5 and family 27...\n"
     ]
    },
    {
     "name": "stderr",
     "output_type": "stream",
     "text": [
      "15:02:05 - cmdstanpy - INFO - Chain [1] done processing\n",
      "15:02:05 - cmdstanpy - INFO - Chain [1] start processing\n"
     ]
    },
    {
     "name": "stdout",
     "output_type": "stream",
     "text": [
      "There are 1 NaN values in the data.\n",
      "Root Mean Squared Error (RMSE): 5.470885216206173\n",
      "Root Mean Squared Logarithmic Error (RMSLE): 0.6220601751697481\n",
      "\n",
      "Training model for store 5 and family 28...\n"
     ]
    },
    {
     "name": "stderr",
     "output_type": "stream",
     "text": [
      "15:02:05 - cmdstanpy - INFO - Chain [1] done processing\n",
      "15:02:05 - cmdstanpy - INFO - Chain [1] start processing\n"
     ]
    },
    {
     "name": "stdout",
     "output_type": "stream",
     "text": [
      "There are 1 NaN values in the data.\n",
      "Root Mean Squared Error (RMSE): 65.4485181347491\n",
      "Root Mean Squared Logarithmic Error (RMSLE): 0.5253737129565811\n",
      "\n",
      "Training model for store 5 and family 29...\n"
     ]
    },
    {
     "name": "stderr",
     "output_type": "stream",
     "text": [
      "15:02:06 - cmdstanpy - INFO - Chain [1] done processing\n",
      "15:02:06 - cmdstanpy - INFO - Chain [1] start processing\n"
     ]
    },
    {
     "name": "stdout",
     "output_type": "stream",
     "text": [
      "There are 1 NaN values in the data.\n",
      "Root Mean Squared Error (RMSE): 18.409100793674384\n",
      "Root Mean Squared Logarithmic Error (RMSLE): 0.4306205272355555\n",
      "\n",
      "Training model for store 5 and family 30...\n"
     ]
    },
    {
     "name": "stderr",
     "output_type": "stream",
     "text": [
      "15:02:06 - cmdstanpy - INFO - Chain [1] done processing\n",
      "15:02:06 - cmdstanpy - INFO - Chain [1] start processing\n"
     ]
    },
    {
     "name": "stdout",
     "output_type": "stream",
     "text": [
      "There are 1 NaN values in the data.\n",
      "Root Mean Squared Error (RMSE): 580.4540009902064\n",
      "Root Mean Squared Logarithmic Error (RMSLE): 0.6814054069583078\n",
      "\n",
      "Training model for store 5 and family 31...\n"
     ]
    },
    {
     "name": "stderr",
     "output_type": "stream",
     "text": [
      "15:02:06 - cmdstanpy - INFO - Chain [1] done processing\n",
      "15:02:06 - cmdstanpy - INFO - Chain [1] start processing\n"
     ]
    },
    {
     "name": "stdout",
     "output_type": "stream",
     "text": [
      "There are 1 NaN values in the data.\n",
      "Root Mean Squared Error (RMSE): 6.525175148044891\n",
      "Root Mean Squared Logarithmic Error (RMSLE): 0.7401722543154852\n",
      "\n",
      "Training model for store 5 and family 32...\n"
     ]
    },
    {
     "name": "stderr",
     "output_type": "stream",
     "text": [
      "15:02:07 - cmdstanpy - INFO - Chain [1] done processing\n",
      "15:02:07 - cmdstanpy - INFO - Chain [1] start processing\n"
     ]
    },
    {
     "name": "stdout",
     "output_type": "stream",
     "text": [
      "There are 1 NaN values in the data.\n",
      "Root Mean Squared Error (RMSE): 6.337347042592283\n",
      "Root Mean Squared Logarithmic Error (RMSLE): 0.5717688205272783\n",
      "\n",
      "Training model for store 50 and family 0...\n"
     ]
    },
    {
     "name": "stderr",
     "output_type": "stream",
     "text": [
      "15:02:07 - cmdstanpy - INFO - Chain [1] done processing\n"
     ]
    },
    {
     "name": "stdout",
     "output_type": "stream",
     "text": [
      "There are 1 NaN values in the data.\n",
      "Root Mean Squared Error (RMSE): 6.187196226916412\n",
      "Root Mean Squared Logarithmic Error (RMSLE): 0.566319622859718\n",
      "\n",
      "Training model for store 50 and family 1...\n",
      "There are 1 NaN values in the data.\n",
      "Root Mean Squared Error (RMSE): 0.0\n",
      "Root Mean Squared Logarithmic Error (RMSLE): 0.0\n"
     ]
    },
    {
     "name": "stderr",
     "output_type": "stream",
     "text": [
      "15:02:07 - cmdstanpy - INFO - Chain [1] start processing\n",
      "15:02:07 - cmdstanpy - INFO - Chain [1] done processing\n"
     ]
    },
    {
     "name": "stdout",
     "output_type": "stream",
     "text": [
      "\n",
      "Training model for store 50 and family 2...\n",
      "There are 1 NaN values in the data.\n",
      "Root Mean Squared Error (RMSE): 6.393786961743115\n",
      "Root Mean Squared Logarithmic Error (RMSLE): 0.6009091127549728\n"
     ]
    },
    {
     "name": "stderr",
     "output_type": "stream",
     "text": [
      "15:02:07 - cmdstanpy - INFO - Chain [1] start processing\n",
      "15:02:08 - cmdstanpy - INFO - Chain [1] done processing\n"
     ]
    },
    {
     "name": "stdout",
     "output_type": "stream",
     "text": [
      "\n",
      "Training model for store 50 and family 3...\n",
      "There are 1 NaN values in the data.\n",
      "Root Mean Squared Error (RMSE): 1334.9218472266357\n",
      "Root Mean Squared Logarithmic Error (RMSLE): 0.7099412086061303\n",
      "\n",
      "Training model for store 50 and family 4...\n",
      "There are 1 NaN values in the data.\n",
      "Root Mean Squared Error (RMSE): 1.5960379939420328\n",
      "Root Mean Squared Logarithmic Error (RMSLE): 0.711759628495694\n",
      "\n",
      "Training model for store 50 and family 5...\n"
     ]
    },
    {
     "name": "stderr",
     "output_type": "stream",
     "text": [
      "15:02:08 - cmdstanpy - INFO - Chain [1] start processing\n",
      "15:02:08 - cmdstanpy - INFO - Chain [1] done processing\n",
      "15:02:08 - cmdstanpy - INFO - Chain [1] start processing\n"
     ]
    },
    {
     "name": "stdout",
     "output_type": "stream",
     "text": [
      "There are 1 NaN values in the data.\n",
      "Root Mean Squared Error (RMSE): 140.180436863995\n",
      "Root Mean Squared Logarithmic Error (RMSLE): 0.5522430880816083\n",
      "\n",
      "Training model for store 50 and family 6...\n"
     ]
    },
    {
     "name": "stderr",
     "output_type": "stream",
     "text": [
      "15:02:08 - cmdstanpy - INFO - Chain [1] done processing\n",
      "15:02:09 - cmdstanpy - INFO - Chain [1] start processing\n"
     ]
    },
    {
     "name": "stdout",
     "output_type": "stream",
     "text": [
      "There are 1 NaN values in the data.\n",
      "Root Mean Squared Error (RMSE): 21.66430274549641\n",
      "Root Mean Squared Logarithmic Error (RMSLE): 0.5768421866011655\n",
      "\n",
      "Training model for store 50 and family 7...\n"
     ]
    },
    {
     "name": "stderr",
     "output_type": "stream",
     "text": [
      "15:02:09 - cmdstanpy - INFO - Chain [1] done processing\n",
      "15:02:09 - cmdstanpy - INFO - Chain [1] start processing\n"
     ]
    },
    {
     "name": "stdout",
     "output_type": "stream",
     "text": [
      "There are 1 NaN values in the data.\n",
      "Root Mean Squared Error (RMSE): 499.95813677381113\n",
      "Root Mean Squared Logarithmic Error (RMSLE): 0.6500514975059727\n",
      "\n",
      "Training model for store 50 and family 8...\n"
     ]
    },
    {
     "name": "stderr",
     "output_type": "stream",
     "text": [
      "15:02:09 - cmdstanpy - INFO - Chain [1] done processing\n",
      "15:02:09 - cmdstanpy - INFO - Chain [1] start processing\n"
     ]
    },
    {
     "name": "stdout",
     "output_type": "stream",
     "text": [
      "There are 1 NaN values in the data.\n",
      "Root Mean Squared Error (RMSE): 276.41855476239584\n",
      "Root Mean Squared Logarithmic Error (RMSLE): 0.598393067821848\n",
      "\n",
      "Training model for store 50 and family 9...\n"
     ]
    },
    {
     "name": "stderr",
     "output_type": "stream",
     "text": [
      "15:02:09 - cmdstanpy - INFO - Chain [1] done processing\n",
      "15:02:10 - cmdstanpy - INFO - Chain [1] start processing\n"
     ]
    },
    {
     "name": "stdout",
     "output_type": "stream",
     "text": [
      "There are 1 NaN values in the data.\n",
      "Root Mean Squared Error (RMSE): 169.86260745621402\n",
      "Root Mean Squared Logarithmic Error (RMSLE): 0.6006949663616775\n",
      "\n",
      "Training model for store 50 and family 10...\n"
     ]
    },
    {
     "name": "stderr",
     "output_type": "stream",
     "text": [
      "15:02:10 - cmdstanpy - INFO - Chain [1] done processing\n",
      "15:02:10 - cmdstanpy - INFO - Chain [1] start processing\n"
     ]
    },
    {
     "name": "stdout",
     "output_type": "stream",
     "text": [
      "There are 1 NaN values in the data.\n",
      "Root Mean Squared Error (RMSE): 30.368403110106858\n",
      "Root Mean Squared Logarithmic Error (RMSLE): 0.4628374816588954\n",
      "\n",
      "Training model for store 50 and family 11...\n"
     ]
    },
    {
     "name": "stderr",
     "output_type": "stream",
     "text": [
      "15:02:10 - cmdstanpy - INFO - Chain [1] done processing\n",
      "15:02:10 - cmdstanpy - INFO - Chain [1] start processing\n"
     ]
    },
    {
     "name": "stdout",
     "output_type": "stream",
     "text": [
      "There are 1 NaN values in the data.\n",
      "Root Mean Squared Error (RMSE): 422.86570521794346\n",
      "Root Mean Squared Logarithmic Error (RMSLE): 1.7420679068900333\n",
      "\n",
      "Training model for store 50 and family 12...\n"
     ]
    },
    {
     "name": "stderr",
     "output_type": "stream",
     "text": [
      "15:02:10 - cmdstanpy - INFO - Chain [1] done processing\n",
      "15:02:10 - cmdstanpy - INFO - Chain [1] start processing\n"
     ]
    },
    {
     "name": "stdout",
     "output_type": "stream",
     "text": [
      "There are 1 NaN values in the data.\n",
      "Root Mean Squared Error (RMSE): 1502.220430355766\n",
      "Root Mean Squared Logarithmic Error (RMSLE): 0.7288998634363664\n",
      "\n",
      "Training model for store 50 and family 13...\n"
     ]
    },
    {
     "name": "stderr",
     "output_type": "stream",
     "text": [
      "15:02:11 - cmdstanpy - INFO - Chain [1] done processing\n",
      "15:02:11 - cmdstanpy - INFO - Chain [1] start processing\n"
     ]
    },
    {
     "name": "stdout",
     "output_type": "stream",
     "text": [
      "There are 1 NaN values in the data.\n",
      "Root Mean Squared Error (RMSE): 52.44095493842626\n",
      "Root Mean Squared Logarithmic Error (RMSLE): 0.6477362636311571\n",
      "\n",
      "Training model for store 50 and family 14...\n"
     ]
    },
    {
     "name": "stderr",
     "output_type": "stream",
     "text": [
      "15:02:11 - cmdstanpy - INFO - Chain [1] done processing\n",
      "15:02:11 - cmdstanpy - INFO - Chain [1] start processing\n"
     ]
    },
    {
     "name": "stdout",
     "output_type": "stream",
     "text": [
      "There are 1 NaN values in the data.\n",
      "Root Mean Squared Error (RMSE): 1.7449353103352438\n",
      "Root Mean Squared Logarithmic Error (RMSLE): 0.7104700728079447\n",
      "\n",
      "Training model for store 50 and family 15...\n"
     ]
    },
    {
     "name": "stderr",
     "output_type": "stream",
     "text": [
      "15:02:11 - cmdstanpy - INFO - Chain [1] done processing\n",
      "15:02:11 - cmdstanpy - INFO - Chain [1] start processing\n"
     ]
    },
    {
     "name": "stdout",
     "output_type": "stream",
     "text": [
      "There are 1 NaN values in the data.\n",
      "Root Mean Squared Error (RMSE): 71.08497195754308\n",
      "Root Mean Squared Logarithmic Error (RMSLE): 0.6586469898460166\n",
      "\n",
      "Training model for store 50 and family 16...\n"
     ]
    },
    {
     "name": "stderr",
     "output_type": "stream",
     "text": [
      "15:02:12 - cmdstanpy - INFO - Chain [1] done processing\n",
      "15:02:12 - cmdstanpy - INFO - Chain [1] start processing\n"
     ]
    },
    {
     "name": "stdout",
     "output_type": "stream",
     "text": [
      "There are 1 NaN values in the data.\n",
      "Root Mean Squared Error (RMSE): 68.10664158699922\n",
      "Root Mean Squared Logarithmic Error (RMSLE): 3.5294561328486536\n",
      "\n",
      "Training model for store 50 and family 17...\n"
     ]
    },
    {
     "name": "stderr",
     "output_type": "stream",
     "text": [
      "15:02:12 - cmdstanpy - INFO - Chain [1] done processing\n",
      "15:02:12 - cmdstanpy - INFO - Chain [1] start processing\n"
     ]
    },
    {
     "name": "stdout",
     "output_type": "stream",
     "text": [
      "There are 1 NaN values in the data.\n",
      "Root Mean Squared Error (RMSE): 1.0168300466978613\n",
      "Root Mean Squared Logarithmic Error (RMSLE): 0.4753102597910185\n",
      "\n",
      "Training model for store 50 and family 18...\n"
     ]
    },
    {
     "name": "stderr",
     "output_type": "stream",
     "text": [
      "15:02:12 - cmdstanpy - INFO - Chain [1] done processing\n",
      "15:02:12 - cmdstanpy - INFO - Chain [1] start processing\n"
     ]
    },
    {
     "name": "stdout",
     "output_type": "stream",
     "text": [
      "There are 1 NaN values in the data.\n",
      "Root Mean Squared Error (RMSE): 159.9753554972562\n",
      "Root Mean Squared Logarithmic Error (RMSLE): 0.6035273783104125\n",
      "\n",
      "Training model for store 50 and family 19...\n"
     ]
    },
    {
     "name": "stderr",
     "output_type": "stream",
     "text": [
      "15:02:12 - cmdstanpy - INFO - Chain [1] done processing\n",
      "15:02:13 - cmdstanpy - INFO - Chain [1] start processing\n"
     ]
    },
    {
     "name": "stdout",
     "output_type": "stream",
     "text": [
      "There are 1 NaN values in the data.\n",
      "Root Mean Squared Error (RMSE): 15.095577925634199\n",
      "Root Mean Squared Logarithmic Error (RMSLE): 0.8107644565255585\n",
      "\n",
      "Training model for store 50 and family 20...\n"
     ]
    },
    {
     "name": "stderr",
     "output_type": "stream",
     "text": [
      "15:02:13 - cmdstanpy - INFO - Chain [1] done processing\n",
      "15:02:13 - cmdstanpy - INFO - Chain [1] start processing\n"
     ]
    },
    {
     "name": "stdout",
     "output_type": "stream",
     "text": [
      "There are 1 NaN values in the data.\n",
      "Root Mean Squared Error (RMSE): 20.22006956556033\n",
      "Root Mean Squared Logarithmic Error (RMSLE): 1.133653999494372\n",
      "\n",
      "Training model for store 50 and family 21...\n"
     ]
    },
    {
     "name": "stderr",
     "output_type": "stream",
     "text": [
      "15:02:13 - cmdstanpy - INFO - Chain [1] done processing\n",
      "15:02:13 - cmdstanpy - INFO - Chain [1] start processing\n"
     ]
    },
    {
     "name": "stdout",
     "output_type": "stream",
     "text": [
      "There are 1 NaN values in the data.\n",
      "Root Mean Squared Error (RMSE): 6.606288051013411\n",
      "Root Mean Squared Logarithmic Error (RMSLE): 0.8331274691602445\n",
      "\n",
      "Training model for store 50 and family 22...\n"
     ]
    },
    {
     "name": "stderr",
     "output_type": "stream",
     "text": [
      "15:02:13 - cmdstanpy - INFO - Chain [1] done processing\n",
      "15:02:14 - cmdstanpy - INFO - Chain [1] start processing\n"
     ]
    },
    {
     "name": "stdout",
     "output_type": "stream",
     "text": [
      "There are 1 NaN values in the data.\n",
      "Root Mean Squared Error (RMSE): 66.92308218339925\n",
      "Root Mean Squared Logarithmic Error (RMSLE): 1.2558932667084428\n",
      "\n",
      "Training model for store 50 and family 23...\n"
     ]
    },
    {
     "name": "stderr",
     "output_type": "stream",
     "text": [
      "15:02:14 - cmdstanpy - INFO - Chain [1] done processing\n",
      "15:02:14 - cmdstanpy - INFO - Chain [1] start processing\n"
     ]
    },
    {
     "name": "stdout",
     "output_type": "stream",
     "text": [
      "There are 1 NaN values in the data.\n",
      "Root Mean Squared Error (RMSE): 6.765686789269587\n",
      "Root Mean Squared Logarithmic Error (RMSLE): 0.6865583593023383\n",
      "\n",
      "Training model for store 50 and family 24...\n"
     ]
    },
    {
     "name": "stderr",
     "output_type": "stream",
     "text": [
      "15:02:14 - cmdstanpy - INFO - Chain [1] done processing\n",
      "15:02:14 - cmdstanpy - INFO - Chain [1] start processing\n"
     ]
    },
    {
     "name": "stdout",
     "output_type": "stream",
     "text": [
      "There are 1 NaN values in the data.\n",
      "Root Mean Squared Error (RMSE): 184.1738558302379\n",
      "Root Mean Squared Logarithmic Error (RMSLE): 0.568085721732878\n",
      "\n",
      "Training model for store 50 and family 25...\n"
     ]
    },
    {
     "name": "stderr",
     "output_type": "stream",
     "text": [
      "15:02:14 - cmdstanpy - INFO - Chain [1] done processing\n"
     ]
    },
    {
     "name": "stdout",
     "output_type": "stream",
     "text": [
      "There are 1 NaN values in the data.\n",
      "Root Mean Squared Error (RMSE): 153.3881949194816\n",
      "Root Mean Squared Logarithmic Error (RMSLE): 0.5660276917591942\n",
      "\n",
      "Training model for store 50 and family 26...\n"
     ]
    },
    {
     "name": "stderr",
     "output_type": "stream",
     "text": [
      "15:02:15 - cmdstanpy - INFO - Chain [1] start processing\n",
      "15:02:15 - cmdstanpy - INFO - Chain [1] done processing\n",
      "15:02:15 - cmdstanpy - INFO - Chain [1] start processing\n"
     ]
    },
    {
     "name": "stdout",
     "output_type": "stream",
     "text": [
      "There are 1 NaN values in the data.\n",
      "Root Mean Squared Error (RMSE): 6.1280271718606185\n",
      "Root Mean Squared Logarithmic Error (RMSLE): 0.5849488401775162\n",
      "\n",
      "Training model for store 50 and family 27...\n"
     ]
    },
    {
     "name": "stderr",
     "output_type": "stream",
     "text": [
      "15:02:15 - cmdstanpy - INFO - Chain [1] done processing\n",
      "15:02:15 - cmdstanpy - INFO - Chain [1] start processing\n"
     ]
    },
    {
     "name": "stdout",
     "output_type": "stream",
     "text": [
      "There are 1 NaN values in the data.\n",
      "Root Mean Squared Error (RMSE): 12.805729815410883\n",
      "Root Mean Squared Logarithmic Error (RMSLE): 0.6152342400803975\n",
      "\n",
      "Training model for store 50 and family 28...\n"
     ]
    },
    {
     "name": "stderr",
     "output_type": "stream",
     "text": [
      "15:02:15 - cmdstanpy - INFO - Chain [1] done processing\n",
      "15:02:16 - cmdstanpy - INFO - Chain [1] start processing\n"
     ]
    },
    {
     "name": "stdout",
     "output_type": "stream",
     "text": [
      "There are 1 NaN values in the data.\n",
      "Root Mean Squared Error (RMSE): 103.29559691479929\n",
      "Root Mean Squared Logarithmic Error (RMSLE): 0.5346837460839857\n",
      "\n",
      "Training model for store 50 and family 29...\n"
     ]
    },
    {
     "name": "stderr",
     "output_type": "stream",
     "text": [
      "15:02:16 - cmdstanpy - INFO - Chain [1] done processing\n",
      "15:02:16 - cmdstanpy - INFO - Chain [1] start processing\n"
     ]
    },
    {
     "name": "stdout",
     "output_type": "stream",
     "text": [
      "There are 1 NaN values in the data.\n",
      "Root Mean Squared Error (RMSE): 28.742816162706504\n",
      "Root Mean Squared Logarithmic Error (RMSLE): 0.46332839821411514\n",
      "\n",
      "Training model for store 50 and family 30...\n"
     ]
    },
    {
     "name": "stderr",
     "output_type": "stream",
     "text": [
      "15:02:16 - cmdstanpy - INFO - Chain [1] done processing\n",
      "15:02:16 - cmdstanpy - INFO - Chain [1] start processing\n"
     ]
    },
    {
     "name": "stdout",
     "output_type": "stream",
     "text": [
      "There are 1 NaN values in the data.\n",
      "Root Mean Squared Error (RMSE): 766.6200703275426\n",
      "Root Mean Squared Logarithmic Error (RMSLE): 0.6947220333140945\n",
      "\n",
      "Training model for store 50 and family 31...\n"
     ]
    },
    {
     "name": "stderr",
     "output_type": "stream",
     "text": [
      "15:02:16 - cmdstanpy - INFO - Chain [1] done processing\n",
      "15:02:17 - cmdstanpy - INFO - Chain [1] start processing\n"
     ]
    },
    {
     "name": "stdout",
     "output_type": "stream",
     "text": [
      "There are 1 NaN values in the data.\n",
      "Root Mean Squared Error (RMSE): 88.03331632416304\n",
      "Root Mean Squared Logarithmic Error (RMSLE): 2.203609555275085\n",
      "\n",
      "Training model for store 50 and family 32...\n"
     ]
    },
    {
     "name": "stderr",
     "output_type": "stream",
     "text": [
      "15:02:17 - cmdstanpy - INFO - Chain [1] done processing\n",
      "15:02:17 - cmdstanpy - INFO - Chain [1] start processing\n"
     ]
    },
    {
     "name": "stdout",
     "output_type": "stream",
     "text": [
      "There are 1 NaN values in the data.\n",
      "Root Mean Squared Error (RMSE): 8.279167758821396\n",
      "Root Mean Squared Logarithmic Error (RMSLE): 0.4604472798826586\n",
      "\n",
      "Training model for store 51 and family 0...\n"
     ]
    },
    {
     "name": "stderr",
     "output_type": "stream",
     "text": [
      "15:02:17 - cmdstanpy - INFO - Chain [1] done processing\n"
     ]
    },
    {
     "name": "stdout",
     "output_type": "stream",
     "text": [
      "There are 1 NaN values in the data.\n",
      "Root Mean Squared Error (RMSE): 4.044576210162968\n",
      "Root Mean Squared Logarithmic Error (RMSLE): 0.5223780031414327\n",
      "\n",
      "Training model for store 51 and family 1...\n",
      "There are 1 NaN values in the data.\n",
      "Root Mean Squared Error (RMSE): 0.0\n",
      "Root Mean Squared Logarithmic Error (RMSLE): 0.0\n"
     ]
    },
    {
     "name": "stderr",
     "output_type": "stream",
     "text": [
      "15:02:17 - cmdstanpy - INFO - Chain [1] start processing\n",
      "15:02:18 - cmdstanpy - INFO - Chain [1] done processing\n"
     ]
    },
    {
     "name": "stdout",
     "output_type": "stream",
     "text": [
      "\n",
      "Training model for store 51 and family 2...\n",
      "There are 1 NaN values in the data.\n",
      "Root Mean Squared Error (RMSE): 3.4873520018193496\n",
      "Root Mean Squared Logarithmic Error (RMSLE): 0.5254838668021039\n"
     ]
    },
    {
     "name": "stderr",
     "output_type": "stream",
     "text": [
      "15:02:18 - cmdstanpy - INFO - Chain [1] start processing\n",
      "15:02:18 - cmdstanpy - INFO - Chain [1] done processing\n"
     ]
    },
    {
     "name": "stdout",
     "output_type": "stream",
     "text": [
      "\n",
      "Training model for store 51 and family 3...\n",
      "There are 1 NaN values in the data.\n",
      "Root Mean Squared Error (RMSE): 957.8118426891795\n",
      "Root Mean Squared Logarithmic Error (RMSLE): 0.6992796507627369\n",
      "\n",
      "Training model for store 51 and family 4...\n",
      "There are 1 NaN values in the data.\n",
      "Root Mean Squared Error (RMSE): 1.4786448297493142\n",
      "Root Mean Squared Logarithmic Error (RMSLE): 0.6686915220461832\n",
      "\n",
      "Training model for store 51 and family 5...\n"
     ]
    },
    {
     "name": "stderr",
     "output_type": "stream",
     "text": [
      "15:02:18 - cmdstanpy - INFO - Chain [1] start processing\n",
      "15:02:18 - cmdstanpy - INFO - Chain [1] done processing\n"
     ]
    },
    {
     "name": "stdout",
     "output_type": "stream",
     "text": [
      "There are 1 NaN values in the data.\n",
      "Root Mean Squared Error (RMSE): 156.5975854778484\n",
      "Root Mean Squared Logarithmic Error (RMSLE): 0.5631926187688722\n",
      "\n",
      "Training model for store 51 and family 6...\n"
     ]
    },
    {
     "name": "stderr",
     "output_type": "stream",
     "text": [
      "15:02:19 - cmdstanpy - INFO - Chain [1] start processing\n",
      "15:02:19 - cmdstanpy - INFO - Chain [1] done processing\n",
      "15:02:19 - cmdstanpy - INFO - Chain [1] start processing\n"
     ]
    },
    {
     "name": "stdout",
     "output_type": "stream",
     "text": [
      "There are 1 NaN values in the data.\n",
      "Root Mean Squared Error (RMSE): 9.354694758169085\n",
      "Root Mean Squared Logarithmic Error (RMSLE): 0.6144944238782171\n",
      "\n",
      "Training model for store 51 and family 7...\n"
     ]
    },
    {
     "name": "stderr",
     "output_type": "stream",
     "text": [
      "15:02:19 - cmdstanpy - INFO - Chain [1] done processing\n",
      "15:02:19 - cmdstanpy - INFO - Chain [1] start processing\n"
     ]
    },
    {
     "name": "stdout",
     "output_type": "stream",
     "text": [
      "There are 1 NaN values in the data.\n",
      "Root Mean Squared Error (RMSE): 286.9694638131761\n",
      "Root Mean Squared Logarithmic Error (RMSLE): 0.6027256022045095\n",
      "\n",
      "Training model for store 51 and family 8...\n"
     ]
    },
    {
     "name": "stderr",
     "output_type": "stream",
     "text": [
      "15:02:19 - cmdstanpy - INFO - Chain [1] done processing\n",
      "15:02:20 - cmdstanpy - INFO - Chain [1] start processing\n"
     ]
    },
    {
     "name": "stdout",
     "output_type": "stream",
     "text": [
      "There are 1 NaN values in the data.\n",
      "Root Mean Squared Error (RMSE): 284.2497134128961\n",
      "Root Mean Squared Logarithmic Error (RMSLE): 0.605766168090777\n",
      "\n",
      "Training model for store 51 and family 9...\n"
     ]
    },
    {
     "name": "stderr",
     "output_type": "stream",
     "text": [
      "15:02:20 - cmdstanpy - INFO - Chain [1] done processing\n",
      "15:02:20 - cmdstanpy - INFO - Chain [1] start processing\n"
     ]
    },
    {
     "name": "stdout",
     "output_type": "stream",
     "text": [
      "There are 1 NaN values in the data.\n",
      "Root Mean Squared Error (RMSE): 93.8238053914827\n",
      "Root Mean Squared Logarithmic Error (RMSLE): 0.6120053961897426\n",
      "\n",
      "Training model for store 51 and family 10...\n"
     ]
    },
    {
     "name": "stderr",
     "output_type": "stream",
     "text": [
      "15:02:20 - cmdstanpy - INFO - Chain [1] done processing\n",
      "15:02:20 - cmdstanpy - INFO - Chain [1] start processing\n"
     ]
    },
    {
     "name": "stdout",
     "output_type": "stream",
     "text": [
      "There are 1 NaN values in the data.\n",
      "Root Mean Squared Error (RMSE): 70.53393880048634\n",
      "Root Mean Squared Logarithmic Error (RMSLE): 0.4960553991064145\n",
      "\n",
      "Training model for store 51 and family 11...\n"
     ]
    },
    {
     "name": "stderr",
     "output_type": "stream",
     "text": [
      "15:02:20 - cmdstanpy - INFO - Chain [1] done processing\n",
      "15:02:21 - cmdstanpy - INFO - Chain [1] start processing\n"
     ]
    },
    {
     "name": "stdout",
     "output_type": "stream",
     "text": [
      "There are 1 NaN values in the data.\n",
      "Root Mean Squared Error (RMSE): 236.49955886614944\n",
      "Root Mean Squared Logarithmic Error (RMSLE): 0.6218359821447441\n",
      "\n",
      "Training model for store 51 and family 12...\n"
     ]
    },
    {
     "name": "stderr",
     "output_type": "stream",
     "text": [
      "15:02:21 - cmdstanpy - INFO - Chain [1] done processing\n",
      "15:02:21 - cmdstanpy - INFO - Chain [1] start processing\n"
     ]
    },
    {
     "name": "stdout",
     "output_type": "stream",
     "text": [
      "There are 1 NaN values in the data.\n",
      "Root Mean Squared Error (RMSE): 966.4989783815971\n",
      "Root Mean Squared Logarithmic Error (RMSLE): 0.6999708181975066\n",
      "\n",
      "Training model for store 51 and family 13...\n"
     ]
    },
    {
     "name": "stderr",
     "output_type": "stream",
     "text": [
      "15:02:21 - cmdstanpy - INFO - Chain [1] done processing\n",
      "15:02:21 - cmdstanpy - INFO - Chain [1] start processing\n",
      "15:02:21 - cmdstanpy - INFO - Chain [1] done processing\n"
     ]
    },
    {
     "name": "stdout",
     "output_type": "stream",
     "text": [
      "There are 1 NaN values in the data.\n",
      "Root Mean Squared Error (RMSE): 20.765812635019987\n",
      "Root Mean Squared Logarithmic Error (RMSLE): 0.6430207157976762\n",
      "\n",
      "Training model for store 51 and family 14...\n"
     ]
    },
    {
     "name": "stderr",
     "output_type": "stream",
     "text": [
      "15:02:21 - cmdstanpy - INFO - Chain [1] start processing\n"
     ]
    },
    {
     "name": "stdout",
     "output_type": "stream",
     "text": [
      "There are 1 NaN values in the data.\n",
      "Root Mean Squared Error (RMSE): 1.946834124603958\n",
      "Root Mean Squared Logarithmic Error (RMSLE): 0.6621685387265467\n",
      "\n",
      "Training model for store 51 and family 15...\n"
     ]
    },
    {
     "name": "stderr",
     "output_type": "stream",
     "text": [
      "15:02:22 - cmdstanpy - INFO - Chain [1] done processing\n",
      "15:02:22 - cmdstanpy - INFO - Chain [1] start processing\n"
     ]
    },
    {
     "name": "stdout",
     "output_type": "stream",
     "text": [
      "There are 1 NaN values in the data.\n",
      "Root Mean Squared Error (RMSE): 25.36456229015854\n",
      "Root Mean Squared Logarithmic Error (RMSLE): 0.6599270676716511\n",
      "\n",
      "Training model for store 51 and family 16...\n"
     ]
    },
    {
     "name": "stderr",
     "output_type": "stream",
     "text": [
      "15:02:22 - cmdstanpy - INFO - Chain [1] done processing\n",
      "15:02:22 - cmdstanpy - INFO - Chain [1] start processing\n"
     ]
    },
    {
     "name": "stdout",
     "output_type": "stream",
     "text": [
      "There are 1 NaN values in the data.\n",
      "Root Mean Squared Error (RMSE): 67.27045206756083\n",
      "Root Mean Squared Logarithmic Error (RMSLE): 1.4597211794056382\n",
      "\n",
      "Training model for store 51 and family 17...\n"
     ]
    },
    {
     "name": "stderr",
     "output_type": "stream",
     "text": [
      "15:02:22 - cmdstanpy - INFO - Chain [1] done processing\n",
      "15:02:22 - cmdstanpy - INFO - Chain [1] start processing\n"
     ]
    },
    {
     "name": "stdout",
     "output_type": "stream",
     "text": [
      "There are 1 NaN values in the data.\n",
      "Root Mean Squared Error (RMSE): 1.3903265013404555\n",
      "Root Mean Squared Logarithmic Error (RMSLE): 0.5949704533203779\n",
      "\n",
      "Training model for store 51 and family 18...\n"
     ]
    },
    {
     "name": "stderr",
     "output_type": "stream",
     "text": [
      "15:02:23 - cmdstanpy - INFO - Chain [1] done processing\n",
      "15:02:23 - cmdstanpy - INFO - Chain [1] start processing\n"
     ]
    },
    {
     "name": "stdout",
     "output_type": "stream",
     "text": [
      "There are 1 NaN values in the data.\n",
      "Root Mean Squared Error (RMSE): 79.41531237282224\n",
      "Root Mean Squared Logarithmic Error (RMSLE): 0.5190095760151759\n",
      "\n",
      "Training model for store 51 and family 19...\n"
     ]
    },
    {
     "name": "stderr",
     "output_type": "stream",
     "text": [
      "15:02:23 - cmdstanpy - INFO - Chain [1] done processing\n",
      "15:02:23 - cmdstanpy - INFO - Chain [1] start processing\n"
     ]
    },
    {
     "name": "stdout",
     "output_type": "stream",
     "text": [
      "There are 1 NaN values in the data.\n",
      "Root Mean Squared Error (RMSE): 4.2194503826956\n",
      "Root Mean Squared Logarithmic Error (RMSLE): 1.0217129404810024\n",
      "\n",
      "Training model for store 51 and family 20...\n"
     ]
    },
    {
     "name": "stderr",
     "output_type": "stream",
     "text": [
      "15:02:23 - cmdstanpy - INFO - Chain [1] done processing\n",
      "15:02:23 - cmdstanpy - INFO - Chain [1] start processing\n"
     ]
    },
    {
     "name": "stdout",
     "output_type": "stream",
     "text": [
      "There are 1 NaN values in the data.\n",
      "Root Mean Squared Error (RMSE): 40.16044581258544\n",
      "Root Mean Squared Logarithmic Error (RMSLE): 1.1852302090406903\n",
      "\n",
      "Training model for store 51 and family 21...\n"
     ]
    },
    {
     "name": "stderr",
     "output_type": "stream",
     "text": [
      "15:02:24 - cmdstanpy - INFO - Chain [1] done processing\n",
      "15:02:24 - cmdstanpy - INFO - Chain [1] start processing\n"
     ]
    },
    {
     "name": "stdout",
     "output_type": "stream",
     "text": [
      "There are 1 NaN values in the data.\n",
      "Root Mean Squared Error (RMSE): 6.663504150033034\n",
      "Root Mean Squared Logarithmic Error (RMSLE): 0.8148123501115583\n",
      "\n",
      "Training model for store 51 and family 22...\n"
     ]
    },
    {
     "name": "stderr",
     "output_type": "stream",
     "text": [
      "15:02:24 - cmdstanpy - INFO - Chain [1] done processing\n",
      "15:02:24 - cmdstanpy - INFO - Chain [1] start processing\n"
     ]
    },
    {
     "name": "stdout",
     "output_type": "stream",
     "text": [
      "There are 1 NaN values in the data.\n",
      "Root Mean Squared Error (RMSE): 90.30515727980723\n",
      "Root Mean Squared Logarithmic Error (RMSLE): 1.1532450939478502\n",
      "\n",
      "Training model for store 51 and family 23...\n"
     ]
    },
    {
     "name": "stderr",
     "output_type": "stream",
     "text": [
      "15:02:24 - cmdstanpy - INFO - Chain [1] done processing\n",
      "15:02:24 - cmdstanpy - INFO - Chain [1] start processing\n"
     ]
    },
    {
     "name": "stdout",
     "output_type": "stream",
     "text": [
      "There are 1 NaN values in the data.\n",
      "Root Mean Squared Error (RMSE): 7.980887444397606\n",
      "Root Mean Squared Logarithmic Error (RMSLE): 0.7109690148301978\n",
      "\n",
      "Training model for store 51 and family 24...\n"
     ]
    },
    {
     "name": "stderr",
     "output_type": "stream",
     "text": [
      "15:02:25 - cmdstanpy - INFO - Chain [1] done processing\n",
      "15:02:25 - cmdstanpy - INFO - Chain [1] start processing\n"
     ]
    },
    {
     "name": "stdout",
     "output_type": "stream",
     "text": [
      "There are 1 NaN values in the data.\n",
      "Root Mean Squared Error (RMSE): 118.82720765726935\n",
      "Root Mean Squared Logarithmic Error (RMSLE): 0.5127398871247181\n",
      "\n",
      "Training model for store 51 and family 25...\n"
     ]
    },
    {
     "name": "stderr",
     "output_type": "stream",
     "text": [
      "15:02:25 - cmdstanpy - INFO - Chain [1] done processing\n",
      "15:02:25 - cmdstanpy - INFO - Chain [1] start processing\n"
     ]
    },
    {
     "name": "stdout",
     "output_type": "stream",
     "text": [
      "There are 1 NaN values in the data.\n",
      "Root Mean Squared Error (RMSE): 105.85822530680734\n",
      "Root Mean Squared Logarithmic Error (RMSLE): 0.5299649353569283\n",
      "\n",
      "Training model for store 51 and family 26...\n"
     ]
    },
    {
     "name": "stderr",
     "output_type": "stream",
     "text": [
      "15:02:25 - cmdstanpy - INFO - Chain [1] done processing\n",
      "15:02:25 - cmdstanpy - INFO - Chain [1] start processing\n"
     ]
    },
    {
     "name": "stdout",
     "output_type": "stream",
     "text": [
      "There are 1 NaN values in the data.\n",
      "Root Mean Squared Error (RMSE): 9.382814257762202\n",
      "Root Mean Squared Logarithmic Error (RMSLE): 0.519684019311638\n",
      "\n",
      "Training model for store 51 and family 27...\n"
     ]
    },
    {
     "name": "stderr",
     "output_type": "stream",
     "text": [
      "15:02:25 - cmdstanpy - INFO - Chain [1] done processing\n",
      "15:02:26 - cmdstanpy - INFO - Chain [1] start processing\n"
     ]
    },
    {
     "name": "stdout",
     "output_type": "stream",
     "text": [
      "There are 1 NaN values in the data.\n",
      "Root Mean Squared Error (RMSE): 8.338391422448366\n",
      "Root Mean Squared Logarithmic Error (RMSLE): 0.6856479839847175\n",
      "\n",
      "Training model for store 51 and family 28...\n"
     ]
    },
    {
     "name": "stderr",
     "output_type": "stream",
     "text": [
      "15:02:26 - cmdstanpy - INFO - Chain [1] done processing\n",
      "15:02:26 - cmdstanpy - INFO - Chain [1] start processing\n"
     ]
    },
    {
     "name": "stdout",
     "output_type": "stream",
     "text": [
      "There are 1 NaN values in the data.\n",
      "Root Mean Squared Error (RMSE): 1144.496234251326\n",
      "Root Mean Squared Logarithmic Error (RMSLE): 0.89346983085837\n",
      "\n",
      "Training model for store 51 and family 29...\n"
     ]
    },
    {
     "name": "stderr",
     "output_type": "stream",
     "text": [
      "15:02:26 - cmdstanpy - INFO - Chain [1] done processing\n",
      "15:02:26 - cmdstanpy - INFO - Chain [1] start processing\n"
     ]
    },
    {
     "name": "stdout",
     "output_type": "stream",
     "text": [
      "There are 1 NaN values in the data.\n",
      "Root Mean Squared Error (RMSE): 30.466889821545212\n",
      "Root Mean Squared Logarithmic Error (RMSLE): 0.44881842112895265\n",
      "\n",
      "Training model for store 51 and family 30...\n"
     ]
    },
    {
     "name": "stderr",
     "output_type": "stream",
     "text": [
      "15:02:26 - cmdstanpy - INFO - Chain [1] done processing\n",
      "15:02:27 - cmdstanpy - INFO - Chain [1] start processing\n"
     ]
    },
    {
     "name": "stdout",
     "output_type": "stream",
     "text": [
      "There are 1 NaN values in the data.\n",
      "Root Mean Squared Error (RMSE): 2377.091195162491\n",
      "Root Mean Squared Logarithmic Error (RMSLE): 0.7891113135482024\n",
      "\n",
      "Training model for store 51 and family 31...\n"
     ]
    },
    {
     "name": "stderr",
     "output_type": "stream",
     "text": [
      "15:02:27 - cmdstanpy - INFO - Chain [1] done processing\n",
      "15:02:27 - cmdstanpy - INFO - Chain [1] start processing\n"
     ]
    },
    {
     "name": "stdout",
     "output_type": "stream",
     "text": [
      "There are 1 NaN values in the data.\n",
      "Root Mean Squared Error (RMSE): 31.401266919619843\n",
      "Root Mean Squared Logarithmic Error (RMSLE): 1.965885751380309\n",
      "\n",
      "Training model for store 51 and family 32...\n"
     ]
    },
    {
     "name": "stderr",
     "output_type": "stream",
     "text": [
      "15:02:27 - cmdstanpy - INFO - Chain [1] done processing\n"
     ]
    },
    {
     "name": "stdout",
     "output_type": "stream",
     "text": [
      "There are 1 NaN values in the data.\n",
      "Root Mean Squared Error (RMSE): 16.53654235384631\n",
      "Root Mean Squared Logarithmic Error (RMSLE): 0.45524789193125365\n",
      "\n",
      "Training model for store 52 and family 0...\n",
      "There are 1 NaN values in the data.\n",
      "Root Mean Squared Error (RMSE): 8.55455863109144\n",
      "Root Mean Squared Logarithmic Error (RMSLE): 1.5003884446578857\n",
      "\n",
      "Training model for store 52 and family 1...\n",
      "There are 1 NaN values in the data.\n",
      "Root Mean Squared Error (RMSE): 0.0\n",
      "Root Mean Squared Logarithmic Error (RMSLE): 0.0\n",
      "\n",
      "Training model for store 52 and family 2...\n",
      "There are 1 NaN values in the data.\n",
      "Root Mean Squared Error (RMSE): 5.318272620751879\n",
      "Root Mean Squared Logarithmic Error (RMSLE): 1.2896468073352854\n",
      "\n",
      "Training model for store 52 and family 3...\n",
      "There are 1 NaN values in the data.\n",
      "Root Mean Squared Error (RMSE): 2776.0039017843424\n",
      "Root Mean Squared Logarithmic Error (RMSLE): 4.962373501858991\n",
      "\n",
      "Training model for store 52 and family 4...\n",
      "There are 1 NaN values in the data.\n",
      "Root Mean Squared Error (RMSE): 0.0\n",
      "Root Mean Squared Logarithmic Error (RMSLE): 0.0\n",
      "\n",
      "Training model for store 52 and family 5...\n",
      "There are 1 NaN values in the data.\n",
      "Root Mean Squared Error (RMSE): 501.25798358438607\n",
      "Root Mean Squared Logarithmic Error (RMSLE): 3.9561522173747368\n",
      "\n",
      "Training model for store 52 and family 6...\n",
      "There are 1 NaN values in the data.\n",
      "Root Mean Squared Error (RMSE): 7.544934426683811\n",
      "Root Mean Squared Logarithmic Error (RMSLE): 1.4490694369067494\n",
      "\n",
      "Training model for store 52 and family 7...\n",
      "There are 1 NaN values in the data.\n",
      "Root Mean Squared Error (RMSE): 1036.4741195957167\n",
      "Root Mean Squared Logarithmic Error (RMSLE): 4.384189522642517\n",
      "\n",
      "Training model for store 52 and family 8...\n",
      "There are 1 NaN values in the data.\n",
      "Root Mean Squared Error (RMSE): 721.6264174699625\n",
      "Root Mean Squared Logarithmic Error (RMSLE): 4.173025321617996\n",
      "\n",
      "Training model for store 52 and family 9...\n",
      "There are 1 NaN values in the data.\n",
      "Root Mean Squared Error (RMSE): 232.0195167494349\n",
      "Root Mean Squared Logarithmic Error (RMSLE): 3.49134670888852\n",
      "\n",
      "Training model for store 52 and family 10...\n",
      "There are 1 NaN values in the data.\n",
      "Root Mean Squared Error (RMSE): 128.32443166955235\n",
      "Root Mean Squared Logarithmic Error (RMSLE): 3.1551618338003453\n",
      "\n",
      "Training model for store 52 and family 11...\n",
      "There are 1 NaN values in the data.\n",
      "Root Mean Squared Error (RMSE): 215.62685242916248\n",
      "Root Mean Squared Logarithmic Error (RMSLE): 3.4258849673964122\n",
      "\n",
      "Training model for store 52 and family 12...\n",
      "There are 1 NaN values in the data.\n",
      "Root Mean Squared Error (RMSE): 3805.0442754151786\n",
      "Root Mean Squared Logarithmic Error (RMSLE): 5.146988273125231\n",
      "\n",
      "Training model for store 52 and family 13...\n",
      "There are 1 NaN values in the data.\n",
      "Root Mean Squared Error (RMSE): 32.40160343756839\n",
      "Root Mean Squared Logarithmic Error (RMSLE): 2.249204333023895\n",
      "\n",
      "Training model for store 52 and family 14...\n",
      "There are 1 NaN values in the data.\n",
      "Root Mean Squared Error (RMSE): 2.372799510028797\n",
      "Root Mean Squared Logarithmic Error (RMSLE): 0.8523315286016633\n",
      "\n",
      "Training model for store 52 and family 15...\n",
      "There are 1 NaN values in the data.\n",
      "Root Mean Squared Error (RMSE): 38.685272337906426\n",
      "Root Mean Squared Logarithmic Error (RMSLE): 2.365495780907777\n",
      "\n",
      "Training model for store 52 and family 16...\n",
      "There are 1 NaN values in the data.\n",
      "Root Mean Squared Error (RMSE): 34.08877203271225\n",
      "Root Mean Squared Logarithmic Error (RMSLE): 2.3221071512853566\n",
      "\n",
      "Training model for store 52 and family 17...\n",
      "There are 1 NaN values in the data.\n",
      "Root Mean Squared Error (RMSE): 0.9182566451010248\n",
      "Root Mean Squared Logarithmic Error (RMSLE): 0.4463367910800536\n",
      "\n",
      "Training model for store 52 and family 18...\n",
      "There are 1 NaN values in the data.\n",
      "Root Mean Squared Error (RMSE): 232.97448243843277\n",
      "Root Mean Squared Logarithmic Error (RMSLE): 3.4819614459420443\n",
      "\n",
      "Training model for store 52 and family 19...\n",
      "There are 1 NaN values in the data.\n",
      "Root Mean Squared Error (RMSE): 7.771895963270824\n",
      "Root Mean Squared Logarithmic Error (RMSLE): 1.3924757759111377\n",
      "\n",
      "Training model for store 52 and family 20...\n",
      "There are 1 NaN values in the data.\n",
      "Root Mean Squared Error (RMSE): 56.978870785373864\n",
      "Root Mean Squared Logarithmic Error (RMSLE): 2.374870744532857\n",
      "\n",
      "Training model for store 52 and family 21...\n",
      "There are 1 NaN values in the data.\n",
      "Root Mean Squared Error (RMSE): 6.464056286004868\n",
      "Root Mean Squared Logarithmic Error (RMSLE): 1.2619953624214004\n",
      "\n",
      "Training model for store 52 and family 22...\n",
      "There are 1 NaN values in the data.\n",
      "Root Mean Squared Error (RMSE): 138.61698539159354\n",
      "Root Mean Squared Logarithmic Error (RMSLE): 3.1113395554541468\n",
      "\n",
      "Training model for store 52 and family 23...\n",
      "There are 1 NaN values in the data.\n",
      "Root Mean Squared Error (RMSE): 6.854143997672386\n",
      "Root Mean Squared Logarithmic Error (RMSLE): 1.4167707172052684\n",
      "\n",
      "Training model for store 52 and family 24...\n",
      "There are 1 NaN values in the data.\n",
      "Root Mean Squared Error (RMSE): 313.75896771429694\n",
      "Root Mean Squared Logarithmic Error (RMSLE): 3.6525564758231464\n",
      "\n",
      "Training model for store 52 and family 25...\n",
      "There are 1 NaN values in the data.\n",
      "Root Mean Squared Error (RMSE): 241.06841818977597\n",
      "Root Mean Squared Logarithmic Error (RMSLE): 3.492246083846713\n",
      "\n",
      "Training model for store 52 and family 26...\n",
      "There are 1 NaN values in the data.\n",
      "Root Mean Squared Error (RMSE): 9.456377579341728\n",
      "Root Mean Squared Logarithmic Error (RMSLE): 1.6021849058971807\n",
      "\n",
      "Training model for store 52 and family 27...\n",
      "There are 1 NaN values in the data.\n",
      "Root Mean Squared Error (RMSE): 17.817035262976\n",
      "Root Mean Squared Logarithmic Error (RMSLE): 1.9726042317754318\n",
      "\n",
      "Training model for store 52 and family 28...\n",
      "There are 1 NaN values in the data.\n",
      "Root Mean Squared Error (RMSE): 301.3331686383188\n",
      "Root Mean Squared Logarithmic Error (RMSLE): 3.6507133597577996\n",
      "\n",
      "Training model for store 52 and family 29...\n",
      "There are 1 NaN values in the data.\n",
      "Root Mean Squared Error (RMSE): 81.83309688984616\n",
      "Root Mean Squared Logarithmic Error (RMSLE): 2.8919405748963602\n",
      "\n",
      "Training model for store 52 and family 30...\n",
      "There are 1 NaN values in the data.\n",
      "Root Mean Squared Error (RMSE): 3010.9905873090797\n",
      "Root Mean Squared Logarithmic Error (RMSLE): 5.006313027464867\n",
      "\n",
      "Training model for store 52 and family 31...\n",
      "There are 1 NaN values in the data.\n",
      "Root Mean Squared Error (RMSE): 24.034122685349633\n",
      "Root Mean Squared Logarithmic Error (RMSLE): 1.4276495643984406\n"
     ]
    },
    {
     "name": "stderr",
     "output_type": "stream",
     "text": [
      "15:02:33 - cmdstanpy - INFO - Chain [1] start processing\n"
     ]
    },
    {
     "name": "stdout",
     "output_type": "stream",
     "text": [
      "\n",
      "Training model for store 52 and family 32...\n",
      "There are 1 NaN values in the data.\n",
      "Root Mean Squared Error (RMSE): 7.1432062687071864\n",
      "Root Mean Squared Logarithmic Error (RMSLE): 1.3910819181431189\n",
      "\n",
      "Training model for store 53 and family 0...\n"
     ]
    },
    {
     "name": "stderr",
     "output_type": "stream",
     "text": [
      "15:02:33 - cmdstanpy - INFO - Chain [1] done processing\n"
     ]
    },
    {
     "name": "stdout",
     "output_type": "stream",
     "text": [
      "There are 1 NaN values in the data.\n",
      "Root Mean Squared Error (RMSE): 7.339595336265253\n",
      "Root Mean Squared Logarithmic Error (RMSLE): 0.6681975208638167\n",
      "\n",
      "Training model for store 53 and family 1...\n"
     ]
    },
    {
     "name": "stderr",
     "output_type": "stream",
     "text": [
      "15:02:33 - cmdstanpy - INFO - Chain [1] start processing\n",
      "15:02:34 - cmdstanpy - INFO - Chain [1] done processing\n"
     ]
    },
    {
     "name": "stdout",
     "output_type": "stream",
     "text": [
      "There are 1 NaN values in the data.\n",
      "Root Mean Squared Error (RMSE): 0.3689101171779015\n",
      "Root Mean Squared Logarithmic Error (RMSLE): 0.19197684199401724\n",
      "\n",
      "Training model for store 53 and family 2...\n"
     ]
    },
    {
     "name": "stderr",
     "output_type": "stream",
     "text": [
      "15:02:34 - cmdstanpy - INFO - Chain [1] start processing\n"
     ]
    },
    {
     "name": "stdout",
     "output_type": "stream",
     "text": [
      "There are 1 NaN values in the data.\n",
      "Root Mean Squared Error (RMSE): 5.42181023396565\n",
      "Root Mean Squared Logarithmic Error (RMSLE): 0.8171712396485111\n",
      "\n",
      "Training model for store 53 and family 3...\n"
     ]
    },
    {
     "name": "stderr",
     "output_type": "stream",
     "text": [
      "15:02:34 - cmdstanpy - INFO - Chain [1] done processing\n"
     ]
    },
    {
     "name": "stdout",
     "output_type": "stream",
     "text": [
      "There are 1 NaN values in the data.\n",
      "Root Mean Squared Error (RMSE): 1674.7655503725546\n",
      "Root Mean Squared Logarithmic Error (RMSLE): 0.8598533585365569\n",
      "\n",
      "Training model for store 53 and family 4...\n",
      "There are 1 NaN values in the data.\n",
      "Root Mean Squared Error (RMSE): 0.6412820000205025\n",
      "Root Mean Squared Logarithmic Error (RMSLE): 0.3534848787800299\n"
     ]
    },
    {
     "name": "stderr",
     "output_type": "stream",
     "text": [
      "15:02:34 - cmdstanpy - INFO - Chain [1] start processing\n",
      "15:02:34 - cmdstanpy - INFO - Chain [1] done processing\n"
     ]
    },
    {
     "name": "stdout",
     "output_type": "stream",
     "text": [
      "\n",
      "Training model for store 53 and family 5...\n"
     ]
    },
    {
     "name": "stderr",
     "output_type": "stream",
     "text": [
      "15:02:35 - cmdstanpy - INFO - Chain [1] start processing\n"
     ]
    },
    {
     "name": "stdout",
     "output_type": "stream",
     "text": [
      "There are 1 NaN values in the data.\n",
      "Root Mean Squared Error (RMSE): 481.1909234896134\n",
      "Root Mean Squared Logarithmic Error (RMSLE): 0.8715115930166509\n",
      "\n",
      "Training model for store 53 and family 6...\n"
     ]
    },
    {
     "name": "stderr",
     "output_type": "stream",
     "text": [
      "15:02:35 - cmdstanpy - INFO - Chain [1] done processing\n",
      "15:02:35 - cmdstanpy - INFO - Chain [1] start processing\n"
     ]
    },
    {
     "name": "stdout",
     "output_type": "stream",
     "text": [
      "There are 1 NaN values in the data.\n",
      "Root Mean Squared Error (RMSE): 12.745772905856246\n",
      "Root Mean Squared Logarithmic Error (RMSLE): 1.0629022787746494\n",
      "\n",
      "Training model for store 53 and family 7...\n"
     ]
    },
    {
     "name": "stderr",
     "output_type": "stream",
     "text": [
      "15:02:35 - cmdstanpy - INFO - Chain [1] done processing\n",
      "15:02:35 - cmdstanpy - INFO - Chain [1] start processing\n"
     ]
    },
    {
     "name": "stdout",
     "output_type": "stream",
     "text": [
      "There are 1 NaN values in the data.\n",
      "Root Mean Squared Error (RMSE): 1067.387467973428\n",
      "Root Mean Squared Logarithmic Error (RMSLE): 0.9236141048498923\n",
      "\n",
      "Training model for store 53 and family 8...\n"
     ]
    },
    {
     "name": "stderr",
     "output_type": "stream",
     "text": [
      "15:02:35 - cmdstanpy - INFO - Chain [1] done processing\n",
      "15:02:36 - cmdstanpy - INFO - Chain [1] start processing\n"
     ]
    },
    {
     "name": "stdout",
     "output_type": "stream",
     "text": [
      "There are 1 NaN values in the data.\n",
      "Root Mean Squared Error (RMSE): 533.3363840458454\n",
      "Root Mean Squared Logarithmic Error (RMSLE): 0.8491172060534776\n",
      "\n",
      "Training model for store 53 and family 9...\n"
     ]
    },
    {
     "name": "stderr",
     "output_type": "stream",
     "text": [
      "15:02:36 - cmdstanpy - INFO - Chain [1] done processing\n",
      "15:02:36 - cmdstanpy - INFO - Chain [1] start processing\n"
     ]
    },
    {
     "name": "stdout",
     "output_type": "stream",
     "text": [
      "There are 1 NaN values in the data.\n",
      "Root Mean Squared Error (RMSE): 221.69324395416749\n",
      "Root Mean Squared Logarithmic Error (RMSLE): 0.8187796917693924\n",
      "\n",
      "Training model for store 53 and family 10...\n"
     ]
    },
    {
     "name": "stderr",
     "output_type": "stream",
     "text": [
      "15:02:36 - cmdstanpy - INFO - Chain [1] done processing\n",
      "15:02:36 - cmdstanpy - INFO - Chain [1] start processing\n"
     ]
    },
    {
     "name": "stdout",
     "output_type": "stream",
     "text": [
      "There are 1 NaN values in the data.\n",
      "Root Mean Squared Error (RMSE): 74.06885571495935\n",
      "Root Mean Squared Logarithmic Error (RMSLE): 0.7051325243932355\n",
      "\n",
      "Training model for store 53 and family 11...\n"
     ]
    },
    {
     "name": "stderr",
     "output_type": "stream",
     "text": [
      "15:02:36 - cmdstanpy - INFO - Chain [1] done processing\n",
      "15:02:37 - cmdstanpy - INFO - Chain [1] start processing\n"
     ]
    },
    {
     "name": "stdout",
     "output_type": "stream",
     "text": [
      "There are 1 NaN values in the data.\n",
      "Root Mean Squared Error (RMSE): 225.2343216849852\n",
      "Root Mean Squared Logarithmic Error (RMSLE): 0.6428224678378253\n",
      "\n",
      "Training model for store 53 and family 12...\n"
     ]
    },
    {
     "name": "stderr",
     "output_type": "stream",
     "text": [
      "15:02:37 - cmdstanpy - INFO - Chain [1] done processing\n",
      "15:02:37 - cmdstanpy - INFO - Chain [1] start processing\n"
     ]
    },
    {
     "name": "stdout",
     "output_type": "stream",
     "text": [
      "There are 1 NaN values in the data.\n",
      "Root Mean Squared Error (RMSE): 2669.975370711266\n",
      "Root Mean Squared Logarithmic Error (RMSLE): 0.900395420158039\n",
      "\n",
      "Training model for store 53 and family 13...\n"
     ]
    },
    {
     "name": "stderr",
     "output_type": "stream",
     "text": [
      "15:02:37 - cmdstanpy - INFO - Chain [1] done processing\n",
      "15:02:37 - cmdstanpy - INFO - Chain [1] start processing\n"
     ]
    },
    {
     "name": "stdout",
     "output_type": "stream",
     "text": [
      "There are 1 NaN values in the data.\n",
      "Root Mean Squared Error (RMSE): 18.13342848023868\n",
      "Root Mean Squared Logarithmic Error (RMSLE): 0.5986308311222293\n",
      "\n",
      "Training model for store 53 and family 14...\n"
     ]
    },
    {
     "name": "stderr",
     "output_type": "stream",
     "text": [
      "15:02:37 - cmdstanpy - INFO - Chain [1] done processing\n",
      "15:02:38 - cmdstanpy - INFO - Chain [1] start processing\n"
     ]
    },
    {
     "name": "stdout",
     "output_type": "stream",
     "text": [
      "There are 1 NaN values in the data.\n",
      "Root Mean Squared Error (RMSE): 2.1676731304158454\n",
      "Root Mean Squared Logarithmic Error (RMSLE): 0.8250747753088985\n",
      "\n",
      "Training model for store 53 and family 15...\n"
     ]
    },
    {
     "name": "stderr",
     "output_type": "stream",
     "text": [
      "15:02:38 - cmdstanpy - INFO - Chain [1] done processing\n",
      "15:02:38 - cmdstanpy - INFO - Chain [1] start processing\n"
     ]
    },
    {
     "name": "stdout",
     "output_type": "stream",
     "text": [
      "There are 1 NaN values in the data.\n",
      "Root Mean Squared Error (RMSE): 23.705194750839556\n",
      "Root Mean Squared Logarithmic Error (RMSLE): 0.7585683335712622\n",
      "\n",
      "Training model for store 53 and family 16...\n"
     ]
    },
    {
     "name": "stderr",
     "output_type": "stream",
     "text": [
      "15:02:38 - cmdstanpy - INFO - Chain [1] done processing\n",
      "15:02:38 - cmdstanpy - INFO - Chain [1] start processing\n"
     ]
    },
    {
     "name": "stdout",
     "output_type": "stream",
     "text": [
      "There are 1 NaN values in the data.\n",
      "Root Mean Squared Error (RMSE): 18.99483992222431\n",
      "Root Mean Squared Logarithmic Error (RMSLE): 0.6892978425008741\n",
      "\n",
      "Training model for store 53 and family 17...\n"
     ]
    },
    {
     "name": "stderr",
     "output_type": "stream",
     "text": [
      "15:02:38 - cmdstanpy - INFO - Chain [1] done processing\n",
      "15:02:39 - cmdstanpy - INFO - Chain [1] start processing\n"
     ]
    },
    {
     "name": "stdout",
     "output_type": "stream",
     "text": [
      "There are 1 NaN values in the data.\n",
      "Root Mean Squared Error (RMSE): 0.44416651809281593\n",
      "Root Mean Squared Logarithmic Error (RMSLE): 0.27793038807733117\n",
      "\n",
      "Training model for store 53 and family 18...\n"
     ]
    },
    {
     "name": "stderr",
     "output_type": "stream",
     "text": [
      "15:02:39 - cmdstanpy - INFO - Chain [1] done processing\n",
      "15:02:39 - cmdstanpy - INFO - Chain [1] start processing\n"
     ]
    },
    {
     "name": "stdout",
     "output_type": "stream",
     "text": [
      "There are 1 NaN values in the data.\n",
      "Root Mean Squared Error (RMSE): 222.4707196655068\n",
      "Root Mean Squared Logarithmic Error (RMSLE): 0.8759884573786665\n",
      "\n",
      "Training model for store 53 and family 19...\n"
     ]
    },
    {
     "name": "stderr",
     "output_type": "stream",
     "text": [
      "15:02:39 - cmdstanpy - INFO - Chain [1] done processing\n",
      "15:02:39 - cmdstanpy - INFO - Chain [1] start processing\n"
     ]
    },
    {
     "name": "stdout",
     "output_type": "stream",
     "text": [
      "There are 1 NaN values in the data.\n",
      "Root Mean Squared Error (RMSE): 5.169721407396103\n",
      "Root Mean Squared Logarithmic Error (RMSLE): 1.017026203919021\n",
      "\n",
      "Training model for store 53 and family 20...\n"
     ]
    },
    {
     "name": "stderr",
     "output_type": "stream",
     "text": [
      "15:02:39 - cmdstanpy - INFO - Chain [1] done processing\n",
      "15:02:40 - cmdstanpy - INFO - Chain [1] start processing\n",
      "15:02:40 - cmdstanpy - INFO - Chain [1] done processing\n"
     ]
    },
    {
     "name": "stdout",
     "output_type": "stream",
     "text": [
      "There are 1 NaN values in the data.\n",
      "Root Mean Squared Error (RMSE): 23.295566975052537\n",
      "Root Mean Squared Logarithmic Error (RMSLE): 0.8988392982008961\n",
      "\n",
      "Training model for store 53 and family 21...\n"
     ]
    },
    {
     "name": "stderr",
     "output_type": "stream",
     "text": [
      "15:02:40 - cmdstanpy - INFO - Chain [1] start processing\n"
     ]
    },
    {
     "name": "stdout",
     "output_type": "stream",
     "text": [
      "There are 1 NaN values in the data.\n",
      "Root Mean Squared Error (RMSE): 17.74250681670584\n",
      "Root Mean Squared Logarithmic Error (RMSLE): 1.570032433425129\n",
      "\n",
      "Training model for store 53 and family 22...\n"
     ]
    },
    {
     "name": "stderr",
     "output_type": "stream",
     "text": [
      "15:02:40 - cmdstanpy - INFO - Chain [1] done processing\n",
      "15:02:40 - cmdstanpy - INFO - Chain [1] start processing\n"
     ]
    },
    {
     "name": "stdout",
     "output_type": "stream",
     "text": [
      "There are 1 NaN values in the data.\n",
      "Root Mean Squared Error (RMSE): 76.64547911902275\n",
      "Root Mean Squared Logarithmic Error (RMSLE): 0.901959240965176\n",
      "\n",
      "Training model for store 53 and family 23...\n"
     ]
    },
    {
     "name": "stderr",
     "output_type": "stream",
     "text": [
      "15:02:40 - cmdstanpy - INFO - Chain [1] done processing\n",
      "15:02:41 - cmdstanpy - INFO - Chain [1] start processing\n"
     ]
    },
    {
     "name": "stdout",
     "output_type": "stream",
     "text": [
      "There are 1 NaN values in the data.\n",
      "Root Mean Squared Error (RMSE): 4.996552741880518\n",
      "Root Mean Squared Logarithmic Error (RMSLE): 0.874490058606643\n",
      "\n",
      "Training model for store 53 and family 24...\n"
     ]
    },
    {
     "name": "stderr",
     "output_type": "stream",
     "text": [
      "15:02:41 - cmdstanpy - INFO - Chain [1] done processing\n",
      "15:02:41 - cmdstanpy - INFO - Chain [1] start processing\n"
     ]
    },
    {
     "name": "stdout",
     "output_type": "stream",
     "text": [
      "There are 1 NaN values in the data.\n",
      "Root Mean Squared Error (RMSE): 132.20679048452442\n",
      "Root Mean Squared Logarithmic Error (RMSLE): 0.6285554913084139\n",
      "\n",
      "Training model for store 53 and family 25...\n"
     ]
    },
    {
     "name": "stderr",
     "output_type": "stream",
     "text": [
      "15:02:41 - cmdstanpy - INFO - Chain [1] done processing\n",
      "15:02:41 - cmdstanpy - INFO - Chain [1] start processing\n"
     ]
    },
    {
     "name": "stdout",
     "output_type": "stream",
     "text": [
      "There are 1 NaN values in the data.\n",
      "Root Mean Squared Error (RMSE): 414.44327012940386\n",
      "Root Mean Squared Logarithmic Error (RMSLE): 1.1010626996554862\n",
      "\n",
      "Training model for store 53 and family 26...\n"
     ]
    },
    {
     "name": "stderr",
     "output_type": "stream",
     "text": [
      "15:02:41 - cmdstanpy - INFO - Chain [1] done processing\n",
      "15:02:42 - cmdstanpy - INFO - Chain [1] start processing\n"
     ]
    },
    {
     "name": "stdout",
     "output_type": "stream",
     "text": [
      "There are 1 NaN values in the data.\n",
      "Root Mean Squared Error (RMSE): 3.5144263153638704\n",
      "Root Mean Squared Logarithmic Error (RMSLE): 0.5366881393081334\n",
      "\n",
      "Training model for store 53 and family 27...\n"
     ]
    },
    {
     "name": "stderr",
     "output_type": "stream",
     "text": [
      "15:02:42 - cmdstanpy - INFO - Chain [1] done processing\n",
      "15:02:42 - cmdstanpy - INFO - Chain [1] start processing\n"
     ]
    },
    {
     "name": "stdout",
     "output_type": "stream",
     "text": [
      "There are 1 NaN values in the data.\n",
      "Root Mean Squared Error (RMSE): 7.031247921051621\n",
      "Root Mean Squared Logarithmic Error (RMSLE): 0.8694728638173576\n",
      "\n",
      "Training model for store 53 and family 28...\n"
     ]
    },
    {
     "name": "stderr",
     "output_type": "stream",
     "text": [
      "15:02:42 - cmdstanpy - INFO - Chain [1] done processing\n",
      "15:02:42 - cmdstanpy - INFO - Chain [1] start processing\n"
     ]
    },
    {
     "name": "stdout",
     "output_type": "stream",
     "text": [
      "There are 1 NaN values in the data.\n",
      "Root Mean Squared Error (RMSE): 123.47472088978225\n",
      "Root Mean Squared Logarithmic Error (RMSLE): 0.6224665251265379\n",
      "\n",
      "Training model for store 53 and family 29...\n"
     ]
    },
    {
     "name": "stderr",
     "output_type": "stream",
     "text": [
      "15:02:42 - cmdstanpy - INFO - Chain [1] done processing\n",
      "15:02:43 - cmdstanpy - INFO - Chain [1] start processing\n"
     ]
    },
    {
     "name": "stdout",
     "output_type": "stream",
     "text": [
      "There are 1 NaN values in the data.\n",
      "Root Mean Squared Error (RMSE): 75.69953888835283\n",
      "Root Mean Squared Logarithmic Error (RMSLE): 0.8590771897277955\n",
      "\n",
      "Training model for store 53 and family 30...\n"
     ]
    },
    {
     "name": "stderr",
     "output_type": "stream",
     "text": [
      "15:02:43 - cmdstanpy - INFO - Chain [1] done processing\n",
      "15:02:43 - cmdstanpy - INFO - Chain [1] start processing\n"
     ]
    },
    {
     "name": "stdout",
     "output_type": "stream",
     "text": [
      "There are 1 NaN values in the data.\n",
      "Root Mean Squared Error (RMSE): 1512.9361376929983\n",
      "Root Mean Squared Logarithmic Error (RMSLE): 0.8539677504100072\n",
      "\n",
      "Training model for store 53 and family 31...\n"
     ]
    },
    {
     "name": "stderr",
     "output_type": "stream",
     "text": [
      "15:02:43 - cmdstanpy - INFO - Chain [1] done processing\n",
      "15:02:43 - cmdstanpy - INFO - Chain [1] start processing\n"
     ]
    },
    {
     "name": "stdout",
     "output_type": "stream",
     "text": [
      "There are 1 NaN values in the data.\n",
      "Root Mean Squared Error (RMSE): 9.64406556369005\n",
      "Root Mean Squared Logarithmic Error (RMSLE): 1.0676818241315618\n",
      "\n",
      "Training model for store 53 and family 32...\n"
     ]
    },
    {
     "name": "stderr",
     "output_type": "stream",
     "text": [
      "15:02:43 - cmdstanpy - INFO - Chain [1] done processing\n",
      "15:02:44 - cmdstanpy - INFO - Chain [1] start processing\n"
     ]
    },
    {
     "name": "stdout",
     "output_type": "stream",
     "text": [
      "There are 1 NaN values in the data.\n",
      "Root Mean Squared Error (RMSE): 5.464465163429939\n",
      "Root Mean Squared Logarithmic Error (RMSLE): 0.8514646345108765\n",
      "\n",
      "Training model for store 54 and family 0...\n"
     ]
    },
    {
     "name": "stderr",
     "output_type": "stream",
     "text": [
      "15:02:44 - cmdstanpy - INFO - Chain [1] done processing\n",
      "15:02:44 - cmdstanpy - INFO - Chain [1] start processing\n"
     ]
    },
    {
     "name": "stdout",
     "output_type": "stream",
     "text": [
      "There are 1 NaN values in the data.\n",
      "Root Mean Squared Error (RMSE): 3.887624795593964\n",
      "Root Mean Squared Logarithmic Error (RMSLE): 0.590588866027829\n",
      "\n",
      "Training model for store 54 and family 1...\n"
     ]
    },
    {
     "name": "stderr",
     "output_type": "stream",
     "text": [
      "15:02:44 - cmdstanpy - INFO - Chain [1] done processing\n",
      "15:02:44 - cmdstanpy - INFO - Chain [1] start processing\n"
     ]
    },
    {
     "name": "stdout",
     "output_type": "stream",
     "text": [
      "There are 1 NaN values in the data.\n",
      "Root Mean Squared Error (RMSE): 0.7053280552204975\n",
      "Root Mean Squared Logarithmic Error (RMSLE): 0.47639016298249753\n",
      "\n",
      "Training model for store 54 and family 2...\n"
     ]
    },
    {
     "name": "stderr",
     "output_type": "stream",
     "text": [
      "15:02:44 - cmdstanpy - INFO - Chain [1] done processing\n",
      "15:02:44 - cmdstanpy - INFO - Chain [1] start processing\n"
     ]
    },
    {
     "name": "stdout",
     "output_type": "stream",
     "text": [
      "There are 1 NaN values in the data.\n",
      "Root Mean Squared Error (RMSE): 1.3283916146028525\n",
      "Root Mean Squared Logarithmic Error (RMSLE): 0.5834443783005755\n",
      "\n",
      "Training model for store 54 and family 3...\n"
     ]
    },
    {
     "name": "stderr",
     "output_type": "stream",
     "text": [
      "15:02:45 - cmdstanpy - INFO - Chain [1] done processing\n"
     ]
    },
    {
     "name": "stdout",
     "output_type": "stream",
     "text": [
      "There are 1 NaN values in the data.\n",
      "Root Mean Squared Error (RMSE): 1615.9707978073943\n",
      "Root Mean Squared Logarithmic Error (RMSLE): 0.7206211782174179\n",
      "\n",
      "Training model for store 54 and family 4...\n",
      "There are 1 NaN values in the data.\n",
      "Root Mean Squared Error (RMSE): 0.0\n",
      "Root Mean Squared Logarithmic Error (RMSLE): 0.0\n"
     ]
    },
    {
     "name": "stderr",
     "output_type": "stream",
     "text": [
      "15:02:45 - cmdstanpy - INFO - Chain [1] start processing\n",
      "15:02:45 - cmdstanpy - INFO - Chain [1] done processing\n"
     ]
    },
    {
     "name": "stdout",
     "output_type": "stream",
     "text": [
      "\n",
      "Training model for store 54 and family 5...\n",
      "There are 1 NaN values in the data.\n",
      "Root Mean Squared Error (RMSE): 50.2796596218889\n",
      "Root Mean Squared Logarithmic Error (RMSLE): 0.4868289685870804\n",
      "\n",
      "Training model for store 54 and family 6...\n"
     ]
    },
    {
     "name": "stderr",
     "output_type": "stream",
     "text": [
      "15:02:45 - cmdstanpy - INFO - Chain [1] start processing\n",
      "15:02:45 - cmdstanpy - INFO - Chain [1] done processing\n",
      "15:02:46 - cmdstanpy - INFO - Chain [1] start processing\n"
     ]
    },
    {
     "name": "stdout",
     "output_type": "stream",
     "text": [
      "There are 1 NaN values in the data.\n",
      "Root Mean Squared Error (RMSE): 4.333600703343768\n",
      "Root Mean Squared Logarithmic Error (RMSLE): 0.9036084602442032\n",
      "\n",
      "Training model for store 54 and family 7...\n"
     ]
    },
    {
     "name": "stderr",
     "output_type": "stream",
     "text": [
      "15:02:46 - cmdstanpy - INFO - Chain [1] done processing\n",
      "15:02:46 - cmdstanpy - INFO - Chain [1] start processing\n"
     ]
    },
    {
     "name": "stdout",
     "output_type": "stream",
     "text": [
      "There are 1 NaN values in the data.\n",
      "Root Mean Squared Error (RMSE): 434.74345518076774\n",
      "Root Mean Squared Logarithmic Error (RMSLE): 0.6394092745601041\n",
      "\n",
      "Training model for store 54 and family 8...\n"
     ]
    },
    {
     "name": "stderr",
     "output_type": "stream",
     "text": [
      "15:02:46 - cmdstanpy - INFO - Chain [1] done processing\n",
      "15:02:46 - cmdstanpy - INFO - Chain [1] start processing\n"
     ]
    },
    {
     "name": "stdout",
     "output_type": "stream",
     "text": [
      "There are 1 NaN values in the data.\n",
      "Root Mean Squared Error (RMSE): 128.84432469999024\n",
      "Root Mean Squared Logarithmic Error (RMSLE): 0.6331466390138207\n",
      "\n",
      "Training model for store 54 and family 9...\n"
     ]
    },
    {
     "name": "stderr",
     "output_type": "stream",
     "text": [
      "15:02:46 - cmdstanpy - INFO - Chain [1] done processing\n",
      "15:02:47 - cmdstanpy - INFO - Chain [1] start processing\n"
     ]
    },
    {
     "name": "stdout",
     "output_type": "stream",
     "text": [
      "There are 1 NaN values in the data.\n",
      "Root Mean Squared Error (RMSE): 58.10257316702733\n",
      "Root Mean Squared Logarithmic Error (RMSLE): 0.49044840827100017\n",
      "\n",
      "Training model for store 54 and family 10...\n"
     ]
    },
    {
     "name": "stderr",
     "output_type": "stream",
     "text": [
      "15:02:47 - cmdstanpy - INFO - Chain [1] done processing\n",
      "15:02:47 - cmdstanpy - INFO - Chain [1] start processing\n"
     ]
    },
    {
     "name": "stdout",
     "output_type": "stream",
     "text": [
      "There are 1 NaN values in the data.\n",
      "Root Mean Squared Error (RMSE): 44.16201071399764\n",
      "Root Mean Squared Logarithmic Error (RMSLE): 0.6253956355576318\n",
      "\n",
      "Training model for store 54 and family 11...\n"
     ]
    },
    {
     "name": "stderr",
     "output_type": "stream",
     "text": [
      "15:02:47 - cmdstanpy - INFO - Chain [1] done processing\n",
      "15:02:47 - cmdstanpy - INFO - Chain [1] start processing\n"
     ]
    },
    {
     "name": "stdout",
     "output_type": "stream",
     "text": [
      "There are 1 NaN values in the data.\n",
      "Root Mean Squared Error (RMSE): 50.925887094507466\n",
      "Root Mean Squared Logarithmic Error (RMSLE): 0.6172516372070399\n",
      "\n",
      "Training model for store 54 and family 12...\n"
     ]
    },
    {
     "name": "stderr",
     "output_type": "stream",
     "text": [
      "15:02:47 - cmdstanpy - INFO - Chain [1] done processing\n",
      "15:02:48 - cmdstanpy - INFO - Chain [1] start processing\n"
     ]
    },
    {
     "name": "stdout",
     "output_type": "stream",
     "text": [
      "There are 1 NaN values in the data.\n",
      "Root Mean Squared Error (RMSE): 989.5325384757668\n",
      "Root Mean Squared Logarithmic Error (RMSLE): 0.6952991843782848\n",
      "\n",
      "Training model for store 54 and family 13...\n"
     ]
    },
    {
     "name": "stderr",
     "output_type": "stream",
     "text": [
      "15:02:48 - cmdstanpy - INFO - Chain [1] done processing\n",
      "15:02:48 - cmdstanpy - INFO - Chain [1] start processing\n"
     ]
    },
    {
     "name": "stdout",
     "output_type": "stream",
     "text": [
      "There are 1 NaN values in the data.\n",
      "Root Mean Squared Error (RMSE): 6.4808744560929314\n",
      "Root Mean Squared Logarithmic Error (RMSLE): 0.7642622467493557\n",
      "\n",
      "Training model for store 54 and family 14...\n"
     ]
    },
    {
     "name": "stderr",
     "output_type": "stream",
     "text": [
      "15:02:48 - cmdstanpy - INFO - Chain [1] done processing\n",
      "15:02:48 - cmdstanpy - INFO - Chain [1] start processing\n"
     ]
    },
    {
     "name": "stdout",
     "output_type": "stream",
     "text": [
      "There are 1 NaN values in the data.\n",
      "Root Mean Squared Error (RMSE): 1.0594993323666528\n",
      "Root Mean Squared Logarithmic Error (RMSLE): 0.5527068727716621\n",
      "\n",
      "Training model for store 54 and family 15...\n"
     ]
    },
    {
     "name": "stderr",
     "output_type": "stream",
     "text": [
      "15:02:48 - cmdstanpy - INFO - Chain [1] done processing\n",
      "15:02:49 - cmdstanpy - INFO - Chain [1] start processing\n"
     ]
    },
    {
     "name": "stdout",
     "output_type": "stream",
     "text": [
      "There are 1 NaN values in the data.\n",
      "Root Mean Squared Error (RMSE): 15.006543153861273\n",
      "Root Mean Squared Logarithmic Error (RMSLE): 0.5699183813927322\n",
      "\n",
      "Training model for store 54 and family 16...\n"
     ]
    },
    {
     "name": "stderr",
     "output_type": "stream",
     "text": [
      "15:02:49 - cmdstanpy - INFO - Chain [1] done processing\n",
      "15:02:49 - cmdstanpy - INFO - Chain [1] start processing\n"
     ]
    },
    {
     "name": "stdout",
     "output_type": "stream",
     "text": [
      "There are 1 NaN values in the data.\n",
      "Root Mean Squared Error (RMSE): 6.626414986756133\n",
      "Root Mean Squared Logarithmic Error (RMSLE): 0.5700293946220105\n",
      "\n",
      "Training model for store 54 and family 17...\n"
     ]
    },
    {
     "name": "stderr",
     "output_type": "stream",
     "text": [
      "15:02:49 - cmdstanpy - INFO - Chain [1] done processing\n",
      "15:02:49 - cmdstanpy - INFO - Chain [1] start processing\n"
     ]
    },
    {
     "name": "stdout",
     "output_type": "stream",
     "text": [
      "There are 1 NaN values in the data.\n",
      "Root Mean Squared Error (RMSE): 0.4590342143067968\n",
      "Root Mean Squared Logarithmic Error (RMSLE): 0.28584231401465027\n",
      "\n",
      "Training model for store 54 and family 18...\n"
     ]
    },
    {
     "name": "stderr",
     "output_type": "stream",
     "text": [
      "15:02:49 - cmdstanpy - INFO - Chain [1] done processing\n"
     ]
    },
    {
     "name": "stdout",
     "output_type": "stream",
     "text": [
      "There are 1 NaN values in the data.\n",
      "Root Mean Squared Error (RMSE): 96.25217429894735\n",
      "Root Mean Squared Logarithmic Error (RMSLE): 0.6157967686334925\n",
      "\n",
      "Training model for store 54 and family 19...\n",
      "There are 1 NaN values in the data.\n",
      "Root Mean Squared Error (RMSE): 0.0\n",
      "Root Mean Squared Logarithmic Error (RMSLE): 0.0\n"
     ]
    },
    {
     "name": "stderr",
     "output_type": "stream",
     "text": [
      "15:02:50 - cmdstanpy - INFO - Chain [1] start processing\n"
     ]
    },
    {
     "name": "stdout",
     "output_type": "stream",
     "text": [
      "\n",
      "Training model for store 54 and family 20...\n",
      "There are 1 NaN values in the data.\n",
      "Root Mean Squared Error (RMSE): 0.0\n",
      "Root Mean Squared Logarithmic Error (RMSLE): 0.0\n",
      "\n",
      "Training model for store 54 and family 21...\n"
     ]
    },
    {
     "name": "stderr",
     "output_type": "stream",
     "text": [
      "15:02:50 - cmdstanpy - INFO - Chain [1] done processing\n",
      "15:02:50 - cmdstanpy - INFO - Chain [1] start processing\n"
     ]
    },
    {
     "name": "stdout",
     "output_type": "stream",
     "text": [
      "There are 1 NaN values in the data.\n",
      "Root Mean Squared Error (RMSE): 4.039060617796298\n",
      "Root Mean Squared Logarithmic Error (RMSLE): 0.9366542759612049\n",
      "\n",
      "Training model for store 54 and family 22...\n"
     ]
    },
    {
     "name": "stderr",
     "output_type": "stream",
     "text": [
      "15:02:50 - cmdstanpy - INFO - Chain [1] done processing\n",
      "15:02:50 - cmdstanpy - INFO - Chain [1] start processing\n",
      "15:02:51 - cmdstanpy - INFO - Chain [1] done processing\n"
     ]
    },
    {
     "name": "stdout",
     "output_type": "stream",
     "text": [
      "There are 1 NaN values in the data.\n",
      "Root Mean Squared Error (RMSE): 27.866532864653813\n",
      "Root Mean Squared Logarithmic Error (RMSLE): 1.2111270823761437\n",
      "\n",
      "Training model for store 54 and family 23...\n"
     ]
    },
    {
     "name": "stderr",
     "output_type": "stream",
     "text": [
      "15:02:51 - cmdstanpy - INFO - Chain [1] start processing\n"
     ]
    },
    {
     "name": "stdout",
     "output_type": "stream",
     "text": [
      "There are 1 NaN values in the data.\n",
      "Root Mean Squared Error (RMSE): 1.3394544822900474\n",
      "Root Mean Squared Logarithmic Error (RMSLE): 0.6763882348663453\n",
      "\n",
      "Training model for store 54 and family 24...\n"
     ]
    },
    {
     "name": "stderr",
     "output_type": "stream",
     "text": [
      "15:02:51 - cmdstanpy - INFO - Chain [1] done processing\n",
      "15:02:51 - cmdstanpy - INFO - Chain [1] start processing\n"
     ]
    },
    {
     "name": "stdout",
     "output_type": "stream",
     "text": [
      "There are 1 NaN values in the data.\n",
      "Root Mean Squared Error (RMSE): 16.084300158235713\n",
      "Root Mean Squared Logarithmic Error (RMSLE): 0.42467381421773676\n",
      "\n",
      "Training model for store 54 and family 25...\n"
     ]
    },
    {
     "name": "stderr",
     "output_type": "stream",
     "text": [
      "15:02:51 - cmdstanpy - INFO - Chain [1] done processing\n",
      "15:02:51 - cmdstanpy - INFO - Chain [1] start processing\n"
     ]
    },
    {
     "name": "stdout",
     "output_type": "stream",
     "text": [
      "There are 1 NaN values in the data.\n",
      "Root Mean Squared Error (RMSE): 56.833019159118074\n",
      "Root Mean Squared Logarithmic Error (RMSLE): 0.511008221652319\n",
      "\n",
      "Training model for store 54 and family 26...\n"
     ]
    },
    {
     "name": "stderr",
     "output_type": "stream",
     "text": [
      "15:02:52 - cmdstanpy - INFO - Chain [1] done processing\n",
      "15:02:52 - cmdstanpy - INFO - Chain [1] start processing\n"
     ]
    },
    {
     "name": "stdout",
     "output_type": "stream",
     "text": [
      "There are 1 NaN values in the data.\n",
      "Root Mean Squared Error (RMSE): 0.5663598131538679\n",
      "Root Mean Squared Logarithmic Error (RMSLE): 0.34598230113500167\n",
      "\n",
      "Training model for store 54 and family 27...\n"
     ]
    },
    {
     "name": "stderr",
     "output_type": "stream",
     "text": [
      "15:02:52 - cmdstanpy - INFO - Chain [1] done processing\n",
      "15:02:52 - cmdstanpy - INFO - Chain [1] start processing\n"
     ]
    },
    {
     "name": "stdout",
     "output_type": "stream",
     "text": [
      "There are 1 NaN values in the data.\n",
      "Root Mean Squared Error (RMSE): 3.2242929985935955\n",
      "Root Mean Squared Logarithmic Error (RMSLE): 0.6777595821422325\n",
      "\n",
      "Training model for store 54 and family 28...\n"
     ]
    },
    {
     "name": "stderr",
     "output_type": "stream",
     "text": [
      "15:02:52 - cmdstanpy - INFO - Chain [1] done processing\n",
      "15:02:52 - cmdstanpy - INFO - Chain [1] start processing\n"
     ]
    },
    {
     "name": "stdout",
     "output_type": "stream",
     "text": [
      "There are 1 NaN values in the data.\n",
      "Root Mean Squared Error (RMSE): 24.031622401075865\n",
      "Root Mean Squared Logarithmic Error (RMSLE): 0.502965571530374\n",
      "\n",
      "Training model for store 54 and family 29...\n"
     ]
    },
    {
     "name": "stderr",
     "output_type": "stream",
     "text": [
      "15:02:52 - cmdstanpy - INFO - Chain [1] done processing\n",
      "15:02:53 - cmdstanpy - INFO - Chain [1] start processing\n"
     ]
    },
    {
     "name": "stdout",
     "output_type": "stream",
     "text": [
      "There are 1 NaN values in the data.\n",
      "Root Mean Squared Error (RMSE): 21.496150926964045\n",
      "Root Mean Squared Logarithmic Error (RMSLE): 0.4472291353589487\n",
      "\n",
      "Training model for store 54 and family 30...\n"
     ]
    },
    {
     "name": "stderr",
     "output_type": "stream",
     "text": [
      "15:02:53 - cmdstanpy - INFO - Chain [1] done processing\n",
      "15:02:53 - cmdstanpy - INFO - Chain [1] start processing\n"
     ]
    },
    {
     "name": "stdout",
     "output_type": "stream",
     "text": [
      "There are 1 NaN values in the data.\n",
      "Root Mean Squared Error (RMSE): 296.97581874155856\n",
      "Root Mean Squared Logarithmic Error (RMSLE): 0.6704849400385479\n",
      "\n",
      "Training model for store 54 and family 31...\n"
     ]
    },
    {
     "name": "stderr",
     "output_type": "stream",
     "text": [
      "15:02:53 - cmdstanpy - INFO - Chain [1] done processing\n"
     ]
    },
    {
     "name": "stdout",
     "output_type": "stream",
     "text": [
      "There are 1 NaN values in the data.\n",
      "Root Mean Squared Error (RMSE): 5.335538742132659\n",
      "Root Mean Squared Logarithmic Error (RMSLE): 1.205414928484564\n",
      "\n",
      "Training model for store 54 and family 32...\n"
     ]
    },
    {
     "name": "stderr",
     "output_type": "stream",
     "text": [
      "15:02:53 - cmdstanpy - INFO - Chain [1] start processing\n",
      "15:02:54 - cmdstanpy - INFO - Chain [1] done processing\n"
     ]
    },
    {
     "name": "stdout",
     "output_type": "stream",
     "text": [
      "There are 1 NaN values in the data.\n",
      "Root Mean Squared Error (RMSE): 2.5152902336282756\n",
      "Root Mean Squared Logarithmic Error (RMSLE): 0.7522972553964636\n",
      "\n",
      "Training model for store 6 and family 0...\n"
     ]
    },
    {
     "name": "stderr",
     "output_type": "stream",
     "text": [
      "15:02:54 - cmdstanpy - INFO - Chain [1] start processing\n",
      "15:02:54 - cmdstanpy - INFO - Chain [1] done processing\n"
     ]
    },
    {
     "name": "stdout",
     "output_type": "stream",
     "text": [
      "There are 1 NaN values in the data.\n",
      "Root Mean Squared Error (RMSE): 3.3307220205510437\n",
      "Root Mean Squared Logarithmic Error (RMSLE): 0.6038034043019643\n",
      "\n",
      "Training model for store 6 and family 1...\n"
     ]
    },
    {
     "name": "stderr",
     "output_type": "stream",
     "text": [
      "15:02:54 - cmdstanpy - INFO - Chain [1] start processing\n",
      "15:02:54 - cmdstanpy - INFO - Chain [1] done processing\n"
     ]
    },
    {
     "name": "stdout",
     "output_type": "stream",
     "text": [
      "There are 1 NaN values in the data.\n",
      "Root Mean Squared Error (RMSE): 0.2878197989826109\n",
      "Root Mean Squared Logarithmic Error (RMSLE): 0.14314721568654856\n",
      "\n",
      "Training model for store 6 and family 2...\n"
     ]
    },
    {
     "name": "stderr",
     "output_type": "stream",
     "text": [
      "15:02:55 - cmdstanpy - INFO - Chain [1] start processing\n"
     ]
    },
    {
     "name": "stdout",
     "output_type": "stream",
     "text": [
      "There are 1 NaN values in the data.\n",
      "Root Mean Squared Error (RMSE): 3.843403092727695\n",
      "Root Mean Squared Logarithmic Error (RMSLE): 0.5263797569032254\n",
      "\n",
      "Training model for store 6 and family 3...\n"
     ]
    },
    {
     "name": "stderr",
     "output_type": "stream",
     "text": [
      "15:02:55 - cmdstanpy - INFO - Chain [1] done processing\n"
     ]
    },
    {
     "name": "stdout",
     "output_type": "stream",
     "text": [
      "There are 1 NaN values in the data.\n",
      "Root Mean Squared Error (RMSE): 1005.0124842390328\n",
      "Root Mean Squared Logarithmic Error (RMSLE): 0.6962073839276696\n",
      "\n",
      "Training model for store 6 and family 4...\n"
     ]
    },
    {
     "name": "stderr",
     "output_type": "stream",
     "text": [
      "15:02:55 - cmdstanpy - INFO - Chain [1] start processing\n",
      "15:02:55 - cmdstanpy - INFO - Chain [1] done processing\n"
     ]
    },
    {
     "name": "stdout",
     "output_type": "stream",
     "text": [
      "There are 1 NaN values in the data.\n",
      "Root Mean Squared Error (RMSE): 0.9230769230769231\n",
      "Root Mean Squared Logarithmic Error (RMSLE): 0.3727325050939456\n",
      "\n",
      "Training model for store 6 and family 5...\n"
     ]
    },
    {
     "name": "stderr",
     "output_type": "stream",
     "text": [
      "15:02:56 - cmdstanpy - INFO - Chain [1] start processing\n"
     ]
    },
    {
     "name": "stdout",
     "output_type": "stream",
     "text": [
      "There are 1 NaN values in the data.\n",
      "Root Mean Squared Error (RMSE): 110.35226735579133\n",
      "Root Mean Squared Logarithmic Error (RMSLE): 0.5342556989978773\n",
      "\n",
      "Training model for store 6 and family 6...\n"
     ]
    },
    {
     "name": "stderr",
     "output_type": "stream",
     "text": [
      "15:02:56 - cmdstanpy - INFO - Chain [1] done processing\n",
      "15:02:56 - cmdstanpy - INFO - Chain [1] start processing\n"
     ]
    },
    {
     "name": "stdout",
     "output_type": "stream",
     "text": [
      "There are 1 NaN values in the data.\n",
      "Root Mean Squared Error (RMSE): 8.593647711572974\n",
      "Root Mean Squared Logarithmic Error (RMSLE): 0.6708103649974264\n",
      "\n",
      "Training model for store 6 and family 7...\n"
     ]
    },
    {
     "name": "stderr",
     "output_type": "stream",
     "text": [
      "15:02:56 - cmdstanpy - INFO - Chain [1] done processing\n",
      "15:02:56 - cmdstanpy - INFO - Chain [1] start processing\n"
     ]
    },
    {
     "name": "stdout",
     "output_type": "stream",
     "text": [
      "There are 1 NaN values in the data.\n",
      "Root Mean Squared Error (RMSE): 304.07426332029985\n",
      "Root Mean Squared Logarithmic Error (RMSLE): 0.6142561989717924\n",
      "\n",
      "Training model for store 6 and family 8...\n"
     ]
    },
    {
     "name": "stderr",
     "output_type": "stream",
     "text": [
      "15:02:56 - cmdstanpy - INFO - Chain [1] done processing\n",
      "15:02:57 - cmdstanpy - INFO - Chain [1] start processing\n",
      "15:02:57 - cmdstanpy - INFO - Chain [1] done processing\n"
     ]
    },
    {
     "name": "stdout",
     "output_type": "stream",
     "text": [
      "There are 1 NaN values in the data.\n",
      "Root Mean Squared Error (RMSE): 216.48022661037373\n",
      "Root Mean Squared Logarithmic Error (RMSLE): 0.5858699890905202\n",
      "\n",
      "Training model for store 6 and family 9...\n"
     ]
    },
    {
     "name": "stderr",
     "output_type": "stream",
     "text": [
      "15:02:57 - cmdstanpy - INFO - Chain [1] start processing\n"
     ]
    },
    {
     "name": "stdout",
     "output_type": "stream",
     "text": [
      "There are 1 NaN values in the data.\n",
      "Root Mean Squared Error (RMSE): 101.55614153019671\n",
      "Root Mean Squared Logarithmic Error (RMSLE): 0.5535647044058274\n",
      "\n",
      "Training model for store 6 and family 10...\n"
     ]
    },
    {
     "name": "stderr",
     "output_type": "stream",
     "text": [
      "15:02:57 - cmdstanpy - INFO - Chain [1] done processing\n",
      "15:02:57 - cmdstanpy - INFO - Chain [1] start processing\n"
     ]
    },
    {
     "name": "stdout",
     "output_type": "stream",
     "text": [
      "There are 1 NaN values in the data.\n",
      "Root Mean Squared Error (RMSE): 42.05618340041009\n",
      "Root Mean Squared Logarithmic Error (RMSLE): 0.4838751069657272\n",
      "\n",
      "Training model for store 6 and family 11...\n"
     ]
    },
    {
     "name": "stderr",
     "output_type": "stream",
     "text": [
      "15:02:57 - cmdstanpy - INFO - Chain [1] done processing\n",
      "15:02:57 - cmdstanpy - INFO - Chain [1] start processing\n"
     ]
    },
    {
     "name": "stdout",
     "output_type": "stream",
     "text": [
      "There are 1 NaN values in the data.\n",
      "Root Mean Squared Error (RMSE): 185.24167189617697\n",
      "Root Mean Squared Logarithmic Error (RMSLE): 1.1540453415033292\n",
      "\n",
      "Training model for store 6 and family 12...\n"
     ]
    },
    {
     "name": "stderr",
     "output_type": "stream",
     "text": [
      "15:02:58 - cmdstanpy - INFO - Chain [1] done processing\n",
      "15:02:58 - cmdstanpy - INFO - Chain [1] start processing\n"
     ]
    },
    {
     "name": "stdout",
     "output_type": "stream",
     "text": [
      "There are 1 NaN values in the data.\n",
      "Root Mean Squared Error (RMSE): 1056.0505313055453\n",
      "Root Mean Squared Logarithmic Error (RMSLE): 0.708612109825286\n",
      "\n",
      "Training model for store 6 and family 13...\n"
     ]
    },
    {
     "name": "stderr",
     "output_type": "stream",
     "text": [
      "15:02:58 - cmdstanpy - INFO - Chain [1] done processing\n",
      "15:02:58 - cmdstanpy - INFO - Chain [1] start processing\n"
     ]
    },
    {
     "name": "stdout",
     "output_type": "stream",
     "text": [
      "There are 1 NaN values in the data.\n",
      "Root Mean Squared Error (RMSE): 20.86546903125483\n",
      "Root Mean Squared Logarithmic Error (RMSLE): 0.6316102120743102\n",
      "\n",
      "Training model for store 6 and family 14...\n"
     ]
    },
    {
     "name": "stderr",
     "output_type": "stream",
     "text": [
      "15:02:58 - cmdstanpy - INFO - Chain [1] done processing\n",
      "15:02:58 - cmdstanpy - INFO - Chain [1] start processing\n"
     ]
    },
    {
     "name": "stdout",
     "output_type": "stream",
     "text": [
      "There are 1 NaN values in the data.\n",
      "Root Mean Squared Error (RMSE): 1.2706819152302857\n",
      "Root Mean Squared Logarithmic Error (RMSLE): 0.6112470152743822\n",
      "\n",
      "Training model for store 6 and family 15...\n"
     ]
    },
    {
     "name": "stderr",
     "output_type": "stream",
     "text": [
      "15:02:58 - cmdstanpy - INFO - Chain [1] done processing\n",
      "15:02:59 - cmdstanpy - INFO - Chain [1] start processing\n"
     ]
    },
    {
     "name": "stdout",
     "output_type": "stream",
     "text": [
      "There are 1 NaN values in the data.\n",
      "Root Mean Squared Error (RMSE): 17.373279468536733\n",
      "Root Mean Squared Logarithmic Error (RMSLE): 0.5670556161656364\n",
      "\n",
      "Training model for store 6 and family 16...\n"
     ]
    },
    {
     "name": "stderr",
     "output_type": "stream",
     "text": [
      "15:02:59 - cmdstanpy - INFO - Chain [1] done processing\n",
      "15:02:59 - cmdstanpy - INFO - Chain [1] start processing\n"
     ]
    },
    {
     "name": "stdout",
     "output_type": "stream",
     "text": [
      "There are 1 NaN values in the data.\n",
      "Root Mean Squared Error (RMSE): 73.82812536070263\n",
      "Root Mean Squared Logarithmic Error (RMSLE): 1.1577531110514632\n",
      "\n",
      "Training model for store 6 and family 17...\n"
     ]
    },
    {
     "name": "stderr",
     "output_type": "stream",
     "text": [
      "15:02:59 - cmdstanpy - INFO - Chain [1] done processing\n",
      "15:02:59 - cmdstanpy - INFO - Chain [1] start processing\n"
     ]
    },
    {
     "name": "stdout",
     "output_type": "stream",
     "text": [
      "There are 1 NaN values in the data.\n",
      "Root Mean Squared Error (RMSE): 0.30583462765544456\n",
      "Root Mean Squared Logarithmic Error (RMSLE): 0.19588888870954285\n",
      "\n",
      "Training model for store 6 and family 18...\n"
     ]
    },
    {
     "name": "stderr",
     "output_type": "stream",
     "text": [
      "15:02:59 - cmdstanpy - INFO - Chain [1] done processing\n",
      "15:03:00 - cmdstanpy - INFO - Chain [1] start processing\n"
     ]
    },
    {
     "name": "stdout",
     "output_type": "stream",
     "text": [
      "There are 1 NaN values in the data.\n",
      "Root Mean Squared Error (RMSE): 107.11815849711728\n",
      "Root Mean Squared Logarithmic Error (RMSLE): 0.5634665415266292\n",
      "\n",
      "Training model for store 6 and family 19...\n"
     ]
    },
    {
     "name": "stderr",
     "output_type": "stream",
     "text": [
      "15:03:00 - cmdstanpy - INFO - Chain [1] done processing\n",
      "15:03:00 - cmdstanpy - INFO - Chain [1] start processing\n"
     ]
    },
    {
     "name": "stdout",
     "output_type": "stream",
     "text": [
      "There are 1 NaN values in the data.\n",
      "Root Mean Squared Error (RMSE): 17.68870491107579\n",
      "Root Mean Squared Logarithmic Error (RMSLE): 0.6696846833808006\n",
      "\n",
      "Training model for store 6 and family 20...\n"
     ]
    },
    {
     "name": "stderr",
     "output_type": "stream",
     "text": [
      "15:03:00 - cmdstanpy - INFO - Chain [1] done processing\n",
      "15:03:00 - cmdstanpy - INFO - Chain [1] start processing\n"
     ]
    },
    {
     "name": "stdout",
     "output_type": "stream",
     "text": [
      "There are 1 NaN values in the data.\n",
      "Root Mean Squared Error (RMSE): 14.529260114259227\n",
      "Root Mean Squared Logarithmic Error (RMSLE): 0.7562205630316309\n",
      "\n",
      "Training model for store 6 and family 21...\n"
     ]
    },
    {
     "name": "stderr",
     "output_type": "stream",
     "text": [
      "15:03:00 - cmdstanpy - INFO - Chain [1] done processing\n",
      "15:03:01 - cmdstanpy - INFO - Chain [1] start processing\n"
     ]
    },
    {
     "name": "stdout",
     "output_type": "stream",
     "text": [
      "There are 1 NaN values in the data.\n",
      "Root Mean Squared Error (RMSE): 8.698541134192961\n",
      "Root Mean Squared Logarithmic Error (RMSLE): 1.3730029381478854\n",
      "\n",
      "Training model for store 6 and family 22...\n"
     ]
    },
    {
     "name": "stderr",
     "output_type": "stream",
     "text": [
      "15:03:01 - cmdstanpy - INFO - Chain [1] done processing\n",
      "15:03:01 - cmdstanpy - INFO - Chain [1] start processing\n"
     ]
    },
    {
     "name": "stdout",
     "output_type": "stream",
     "text": [
      "There are 1 NaN values in the data.\n",
      "Root Mean Squared Error (RMSE): 54.6878885278062\n",
      "Root Mean Squared Logarithmic Error (RMSLE): 1.1292736546322124\n",
      "\n",
      "Training model for store 6 and family 23...\n"
     ]
    },
    {
     "name": "stderr",
     "output_type": "stream",
     "text": [
      "15:03:01 - cmdstanpy - INFO - Chain [1] done processing\n",
      "15:03:01 - cmdstanpy - INFO - Chain [1] start processing\n"
     ]
    },
    {
     "name": "stdout",
     "output_type": "stream",
     "text": [
      "There are 1 NaN values in the data.\n",
      "Root Mean Squared Error (RMSE): 5.203763502352512\n",
      "Root Mean Squared Logarithmic Error (RMSLE): 0.6720555951375614\n",
      "\n",
      "Training model for store 6 and family 24...\n"
     ]
    },
    {
     "name": "stderr",
     "output_type": "stream",
     "text": [
      "15:03:01 - cmdstanpy - INFO - Chain [1] done processing\n",
      "15:03:01 - cmdstanpy - INFO - Chain [1] start processing\n"
     ]
    },
    {
     "name": "stdout",
     "output_type": "stream",
     "text": [
      "There are 1 NaN values in the data.\n",
      "Root Mean Squared Error (RMSE): 92.6031450639126\n",
      "Root Mean Squared Logarithmic Error (RMSLE): 0.5204301002126185\n",
      "\n",
      "Training model for store 6 and family 25...\n"
     ]
    },
    {
     "name": "stderr",
     "output_type": "stream",
     "text": [
      "15:03:01 - cmdstanpy - INFO - Chain [1] done processing\n",
      "15:03:02 - cmdstanpy - INFO - Chain [1] start processing\n"
     ]
    },
    {
     "name": "stdout",
     "output_type": "stream",
     "text": [
      "There are 1 NaN values in the data.\n",
      "Root Mean Squared Error (RMSE): 99.62365436106012\n",
      "Root Mean Squared Logarithmic Error (RMSLE): 0.5402798431842087\n",
      "\n",
      "Training model for store 6 and family 26...\n"
     ]
    },
    {
     "name": "stderr",
     "output_type": "stream",
     "text": [
      "15:03:02 - cmdstanpy - INFO - Chain [1] done processing\n",
      "15:03:02 - cmdstanpy - INFO - Chain [1] start processing\n",
      "15:03:02 - cmdstanpy - INFO - Chain [1] done processing\n"
     ]
    },
    {
     "name": "stdout",
     "output_type": "stream",
     "text": [
      "There are 1 NaN values in the data.\n",
      "Root Mean Squared Error (RMSE): 5.323116875868736\n",
      "Root Mean Squared Logarithmic Error (RMSLE): 0.5302495625830567\n",
      "\n",
      "Training model for store 6 and family 27...\n"
     ]
    },
    {
     "name": "stderr",
     "output_type": "stream",
     "text": [
      "15:03:02 - cmdstanpy - INFO - Chain [1] start processing\n"
     ]
    },
    {
     "name": "stdout",
     "output_type": "stream",
     "text": [
      "There are 1 NaN values in the data.\n",
      "Root Mean Squared Error (RMSE): 6.854245109293018\n",
      "Root Mean Squared Logarithmic Error (RMSLE): 0.4808542743752081\n",
      "\n",
      "Training model for store 6 and family 28...\n"
     ]
    },
    {
     "name": "stderr",
     "output_type": "stream",
     "text": [
      "15:03:02 - cmdstanpy - INFO - Chain [1] done processing\n",
      "15:03:03 - cmdstanpy - INFO - Chain [1] start processing\n"
     ]
    },
    {
     "name": "stdout",
     "output_type": "stream",
     "text": [
      "There are 1 NaN values in the data.\n",
      "Root Mean Squared Error (RMSE): 132.62629645362654\n",
      "Root Mean Squared Logarithmic Error (RMSLE): 0.5547879787447921\n",
      "\n",
      "Training model for store 6 and family 29...\n"
     ]
    },
    {
     "name": "stderr",
     "output_type": "stream",
     "text": [
      "15:03:03 - cmdstanpy - INFO - Chain [1] done processing\n",
      "15:03:03 - cmdstanpy - INFO - Chain [1] start processing\n"
     ]
    },
    {
     "name": "stdout",
     "output_type": "stream",
     "text": [
      "There are 1 NaN values in the data.\n",
      "Root Mean Squared Error (RMSE): 37.10507834779945\n",
      "Root Mean Squared Logarithmic Error (RMSLE): 0.4989033085780757\n",
      "\n",
      "Training model for store 6 and family 30...\n"
     ]
    },
    {
     "name": "stderr",
     "output_type": "stream",
     "text": [
      "15:03:03 - cmdstanpy - INFO - Chain [1] done processing\n",
      "15:03:03 - cmdstanpy - INFO - Chain [1] start processing\n"
     ]
    },
    {
     "name": "stdout",
     "output_type": "stream",
     "text": [
      "There are 1 NaN values in the data.\n",
      "Root Mean Squared Error (RMSE): 1325.2483182405028\n",
      "Root Mean Squared Logarithmic Error (RMSLE): 0.7767555675163719\n",
      "\n",
      "Training model for store 6 and family 31...\n"
     ]
    },
    {
     "name": "stderr",
     "output_type": "stream",
     "text": [
      "15:03:03 - cmdstanpy - INFO - Chain [1] done processing\n",
      "15:03:04 - cmdstanpy - INFO - Chain [1] start processing\n"
     ]
    },
    {
     "name": "stdout",
     "output_type": "stream",
     "text": [
      "There are 1 NaN values in the data.\n",
      "Root Mean Squared Error (RMSE): 3.3804558286761215\n",
      "Root Mean Squared Logarithmic Error (RMSLE): 1.4365113975730477\n",
      "\n",
      "Training model for store 6 and family 32...\n"
     ]
    },
    {
     "name": "stderr",
     "output_type": "stream",
     "text": [
      "15:03:04 - cmdstanpy - INFO - Chain [1] done processing\n",
      "15:03:04 - cmdstanpy - INFO - Chain [1] start processing\n"
     ]
    },
    {
     "name": "stdout",
     "output_type": "stream",
     "text": [
      "There are 1 NaN values in the data.\n",
      "Root Mean Squared Error (RMSE): 12.573567295089754\n",
      "Root Mean Squared Logarithmic Error (RMSLE): 0.4197817188395006\n",
      "\n",
      "Training model for store 7 and family 0...\n"
     ]
    },
    {
     "name": "stderr",
     "output_type": "stream",
     "text": [
      "15:03:04 - cmdstanpy - INFO - Chain [1] done processing\n"
     ]
    },
    {
     "name": "stdout",
     "output_type": "stream",
     "text": [
      "There are 1 NaN values in the data.\n",
      "Root Mean Squared Error (RMSE): 3.5151933676532323\n",
      "Root Mean Squared Logarithmic Error (RMSLE): 0.6817096935953637\n",
      "\n",
      "Training model for store 7 and family 1...\n",
      "There are 1 NaN values in the data.\n",
      "Root Mean Squared Error (RMSE): 0.42132504423474315\n",
      "Root Mean Squared Logarithmic Error (RMSLE): 0.26943949198295297\n"
     ]
    },
    {
     "name": "stderr",
     "output_type": "stream",
     "text": [
      "15:03:04 - cmdstanpy - INFO - Chain [1] start processing\n",
      "15:03:04 - cmdstanpy - INFO - Chain [1] done processing\n"
     ]
    },
    {
     "name": "stdout",
     "output_type": "stream",
     "text": [
      "\n",
      "Training model for store 7 and family 2...\n",
      "There are 1 NaN values in the data.\n",
      "Root Mean Squared Error (RMSE): 2.7290614561492426\n",
      "Root Mean Squared Logarithmic Error (RMSLE): 0.5795126078458187\n"
     ]
    },
    {
     "name": "stderr",
     "output_type": "stream",
     "text": [
      "15:03:05 - cmdstanpy - INFO - Chain [1] start processing\n"
     ]
    },
    {
     "name": "stdout",
     "output_type": "stream",
     "text": [
      "\n",
      "Training model for store 7 and family 3...\n"
     ]
    },
    {
     "name": "stderr",
     "output_type": "stream",
     "text": [
      "15:03:05 - cmdstanpy - INFO - Chain [1] done processing\n"
     ]
    },
    {
     "name": "stdout",
     "output_type": "stream",
     "text": [
      "There are 1 NaN values in the data.\n",
      "Root Mean Squared Error (RMSE): 767.0925876279952\n",
      "Root Mean Squared Logarithmic Error (RMSLE): 0.6619600110487058\n",
      "\n",
      "Training model for store 7 and family 4...\n",
      "There are 1 NaN values in the data.\n",
      "Root Mean Squared Error (RMSE): 1.6809056448778583\n",
      "Root Mean Squared Logarithmic Error (RMSLE): 0.6166010460795547\n"
     ]
    },
    {
     "name": "stderr",
     "output_type": "stream",
     "text": [
      "15:03:05 - cmdstanpy - INFO - Chain [1] start processing\n",
      "15:03:05 - cmdstanpy - INFO - Chain [1] done processing\n"
     ]
    },
    {
     "name": "stdout",
     "output_type": "stream",
     "text": [
      "\n",
      "Training model for store 7 and family 5...\n",
      "There are 1 NaN values in the data.\n",
      "Root Mean Squared Error (RMSE): 151.99542702035362\n",
      "Root Mean Squared Logarithmic Error (RMSLE): 0.5427363481600368\n"
     ]
    },
    {
     "name": "stderr",
     "output_type": "stream",
     "text": [
      "15:03:05 - cmdstanpy - INFO - Chain [1] start processing\n",
      "15:03:06 - cmdstanpy - INFO - Chain [1] done processing\n"
     ]
    },
    {
     "name": "stdout",
     "output_type": "stream",
     "text": [
      "\n",
      "Training model for store 7 and family 6...\n",
      "There are 1 NaN values in the data.\n",
      "Root Mean Squared Error (RMSE): 12.21860347060831\n",
      "Root Mean Squared Logarithmic Error (RMSLE): 0.6851012363550737\n",
      "\n",
      "Training model for store 7 and family 7...\n"
     ]
    },
    {
     "name": "stderr",
     "output_type": "stream",
     "text": [
      "15:03:06 - cmdstanpy - INFO - Chain [1] start processing\n",
      "15:03:06 - cmdstanpy - INFO - Chain [1] done processing\n",
      "15:03:06 - cmdstanpy - INFO - Chain [1] start processing\n"
     ]
    },
    {
     "name": "stdout",
     "output_type": "stream",
     "text": [
      "There are 1 NaN values in the data.\n",
      "Root Mean Squared Error (RMSE): 201.39083371250607\n",
      "Root Mean Squared Logarithmic Error (RMSLE): 0.5528023817768627\n",
      "\n",
      "Training model for store 7 and family 8...\n"
     ]
    },
    {
     "name": "stderr",
     "output_type": "stream",
     "text": [
      "15:03:06 - cmdstanpy - INFO - Chain [1] done processing\n",
      "15:03:07 - cmdstanpy - INFO - Chain [1] start processing\n"
     ]
    },
    {
     "name": "stdout",
     "output_type": "stream",
     "text": [
      "There are 1 NaN values in the data.\n",
      "Root Mean Squared Error (RMSE): 250.10698514478594\n",
      "Root Mean Squared Logarithmic Error (RMSLE): 0.5835599686542721\n",
      "\n",
      "Training model for store 7 and family 9...\n"
     ]
    },
    {
     "name": "stderr",
     "output_type": "stream",
     "text": [
      "15:03:07 - cmdstanpy - INFO - Chain [1] done processing\n",
      "15:03:07 - cmdstanpy - INFO - Chain [1] start processing\n"
     ]
    },
    {
     "name": "stdout",
     "output_type": "stream",
     "text": [
      "There are 1 NaN values in the data.\n",
      "Root Mean Squared Error (RMSE): 51.455212683423596\n",
      "Root Mean Squared Logarithmic Error (RMSLE): 0.4749036386062273\n",
      "\n",
      "Training model for store 7 and family 10...\n"
     ]
    },
    {
     "name": "stderr",
     "output_type": "stream",
     "text": [
      "15:03:07 - cmdstanpy - INFO - Chain [1] done processing\n",
      "15:03:07 - cmdstanpy - INFO - Chain [1] start processing\n"
     ]
    },
    {
     "name": "stdout",
     "output_type": "stream",
     "text": [
      "There are 1 NaN values in the data.\n",
      "Root Mean Squared Error (RMSE): 41.20099705063604\n",
      "Root Mean Squared Logarithmic Error (RMSLE): 0.44755847938438803\n",
      "\n",
      "Training model for store 7 and family 11...\n"
     ]
    },
    {
     "name": "stderr",
     "output_type": "stream",
     "text": [
      "15:03:07 - cmdstanpy - INFO - Chain [1] done processing\n",
      "15:03:08 - cmdstanpy - INFO - Chain [1] start processing\n"
     ]
    },
    {
     "name": "stdout",
     "output_type": "stream",
     "text": [
      "There are 1 NaN values in the data.\n",
      "Root Mean Squared Error (RMSE): 153.1661944917301\n",
      "Root Mean Squared Logarithmic Error (RMSLE): 0.556617480322348\n",
      "\n",
      "Training model for store 7 and family 12...\n"
     ]
    },
    {
     "name": "stderr",
     "output_type": "stream",
     "text": [
      "15:03:08 - cmdstanpy - INFO - Chain [1] done processing\n",
      "15:03:08 - cmdstanpy - INFO - Chain [1] start processing\n"
     ]
    },
    {
     "name": "stdout",
     "output_type": "stream",
     "text": [
      "There are 1 NaN values in the data.\n",
      "Root Mean Squared Error (RMSE): 701.8882405379236\n",
      "Root Mean Squared Logarithmic Error (RMSLE): 0.6595263164785669\n",
      "\n",
      "Training model for store 7 and family 13...\n"
     ]
    },
    {
     "name": "stderr",
     "output_type": "stream",
     "text": [
      "15:03:08 - cmdstanpy - INFO - Chain [1] done processing\n",
      "15:03:08 - cmdstanpy - INFO - Chain [1] start processing\n"
     ]
    },
    {
     "name": "stdout",
     "output_type": "stream",
     "text": [
      "There are 1 NaN values in the data.\n",
      "Root Mean Squared Error (RMSE): 19.87847505113643\n",
      "Root Mean Squared Logarithmic Error (RMSLE): 0.5509033988741849\n",
      "\n",
      "Training model for store 7 and family 14...\n"
     ]
    },
    {
     "name": "stderr",
     "output_type": "stream",
     "text": [
      "15:03:08 - cmdstanpy - INFO - Chain [1] done processing\n",
      "15:03:08 - cmdstanpy - INFO - Chain [1] start processing\n",
      "15:03:08 - cmdstanpy - INFO - Chain [1] done processing\n"
     ]
    },
    {
     "name": "stdout",
     "output_type": "stream",
     "text": [
      "There are 1 NaN values in the data.\n",
      "Root Mean Squared Error (RMSE): 2.3752860729485725\n",
      "Root Mean Squared Logarithmic Error (RMSLE): 0.6201777615919425\n",
      "\n",
      "Training model for store 7 and family 15...\n"
     ]
    },
    {
     "name": "stderr",
     "output_type": "stream",
     "text": [
      "15:03:09 - cmdstanpy - INFO - Chain [1] start processing\n"
     ]
    },
    {
     "name": "stdout",
     "output_type": "stream",
     "text": [
      "There are 1 NaN values in the data.\n",
      "Root Mean Squared Error (RMSE): 26.83401445807827\n",
      "Root Mean Squared Logarithmic Error (RMSLE): 0.6405481765161886\n",
      "\n",
      "Training model for store 7 and family 16...\n"
     ]
    },
    {
     "name": "stderr",
     "output_type": "stream",
     "text": [
      "15:03:09 - cmdstanpy - INFO - Chain [1] done processing\n",
      "15:03:09 - cmdstanpy - INFO - Chain [1] start processing\n"
     ]
    },
    {
     "name": "stdout",
     "output_type": "stream",
     "text": [
      "There are 1 NaN values in the data.\n",
      "Root Mean Squared Error (RMSE): 23.570780261041364\n",
      "Root Mean Squared Logarithmic Error (RMSLE): 0.6223359884698165\n",
      "\n",
      "Training model for store 7 and family 17...\n"
     ]
    },
    {
     "name": "stderr",
     "output_type": "stream",
     "text": [
      "15:03:09 - cmdstanpy - INFO - Chain [1] done processing\n",
      "15:03:09 - cmdstanpy - INFO - Chain [1] start processing\n"
     ]
    },
    {
     "name": "stdout",
     "output_type": "stream",
     "text": [
      "There are 1 NaN values in the data.\n",
      "Root Mean Squared Error (RMSE): 1.070454426024999\n",
      "Root Mean Squared Logarithmic Error (RMSLE): 0.526689439754421\n",
      "\n",
      "Training model for store 7 and family 18...\n"
     ]
    },
    {
     "name": "stderr",
     "output_type": "stream",
     "text": [
      "15:03:09 - cmdstanpy - INFO - Chain [1] done processing\n",
      "15:03:10 - cmdstanpy - INFO - Chain [1] start processing\n"
     ]
    },
    {
     "name": "stdout",
     "output_type": "stream",
     "text": [
      "There are 1 NaN values in the data.\n",
      "Root Mean Squared Error (RMSE): 67.06008439665314\n",
      "Root Mean Squared Logarithmic Error (RMSLE): 0.5013504786777491\n",
      "\n",
      "Training model for store 7 and family 19...\n"
     ]
    },
    {
     "name": "stderr",
     "output_type": "stream",
     "text": [
      "15:03:10 - cmdstanpy - INFO - Chain [1] done processing\n",
      "15:03:10 - cmdstanpy - INFO - Chain [1] start processing\n"
     ]
    },
    {
     "name": "stdout",
     "output_type": "stream",
     "text": [
      "There are 1 NaN values in the data.\n",
      "Root Mean Squared Error (RMSE): 7.303148183629206\n",
      "Root Mean Squared Logarithmic Error (RMSLE): 0.5977852806810128\n",
      "\n",
      "Training model for store 7 and family 20...\n"
     ]
    },
    {
     "name": "stderr",
     "output_type": "stream",
     "text": [
      "15:03:10 - cmdstanpy - INFO - Chain [1] done processing\n",
      "15:03:10 - cmdstanpy - INFO - Chain [1] start processing\n"
     ]
    },
    {
     "name": "stdout",
     "output_type": "stream",
     "text": [
      "There are 1 NaN values in the data.\n",
      "Root Mean Squared Error (RMSE): 30.28729065659424\n",
      "Root Mean Squared Logarithmic Error (RMSLE): 0.9214527820717427\n",
      "\n",
      "Training model for store 7 and family 21...\n"
     ]
    },
    {
     "name": "stderr",
     "output_type": "stream",
     "text": [
      "15:03:10 - cmdstanpy - INFO - Chain [1] done processing\n",
      "15:03:10 - cmdstanpy - INFO - Chain [1] start processing\n"
     ]
    },
    {
     "name": "stdout",
     "output_type": "stream",
     "text": [
      "There are 1 NaN values in the data.\n",
      "Root Mean Squared Error (RMSE): 6.526201372535088\n",
      "Root Mean Squared Logarithmic Error (RMSLE): 1.0972738626652414\n",
      "\n",
      "Training model for store 7 and family 22...\n"
     ]
    },
    {
     "name": "stderr",
     "output_type": "stream",
     "text": [
      "15:03:11 - cmdstanpy - INFO - Chain [1] done processing\n",
      "15:03:11 - cmdstanpy - INFO - Chain [1] start processing\n"
     ]
    },
    {
     "name": "stdout",
     "output_type": "stream",
     "text": [
      "There are 1 NaN values in the data.\n",
      "Root Mean Squared Error (RMSE): 74.99665023629275\n",
      "Root Mean Squared Logarithmic Error (RMSLE): 0.9280169189054076\n",
      "\n",
      "Training model for store 7 and family 23...\n"
     ]
    },
    {
     "name": "stderr",
     "output_type": "stream",
     "text": [
      "15:03:11 - cmdstanpy - INFO - Chain [1] done processing\n",
      "15:03:11 - cmdstanpy - INFO - Chain [1] start processing\n"
     ]
    },
    {
     "name": "stdout",
     "output_type": "stream",
     "text": [
      "There are 1 NaN values in the data.\n",
      "Root Mean Squared Error (RMSE): 8.219844976189512\n",
      "Root Mean Squared Logarithmic Error (RMSLE): 0.6435659154583493\n",
      "\n",
      "Training model for store 7 and family 24...\n"
     ]
    },
    {
     "name": "stderr",
     "output_type": "stream",
     "text": [
      "15:03:11 - cmdstanpy - INFO - Chain [1] done processing\n",
      "15:03:12 - cmdstanpy - INFO - Chain [1] start processing\n"
     ]
    },
    {
     "name": "stdout",
     "output_type": "stream",
     "text": [
      "There are 1 NaN values in the data.\n",
      "Root Mean Squared Error (RMSE): 89.38900576679596\n",
      "Root Mean Squared Logarithmic Error (RMSLE): 0.47516417197293626\n",
      "\n",
      "Training model for store 7 and family 25...\n"
     ]
    },
    {
     "name": "stderr",
     "output_type": "stream",
     "text": [
      "15:03:12 - cmdstanpy - INFO - Chain [1] done processing\n",
      "15:03:12 - cmdstanpy - INFO - Chain [1] start processing\n"
     ]
    },
    {
     "name": "stdout",
     "output_type": "stream",
     "text": [
      "There are 1 NaN values in the data.\n",
      "Root Mean Squared Error (RMSE): 60.01257755062471\n",
      "Root Mean Squared Logarithmic Error (RMSLE): 0.48363564903473183\n",
      "\n",
      "Training model for store 7 and family 26...\n"
     ]
    },
    {
     "name": "stderr",
     "output_type": "stream",
     "text": [
      "15:03:12 - cmdstanpy - INFO - Chain [1] done processing\n",
      "15:03:12 - cmdstanpy - INFO - Chain [1] start processing\n"
     ]
    },
    {
     "name": "stdout",
     "output_type": "stream",
     "text": [
      "There are 1 NaN values in the data.\n",
      "Root Mean Squared Error (RMSE): 4.113320437087577\n",
      "Root Mean Squared Logarithmic Error (RMSLE): 0.5623229689614937\n",
      "\n",
      "Training model for store 7 and family 27...\n"
     ]
    },
    {
     "name": "stderr",
     "output_type": "stream",
     "text": [
      "15:03:12 - cmdstanpy - INFO - Chain [1] done processing\n",
      "15:03:12 - cmdstanpy - INFO - Chain [1] start processing\n"
     ]
    },
    {
     "name": "stdout",
     "output_type": "stream",
     "text": [
      "There are 1 NaN values in the data.\n",
      "Root Mean Squared Error (RMSE): 6.254783748757474\n",
      "Root Mean Squared Logarithmic Error (RMSLE): 0.4860948122123649\n",
      "\n",
      "Training model for store 7 and family 28...\n"
     ]
    },
    {
     "name": "stderr",
     "output_type": "stream",
     "text": [
      "15:03:13 - cmdstanpy - INFO - Chain [1] done processing\n",
      "15:03:13 - cmdstanpy - INFO - Chain [1] start processing\n"
     ]
    },
    {
     "name": "stdout",
     "output_type": "stream",
     "text": [
      "There are 1 NaN values in the data.\n",
      "Root Mean Squared Error (RMSE): 131.26064092336574\n",
      "Root Mean Squared Logarithmic Error (RMSLE): 0.5294600718710506\n",
      "\n",
      "Training model for store 7 and family 29...\n"
     ]
    },
    {
     "name": "stderr",
     "output_type": "stream",
     "text": [
      "15:03:13 - cmdstanpy - INFO - Chain [1] done processing\n",
      "15:03:13 - cmdstanpy - INFO - Chain [1] start processing\n"
     ]
    },
    {
     "name": "stdout",
     "output_type": "stream",
     "text": [
      "There are 1 NaN values in the data.\n",
      "Root Mean Squared Error (RMSE): 39.34468924373097\n",
      "Root Mean Squared Logarithmic Error (RMSLE): 0.4562453462700965\n",
      "\n",
      "Training model for store 7 and family 30...\n"
     ]
    },
    {
     "name": "stderr",
     "output_type": "stream",
     "text": [
      "15:03:13 - cmdstanpy - INFO - Chain [1] done processing\n",
      "15:03:13 - cmdstanpy - INFO - Chain [1] start processing\n"
     ]
    },
    {
     "name": "stdout",
     "output_type": "stream",
     "text": [
      "There are 1 NaN values in the data.\n",
      "Root Mean Squared Error (RMSE): 2565.6710260792634\n",
      "Root Mean Squared Logarithmic Error (RMSLE): 0.7926003094395846\n",
      "\n",
      "Training model for store 7 and family 31...\n"
     ]
    },
    {
     "name": "stderr",
     "output_type": "stream",
     "text": [
      "15:03:14 - cmdstanpy - INFO - Chain [1] done processing\n",
      "15:03:14 - cmdstanpy - INFO - Chain [1] start processing\n"
     ]
    },
    {
     "name": "stdout",
     "output_type": "stream",
     "text": [
      "There are 1 NaN values in the data.\n",
      "Root Mean Squared Error (RMSE): 1.9347091897567101\n",
      "Root Mean Squared Logarithmic Error (RMSLE): 0.9729359994035912\n",
      "\n",
      "Training model for store 7 and family 32...\n"
     ]
    },
    {
     "name": "stderr",
     "output_type": "stream",
     "text": [
      "15:03:14 - cmdstanpy - INFO - Chain [1] done processing\n",
      "15:03:14 - cmdstanpy - INFO - Chain [1] start processing\n"
     ]
    },
    {
     "name": "stdout",
     "output_type": "stream",
     "text": [
      "There are 1 NaN values in the data.\n",
      "Root Mean Squared Error (RMSE): 23.124134233060126\n",
      "Root Mean Squared Logarithmic Error (RMSLE): 0.5394535884996544\n",
      "\n",
      "Training model for store 8 and family 0...\n"
     ]
    },
    {
     "name": "stderr",
     "output_type": "stream",
     "text": [
      "15:03:14 - cmdstanpy - INFO - Chain [1] done processing\n",
      "15:03:14 - cmdstanpy - INFO - Chain [1] start processing\n"
     ]
    },
    {
     "name": "stdout",
     "output_type": "stream",
     "text": [
      "There are 1 NaN values in the data.\n",
      "Root Mean Squared Error (RMSE): 4.198171510191792\n",
      "Root Mean Squared Logarithmic Error (RMSLE): 0.6243690896618128\n",
      "\n",
      "Training model for store 8 and family 1...\n"
     ]
    },
    {
     "name": "stderr",
     "output_type": "stream",
     "text": [
      "15:03:14 - cmdstanpy - INFO - Chain [1] done processing\n",
      "15:03:15 - cmdstanpy - INFO - Chain [1] start processing\n"
     ]
    },
    {
     "name": "stdout",
     "output_type": "stream",
     "text": [
      "There are 1 NaN values in the data.\n",
      "Root Mean Squared Error (RMSE): 0.6694552974554538\n",
      "Root Mean Squared Logarithmic Error (RMSLE): 0.38621185034949523\n",
      "\n",
      "Training model for store 8 and family 2...\n"
     ]
    },
    {
     "name": "stderr",
     "output_type": "stream",
     "text": [
      "15:03:15 - cmdstanpy - INFO - Chain [1] done processing\n",
      "15:03:15 - cmdstanpy - INFO - Chain [1] start processing\n"
     ]
    },
    {
     "name": "stdout",
     "output_type": "stream",
     "text": [
      "There are 1 NaN values in the data.\n",
      "Root Mean Squared Error (RMSE): 4.763295813305198\n",
      "Root Mean Squared Logarithmic Error (RMSLE): 0.46003333403373775\n",
      "\n",
      "Training model for store 8 and family 3...\n"
     ]
    },
    {
     "name": "stderr",
     "output_type": "stream",
     "text": [
      "15:03:15 - cmdstanpy - INFO - Chain [1] done processing\n"
     ]
    },
    {
     "name": "stdout",
     "output_type": "stream",
     "text": [
      "There are 1 NaN values in the data.\n",
      "Root Mean Squared Error (RMSE): 1047.7414596927795\n",
      "Root Mean Squared Logarithmic Error (RMSLE): 0.6971452307497209\n",
      "\n",
      "Training model for store 8 and family 4...\n",
      "There are 1 NaN values in the data.\n",
      "Root Mean Squared Error (RMSE): 1.8357076251971882\n",
      "Root Mean Squared Logarithmic Error (RMSLE): 0.747582909475919\n"
     ]
    },
    {
     "name": "stderr",
     "output_type": "stream",
     "text": [
      "15:03:16 - cmdstanpy - INFO - Chain [1] start processing\n",
      "15:03:16 - cmdstanpy - INFO - Chain [1] done processing\n"
     ]
    },
    {
     "name": "stdout",
     "output_type": "stream",
     "text": [
      "\n",
      "Training model for store 8 and family 5...\n"
     ]
    },
    {
     "name": "stderr",
     "output_type": "stream",
     "text": [
      "15:03:16 - cmdstanpy - INFO - Chain [1] start processing\n"
     ]
    },
    {
     "name": "stdout",
     "output_type": "stream",
     "text": [
      "There are 1 NaN values in the data.\n",
      "Root Mean Squared Error (RMSE): 178.80915761277723\n",
      "Root Mean Squared Logarithmic Error (RMSLE): 0.5654447928967725\n",
      "\n",
      "Training model for store 8 and family 6...\n"
     ]
    },
    {
     "name": "stderr",
     "output_type": "stream",
     "text": [
      "15:03:16 - cmdstanpy - INFO - Chain [1] done processing\n",
      "15:03:16 - cmdstanpy - INFO - Chain [1] start processing\n"
     ]
    },
    {
     "name": "stdout",
     "output_type": "stream",
     "text": [
      "There are 1 NaN values in the data.\n",
      "Root Mean Squared Error (RMSE): 14.06537079865244\n",
      "Root Mean Squared Logarithmic Error (RMSLE): 0.6095032539921293\n",
      "\n",
      "Training model for store 8 and family 7...\n"
     ]
    },
    {
     "name": "stderr",
     "output_type": "stream",
     "text": [
      "15:03:16 - cmdstanpy - INFO - Chain [1] done processing\n",
      "15:03:17 - cmdstanpy - INFO - Chain [1] start processing\n"
     ]
    },
    {
     "name": "stdout",
     "output_type": "stream",
     "text": [
      "There are 1 NaN values in the data.\n",
      "Root Mean Squared Error (RMSE): 252.53697780389862\n",
      "Root Mean Squared Logarithmic Error (RMSLE): 0.588429385131075\n",
      "\n",
      "Training model for store 8 and family 8...\n"
     ]
    },
    {
     "name": "stderr",
     "output_type": "stream",
     "text": [
      "15:03:17 - cmdstanpy - INFO - Chain [1] done processing\n",
      "15:03:17 - cmdstanpy - INFO - Chain [1] start processing\n"
     ]
    },
    {
     "name": "stdout",
     "output_type": "stream",
     "text": [
      "There are 1 NaN values in the data.\n",
      "Root Mean Squared Error (RMSE): 285.6399800411091\n",
      "Root Mean Squared Logarithmic Error (RMSLE): 0.6065870573529479\n",
      "\n",
      "Training model for store 8 and family 9...\n"
     ]
    },
    {
     "name": "stderr",
     "output_type": "stream",
     "text": [
      "15:03:17 - cmdstanpy - INFO - Chain [1] done processing\n",
      "15:03:17 - cmdstanpy - INFO - Chain [1] start processing\n"
     ]
    },
    {
     "name": "stdout",
     "output_type": "stream",
     "text": [
      "There are 1 NaN values in the data.\n",
      "Root Mean Squared Error (RMSE): 72.15294137650407\n",
      "Root Mean Squared Logarithmic Error (RMSLE): 0.4980217840750659\n",
      "\n",
      "Training model for store 8 and family 10...\n"
     ]
    },
    {
     "name": "stderr",
     "output_type": "stream",
     "text": [
      "15:03:17 - cmdstanpy - INFO - Chain [1] done processing\n",
      "15:03:18 - cmdstanpy - INFO - Chain [1] start processing\n"
     ]
    },
    {
     "name": "stdout",
     "output_type": "stream",
     "text": [
      "There are 1 NaN values in the data.\n",
      "Root Mean Squared Error (RMSE): 76.03299875628703\n",
      "Root Mean Squared Logarithmic Error (RMSLE): 0.506376154903786\n",
      "\n",
      "Training model for store 8 and family 11...\n"
     ]
    },
    {
     "name": "stderr",
     "output_type": "stream",
     "text": [
      "15:03:18 - cmdstanpy - INFO - Chain [1] done processing\n",
      "15:03:18 - cmdstanpy - INFO - Chain [1] start processing\n"
     ]
    },
    {
     "name": "stdout",
     "output_type": "stream",
     "text": [
      "There are 1 NaN values in the data.\n",
      "Root Mean Squared Error (RMSE): 192.21940002329998\n",
      "Root Mean Squared Logarithmic Error (RMSLE): 1.0409823465675878\n",
      "\n",
      "Training model for store 8 and family 12...\n"
     ]
    },
    {
     "name": "stderr",
     "output_type": "stream",
     "text": [
      "15:03:18 - cmdstanpy - INFO - Chain [1] done processing\n",
      "15:03:18 - cmdstanpy - INFO - Chain [1] start processing\n"
     ]
    },
    {
     "name": "stdout",
     "output_type": "stream",
     "text": [
      "There are 1 NaN values in the data.\n",
      "Root Mean Squared Error (RMSE): 1013.1888637301764\n",
      "Root Mean Squared Logarithmic Error (RMSLE): 0.6990878431614146\n",
      "\n",
      "Training model for store 8 and family 13...\n"
     ]
    },
    {
     "name": "stderr",
     "output_type": "stream",
     "text": [
      "15:03:18 - cmdstanpy - INFO - Chain [1] done processing\n",
      "15:03:18 - cmdstanpy - INFO - Chain [1] start processing\n"
     ]
    },
    {
     "name": "stdout",
     "output_type": "stream",
     "text": [
      "There are 1 NaN values in the data.\n",
      "Root Mean Squared Error (RMSE): 16.177496124019665\n",
      "Root Mean Squared Logarithmic Error (RMSLE): 0.4860217740382508\n",
      "\n",
      "Training model for store 8 and family 14...\n"
     ]
    },
    {
     "name": "stderr",
     "output_type": "stream",
     "text": [
      "15:03:19 - cmdstanpy - INFO - Chain [1] done processing\n",
      "15:03:19 - cmdstanpy - INFO - Chain [1] start processing\n"
     ]
    },
    {
     "name": "stdout",
     "output_type": "stream",
     "text": [
      "There are 1 NaN values in the data.\n",
      "Root Mean Squared Error (RMSE): 2.2976052213882205\n",
      "Root Mean Squared Logarithmic Error (RMSLE): 0.6324570513100769\n",
      "\n",
      "Training model for store 8 and family 15...\n"
     ]
    },
    {
     "name": "stderr",
     "output_type": "stream",
     "text": [
      "15:03:19 - cmdstanpy - INFO - Chain [1] done processing\n",
      "15:03:19 - cmdstanpy - INFO - Chain [1] start processing\n"
     ]
    },
    {
     "name": "stdout",
     "output_type": "stream",
     "text": [
      "There are 1 NaN values in the data.\n",
      "Root Mean Squared Error (RMSE): 24.2241275202739\n",
      "Root Mean Squared Logarithmic Error (RMSLE): 0.585995387633278\n",
      "\n",
      "Training model for store 8 and family 16...\n"
     ]
    },
    {
     "name": "stderr",
     "output_type": "stream",
     "text": [
      "15:03:19 - cmdstanpy - INFO - Chain [1] done processing\n",
      "15:03:19 - cmdstanpy - INFO - Chain [1] start processing\n"
     ]
    },
    {
     "name": "stdout",
     "output_type": "stream",
     "text": [
      "There are 1 NaN values in the data.\n",
      "Root Mean Squared Error (RMSE): 21.491654455122944\n",
      "Root Mean Squared Logarithmic Error (RMSLE): 0.48729944478825626\n",
      "\n",
      "Training model for store 8 and family 17...\n"
     ]
    },
    {
     "name": "stderr",
     "output_type": "stream",
     "text": [
      "15:03:19 - cmdstanpy - INFO - Chain [1] done processing\n",
      "15:03:20 - cmdstanpy - INFO - Chain [1] start processing\n"
     ]
    },
    {
     "name": "stdout",
     "output_type": "stream",
     "text": [
      "There are 1 NaN values in the data.\n",
      "Root Mean Squared Error (RMSE): 1.5090698631289978\n",
      "Root Mean Squared Logarithmic Error (RMSLE): 0.6385735270291958\n",
      "\n",
      "Training model for store 8 and family 18...\n"
     ]
    },
    {
     "name": "stderr",
     "output_type": "stream",
     "text": [
      "15:03:20 - cmdstanpy - INFO - Chain [1] done processing\n",
      "15:03:20 - cmdstanpy - INFO - Chain [1] start processing\n"
     ]
    },
    {
     "name": "stdout",
     "output_type": "stream",
     "text": [
      "There are 1 NaN values in the data.\n",
      "Root Mean Squared Error (RMSE): 108.89595428730316\n",
      "Root Mean Squared Logarithmic Error (RMSLE): 0.5458403334670356\n",
      "\n",
      "Training model for store 8 and family 19...\n"
     ]
    },
    {
     "name": "stderr",
     "output_type": "stream",
     "text": [
      "15:03:20 - cmdstanpy - INFO - Chain [1] done processing\n",
      "15:03:20 - cmdstanpy - INFO - Chain [1] start processing\n"
     ]
    },
    {
     "name": "stdout",
     "output_type": "stream",
     "text": [
      "There are 1 NaN values in the data.\n",
      "Root Mean Squared Error (RMSE): 20.40738629472251\n",
      "Root Mean Squared Logarithmic Error (RMSLE): 0.6245058639776162\n",
      "\n",
      "Training model for store 8 and family 20...\n"
     ]
    },
    {
     "name": "stderr",
     "output_type": "stream",
     "text": [
      "15:03:20 - cmdstanpy - INFO - Chain [1] done processing\n",
      "15:03:21 - cmdstanpy - INFO - Chain [1] start processing\n"
     ]
    },
    {
     "name": "stdout",
     "output_type": "stream",
     "text": [
      "There are 1 NaN values in the data.\n",
      "Root Mean Squared Error (RMSE): 30.438970127531178\n",
      "Root Mean Squared Logarithmic Error (RMSLE): 0.8904649041196648\n",
      "\n",
      "Training model for store 8 and family 21...\n"
     ]
    },
    {
     "name": "stderr",
     "output_type": "stream",
     "text": [
      "15:03:21 - cmdstanpy - INFO - Chain [1] done processing\n",
      "15:03:21 - cmdstanpy - INFO - Chain [1] start processing\n"
     ]
    },
    {
     "name": "stdout",
     "output_type": "stream",
     "text": [
      "There are 1 NaN values in the data.\n",
      "Root Mean Squared Error (RMSE): 11.437104898440134\n",
      "Root Mean Squared Logarithmic Error (RMSLE): 0.5699560589833451\n",
      "\n",
      "Training model for store 8 and family 22...\n"
     ]
    },
    {
     "name": "stderr",
     "output_type": "stream",
     "text": [
      "15:03:21 - cmdstanpy - INFO - Chain [1] done processing\n",
      "15:03:21 - cmdstanpy - INFO - Chain [1] start processing\n"
     ]
    },
    {
     "name": "stdout",
     "output_type": "stream",
     "text": [
      "There are 1 NaN values in the data.\n",
      "Root Mean Squared Error (RMSE): 67.83357859944873\n",
      "Root Mean Squared Logarithmic Error (RMSLE): 1.2490375578195203\n",
      "\n",
      "Training model for store 8 and family 23...\n"
     ]
    },
    {
     "name": "stderr",
     "output_type": "stream",
     "text": [
      "15:03:21 - cmdstanpy - INFO - Chain [1] done processing\n",
      "15:03:21 - cmdstanpy - INFO - Chain [1] start processing\n"
     ]
    },
    {
     "name": "stdout",
     "output_type": "stream",
     "text": [
      "There are 1 NaN values in the data.\n",
      "Root Mean Squared Error (RMSE): 9.380787809764561\n",
      "Root Mean Squared Logarithmic Error (RMSLE): 0.571426101864466\n",
      "\n",
      "Training model for store 8 and family 24...\n"
     ]
    },
    {
     "name": "stderr",
     "output_type": "stream",
     "text": [
      "15:03:22 - cmdstanpy - INFO - Chain [1] done processing\n",
      "15:03:22 - cmdstanpy - INFO - Chain [1] start processing\n"
     ]
    },
    {
     "name": "stdout",
     "output_type": "stream",
     "text": [
      "There are 1 NaN values in the data.\n",
      "Root Mean Squared Error (RMSE): 107.6564520155043\n",
      "Root Mean Squared Logarithmic Error (RMSLE): 0.5041289145793479\n",
      "\n",
      "Training model for store 8 and family 25...\n"
     ]
    },
    {
     "name": "stderr",
     "output_type": "stream",
     "text": [
      "15:03:22 - cmdstanpy - INFO - Chain [1] done processing\n",
      "15:03:22 - cmdstanpy - INFO - Chain [1] start processing\n"
     ]
    },
    {
     "name": "stdout",
     "output_type": "stream",
     "text": [
      "There are 1 NaN values in the data.\n",
      "Root Mean Squared Error (RMSE): 97.01828491497642\n",
      "Root Mean Squared Logarithmic Error (RMSLE): 0.5423016701105458\n",
      "\n",
      "Training model for store 8 and family 26...\n"
     ]
    },
    {
     "name": "stderr",
     "output_type": "stream",
     "text": [
      "15:03:22 - cmdstanpy - INFO - Chain [1] done processing\n",
      "15:03:22 - cmdstanpy - INFO - Chain [1] start processing\n",
      "15:03:22 - cmdstanpy - INFO - Chain [1] done processing\n"
     ]
    },
    {
     "name": "stdout",
     "output_type": "stream",
     "text": [
      "There are 1 NaN values in the data.\n",
      "Root Mean Squared Error (RMSE): 9.74076395174221\n",
      "Root Mean Squared Logarithmic Error (RMSLE): 0.5624121329073345\n",
      "\n",
      "Training model for store 8 and family 27...\n"
     ]
    },
    {
     "name": "stderr",
     "output_type": "stream",
     "text": [
      "15:03:23 - cmdstanpy - INFO - Chain [1] start processing\n"
     ]
    },
    {
     "name": "stdout",
     "output_type": "stream",
     "text": [
      "There are 1 NaN values in the data.\n",
      "Root Mean Squared Error (RMSE): 8.108374796615257\n",
      "Root Mean Squared Logarithmic Error (RMSLE): 0.4321681503979885\n",
      "\n",
      "Training model for store 8 and family 28...\n"
     ]
    },
    {
     "name": "stderr",
     "output_type": "stream",
     "text": [
      "15:03:23 - cmdstanpy - INFO - Chain [1] done processing\n",
      "15:03:23 - cmdstanpy - INFO - Chain [1] start processing\n"
     ]
    },
    {
     "name": "stdout",
     "output_type": "stream",
     "text": [
      "There are 1 NaN values in the data.\n",
      "Root Mean Squared Error (RMSE): 128.4224115819366\n",
      "Root Mean Squared Logarithmic Error (RMSLE): 0.5416025554185815\n",
      "\n",
      "Training model for store 8 and family 29...\n"
     ]
    },
    {
     "name": "stderr",
     "output_type": "stream",
     "text": [
      "15:03:23 - cmdstanpy - INFO - Chain [1] done processing\n",
      "15:03:23 - cmdstanpy - INFO - Chain [1] start processing\n"
     ]
    },
    {
     "name": "stdout",
     "output_type": "stream",
     "text": [
      "There are 1 NaN values in the data.\n",
      "Root Mean Squared Error (RMSE): 45.24523816248884\n",
      "Root Mean Squared Logarithmic Error (RMSLE): 0.4657610596780243\n",
      "\n",
      "Training model for store 8 and family 30...\n"
     ]
    },
    {
     "name": "stderr",
     "output_type": "stream",
     "text": [
      "15:03:23 - cmdstanpy - INFO - Chain [1] done processing\n",
      "15:03:24 - cmdstanpy - INFO - Chain [1] start processing\n"
     ]
    },
    {
     "name": "stdout",
     "output_type": "stream",
     "text": [
      "There are 1 NaN values in the data.\n",
      "Root Mean Squared Error (RMSE): 2148.378223598512\n",
      "Root Mean Squared Logarithmic Error (RMSLE): 0.7889828039905376\n",
      "\n",
      "Training model for store 8 and family 31...\n"
     ]
    },
    {
     "name": "stderr",
     "output_type": "stream",
     "text": [
      "15:03:24 - cmdstanpy - INFO - Chain [1] done processing\n",
      "15:03:24 - cmdstanpy - INFO - Chain [1] start processing\n"
     ]
    },
    {
     "name": "stdout",
     "output_type": "stream",
     "text": [
      "There are 1 NaN values in the data.\n",
      "Root Mean Squared Error (RMSE): 1.6074300345196348\n",
      "Root Mean Squared Logarithmic Error (RMSLE): 0.7556423002271259\n",
      "\n",
      "Training model for store 8 and family 32...\n"
     ]
    },
    {
     "name": "stderr",
     "output_type": "stream",
     "text": [
      "15:03:24 - cmdstanpy - INFO - Chain [1] done processing\n",
      "15:03:24 - cmdstanpy - INFO - Chain [1] start processing\n"
     ]
    },
    {
     "name": "stdout",
     "output_type": "stream",
     "text": [
      "There are 1 NaN values in the data.\n",
      "Root Mean Squared Error (RMSE): 14.284149299998203\n",
      "Root Mean Squared Logarithmic Error (RMSLE): 0.43539760205185246\n",
      "\n",
      "Training model for store 9 and family 0...\n"
     ]
    },
    {
     "name": "stderr",
     "output_type": "stream",
     "text": [
      "15:03:24 - cmdstanpy - INFO - Chain [1] done processing\n",
      "15:03:25 - cmdstanpy - INFO - Chain [1] start processing\n",
      "15:03:25 - cmdstanpy - INFO - Chain [1] done processing\n"
     ]
    },
    {
     "name": "stdout",
     "output_type": "stream",
     "text": [
      "There are 1 NaN values in the data.\n",
      "Root Mean Squared Error (RMSE): 6.026115434804582\n",
      "Root Mean Squared Logarithmic Error (RMSLE): 0.5734602097301784\n",
      "\n",
      "Training model for store 9 and family 1...\n"
     ]
    },
    {
     "name": "stderr",
     "output_type": "stream",
     "text": [
      "15:03:25 - cmdstanpy - INFO - Chain [1] start processing\n"
     ]
    },
    {
     "name": "stdout",
     "output_type": "stream",
     "text": [
      "There are 1 NaN values in the data.\n",
      "Root Mean Squared Error (RMSE): 0.7506541864481195\n",
      "Root Mean Squared Logarithmic Error (RMSLE): 0.4471501300431627\n",
      "\n",
      "Training model for store 9 and family 2...\n"
     ]
    },
    {
     "name": "stderr",
     "output_type": "stream",
     "text": [
      "15:03:25 - cmdstanpy - INFO - Chain [1] done processing\n",
      "15:03:25 - cmdstanpy - INFO - Chain [1] start processing\n"
     ]
    },
    {
     "name": "stdout",
     "output_type": "stream",
     "text": [
      "There are 1 NaN values in the data.\n",
      "Root Mean Squared Error (RMSE): 4.847967831826628\n",
      "Root Mean Squared Logarithmic Error (RMSLE): 0.5872591215038608\n",
      "\n",
      "Training model for store 9 and family 3...\n"
     ]
    },
    {
     "name": "stderr",
     "output_type": "stream",
     "text": [
      "15:03:25 - cmdstanpy - INFO - Chain [1] done processing\n"
     ]
    },
    {
     "name": "stdout",
     "output_type": "stream",
     "text": [
      "There are 1 NaN values in the data.\n",
      "Root Mean Squared Error (RMSE): 1145.4496277235723\n",
      "Root Mean Squared Logarithmic Error (RMSLE): 0.7035382359149275\n",
      "\n",
      "Training model for store 9 and family 4...\n",
      "There are 1 NaN values in the data.\n",
      "Root Mean Squared Error (RMSE): 0.0\n",
      "Root Mean Squared Logarithmic Error (RMSLE): 0.0\n"
     ]
    },
    {
     "name": "stderr",
     "output_type": "stream",
     "text": [
      "15:03:26 - cmdstanpy - INFO - Chain [1] start processing\n",
      "15:03:26 - cmdstanpy - INFO - Chain [1] done processing\n"
     ]
    },
    {
     "name": "stdout",
     "output_type": "stream",
     "text": [
      "\n",
      "Training model for store 9 and family 5...\n"
     ]
    },
    {
     "name": "stderr",
     "output_type": "stream",
     "text": [
      "15:03:26 - cmdstanpy - INFO - Chain [1] start processing\n"
     ]
    },
    {
     "name": "stdout",
     "output_type": "stream",
     "text": [
      "There are 1 NaN values in the data.\n",
      "Root Mean Squared Error (RMSE): 113.04578763390784\n",
      "Root Mean Squared Logarithmic Error (RMSLE): 0.5321845743161151\n",
      "\n",
      "Training model for store 9 and family 6...\n"
     ]
    },
    {
     "name": "stderr",
     "output_type": "stream",
     "text": [
      "15:03:26 - cmdstanpy - INFO - Chain [1] done processing\n",
      "15:03:26 - cmdstanpy - INFO - Chain [1] start processing\n",
      "15:03:26 - cmdstanpy - INFO - Chain [1] done processing\n"
     ]
    },
    {
     "name": "stdout",
     "output_type": "stream",
     "text": [
      "There are 1 NaN values in the data.\n",
      "Root Mean Squared Error (RMSE): 14.879313500247774\n",
      "Root Mean Squared Logarithmic Error (RMSLE): 0.9888143865940469\n",
      "\n",
      "Training model for store 9 and family 7...\n"
     ]
    },
    {
     "name": "stderr",
     "output_type": "stream",
     "text": [
      "15:03:27 - cmdstanpy - INFO - Chain [1] start processing\n"
     ]
    },
    {
     "name": "stdout",
     "output_type": "stream",
     "text": [
      "There are 1 NaN values in the data.\n",
      "Root Mean Squared Error (RMSE): 511.4672618280845\n",
      "Root Mean Squared Logarithmic Error (RMSLE): 0.6495169756803107\n",
      "\n",
      "Training model for store 9 and family 8...\n"
     ]
    },
    {
     "name": "stderr",
     "output_type": "stream",
     "text": [
      "15:03:27 - cmdstanpy - INFO - Chain [1] done processing\n",
      "15:03:27 - cmdstanpy - INFO - Chain [1] start processing\n"
     ]
    },
    {
     "name": "stdout",
     "output_type": "stream",
     "text": [
      "There are 1 NaN values in the data.\n",
      "Root Mean Squared Error (RMSE): 216.3416334945726\n",
      "Root Mean Squared Logarithmic Error (RMSLE): 0.5850202355895658\n",
      "\n",
      "Training model for store 9 and family 9...\n"
     ]
    },
    {
     "name": "stderr",
     "output_type": "stream",
     "text": [
      "15:03:27 - cmdstanpy - INFO - Chain [1] done processing\n",
      "15:03:27 - cmdstanpy - INFO - Chain [1] start processing\n"
     ]
    },
    {
     "name": "stdout",
     "output_type": "stream",
     "text": [
      "There are 1 NaN values in the data.\n",
      "Root Mean Squared Error (RMSE): 169.40931036502744\n",
      "Root Mean Squared Logarithmic Error (RMSLE): 0.5733422351143984\n",
      "\n",
      "Training model for store 9 and family 10...\n"
     ]
    },
    {
     "name": "stderr",
     "output_type": "stream",
     "text": [
      "15:03:27 - cmdstanpy - INFO - Chain [1] done processing\n",
      "15:03:27 - cmdstanpy - INFO - Chain [1] start processing\n"
     ]
    },
    {
     "name": "stdout",
     "output_type": "stream",
     "text": [
      "There are 1 NaN values in the data.\n",
      "Root Mean Squared Error (RMSE): 99.50184509125259\n",
      "Root Mean Squared Logarithmic Error (RMSLE): 0.6110931954754708\n",
      "\n",
      "Training model for store 9 and family 11...\n"
     ]
    },
    {
     "name": "stderr",
     "output_type": "stream",
     "text": [
      "15:03:28 - cmdstanpy - INFO - Chain [1] done processing\n",
      "15:03:28 - cmdstanpy - INFO - Chain [1] start processing\n",
      "15:03:28 - cmdstanpy - INFO - Chain [1] done processing\n"
     ]
    },
    {
     "name": "stdout",
     "output_type": "stream",
     "text": [
      "There are 1 NaN values in the data.\n",
      "Root Mean Squared Error (RMSE): 173.57670422086704\n",
      "Root Mean Squared Logarithmic Error (RMSLE): 1.086767642605544\n",
      "\n",
      "Training model for store 9 and family 12...\n"
     ]
    },
    {
     "name": "stderr",
     "output_type": "stream",
     "text": [
      "15:03:28 - cmdstanpy - INFO - Chain [1] start processing\n"
     ]
    },
    {
     "name": "stdout",
     "output_type": "stream",
     "text": [
      "There are 1 NaN values in the data.\n",
      "Root Mean Squared Error (RMSE): 2400.2213425727127\n",
      "Root Mean Squared Logarithmic Error (RMSLE): 0.7470860714269734\n",
      "\n",
      "Training model for store 9 and family 13...\n"
     ]
    },
    {
     "name": "stderr",
     "output_type": "stream",
     "text": [
      "15:03:28 - cmdstanpy - INFO - Chain [1] done processing\n",
      "15:03:28 - cmdstanpy - INFO - Chain [1] start processing\n"
     ]
    },
    {
     "name": "stdout",
     "output_type": "stream",
     "text": [
      "There are 1 NaN values in the data.\n",
      "Root Mean Squared Error (RMSE): 11.047419895994329\n",
      "Root Mean Squared Logarithmic Error (RMSLE): 1.3708891779969088\n",
      "\n",
      "Training model for store 9 and family 14...\n"
     ]
    },
    {
     "name": "stderr",
     "output_type": "stream",
     "text": [
      "15:03:28 - cmdstanpy - INFO - Chain [1] done processing\n",
      "15:03:29 - cmdstanpy - INFO - Chain [1] start processing\n"
     ]
    },
    {
     "name": "stdout",
     "output_type": "stream",
     "text": [
      "There are 1 NaN values in the data.\n",
      "Root Mean Squared Error (RMSE): 1.4248567722722567\n",
      "Root Mean Squared Logarithmic Error (RMSLE): 0.6052323375388717\n",
      "\n",
      "Training model for store 9 and family 15...\n"
     ]
    },
    {
     "name": "stderr",
     "output_type": "stream",
     "text": [
      "15:03:29 - cmdstanpy - INFO - Chain [1] done processing\n",
      "15:03:29 - cmdstanpy - INFO - Chain [1] start processing\n"
     ]
    },
    {
     "name": "stdout",
     "output_type": "stream",
     "text": [
      "There are 1 NaN values in the data.\n",
      "Root Mean Squared Error (RMSE): 79.63063655347177\n",
      "Root Mean Squared Logarithmic Error (RMSLE): 0.7080456069547788\n",
      "\n",
      "Training model for store 9 and family 16...\n"
     ]
    },
    {
     "name": "stderr",
     "output_type": "stream",
     "text": [
      "15:03:29 - cmdstanpy - INFO - Chain [1] done processing\n",
      "15:03:29 - cmdstanpy - INFO - Chain [1] start processing\n"
     ]
    },
    {
     "name": "stdout",
     "output_type": "stream",
     "text": [
      "There are 1 NaN values in the data.\n",
      "Root Mean Squared Error (RMSE): 29.32188985492304\n",
      "Root Mean Squared Logarithmic Error (RMSLE): 1.142771201511104\n",
      "\n",
      "Training model for store 9 and family 17...\n"
     ]
    },
    {
     "name": "stderr",
     "output_type": "stream",
     "text": [
      "15:03:29 - cmdstanpy - INFO - Chain [1] done processing\n",
      "15:03:30 - cmdstanpy - INFO - Chain [1] start processing\n"
     ]
    },
    {
     "name": "stdout",
     "output_type": "stream",
     "text": [
      "There are 1 NaN values in the data.\n",
      "Root Mean Squared Error (RMSE): 0.5154013044908152\n",
      "Root Mean Squared Logarithmic Error (RMSLE): 0.37224581934951284\n",
      "\n",
      "Training model for store 9 and family 18...\n"
     ]
    },
    {
     "name": "stderr",
     "output_type": "stream",
     "text": [
      "15:03:30 - cmdstanpy - INFO - Chain [1] done processing\n",
      "15:03:30 - cmdstanpy - INFO - Chain [1] start processing\n"
     ]
    },
    {
     "name": "stdout",
     "output_type": "stream",
     "text": [
      "There are 1 NaN values in the data.\n",
      "Root Mean Squared Error (RMSE): 200.32614745505313\n",
      "Root Mean Squared Logarithmic Error (RMSLE): 0.6445419267243457\n",
      "\n",
      "Training model for store 9 and family 19...\n"
     ]
    },
    {
     "name": "stderr",
     "output_type": "stream",
     "text": [
      "15:03:30 - cmdstanpy - INFO - Chain [1] done processing\n",
      "15:03:30 - cmdstanpy - INFO - Chain [1] start processing\n",
      "15:03:30 - cmdstanpy - INFO - Chain [1] done processing\n"
     ]
    },
    {
     "name": "stdout",
     "output_type": "stream",
     "text": [
      "There are 1 NaN values in the data.\n",
      "Root Mean Squared Error (RMSE): 10.113602325262677\n",
      "Root Mean Squared Logarithmic Error (RMSLE): 0.7409875088801073\n",
      "\n",
      "Training model for store 9 and family 20...\n"
     ]
    },
    {
     "name": "stderr",
     "output_type": "stream",
     "text": [
      "15:03:30 - cmdstanpy - INFO - Chain [1] start processing\n"
     ]
    },
    {
     "name": "stdout",
     "output_type": "stream",
     "text": [
      "There are 1 NaN values in the data.\n",
      "Root Mean Squared Error (RMSE): 10.86898130961815\n",
      "Root Mean Squared Logarithmic Error (RMSLE): 0.7032426045583584\n",
      "\n",
      "Training model for store 9 and family 21...\n"
     ]
    },
    {
     "name": "stderr",
     "output_type": "stream",
     "text": [
      "15:03:31 - cmdstanpy - INFO - Chain [1] done processing\n",
      "15:03:31 - cmdstanpy - INFO - Chain [1] start processing\n"
     ]
    },
    {
     "name": "stdout",
     "output_type": "stream",
     "text": [
      "There are 1 NaN values in the data.\n",
      "Root Mean Squared Error (RMSE): 6.333102205268208\n",
      "Root Mean Squared Logarithmic Error (RMSLE): 1.1972845493112547\n",
      "\n",
      "Training model for store 9 and family 22...\n"
     ]
    },
    {
     "name": "stderr",
     "output_type": "stream",
     "text": [
      "15:03:31 - cmdstanpy - INFO - Chain [1] done processing\n",
      "15:03:31 - cmdstanpy - INFO - Chain [1] start processing\n"
     ]
    },
    {
     "name": "stdout",
     "output_type": "stream",
     "text": [
      "There are 1 NaN values in the data.\n",
      "Root Mean Squared Error (RMSE): 35.66551631497325\n",
      "Root Mean Squared Logarithmic Error (RMSLE): 1.347182268863436\n",
      "\n",
      "Training model for store 9 and family 23...\n"
     ]
    },
    {
     "name": "stderr",
     "output_type": "stream",
     "text": [
      "15:03:31 - cmdstanpy - INFO - Chain [1] done processing\n",
      "15:03:31 - cmdstanpy - INFO - Chain [1] start processing\n"
     ]
    },
    {
     "name": "stdout",
     "output_type": "stream",
     "text": [
      "There are 1 NaN values in the data.\n",
      "Root Mean Squared Error (RMSE): 3.664502597085008\n",
      "Root Mean Squared Logarithmic Error (RMSLE): 0.8275434395337639\n",
      "\n",
      "Training model for store 9 and family 24...\n"
     ]
    },
    {
     "name": "stderr",
     "output_type": "stream",
     "text": [
      "15:03:31 - cmdstanpy - INFO - Chain [1] done processing\n",
      "15:03:32 - cmdstanpy - INFO - Chain [1] start processing\n"
     ]
    },
    {
     "name": "stdout",
     "output_type": "stream",
     "text": [
      "There are 1 NaN values in the data.\n",
      "Root Mean Squared Error (RMSE): 82.80770103172425\n",
      "Root Mean Squared Logarithmic Error (RMSLE): 0.503688166652135\n",
      "\n",
      "Training model for store 9 and family 25...\n"
     ]
    },
    {
     "name": "stderr",
     "output_type": "stream",
     "text": [
      "15:03:32 - cmdstanpy - INFO - Chain [1] done processing\n",
      "15:03:32 - cmdstanpy - INFO - Chain [1] start processing\n"
     ]
    },
    {
     "name": "stdout",
     "output_type": "stream",
     "text": [
      "There are 1 NaN values in the data.\n",
      "Root Mean Squared Error (RMSE): 154.63562204463426\n",
      "Root Mean Squared Logarithmic Error (RMSLE): 0.5765499259449138\n",
      "\n",
      "Training model for store 9 and family 26...\n"
     ]
    },
    {
     "name": "stderr",
     "output_type": "stream",
     "text": [
      "15:03:32 - cmdstanpy - INFO - Chain [1] done processing\n",
      "15:03:32 - cmdstanpy - INFO - Chain [1] start processing\n"
     ]
    },
    {
     "name": "stdout",
     "output_type": "stream",
     "text": [
      "There are 1 NaN values in the data.\n",
      "Root Mean Squared Error (RMSE): 3.6751178121244044\n",
      "Root Mean Squared Logarithmic Error (RMSLE): 0.5019608595122476\n",
      "\n",
      "Training model for store 9 and family 27...\n"
     ]
    },
    {
     "name": "stderr",
     "output_type": "stream",
     "text": [
      "15:03:33 - cmdstanpy - INFO - Chain [1] done processing\n",
      "15:03:33 - cmdstanpy - INFO - Chain [1] start processing\n"
     ]
    },
    {
     "name": "stdout",
     "output_type": "stream",
     "text": [
      "There are 1 NaN values in the data.\n",
      "Root Mean Squared Error (RMSE): 8.176114991231927\n",
      "Root Mean Squared Logarithmic Error (RMSLE): 0.7329438550924319\n",
      "\n",
      "Training model for store 9 and family 28...\n"
     ]
    },
    {
     "name": "stderr",
     "output_type": "stream",
     "text": [
      "15:03:33 - cmdstanpy - INFO - Chain [1] done processing\n",
      "15:03:33 - cmdstanpy - INFO - Chain [1] start processing\n"
     ]
    },
    {
     "name": "stdout",
     "output_type": "stream",
     "text": [
      "There are 1 NaN values in the data.\n",
      "Root Mean Squared Error (RMSE): 169.42746760906286\n",
      "Root Mean Squared Logarithmic Error (RMSLE): 0.577588170333901\n",
      "\n",
      "Training model for store 9 and family 29...\n"
     ]
    },
    {
     "name": "stderr",
     "output_type": "stream",
     "text": [
      "15:03:33 - cmdstanpy - INFO - Chain [1] done processing\n",
      "15:03:33 - cmdstanpy - INFO - Chain [1] start processing\n"
     ]
    },
    {
     "name": "stdout",
     "output_type": "stream",
     "text": [
      "There are 1 NaN values in the data.\n",
      "Root Mean Squared Error (RMSE): 30.694717877900256\n",
      "Root Mean Squared Logarithmic Error (RMSLE): 0.4461557488281137\n",
      "\n",
      "Training model for store 9 and family 30...\n"
     ]
    },
    {
     "name": "stderr",
     "output_type": "stream",
     "text": [
      "15:03:33 - cmdstanpy - INFO - Chain [1] done processing\n",
      "15:03:34 - cmdstanpy - INFO - Chain [1] start processing\n"
     ]
    },
    {
     "name": "stdout",
     "output_type": "stream",
     "text": [
      "There are 1 NaN values in the data.\n",
      "Root Mean Squared Error (RMSE): 558.8752733512614\n",
      "Root Mean Squared Logarithmic Error (RMSLE): 0.6791661758071217\n",
      "\n",
      "Training model for store 9 and family 31...\n"
     ]
    },
    {
     "name": "stderr",
     "output_type": "stream",
     "text": [
      "15:03:34 - cmdstanpy - INFO - Chain [1] done processing\n",
      "15:03:34 - cmdstanpy - INFO - Chain [1] start processing\n"
     ]
    },
    {
     "name": "stdout",
     "output_type": "stream",
     "text": [
      "There are 1 NaN values in the data.\n",
      "Root Mean Squared Error (RMSE): 37.91953201021547\n",
      "Root Mean Squared Logarithmic Error (RMSLE): 2.48454313009997\n",
      "\n",
      "Training model for store 9 and family 32...\n"
     ]
    },
    {
     "name": "stderr",
     "output_type": "stream",
     "text": [
      "15:03:34 - cmdstanpy - INFO - Chain [1] done processing\n"
     ]
    },
    {
     "name": "stdout",
     "output_type": "stream",
     "text": [
      "There are 1 NaN values in the data.\n",
      "Root Mean Squared Error (RMSE): 9.164250969443593\n",
      "Root Mean Squared Logarithmic Error (RMSLE): 0.6311808246221632\n"
     ]
    }
   ],
   "source": [
    "for index, row in unique_combinations.iterrows():\n",
    "    store_nbr = row['store_nbr']\n",
    "    family = row['family']\n",
    "    \n",
    "    print(f\"\\nTraining model for store {store_nbr} and family {family}...\")\n",
    "    \n",
    "    df_subset = df[(df['store_nbr'] == store_nbr) & (df['family'] == family)]\n",
    "    \n",
    "    ts = TimeSeries.from_dataframe(df_subset, value_cols=[\"sales\"], freq='d')\n",
    "\n",
    "    split_ratio = 0.8\n",
    "    training_size = int(len(ts) * split_ratio)\n",
    "    train = ts[:training_size]\n",
    "    val = ts[training_size:]\n",
    "\n",
    "    model = Prophet()\n",
    "    model.fit(train)\n",
    "\n",
    "    trained_models[(store_nbr, family)] = model\n",
    "\n",
    "    predictions = model.predict(n=len(val))\n",
    "\n",
    "    val = val.pd_series().tolist()\n",
    "    predictions = predictions.pd_series().tolist()\n",
    "\n",
    "    predictions = np.maximum(predictions, 0)\n",
    "    \n",
    "    nan_indices = np.isnan(val)\n",
    "    nan_count = np.sum(nan_indices)\n",
    "    \n",
    "    if nan_count > 0:\n",
    "        print(f\"There are {nan_count} NaN values in the data.\")\n",
    "        \n",
    "    val = np.nan_to_num(val, nan=0.0)\n",
    "    \n",
    "    rmse = np.sqrt(mean_squared_error(val, predictions))\n",
    "    rmsle = np.sqrt(mean_squared_error(np.log1p(val), np.log1p(predictions)))\n",
    "\n",
    "    total_rmse += rmse\n",
    "    total_rmsle += rmsle\n",
    "    num_models += 1\n",
    "\n",
    "    print(f\"Root Mean Squared Error (RMSE): {rmse}\")\n",
    "    print(f\"Root Mean Squared Logarithmic Error (RMSLE): {rmsle}\")\n",
    "\n",
    "    plt.figure(figsize=(12, 6))\n",
    "    plt.plot(val, label='Actual')\n",
    "    plt.plot(predictions, label='Predictions')\n",
    "    plt.title(f\"Model for store {store_nbr} and family {family}\")\n",
    "    plt.legend()\n",
    "    plt.savefig(f\"plots/M07.3_store{store_nbr}_family{family}.png\")\n",
    "    plt.close()"
   ]
  },
  {
   "cell_type": "code",
   "execution_count": 9,
   "id": "2e81b540",
   "metadata": {},
   "outputs": [],
   "source": [
    "avg_rmse = total_rmse / num_models\n",
    "avg_rmsle = total_rmsle / num_models"
   ]
  },
  {
   "cell_type": "code",
   "execution_count": 10,
   "id": "d0e7a8f5",
   "metadata": {},
   "outputs": [
    {
     "name": "stdout",
     "output_type": "stream",
     "text": [
      "Average Root Mean Squared Error (RMSE) across all models: 169.72125261564008\n",
      "Average Root Mean Squared Logarithmic Error (RMSLE) across all models: 0.7663137817858955\n"
     ]
    }
   ],
   "source": [
    "print(f\"Average Root Mean Squared Error (RMSE) across all models: {avg_rmse}\")\n",
    "print(f\"Average Root Mean Squared Logarithmic Error (RMSLE) across all models: {avg_rmsle}\")"
   ]
  }
 ],
 "metadata": {
  "kernelspec": {
   "display_name": "Python 3 (ipykernel)",
   "language": "python",
   "name": "python3"
  },
  "language_info": {
   "codemirror_mode": {
    "name": "ipython",
    "version": 3
   },
   "file_extension": ".py",
   "mimetype": "text/x-python",
   "name": "python",
   "nbconvert_exporter": "python",
   "pygments_lexer": "ipython3",
   "version": "3.11.5"
  }
 },
 "nbformat": 4,
 "nbformat_minor": 5
}
