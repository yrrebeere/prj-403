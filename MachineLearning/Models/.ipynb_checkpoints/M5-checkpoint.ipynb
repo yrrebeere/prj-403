{
 "cells": [
  {
   "cell_type": "code",
   "execution_count": 1,
   "id": "6c3ece7200c58cef",
   "metadata": {
    "ExecuteTime": {
     "end_time": "2023-12-04T19:33:18.294790Z",
     "start_time": "2023-12-04T19:33:15.177481Z"
    }
   },
   "outputs": [],
   "source": [
    "import pandas as pd\n",
    "import numpy as np\n",
    "import matplotlib.pyplot as plt\n",
    "from sklearn.preprocessing import MinMaxScaler\n",
    "from sklearn.metrics import mean_squared_error\n",
    "from tensorflow.keras.models import Sequential\n",
    "from tensorflow.keras.layers import LSTM, Dense"
   ]
  },
  {
   "cell_type": "code",
   "execution_count": 2,
   "id": "a56b1cb281062136",
   "metadata": {
    "ExecuteTime": {
     "end_time": "2023-12-04T19:33:18.299650Z",
     "start_time": "2023-12-04T19:33:18.295524Z"
    }
   },
   "outputs": [],
   "source": [
    "df = pd.read_csv('../../Data/Pharmacy/D5.csv')"
   ]
  },
  {
   "cell_type": "code",
   "execution_count": 3,
   "id": "e69f31bc2ddfd9a4",
   "metadata": {
    "ExecuteTime": {
     "end_time": "2023-12-04T19:33:18.305498Z",
     "start_time": "2023-12-04T19:33:18.300004Z"
    }
   },
   "outputs": [
    {
     "data": {
      "text/html": [
       "<div>\n",
       "<style scoped>\n",
       "    .dataframe tbody tr th:only-of-type {\n",
       "        vertical-align: middle;\n",
       "    }\n",
       "\n",
       "    .dataframe tbody tr th {\n",
       "        vertical-align: top;\n",
       "    }\n",
       "\n",
       "    .dataframe thead th {\n",
       "        text-align: right;\n",
       "    }\n",
       "</style>\n",
       "<table border=\"1\" class=\"dataframe\">\n",
       "  <thead>\n",
       "    <tr style=\"text-align: right;\">\n",
       "      <th></th>\n",
       "      <th>date</th>\n",
       "      <th>itemname</th>\n",
       "      <th>packunits</th>\n",
       "      <th>expiry</th>\n",
       "      <th>price</th>\n",
       "      <th>looseqty</th>\n",
       "    </tr>\n",
       "  </thead>\n",
       "  <tbody>\n",
       "    <tr>\n",
       "      <th>0</th>\n",
       "      <td>01/07/2022</td>\n",
       "      <td>PANADOL TAB</td>\n",
       "      <td>200</td>\n",
       "      <td>4/25/24</td>\n",
       "      <td>1.70</td>\n",
       "      <td>60</td>\n",
       "    </tr>\n",
       "    <tr>\n",
       "      <th>1</th>\n",
       "      <td>02/07/2022</td>\n",
       "      <td>PANADOL TAB</td>\n",
       "      <td>200</td>\n",
       "      <td>4/25/24</td>\n",
       "      <td>1.70</td>\n",
       "      <td>70</td>\n",
       "    </tr>\n",
       "    <tr>\n",
       "      <th>2</th>\n",
       "      <td>03/07/2022</td>\n",
       "      <td>PANADOL TAB</td>\n",
       "      <td>200</td>\n",
       "      <td>4/25/24</td>\n",
       "      <td>1.70</td>\n",
       "      <td>55</td>\n",
       "    </tr>\n",
       "    <tr>\n",
       "      <th>3</th>\n",
       "      <td>05/07/2022</td>\n",
       "      <td>PANADOL TAB</td>\n",
       "      <td>200</td>\n",
       "      <td>4/25/24</td>\n",
       "      <td>1.45</td>\n",
       "      <td>20</td>\n",
       "    </tr>\n",
       "    <tr>\n",
       "      <th>4</th>\n",
       "      <td>08/07/2022</td>\n",
       "      <td>PANADOL TAB</td>\n",
       "      <td>200</td>\n",
       "      <td>4/25/24</td>\n",
       "      <td>1.70</td>\n",
       "      <td>70</td>\n",
       "    </tr>\n",
       "  </tbody>\n",
       "</table>\n",
       "</div>"
      ],
      "text/plain": [
       "         date     itemname  packunits   expiry  price  looseqty\n",
       "0  01/07/2022  PANADOL TAB        200  4/25/24   1.70        60\n",
       "1  02/07/2022  PANADOL TAB        200  4/25/24   1.70        70\n",
       "2  03/07/2022  PANADOL TAB        200  4/25/24   1.70        55\n",
       "3  05/07/2022  PANADOL TAB        200  4/25/24   1.45        20\n",
       "4  08/07/2022  PANADOL TAB        200  4/25/24   1.70        70"
      ]
     },
     "execution_count": 3,
     "metadata": {},
     "output_type": "execute_result"
    }
   ],
   "source": [
    "df.head()"
   ]
  },
  {
   "cell_type": "code",
   "execution_count": 4,
   "id": "9068fb74e1e9e2a6",
   "metadata": {
    "ExecuteTime": {
     "end_time": "2023-12-04T19:33:18.311862Z",
     "start_time": "2023-12-04T19:33:18.307440Z"
    }
   },
   "outputs": [],
   "source": [
    "df['date'] = pd.to_datetime(df['date'], format='%d/%m/%Y')\n",
    "df.set_index('date', inplace=True)"
   ]
  },
  {
   "cell_type": "code",
   "execution_count": 5,
   "id": "1ba819fb8df24f11",
   "metadata": {
    "ExecuteTime": {
     "end_time": "2023-12-04T19:33:18.315718Z",
     "start_time": "2023-12-04T19:33:18.310872Z"
    }
   },
   "outputs": [],
   "source": [
    "target_variable = 'looseqty'\n",
    "df = df[[target_variable]]"
   ]
  },
  {
   "cell_type": "code",
   "execution_count": 6,
   "id": "8286e4e6cdfdbb3d",
   "metadata": {
    "ExecuteTime": {
     "end_time": "2023-12-04T19:33:18.320751Z",
     "start_time": "2023-12-04T19:33:18.313735Z"
    }
   },
   "outputs": [],
   "source": [
    "scaler = MinMaxScaler()\n",
    "df_scaled = scaler.fit_transform(df)"
   ]
  },
  {
   "cell_type": "code",
   "execution_count": 7,
   "id": "90bfa85f75fdcfeb",
   "metadata": {
    "ExecuteTime": {
     "end_time": "2023-12-04T19:33:18.321144Z",
     "start_time": "2023-12-04T19:33:18.316079Z"
    }
   },
   "outputs": [],
   "source": [
    "def create_sequences(data, seq_length):\n",
    "    sequences = []\n",
    "    for i in range(len(data) - seq_length):\n",
    "        seq = data[i:i + seq_length]\n",
    "        sequences.append(seq)\n",
    "    return np.array(sequences)"
   ]
  },
  {
   "cell_type": "code",
   "execution_count": 8,
   "id": "7715dd384b3ef145",
   "metadata": {
    "ExecuteTime": {
     "end_time": "2023-12-04T19:33:18.339171Z",
     "start_time": "2023-12-04T19:33:18.317873Z"
    }
   },
   "outputs": [],
   "source": [
    "sequence_length = 10"
   ]
  },
  {
   "cell_type": "code",
   "execution_count": 9,
   "id": "2939f7d20ac03be",
   "metadata": {
    "ExecuteTime": {
     "end_time": "2023-12-04T19:33:18.349936Z",
     "start_time": "2023-12-04T19:33:18.319803Z"
    }
   },
   "outputs": [],
   "source": [
    "sequences = create_sequences(df_scaled, sequence_length)"
   ]
  },
  {
   "cell_type": "code",
   "execution_count": 10,
   "id": "fb535540b4ced9e3",
   "metadata": {
    "ExecuteTime": {
     "end_time": "2023-12-04T19:33:18.350261Z",
     "start_time": "2023-12-04T19:33:18.321664Z"
    }
   },
   "outputs": [],
   "source": [
    "train_size = int(len(sequences) * 0.8)\n",
    "train, test = sequences[:train_size], sequences[train_size:]"
   ]
  },
  {
   "cell_type": "code",
   "execution_count": 11,
   "id": "a9bcb44d01ba607e",
   "metadata": {
    "ExecuteTime": {
     "end_time": "2023-12-04T19:33:18.360637Z",
     "start_time": "2023-12-04T19:33:18.323537Z"
    }
   },
   "outputs": [],
   "source": [
    "X_train, y_train = train[:, :-1], train[:, -1]\n",
    "X_test, y_test = test[:, :-1], test[:, -1]"
   ]
  },
  {
   "cell_type": "code",
   "execution_count": 12,
   "id": "5bd2eb34ab81c9d6",
   "metadata": {
    "ExecuteTime": {
     "end_time": "2023-12-04T19:33:18.360800Z",
     "start_time": "2023-12-04T19:33:18.325628Z"
    }
   },
   "outputs": [],
   "source": [
    "X_train = X_train.reshape((X_train.shape[0], X_train.shape[1], 1))\n",
    "X_test = X_test.reshape((X_test.shape[0], X_test.shape[1], 1))"
   ]
  },
  {
   "cell_type": "code",
   "execution_count": 13,
   "id": "202427707b09e50e",
   "metadata": {
    "ExecuteTime": {
     "end_time": "2023-12-04T19:33:18.386352Z",
     "start_time": "2023-12-04T19:33:18.327913Z"
    }
   },
   "outputs": [],
   "source": [
    "model = Sequential()\n",
    "model.add(LSTM(50, activation='relu', input_shape=(X_train.shape[1], 1)))\n",
    "model.add(Dense(1))\n",
    "model.compile(optimizer='adam', loss='mse')"
   ]
  },
  {
   "cell_type": "code",
   "execution_count": 14,
   "id": "a9af5f3df0ca5396",
   "metadata": {
    "ExecuteTime": {
     "end_time": "2023-12-04T19:33:19.953255Z",
     "start_time": "2023-12-04T19:33:18.382962Z"
    }
   },
   "outputs": [
    {
     "name": "stdout",
     "output_type": "stream",
     "text": [
      "Epoch 1/50\n",
      "9/9 - 0s - loss: 0.0746 - val_loss: 0.1338 - 473ms/epoch - 53ms/step\n",
      "Epoch 2/50\n",
      "9/9 - 0s - loss: 0.0414 - val_loss: 0.0688 - 39ms/epoch - 4ms/step\n",
      "Epoch 3/50\n",
      "9/9 - 0s - loss: 0.0210 - val_loss: 0.0277 - 23ms/epoch - 3ms/step\n",
      "Epoch 4/50\n",
      "9/9 - 0s - loss: 0.0174 - val_loss: 0.0222 - 20ms/epoch - 2ms/step\n",
      "Epoch 5/50\n",
      "9/9 - 0s - loss: 0.0155 - val_loss: 0.0289 - 21ms/epoch - 2ms/step\n",
      "Epoch 6/50\n",
      "9/9 - 0s - loss: 0.0139 - val_loss: 0.0264 - 21ms/epoch - 2ms/step\n",
      "Epoch 7/50\n",
      "9/9 - 0s - loss: 0.0129 - val_loss: 0.0230 - 21ms/epoch - 2ms/step\n",
      "Epoch 8/50\n",
      "9/9 - 0s - loss: 0.0125 - val_loss: 0.0221 - 19ms/epoch - 2ms/step\n",
      "Epoch 9/50\n",
      "9/9 - 0s - loss: 0.0121 - val_loss: 0.0232 - 19ms/epoch - 2ms/step\n",
      "Epoch 10/50\n",
      "9/9 - 0s - loss: 0.0117 - val_loss: 0.0219 - 21ms/epoch - 2ms/step\n",
      "Epoch 11/50\n",
      "9/9 - 0s - loss: 0.0118 - val_loss: 0.0220 - 20ms/epoch - 2ms/step\n",
      "Epoch 12/50\n",
      "9/9 - 0s - loss: 0.0119 - val_loss: 0.0220 - 20ms/epoch - 2ms/step\n",
      "Epoch 13/50\n",
      "9/9 - 0s - loss: 0.0118 - val_loss: 0.0223 - 20ms/epoch - 2ms/step\n",
      "Epoch 14/50\n",
      "9/9 - 0s - loss: 0.0117 - val_loss: 0.0221 - 20ms/epoch - 2ms/step\n",
      "Epoch 15/50\n",
      "9/9 - 0s - loss: 0.0115 - val_loss: 0.0225 - 21ms/epoch - 2ms/step\n",
      "Epoch 16/50\n",
      "9/9 - 0s - loss: 0.0114 - val_loss: 0.0227 - 20ms/epoch - 2ms/step\n",
      "Epoch 17/50\n",
      "9/9 - 0s - loss: 0.0112 - val_loss: 0.0218 - 21ms/epoch - 2ms/step\n",
      "Epoch 18/50\n",
      "9/9 - 0s - loss: 0.0113 - val_loss: 0.0226 - 22ms/epoch - 2ms/step\n",
      "Epoch 19/50\n",
      "9/9 - 0s - loss: 0.0115 - val_loss: 0.0219 - 20ms/epoch - 2ms/step\n",
      "Epoch 20/50\n",
      "9/9 - 0s - loss: 0.0111 - val_loss: 0.0223 - 20ms/epoch - 2ms/step\n",
      "Epoch 21/50\n",
      "9/9 - 0s - loss: 0.0112 - val_loss: 0.0226 - 21ms/epoch - 2ms/step\n",
      "Epoch 22/50\n",
      "9/9 - 0s - loss: 0.0111 - val_loss: 0.0220 - 21ms/epoch - 2ms/step\n",
      "Epoch 23/50\n",
      "9/9 - 0s - loss: 0.0111 - val_loss: 0.0221 - 20ms/epoch - 2ms/step\n",
      "Epoch 24/50\n",
      "9/9 - 0s - loss: 0.0110 - val_loss: 0.0222 - 20ms/epoch - 2ms/step\n",
      "Epoch 25/50\n",
      "9/9 - 0s - loss: 0.0110 - val_loss: 0.0228 - 19ms/epoch - 2ms/step\n",
      "Epoch 26/50\n",
      "9/9 - 0s - loss: 0.0110 - val_loss: 0.0220 - 20ms/epoch - 2ms/step\n",
      "Epoch 27/50\n",
      "9/9 - 0s - loss: 0.0110 - val_loss: 0.0225 - 20ms/epoch - 2ms/step\n",
      "Epoch 28/50\n",
      "9/9 - 0s - loss: 0.0109 - val_loss: 0.0223 - 20ms/epoch - 2ms/step\n",
      "Epoch 29/50\n",
      "9/9 - 0s - loss: 0.0110 - val_loss: 0.0222 - 20ms/epoch - 2ms/step\n",
      "Epoch 30/50\n",
      "9/9 - 0s - loss: 0.0108 - val_loss: 0.0224 - 21ms/epoch - 2ms/step\n",
      "Epoch 31/50\n",
      "9/9 - 0s - loss: 0.0108 - val_loss: 0.0223 - 21ms/epoch - 2ms/step\n",
      "Epoch 32/50\n",
      "9/9 - 0s - loss: 0.0108 - val_loss: 0.0226 - 20ms/epoch - 2ms/step\n",
      "Epoch 33/50\n",
      "9/9 - 0s - loss: 0.0109 - val_loss: 0.0225 - 21ms/epoch - 2ms/step\n",
      "Epoch 34/50\n",
      "9/9 - 0s - loss: 0.0107 - val_loss: 0.0223 - 22ms/epoch - 2ms/step\n",
      "Epoch 35/50\n",
      "9/9 - 0s - loss: 0.0109 - val_loss: 0.0224 - 22ms/epoch - 2ms/step\n",
      "Epoch 36/50\n",
      "9/9 - 0s - loss: 0.0108 - val_loss: 0.0224 - 20ms/epoch - 2ms/step\n",
      "Epoch 37/50\n",
      "9/9 - 0s - loss: 0.0107 - val_loss: 0.0223 - 22ms/epoch - 2ms/step\n",
      "Epoch 38/50\n",
      "9/9 - 0s - loss: 0.0107 - val_loss: 0.0223 - 22ms/epoch - 2ms/step\n",
      "Epoch 39/50\n",
      "9/9 - 0s - loss: 0.0107 - val_loss: 0.0225 - 22ms/epoch - 2ms/step\n",
      "Epoch 40/50\n",
      "9/9 - 0s - loss: 0.0107 - val_loss: 0.0225 - 21ms/epoch - 2ms/step\n",
      "Epoch 41/50\n",
      "9/9 - 0s - loss: 0.0108 - val_loss: 0.0226 - 20ms/epoch - 2ms/step\n",
      "Epoch 42/50\n",
      "9/9 - 0s - loss: 0.0110 - val_loss: 0.0232 - 21ms/epoch - 2ms/step\n",
      "Epoch 43/50\n",
      "9/9 - 0s - loss: 0.0107 - val_loss: 0.0224 - 21ms/epoch - 2ms/step\n",
      "Epoch 44/50\n",
      "9/9 - 0s - loss: 0.0111 - val_loss: 0.0236 - 21ms/epoch - 2ms/step\n",
      "Epoch 45/50\n",
      "9/9 - 0s - loss: 0.0109 - val_loss: 0.0223 - 21ms/epoch - 2ms/step\n",
      "Epoch 46/50\n",
      "9/9 - 0s - loss: 0.0106 - val_loss: 0.0231 - 21ms/epoch - 2ms/step\n",
      "Epoch 47/50\n",
      "9/9 - 0s - loss: 0.0107 - val_loss: 0.0228 - 21ms/epoch - 2ms/step\n",
      "Epoch 48/50\n",
      "9/9 - 0s - loss: 0.0105 - val_loss: 0.0226 - 21ms/epoch - 2ms/step\n",
      "Epoch 49/50\n",
      "9/9 - 0s - loss: 0.0107 - val_loss: 0.0233 - 22ms/epoch - 2ms/step\n",
      "Epoch 50/50\n",
      "9/9 - 0s - loss: 0.0105 - val_loss: 0.0227 - 22ms/epoch - 2ms/step\n"
     ]
    },
    {
     "data": {
      "text/plain": [
       "<keras.src.callbacks.History at 0x157213550>"
      ]
     },
     "execution_count": 14,
     "metadata": {},
     "output_type": "execute_result"
    }
   ],
   "source": [
    "model.fit(X_train, y_train, epochs=50, batch_size=32, validation_data=(X_test, y_test), verbose=2)"
   ]
  },
  {
   "cell_type": "code",
   "execution_count": 15,
   "id": "abd4a3bf330cb0c4",
   "metadata": {
    "ExecuteTime": {
     "end_time": "2023-12-04T19:33:20.032686Z",
     "start_time": "2023-12-04T19:33:19.952001Z"
    }
   },
   "outputs": [
    {
     "name": "stdout",
     "output_type": "stream",
     "text": [
      "3/3 [==============================] - 0s 1ms/step\n"
     ]
    }
   ],
   "source": [
    "y_pred = model.predict(X_test)"
   ]
  },
  {
   "cell_type": "code",
   "execution_count": 16,
   "id": "8851347ee24978d5",
   "metadata": {
    "ExecuteTime": {
     "end_time": "2023-12-04T19:33:20.036095Z",
     "start_time": "2023-12-04T19:33:20.032787Z"
    }
   },
   "outputs": [],
   "source": [
    "y_pred_inv = scaler.inverse_transform(np.concatenate((X_test[:, -1, :], y_pred), axis=1))[:, -1]"
   ]
  },
  {
   "cell_type": "code",
   "execution_count": 17,
   "id": "9b3f07b7e81c934",
   "metadata": {
    "ExecuteTime": {
     "end_time": "2023-12-04T19:33:20.036630Z",
     "start_time": "2023-12-04T19:33:20.035082Z"
    }
   },
   "outputs": [],
   "source": [
    "y_test_inv = scaler.inverse_transform(np.concatenate((X_test[:, -1, :], y_test.reshape(-1, 1)), axis=1))[:, -1]"
   ]
  },
  {
   "cell_type": "code",
   "execution_count": 18,
   "id": "9a481aacc4658cc0",
   "metadata": {
    "ExecuteTime": {
     "end_time": "2023-12-04T19:33:20.040279Z",
     "start_time": "2023-12-04T19:33:20.037245Z"
    }
   },
   "outputs": [],
   "source": [
    "rmsle = np.sqrt(mean_squared_error(np.log1p(y_test_inv), np.log1p(y_pred_inv)))"
   ]
  },
  {
   "cell_type": "code",
   "execution_count": 19,
   "id": "c29bb8820692bdd9",
   "metadata": {
    "ExecuteTime": {
     "end_time": "2023-12-04T19:33:20.040970Z",
     "start_time": "2023-12-04T19:33:20.039354Z"
    }
   },
   "outputs": [
    {
     "name": "stdout",
     "output_type": "stream",
     "text": [
      "Root Mean Squared Logarithmic Error (RMSLE): 0.3258309736322978\n"
     ]
    }
   ],
   "source": [
    "print(f\"Root Mean Squared Logarithmic Error (RMSLE): {rmsle}\")"
   ]
  },
  {
   "cell_type": "code",
   "execution_count": 20,
   "id": "c1ada3e8231fccd6",
   "metadata": {
    "ExecuteTime": {
     "end_time": "2023-12-04T19:33:20.119294Z",
     "start_time": "2023-12-04T19:33:20.041480Z"
    }
   },
   "outputs": [
    {
     "data": {
      "image/png": "[encoded data removed]",
      "text/plain": [
       "<Figure size 1200x600 with 1 Axes>"
      ]
     },
     "metadata": {},
     "output_type": "display_data"
    }
   ],
   "source": [
    "plt.figure(figsize=(12, 6))\n",
    "plt.plot(y_test_inv, label='Actual')\n",
    "plt.plot(y_pred_inv, label='LSTM Predictions')\n",
    "plt.legend()\n",
    "plt.show()"
   ]
  }
 ],
 "metadata": {
  "kernelspec": {
   "display_name": "Python 3 (ipykernel)",
   "language": "python",
   "name": "python3"
  },
  "language_info": {
   "codemirror_mode": {
    "name": "ipython",
    "version": 3
   },
   "file_extension": ".py",
   "mimetype": "text/x-python",
   "name": "python",
   "nbconvert_exporter": "python",
   "pygments_lexer": "ipython3",
   "version": "3.11.5"
  }
 },
 "nbformat": 4,
 "nbformat_minor": 5
}
